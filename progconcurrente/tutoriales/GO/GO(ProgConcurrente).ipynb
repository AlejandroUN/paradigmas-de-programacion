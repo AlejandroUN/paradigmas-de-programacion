{
 "cells": [
  {
   "cell_type": "markdown",
   "metadata": {},
   "source": [
    "# TUTORIAL GO\n",
    "### Presentación:    \n",
    "https://docs.google.com/presentation/d/1JK39YtjPw88OTv5lA2GTS8o-TqO1JHbIfBX07EcYjQE/edit?usp=sharing"
   ]
  },
  {
   "cell_type": "markdown",
   "metadata": {},
   "source": [
    "## Primeros Pasos\n",
    "###  Historia:\n",
    "Go (o Golang) es un lenguaje de programación moderno, creado en 2007 por Robert Griesemer, Rob Pike y Ken Thompson y lanzado en 2009. Trata de aprender de los errores de otros lenguajes de programación más antiguos, tomando lo mejor de cada uno y eliminando las limitaciones o problemas que estos nos presentan."
   ]
  },
  {
   "cell_type": "markdown",
   "metadata": {},
   "source": [
    "### Lenguaje Go: \n",
    "Go nace de la necesidad de crear un lenguaje donde:\n",
    "- La programación no sea algo difícil\n",
    "- El desarrollador no se sienta frustrado constantemente\n",
    "- La eficiencia del programa resultante sea suficientemente buena\n",
    "\n",
    "En los lenguajes de programación tradicionales, era necesario escoger entre una rápida velocidad de ejecución, rápida velocidad de compilación o sencillez en la lectura y escritura del lenguaje . En la filosofía Go, estos tres elementos son posibles al mismo tiempo.\n",
    "- *\"Es un lenguaje que busca lo que ningún otro ha conseguido: eficiencia de un lenguaje compilado y la sencillez de un lenguaje de scripting.\"*"
   ]
  },
  {
   "cell_type": "markdown",
   "metadata": {},
   "source": [
    "## Go Particularidades\n",
    "\n",
    "- Go toma prestada la escritura estática y la eficiencia del tiempo de ejecución de C.\n",
    "- Tiene la legibilidad y usabilidad de Python y JavaScript\n",
    "- No requiere la inicialización explícita de variables\n",
    "\n",
    "\n",
    "### Ventajas:\n",
    "- Simplicidad\n",
    "- Pequeñas curvas de aprendizaje\n",
    "- Facilidad de uso\n",
    "- Velocidad\n",
    "- Herramientas extensas\n",
    "\n",
    "\n",
    "### Desventajas:\n",
    "- Demasiado simple algunas veces\n",
    "- Todavía es un lenguaje reciente\n",
    "- No hay biblioteca GUI\n",
    "- Falta de una máquina virtual\n",
    "- No ha encontrado su nicho"
   ]
  },
  {
   "cell_type": "markdown",
   "metadata": {},
   "source": [
    "## Tour por el Lenguaje\n",
    "### Conceptos Básicos:\n",
    "#### Paquetes:\n",
    "Todo archivo de Go debe empezar siempre con una declaración package"
   ]
  },
  {
   "cell_type": "code",
   "execution_count": null,
   "metadata": {},
   "outputs": [],
   "source": [
    "package main"
   ]
  },
  {
   "cell_type": "markdown",
   "metadata": {},
   "source": [
    "#### Import: \n",
    "Los archivos Go casi siempre tienen declaraciones import "
   ]
  },
  {
   "cell_type": "code",
   "execution_count": 1,
   "metadata": {},
   "outputs": [],
   "source": [
    "import \"fmt\""
   ]
  },
  {
   "cell_type": "markdown",
   "metadata": {},
   "source": [
    "#### Estructura de un archivo Go:\n",
    "\n",
    "La función main es la que siempre se ejecuta primero:\n",
    "```go\n",
    "package main\n",
    "\n",
    "import (\n",
    "\t\"fmt\"\n",
    ")\n",
    "\n",
    "func main() {\n",
    "\tfmt.Println(\"Hola Mundo\")\n",
    "}\n",
    "```\n",
    "\n",
    "#### Ejemplos: Valores"
   ]
  },
  {
   "cell_type": "code",
   "execution_count": 2,
   "metadata": {},
   "outputs": [
    {
     "name": "stdout",
     "output_type": "stream",
     "text": [
      "Hola Mundo\n",
      "golang\n",
      "1.0/2.0 = 0.5\n",
      "4 < 7 = true\n",
      "false\n",
      "Mi numero favorito es: 1\n"
     ]
    },
    {
     "data": {
      "text/plain": [
       "25 <nil>"
      ]
     },
     "execution_count": 2,
     "metadata": {},
     "output_type": "execute_result"
    }
   ],
   "source": [
    "import (\n",
    "\t\"fmt\"\n",
    "\t\"math/rand\"\n",
    ")\n",
    "\n",
    "    fmt.Println(\"Hola Mundo\")\n",
    "    fmt.Println(\"go\" + \"lang\")\n",
    "    fmt.Println(\"1.0/2.0 =\", 1.0/2.0)\n",
    "    fmt.Println(\"4 < 7 =\", 4 < 7)\n",
    "    fmt.Println(true && false)\n",
    "    fmt.Println(\"Mi numero favorito es:\", rand.Intn(10))"
   ]
  },
  {
   "cell_type": "markdown",
   "metadata": {},
   "source": [
    "**Nota** *: Go distingue entre mayúsculas y minúsculas*\n",
    "\n",
    "### Variables y Constantes\n",
    "\n",
    "- En Go, las variables son declaradas explícitamente, **var** se usa para declarar una o más variables. Se puede declarar múltiples variables en una línea.\n",
    "\n",
    "- Go soporta *constantes* de tipo carácter, cadena, booleano y valores numéricos.\n"
   ]
  },
  {
   "cell_type": "code",
   "execution_count": 3,
   "metadata": {},
   "outputs": [
    {
     "name": "stdout",
     "output_type": "stream",
     "text": [
      "constant string\n",
      "Prueba string\n",
      "9 int 10 int\n",
      "true bool\n",
      "0 int\n"
     ]
    },
    {
     "data": {
      "text/plain": [
       "6 <nil>"
      ]
     },
     "execution_count": 3,
     "metadata": {},
     "output_type": "execute_result"
    }
   ],
   "source": [
    "import \"reflect\"\n",
    "\n",
    "const s string = \"constant\"\n",
    "fmt.Println(s, reflect.TypeOf(s))\n",
    "\n",
    "    var a string = \"Prueba\"\n",
    "    fmt.Println(a, reflect.TypeOf(a))\n",
    "\n",
    "    var b, c int = 9, 10\n",
    "    fmt.Println(b,reflect.TypeOf(b), c, reflect.TypeOf(c))\n",
    "\n",
    "    var d = true\n",
    "    fmt.Println(d, reflect.TypeOf(d))\n",
    "\n",
    "    var e int\n",
    "    fmt.Println(e, reflect.TypeOf(e))"
   ]
  },
  {
   "cell_type": "markdown",
   "metadata": {},
   "source": [
    "**Nota**: \n",
    "- *El valor por defecto de una variable sin inicializar es*  **cero**.  \n",
    "- *Las constantes pueden hacer dentro y fuera de la función main.*   \n",
    "- *La syntaxis := es la abreviación para declarar e inicializar una variable*\n",
    "\n",
    "\n",
    "### TIPOS DE DATOS\n",
    "\n",
    "Las variables tienen por defecto 0 o false en el caso del bool\n",
    "\n",
    "```\n",
    "\n",
    "- bool ----->  true, false\n",
    "- int8 ----->  -128....127\n",
    "- int16 -----> -32768….32767\n",
    "- int32 -----> -2147483648...2147483647\n",
    "- int64 -----> -9223372034854775808….9223372036854775807\n",
    "- float32 -----> Real (punto flotante) de 32 bits\n",
    "- float64 -----> Real (punto flotante) de 64 bits\n",
    "- complex64 ----->números complejos con partes real e imaginaria de 32 bits\n",
    "- complex128 ----->números complejos con partes real e imaginaria de 64 bits\n",
    "- uint8 ----->  0...255\n",
    "- uint16 ----->0....65535\n",
    "- uint32 ----->0...4294967295\n",
    "- uint64 -----> 0….18446744073709551615\n",
    "- byte -----> igual que uint8\n",
    "- rune -----> igual que int32\n",
    "- uint -----> igual que uint32\n",
    "- int -----> igual que int32\n",
    "- uintptr -----> entero suficientemente para almacenar un puntero\n",
    "- string -----> array inmutable de bits que representa caracteres\n",
    "```\n",
    "\n",
    " <table style=\"width:75%; text-align: center%\">\n",
    "  <tr>\n",
    "    <th>Operadores</th>\n",
    "    <th>Significado</th>\n",
    "    <th>Tipo de dato</th>\n",
    "  </tr>\n",
    "  <tr>\n",
    "    <td>&&</td>\n",
    "    <td>Y</td>\n",
    "    <td>logicos</td>\n",
    "  </tr>\n",
    "  <tr>\n",
    "    <td>||</td>\n",
    "    <td>O</td>\n",
    "    <td>logicos</td>\n",
    "  </tr>\n",
    "   <tr>\n",
    "    <td>!</td>\n",
    "    <td>NO</td>\n",
    "    <td>logicos</td>\n",
    "  </tr>\n",
    "   <tr>\n",
    "    <td>+</td>\n",
    "    <td>Suma</td>\n",
    "    <td>enteros, float, complex,string</td>\n",
    "  </tr>\n",
    "  <tr>\n",
    "    <td>-</td>\n",
    "    <td>Resta</td>\n",
    "    <td>enteros, float, complex</td>\n",
    "  </tr>\n",
    "  <tr>\n",
    "    <td>*</td>\n",
    "    <td>Multiplicacion</td>\n",
    "    <td>enteros, float, complex</td>\n",
    "  </tr>\n",
    "  <tr>\n",
    "    <td>/</td>\n",
    "    <td>Division</td>\n",
    "    <td>enteros, float, complex</td>\n",
    "  </tr>\n",
    "  <tr>\n",
    "    <td>%</td>\n",
    "    <td>Modulo</td>\n",
    "    <td>enteros</td>\n",
    "  </tr>\n",
    "  <tr>\n",
    "    <td>&</td>\n",
    "    <td>Y(bit a bit)</td>\n",
    "    <td>enteros</td>\n",
    "  </tr>\n",
    "   <tr>\n",
    "    <td>|</td>\n",
    "    <td>O(bit a bit)</td>\n",
    "    <td>enteros</td>\n",
    "  </tr>\n",
    "   <tr>\n",
    "    <td>^</td>\n",
    "    <td>XOR(bit a bit)</td>\n",
    "    <td>enteros</td>\n",
    "  </tr>\n",
    "   <tr>\n",
    "    <td>&^</td>\n",
    "    <td>Y NO(limpiar bits)</td>\n",
    "    <td>enteros</td>\n",
    "  </tr>\n",
    "  <tr>\n",
    "    <td><<</td>\n",
    "    <td>Desplazamiento a izquierda</td>\n",
    "    <td>enteros</td>\n",
    "  </tr>\n",
    "  <tr>\n",
    "    <td>>></td>\n",
    "    <td>Desplazamiento a derecha</td>\n",
    "    <td>enteros</td>\n",
    "  </tr>\n",
    "  <tr>\n",
    "    <td>==</td>\n",
    "    <td>Igualdad</td>\n",
    "    <td>Todo tipo de dato</td>\n",
    "  </tr>\n",
    "  <tr>\n",
    "    <td>!=</td>\n",
    "    <td>Diferencia</td>\n",
    "    <td>Todo tipo de dato</td>\n",
    "  </tr>\n",
    "  <tr>\n",
    "    <td>></td>\n",
    "    <td>Mayor que</td>\n",
    "    <td>Todo tipo de dato</td>\n",
    "  </tr>\n",
    "   <tr>\n",
    "    <td><</td>\n",
    "    <td>Menor que</td>\n",
    "    <td>Todo tipo de dato</td>\n",
    "  </tr>\n",
    "   <tr>\n",
    "    <td>>=</td>\n",
    "    <td>Mayor o igual que</td>\n",
    "    <td>Todo tipo de dato</td>\n",
    "  </tr>\n",
    "   <tr>\n",
    "    <td><=</td>\n",
    "    <td>Menor o igual que</td>\n",
    "    <td>Todo tipo de dato</td>\n",
    "  </tr>\n",
    "</table>"
   ]
  },
  {
   "cell_type": "markdown",
   "metadata": {},
   "source": [
    "## Sentencias de Control:\n",
    "\n",
    "### For:\n",
    "\n",
    "\n",
    "*For* es la única estructura de control iterativa en Go. Hay tres tipos básicos de ciclos for:"
   ]
  },
  {
   "cell_type": "code",
   "execution_count": 4,
   "metadata": {},
   "outputs": [
    {
     "name": "stdout",
     "output_type": "stream",
     "text": [
      "1\n",
      "2\n",
      "3\n",
      "7\n",
      "8\n",
      "9\n",
      "loop\n"
     ]
    }
   ],
   "source": [
    "    i := 1\n",
    "    for i <= 3 { //El tipo más básico, con una condición sencilla.\n",
    "        fmt.Println(i)\n",
    "        i = i + 1\n",
    "    } \n",
    "\n",
    "    for j := 7; j <= 9; j++ { //El clásico ciclo for con estructura inicializar/condición/después.\n",
    "        fmt.Println(j)\n",
    "    }\n",
    "\n",
    "    for { //sin ninguna condición iterará repetidamente hasta que se use break para salir del ciclo o return para regresar un valor de la función que lo contiene.\n",
    "        fmt.Println(\"loop\")\n",
    "        break\n",
    "    }"
   ]
  },
  {
   "cell_type": "markdown",
   "metadata": {},
   "source": [
    "### If / Else:\n",
    "La derivación con if y else en Go se hace de manera directa."
   ]
  },
  {
   "cell_type": "code",
   "execution_count": 5,
   "metadata": {},
   "outputs": [
    {
     "name": "stdout",
     "output_type": "stream",
     "text": [
      "7 es impar\n",
      "8 es divisible entre 4\n",
      "9 tiene 1 digito\n"
     ]
    }
   ],
   "source": [
    "    if 7%2 == 0 { // Ejemplo básico.\n",
    "        fmt.Println(\"7 es par\")\n",
    "    } else {\n",
    "        fmt.Println(\"7 es impar\")\n",
    "    }\n",
    "\n",
    "    if 8%4 == 0 { // Puedes utilizar un `if` sin un else.\n",
    "        fmt.Println(\"8 es divisible entre 4\")\n",
    "    }\n",
    "\n",
    "    // Los condicionales pueden ser precedidos por una declaración; cualquier\n",
    "    // variable declarada en dicha declaración estará disponible en todas las derivaciones.\n",
    "\n",
    "    if num := 9; num < 0 {\n",
    "        fmt.Println(num, \"es negativo\")\n",
    "    } else if num < 10 {\n",
    "        fmt.Println(num, \"tiene 1 digito\")\n",
    "    } else {\n",
    "        fmt.Println(num, \"tiene multiples digitos\")\n",
    "    }"
   ]
  },
  {
   "cell_type": "markdown",
   "metadata": {},
   "source": [
    "**Nota** *: Go no necesita los paréntesis alrededor de las condiciones en Go, pero las llaves {} si son obligatorias.*\n",
    "\n",
    "\n",
    "### Switch:\n",
    "\n",
    "Al igual que en el if es posible definir una variable al inicio. En cada caso el break es usado automáticamente."
   ]
  },
  {
   "cell_type": "code",
   "execution_count": 6,
   "metadata": {},
   "outputs": [
    {
     "name": "stdout",
     "output_type": "stream",
     "text": [
      "¿Cuándo es Sábado?\n",
      "En tres días!\n"
     ]
    }
   ],
   "source": [
    "import (\n",
    "\t\"time\"\n",
    ")\n",
    "\n",
    "\tfmt.Println(\"¿Cuándo es Sábado?\")\n",
    "\ttoday := time.Now().Weekday()\n",
    "\tswitch time.Saturday {\n",
    "\tcase today + 0:\n",
    "\t\tfmt.Println(\"Hoy!\")\n",
    "\tcase today + 1:\n",
    "\t\tfmt.Println(\"Mañana!\")\n",
    "\tcase today + 2:\n",
    "\t\tfmt.Println(\"En dos días!\")\n",
    "    case today + 3:\n",
    "\t\tfmt.Println(\"En tres días!\")\n",
    "\tdefault:\n",
    "\t\tfmt.Println(\"Todavía falta mucho!\")\n",
    "\t}"
   ]
  },
  {
   "cell_type": "markdown",
   "metadata": {},
   "source": [
    "## Arreglos:\n",
    "\n",
    "### Arrays: \n",
    "Los arreglos funcionan como colecciones de elementos."
   ]
  },
  {
   "cell_type": "code",
   "execution_count": 7,
   "metadata": {},
   "outputs": [
    {
     "name": "stdout",
     "output_type": "stream",
     "text": [
      "Ana David\n",
      "[Ana Brenda Carmen David]\n",
      "[2 3 5 7 11 13]\n"
     ]
    },
    {
     "data": {
      "text/plain": [
       "16 <nil>"
      ]
     },
     "execution_count": 7,
     "metadata": {},
     "output_type": "execute_result"
    }
   ],
   "source": [
    "    var alumnos [4]string\n",
    "\n",
    "    alumnos[0] = \"Ana\"\n",
    "    alumnos[1] = \"Brenda\"\n",
    "    alumnos[2] = \"Carmen\"\n",
    "    alumnos[3] = \"David\"\n",
    "    \n",
    "    fmt.Println(alumnos[0],alumnos[3])\n",
    "    fmt.Println(alumnos)\n",
    "\n",
    "\n",
    "    primos := [6]int{2, 3, 5, 7, 11, 13}\n",
    "\tfmt.Println(primos)"
   ]
  },
  {
   "cell_type": "markdown",
   "metadata": {},
   "source": [
    "### SLICES\n",
    "Un arreglo tiene un tamaño fijo, mientras que una slice (porciones) son secciones de arreglos, estas no almacenan datos, solo hacen referencia a secciones especificas de un arreglo.\n",
    "“[] T” es una slice con elementos de tipo T. <li>\n",
    "Expresiones equivalentes:\n",
    "<ul>\n",
    "<li>a[0:10] </li>\n",
    "<li>a[:10] </li>\n",
    "<li>a[0:]</li>\n",
    "<li>a[:]</li>\n",
    "</ul>"
   ]
  },
  {
   "cell_type": "code",
   "execution_count": 8,
   "metadata": {},
   "outputs": [
    {
     "data": {
      "text/plain": [
       "[Brenda Carmen David]"
      ]
     },
     "execution_count": 8,
     "metadata": {},
     "output_type": "execute_result"
    }
   ],
   "source": [
    "alumnos[1:4]"
   ]
  },
  {
   "cell_type": "markdown",
   "metadata": {},
   "source": [
    "### Mapas: \n",
    "Los Mapas son el tipo de datos asociativo de Go. (también conocidos como Diccionarios o Hashes en otros lenguajes)."
   ]
  },
  {
   "cell_type": "code",
   "execution_count": 9,
   "metadata": {},
   "outputs": [
    {
     "name": "stdout",
     "output_type": "stream",
     "text": [
      "map: map[k1:7 k2:13]\n",
      "v1:  7\n",
      "len: 2\n",
      "map: map[k1:7]\n",
      "map: map[foo:1 bar:2]\n"
     ]
    },
    {
     "data": {
      "text/plain": [
       "22 <nil>"
      ]
     },
     "execution_count": 9,
     "metadata": {},
     "output_type": "execute_result"
    }
   ],
   "source": [
    "    m := make(map[string]int) // Para crear un mapa vacío, se utiliza `make`:`make(map[key-type]val-type)`.\n",
    "\n",
    "\n",
    "    // Se pueden establecer los pares de llaves/valores utilizando la sintaxis típica `name[key] = val`.\n",
    "    m[\"k1\"] = 7\n",
    "    m[\"k2\"] = 13\n",
    "\n",
    "    // Si se presenta el mapa con e.g. `Println` muestra todos sus pares de llaves/valores.\n",
    "    fmt.Println(\"map:\", m)\n",
    "\n",
    "    // Se obtiene el valor de una llave con la sintaxis `name[key]`.\n",
    "    v1 := m[\"k1\"]\n",
    "    fmt.Println(\"v1: \", v1)\n",
    "\n",
    "    // La función `len` regresa el número de pares llave/valor cuando\n",
    "    // se utiliza con un mapa.\n",
    "    fmt.Println(\"len:\", len(m))\n",
    "\n",
    "    // La función `delete` elimina pares llave/valor de un mapa.\n",
    "    delete(m, \"k2\")\n",
    "    fmt.Println(\"map:\", m)\n",
    "\n",
    "\n",
    "    // También puedes declarar e inicializar un mapa nuevo\n",
    "    // en una sola línea con la sintaxis:\n",
    "    n := map[string]int{\"foo\": 1, \"bar\": 2}\n",
    "    fmt.Println(\"map:\", n)"
   ]
  },
  {
   "cell_type": "markdown",
   "metadata": {},
   "source": [
    "## Funciones:\n",
    "\n",
    "\n",
    "Las Funciones son una parte escencial de Go.\n",
    "\n",
    "**Estructura de una función**\n",
    "```go\n",
    "package main\n",
    "\n",
    "import \"fmt\"\n",
    "\n",
    "func plus(a int, b int) int {\n",
    "    return a + b\n",
    "}\n",
    "\n",
    "func main() {\n",
    "\tres := plus(1, 2)\n",
    "    fmt.Println(\"1+2 =\", res)\n",
    "}\n",
    "```"
   ]
  },
  {
   "cell_type": "code",
   "execution_count": 10,
   "metadata": {},
   "outputs": [
    {
     "name": "stdout",
     "output_type": "stream",
     "text": [
      "1+2 = 3\n"
     ]
    },
    {
     "data": {
      "text/plain": [
       "8 <nil>"
      ]
     },
     "execution_count": 10,
     "metadata": {},
     "output_type": "execute_result"
    }
   ],
   "source": [
    "\n",
    "func suma(a int, b int) /*Funcion que recibe dos valores `int` */ int { \n",
    "   //regresa la suma de los mismos como `int`.\n",
    "    return a + b\n",
    "}\n",
    "\n",
    "    resultado := suma(1, 2)\n",
    "    fmt.Println(\"1+2 =\", resultado)\n"
   ]
  },
  {
   "cell_type": "markdown",
   "metadata": {},
   "source": [
    "**Nota**: \n",
    "- *En GO las funciones pueden tener cero o más argumentos y pueden retornar más de un valor.*\n",
    "- *Cuando dos o más parámetros de la función son del mismo tipo, se puede omitir el tipo de todos, menos el último.*\n",
    "\n",
    "## Apuntadores:\n",
    "Go soporta apuntadores, lo cual nos permite pasar referencias de valores y datos entre las funciones de nuestro programa."
   ]
  },
  {
   "cell_type": "code",
   "execution_count": 11,
   "metadata": {},
   "outputs": [
    {
     "name": "stdout",
     "output_type": "stream",
     "text": [
      "10\n",
      "21\n",
      "9\n"
     ]
    },
    {
     "data": {
      "text/plain": [
       "2 <nil>"
      ]
     },
     "execution_count": 11,
     "metadata": {},
     "output_type": "execute_result"
    }
   ],
   "source": [
    "    i, j := 10, 27\n",
    "\n",
    "\tp := &i         // apunta a i\n",
    "\tfmt.Println(*p) // lee i atraves del puntero\n",
    "\t*p = 21         // asigna i a traves del puntero\n",
    "\tfmt.Println(i)  // ve el nuevo valor de i\n",
    "\n",
    "\tp = &j         // apunta a j\n",
    "\t*p = *p / 3   // divide j a traves del puntero\n",
    "\tfmt.Println(j) // ve el nuevo valor de j\n",
    "\n"
   ]
  },
  {
   "cell_type": "markdown",
   "metadata": {},
   "source": [
    "## Structs: (Estructuras)\n",
    "Los *structs* en go son colecciones de campos con tipos específicos. Son útiles para agrupar datos y formar registros."
   ]
  },
  {
   "cell_type": "code",
   "execution_count": 12,
   "metadata": {},
   "outputs": [
    {
     "name": "stdout",
     "output_type": "stream",
     "text": [
      "{Bob 20}\n",
      "{Alice 30}\n",
      "{Fred 0}\n",
      "&{Ann 40}\n",
      "Sean\n",
      "50\n"
     ]
    },
    {
     "data": {
      "text/plain": [
       "3 <nil>"
      ]
     },
     "execution_count": 12,
     "metadata": {},
     "output_type": "execute_result"
    }
   ],
   "source": [
    "type persona struct { //El struct persona tiene los campos nombre y edad.\n",
    "    nombre string\n",
    "    edad   int\n",
    "}\n",
    "\n",
    "    // Esta sintaxis crea una instancia de un struct.\n",
    "    fmt.Println(persona{\"Bob\", 20})\n",
    "\n",
    "    // Puedes nombrar los campos cuando inicializas un struct.\n",
    "    fmt.Println(persona{nombre: \"Alice\", edad: 30})\n",
    "\n",
    "    // Los campos omitidos serán de valor cero.\n",
    "    fmt.Println(persona{nombre: \"Fred\"})\n",
    "\n",
    "    // El prefijo `&` devuelve el apuntador a un struct.\n",
    "    fmt.Println(&persona{nombre: \"Ann\", edad: 40})\n",
    "\n",
    "    // Puedes acceder a los campos del struct con un punto.\n",
    "    s := persona{nombre: \"Sean\", edad: 50}\n",
    "    fmt.Println(s.nombre)\n",
    "\n",
    "    // También puedes usar puntos con apuntadores a struct -\n",
    "    // los apuntadores son automáticamente dereferenciados.\n",
    "    sp := &s\n",
    "    fmt.Println(sp.edad)"
   ]
  },
  {
   "cell_type": "markdown",
   "metadata": {},
   "source": [
    "## Métodos\n",
    "- Go soporta definir métodos para structs.\n",
    "- Aunque go no cuenta con clases, se pueden colocar métodos a las estructuras que definimos como tipos"
   ]
  },
  {
   "cell_type": "code",
   "execution_count": null,
   "metadata": {},
   "outputs": [],
   "source": [
    "type rect struct {\n",
    "    width, height int\n",
    "}\n",
    "\n",
    "func (r *rect) area() int { //Este método area tiene un tipo receptor *rect.\n",
    "    return r.width * r.height\n",
    "}\n",
    "\n",
    "func (r rect) perim() int { //Los métodos pueden ser definidos para receptores de tipo apuntador o por valor. \n",
    "    return 2*r.width + 2*r.height\n",
    "}\n",
    "\n",
    "\n",
    "r := rect{width: 10, height: 5}\n",
    "\n",
    "fmt.Println(\"area: \", r.area())\n",
    "fmt.Println(\"perim:\", r.perim())\n",
    "\n",
    "rp := &r\n",
    "fmt.Println(\"area: \", rp.area())\n",
    "fmt.Println(\"perim:\", rp.perim())"
   ]
  },
  {
   "cell_type": "markdown",
   "metadata": {},
   "source": [
    "area:  50\n",
    "perim: 30\n",
    "area:  50\n",
    "perim: 30"
   ]
  },
  {
   "cell_type": "markdown",
   "metadata": {},
   "source": [
    "**Nota**: *El método consta de:*\n",
    "- *El puntero al tipo donde este se va a aplicar *rect.*\n",
    "- *El nombre del método area(),perim() y argumentos si se requirieran.*\n",
    "- *El o los valores de retorno del método int(opcional).*\n",
    "- *El return que usa la propiedad width,height de la estructura para calcular el área.*\n",
    "\n",
    "\n",
    "## Interfaces\n",
    "Una interface es una plantilla de métodos y es utilizado para proporcionar modularidad a Go"
   ]
  },
  {
   "cell_type": "code",
   "execution_count": null,
   "metadata": {},
   "outputs": [],
   "source": [
    "    import \"math\"\n",
    "\n",
    "    type geometrica interface {//Aquí podemos ver la interfaz básica de una figura geométrica.\n",
    "        area() float64\n",
    "        perim() float64\n",
    "    }\n",
    "\n",
    "    type cuadro struct {\n",
    "        ancho, altura float64\n",
    "    }\n",
    "    type circulo struct {\n",
    "        radio float64\n",
    "    }\n",
    "\n",
    "\n",
    "    func (s cuadro) area() float64 {\n",
    "        return s.ancho * s.altura\n",
    "    }\n",
    "    func (s cuadro) perim() float64 {\n",
    "        return 2*s.ancho + 2*s.altura\n",
    "    }\n",
    "\n",
    "    func (c circulo) area() float64 {\n",
    "        return math.Pi * c.radio * c.radio\n",
    "    }\n",
    "    func (c circulo) perim() float64 {\n",
    "        return 2 * math.Pi * c.radio\n",
    "    }\n",
    "\n",
    "    func medida(g geometrica) {\n",
    "        fmt.Println(g)\n",
    "        fmt.Println(g.area())\n",
    "        fmt.Println(g.perim())\n",
    "    }\n",
    "\n",
    "\n",
    "    s := cuadro{ancho: 3, altura: 4}\n",
    "    c := circulo{radio: 5}\n",
    "\n",
    "    medida(s)\n",
    "    medida(c)"
   ]
  },
  {
   "cell_type": "markdown",
   "metadata": {},
   "source": [
    "{3 4}\n",
    "12\n",
    "14\n",
    "{5}\n",
    "78.53981633974483\n",
    "31.41592653589793"
   ]
  },
  {
   "cell_type": "markdown",
   "metadata": {},
   "source": [
    "## Concurrencia\n",
    "### GORoutines\n",
    "\n",
    "Una goroutine es un hilo “ligero” gestionado por tiempo de ejecución de GO. Estas rutinas se corren en el mismo espacio de direcciones lo que implica que el acceso a la memoria deba ser sincronizado."
   ]
  },
  {
   "cell_type": "code",
   "execution_count": null,
   "metadata": {},
   "outputs": [],
   "source": [
    "import \"time\"\n",
    "\n",
    "func say(s string) {\n",
    "    for i := 0; i < 5; i++ {\n",
    "        time.Sleep(100 * time.Millisecond)\n",
    "        fmt.Println(s)\n",
    "    }\n",
    "}\n",
    "\n",
    "func main() {\n",
    "    go say(\"world\")\n",
    "    say(\"hello\")\n",
    "}"
   ]
  },
  {
   "cell_type": "markdown",
   "metadata": {},
   "source": [
    "## EJEMPLOS\n",
    "#### EJERCICIO SIMPLE"
   ]
  },
  {
   "cell_type": "code",
   "execution_count": null,
   "metadata": {},
   "outputs": [],
   "source": [
    "package main\n",
    "\n",
    "import (\n",
    "    \"fmt\"\n",
    "    \"os\"\n",
    "\t\"time\"\n",
    ")\n",
    "\n",
    "func main() {\n",
    "\tstart := time.Now()\n",
    "\n",
    "    f, err := os.Create(\"mi_archivo.txt\")\n",
    "    if err != nil {\n",
    "        panic(err)\n",
    "\t}\n",
    "\n",
    "    final := 16777215\n",
    "    for i := 0; i <= final; i++ {\n",
    "        _, err = f.WriteString(fmt.Sprintf(\"%06x\\n\", i))\n",
    "        if err != nil {\n",
    "            panic(err)\n",
    "        }\n",
    "    }\n",
    "\n",
    "\telapsed := time.Since(start)\n",
    "\tfmt.Println(elapsed)\n",
    "}\n",
    "\n"
   ]
  },
  {
   "cell_type": "markdown",
   "metadata": {},
   "source": [
    "344.893278ms"
   ]
  },
  {
   "cell_type": "markdown",
   "metadata": {},
   "source": [
    "#### mi_archivo.txt\n",
    "000000  \n",
    "000001  \n",
    "000002  \n",
    "000003  \n",
    "000004  \n",
    "000005  \n",
    "000006  \n",
    "000007  \n",
    "000008  \n",
    "000009  \n",
    "00000a  \n",
    "00000b  \n",
    "00000c  \n",
    "00000d  \n",
    "00000e  \n",
    "...  "
   ]
  },
  {
   "cell_type": "markdown",
   "metadata": {},
   "source": [
    "#### EJERCICIO CON CONCURRENCIA"
   ]
  },
  {
   "cell_type": "code",
   "execution_count": null,
   "metadata": {},
   "outputs": [],
   "source": [
    "package main\n",
    "\n",
    "import (\n",
    "    \"fmt\"\n",
    "    \"os\"\n",
    "\t\"time\"\n",
    ")\n",
    "\n",
    "func calcNums(start, end int, f *os.File, doneCh chan struct{}){\n",
    "\tfor i := start; i <= end; i++ {\n",
    "\t\t_, err := f.WriteString(fmt.Sprintf(\"%06x\\n\", i))\n",
    "\t\tif err != nil {\n",
    "\t\t\tpanic(err)\n",
    "\t\t}\n",
    "\t}\n",
    "\tdoneCh <- struct{}{}\n",
    "}\n",
    "\n",
    "func main() {\n",
    "\tstart := time.Now()\n",
    "\n",
    "    f, err := os.Create(\"mi_archivo_concurrente.txt\")\n",
    "    if err != nil {\n",
    "        panic(err)\n",
    "\t}\n",
    "\n",
    "\tnumGoRoutines := 10\n",
    "\tdoneCh := make(chan struct{})\n",
    "\n",
    "    final := 100000\n",
    "    for i := 0; i <= final; i = i + (final/numGoRoutines) + 1 {\n",
    "\t\tpaso := i + (final/numGoRoutines)\n",
    "\t\tif paso > final {\n",
    "\t\t\tpaso = final\n",
    "\t\t}\n",
    "\t\tfmt.Printf(\"ejecutando %d %d\\n\", i, paso)\n",
    "\t\tgo calcNums(i, paso, f, doneCh)\n",
    "    }\n",
    "\n",
    "\tdoneNum := 0\n",
    "\tfor doneNum < numGoRoutines {\n",
    "\t\t<- doneCh\n",
    "\t\tfmt.Println(\"Terminé\")\n",
    "\t\tdoneNum++\n",
    "\t}\n",
    "\tfmt.Println(\"Todos han finalizado\")\n",
    "\n",
    "\telapsed := time.Since(start)\n",
    "\tfmt.Println(elapsed)\n",
    "}\n",
    "\n"
   ]
  },
  {
   "cell_type": "markdown",
   "metadata": {},
   "source": [
    "ejecutando 0 10000  \n",
    "ejecutando 10001 20001  \n",
    "ejecutando 20002 30002  \n",
    "ejecutando 30003 40003  \n",
    "ejecutando 40004 50004  \n",
    "ejecutando 50005 60005  \n",
    "ejecutando 60006 70006  \n",
    "ejecutando 70007 80007  \n",
    "ejecutando 80008 90008  \n",
    "ejecutando 90009 100000    \n",
    "Terminé  \n",
    "Terminé  \n",
    "Terminé  \n",
    "Terminé  \n",
    "Terminé  \n",
    "Terminé  \n",
    "Terminé  \n",
    "Terminé  \n",
    "Terminé  \n",
    "Terminé    \n",
    "\n",
    "Todos han finalizado  \n",
    "  \n",
    "443.013137ms"
   ]
  },
  {
   "cell_type": "markdown",
   "metadata": {},
   "source": [
    "#### mi_archivo_concurrente.txt\n",
    "\n",
    "011177  \n",
    "011178  \n",
    "011179  \n",
    "01117a  \n",
    "01117b  \n",
    "01117c  \n",
    "01117d  \n",
    "01117e  \n",
    "01117f  \n",
    "011180  \n",
    "011181  \n",
    "011182  \n",
    "011183  \n",
    "011184  \n",
    "011185  \n",
    "..."
   ]
  },
  {
   "cell_type": "markdown",
   "metadata": {},
   "source": [
    "#### EJERCICIO CON CONCURRENCIA MEJORADO"
   ]
  },
  {
   "cell_type": "code",
   "execution_count": null,
   "metadata": {},
   "outputs": [],
   "source": [
    "package main\n",
    "\n",
    "import (\n",
    "    \"fmt\"\n",
    "    \"os\"\n",
    "\t\"time\"\n",
    "\t\"strings\"\n",
    ")\n",
    "\n",
    "func calcNums(start, end int, resultCh chan string, doneCh chan struct{}){\n",
    "\tvar sBuilder strings.Builder\n",
    "\tfor i := start; i <= end; i++ {\n",
    "\t\tfmt.Fprint(&sBuilder, fmt.Sprintf(\"%06x\\n\", i))\n",
    "\t}\n",
    "\tresultCh <- sBuilder.String()\n",
    "\tdoneCh <- struct{}{}\n",
    "}\n",
    "\n",
    "func main() {\n",
    "\tstart := time.Now()\n",
    "\n",
    "    f, err := os.Create(\"mi_archivo_concurrente_mejorado.txt\")\n",
    "    if err != nil {\n",
    "        panic(err)\n",
    "\t}\n",
    "\n",
    "\toutCh := make(chan string)\n",
    "\tdoneWrite := make(chan struct{})\n",
    "\t//Writer\n",
    "\tgo func() {\n",
    "\t\tfor s := range outCh {\n",
    "\t\t\t_, err := f.WriteString(s)\n",
    "\t\t\tif err != nil {\n",
    "\t\t\t\tpanic(err)\n",
    "\t\t\t}\n",
    "\t\t}\n",
    "\t\tdoneWrite <- struct{}{}\n",
    "\t}()\n",
    "\n",
    "\tnumGoRoutines := 10\n",
    "\tdoneCh := make(chan struct{})\n",
    "\n",
    "    final := 100000\n",
    "    for i := 0; i <= final; i = i + (final/numGoRoutines) + 1 {\n",
    "\t\tpaso := i + (final/numGoRoutines)\n",
    "\t\tif paso > final {\n",
    "\t\t\tpaso = final\n",
    "\t\t}\n",
    "\t\tfmt.Printf(\"ejecutando %d %d\\n\", i, paso)\n",
    "\t\tgo calcNums(i, paso, outCh, doneCh)\n",
    "    }\n",
    "\n",
    "\tdoneNum := 0\n",
    "\tfor doneNum < numGoRoutines {\n",
    "\t\t<- doneCh\n",
    "\t\tfmt.Println(\"Terminé\")\n",
    "\t\tdoneNum++\n",
    "\t}\n",
    "\tclose(outCh)\n",
    "\t<-doneWrite\n",
    "\tfmt.Println(\"Todos han finalizado\")\n",
    "\n",
    "\telapsed := time.Since(start)\n",
    "\tfmt.Println(elapsed)\n",
    "}\n",
    "\n"
   ]
  },
  {
   "cell_type": "markdown",
   "metadata": {},
   "source": [
    "ejecutando 0 10000  \n",
    "ejecutando 10001 20001  \n",
    "ejecutando 20002 30002  \n",
    "ejecutando 30003 40003  \n",
    "ejecutando 40004 50004  \n",
    "ejecutando 50005 60005  \n",
    "ejecutando 60006 70006  \n",
    "ejecutando 70007 80007  \n",
    "ejecutando 80008 90008  \n",
    "ejecutando 90009 100000    \n",
    "Terminé  \n",
    "Terminé  \n",
    "Terminé  \n",
    "Terminé  \n",
    "Terminé  \n",
    "Terminé  \n",
    "Terminé  \n",
    "Terminé  \n",
    "Terminé  \n",
    "Terminé  \n",
    "\n",
    "Todos han finalizado  \n",
    "\n",
    "104.021407ms"
   ]
  },
  {
   "cell_type": "markdown",
   "metadata": {},
   "source": [
    "#### mi_archivo_concurrente_mejorado\n",
    "\n",
    "004e22  \n",
    "004e23  \n",
    "004e24  \n",
    "004e25  \n",
    "004e26  \n",
    "004e27  \n",
    "004e28  \n",
    "004e29  \n",
    "004e2a  \n",
    "004e2b  \n",
    "004e2c  \n",
    "004e2d  \n",
    "004e2e  \n",
    "004e2f  \n",
    "004e30  \n",
    "..."
   ]
  },
  {
   "cell_type": "markdown",
   "metadata": {},
   "source": [
    "## Referencias\n",
    "\n",
    "- Go Lenguage - Tomado de: https://go.dev/\n",
    "- Aporte Tutorial de GO 1.0 por Juan Rodríguez, Jann Moreno y Sebastian\n",
    "- Should I Go? - Tomado de: https://hackernoon.com/should-i-go-the-pros-and-cons-of-using-go-programming-language-8c1daf711e46\n",
    "- Conceptos Basicos: http://goconejemplos.com/\n",
    "- Ejemplos tomados de: https://youtu.be/T_NIyqVQrx4 \n",
    "- Plantilla de Slides tomada de: https://docs.google.com"
   ]
  }
 ],
 "metadata": {
  "kernelspec": {
   "display_name": "Go",
   "language": "go",
   "name": "gophernotes"
  },
  "language_info": {
   "codemirror_mode": "",
   "file_extension": ".go",
   "mimetype": "",
   "name": "go",
   "nbconvert_exporter": "",
   "pygments_lexer": "",
   "version": "go1.11.4"
  }
 },
 "nbformat": 4,
 "nbformat_minor": 2
}
