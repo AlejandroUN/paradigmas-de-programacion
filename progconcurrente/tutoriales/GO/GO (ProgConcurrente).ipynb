{
 "cells": [
  {
   "cell_type": "markdown",
   "metadata": {},
   "source": [
    "# TUTORIAL GO\n",
    "### Presentación:    \n",
    "https://docs.google.com/presentation/d/1JK39YtjPw88OTv5lA2GTS8o-TqO1JHbIfBX07EcYjQE/edit?usp=sharing"
   ]
  },
  {
   "cell_type": "markdown",
   "metadata": {},
   "source": [
    "## Primeros Pasos\n",
    "###  Historia:\n",
    "Go (o Golang) es un lenguaje de programación moderno, creado en 2007 por Robert Griesemer, Rob Pike y Ken Thompson y lanzado en 2009. Trata de aprender de los errores de otros lenguajes de programación más antiguos, tomando lo mejor de cada uno y eliminando las limitaciones o problemas que estos nos presentan."
   ]
  },
  {
   "cell_type": "markdown",
   "metadata": {},
   "source": [
    "### Lenguaje Go: \n",
    "Go nace de la necesidad de crear un lenguaje donde:\n",
    "- La programación no sea algo difícil\n",
    "- El desarrollador no se sienta frustrado constantemente\n",
    "- La eficiencia del programa resultante sea suficientemente buena\n"
   ]
  },
  {
   "cell_type": "markdown",
   "metadata": {},
   "source": [
    "## Tour por el lenguaje\n",
    "### Conceptos Básicos:\n",
    "#### Paquetes:\n",
    "Todo archivo de Go debe empezar siempre con una declaración package"
   ]
  },
  {
   "cell_type": "code",
   "execution_count": null,
   "metadata": {},
   "outputs": [],
   "source": [
    "package main"
   ]
  },
  {
   "cell_type": "markdown",
   "metadata": {},
   "source": [
    "#### Import: \n",
    "Los archivos Go casi siempre tienen declaraciones import "
   ]
  },
  {
   "cell_type": "code",
   "execution_count": null,
   "metadata": {},
   "outputs": [],
   "source": [
    "import \"fmt\"\n",
    "import \"math\""
   ]
  },
  {
   "cell_type": "markdown",
   "metadata": {},
   "source": [
    "## EJEMPLOS\n",
    "#### EJERCICIO SIMPLE"
   ]
  },
  {
   "cell_type": "code",
   "execution_count": null,
   "metadata": {},
   "outputs": [],
   "source": [
    "package main\n",
    "\n",
    "import (\n",
    "    \"fmt\"\n",
    "    \"os\"\n",
    "\t\"time\"\n",
    ")\n",
    "\n",
    "func main() {\n",
    "\tstart := time.Now()\n",
    "\n",
    "    f, err := os.Create(\"mi_archivo.txt\")\n",
    "    if err != nil {\n",
    "        panic(err)\n",
    "\t}\n",
    "\n",
    "    final := 16777215\n",
    "    for i := 0; i <= final; i++ {\n",
    "        _, err = f.WriteString(fmt.Sprintf(\"%06x\\n\", i))\n",
    "        if err != nil {\n",
    "            panic(err)\n",
    "        }\n",
    "    }\n",
    "\n",
    "\telapsed := time.Since(start)\n",
    "\tfmt.Println(elapsed)\n",
    "}\n",
    "\n"
   ]
  },
  {
   "cell_type": "markdown",
   "metadata": {},
   "source": [
    "344.893278ms"
   ]
  },
  {
   "cell_type": "markdown",
   "metadata": {},
   "source": [
    "#### mi_archivo.txt\n",
    "000000  \n",
    "000001  \n",
    "000002  \n",
    "000003  \n",
    "000004  \n",
    "000005  \n",
    "000006  \n",
    "000007  \n",
    "000008  \n",
    "000009  \n",
    "00000a  \n",
    "00000b  \n",
    "00000c  \n",
    "00000d  \n",
    "00000e  \n",
    "...  "
   ]
  },
  {
   "cell_type": "markdown",
   "metadata": {},
   "source": [
    "#### EJERCICIO CON CONCURRENCIA"
   ]
  },
  {
   "cell_type": "code",
   "execution_count": null,
   "metadata": {},
   "outputs": [],
   "source": [
    "package main\n",
    "\n",
    "import (\n",
    "    \"fmt\"\n",
    "    \"os\"\n",
    "\t\"time\"\n",
    ")\n",
    "\n",
    "func calcNums(start, end int, f *os.File, doneCh chan struct{}){\n",
    "\tfor i := start; i <= end; i++ {\n",
    "\t\t_, err := f.WriteString(fmt.Sprintf(\"%06x\\n\", i))\n",
    "\t\tif err != nil {\n",
    "\t\t\tpanic(err)\n",
    "\t\t}\n",
    "\t}\n",
    "\tdoneCh <- struct{}{}\n",
    "}\n",
    "\n",
    "func main() {\n",
    "\tstart := time.Now()\n",
    "\n",
    "    f, err := os.Create(\"mi_archivo_concurrente.txt\")\n",
    "    if err != nil {\n",
    "        panic(err)\n",
    "\t}\n",
    "\n",
    "\tnumGoRoutines := 10\n",
    "\tdoneCh := make(chan struct{})\n",
    "\n",
    "    final := 100000\n",
    "    for i := 0; i <= final; i = i + (final/numGoRoutines) + 1 {\n",
    "\t\tpaso := i + (final/numGoRoutines)\n",
    "\t\tif paso > final {\n",
    "\t\t\tpaso = final\n",
    "\t\t}\n",
    "\t\tfmt.Printf(\"ejecutando %d %d\\n\", i, paso)\n",
    "\t\tgo calcNums(i, paso, f, doneCh)\n",
    "    }\n",
    "\n",
    "\tdoneNum := 0\n",
    "\tfor doneNum < numGoRoutines {\n",
    "\t\t<- doneCh\n",
    "\t\tfmt.Println(\"Terminé\")\n",
    "\t\tdoneNum++\n",
    "\t}\n",
    "\tfmt.Println(\"Todos han finalizado\")\n",
    "\n",
    "\telapsed := time.Since(start)\n",
    "\tfmt.Println(elapsed)\n",
    "}\n",
    "\n"
   ]
  },
  {
   "cell_type": "markdown",
   "metadata": {},
   "source": [
    "- ejecutando 0 10000\n",
    "- ejecutando 10001 20001\n",
    "- ejecutando 20002 30002\n",
    "- ejecutando 30003 40003\n",
    "- ejecutando 40004 50004\n",
    "- ejecutando 50005 60005\n",
    "- ejecutando 60006 70006\n",
    "- ejecutando 70007 80007\n",
    "- ejecutando 80008 90008\n",
    "- ejecutando 90009 100000\n",
    "\n",
    "- Terminé\n",
    "- Terminé\n",
    "- Terminé\n",
    "- Terminé\n",
    "- Terminé\n",
    "- Terminé\n",
    "- Terminé\n",
    "- Terminé\n",
    "- Terminé\n",
    "- Terminé\n",
    "\n",
    "Todos han finalizado\n",
    "\n",
    "443.013137ms"
   ]
  },
  {
   "cell_type": "markdown",
   "metadata": {},
   "source": [
    "#### mi_archivo_concurrente.txt\n",
    "\n",
    "011177  \n",
    "011178  \n",
    "011179  \n",
    "01117a  \n",
    "01117b  \n",
    "01117c  \n",
    "01117d  \n",
    "01117e  \n",
    "01117f  \n",
    "011180  \n",
    "011181  \n",
    "011182  \n",
    "011183  \n",
    "011184  \n",
    "011185  \n",
    "..."
   ]
  },
  {
   "cell_type": "markdown",
   "metadata": {},
   "source": [
    "#### EJERCICIO CON CONCURRENCIA MEJORADO"
   ]
  },
  {
   "cell_type": "code",
   "execution_count": null,
   "metadata": {},
   "outputs": [],
   "source": [
    "package main\n",
    "\n",
    "import (\n",
    "    \"fmt\"\n",
    "    \"os\"\n",
    "\t\"time\"\n",
    "\t\"strings\"\n",
    ")\n",
    "\n",
    "func calcNums(start, end int, resultCh chan string, doneCh chan struct{}){\n",
    "\tvar sBuilder strings.Builder\n",
    "\tfor i := start; i <= end; i++ {\n",
    "\t\tfmt.Fprint(&sBuilder, fmt.Sprintf(\"%06x\\n\", i))\n",
    "\t}\n",
    "\tresultCh <- sBuilder.String()\n",
    "\tdoneCh <- struct{}{}\n",
    "}\n",
    "\n",
    "func main() {\n",
    "\tstart := time.Now()\n",
    "\n",
    "    f, err := os.Create(\"mi_archivo_concurrente_mejorado.txt\")\n",
    "    if err != nil {\n",
    "        panic(err)\n",
    "\t}\n",
    "\n",
    "\toutCh := make(chan string)\n",
    "\tdoneWrite := make(chan struct{})\n",
    "\t//Writer\n",
    "\tgo func() {\n",
    "\t\tfor s := range outCh {\n",
    "\t\t\t_, err := f.WriteString(s)\n",
    "\t\t\tif err != nil {\n",
    "\t\t\t\tpanic(err)\n",
    "\t\t\t}\n",
    "\t\t}\n",
    "\t\tdoneWrite <- struct{}{}\n",
    "\t}()\n",
    "\n",
    "\tnumGoRoutines := 10\n",
    "\tdoneCh := make(chan struct{})\n",
    "\n",
    "    final := 100000\n",
    "    for i := 0; i <= final; i = i + (final/numGoRoutines) + 1 {\n",
    "\t\tpaso := i + (final/numGoRoutines)\n",
    "\t\tif paso > final {\n",
    "\t\t\tpaso = final\n",
    "\t\t}\n",
    "\t\tfmt.Printf(\"ejecutando %d %d\\n\", i, paso)\n",
    "\t\tgo calcNums(i, paso, outCh, doneCh)\n",
    "    }\n",
    "\n",
    "\tdoneNum := 0\n",
    "\tfor doneNum < numGoRoutines {\n",
    "\t\t<- doneCh\n",
    "\t\tfmt.Println(\"Terminé\")\n",
    "\t\tdoneNum++\n",
    "\t}\n",
    "\tclose(outCh)\n",
    "\t<-doneWrite\n",
    "\tfmt.Println(\"Todos han finalizado\")\n",
    "\n",
    "\telapsed := time.Since(start)\n",
    "\tfmt.Println(elapsed)\n",
    "}\n",
    "\n"
   ]
  },
  {
   "cell_type": "markdown",
   "metadata": {},
   "source": [
    "- ejecutando 0 10000\n",
    "- ejecutando 10001 20001\n",
    "- ejecutando 20002 30002\n",
    "- ejecutando 30003 40003\n",
    "- ejecutando 40004 50004\n",
    "- ejecutando 50005 60005\n",
    "- ejecutando 60006 70006\n",
    "- ejecutando 70007 80007\n",
    "- ejecutando 80008 90008\n",
    "- ejecutando 90009 100000\n",
    "\n",
    "- Terminé\n",
    "- Terminé\n",
    "- Terminé\n",
    "- Terminé\n",
    "- Terminé\n",
    "- Terminé\n",
    "- Terminé\n",
    "- Terminé\n",
    "- Terminé\n",
    "- Terminé\n",
    "\n",
    "Todos han finalizado\n",
    "\n",
    "104.021407ms"
   ]
  },
  {
   "cell_type": "markdown",
   "metadata": {},
   "source": [
    "#### mi_archivo_concurrente_mejorado\n",
    "\n",
    "004e22  \n",
    "004e23  \n",
    "004e24  \n",
    "004e25  \n",
    "004e26  \n",
    "004e27  \n",
    "004e28  \n",
    "004e29  \n",
    "004e2a  \n",
    "004e2b  \n",
    "004e2c  \n",
    "004e2d  \n",
    "004e2e  \n",
    "004e2f  \n",
    "004e30  \n",
    "..."
   ]
  }
 ],
 "metadata": {
  "kernelspec": {
   "display_name": "Go",
   "language": "go",
   "name": "gophernotes"
  },
  "language_info": {
   "codemirror_mode": "",
   "file_extension": ".go",
   "mimetype": "",
   "name": "go",
   "nbconvert_exporter": "",
   "pygments_lexer": "",
   "version": "go1.12.6"
  }
 },
 "nbformat": 4,
 "nbformat_minor": 2
}
