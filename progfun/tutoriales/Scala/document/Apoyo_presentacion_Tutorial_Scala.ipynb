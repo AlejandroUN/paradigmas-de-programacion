{
  "cells": [
    {
      "cell_type": "markdown",
      "metadata": {
        "id": "up2G8zDbhsEN"
      },
      "source": [
        "# Scala in Colab"
      ]
    },
    {
      "cell_type": "code",
      "execution_count": null,
      "metadata": {
        "colab": {
          "base_uri": "https://localhost:8080/"
        },
        "id": "RoCcdvTCAqeR",
        "outputId": "0d643df5-be62-45ce-d748-b6d9d356a007"
      },
      "outputs": [
        {
          "output_type": "stream",
          "name": "stdout",
          "text": [
            "\u001b[1;30;43mStreaming output truncated to the last 5000 lines.\u001b[0m\n",
            "\u001b[2A\u001b[2A\u001b[2A\u001b[2A\u001b[10000D\u001b[2Khttps://repo1.maven.org/maven2/org/scala-lang/scala-library/2.12.8/scala-librar…\n",
            "\u001b[2K  100.0% [##########] 1.6 KiB (11.5 KiB / s)\n",
            "\u001b[2Khttps://repo1.maven.org/maven2/com/github/alexarchambault/case-app_2.12/2.0.0-M…\n",
            "\u001b[2K    0.0% [          ] 0B (0B / s)\n",
            "\u001b[2Khttps://repo1.maven.org/maven2/sh/almond/scala-interpreter_2.12.8/0.3.0+16-548d…\n",
            "\u001b[2K    0.0% [          ] 0B (0B / s)\n",
            "\u001b[2Khttps://repo1.maven.org/maven2/sh/almond/kernel_2.12/0.3.0+16-548dc10f-SNAPSHOT…\n",
            "\u001b[2K    0.0% [          ] 0B (0B / s)\n",
            "\u001b[2A\u001b[2A\u001b[2A\u001b[10000D\u001b[2Khttps://repo1.maven.org/maven2/com/github/alexarchambault/case-app_2.12/2.0.0-M…\n",
            "\u001b[2K    0.0% [          ] 0B (0B / s)\n",
            "\u001b[2Khttps://repo1.maven.org/maven2/sh/almond/kernel_2.12/0.3.0+16-548dc10f-SNAPSHOT…\n",
            "\u001b[2K    0.0% [          ] 0B (0B / s)\n",
            "\u001b[2Khttps://repo1.maven.org/maven2/sh/almond/scala-interpreter_2.12.8/0.3.0+16-548d…\n",
            "\u001b[2K    0.0% [          ] 0B (0B / s)\n",
            "\u001b[2A\u001b[2A\u001b[2A\u001b[10000D\u001b[2Khttps://repo1.maven.org/maven2/com/github/alexarchambault/case-app_2.12/2.0.0-M…\n",
            "\u001b[2K    0.0% [          ] 0B (0B / s)\n",
            "\u001b[2Khttps://repo1.maven.org/maven2/sh/almond/scala-interpreter_2.12.8/0.3.0+16-548d…\n",
            "\u001b[2K    0.0% [          ] 0B (0B / s)\n",
            "\u001b[2Khttps://repo1.maven.org/maven2/sh/almond/kernel_2.12/0.3.0+16-548dc10f-SNAPSHOT…\n",
            "\u001b[2K    0.0% [          ] 0B (0B / s)\n",
            "\u001b[2A\u001b[2A\u001b[2A\u001b[10000D\u001b[2Khttps://repo1.maven.org/maven2/com/github/alexarchambault/case-app_2.12/2.0.0-M…\n",
            "\u001b[2K  100.0% [##########] 2.0 KiB (4.3 KiB / s)\n",
            "\u001b[2Khttps://repo1.maven.org/maven2/sh/almond/scala-interpreter_2.12.8/0.3.0+16-548d…\n",
            "\u001b[2K    0.0% [          ] 0B (0B / s)\n",
            "\u001b[2Khttps://repo1.maven.org/maven2/sh/almond/kernel_2.12/0.3.0+16-548dc10f-SNAPSHOT…\n",
            "\u001b[2K    0.0% [          ] 0B (0B / s)\n",
            "\u001b[2A\u001b[2A\u001b[10000D\u001b[2Khttps://repo1.maven.org/maven2/sh/almond/scala-interpreter_2.12.8/0.3.0+16-548d…\n",
            "\u001b[2K    0.0% [          ] 0B (0B / s)\n",
            "\u001b[2K\u001b[1B\u001b[2K\u001b[1B\u001b[2A\u001b[2A\u001b[10000D\u001b[2Khttps://repo1.maven.org/maven2/sh/almond/scala-interpreter_2.12.8/0.3.0+16-548d…\n",
            "\u001b[2K    0.0% [          ] 0B (0B / s)\n",
            "\u001b[2Khttps://repo1.maven.org/maven2/sh/almond/kernel_2.12/0.3.0+16-548dc10f-SNAPSHOT…\n",
            "\u001b[2K    0.0% [          ] 0B (0B / s)\n",
            "\u001b[2A\u001b[2A\u001b[10000D\u001b[2Khttps://repo1.maven.org/maven2/sh/almond/scala-interpreter_2.12.8/0.3.0+16-548d…\n",
            "\u001b[2K    0.0% [          ] 0B (0B / s)\n",
            "\u001b[2Khttps://repo1.maven.org/maven2/sh/almond/kernel_2.12/0.3.0+16-548dc10f-SNAPSHOT…\n",
            "\u001b[2K    0.0% [          ] 0B (0B / s)\n",
            "\u001b[2A\u001b[2A\u001b[10000D\u001b[2Khttps://repo1.maven.org/maven2/sh/almond/kernel_2.12/0.3.0+16-548dc10f-SNAPSHOT…\n",
            "\u001b[2K    0.0% [          ] 0B (0B / s)\n",
            "\u001b[2Khttps://jitpack.io/sh/almond/scala-interpreter_2.12.8/0.3.0+16-548dc10f-SNAPSHO…\n",
            "\u001b[2K    0.0% [          ] 0B (0B / s)\n",
            "\u001b[2A\u001b[2A\u001b[10000D\u001b[2Khttps://jitpack.io/sh/almond/scala-interpreter_2.12.8/0.3.0+16-548dc10f-SNAPSHO…\n",
            "\u001b[2K    0.0% [          ] 0B (0B / s)\n",
            "\u001b[2Khttps://jitpack.io/sh/almond/kernel_2.12/0.3.0+16-548dc10f-SNAPSHOT/kernel_2.12…\n",
            "\u001b[2K    0.0% [          ] 0B (0B / s)\n",
            "\u001b[2A\u001b[2A\u001b[10000D\u001b[2Khttps://jitpack.io/sh/almond/kernel_2.12/0.3.0+16-548dc10f-SNAPSHOT/kernel_2.12…\n",
            "\u001b[2K    0.0% [          ] 0B (0B / s)\n",
            "\u001b[2Khttps://jitpack.io/sh/almond/scala-interpreter_2.12.8/0.3.0+16-548dc10f-SNAPSHO…\n",
            "\u001b[2K    0.0% [          ] 0B (0B / s)\n",
            "\u001b[2A\u001b[2A\u001b[10000D\u001b[2Khttps://jitpack.io/sh/almond/kernel_2.12/0.3.0+16-548dc10f-SNAPSHOT/kernel_2.12…\n",
            "\u001b[2K    0.0% [          ] 0B (0B / s)\n",
            "\u001b[2K\u001b[1B\u001b[2K\u001b[1B\u001b[2A\u001b[2A\u001b[10000D\u001b[2Khttps://jitpack.io/sh/almond/kernel_2.12/0.3.0+16-548dc10f-SNAPSHOT/kernel_2.12…\n",
            "\u001b[2K    0.0% [          ] 0B (0B / s)\n",
            "\u001b[2Khttps://jitpack.io/sh/almond/scala-interpreter_2.12.8/0.3.0+16-548dc10f-SNAPSHO…\n",
            "\u001b[2K    0.0% [          ] 0B (0B / s)\n",
            "\u001b[2A\u001b[2A\u001b[10000D\u001b[2Khttps://jitpack.io/sh/almond/kernel_2.12/0.3.0+16-548dc10f-SNAPSHOT/kernel_2.12…\n",
            "\u001b[2K    0.0% [          ] 0B (0B / s)\n",
            "\u001b[2Khttps://jitpack.io/sh/almond/scala-interpreter_2.12.8/0.3.0+16-548dc10f-SNAPSHO…\n",
            "\u001b[2K    0.0% [          ] 0B (0B / s)\n",
            "\u001b[2A\u001b[2A\u001b[10000D\u001b[2Khttps://oss.sonatype.org/content/repositories/snapshots/sh/almond/scala-interpr…\n",
            "\u001b[2K    0.0% [          ] 0B (0B / s)\n",
            "\u001b[2Khttps://jitpack.io/sh/almond/kernel_2.12/0.3.0+16-548dc10f-SNAPSHOT/maven-metad…\n",
            "\u001b[2K    0.0% [          ] 0B (0B / s)\n",
            "\u001b[2A\u001b[2A\u001b[10000D\u001b[2Khttps://oss.sonatype.org/content/repositories/snapshots/sh/almond/scala-interpr…\n",
            "\u001b[2K    0.0% [          ] 0B (0B / s)\n",
            "\u001b[2Khttps://jitpack.io/sh/almond/kernel_2.12/0.3.0+16-548dc10f-SNAPSHOT/maven-metad…\n",
            "\u001b[2K    0.0% [          ] 0B (0B / s)\n",
            "\u001b[2A\u001b[2A\u001b[10000D\u001b[2Khttps://oss.sonatype.org/content/repositories/snapshots/sh/almond/scala-interpr…\n",
            "\u001b[2K    0.0% [          ] 0B (0B / s)\n",
            "\u001b[2Khttps://oss.sonatype.org/content/repositories/snapshots/sh/almond/kernel_2.12/0…\n",
            "\u001b[2K    0.0% [          ] 0B (0B / s)\n",
            "\u001b[2A\u001b[2A\u001b[10000D\u001b[2Khttps://oss.sonatype.org/content/repositories/snapshots/sh/almond/scala-interpr…\n",
            "\u001b[2K  100.0% [##########] 2.7 KiB (13.4 KiB / s)\n",
            "\u001b[2Khttps://oss.sonatype.org/content/repositories/snapshots/sh/almond/kernel_2.12/0…\n",
            "\u001b[2K    0.0% [          ] 0B (0B / s)\n",
            "\u001b[2A\u001b[10000D\u001b[2Khttps://oss.sonatype.org/content/repositories/snapshots/sh/almond/kernel_2.12/0…\n",
            "\u001b[2K    0.0% [          ] 0B (0B / s)\n",
            "\u001b[2Khttps://oss.sonatype.org/content/repositories/snapshots/sh/almond/scala-interpr…\n",
            "\u001b[2K    0.0% [          ] 0B (0B / s)\n",
            "\u001b[2A\u001b[2A\u001b[10000D\u001b[2Khttps://oss.sonatype.org/content/repositories/snapshots/sh/almond/kernel_2.12/0…\n",
            "\u001b[2K    0.0% [          ] 0B (0B / s)\n",
            "\u001b[2K\u001b[1B\u001b[2K\u001b[1B\u001b[2A\u001b[2A\u001b[10000D\u001b[2Khttps://oss.sonatype.org/content/repositories/snapshots/sh/almond/kernel_2.12/0…\n",
            "\u001b[2K  100.0% [##########] 2.4 KiB (4.1 KiB / s)\n",
            "\u001b[2Khttps://oss.sonatype.org/content/repositories/snapshots/sh/almond/kernel_2.12/0…\n",
            "\u001b[2K    0.0% [          ] 0B (0B / s)\n",
            "\u001b[2A\u001b[10000D\u001b[2Khttps://oss.sonatype.org/content/repositories/snapshots/sh/almond/kernel_2.12/0…\n",
            "\u001b[2K    0.0% [          ] 0B (0B / s)\n",
            "\u001b[2A\u001b[10000D\u001b[2K\u001b[1B\u001b[2K\u001b[1B\u001b[2A\u001b[10000D\u001b[2Khttps://repo1.maven.org/maven2/com/github/alexarchambault/case-app-annotations_…\n",
            "\u001b[2K    0.0% [          ] 0B (0B / s)\n",
            "\u001b[2Khttps://repo1.maven.org/maven2/co/fs2/fs2-core_2.12/1.0.4/fs2-core_2.12-1.0.4.p…\n",
            "\u001b[2K    0.0% [          ] 0B (0B / s)\n",
            "\u001b[2A\u001b[2A\u001b[10000D\u001b[2Khttps://repo1.maven.org/maven2/com/github/alexarchambault/case-app-annotations_…\n",
            "\u001b[2K    0.0% [          ] 0B (0B / s)\n",
            "\u001b[2Khttps://repo1.maven.org/maven2/co/fs2/fs2-core_2.12/1.0.4/fs2-core_2.12-1.0.4.p…\n",
            "\u001b[2K    0.0% [          ] 0B (0B / s)\n",
            "\u001b[2Khttps://repo1.maven.org/maven2/com/github/alexarchambault/case-app-util_2.12/2.…\n",
            "\u001b[2K    0.0% [          ] 0B (0B / s)\n",
            "\u001b[2Khttps://repo1.maven.org/maven2/sh/almond/interpreter_2.12/0.3.0+16-548dc10f-SNA…\n",
            "\u001b[2K    0.0% [          ] 0B (0B / s)\n",
            "\u001b[2Khttps://repo1.maven.org/maven2/sh/almond/scala-kernel-api_2.12.8/0.3.0+16-548dc…\n",
            "\u001b[2K    0.0% [          ] 0B (0B / s)\n",
            "\u001b[2A\u001b[2A\u001b[2A\u001b[2A\u001b[2A\u001b[10000D\u001b[2Khttps://repo1.maven.org/maven2/co/fs2/fs2-core_2.12/1.0.4/fs2-core_2.12-1.0.4.p…\n",
            "\u001b[2K  100.0% [##########] 3.6 KiB (26.6 KiB / s)\n",
            "\u001b[2Khttps://repo1.maven.org/maven2/com/github/alexarchambault/case-app-annotations_…\n",
            "\u001b[2K  100.0% [##########] 1.7 KiB (12.0 KiB / s)\n",
            "\u001b[2Khttps://repo1.maven.org/maven2/com/github/alexarchambault/case-app-util_2.12/2.…\n",
            "\u001b[2K    0.0% [          ] 0B (0B / s)\n",
            "\u001b[2Khttps://repo1.maven.org/maven2/sh/almond/interpreter_2.12/0.3.0+16-548dc10f-SNA…\n",
            "\u001b[2K    0.0% [          ] 0B (0B / s)\n",
            "\u001b[2Khttps://repo1.maven.org/maven2/sh/almond/scala-kernel-api_2.12.8/0.3.0+16-548dc…\n",
            "\u001b[2K    0.0% [          ] 0B (0B / s)\n",
            "\u001b[2A\u001b[2A\u001b[2A\u001b[10000D\u001b[2Khttps://repo1.maven.org/maven2/com/github/alexarchambault/case-app-util_2.12/2.…\n",
            "\u001b[2K  100.0% [##########] 2.2 KiB (16.1 KiB / s)\n",
            "\u001b[2Khttps://repo1.maven.org/maven2/sh/almond/scala-kernel-api_2.12.8/0.3.0+16-548dc…\n",
            "\u001b[2K    0.0% [          ] 0B (0B / s)\n",
            "\u001b[2Khttps://repo1.maven.org/maven2/sh/almond/interpreter_2.12/0.3.0+16-548dc10f-SNA…\n",
            "\u001b[2K    0.0% [          ] 0B (0B / s)\n",
            "\u001b[2A\u001b[2A\u001b[10000D\u001b[2Khttps://repo1.maven.org/maven2/sh/almond/scala-kernel-api_2.12.8/0.3.0+16-548dc…\n",
            "\u001b[2K    0.0% [          ] 0B (0B / s)\n",
            "\u001b[2Khttps://repo1.maven.org/maven2/sh/almond/interpreter_2.12/0.3.0+16-548dc10f-SNA…\n",
            "\u001b[2K    0.0% [          ] 0B (0B / s)\n",
            "\u001b[2A\u001b[2A\u001b[10000D\u001b[2Khttps://repo1.maven.org/maven2/sh/almond/interpreter_2.12/0.3.0+16-548dc10f-SNA…\n",
            "\u001b[2K    0.0% [          ] 0B (0B / s)\n",
            "\u001b[2Khttps://repo1.maven.org/maven2/sh/almond/scala-kernel-api_2.12.8/0.3.0+16-548dc…\n",
            "\u001b[2K    0.0% [          ] 0B (0B / s)\n",
            "\u001b[2A\u001b[2A\u001b[10000D\u001b[2Khttps://repo1.maven.org/maven2/sh/almond/scala-kernel-api_2.12.8/0.3.0+16-548dc…\n",
            "\u001b[2K    0.0% [          ] 0B (0B / s)\n",
            "\u001b[2Khttps://jitpack.io/sh/almond/interpreter_2.12/0.3.0+16-548dc10f-SNAPSHOT/interp…\n",
            "\u001b[2K    0.0% [          ] 0B (0B / s)\n",
            "\u001b[2A\u001b[2A\u001b[10000D\u001b[2Khttps://jitpack.io/sh/almond/interpreter_2.12/0.3.0+16-548dc10f-SNAPSHOT/interp…\n",
            "\u001b[2K    0.0% [          ] 0B (0B / s)\n",
            "\u001b[2K\u001b[1B\u001b[2K\u001b[1B\u001b[2A\u001b[2A\u001b[10000D\u001b[2Khttps://jitpack.io/sh/almond/interpreter_2.12/0.3.0+16-548dc10f-SNAPSHOT/interp…\n",
            "\u001b[2K    0.0% [          ] 0B (0B / s)\n",
            "\u001b[2Khttps://repo1.maven.org/maven2/sh/almond/scala-kernel-api_2.12.8/0.3.0+16-548dc…\n",
            "\u001b[2K    0.0% [          ] 0B (0B / s)\n",
            "\u001b[2A\u001b[2A\u001b[10000D\u001b[2Khttps://jitpack.io/sh/almond/interpreter_2.12/0.3.0+16-548dc10f-SNAPSHOT/interp…\n",
            "\u001b[2K    0.0% [          ] 0B (0B / s)\n",
            "\u001b[2Khttps://jitpack.io/sh/almond/scala-kernel-api_2.12.8/0.3.0+16-548dc10f-SNAPSHOT…\n",
            "\u001b[2K    0.0% [          ] 0B (0B / s)\n",
            "\u001b[2A\u001b[2A\u001b[10000D\u001b[2Khttps://jitpack.io/sh/almond/scala-kernel-api_2.12.8/0.3.0+16-548dc10f-SNAPSHOT…\n",
            "\u001b[2K    0.0% [          ] 0B (0B / s)\n",
            "\u001b[2Khttps://jitpack.io/sh/almond/interpreter_2.12/0.3.0+16-548dc10f-SNAPSHOT/maven-…\n",
            "\u001b[2K    0.0% [          ] 0B (0B / s)\n",
            "\u001b[2A\u001b[2A\u001b[10000D\u001b[2Khttps://jitpack.io/sh/almond/interpreter_2.12/0.3.0+16-548dc10f-SNAPSHOT/maven-…\n",
            "\u001b[2K    0.0% [          ] 0B (0B / s)\n",
            "\u001b[2Khttps://jitpack.io/sh/almond/scala-kernel-api_2.12.8/0.3.0+16-548dc10f-SNAPSHOT…\n",
            "\u001b[2K    0.0% [          ] 0B (0B / s)\n",
            "\u001b[2A\u001b[2A\u001b[10000D\u001b[2Khttps://jitpack.io/sh/almond/interpreter_2.12/0.3.0+16-548dc10f-SNAPSHOT/maven-…\n",
            "\u001b[2K    0.0% [          ] 0B (0B / s)\n",
            "\u001b[2Khttps://jitpack.io/sh/almond/scala-kernel-api_2.12.8/0.3.0+16-548dc10f-SNAPSHOT…\n",
            "\u001b[2K    0.0% [          ] 0B (0B / s)\n",
            "\u001b[2A\u001b[2A\u001b[10000D\u001b[2Khttps://oss.sonatype.org/content/repositories/snapshots/sh/almond/interpreter_2…\n",
            "\u001b[2K    0.0% [          ] 0B (0B / s)\n",
            "\u001b[2Khttps://jitpack.io/sh/almond/scala-kernel-api_2.12.8/0.3.0+16-548dc10f-SNAPSHOT…\n",
            "\u001b[2K    0.0% [          ] 0B (0B / s)\n",
            "\u001b[2A\u001b[2A\u001b[10000D\u001b[2Khttps://oss.sonatype.org/content/repositories/snapshots/sh/almond/interpreter_2…\n",
            "\u001b[2K    0.0% [          ] 0B (0B / s)\n",
            "\u001b[2Khttps://oss.sonatype.org/content/repositories/snapshots/sh/almond/scala-kernel-…\n",
            "\u001b[2K    0.0% [          ] 0B (0B / s)\n",
            "\u001b[2A\u001b[2A\u001b[10000D\u001b[2Khttps://oss.sonatype.org/content/repositories/snapshots/sh/almond/interpreter_2…\n",
            "\u001b[2K  100.0% [##########] 2.7 KiB (13.3 KiB / s)\n",
            "\u001b[2Khttps://oss.sonatype.org/content/repositories/snapshots/sh/almond/scala-kernel-…\n",
            "\u001b[2K    0.0% [          ] 0B (0B / s)\n",
            "\u001b[2Khttps://oss.sonatype.org/content/repositories/snapshots/sh/almond/interpreter_2…\n",
            "\u001b[2K    0.0% [          ] 0B (0B / s)\n",
            "\u001b[2A\u001b[2A\u001b[10000D\u001b[2Khttps://oss.sonatype.org/content/repositories/snapshots/sh/almond/scala-kernel-…\n",
            "\u001b[2K  100.0% [##########] 2.2 KiB (10.6 KiB / s)\n",
            "\u001b[2Khttps://oss.sonatype.org/content/repositories/snapshots/sh/almond/interpreter_2…\n",
            "\u001b[2K    0.0% [          ] 0B (0B / s)\n",
            "\u001b[2Khttps://oss.sonatype.org/content/repositories/snapshots/sh/almond/scala-kernel-…\n",
            "\u001b[2K    0.0% [          ] 0B (0B / s)\n",
            "\u001b[2A\u001b[2A\u001b[10000D\u001b[2Khttps://oss.sonatype.org/content/repositories/snapshots/sh/almond/interpreter_2…\n",
            "\u001b[2K    0.0% [          ] 0B (0B / s)\n",
            "\u001b[2Khttps://oss.sonatype.org/content/repositories/snapshots/sh/almond/scala-kernel-…\n",
            "\u001b[2K    0.0% [          ] 0B (0B / s)\n",
            "\u001b[2A\u001b[2A\u001b[10000D\u001b[2Khttps://oss.sonatype.org/content/repositories/snapshots/sh/almond/scala-kernel-…\n",
            "\u001b[2K    0.0% [          ] 0B (0B / s)\n",
            "\u001b[2K\u001b[1B\u001b[2K\u001b[1B\u001b[2A\u001b[2A\u001b[10000D\u001b[2K\u001b[1B\u001b[2K\u001b[1B\u001b[2A\u001b[10000D\u001b[2Khttps://repo1.maven.org/maven2/org/typelevel/cats-effect_2.12/1.2.0/cats-effect…\n",
            "\u001b[2K    0.0% [          ] 0B (0B / s)\n",
            "\u001b[2Khttps://repo1.maven.org/maven2/com/chuusai/shapeless_2.12/2.3.3/shapeless_2.12-…\n",
            "\u001b[2K    0.0% [          ] 0B (0B / s)\n",
            "\u001b[2Khttps://repo1.maven.org/maven2/com/github/jupyter/jvm-repr/0.4.0/jvm-repr-0.4.0…\n",
            "\u001b[2K    0.0% [          ] 0B (0B / s)\n",
            "\u001b[2Khttps://repo1.maven.org/maven2/org/scodec/scodec-bits_2.12/1.1.9/scodec-bits_2.…\n",
            "\u001b[2K    0.0% [          ] 0B (0B / s)\n",
            "\u001b[2Khttps://repo1.maven.org/maven2/org/typelevel/cats-core_2.12/1.6.0/cats-core_2.1…\n",
            "\u001b[2K    0.0% [          ] 0B (0B / s)\n",
            "\u001b[2Khttps://repo1.maven.org/maven2/com/lihaoyi/scalatags_2.12/0.6.7/scalatags_2.12-…\n",
            "\u001b[2K    0.0% [          ] 0B (0B / s)\n",
            "\u001b[2A\u001b[2A\u001b[2A\u001b[2A\u001b[2A\u001b[2A\u001b[10000D\u001b[2Khttps://repo1.maven.org/maven2/org/scodec/scodec-bits_2.12/1.1.9/scodec-bits_2.…\n",
            "\u001b[2K  100.0% [##########] 2.0 KiB (14.8 KiB / s)\n",
            "\u001b[2Khttps://repo1.maven.org/maven2/com/lihaoyi/scalatags_2.12/0.6.7/scalatags_2.12-…\n",
            "\u001b[2K  100.0% [##########] 2.6 KiB (19.3 KiB / s)\n",
            "\u001b[2Khttps://repo1.maven.org/maven2/org/typelevel/cats-effect_2.12/1.2.0/cats-effect…\n",
            "\u001b[2K    0.0% [          ] 0B (0B / s)\n",
            "\u001b[2Khttps://repo1.maven.org/maven2/com/chuusai/shapeless_2.12/2.3.3/shapeless_2.12-…\n",
            "\u001b[2K    0.0% [          ] 0B (0B / s)\n",
            "\u001b[2Khttps://repo1.maven.org/maven2/org/typelevel/cats-core_2.12/1.6.0/cats-core_2.1…\n",
            "\u001b[2K    0.0% [          ] 0B (0B / s)\n",
            "\u001b[2K\u001b[1B\u001b[2K\u001b[1B\u001b[2A\u001b[2A\u001b[2A\u001b[2A\u001b[2A\u001b[2A\u001b[10000D\u001b[2Khttps://repo1.maven.org/maven2/com/lihaoyi/scalatags_2.12/0.6.7/scalatags_2.12-…\n",
            "\u001b[2K  100.0% [##########] 2.6 KiB (17.6 KiB / s)\n",
            "\u001b[2Khttps://repo1.maven.org/maven2/org/scodec/scodec-bits_2.12/1.1.9/scodec-bits_2.…\n",
            "\u001b[2K  100.0% [##########] 2.0 KiB (13.5 KiB / s)\n",
            "\u001b[2Khttps://repo1.maven.org/maven2/org/typelevel/cats-effect_2.12/1.2.0/cats-effect…\n",
            "\u001b[2K  100.0% [##########] 2.8 KiB (17.7 KiB / s)\n",
            "\u001b[2Khttps://repo1.maven.org/maven2/com/chuusai/shapeless_2.12/2.3.3/shapeless_2.12-…\n",
            "\u001b[2K    0.0% [          ] 0B (0B / s)\n",
            "\u001b[2Khttps://repo1.maven.org/maven2/org/typelevel/cats-core_2.12/1.6.0/cats-core_2.1…\n",
            "\u001b[2K    0.0% [          ] 0B (0B / s)\n",
            "\u001b[2Khttps://repo1.maven.org/maven2/org/scalameta/metabrowse-server_2.12/0.2.2/metab…\n",
            "\u001b[2K    0.0% [          ] 0B (0B / s)\n",
            "\u001b[2Khttps://repo1.maven.org/maven2/com/github/jupyter/jvm-repr/0.4.0/jvm-repr-0.4.0…\n",
            "\u001b[2K    0.0% [          ] 0B (0B / s)\n",
            "\u001b[2A\u001b[2A\u001b[2A\u001b[2A\u001b[10000D\u001b[2Khttps://repo1.maven.org/maven2/com/chuusai/shapeless_2.12/2.3.3/shapeless_2.12-…\n",
            "\u001b[2K  100.0% [##########] 2.2 KiB (13.1 KiB / s)\n",
            "\u001b[2Khttps://repo1.maven.org/maven2/org/typelevel/cats-core_2.12/1.6.0/cats-core_2.1…\n",
            "\u001b[2K    0.0% [          ] 0B (0B / s)\n",
            "\u001b[2Khttps://repo1.maven.org/maven2/org/scalameta/metabrowse-server_2.12/0.2.2/metab…\n",
            "\u001b[2K    0.0% [          ] 0B (0B / s)\n",
            "\u001b[2Khttps://repo1.maven.org/maven2/com/github/jupyter/jvm-repr/0.4.0/jvm-repr-0.4.0…\n",
            "\u001b[2K    0.0% [          ] 0B (0B / s)\n",
            "\u001b[2Khttps://repo1.maven.org/maven2/org/slf4j/slf4j-nop/1.7.26/slf4j-nop-1.7.26.pom\n",
            "\u001b[2K    0.0% [          ] 0B (0B / s)\n",
            "\u001b[2A\u001b[2A\u001b[2A\u001b[2A\u001b[10000D\u001b[2Khttps://repo1.maven.org/maven2/org/typelevel/cats-core_2.12/1.6.0/cats-core_2.1…\n",
            "\u001b[2K    0.0% [          ] 0B (0B / s)\n",
            "\u001b[2Khttps://repo1.maven.org/maven2/org/scalameta/metabrowse-server_2.12/0.2.2/metab…\n",
            "\u001b[2K    0.0% [          ] 0B (0B / s)\n",
            "\u001b[2Khttps://repo1.maven.org/maven2/com/github/jupyter/jvm-repr/0.4.0/jvm-repr-0.4.0…\n",
            "\u001b[2K    0.0% [          ] 0B (0B / s)\n",
            "\u001b[2Khttps://repo1.maven.org/maven2/org/slf4j/slf4j-nop/1.7.26/slf4j-nop-1.7.26.pom\n",
            "\u001b[2K    0.0% [          ] 0B (0B / s)\n",
            "\u001b[2Khttps://repo1.maven.org/maven2/com/lihaoyi/ammonite-repl_2.12.8/1.6.4/ammonite-…\n",
            "\u001b[2K    0.0% [          ] 0B (0B / s)\n",
            "\u001b[2Khttps://repo1.maven.org/maven2/org/scala-lang/modules/scala-collection-compat_2…\n",
            "\u001b[2K    0.0% [          ] 0B (0B / s)\n",
            "\u001b[2A\u001b[2A\u001b[2A\u001b[2A\u001b[2A\u001b[2A\u001b[10000D\u001b[2Khttps://repo1.maven.org/maven2/org/typelevel/cats-core_2.12/1.6.0/cats-core_2.1…\n",
            "\u001b[2K    0.0% [          ] 0B (0B / s)\n",
            "\u001b[2Khttps://repo1.maven.org/maven2/org/scalameta/metabrowse-server_2.12/0.2.2/metab…\n",
            "\u001b[2K    0.0% [          ] 0B (0B / s)\n",
            "\u001b[2Khttps://repo1.maven.org/maven2/org/slf4j/slf4j-nop/1.7.26/slf4j-nop-1.7.26.pom\n",
            "\u001b[2K    0.0% [          ] 0B (0B / s)\n",
            "\u001b[2Khttps://repo1.maven.org/maven2/com/lihaoyi/ammonite-repl_2.12.8/1.6.4/ammonite-…\n",
            "\u001b[2K    0.0% [          ] 0B (0B / s)\n",
            "\u001b[2Khttps://repo1.maven.org/maven2/org/scala-lang/modules/scala-collection-compat_2…\n",
            "\u001b[2K    0.0% [          ] 0B (0B / s)\n",
            "\u001b[2Khttps://repo1.maven.org/maven2/sh/almond/interpreter-api_2.12/0.3.0+16-548dc10f…\n",
            "\u001b[2K    0.0% [          ] 0B (0B / s)\n",
            "\u001b[2A\u001b[2A\u001b[2A\u001b[2A\u001b[2A\u001b[2A\u001b[10000D\u001b[2Khttps://repo1.maven.org/maven2/org/slf4j/slf4j-nop/1.7.26/slf4j-nop-1.7.26.pom\n",
            "\u001b[2K  100.0% [##########] 790B (4.3 KiB / s)\n",
            "\u001b[2Khttps://repo1.maven.org/maven2/com/lihaoyi/ammonite-repl_2.12.8/1.6.4/ammonite-…\n",
            "\u001b[2K  100.0% [##########] 2.9 KiB (18.1 KiB / s)\n",
            "\u001b[2Khttps://repo1.maven.org/maven2/org/scala-lang/modules/scala-collection-compat_2…\n",
            "\u001b[2K  100.0% [##########] 1.9 KiB (12.2 KiB / s)\n",
            "\u001b[2Khttps://repo1.maven.org/maven2/org/typelevel/cats-core_2.12/1.6.0/cats-core_2.1…\n",
            "\u001b[2K    0.0% [          ] 0B (0B / s)\n",
            "\u001b[2Khttps://repo1.maven.org/maven2/org/scalameta/metabrowse-server_2.12/0.2.2/metab…\n",
            "\u001b[2K    0.0% [          ] 0B (0B / s)\n",
            "\u001b[2Khttps://repo1.maven.org/maven2/sh/almond/interpreter-api_2.12/0.3.0+16-548dc10f…\n",
            "\u001b[2K    0.0% [          ] 0B (0B / s)\n",
            "\u001b[2Khttps://jitpack.io/com/github/jupyter/jvm-repr/0.4.0/jvm-repr-0.4.0.pom\n",
            "\u001b[2K    0.0% [          ] 0B (0B / s)\n",
            "\u001b[2A\u001b[2A\u001b[2A\u001b[2A\u001b[2A\u001b[2A\u001b[10000D\u001b[2Khttps://repo1.maven.org/maven2/com/lihaoyi/ammonite-repl_2.12.8/1.6.4/ammonite-…\n",
            "\u001b[2K  100.0% [##########] 2.9 KiB (16.7 KiB / s)\n",
            "\u001b[2Khttps://repo1.maven.org/maven2/org/scala-lang/modules/scala-collection-compat_2…\n",
            "\u001b[2K  100.0% [##########] 1.9 KiB (11.3 KiB / s)\n",
            "\u001b[2Khttps://repo1.maven.org/maven2/org/typelevel/cats-core_2.12/1.6.0/cats-core_2.1…\n",
            "\u001b[2K    0.0% [          ] 0B (0B / s)\n",
            "\u001b[2Khttps://repo1.maven.org/maven2/org/scalameta/metabrowse-server_2.12/0.2.2/metab…\n",
            "\u001b[2K    0.0% [          ] 0B (0B / s)\n",
            "\u001b[2Khttps://repo1.maven.org/maven2/sh/almond/interpreter-api_2.12/0.3.0+16-548dc10f…\n",
            "\u001b[2K    0.0% [          ] 0B (0B / s)\n",
            "\u001b[2Khttps://jitpack.io/com/github/jupyter/jvm-repr/0.4.0/jvm-repr-0.4.0.pom\n",
            "\u001b[2K    0.0% [          ] 0B (0B / s)\n",
            "\u001b[2A\u001b[2A\u001b[2A\u001b[2A\u001b[10000D\u001b[2Khttps://repo1.maven.org/maven2/org/typelevel/cats-core_2.12/1.6.0/cats-core_2.1…\n",
            "\u001b[2K    0.0% [          ] 0B (0B / s)\n",
            "\u001b[2Khttps://repo1.maven.org/maven2/org/scalameta/metabrowse-server_2.12/0.2.2/metab…\n",
            "\u001b[2K    0.0% [          ] 0B (0B / s)\n",
            "\u001b[2Khttps://repo1.maven.org/maven2/sh/almond/interpreter-api_2.12/0.3.0+16-548dc10f…\n",
            "\u001b[2K    0.0% [          ] 0B (0B / s)\n",
            "\u001b[2Khttps://jitpack.io/com/github/jupyter/jvm-repr/0.4.0/jvm-repr-0.4.0.pom\n",
            "\u001b[2K    0.0% [          ] 0B (0B / s)\n",
            "\u001b[2Khttps://repo1.maven.org/maven2/sh/almond/protocol_2.12/0.3.0+16-548dc10f-SNAPSH…\n",
            "\u001b[2K    0.0% [          ] 0B (0B / s)\n",
            "\u001b[2A\u001b[2A\u001b[2A\u001b[2A\u001b[2A\u001b[10000D\u001b[2Khttps://jitpack.io/com/github/jupyter/jvm-repr/0.4.0/jvm-repr-0.4.0.pom\n",
            "\u001b[2K  100.0% [##########] 1.4 KiB (24.0 KiB / s)\n",
            "\u001b[2Khttps://repo1.maven.org/maven2/org/typelevel/cats-core_2.12/1.6.0/cats-core_2.1…\n",
            "\u001b[2K    0.0% [          ] 0B (0B / s)\n",
            "\u001b[2Khttps://repo1.maven.org/maven2/org/scalameta/metabrowse-server_2.12/0.2.2/metab…\n",
            "\u001b[2K    0.0% [          ] 0B (0B / s)\n",
            "\u001b[2Khttps://repo1.maven.org/maven2/sh/almond/interpreter-api_2.12/0.3.0+16-548dc10f…\n",
            "\u001b[2K    0.0% [          ] 0B (0B / s)\n",
            "\u001b[2Khttps://repo1.maven.org/maven2/sh/almond/protocol_2.12/0.3.0+16-548dc10f-SNAPSH…\n",
            "\u001b[2K    0.0% [          ] 0B (0B / s)\n",
            "\u001b[2Khttps://jitpack.io/com/github/jupyter/jvm-repr/0.4.0/jvm-repr-0.4.0.pom.sha1\n",
            "\u001b[2K    0.0% [          ] 0B (0B / s)\n",
            "\u001b[2A\u001b[2A\u001b[2A\u001b[2A\u001b[2A\u001b[10000D\u001b[2Khttps://jitpack.io/com/github/jupyter/jvm-repr/0.4.0/jvm-repr-0.4.0.pom.sha1\n",
            "\u001b[2K  100.0% [##########] 40B (1.2 KiB / s)\n",
            "\u001b[2Khttps://repo1.maven.org/maven2/org/typelevel/cats-core_2.12/1.6.0/cats-core_2.1…\n",
            "\u001b[2K    0.0% [          ] 0B (0B / s)\n",
            "\u001b[2Khttps://repo1.maven.org/maven2/org/scalameta/metabrowse-server_2.12/0.2.2/metab…\n",
            "\u001b[2K    0.0% [          ] 0B (0B / s)\n",
            "\u001b[2Khttps://repo1.maven.org/maven2/sh/almond/protocol_2.12/0.3.0+16-548dc10f-SNAPSH…\n",
            "\u001b[2K    0.0% [          ] 0B (0B / s)\n",
            "\u001b[2Khttps://repo1.maven.org/maven2/sh/almond/interpreter-api_2.12/0.3.0+16-548dc10f…\n",
            "\u001b[2K    0.0% [          ] 0B (0B / s)\n",
            "\u001b[2A\u001b[2A\u001b[2A\u001b[2A\u001b[2A\u001b[10000D\u001b[2Khttps://repo1.maven.org/maven2/org/scalameta/metabrowse-server_2.12/0.2.2/metab…\n",
            "\u001b[2K  100.0% [##########] 3.0 KiB (10.2 KiB / s)\n",
            "\u001b[2Khttps://repo1.maven.org/maven2/org/typelevel/cats-core_2.12/1.6.0/cats-core_2.1…\n",
            "\u001b[2K  100.0% [##########] 4.5 KiB (10.4 KiB / s)\n",
            "\u001b[2Khttps://repo1.maven.org/maven2/sh/almond/protocol_2.12/0.3.0+16-548dc10f-SNAPSH…\n",
            "\u001b[2K    0.0% [          ] 0B (0B / s)\n",
            "\u001b[2Khttps://repo1.maven.org/maven2/sh/almond/interpreter-api_2.12/0.3.0+16-548dc10f…\n",
            "\u001b[2K    0.0% [          ] 0B (0B / s)\n",
            "\u001b[2K\u001b[1B\u001b[2K\u001b[1B\u001b[2A\u001b[2A\u001b[2A\u001b[10000D\u001b[2Khttps://repo1.maven.org/maven2/sh/almond/interpreter-api_2.12/0.3.0+16-548dc10f…\n",
            "\u001b[2K    0.0% [          ] 0B (0B / s)\n",
            "\u001b[2Khttps://repo1.maven.org/maven2/sh/almond/protocol_2.12/0.3.0+16-548dc10f-SNAPSH…\n",
            "\u001b[2K    0.0% [          ] 0B (0B / s)\n",
            "\u001b[2A\u001b[2A\u001b[10000D\u001b[2Khttps://repo1.maven.org/maven2/sh/almond/protocol_2.12/0.3.0+16-548dc10f-SNAPSH…\n",
            "\u001b[2K    0.0% [          ] 0B (0B / s)\n",
            "\u001b[2Khttps://repo1.maven.org/maven2/sh/almond/interpreter-api_2.12/0.3.0+16-548dc10f…\n",
            "\u001b[2K    0.0% [          ] 0B (0B / s)\n",
            "\u001b[2A\u001b[2A\u001b[10000D\u001b[2Khttps://repo1.maven.org/maven2/sh/almond/interpreter-api_2.12/0.3.0+16-548dc10f…\n",
            "\u001b[2K    0.0% [          ] 0B (0B / s)\n",
            "\u001b[2Khttps://repo1.maven.org/maven2/sh/almond/protocol_2.12/0.3.0+16-548dc10f-SNAPSH…\n",
            "\u001b[2K    0.0% [          ] 0B (0B / s)\n",
            "\u001b[2A\u001b[2A\u001b[10000D\u001b[2Khttps://repo1.maven.org/maven2/sh/almond/protocol_2.12/0.3.0+16-548dc10f-SNAPSH…\n",
            "\u001b[2K    0.0% [          ] 0B (0B / s)\n",
            "\u001b[2Khttps://repo1.maven.org/maven2/sh/almond/interpreter-api_2.12/0.3.0+16-548dc10f…\n",
            "\u001b[2K    0.0% [          ] 0B (0B / s)\n",
            "\u001b[2A\u001b[2A\u001b[10000D\u001b[2Khttps://repo1.maven.org/maven2/sh/almond/interpreter-api_2.12/0.3.0+16-548dc10f…\n",
            "\u001b[2K    0.0% [          ] 0B (0B / s)\n",
            "\u001b[2Khttps://repo1.maven.org/maven2/sh/almond/protocol_2.12/0.3.0+16-548dc10f-SNAPSH…\n",
            "\u001b[2K    0.0% [          ] 0B (0B / s)\n",
            "\u001b[2A\u001b[2A\u001b[10000D\u001b[2Khttps://repo1.maven.org/maven2/sh/almond/protocol_2.12/0.3.0+16-548dc10f-SNAPSH…\n",
            "\u001b[2K    0.0% [          ] 0B (0B / s)\n",
            "\u001b[2Khttps://jitpack.io/sh/almond/interpreter-api_2.12/0.3.0+16-548dc10f-SNAPSHOT/in…\n",
            "\u001b[2K    0.0% [          ] 0B (0B / s)\n",
            "\u001b[2A\u001b[2A\u001b[10000D\u001b[2Khttps://repo1.maven.org/maven2/sh/almond/protocol_2.12/0.3.0+16-548dc10f-SNAPSH…\n",
            "\u001b[2K    0.0% [          ] 0B (0B / s)\n",
            "\u001b[2Khttps://jitpack.io/sh/almond/interpreter-api_2.12/0.3.0+16-548dc10f-SNAPSHOT/in…\n",
            "\u001b[2K    0.0% [          ] 0B (0B / s)\n",
            "\u001b[2A\u001b[2A\u001b[10000D\u001b[2Khttps://jitpack.io/sh/almond/protocol_2.12/0.3.0+16-548dc10f-SNAPSHOT/protocol_…\n",
            "\u001b[2K    0.0% [          ] 0B (0B / s)\n",
            "\u001b[2Khttps://jitpack.io/sh/almond/interpreter-api_2.12/0.3.0+16-548dc10f-SNAPSHOT/ma…\n",
            "\u001b[2K    0.0% [          ] 0B (0B / s)\n",
            "\u001b[2A\u001b[2A\u001b[10000D\u001b[2Khttps://jitpack.io/sh/almond/protocol_2.12/0.3.0+16-548dc10f-SNAPSHOT/protocol_…\n",
            "\u001b[2K    0.0% [          ] 0B (0B / s)\n",
            "\u001b[2Khttps://jitpack.io/sh/almond/interpreter-api_2.12/0.3.0+16-548dc10f-SNAPSHOT/ma…\n",
            "\u001b[2K    0.0% [          ] 0B (0B / s)\n",
            "\u001b[2A\u001b[2A\u001b[10000D\u001b[2Khttps://jitpack.io/sh/almond/protocol_2.12/0.3.0+16-548dc10f-SNAPSHOT/maven-met…\n",
            "\u001b[2K    0.0% [          ] 0B (0B / s)\n",
            "\u001b[2Khttps://oss.sonatype.org/content/repositories/snapshots/sh/almond/interpreter-a…\n",
            "\u001b[2K    0.0% [          ] 0B (0B / s)\n",
            "\u001b[2A\u001b[2A\u001b[10000D\u001b[2Khttps://oss.sonatype.org/content/repositories/snapshots/sh/almond/interpreter-a…\n",
            "\u001b[2K    0.0% [          ] 0B (0B / s)\n",
            "\u001b[2Khttps://jitpack.io/sh/almond/protocol_2.12/0.3.0+16-548dc10f-SNAPSHOT/maven-met…\n",
            "\u001b[2K    0.0% [          ] 0B (0B / s)\n",
            "\u001b[2A\u001b[2A\u001b[10000D\u001b[2Khttps://oss.sonatype.org/content/repositories/snapshots/sh/almond/interpreter-a…\n",
            "\u001b[2K    0.0% [          ] 0B (0B / s)\n",
            "\u001b[2Khttps://oss.sonatype.org/content/repositories/snapshots/sh/almond/protocol_2.12…\n",
            "\u001b[2K    0.0% [          ] 0B (0B / s)\n",
            "\u001b[2A\u001b[2A\u001b[10000D\u001b[2Khttps://oss.sonatype.org/content/repositories/snapshots/sh/almond/interpreter-a…\n",
            "\u001b[2K  100.0% [##########] 1.6 KiB (8.0 KiB / s)\n",
            "\u001b[2Khttps://oss.sonatype.org/content/repositories/snapshots/sh/almond/protocol_2.12…\n",
            "\u001b[2K    0.0% [          ] 0B (0B / s)\n",
            "\u001b[2Khttps://oss.sonatype.org/content/repositories/snapshots/sh/almond/interpreter-a…\n",
            "\u001b[2K    0.0% [          ] 0B (0B / s)\n",
            "\u001b[2A\u001b[2A\u001b[10000D\u001b[2Khttps://oss.sonatype.org/content/repositories/snapshots/sh/almond/protocol_2.12…\n",
            "\u001b[2K  100.0% [##########] 2.0 KiB (9.7 KiB / s)\n",
            "\u001b[2Khttps://oss.sonatype.org/content/repositories/snapshots/sh/almond/interpreter-a…\n",
            "\u001b[2K    0.0% [          ] 0B (0B / s)\n",
            "\u001b[2Khttps://oss.sonatype.org/content/repositories/snapshots/sh/almond/protocol_2.12…\n",
            "\u001b[2K    0.0% [          ] 0B (0B / s)\n",
            "\u001b[2A\u001b[2A\u001b[10000D\u001b[2Khttps://oss.sonatype.org/content/repositories/snapshots/sh/almond/protocol_2.12…\n",
            "\u001b[2K    0.0% [          ] 0B (0B / s)\n",
            "\u001b[2K\u001b[1B\u001b[2K\u001b[1B\u001b[2A\u001b[2A\u001b[10000D\u001b[2Khttps://oss.sonatype.org/content/repositories/snapshots/sh/almond/protocol_2.12…\n",
            "\u001b[2K  100.0% [##########] 40B (210B / s)\n",
            "\u001b[2A\u001b[10000D\u001b[2K\u001b[1B\u001b[2K\u001b[1B\u001b[2A\u001b[10000D\u001b[2Khttps://repo1.maven.org/maven2/org/slf4j/slf4j-parent/1.7.26/slf4j-parent-1.7.2…\n",
            "\u001b[2K    0.0% [          ] 0B (0B / s)\n",
            "\u001b[2A\u001b[10000D\u001b[2Khttps://repo1.maven.org/maven2/org/slf4j/slf4j-parent/1.7.26/slf4j-parent-1.7.2…\n",
            "\u001b[2K    0.0% [          ] 0B (0B / s)\n",
            "\u001b[2A\u001b[10000D\u001b[2Khttps://repo1.maven.org/maven2/org/slf4j/slf4j-parent/1.7.26/slf4j-parent-1.7.2…\n",
            "\u001b[2K  100.0% [##########] 13.4 KiB (86.7 KiB / s)\n",
            "\u001b[10000D\u001b[2Khttps://repo1.maven.org/maven2/io/undertow/undertow-core/2.0.17.Final/undertow-…\n",
            "\u001b[2K    0.0% [          ] 0B (0B / s)\n",
            "\u001b[2Khttps://repo1.maven.org/maven2/org/jline/jline-terminal-jna/3.6.2/jline-termina…\n",
            "\u001b[2K    0.0% [          ] 0B (0B / s)\n",
            "\u001b[2Khttps://repo1.maven.org/maven2/org/scalameta/metabrowse-cli_2.12/0.2.2/metabrow…\n",
            "\u001b[2K    0.0% [          ] 0B (0B / s)\n",
            "\u001b[2Khttps://repo1.maven.org/maven2/org/slf4j/slf4j-api/1.8.0-beta2/slf4j-api-1.8.0-…\n",
            "\u001b[2K    0.0% [          ] 0B (0B / s)\n",
            "\u001b[2Khttps://repo1.maven.org/maven2/org/typelevel/macro-compat_2.12/1.1.1/macro-comp…\n",
            "\u001b[2K    0.0% [          ] 0B (0B / s)\n",
            "\u001b[2Khttps://repo1.maven.org/maven2/com/lihaoyi/ammonite-runtime_2.12/1.6.4/ammonite…\n",
            "\u001b[2K    0.0% [          ] 0B (0B / s)\n",
            "\u001b[2A\u001b[2A\u001b[2A\u001b[2A\u001b[2A\u001b[2A\u001b[10000D\u001b[2Khttps://repo1.maven.org/maven2/io/undertow/undertow-core/2.0.17.Final/undertow-…\n",
            "\u001b[2K    0.0% [          ] 0B (0B / s)\n",
            "\u001b[2Khttps://repo1.maven.org/maven2/org/jline/jline-terminal-jna/3.6.2/jline-termina…\n",
            "\u001b[2K    0.0% [          ] 0B (0B / s)\n",
            "\u001b[2Khttps://repo1.maven.org/maven2/org/scalameta/metabrowse-cli_2.12/0.2.2/metabrow…\n",
            "\u001b[2K    0.0% [          ] 0B (0B / s)\n",
            "\u001b[2Khttps://repo1.maven.org/maven2/org/slf4j/slf4j-api/1.8.0-beta2/slf4j-api-1.8.0-…\n",
            "\u001b[2K    0.0% [          ] 0B (0B / s)\n",
            "\u001b[2Khttps://repo1.maven.org/maven2/org/typelevel/macro-compat_2.12/1.1.1/macro-comp…\n",
            "\u001b[2K    0.0% [          ] 0B (0B / s)\n",
            "\u001b[2Khttps://repo1.maven.org/maven2/com/lihaoyi/ammonite-runtime_2.12/1.6.4/ammonite…\n",
            "\u001b[2K    0.0% [          ] 0B (0B / s)\n",
            "\u001b[2A\u001b[2A\u001b[2A\u001b[2A\u001b[2A\u001b[2A\u001b[10000D\u001b[2Khttps://repo1.maven.org/maven2/com/lihaoyi/ammonite-runtime_2.12/1.6.4/ammonite…\n",
            "\u001b[2K  100.0% [##########] 2.1 KiB (14.0 KiB / s)\n",
            "\u001b[2Khttps://repo1.maven.org/maven2/org/scalameta/metabrowse-cli_2.12/0.2.2/metabrow…\n",
            "\u001b[2K  100.0% [##########] 2.6 KiB (18.0 KiB / s)\n",
            "\u001b[2Khttps://repo1.maven.org/maven2/org/typelevel/macro-compat_2.12/1.1.1/macro-comp…\n",
            "\u001b[2K  100.0% [##########] 1.9 KiB (12.7 KiB / s)\n",
            "\u001b[2Khttps://repo1.maven.org/maven2/io/undertow/undertow-core/2.0.17.Final/undertow-…\n",
            "\u001b[2K  100.0% [##########] 26.7 KiB (178.2 KiB / s)\n",
            "\u001b[2Khttps://repo1.maven.org/maven2/org/jline/jline-terminal-jna/3.6.2/jline-termina…\n",
            "\u001b[2K  100.0% [##########] 1.7 KiB (11.6 KiB / s)\n",
            "\u001b[2Khttps://repo1.maven.org/maven2/org/slf4j/slf4j-api/1.8.0-beta2/slf4j-api-1.8.0-…\n",
            "\u001b[2K    0.0% [          ] 0B (0B / s)\n",
            "\u001b[2Khttps://repo1.maven.org/maven2/org/scalameta/interactive_2.12.7/4.1.4/interacti…\n",
            "\u001b[2K    0.0% [          ] 0B (0B / s)\n",
            "\u001b[2Khttps://repo1.maven.org/maven2/com/github/scopt/scopt_2.12/3.5.0/scopt_2.12-3.5…\n",
            "\u001b[2K    0.0% [          ] 0B (0B / s)\n",
            "\u001b[2Khttps://repo1.maven.org/maven2/org/jline/jline-reader/3.6.2/jline-reader-3.6.2.…\n",
            "\u001b[2K    0.0% [          ] 0B (0B / s)\n",
            "\u001b[2A\u001b[2A\u001b[2A\u001b[2A\u001b[2A\u001b[2A\u001b[10000D\u001b[2Khttps://repo1.maven.org/maven2/io/undertow/undertow-core/2.0.17.Final/undertow-…\n",
            "\u001b[2K  100.0% [##########] 26.7 KiB (157.2 KiB / s)\n",
            "\u001b[2Khttps://repo1.maven.org/maven2/org/jline/jline-terminal-jna/3.6.2/jline-termina…\n",
            "\u001b[2K  100.0% [##########] 1.7 KiB (10.1 KiB / s)\n",
            "\u001b[2Khttps://repo1.maven.org/maven2/org/slf4j/slf4j-api/1.8.0-beta2/slf4j-api-1.8.0-…\n",
            "\u001b[2K    0.0% [          ] 0B (0B / s)\n",
            "\u001b[2Khttps://repo1.maven.org/maven2/org/scalameta/interactive_2.12.7/4.1.4/interacti…\n",
            "\u001b[2K    0.0% [          ] 0B (0B / s)\n",
            "\u001b[2Khttps://repo1.maven.org/maven2/com/github/scopt/scopt_2.12/3.5.0/scopt_2.12-3.5…\n",
            "\u001b[2K    0.0% [          ] 0B (0B / s)\n",
            "\u001b[2Khttps://repo1.maven.org/maven2/org/jline/jline-reader/3.6.2/jline-reader-3.6.2.…\n",
            "\u001b[2K    0.0% [          ] 0B (0B / s)\n",
            "\u001b[2Khttps://repo1.maven.org/maven2/org/typelevel/machinist_2.12/0.6.6/machinist_2.1…\n",
            "\u001b[2K    0.0% [          ] 0B (0B / s)\n",
            "\u001b[2Khttps://repo1.maven.org/maven2/org/scalameta/mtags_2.12/0.4.4/mtags_2.12-0.4.4.…\n",
            "\u001b[2K    0.0% [          ] 0B (0B / s)\n",
            "\u001b[2A\u001b[2A\u001b[2A\u001b[2A\u001b[2A\u001b[2A\u001b[10000D\u001b[2Khttps://repo1.maven.org/maven2/org/scalameta/interactive_2.12.7/4.1.4/interacti…\n",
            "\u001b[2K  100.0% [##########] 2.9 KiB (21.0 KiB / s)\n",
            "\u001b[2Khttps://repo1.maven.org/maven2/org/slf4j/slf4j-api/1.8.0-beta2/slf4j-api-1.8.0-…\n",
            "\u001b[2K    0.0% [          ] 0B (0B / s)\n",
            "\u001b[2Khttps://repo1.maven.org/maven2/com/github/scopt/scopt_2.12/3.5.0/scopt_2.12-3.5…\n",
            "\u001b[2K    0.0% [          ] 0B (0B / s)\n",
            "\u001b[2Khttps://repo1.maven.org/maven2/org/jline/jline-reader/3.6.2/jline-reader-3.6.2.…\n",
            "\u001b[2K    0.0% [          ] 0B (0B / s)\n",
            "\u001b[2Khttps://repo1.maven.org/maven2/org/typelevel/machinist_2.12/0.6.6/machinist_2.1…\n",
            "\u001b[2K    0.0% [          ] 0B (0B / s)\n",
            "\u001b[2Khttps://repo1.maven.org/maven2/org/scalameta/mtags_2.12/0.4.4/mtags_2.12-0.4.4.…\n",
            "\u001b[2K    0.0% [          ] 0B (0B / s)\n",
            "\u001b[2A\u001b[2A\u001b[2A\u001b[2A\u001b[2A\u001b[10000D\u001b[2Khttps://repo1.maven.org/maven2/com/github/scopt/scopt_2.12/3.5.0/scopt_2.12-3.5…\n",
            "\u001b[2K  100.0% [##########] 1.6 KiB (11.2 KiB / s)\n",
            "\u001b[2Khttps://repo1.maven.org/maven2/org/typelevel/machinist_2.12/0.6.6/machinist_2.1…\n",
            "\u001b[2K  100.0% [##########] 1.7 KiB (12.7 KiB / s)\n",
            "\u001b[2Khttps://repo1.maven.org/maven2/org/scalameta/mtags_2.12/0.4.4/mtags_2.12-0.4.4.…\n",
            "\u001b[2K  100.0% [##########] 2.7 KiB (20.0 KiB / s)\n",
            "\u001b[2Khttps://repo1.maven.org/maven2/org/slf4j/slf4j-api/1.8.0-beta2/slf4j-api-1.8.0-…\n",
            "\u001b[2K    0.0% [          ] 0B (0B / s)\n",
            "\u001b[2Khttps://repo1.maven.org/maven2/org/jline/jline-reader/3.6.2/jline-reader-3.6.2.…\n",
            "\u001b[2K    0.0% [          ] 0B (0B / s)\n",
            "\u001b[2Khttps://repo1.maven.org/maven2/com/lihaoyi/ammonite-util_2.12/1.6.4/ammonite-ut…\n",
            "\u001b[2K    0.0% [          ] 0B (0B / s)\n",
            "\u001b[2Khttps://repo1.maven.org/maven2/com/github/javaparser/javaparser-core/3.2.5/java…\n",
            "\u001b[2K    0.0% [          ] 0B (0B / s)\n",
            "\u001b[2A\u001b[2A\u001b[2A\u001b[2A\u001b[2A\u001b[10000D\u001b[2Khttps://repo1.maven.org/maven2/org/scalameta/mtags_2.12/0.4.4/mtags_2.12-0.4.4.…\n",
            "\u001b[2K  100.0% [##########] 2.7 KiB (17.6 KiB / s)\n",
            "\u001b[2Khttps://repo1.maven.org/maven2/org/slf4j/slf4j-api/1.8.0-beta2/slf4j-api-1.8.0-…\n",
            "\u001b[2K    0.0% [          ] 0B (0B / s)\n",
            "\u001b[2Khttps://repo1.maven.org/maven2/org/jline/jline-reader/3.6.2/jline-reader-3.6.2.…\n",
            "\u001b[2K    0.0% [          ] 0B (0B / s)\n",
            "\u001b[2Khttps://repo1.maven.org/maven2/com/lihaoyi/ammonite-util_2.12/1.6.4/ammonite-ut…\n",
            "\u001b[2K    0.0% [          ] 0B (0B / s)\n",
            "\u001b[2Khttps://repo1.maven.org/maven2/com/github/javaparser/javaparser-core/3.2.5/java…\n",
            "\u001b[2K    0.0% [          ] 0B (0B / s)\n",
            "\u001b[2Khttps://repo1.maven.org/maven2/com/lihaoyi/ammonite-ops_2.12/1.6.4/ammonite-ops…\n",
            "\u001b[2K    0.0% [          ] 0B (0B / s)\n",
            "\u001b[2Khttps://repo1.maven.org/maven2/com/github/alexarchambault/argonaut-shapeless_6.…\n",
            "\u001b[2K    0.0% [          ] 0B (0B / s)\n",
            "\u001b[2A\u001b[2A\u001b[2A\u001b[2A\u001b[2A\u001b[2A\u001b[10000D\u001b[2Khttps://repo1.maven.org/maven2/org/jline/jline-reader/3.6.2/jline-reader-3.6.2.…\n",
            "\u001b[2K  100.0% [##########] 1.1 KiB (4.5 KiB / s)\n",
            "\u001b[2Khttps://repo1.maven.org/maven2/org/slf4j/slf4j-api/1.8.0-beta2/slf4j-api-1.8.0-…\n",
            "\u001b[2K    0.0% [          ] 0B (0B / s)\n",
            "\u001b[2Khttps://repo1.maven.org/maven2/com/lihaoyi/ammonite-util_2.12/1.6.4/ammonite-ut…\n",
            "\u001b[2K    0.0% [          ] 0B (0B / s)\n",
            "\u001b[2Khttps://repo1.maven.org/maven2/com/github/javaparser/javaparser-core/3.2.5/java…\n",
            "\u001b[2K    0.0% [          ] 0B (0B / s)\n",
            "\u001b[2Khttps://repo1.maven.org/maven2/com/lihaoyi/ammonite-ops_2.12/1.6.4/ammonite-ops…\n",
            "\u001b[2K    0.0% [          ] 0B (0B / s)\n",
            "\u001b[2Khttps://repo1.maven.org/maven2/com/github/alexarchambault/argonaut-shapeless_6.…\n",
            "\u001b[2K    0.0% [          ] 0B (0B / s)\n",
            "\u001b[2A\u001b[2A\u001b[2A\u001b[2A\u001b[2A\u001b[10000D\u001b[2Khttps://repo1.maven.org/maven2/com/lihaoyi/ammonite-util_2.12/1.6.4/ammonite-ut…\n",
            "\u001b[2K  100.0% [##########] 1.9 KiB (13.3 KiB / s)\n",
            "\u001b[2Khttps://repo1.maven.org/maven2/org/slf4j/slf4j-api/1.8.0-beta2/slf4j-api-1.8.0-…\n",
            "\u001b[2K  100.0% [##########] 1.5 KiB (3.8 KiB / s)\n",
            "\u001b[2Khttps://repo1.maven.org/maven2/com/github/javaparser/javaparser-core/3.2.5/java…\n",
            "\u001b[2K    0.0% [          ] 0B (0B / s)\n",
            "\u001b[2Khttps://repo1.maven.org/maven2/com/lihaoyi/ammonite-ops_2.12/1.6.4/ammonite-ops…\n",
            "\u001b[2K    0.0% [          ] 0B (0B / s)\n",
            "\u001b[2Khttps://repo1.maven.org/maven2/com/github/alexarchambault/argonaut-shapeless_6.…\n",
            "\u001b[2K    0.0% [          ] 0B (0B / s)\n",
            "\u001b[2A\u001b[2A\u001b[2A\u001b[10000D\u001b[2Khttps://repo1.maven.org/maven2/com/github/javaparser/javaparser-core/3.2.5/java…\n",
            "\u001b[2K  100.0% [##########] 6.9 KiB (47.3 KiB / s)\n",
            "\u001b[2Khttps://repo1.maven.org/maven2/com/lihaoyi/ammonite-ops_2.12/1.6.4/ammonite-ops…\n",
            "\u001b[2K  100.0% [##########] 1.3 KiB (9.7 KiB / s)\n",
            "\u001b[2Khttps://repo1.maven.org/maven2/com/github/alexarchambault/argonaut-shapeless_6.…\n",
            "\u001b[2K   64.5% [######    ] 1.3 KiB (9.7 KiB / s)\n",
            "\u001b[2A\u001b[2A\u001b[10000D\u001b[2Khttps://repo1.maven.org/maven2/com/lihaoyi/ammonite-ops_2.12/1.6.4/ammonite-ops…\n",
            "\u001b[2K  100.0% [##########] 1.3 KiB (8.4 KiB / s)\n",
            "\u001b[2Khttps://repo1.maven.org/maven2/com/github/alexarchambault/argonaut-shapeless_6.…\n",
            "\u001b[2K   64.5% [######    ] 1.3 KiB (8.5 KiB / s)\n",
            "\u001b[2Khttps://repo1.maven.org/maven2/com/lihaoyi/ammonite-interp_2.12.8/1.6.4/ammonit…\n",
            "\u001b[2K    0.0% [          ] 0B (0B / s)\n",
            "\u001b[2Khttps://repo1.maven.org/maven2/org/typelevel/cats-kernel_2.12/1.6.0/cats-kernel…\n",
            "\u001b[2K    0.0% [          ] 0B (0B / s)\n",
            "\u001b[2A\u001b[2A\u001b[2A\u001b[10000D\u001b[2Khttps://repo1.maven.org/maven2/com/github/alexarchambault/argonaut-shapeless_6.…\n",
            "\u001b[2K  100.0% [##########] 2.1 KiB (11.7 KiB / s)\n",
            "\u001b[2Khttps://repo1.maven.org/maven2/com/lihaoyi/ammonite-interp_2.12.8/1.6.4/ammonit…\n",
            "\u001b[2K    0.0% [          ] 0B (0B / s)\n",
            "\u001b[2Khttps://repo1.maven.org/maven2/org/typelevel/cats-kernel_2.12/1.6.0/cats-kernel…\n",
            "\u001b[2K    0.0% [          ] 0B (0B / s)\n",
            "\u001b[2Khttps://repo1.maven.org/maven2/org/typelevel/cats-macros_2.12/1.6.0/cats-macros…\n",
            "\u001b[2K    0.0% [          ] 0B (0B / s)\n",
            "\u001b[2Khttps://repo1.maven.org/maven2/org/jline/jline-terminal/3.6.2/jline-terminal-3.…\n",
            "\u001b[2K    0.0% [          ] 0B (0B / s)\n",
            "\u001b[2A\u001b[2A\u001b[2A\u001b[2A\u001b[10000D\u001b[2Khttps://repo1.maven.org/maven2/com/lihaoyi/ammonite-interp_2.12.8/1.6.4/ammonit…\n",
            "\u001b[2K    0.0% [          ] 0B (0B / s)\n",
            "\u001b[2Khttps://repo1.maven.org/maven2/org/typelevel/cats-kernel_2.12/1.6.0/cats-kernel…\n",
            "\u001b[2K    0.0% [          ] 0B (0B / s)\n",
            "\u001b[2Khttps://repo1.maven.org/maven2/org/typelevel/cats-macros_2.12/1.6.0/cats-macros…\n",
            "\u001b[2K    0.0% [          ] 0B (0B / s)\n",
            "\u001b[2Khttps://repo1.maven.org/maven2/org/jline/jline-terminal/3.6.2/jline-terminal-3.…\n",
            "\u001b[2K    0.0% [          ] 0B (0B / s)\n",
            "\u001b[2Khttps://repo1.maven.org/maven2/com/lihaoyi/sourcecode_2.12/0.1.4/sourcecode_2.1…\n",
            "\u001b[2K    0.0% [          ] 0B (0B / s)\n",
            "\u001b[2Khttps://repo1.maven.org/maven2/org/jboss/xnio/xnio-nio/3.7.0.Final/xnio-nio-3.7…\n",
            "\u001b[2K    0.0% [          ] 0B (0B / s)\n",
            "\u001b[2A\u001b[2A\u001b[2A\u001b[2A\u001b[2A\u001b[2A\u001b[10000D\u001b[2Khttps://repo1.maven.org/maven2/com/lihaoyi/sourcecode_2.12/0.1.4/sourcecode_2.1…\n",
            "\u001b[2K  100.0% [##########] 1.9 KiB (13.3 KiB / s)\n",
            "\u001b[2Khttps://repo1.maven.org/maven2/com/lihaoyi/ammonite-interp_2.12.8/1.6.4/ammonit…\n",
            "\u001b[2K    0.0% [          ] 0B (0B / s)\n",
            "\u001b[2Khttps://repo1.maven.org/maven2/org/typelevel/cats-kernel_2.12/1.6.0/cats-kernel…\n",
            "\u001b[2K    0.0% [          ] 0B (0B / s)\n",
            "\u001b[2Khttps://repo1.maven.org/maven2/org/typelevel/cats-macros_2.12/1.6.0/cats-macros…\n",
            "\u001b[2K    0.0% [          ] 0B (0B / s)\n",
            "\u001b[2Khttps://repo1.maven.org/maven2/org/jline/jline-terminal/3.6.2/jline-terminal-3.…\n",
            "\u001b[2K    0.0% [          ] 0B (0B / s)\n",
            "\u001b[2Khttps://repo1.maven.org/maven2/org/jboss/xnio/xnio-nio/3.7.0.Final/xnio-nio-3.7…\n",
            "\u001b[2K    0.0% [          ] 0B (0B / s)\n",
            "\u001b[2A\u001b[2A\u001b[2A\u001b[2A\u001b[2A\u001b[2A\u001b[10000D\u001b[2Khttps://repo1.maven.org/maven2/com/lihaoyi/sourcecode_2.12/0.1.4/sourcecode_2.1…\n",
            "\u001b[2K  100.0% [##########] 1.9 KiB (13.2 KiB / s)\n",
            "\u001b[2Khttps://repo1.maven.org/maven2/com/lihaoyi/ammonite-interp_2.12.8/1.6.4/ammonit…\n",
            "\u001b[2K   55.7% [#####     ] 1.3 KiB (7.7 KiB / s)\n",
            "\u001b[2Khttps://repo1.maven.org/maven2/org/typelevel/cats-kernel_2.12/1.6.0/cats-kernel…\n",
            "\u001b[2K    0.0% [          ] 0B (0B / s)\n",
            "\u001b[2Khttps://repo1.maven.org/maven2/org/typelevel/cats-macros_2.12/1.6.0/cats-macros…\n",
            "\u001b[2K    0.0% [          ] 0B (0B / s)\n",
            "\u001b[2Khttps://repo1.maven.org/maven2/org/jline/jline-terminal/3.6.2/jline-terminal-3.…\n",
            "\u001b[2K    0.0% [          ] 0B (0B / s)\n",
            "\u001b[2Khttps://repo1.maven.org/maven2/org/jboss/xnio/xnio-nio/3.7.0.Final/xnio-nio-3.7…\n",
            "\u001b[2K    0.0% [          ] 0B (0B / s)\n",
            "\u001b[2A\u001b[2A\u001b[2A\u001b[2A\u001b[2A\u001b[2A\u001b[10000D\u001b[2Khttps://repo1.maven.org/maven2/com/lihaoyi/ammonite-interp_2.12.8/1.6.4/ammonit…\n",
            "\u001b[2K  100.0% [##########] 2.4 KiB (12.5 KiB / s)\n",
            "\u001b[2Khttps://repo1.maven.org/maven2/com/lihaoyi/sourcecode_2.12/0.1.4/sourcecode_2.1…\n",
            "\u001b[2K  100.0% [##########] 1.9 KiB (11.7 KiB / s)\n",
            "\u001b[2Khttps://repo1.maven.org/maven2/org/typelevel/cats-macros_2.12/1.6.0/cats-macros…\n",
            "\u001b[2K  100.0% [##########] 3.9 KiB (21.3 KiB / s)\n",
            "\u001b[2Khttps://repo1.maven.org/maven2/org/typelevel/cats-kernel_2.12/1.6.0/cats-kernel…\n",
            "\u001b[2K  100.0% [##########] 3.9 KiB (21.0 KiB / s)\n",
            "\u001b[2Khttps://repo1.maven.org/maven2/org/jline/jline-terminal/3.6.2/jline-terminal-3.…\n",
            "\u001b[2K  100.0% [##########] 1.1 KiB (6.2 KiB / s)\n",
            "\u001b[2Khttps://repo1.maven.org/maven2/org/jboss/xnio/xnio-nio/3.7.0.Final/xnio-nio-3.7…\n",
            "\u001b[2K    0.0% [          ] 0B (0B / s)\n",
            "\u001b[2Khttps://repo1.maven.org/maven2/com/lihaoyi/ammonite-terminal_2.12/1.6.4/ammonit…\n",
            "\u001b[2K    0.0% [          ] 0B (0B / s)\n",
            "\u001b[2A\u001b[2A\u001b[2A\u001b[2A\u001b[10000D\u001b[2Khttps://repo1.maven.org/maven2/org/jline/jline-terminal/3.6.2/jline-terminal-3.…\n",
            "\u001b[2K  100.0% [##########] 1.1 KiB (5.7 KiB / s)\n",
            "\u001b[2Khttps://repo1.maven.org/maven2/org/typelevel/cats-kernel_2.12/1.6.0/cats-kernel…\n",
            "\u001b[2K  100.0% [##########] 3.9 KiB (19.3 KiB / s)\n",
            "\u001b[2Khttps://repo1.maven.org/maven2/org/jboss/xnio/xnio-nio/3.7.0.Final/xnio-nio-3.7…\n",
            "\u001b[2K    0.0% [          ] 0B (0B / s)\n",
            "\u001b[2Khttps://repo1.maven.org/maven2/com/lihaoyi/ammonite-terminal_2.12/1.6.4/ammonit…\n",
            "\u001b[2K    0.0% [          ] 0B (0B / s)\n",
            "\u001b[2Khttps://repo1.maven.org/maven2/sh/almond/channels_2.12/0.3.0+16-548dc10f-SNAPSH…\n",
            "\u001b[2K    0.0% [          ] 0B (0B / s)\n",
            "\u001b[2A\u001b[2A\u001b[2A\u001b[10000D\u001b[2Khttps://repo1.maven.org/maven2/com/lihaoyi/ammonite-terminal_2.12/1.6.4/ammonit…\n",
            "\u001b[2K  100.0% [##########] 1.5 KiB (9.3 KiB / s)\n",
            "\u001b[2Khttps://repo1.maven.org/maven2/org/jboss/xnio/xnio-nio/3.7.0.Final/xnio-nio-3.7…\n",
            "\u001b[2K    0.0% [          ] 0B (0B / s)\n",
            "\u001b[2Khttps://repo1.maven.org/maven2/sh/almond/channels_2.12/0.3.0+16-548dc10f-SNAPSH…\n",
            "\u001b[2K    0.0% [          ] 0B (0B / s)\n",
            "\u001b[2A\u001b[2A\u001b[10000D\u001b[2Khttps://repo1.maven.org/maven2/org/jboss/xnio/xnio-nio/3.7.0.Final/xnio-nio-3.7…\n",
            "\u001b[2K  100.0% [##########] 7.7 KiB (19.1 KiB / s)\n",
            "\u001b[2Khttps://repo1.maven.org/maven2/sh/almond/channels_2.12/0.3.0+16-548dc10f-SNAPSH…\n",
            "\u001b[2K    0.0% [          ] 0B (0B / s)\n",
            "\u001b[2A\u001b[10000D\u001b[2Khttps://repo1.maven.org/maven2/sh/almond/channels_2.12/0.3.0+16-548dc10f-SNAPSH…\n",
            "\u001b[2K    0.0% [          ] 0B (0B / s)\n",
            "\u001b[2A\u001b[10000D\u001b[2Khttps://repo1.maven.org/maven2/sh/almond/channels_2.12/0.3.0+16-548dc10f-SNAPSH…\n",
            "\u001b[2K    0.0% [          ] 0B (0B / s)\n",
            "\u001b[2A\u001b[10000D\u001b[2Khttps://jitpack.io/sh/almond/channels_2.12/0.3.0+16-548dc10f-SNAPSHOT/channels_…\n",
            "\u001b[2K    0.0% [          ] 0B (0B / s)\n",
            "\u001b[2A\u001b[10000D\u001b[2Khttps://jitpack.io/sh/almond/channels_2.12/0.3.0+16-548dc10f-SNAPSHOT/channels_…\n",
            "\u001b[2K    0.0% [          ] 0B (0B / s)\n",
            "\u001b[2A\u001b[10000D\u001b[2Khttps://jitpack.io/sh/almond/channels_2.12/0.3.0+16-548dc10f-SNAPSHOT/maven-met…\n",
            "\u001b[2K    0.0% [          ] 0B (0B / s)\n",
            "\u001b[2A\u001b[10000D\u001b[2Khttps://jitpack.io/sh/almond/channels_2.12/0.3.0+16-548dc10f-SNAPSHOT/maven-met…\n",
            "\u001b[2K    0.0% [          ] 0B (0B / s)\n",
            "\u001b[2A\u001b[10000D\u001b[2Khttps://oss.sonatype.org/content/repositories/snapshots/sh/almond/channels_2.12…\n",
            "\u001b[2K    0.0% [          ] 0B (0B / s)\n",
            "\u001b[2A\u001b[10000D\u001b[2Khttps://oss.sonatype.org/content/repositories/snapshots/sh/almond/channels_2.12…\n",
            "\u001b[2K  100.0% [##########] 2.3 KiB (11.5 KiB / s)\n",
            "\u001b[2Khttps://oss.sonatype.org/content/repositories/snapshots/sh/almond/channels_2.12…\n",
            "\u001b[2K    0.0% [          ] 0B (0B / s)\n",
            "\u001b[2A\u001b[10000D\u001b[2K\u001b[1B\u001b[2K\u001b[1B\u001b[2A\u001b[10000D\u001b[2Khttps://repo1.maven.org/maven2/org/jboss/xnio/xnio-all/3.7.0.Final/xnio-all-3.7…\n",
            "\u001b[2K    0.0% [          ] 0B (0B / s)\n",
            "\u001b[2Khttps://repo1.maven.org/maven2/io/undertow/undertow-parent/2.0.17.Final/underto…\n",
            "\u001b[2K    0.0% [          ] 0B (0B / s)\n",
            "\u001b[2Khttps://repo1.maven.org/maven2/org/slf4j/slf4j-parent/1.8.0-beta2/slf4j-parent-…\n",
            "\u001b[2K    0.0% [          ] 0B (0B / s)\n",
            "\u001b[2Khttps://repo1.maven.org/maven2/com/github/javaparser/javaparser-parent/3.2.5/ja…\n",
            "\u001b[2K    0.0% [          ] 0B (0B / s)\n",
            "\u001b[2Khttps://repo1.maven.org/maven2/org/jline/jline-parent/3.6.2/jline-parent-3.6.2.…\n",
            "\u001b[2K    0.0% [          ] 0B (0B / s)\n",
            "\u001b[2A\u001b[2A\u001b[2A\u001b[2A\u001b[2A\u001b[10000D\u001b[2Khttps://repo1.maven.org/maven2/io/undertow/undertow-parent/2.0.17.Final/underto…\n",
            "\u001b[2K   17.6% [#         ] 4.0 KiB (29.8 KiB / s)\n",
            "\u001b[2Khttps://repo1.maven.org/maven2/org/jboss/xnio/xnio-all/3.7.0.Final/xnio-all-3.7…\n",
            "\u001b[2K    0.0% [          ] 0B (0B / s)\n",
            "\u001b[2Khttps://repo1.maven.org/maven2/org/slf4j/slf4j-parent/1.8.0-beta2/slf4j-parent-…\n",
            "\u001b[2K    0.0% [          ] 0B (0B / s)\n",
            "\u001b[2Khttps://repo1.maven.org/maven2/com/github/javaparser/javaparser-parent/3.2.5/ja…\n",
            "\u001b[2K    0.0% [          ] 0B (0B / s)\n",
            "\u001b[2Khttps://repo1.maven.org/maven2/org/jline/jline-parent/3.6.2/jline-parent-3.6.2.…\n",
            "\u001b[2K    0.0% [          ] 0B (0B / s)\n",
            "\u001b[2A\u001b[2A\u001b[2A\u001b[2A\u001b[2A\u001b[10000D\u001b[2Khttps://repo1.maven.org/maven2/com/github/javaparser/javaparser-parent/3.2.5/ja…\n",
            "\u001b[2K  100.0% [##########] 9.2 KiB (61.7 KiB / s)\n",
            "\u001b[2Khttps://repo1.maven.org/maven2/org/slf4j/slf4j-parent/1.8.0-beta2/slf4j-parent-…\n",
            "\u001b[2K   77.2% [#######   ] 12.0 KiB (80.3 KiB / s)\n",
            "\u001b[2Khttps://repo1.maven.org/maven2/org/jline/jline-parent/3.6.2/jline-parent-3.6.2.…\n",
            "\u001b[2K   71.3% [#######   ] 12.0 KiB (82.5 KiB / s)\n",
            "\u001b[2Khttps://repo1.maven.org/maven2/io/undertow/undertow-parent/2.0.17.Final/underto…\n",
            "\u001b[2K   67.7% [######    ] 15.5 KiB (102.6 KiB / s)\n",
            "\u001b[2Khttps://repo1.maven.org/maven2/org/jboss/xnio/xnio-all/3.7.0.Final/xnio-all-3.7…\n",
            "\u001b[2K    0.0% [          ] 0B (0B / s)\n",
            "\u001b[2A\u001b[2A\u001b[2A\u001b[2A\u001b[10000D\u001b[2Khttps://repo1.maven.org/maven2/io/undertow/undertow-parent/2.0.17.Final/underto…\n",
            "\u001b[2K  100.0% [##########] 22.9 KiB (133.7 KiB / s)\n",
            "\u001b[2Khttps://repo1.maven.org/maven2/org/jline/jline-parent/3.6.2/jline-parent-3.6.2.…\n",
            "\u001b[2K  100.0% [##########] 16.9 KiB (101.8 KiB / s)\n",
            "\u001b[2Khttps://repo1.maven.org/maven2/org/slf4j/slf4j-parent/1.8.0-beta2/slf4j-parent-…\n",
            "\u001b[2K  100.0% [##########] 15.6 KiB (91.8 KiB / s)\n",
            "\u001b[2Khttps://repo1.maven.org/maven2/org/jboss/xnio/xnio-all/3.7.0.Final/xnio-all-3.7…\n",
            "\u001b[2K    0.0% [          ] 0B (0B / s)\n",
            "\u001b[2A\u001b[10000D\u001b[2Khttps://repo1.maven.org/maven2/org/jboss/xnio/xnio-all/3.7.0.Final/xnio-all-3.7…\n",
            "\u001b[2K  100.0% [##########] 6.7 KiB (20.2 KiB / s)\n",
            "\u001b[10000D\u001b[2Khttps://repo1.maven.org/maven2/org/jboss/jboss-parent/28/jboss-parent-28.pom\n",
            "\u001b[2K    0.0% [          ] 0B (0B / s)\n",
            "\u001b[2Khttps://repo1.maven.org/maven2/org/sonatype/oss/oss-parent/9/oss-parent-9.pom\n",
            "\u001b[2K    0.0% [          ] 0B (0B / s)\n",
            "\u001b[2A\u001b[2A\u001b[10000D\u001b[2Khttps://repo1.maven.org/maven2/org/sonatype/oss/oss-parent/9/oss-parent-9.pom\n",
            "\u001b[2K   62.6% [######    ] 4.0 KiB (30.9 KiB / s)\n",
            "\u001b[2Khttps://repo1.maven.org/maven2/org/jboss/jboss-parent/28/jboss-parent-28.pom\n",
            "\u001b[2K    0.0% [          ] 0B (0B / s)\n",
            "\u001b[2A\u001b[2A\u001b[10000D\u001b[2Khttps://repo1.maven.org/maven2/org/sonatype/oss/oss-parent/9/oss-parent-9.pom\n",
            "\u001b[2K  100.0% [##########] 6.4 KiB (43.6 KiB / s)\n",
            "\u001b[2Khttps://repo1.maven.org/maven2/org/jboss/jboss-parent/28/jboss-parent-28.pom\n",
            "\u001b[2K   45.6% [####      ] 15.5 KiB (103.9 KiB / s)\n",
            "\u001b[2A\u001b[10000D\u001b[2Khttps://repo1.maven.org/maven2/org/jboss/jboss-parent/28/jboss-parent-28.pom\n",
            "\u001b[2K   77.1% [#######   ] 26.2 KiB (155.0 KiB / s)\n",
            "\u001b[2A\u001b[10000D\u001b[2Khttps://repo1.maven.org/maven2/org/jboss/jboss-parent/28/jboss-parent-28.pom\n",
            "\u001b[2K  100.0% [##########] 34.0 KiB (179.7 KiB / s)\n",
            "\u001b[10000D\u001b[2Khttps://repo1.maven.org/maven2/org/jboss/jboss-parent/20/jboss-parent-20.pom\n",
            "\u001b[2K    0.0% [          ] 0B (0B / s)\n",
            "\u001b[2A\u001b[10000D\u001b[2Khttps://repo1.maven.org/maven2/org/jboss/jboss-parent/20/jboss-parent-20.pom\n",
            "\u001b[2K    0.0% [          ] 0B (0B / s)\n",
            "\u001b[2A\u001b[10000D\u001b[2Khttps://repo1.maven.org/maven2/org/jboss/jboss-parent/20/jboss-parent-20.pom\n",
            "\u001b[2K   46.7% [####      ] 15.5 KiB (100.6 KiB / s)\n",
            "\u001b[2A\u001b[10000D\u001b[2Khttps://repo1.maven.org/maven2/org/jboss/jboss-parent/20/jboss-parent-20.pom\n",
            "\u001b[2K  100.0% [##########] 33.1 KiB (190.5 KiB / s)\n",
            "\u001b[10000D\u001b[2Khttps://repo1.maven.org/maven2/com/lihaoyi/os-lib_2.12/0.2.6/os-lib_2.12-0.2.6.…\n",
            "\u001b[2K    0.0% [          ] 0B (0B / s)\n",
            "\u001b[2Khttps://repo1.maven.org/maven2/com/github/pathikrit/better-files_2.12/3.7.0/bet…\n",
            "\u001b[2K    0.0% [          ] 0B (0B / s)\n",
            "\u001b[2Khttps://repo1.maven.org/maven2/org/scalameta/scalameta_2.12/4.1.4/scalameta_2.1…\n",
            "\u001b[2K    0.0% [          ] 0B (0B / s)\n",
            "\u001b[2Khttps://repo1.maven.org/maven2/io/get-coursier/coursier-cache_2.12/1.1.0-M7/cou…\n",
            "\u001b[2K    0.0% [          ] 0B (0B / s)\n",
            "\u001b[2Khttps://repo1.maven.org/maven2/org/scalameta/metabrowse-core_2.12/0.2.2/metabro…\n",
            "\u001b[2K    0.0% [          ] 0B (0B / s)\n",
            "\u001b[2Khttps://repo1.maven.org/maven2/org/scala-lang/scala-compiler/2.12.8/scala-compi…\n",
            "\u001b[2K    0.0% [          ] 0B (0B / s)\n",
            "\u001b[2A\u001b[2A\u001b[2A\u001b[2A\u001b[2A\u001b[2A\u001b[10000D\u001b[2Khttps://repo1.maven.org/maven2/com/lihaoyi/os-lib_2.12/0.2.6/os-lib_2.12-0.2.6.…\n",
            "\u001b[2K  100.0% [##########] 1.2 KiB (8.5 KiB / s)\n",
            "\u001b[2Khttps://repo1.maven.org/maven2/org/scalameta/scalameta_2.12/4.1.4/scalameta_2.1…\n",
            "\u001b[2K   32.8% [###       ] 1.3 KiB (10.0 KiB / s)\n",
            "\u001b[2Khttps://repo1.maven.org/maven2/com/github/pathikrit/better-files_2.12/3.7.0/bet…\n",
            "\u001b[2K    0.0% [          ] 0B (0B / s)\n",
            "\u001b[2Khttps://repo1.maven.org/maven2/io/get-coursier/coursier-cache_2.12/1.1.0-M7/cou…\n",
            "\u001b[2K    0.0% [          ] 0B (0B / s)\n",
            "\u001b[2Khttps://repo1.maven.org/maven2/org/scalameta/metabrowse-core_2.12/0.2.2/metabro…\n",
            "\u001b[2K    0.0% [          ] 0B (0B / s)\n",
            "\u001b[2Khttps://repo1.maven.org/maven2/org/scala-lang/scala-compiler/2.12.8/scala-compi…\n",
            "\u001b[2K    0.0% [          ] 0B (0B / s)\n",
            "\u001b[2A\u001b[2A\u001b[2A\u001b[2A\u001b[2A\u001b[2A\u001b[10000D\u001b[2Khttps://repo1.maven.org/maven2/com/github/pathikrit/better-files_2.12/3.7.0/bet…\n",
            "\u001b[2K  100.0% [##########] 2.7 KiB (17.4 KiB / s)\n",
            "\u001b[2Khttps://repo1.maven.org/maven2/com/lihaoyi/os-lib_2.12/0.2.6/os-lib_2.12-0.2.6.…\n",
            "\u001b[2K  100.0% [##########] 1.2 KiB (7.5 KiB / s)\n",
            "\u001b[2Khttps://repo1.maven.org/maven2/io/get-coursier/coursier-cache_2.12/1.1.0-M7/cou…\n",
            "\u001b[2K  100.0% [##########] 1.7 KiB (11.5 KiB / s)\n",
            "\u001b[2Khttps://repo1.maven.org/maven2/org/scalameta/metabrowse-core_2.12/0.2.2/metabro…\n",
            "\u001b[2K  100.0% [##########] 2.3 KiB (15.1 KiB / s)\n",
            "\u001b[2Khttps://repo1.maven.org/maven2/org/scalameta/scalameta_2.12/4.1.4/scalameta_2.1…\n",
            "\u001b[2K  100.0% [##########] 4.1 KiB (26.7 KiB / s)\n",
            "\u001b[2Khttps://repo1.maven.org/maven2/org/scala-lang/scala-compiler/2.12.8/scala-compi…\n",
            "\u001b[2K    0.0% [          ] 0B (0B / s)\n",
            "\u001b[2Khttps://repo1.maven.org/maven2/com/lihaoyi/fansi_2.12/0.2.4/fansi_2.12-0.2.4.pom\n",
            "\u001b[2K    0.0% [          ] 0B (0B / s)\n",
            "\u001b[2Khttps://repo1.maven.org/maven2/com/lihaoyi/pprint_2.12/0.5.2/pprint_2.12-0.5.2.…\n",
            "\u001b[2K    0.0% [          ] 0B (0B / s)\n",
            "\u001b[2Khttps://repo1.maven.org/maven2/com/lihaoyi/requests_2.12/0.1.7/requests_2.12-0.…\n",
            "\u001b[2K    0.0% [          ] 0B (0B / s)\n",
            "\u001b[2Khttps://repo1.maven.org/maven2/com/thoughtworks/qdox/qdox/2.0-M9/qdox-2.0-M9.pom\n",
            "\u001b[2K    0.0% [          ] 0B (0B / s)\n",
            "\u001b[2Khttps://repo1.maven.org/maven2/org/jboss/logging/jboss-logging/3.3.2.Final/jbos…\n",
            "\u001b[2K    0.0% [          ] 0B (0B / s)\n",
            "\u001b[2A\u001b[2A\u001b[2A\u001b[2A\u001b[2A\u001b[2A\u001b[10000D\u001b[2Khttps://repo1.maven.org/maven2/com/lihaoyi/pprint_2.12/0.5.2/pprint_2.12-0.5.2.…\n",
            "\u001b[2K  100.0% [##########] 2.6 KiB (19.6 KiB / s)\n",
            "\u001b[2Khttps://repo1.maven.org/maven2/org/scala-lang/scala-compiler/2.12.8/scala-compi…\n",
            "\u001b[2K    0.0% [          ] 0B (0B / s)\n",
            "\u001b[2Khttps://repo1.maven.org/maven2/com/lihaoyi/fansi_2.12/0.2.4/fansi_2.12-0.2.4.pom\n",
            "\u001b[2K    0.0% [          ] 0B (0B / s)\n",
            "\u001b[2Khttps://repo1.maven.org/maven2/com/lihaoyi/requests_2.12/0.1.7/requests_2.12-0.…\n",
            "\u001b[2K    0.0% [          ] 0B (0B / s)\n",
            "\u001b[2Khttps://repo1.maven.org/maven2/com/thoughtworks/qdox/qdox/2.0-M9/qdox-2.0-M9.pom\n",
            "\u001b[2K    0.0% [          ] 0B (0B / s)\n",
            "\u001b[2Khttps://repo1.maven.org/maven2/org/jboss/logging/jboss-logging/3.3.2.Final/jbos…\n",
            "\u001b[2K    0.0% [          ] 0B (0B / s)\n",
            "\u001b[2A\u001b[2A\u001b[2A\u001b[2A\u001b[2A\u001b[2A\u001b[10000D\u001b[2Khttps://repo1.maven.org/maven2/com/lihaoyi/pprint_2.12/0.5.2/pprint_2.12-0.5.2.…\n",
            "\u001b[2K  100.0% [##########] 2.6 KiB (16.5 KiB / s)\n",
            "\u001b[2Khttps://repo1.maven.org/maven2/com/lihaoyi/requests_2.12/0.1.7/requests_2.12-0.…\n",
            "\u001b[2K  100.0% [##########] 1.2 KiB (8.1 KiB / s)\n",
            "\u001b[2Khttps://repo1.maven.org/maven2/com/lihaoyi/fansi_2.12/0.2.4/fansi_2.12-0.2.4.pom\n",
            "\u001b[2K  100.0% [##########] 1.8 KiB (11.4 KiB / s)\n",
            "\u001b[2Khttps://repo1.maven.org/maven2/com/thoughtworks/qdox/qdox/2.0-M9/qdox-2.0-M9.pom\n",
            "\u001b[2K   77.9% [#######   ] 12.0 KiB (80.3 KiB / s)\n",
            "\u001b[2Khttps://repo1.maven.org/maven2/org/scala-lang/scala-compiler/2.12.8/scala-compi…\n",
            "\u001b[2K    0.0% [          ] 0B (0B / s)\n",
            "\u001b[2Khttps://repo1.maven.org/maven2/org/jboss/logging/jboss-logging/3.3.2.Final/jbos…\n",
            "\u001b[2K    0.0% [          ] 0B (0B / s)\n",
            "\u001b[2Khttps://repo1.maven.org/maven2/io/argonaut/argonaut_2.12/6.2.2/argonaut_2.12-6.…\n",
            "\u001b[2K    0.0% [          ] 0B (0B / s)\n",
            "\u001b[2A\u001b[2A\u001b[2A\u001b[2A\u001b[2A\u001b[10000D\u001b[2Khttps://repo1.maven.org/maven2/com/lihaoyi/fansi_2.12/0.2.4/fansi_2.12-0.2.4.pom\n",
            "\u001b[2K  100.0% [##########] 1.8 KiB (10.4 KiB / s)\n",
            "\u001b[2Khttps://repo1.maven.org/maven2/com/thoughtworks/qdox/qdox/2.0-M9/qdox-2.0-M9.pom\n",
            "\u001b[2K  100.0% [##########] 15.5 KiB (93.8 KiB / s)\n",
            "\u001b[2Khttps://repo1.maven.org/maven2/org/jboss/logging/jboss-logging/3.3.2.Final/jbos…\n",
            "\u001b[2K  100.0% [##########] 6.2 KiB (38.3 KiB / s)\n",
            "\u001b[2Khttps://repo1.maven.org/maven2/org/scala-lang/scala-compiler/2.12.8/scala-compi…\n",
            "\u001b[2K    0.0% [          ] 0B (0B / s)\n",
            "\u001b[2Khttps://repo1.maven.org/maven2/io/argonaut/argonaut_2.12/6.2.2/argonaut_2.12-6.…\n",
            "\u001b[2K    0.0% [          ] 0B (0B / s)\n",
            "\u001b[2Khttps://repo1.maven.org/maven2/net/java/dev/jna/jna/4.2.2/jna-4.2.2.pom\n",
            "\u001b[2K    0.0% [          ] 0B (0B / s)\n",
            "\u001b[2A\u001b[2A\u001b[2A\u001b[10000D\u001b[2Khttps://repo1.maven.org/maven2/org/scala-lang/scala-compiler/2.12.8/scala-compi…\n",
            "\u001b[2K    0.0% [          ] 0B (0B / s)\n",
            "\u001b[2Khttps://repo1.maven.org/maven2/io/argonaut/argonaut_2.12/6.2.2/argonaut_2.12-6.…\n",
            "\u001b[2K    0.0% [          ] 0B (0B / s)\n",
            "\u001b[2Khttps://repo1.maven.org/maven2/net/java/dev/jna/jna/4.2.2/jna-4.2.2.pom\n",
            "\u001b[2K    0.0% [          ] 0B (0B / s)\n",
            "\u001b[2Khttps://repo1.maven.org/maven2/com/lihaoyi/upickle_2.12/0.7.1/upickle_2.12-0.7.…\n",
            "\u001b[2K    0.0% [          ] 0B (0B / s)\n",
            "\u001b[2A\u001b[2A\u001b[2A\u001b[2A\u001b[10000D\u001b[2Khttps://repo1.maven.org/maven2/org/scala-lang/scala-compiler/2.12.8/scala-compi…\n",
            "\u001b[2K    0.0% [          ] 0B (0B / s)\n",
            "\u001b[2Khttps://repo1.maven.org/maven2/io/argonaut/argonaut_2.12/6.2.2/argonaut_2.12-6.…\n",
            "\u001b[2K    0.0% [          ] 0B (0B / s)\n",
            "\u001b[2Khttps://repo1.maven.org/maven2/net/java/dev/jna/jna/4.2.2/jna-4.2.2.pom\n",
            "\u001b[2K    0.0% [          ] 0B (0B / s)\n",
            "\u001b[2Khttps://repo1.maven.org/maven2/com/lihaoyi/upickle_2.12/0.7.1/upickle_2.12-0.7.…\n",
            "\u001b[2K    0.0% [          ] 0B (0B / s)\n",
            "\u001b[2Khttps://repo1.maven.org/maven2/org/javassist/javassist/3.21.0-GA/javassist-3.21…\n",
            "\u001b[2K    0.0% [          ] 0B (0B / s)\n",
            "\u001b[2A\u001b[2A\u001b[2A\u001b[2A\u001b[2A\u001b[10000D\u001b[2Khttps://repo1.maven.org/maven2/org/scala-lang/scala-compiler/2.12.8/scala-compi…\n",
            "\u001b[2K    0.0% [          ] 0B (0B / s)\n",
            "\u001b[2Khttps://repo1.maven.org/maven2/io/argonaut/argonaut_2.12/6.2.2/argonaut_2.12-6.…\n",
            "\u001b[2K    0.0% [          ] 0B (0B / s)\n",
            "\u001b[2Khttps://repo1.maven.org/maven2/net/java/dev/jna/jna/4.2.2/jna-4.2.2.pom\n",
            "\u001b[2K    0.0% [          ] 0B (0B / s)\n",
            "\u001b[2Khttps://repo1.maven.org/maven2/com/lihaoyi/upickle_2.12/0.7.1/upickle_2.12-0.7.…\n",
            "\u001b[2K    0.0% [          ] 0B (0B / s)\n",
            "\u001b[2Khttps://repo1.maven.org/maven2/org/javassist/javassist/3.21.0-GA/javassist-3.21…\n",
            "\u001b[2K    0.0% [          ] 0B (0B / s)\n",
            "\u001b[2Khttps://repo1.maven.org/maven2/org/jboss/xnio/xnio-api/3.7.0.Final/xnio-api-3.7…\n",
            "\u001b[2K    0.0% [          ] 0B (0B / s)\n",
            "\u001b[2A\u001b[2A\u001b[2A\u001b[2A\u001b[2A\u001b[2A\u001b[10000D\u001b[2Khttps://repo1.maven.org/maven2/org/scala-lang/scala-compiler/2.12.8/scala-compi…\n",
            "\u001b[2K  100.0% [##########] 2.2 KiB (5.7 KiB / s)\n",
            "\u001b[2Khttps://repo1.maven.org/maven2/io/argonaut/argonaut_2.12/6.2.2/argonaut_2.12-6.…\n",
            "\u001b[2K    0.0% [          ] 0B (0B / s)\n",
            "\u001b[2Khttps://repo1.maven.org/maven2/net/java/dev/jna/jna/4.2.2/jna-4.2.2.pom\n",
            "\u001b[2K    0.0% [          ] 0B (0B / s)\n",
            "\u001b[2Khttps://repo1.maven.org/maven2/com/lihaoyi/upickle_2.12/0.7.1/upickle_2.12-0.7.…\n",
            "\u001b[2K    0.0% [          ] 0B (0B / s)\n",
            "\u001b[2Khttps://repo1.maven.org/maven2/org/javassist/javassist/3.21.0-GA/javassist-3.21…\n",
            "\u001b[2K    0.0% [          ] 0B (0B / s)\n",
            "\u001b[2Khttps://repo1.maven.org/maven2/org/jboss/xnio/xnio-api/3.7.0.Final/xnio-api-3.7…\n",
            "\u001b[2K    0.0% [          ] 0B (0B / s)\n",
            "\u001b[2A\u001b[2A\u001b[2A\u001b[2A\u001b[2A\u001b[2A\u001b[10000D\u001b[2Khttps://repo1.maven.org/maven2/io/argonaut/argonaut_2.12/6.2.2/argonaut_2.12-6.…\n",
            "\u001b[2K  100.0% [##########] 2.4 KiB (16.9 KiB / s)\n",
            "\u001b[2Khttps://repo1.maven.org/maven2/org/scala-lang/scala-compiler/2.12.8/scala-compi…\n",
            "\u001b[2K  100.0% [##########] 2.2 KiB (5.4 KiB / s)\n",
            "\u001b[2Khttps://repo1.maven.org/maven2/net/java/dev/jna/jna/4.2.2/jna-4.2.2.pom\n",
            "\u001b[2K    0.0% [          ] 0B (0B / s)\n",
            "\u001b[2Khttps://repo1.maven.org/maven2/com/lihaoyi/upickle_2.12/0.7.1/upickle_2.12-0.7.…\n",
            "\u001b[2K    0.0% [          ] 0B (0B / s)\n",
            "\u001b[2Khttps://repo1.maven.org/maven2/org/javassist/javassist/3.21.0-GA/javassist-3.21…\n",
            "\u001b[2K    0.0% [          ] 0B (0B / s)\n",
            "\u001b[2Khttps://repo1.maven.org/maven2/org/jboss/xnio/xnio-api/3.7.0.Final/xnio-api-3.7…\n",
            "\u001b[2K    0.0% [          ] 0B (0B / s)\n",
            "\u001b[2Khttps://repo1.maven.org/maven2/org/zeromq/jeromq/0.5.0/jeromq-0.5.0.pom\n",
            "\u001b[2K    0.0% [          ] 0B (0B / s)\n",
            "\u001b[2A\u001b[2A\u001b[2A\u001b[2A\u001b[2A\u001b[10000D\u001b[2Khttps://repo1.maven.org/maven2/net/java/dev/jna/jna/4.2.2/jna-4.2.2.pom\n",
            "\u001b[2K    0.0% [          ] 0B (0B / s)\n",
            "\u001b[2Khttps://repo1.maven.org/maven2/com/lihaoyi/upickle_2.12/0.7.1/upickle_2.12-0.7.…\n",
            "\u001b[2K    0.0% [          ] 0B (0B / s)\n",
            "\u001b[2Khttps://repo1.maven.org/maven2/org/javassist/javassist/3.21.0-GA/javassist-3.21…\n",
            "\u001b[2K    0.0% [          ] 0B (0B / s)\n",
            "\u001b[2Khttps://repo1.maven.org/maven2/org/jboss/xnio/xnio-api/3.7.0.Final/xnio-api-3.7…\n",
            "\u001b[2K    0.0% [          ] 0B (0B / s)\n",
            "\u001b[2Khttps://repo1.maven.org/maven2/org/zeromq/jeromq/0.5.0/jeromq-0.5.0.pom\n",
            "\u001b[2K    0.0% [          ] 0B (0B / s)\n",
            "\u001b[2Khttps://repo1.maven.org/maven2/org/scalameta/semanticdb-scalac-core_2.12.7/4.1.…\n",
            "\u001b[2K    0.0% [          ] 0B (0B / s)\n",
            "\u001b[2A\u001b[2A\u001b[2A\u001b[2A\u001b[2A\u001b[2A\u001b[10000D\u001b[2Khttps://repo1.maven.org/maven2/net/java/dev/jna/jna/4.2.2/jna-4.2.2.pom\n",
            "\u001b[2K  100.0% [##########] 1.3 KiB (8.4 KiB / s)\n",
            "\u001b[2Khttps://repo1.maven.org/maven2/com/lihaoyi/upickle_2.12/0.7.1/upickle_2.12-0.7.…\n",
            "\u001b[2K    0.0% [          ] 0B (0B / s)\n",
            "\u001b[2Khttps://repo1.maven.org/maven2/org/javassist/javassist/3.21.0-GA/javassist-3.21…\n",
            "\u001b[2K    0.0% [          ] 0B (0B / s)\n",
            "\u001b[2Khttps://repo1.maven.org/maven2/org/jboss/xnio/xnio-api/3.7.0.Final/xnio-api-3.7…\n",
            "\u001b[2K    0.0% [          ] 0B (0B / s)\n",
            "\u001b[2Khttps://repo1.maven.org/maven2/org/zeromq/jeromq/0.5.0/jeromq-0.5.0.pom\n",
            "\u001b[2K    0.0% [          ] 0B (0B / s)\n",
            "\u001b[2Khttps://repo1.maven.org/maven2/org/scalameta/semanticdb-scalac-core_2.12.7/4.1.…\n",
            "\u001b[2K    0.0% [          ] 0B (0B / s)\n",
            "\u001b[2Khttps://repo1.maven.org/maven2/com/thesamet/scalapb/scalapb-json4s_2.12/0.7.2/s…\n",
            "\u001b[2K    0.0% [          ] 0B (0B / s)\n",
            "\u001b[2A\u001b[2A\u001b[2A\u001b[2A\u001b[2A\u001b[2A\u001b[10000D\u001b[2Khttps://repo1.maven.org/maven2/com/lihaoyi/upickle_2.12/0.7.1/upickle_2.12-0.7.…\n",
            "\u001b[2K  100.0% [##########] 1.6 KiB (10.9 KiB / s)\n",
            "\u001b[2Khttps://repo1.maven.org/maven2/org/javassist/javassist/3.21.0-GA/javassist-3.21…\n",
            "\u001b[2K    0.0% [          ] 0B (0B / s)\n",
            "\u001b[2Khttps://repo1.maven.org/maven2/org/jboss/xnio/xnio-api/3.7.0.Final/xnio-api-3.7…\n",
            "\u001b[2K    0.0% [          ] 0B (0B / s)\n",
            "\u001b[2Khttps://repo1.maven.org/maven2/org/zeromq/jeromq/0.5.0/jeromq-0.5.0.pom\n",
            "\u001b[2K    0.0% [          ] 0B (0B / s)\n",
            "\u001b[2Khttps://repo1.maven.org/maven2/org/scalameta/semanticdb-scalac-core_2.12.7/4.1.…\n",
            "\u001b[2K    0.0% [          ] 0B (0B / s)\n",
            "\u001b[2Khttps://repo1.maven.org/maven2/com/thesamet/scalapb/scalapb-json4s_2.12/0.7.2/s…\n",
            "\u001b[2K    0.0% [          ] 0B (0B / s)\n",
            "\u001b[2A\u001b[2A\u001b[2A\u001b[2A\u001b[2A\u001b[10000D\u001b[2Khttps://repo1.maven.org/maven2/org/javassist/javassist/3.21.0-GA/javassist-3.21…\n",
            "\u001b[2K  100.0% [##########] 9.6 KiB (66.2 KiB / s)\n",
            "\u001b[2Khttps://repo1.maven.org/maven2/org/jboss/xnio/xnio-api/3.7.0.Final/xnio-api-3.7…\n",
            "\u001b[2K   78.9% [#######   ] 6.7 KiB (48.2 KiB / s)\n",
            "\u001b[2Khttps://repo1.maven.org/maven2/org/zeromq/jeromq/0.5.0/jeromq-0.5.0.pom\n",
            "\u001b[2K    0.0% [          ] 0B (0B / s)\n",
            "\u001b[2Khttps://repo1.maven.org/maven2/org/scalameta/semanticdb-scalac-core_2.12.7/4.1.…\n",
            "\u001b[2K    0.0% [          ] 0B (0B / s)\n",
            "\u001b[2Khttps://repo1.maven.org/maven2/com/thesamet/scalapb/scalapb-json4s_2.12/0.7.2/s…\n",
            "\u001b[2K    0.0% [          ] 0B (0B / s)\n",
            "\u001b[2Khttps://repo1.maven.org/maven2/io/get-coursier/coursier_2.12/1.1.0-M7/coursier_…\n",
            "\u001b[2K    0.0% [          ] 0B (0B / s)\n",
            "\u001b[2A\u001b[2A\u001b[2A\u001b[2A\u001b[2A\u001b[10000D\u001b[2Khttps://repo1.maven.org/maven2/org/jboss/xnio/xnio-api/3.7.0.Final/xnio-api-3.7…\n",
            "\u001b[2K  100.0% [##########] 8.5 KiB (53.3 KiB / s)\n",
            "\u001b[2Khttps://repo1.maven.org/maven2/org/zeromq/jeromq/0.5.0/jeromq-0.5.0.pom\n",
            "\u001b[2K    0.0% [          ] 0B (0B / s)\n",
            "\u001b[2Khttps://repo1.maven.org/maven2/org/scalameta/semanticdb-scalac-core_2.12.7/4.1.…\n",
            "\u001b[2K    0.0% [          ] 0B (0B / s)\n",
            "\u001b[2Khttps://repo1.maven.org/maven2/com/thesamet/scalapb/scalapb-json4s_2.12/0.7.2/s…\n",
            "\u001b[2K    0.0% [          ] 0B (0B / s)\n",
            "\u001b[2Khttps://repo1.maven.org/maven2/io/get-coursier/coursier_2.12/1.1.0-M7/coursier_…\n",
            "\u001b[2K    0.0% [          ] 0B (0B / s)\n",
            "\u001b[2Khttps://repo1.maven.org/maven2/org/scala-lang/scala-reflect/2.12.8/scala-reflec…\n",
            "\u001b[2K    0.0% [          ] 0B (0B / s)\n",
            "\u001b[2Khttps://repo1.maven.org/maven2/sh/almond/logger_2.12/0.3.0+16-548dc10f-SNAPSHOT…\n",
            "\u001b[2K    0.0% [          ] 0B (0B / s)\n",
            "\u001b[2A\u001b[2A\u001b[2A\u001b[2A\u001b[2A\u001b[2A\u001b[10000D\u001b[2Khttps://repo1.maven.org/maven2/org/zeromq/jeromq/0.5.0/jeromq-0.5.0.pom\n",
            "\u001b[2K  100.0% [##########] 9.1 KiB (59.3 KiB / s)\n",
            "\u001b[2Khttps://repo1.maven.org/maven2/org/scalameta/semanticdb-scalac-core_2.12.7/4.1.…\n",
            "\u001b[2K    0.0% [          ] 0B (0B / s)\n",
            "\u001b[2Khttps://repo1.maven.org/maven2/com/thesamet/scalapb/scalapb-json4s_2.12/0.7.2/s…\n",
            "\u001b[2K    0.0% [          ] 0B (0B / s)\n",
            "\u001b[2Khttps://repo1.maven.org/maven2/io/get-coursier/coursier_2.12/1.1.0-M7/coursier_…\n",
            "\u001b[2K    0.0% [          ] 0B (0B / s)\n",
            "\u001b[2Khttps://repo1.maven.org/maven2/org/scala-lang/scala-reflect/2.12.8/scala-reflec…\n",
            "\u001b[2K    0.0% [          ] 0B (0B / s)\n",
            "\u001b[2Khttps://repo1.maven.org/maven2/sh/almond/logger_2.12/0.3.0+16-548dc10f-SNAPSHOT…\n",
            "\u001b[2K    0.0% [          ] 0B (0B / s)\n",
            "\u001b[2A\u001b[2A\u001b[2A\u001b[2A\u001b[2A\u001b[10000D\u001b[2Khttps://repo1.maven.org/maven2/org/scalameta/semanticdb-scalac-core_2.12.7/4.1.…\n",
            "\u001b[2K  100.0% [##########] 3.1 KiB (19.6 KiB / s)\n",
            "\u001b[2Khttps://repo1.maven.org/maven2/com/thesamet/scalapb/scalapb-json4s_2.12/0.7.2/s…\n",
            "\u001b[2K    0.0% [          ] 0B (0B / s)\n",
            "\u001b[2Khttps://repo1.maven.org/maven2/io/get-coursier/coursier_2.12/1.1.0-M7/coursier_…\n",
            "\u001b[2K    0.0% [          ] 0B (0B / s)\n",
            "\u001b[2Khttps://repo1.maven.org/maven2/org/scala-lang/scala-reflect/2.12.8/scala-reflec…\n",
            "\u001b[2K    0.0% [          ] 0B (0B / s)\n",
            "\u001b[2Khttps://repo1.maven.org/maven2/sh/almond/logger_2.12/0.3.0+16-548dc10f-SNAPSHOT…\n",
            "\u001b[2K    0.0% [          ] 0B (0B / s)\n",
            "\u001b[2Khttps://repo1.maven.org/maven2/com/lihaoyi/scalaparse_2.12/2.1.0/scalaparse_2.1…\n",
            "\u001b[2K    0.0% [          ] 0B (0B / s)\n",
            "\u001b[2A\u001b[2A\u001b[2A\u001b[2A\u001b[2A\u001b[10000D\u001b[2Khttps://repo1.maven.org/maven2/com/thesamet/scalapb/scalapb-json4s_2.12/0.7.2/s…\n",
            "\u001b[2K  100.0% [##########] 2.6 KiB (17.3 KiB / s)\n",
            "\u001b[2Khttps://repo1.maven.org/maven2/io/get-coursier/coursier_2.12/1.1.0-M7/coursier_…\n",
            "\u001b[2K    0.0% [          ] 0B (0B / s)\n",
            "\u001b[2Khttps://repo1.maven.org/maven2/org/scala-lang/scala-reflect/2.12.8/scala-reflec…\n",
            "\u001b[2K    0.0% [          ] 0B (0B / s)\n",
            "\u001b[2Khttps://repo1.maven.org/maven2/sh/almond/logger_2.12/0.3.0+16-548dc10f-SNAPSHOT…\n",
            "\u001b[2K    0.0% [          ] 0B (0B / s)\n",
            "\u001b[2Khttps://repo1.maven.org/maven2/com/lihaoyi/scalaparse_2.12/2.1.0/scalaparse_2.1…\n",
            "\u001b[2K    0.0% [          ] 0B (0B / s)\n",
            "\u001b[2A\u001b[2A\u001b[2A\u001b[2A\u001b[10000D\u001b[2Khttps://repo1.maven.org/maven2/io/get-coursier/coursier_2.12/1.1.0-M7/coursier_…\n",
            "\u001b[2K  100.0% [##########] 1.7 KiB (11.8 KiB / s)\n",
            "\u001b[2Khttps://repo1.maven.org/maven2/org/scala-lang/scala-reflect/2.12.8/scala-reflec…\n",
            "\u001b[2K  100.0% [##########] 1.8 KiB (13.3 KiB / s)\n",
            "\u001b[2Khttps://repo1.maven.org/maven2/sh/almond/logger_2.12/0.3.0+16-548dc10f-SNAPSHOT…\n",
            "\u001b[2K    0.0% [          ] 0B (0B / s)\n",
            "\u001b[2Khttps://repo1.maven.org/maven2/com/lihaoyi/scalaparse_2.12/2.1.0/scalaparse_2.1…\n",
            "\u001b[2K    0.0% [          ] 0B (0B / s)\n",
            "\u001b[2A\u001b[2A\u001b[10000D\u001b[2Khttps://repo1.maven.org/maven2/com/lihaoyi/scalaparse_2.12/2.1.0/scalaparse_2.1…\n",
            "\u001b[2K    0.0% [          ] 0B (0B / s)\n",
            "\u001b[2Khttps://repo1.maven.org/maven2/sh/almond/logger_2.12/0.3.0+16-548dc10f-SNAPSHOT…\n",
            "\u001b[2K    0.0% [          ] 0B (0B / s)\n",
            "\u001b[2A\u001b[2A\u001b[10000D\u001b[2Khttps://repo1.maven.org/maven2/com/lihaoyi/scalaparse_2.12/2.1.0/scalaparse_2.1…\n",
            "\u001b[2K  100.0% [##########] 1.2 KiB (9.0 KiB / s)\n",
            "\u001b[2Khttps://repo1.maven.org/maven2/sh/almond/logger_2.12/0.3.0+16-548dc10f-SNAPSHOT…\n",
            "\u001b[2K    0.0% [          ] 0B (0B / s)\n",
            "\u001b[2A\u001b[10000D\u001b[2Khttps://repo1.maven.org/maven2/sh/almond/logger_2.12/0.3.0+16-548dc10f-SNAPSHOT…\n",
            "\u001b[2K    0.0% [          ] 0B (0B / s)\n",
            "\u001b[2A\u001b[10000D\u001b[2Khttps://repo1.maven.org/maven2/sh/almond/logger_2.12/0.3.0+16-548dc10f-SNAPSHOT…\n",
            "\u001b[2K    0.0% [          ] 0B (0B / s)\n",
            "\u001b[2A\u001b[10000D\u001b[2Khttps://jitpack.io/sh/almond/logger_2.12/0.3.0+16-548dc10f-SNAPSHOT/logger_2.12…\n",
            "\u001b[2K    0.0% [          ] 0B (0B / s)\n",
            "\u001b[2A\u001b[10000D\u001b[2Khttps://jitpack.io/sh/almond/logger_2.12/0.3.0+16-548dc10f-SNAPSHOT/logger_2.12…\n",
            "\u001b[2K    0.0% [          ] 0B (0B / s)\n",
            "\u001b[2A\u001b[10000D\u001b[2Khttps://jitpack.io/sh/almond/logger_2.12/0.3.0+16-548dc10f-SNAPSHOT/maven-metad…\n",
            "\u001b[2K    0.0% [          ] 0B\n",
            "\u001b[2A\u001b[10000D\u001b[2Khttps://jitpack.io/sh/almond/logger_2.12/0.3.0+16-548dc10f-SNAPSHOT/maven-metad…\n",
            "\u001b[2K    0.0% [          ] 0B (0B / s)\n",
            "\u001b[2A\u001b[10000D\u001b[2Khttps://oss.sonatype.org/content/repositories/snapshots/sh/almond/logger_2.12/0…\n",
            "\u001b[2K    0.0% [          ] 0B (0B / s)\n",
            "\u001b[2A\u001b[10000D\u001b[2Khttps://oss.sonatype.org/content/repositories/snapshots/sh/almond/logger_2.12/0…\n",
            "\u001b[2K  100.0% [##########] 2.0 KiB (9.8 KiB / s)\n",
            "\u001b[2Khttps://oss.sonatype.org/content/repositories/snapshots/sh/almond/logger_2.12/0…\n",
            "\u001b[2K    0.0% [          ] 0B (0B / s)\n",
            "\u001b[2A\u001b[10000D\u001b[2Khttps://repo1.maven.org/maven2/org/jboss/jboss-parent/15/jboss-parent-15.pom\n",
            "\u001b[2K    0.0% [          ] 0B (0B / s)\n",
            "\u001b[2A\u001b[10000D\u001b[2Khttps://repo1.maven.org/maven2/org/jboss/jboss-parent/15/jboss-parent-15.pom\n",
            "\u001b[2K   30.4% [###       ] 9.4 KiB (66.5 KiB / s)\n",
            "\u001b[2A\u001b[10000D\u001b[2Khttps://repo1.maven.org/maven2/org/jboss/jboss-parent/15/jboss-parent-15.pom\n",
            "\u001b[2K   67.7% [######    ] 20.8 KiB (129.4 KiB / s)\n",
            "\u001b[2A\u001b[10000D\u001b[2Khttps://repo1.maven.org/maven2/org/jboss/jboss-parent/15/jboss-parent-15.pom\n",
            "\u001b[2K  100.0% [##########] 30.8 KiB (171.0 KiB / s)\n",
            "\u001b[10000D\u001b[2Khttps://repo1.maven.org/maven2/com/google/protobuf/protobuf-java/3.6.1/protobuf…\n",
            "\u001b[2K    0.0% [          ] 0B (0B / s)\n",
            "\u001b[2Khttps://repo1.maven.org/maven2/org/scala-lang/modules/scala-xml_2.12/1.1.0/scal…\n",
            "\u001b[2K    0.0% [          ] 0B (0B / s)\n",
            "\u001b[2A\u001b[2A\u001b[10000D\u001b[2Khttps://repo1.maven.org/maven2/com/google/protobuf/protobuf-java/3.6.1/protobuf…\n",
            "\u001b[2K    0.0% [          ] 0B (0B / s)\n",
            "\u001b[2Khttps://repo1.maven.org/maven2/org/scala-lang/modules/scala-xml_2.12/1.1.0/scal…\n",
            "\u001b[2K    0.0% [          ] 0B (0B / s)\n",
            "\u001b[2Khttps://repo1.maven.org/maven2/org/json4s/json4s-jackson_2.12/3.6.2/json4s-jack…\n",
            "\u001b[2K    0.0% [          ] 0B (0B / s)\n",
            "\u001b[2Khttps://repo1.maven.org/maven2/org/scalameta/inputs_2.12/4.1.4/inputs_2.12-4.1.…\n",
            "\u001b[2K    0.0% [          ] 0B (0B / s)\n",
            "\u001b[2Khttps://repo1.maven.org/maven2/org/scalameta/quasiquotes_2.12/4.1.4/quasiquotes…\n",
            "\u001b[2K    0.0% [          ] 0B (0B / s)\n",
            "\u001b[2Khttps://repo1.maven.org/maven2/com/lihaoyi/upack_2.12/0.7.1/upack_2.12-0.7.1.pom\n",
            "\u001b[2K    0.0% [          ] 0B (0B / s)\n",
            "\u001b[2A\u001b[2A\u001b[2A\u001b[2A\u001b[2A\u001b[2A\u001b[10000D\u001b[2Khttps://repo1.maven.org/maven2/com/google/protobuf/protobuf-java/3.6.1/protobuf…\n",
            "\u001b[2K  100.0% [##########] 4.6 KiB (35.7 KiB / s)\n",
            "\u001b[2Khttps://repo1.maven.org/maven2/org/scala-lang/modules/scala-xml_2.12/1.1.0/scal…\n",
            "\u001b[2K    0.0% [          ] 0B (0B / s)\n",
            "\u001b[2Khttps://repo1.maven.org/maven2/org/json4s/json4s-jackson_2.12/3.6.2/json4s-jack…\n",
            "\u001b[2K    0.0% [          ] 0B (0B / s)\n",
            "\u001b[2Khttps://repo1.maven.org/maven2/org/scalameta/inputs_2.12/4.1.4/inputs_2.12-4.1.…\n",
            "\u001b[2K    0.0% [          ] 0B (0B / s)\n",
            "\u001b[2Khttps://repo1.maven.org/maven2/org/scalameta/quasiquotes_2.12/4.1.4/quasiquotes…\n",
            "\u001b[2K    0.0% [          ] 0B (0B / s)\n",
            "\u001b[2Khttps://repo1.maven.org/maven2/com/lihaoyi/upack_2.12/0.7.1/upack_2.12-0.7.1.pom\n",
            "\u001b[2K    0.0% [          ] 0B (0B / s)\n",
            "\u001b[2A\u001b[2A\u001b[2A\u001b[2A\u001b[2A\u001b[2A\u001b[10000D\u001b[2Khttps://repo1.maven.org/maven2/com/google/protobuf/protobuf-java/3.6.1/protobuf…\n",
            "\u001b[2K  100.0% [##########] 4.6 KiB (30.9 KiB / s)\n",
            "\u001b[2Khttps://repo1.maven.org/maven2/org/scala-lang/modules/scala-xml_2.12/1.1.0/scal…\n",
            "\u001b[2K  100.0% [##########] 2.7 KiB (18.5 KiB / s)\n",
            "\u001b[2Khttps://repo1.maven.org/maven2/org/json4s/json4s-jackson_2.12/3.6.2/json4s-jack…\n",
            "\u001b[2K    0.0% [          ] 0B (0B / s)\n",
            "\u001b[2Khttps://repo1.maven.org/maven2/org/scalameta/inputs_2.12/4.1.4/inputs_2.12-4.1.…\n",
            "\u001b[2K    0.0% [          ] 0B (0B / s)\n",
            "\u001b[2Khttps://repo1.maven.org/maven2/org/scalameta/quasiquotes_2.12/4.1.4/quasiquotes…\n",
            "\u001b[2K    0.0% [          ] 0B (0B / s)\n",
            "\u001b[2Khttps://repo1.maven.org/maven2/com/lihaoyi/upack_2.12/0.7.1/upack_2.12-0.7.1.pom\n",
            "\u001b[2K    0.0% [          ] 0B (0B / s)\n",
            "\u001b[2Khttps://repo1.maven.org/maven2/org/wildfly/client/wildfly-client-config/1.0.0.F…\n",
            "\u001b[2K    0.0% [          ] 0B (0B / s)\n",
            "\u001b[2Khttps://repo1.maven.org/maven2/com/lihaoyi/geny_2.12/0.1.5/geny_2.12-0.1.5.pom\n",
            "\u001b[2K    0.0% [          ] 0B (0B / s)\n",
            "\u001b[2A\u001b[2A\u001b[2A\u001b[2A\u001b[2A\u001b[2A\u001b[10000D\u001b[2Khttps://repo1.maven.org/maven2/org/scalameta/quasiquotes_2.12/4.1.4/quasiquotes…\n",
            "\u001b[2K  100.0% [##########] 3.8 KiB (28.4 KiB / s)\n",
            "\u001b[2Khttps://repo1.maven.org/maven2/org/json4s/json4s-jackson_2.12/3.6.2/json4s-jack…\n",
            "\u001b[2K    0.0% [          ] 0B (0B / s)\n",
            "\u001b[2Khttps://repo1.maven.org/maven2/org/scalameta/inputs_2.12/4.1.4/inputs_2.12-4.1.…\n",
            "\u001b[2K    0.0% [          ] 0B (0B / s)\n",
            "\u001b[2Khttps://repo1.maven.org/maven2/com/lihaoyi/upack_2.12/0.7.1/upack_2.12-0.7.1.pom\n",
            "\u001b[2K    0.0% [          ] 0B (0B / s)\n",
            "\u001b[2Khttps://repo1.maven.org/maven2/org/wildfly/client/wildfly-client-config/1.0.0.F…\n",
            "\u001b[2K    0.0% [          ] 0B (0B / s)\n",
            "\u001b[2Khttps://repo1.maven.org/maven2/com/lihaoyi/geny_2.12/0.1.5/geny_2.12-0.1.5.pom\n",
            "\u001b[2K    0.0% [          ] 0B (0B / s)\n",
            "\u001b[2A\u001b[2A\u001b[2A\u001b[2A\u001b[2A\u001b[2A\u001b[10000D\u001b[2Khttps://repo1.maven.org/maven2/org/json4s/json4s-jackson_2.12/3.6.2/json4s-jack…\n",
            "\u001b[2K  100.0% [##########] 2.0 KiB (12.7 KiB / s)\n",
            "\u001b[2Khttps://repo1.maven.org/maven2/org/scalameta/quasiquotes_2.12/4.1.4/quasiquotes…\n",
            "\u001b[2K  100.0% [##########] 3.8 KiB (24.7 KiB / s)\n",
            "\u001b[2Khttps://repo1.maven.org/maven2/org/scalameta/inputs_2.12/4.1.4/inputs_2.12-4.1.…\n",
            "\u001b[2K    0.0% [          ] 0B (0B / s)\n",
            "\u001b[2Khttps://repo1.maven.org/maven2/com/lihaoyi/upack_2.12/0.7.1/upack_2.12-0.7.1.pom\n",
            "\u001b[2K    0.0% [          ] 0B (0B / s)\n",
            "\u001b[2Khttps://repo1.maven.org/maven2/org/wildfly/client/wildfly-client-config/1.0.0.F…\n",
            "\u001b[2K    0.0% [          ] 0B (0B / s)\n",
            "\u001b[2Khttps://repo1.maven.org/maven2/com/lihaoyi/geny_2.12/0.1.5/geny_2.12-0.1.5.pom\n",
            "\u001b[2K    0.0% [          ] 0B (0B / s)\n",
            "\u001b[2Khttps://repo1.maven.org/maven2/com/thesamet/scalapb/scalapb-runtime_2.12/0.8.4/…\n",
            "\u001b[2K    0.0% [          ] 0B (0B / s)\n",
            "\u001b[2Khttps://repo1.maven.org/maven2/org/scalameta/trees_2.12/4.1.4/trees_2.12-4.1.4.…\n",
            "\u001b[2K    0.0% [          ] 0B (0B / s)\n",
            "\u001b[2A\u001b[2A\u001b[2A\u001b[2A\u001b[2A\u001b[2A\u001b[10000D\u001b[2Khttps://repo1.maven.org/maven2/org/scalameta/inputs_2.12/4.1.4/inputs_2.12-4.1.…\n",
            "\u001b[2K  100.0% [##########] 3.1 KiB (15.7 KiB / s)\n",
            "\u001b[2Khttps://repo1.maven.org/maven2/com/lihaoyi/upack_2.12/0.7.1/upack_2.12-0.7.1.pom\n",
            "\u001b[2K    0.0% [          ] 0B (0B / s)\n",
            "\u001b[2Khttps://repo1.maven.org/maven2/org/wildfly/client/wildfly-client-config/1.0.0.F…\n",
            "\u001b[2K    0.0% [          ] 0B (0B / s)\n",
            "\u001b[2Khttps://repo1.maven.org/maven2/com/lihaoyi/geny_2.12/0.1.5/geny_2.12-0.1.5.pom\n",
            "\u001b[2K    0.0% [          ] 0B (0B / s)\n",
            "\u001b[2Khttps://repo1.maven.org/maven2/com/thesamet/scalapb/scalapb-runtime_2.12/0.8.4/…\n",
            "\u001b[2K    0.0% [          ] 0B (0B / s)\n",
            "\u001b[2Khttps://repo1.maven.org/maven2/org/scalameta/trees_2.12/4.1.4/trees_2.12-4.1.4.…\n",
            "\u001b[2K    0.0% [          ] 0B (0B / s)\n",
            "\u001b[2Khttps://repo1.maven.org/maven2/org/scalameta/transversers_2.12/4.1.4/transverse…\n",
            "\u001b[2K    0.0% [          ] 0B (0B / s)\n",
            "\u001b[2A\u001b[2A\u001b[2A\u001b[2A\u001b[2A\u001b[2A\u001b[10000D\u001b[2Khttps://repo1.maven.org/maven2/com/lihaoyi/geny_2.12/0.1.5/geny_2.12-0.1.5.pom\n",
            "\u001b[2K  100.0% [##########] 1.5 KiB (11.4 KiB / s)\n",
            "\u001b[2Khttps://repo1.maven.org/maven2/org/wildfly/client/wildfly-client-config/1.0.0.F…\n",
            "\u001b[2K  100.0% [##########] 7.0 KiB (51.8 KiB / s)\n",
            "\u001b[2Khttps://repo1.maven.org/maven2/com/lihaoyi/upack_2.12/0.7.1/upack_2.12-0.7.1.pom\n",
            "\u001b[2K    0.0% [          ] 0B (0B / s)\n",
            "\u001b[2Khttps://repo1.maven.org/maven2/com/thesamet/scalapb/scalapb-runtime_2.12/0.8.4/…\n",
            "\u001b[2K    0.0% [          ] 0B (0B / s)\n",
            "\u001b[2Khttps://repo1.maven.org/maven2/org/scalameta/trees_2.12/4.1.4/trees_2.12-4.1.4.…\n",
            "\u001b[2K    0.0% [          ] 0B (0B / s)\n",
            "\u001b[2Khttps://repo1.maven.org/maven2/org/scalameta/transversers_2.12/4.1.4/transverse…\n",
            "\u001b[2K    0.0% [          ] 0B (0B / s)\n",
            "\u001b[2Khttps://repo1.maven.org/maven2/org/scalameta/tokenizers_2.12/4.1.4/tokenizers_2…\n",
            "\u001b[2K    0.0% [          ] 0B (0B / s)\n",
            "\u001b[2A\u001b[2A\u001b[2A\u001b[2A\u001b[2A\u001b[2A\u001b[10000D\u001b[2Khttps://repo1.maven.org/maven2/org/wildfly/client/wildfly-client-config/1.0.0.F…\n",
            "\u001b[2K  100.0% [##########] 7.0 KiB (45.2 KiB / s)\n",
            "\u001b[2Khttps://repo1.maven.org/maven2/com/lihaoyi/upack_2.12/0.7.1/upack_2.12-0.7.1.pom\n",
            "\u001b[2K    0.0% [          ] 0B (0B / s)\n",
            "\u001b[2Khttps://repo1.maven.org/maven2/com/thesamet/scalapb/scalapb-runtime_2.12/0.8.4/…\n",
            "\u001b[2K    0.0% [          ] 0B (0B / s)\n",
            "\u001b[2Khttps://repo1.maven.org/maven2/org/scalameta/trees_2.12/4.1.4/trees_2.12-4.1.4.…\n",
            "\u001b[2K    0.0% [          ] 0B (0B / s)\n",
            "\u001b[2Khttps://repo1.maven.org/maven2/org/scalameta/transversers_2.12/4.1.4/transverse…\n",
            "\u001b[2K    0.0% [          ] 0B (0B / s)\n",
            "\u001b[2Khttps://repo1.maven.org/maven2/org/scalameta/tokenizers_2.12/4.1.4/tokenizers_2…\n",
            "\u001b[2K    0.0% [          ] 0B (0B / s)\n",
            "\u001b[2Khttps://repo1.maven.org/maven2/org/scalameta/common_2.12/4.1.4/common_2.12-4.1.…\n",
            "\u001b[2K    0.0% [          ] 0B (0B / s)\n",
            "\u001b[2A\u001b[2A\u001b[2A\u001b[2A\u001b[2A\u001b[2A\u001b[10000D\u001b[2Khttps://repo1.maven.org/maven2/com/thesamet/scalapb/scalapb-runtime_2.12/0.8.4/…\n",
            "\u001b[2K  100.0% [##########] 3.0 KiB (20.0 KiB / s)\n",
            "\u001b[2Khttps://repo1.maven.org/maven2/com/lihaoyi/upack_2.12/0.7.1/upack_2.12-0.7.1.pom\n",
            "\u001b[2K    0.0% [          ] 0B (0B / s)\n",
            "\u001b[2Khttps://repo1.maven.org/maven2/org/scalameta/trees_2.12/4.1.4/trees_2.12-4.1.4.…\n",
            "\u001b[2K    0.0% [          ] 0B (0B / s)\n",
            "\u001b[2Khttps://repo1.maven.org/maven2/org/scalameta/transversers_2.12/4.1.4/transverse…\n",
            "\u001b[2K    0.0% [          ] 0B (0B / s)\n",
            "\u001b[2Khttps://repo1.maven.org/maven2/org/scalameta/tokenizers_2.12/4.1.4/tokenizers_2…\n",
            "\u001b[2K    0.0% [          ] 0B (0B / s)\n",
            "\u001b[2Khttps://repo1.maven.org/maven2/org/scalameta/common_2.12/4.1.4/common_2.12-4.1.…\n",
            "\u001b[2K    0.0% [          ] 0B (0B / s)\n",
            "\u001b[2A\u001b[2A\u001b[2A\u001b[2A\u001b[2A\u001b[2A\u001b[10000D\u001b[2Khttps://repo1.maven.org/maven2/com/thesamet/scalapb/scalapb-runtime_2.12/0.8.4/…\n",
            "\u001b[2K  100.0% [##########] 3.0 KiB (18.4 KiB / s)\n",
            "\u001b[2Khttps://repo1.maven.org/maven2/org/scalameta/trees_2.12/4.1.4/trees_2.12-4.1.4.…\n",
            "\u001b[2K  100.0% [##########] 3.6 KiB (23.6 KiB / s)\n",
            "\u001b[2Khttps://repo1.maven.org/maven2/com/lihaoyi/upack_2.12/0.7.1/upack_2.12-0.7.1.pom\n",
            "\u001b[2K    0.0% [          ] 0B (0B / s)\n",
            "\u001b[2Khttps://repo1.maven.org/maven2/org/scalameta/transversers_2.12/4.1.4/transverse…\n",
            "\u001b[2K    0.0% [          ] 0B (0B / s)\n",
            "\u001b[2Khttps://repo1.maven.org/maven2/org/scalameta/tokenizers_2.12/4.1.4/tokenizers_2…\n",
            "\u001b[2K    0.0% [          ] 0B (0B / s)\n",
            "\u001b[2Khttps://repo1.maven.org/maven2/org/scalameta/common_2.12/4.1.4/common_2.12-4.1.…\n",
            "\u001b[2K    0.0% [          ] 0B (0B / s)\n",
            "\u001b[2Khttps://repo1.maven.org/maven2/org/scalameta/dialects_2.12/4.1.4/dialects_2.12-…\n",
            "\u001b[2K    0.0% [          ] 0B (0B / s)\n",
            "\u001b[2A\u001b[2A\u001b[2A\u001b[2A\u001b[2A\u001b[2A\u001b[10000D\u001b[2Khttps://repo1.maven.org/maven2/org/scalameta/trees_2.12/4.1.4/trees_2.12-4.1.4.…\n",
            "\u001b[2K  100.0% [##########] 3.6 KiB (21.2 KiB / s)\n",
            "\u001b[2Khttps://repo1.maven.org/maven2/com/lihaoyi/upack_2.12/0.7.1/upack_2.12-0.7.1.pom\n",
            "\u001b[2K    0.0% [          ] 0B (0B / s)\n",
            "\u001b[2Khttps://repo1.maven.org/maven2/org/scalameta/transversers_2.12/4.1.4/transverse…\n",
            "\u001b[2K    0.0% [          ] 0B (0B / s)\n",
            "\u001b[2Khttps://repo1.maven.org/maven2/org/scalameta/tokenizers_2.12/4.1.4/tokenizers_2…\n",
            "\u001b[2K    0.0% [          ] 0B (0B / s)\n",
            "\u001b[2Khttps://repo1.maven.org/maven2/org/scalameta/common_2.12/4.1.4/common_2.12-4.1.…\n",
            "\u001b[2K    0.0% [          ] 0B (0B / s)\n",
            "\u001b[2Khttps://repo1.maven.org/maven2/org/scalameta/dialects_2.12/4.1.4/dialects_2.12-…\n",
            "\u001b[2K    0.0% [          ] 0B (0B / s)\n",
            "\u001b[2Khttps://repo1.maven.org/maven2/com/lihaoyi/fastparse_2.12/2.1.0/fastparse_2.12-…\n",
            "\u001b[2K    0.0% [          ] 0B (0B / s)\n",
            "\u001b[2A\u001b[2A\u001b[2A\u001b[2A\u001b[2A\u001b[2A\u001b[10000D\u001b[2Khttps://repo1.maven.org/maven2/org/scalameta/transversers_2.12/4.1.4/transverse…\n",
            "\u001b[2K  100.0% [##########] 3.1 KiB (21.6 KiB / s)\n",
            "\u001b[2Khttps://repo1.maven.org/maven2/com/lihaoyi/upack_2.12/0.7.1/upack_2.12-0.7.1.pom\n",
            "\u001b[2K    0.0% [          ] 0B (0B / s)\n",
            "\u001b[2Khttps://repo1.maven.org/maven2/org/scalameta/tokenizers_2.12/4.1.4/tokenizers_2…\n",
            "\u001b[2K    0.0% [          ] 0B (0B / s)\n",
            "\u001b[2Khttps://repo1.maven.org/maven2/org/scalameta/common_2.12/4.1.4/common_2.12-4.1.…\n",
            "\u001b[2K    0.0% [          ] 0B (0B / s)\n",
            "\u001b[2Khttps://repo1.maven.org/maven2/org/scalameta/dialects_2.12/4.1.4/dialects_2.12-…\n",
            "\u001b[2K    0.0% [          ] 0B (0B / s)\n",
            "\u001b[2Khttps://repo1.maven.org/maven2/com/lihaoyi/fastparse_2.12/2.1.0/fastparse_2.12-…\n",
            "\u001b[2K    0.0% [          ] 0B (0B / s)\n",
            "\u001b[2Khttps://repo1.maven.org/maven2/org/scalameta/io_2.12/4.1.4/io_2.12-4.1.4.pom\n",
            "\u001b[2K    0.0% [          ] 0B (0B / s)\n",
            "\u001b[2A\u001b[2A\u001b[2A\u001b[2A\u001b[2A\u001b[2A\u001b[10000D\u001b[2Khttps://repo1.maven.org/maven2/org/scalameta/common_2.12/4.1.4/common_2.12-4.1.…\n",
            "\u001b[2K  100.0% [##########] 3.1 KiB (22.3 KiB / s)\n",
            "\u001b[2Khttps://repo1.maven.org/maven2/org/scalameta/tokenizers_2.12/4.1.4/tokenizers_2…\n",
            "\u001b[2K  100.0% [##########] 3.6 KiB (25.6 KiB / s)\n",
            "\u001b[2Khttps://repo1.maven.org/maven2/com/lihaoyi/upack_2.12/0.7.1/upack_2.12-0.7.1.pom\n",
            "\u001b[2K    0.0% [          ] 0B (0B / s)\n",
            "\u001b[2Khttps://repo1.maven.org/maven2/org/scalameta/dialects_2.12/4.1.4/dialects_2.12-…\n",
            "\u001b[2K    0.0% [          ] 0B (0B / s)\n",
            "\u001b[2Khttps://repo1.maven.org/maven2/com/lihaoyi/fastparse_2.12/2.1.0/fastparse_2.12-…\n",
            "\u001b[2K    0.0% [          ] 0B (0B / s)\n",
            "\u001b[2Khttps://repo1.maven.org/maven2/org/scalameta/io_2.12/4.1.4/io_2.12-4.1.4.pom\n",
            "\u001b[2K    0.0% [          ] 0B (0B / s)\n",
            "\u001b[2A\u001b[2A\u001b[2A\u001b[2A\u001b[10000D\u001b[2Khttps://repo1.maven.org/maven2/com/lihaoyi/upack_2.12/0.7.1/upack_2.12-0.7.1.pom\n",
            "\u001b[2K  100.0% [##########] 1.2 KiB (2.8 KiB / s)\n",
            "\u001b[2Khttps://repo1.maven.org/maven2/org/scalameta/dialects_2.12/4.1.4/dialects_2.12-…\n",
            "\u001b[2K    0.0% [          ] 0B (0B / s)\n",
            "\u001b[2Khttps://repo1.maven.org/maven2/com/lihaoyi/fastparse_2.12/2.1.0/fastparse_2.12-…\n",
            "\u001b[2K    0.0% [          ] 0B (0B / s)\n",
            "\u001b[2Khttps://repo1.maven.org/maven2/org/scalameta/io_2.12/4.1.4/io_2.12-4.1.4.pom\n",
            "\u001b[2K    0.0% [          ] 0B (0B / s)\n",
            "\u001b[2Khttps://repo1.maven.org/maven2/org/scalameta/metacp_2.12/4.1.4/metacp_2.12-4.1.…\n",
            "\u001b[2K    0.0% [          ] 0B (0B / s)\n",
            "\u001b[2Khttps://repo1.maven.org/maven2/com/lihaoyi/upickle-implicits_2.12/0.7.1/upickle…\n",
            "\u001b[2K    0.0% [          ] 0B (0B / s)\n",
            "\u001b[2Khttps://repo1.maven.org/maven2/eu/neilalexander/jnacl/1.0.0/jnacl-1.0.0.pom\n",
            "\u001b[2K    0.0% [          ] 0B (0B / s)\n",
            "\u001b[2A\u001b[2A\u001b[2A\u001b[2A\u001b[2A\u001b[2A\u001b[10000D\u001b[2Khttps://repo1.maven.org/maven2/com/lihaoyi/fastparse_2.12/2.1.0/fastparse_2.12-…\n",
            "\u001b[2K  100.0% [##########] 1.2 KiB (8.0 KiB / s)\n",
            "\u001b[2Khttps://repo1.maven.org/maven2/org/scalameta/dialects_2.12/4.1.4/dialects_2.12-…\n",
            "\u001b[2K  100.0% [##########] 2.9 KiB (17.9 KiB / s)\n",
            "\u001b[2Khttps://repo1.maven.org/maven2/org/scalameta/io_2.12/4.1.4/io_2.12-4.1.4.pom\n",
            "\u001b[2K    0.0% [          ] 0B (0B / s)\n",
            "\u001b[2Khttps://repo1.maven.org/maven2/org/scalameta/metacp_2.12/4.1.4/metacp_2.12-4.1.…\n",
            "\u001b[2K    0.0% [          ] 0B (0B / s)\n",
            "\u001b[2Khttps://repo1.maven.org/maven2/com/lihaoyi/upickle-implicits_2.12/0.7.1/upickle…\n",
            "\u001b[2K    0.0% [          ] 0B (0B / s)\n",
            "\u001b[2Khttps://repo1.maven.org/maven2/eu/neilalexander/jnacl/1.0.0/jnacl-1.0.0.pom\n",
            "\u001b[2K    0.0% [          ] 0B (0B / s)\n",
            "\u001b[2Khttps://repo1.maven.org/maven2/com/lihaoyi/ujson_2.12/0.7.1/ujson_2.12-0.7.1.pom\n",
            "\u001b[2K    0.0% [          ] 0B (0B / s)\n",
            "\u001b[2Khttps://repo1.maven.org/maven2/org/jboss/threads/jboss-threads/2.3.0.Beta2/jbos…\n",
            "\u001b[2K    0.0% [          ] 0B (0B / s)\n",
            "\u001b[2A\u001b[2A\u001b[2A\u001b[2A\u001b[2A\u001b[2A\u001b[10000D\u001b[2Khttps://repo1.maven.org/maven2/org/scalameta/io_2.12/4.1.4/io_2.12-4.1.4.pom\n",
            "\u001b[2K  100.0% [##########] 2.7 KiB (17.7 KiB / s)\n",
            "\u001b[2Khttps://repo1.maven.org/maven2/org/scalameta/metacp_2.12/4.1.4/metacp_2.12-4.1.…\n",
            "\u001b[2K    0.0% [          ] 0B (0B / s)\n",
            "\u001b[2Khttps://repo1.maven.org/maven2/com/lihaoyi/upickle-implicits_2.12/0.7.1/upickle…\n",
            "\u001b[2K    0.0% [          ] 0B (0B / s)\n",
            "\u001b[2Khttps://repo1.maven.org/maven2/eu/neilalexander/jnacl/1.0.0/jnacl-1.0.0.pom\n",
            "\u001b[2K    0.0% [          ] 0B (0B / s)\n",
            "\u001b[2Khttps://repo1.maven.org/maven2/com/lihaoyi/ujson_2.12/0.7.1/ujson_2.12-0.7.1.pom\n",
            "\u001b[2K    0.0% [          ] 0B (0B / s)\n",
            "\u001b[2Khttps://repo1.maven.org/maven2/org/jboss/threads/jboss-threads/2.3.0.Beta2/jbos…\n",
            "\u001b[2K    0.0% [          ] 0B (0B / s)\n",
            "\u001b[2Khttps://repo1.maven.org/maven2/org/scalameta/parsers_2.12/4.1.4/parsers_2.12-4.…\n",
            "\u001b[2K    0.0% [          ] 0B (0B / s)\n",
            "\u001b[2A\u001b[2A\u001b[2A\u001b[2A\u001b[2A\u001b[2A\u001b[10000D\u001b[2Khttps://repo1.maven.org/maven2/org/scalameta/metacp_2.12/4.1.4/metacp_2.12-4.1.…\n",
            "\u001b[2K  100.0% [##########] 3.2 KiB (22.7 KiB / s)\n",
            "\u001b[2Khttps://repo1.maven.org/maven2/com/lihaoyi/upickle-implicits_2.12/0.7.1/upickle…\n",
            "\u001b[2K  100.0% [##########] 1.8 KiB (13.3 KiB / s)\n",
            "\u001b[2Khttps://repo1.maven.org/maven2/eu/neilalexander/jnacl/1.0.0/jnacl-1.0.0.pom\n",
            "\u001b[2K    0.0% [          ] 0B (0B / s)\n",
            "\u001b[2Khttps://repo1.maven.org/maven2/com/lihaoyi/ujson_2.12/0.7.1/ujson_2.12-0.7.1.pom\n",
            "\u001b[2K    0.0% [          ] 0B (0B / s)\n",
            "\u001b[2Khttps://repo1.maven.org/maven2/org/jboss/threads/jboss-threads/2.3.0.Beta2/jbos…\n",
            "\u001b[2K    0.0% [          ] 0B (0B / s)\n",
            "\u001b[2Khttps://repo1.maven.org/maven2/org/scalameta/parsers_2.12/4.1.4/parsers_2.12-4.…\n",
            "\u001b[2K    0.0% [          ] 0B (0B / s)\n",
            "\u001b[2A\u001b[2A\u001b[2A\u001b[2A\u001b[2A\u001b[10000D\u001b[2Khttps://repo1.maven.org/maven2/com/lihaoyi/upickle-implicits_2.12/0.7.1/upickle…\n",
            "\u001b[2K  100.0% [##########] 1.8 KiB (11.6 KiB / s)\n",
            "\u001b[2Khttps://repo1.maven.org/maven2/eu/neilalexander/jnacl/1.0.0/jnacl-1.0.0.pom\n",
            "\u001b[2K    0.0% [          ] 0B (0B / s)\n",
            "\u001b[2Khttps://repo1.maven.org/maven2/com/lihaoyi/ujson_2.12/0.7.1/ujson_2.12-0.7.1.pom\n",
            "\u001b[2K    0.0% [          ] 0B (0B / s)\n",
            "\u001b[2Khttps://repo1.maven.org/maven2/org/jboss/threads/jboss-threads/2.3.0.Beta2/jbos…\n",
            "\u001b[2K    0.0% [          ] 0B (0B / s)\n",
            "\u001b[2Khttps://repo1.maven.org/maven2/org/scalameta/parsers_2.12/4.1.4/parsers_2.12-4.…\n",
            "\u001b[2K    0.0% [          ] 0B (0B / s)\n",
            "\u001b[2Khttps://repo1.maven.org/maven2/org/wildfly/common/wildfly-common/1.3.0.Final/wi…\n",
            "\u001b[2K    0.0% [          ] 0B (0B / s)\n",
            "\u001b[2A\u001b[2A\u001b[2A\u001b[2A\u001b[2A\u001b[10000D\u001b[2Khttps://repo1.maven.org/maven2/eu/neilalexander/jnacl/1.0.0/jnacl-1.0.0.pom\n",
            "\u001b[2K  100.0% [##########] 6.5 KiB (38.4 KiB / s)\n",
            "\u001b[2Khttps://repo1.maven.org/maven2/org/jboss/threads/jboss-threads/2.3.0.Beta2/jbos…\n",
            "\u001b[2K  100.0% [##########] 4.5 KiB (31.1 KiB / s)\n",
            "\u001b[2Khttps://repo1.maven.org/maven2/org/scalameta/parsers_2.12/4.1.4/parsers_2.12-4.…\n",
            "\u001b[2K  100.0% [##########] 3.6 KiB (25.8 KiB / s)\n",
            "\u001b[2Khttps://repo1.maven.org/maven2/com/lihaoyi/ujson_2.12/0.7.1/ujson_2.12-0.7.1.pom\n",
            "\u001b[2K    0.0% [          ] 0B (0B / s)\n",
            "\u001b[2Khttps://repo1.maven.org/maven2/org/wildfly/common/wildfly-common/1.3.0.Final/wi…\n",
            "\u001b[2K    0.0% [          ] 0B (0B / s)\n",
            "\u001b[2A\u001b[2A\u001b[10000D\u001b[2Khttps://repo1.maven.org/maven2/com/lihaoyi/ujson_2.12/0.7.1/ujson_2.12-0.7.1.pom\n",
            "\u001b[2K    0.0% [          ] 0B (0B / s)\n",
            "\u001b[2Khttps://repo1.maven.org/maven2/org/wildfly/common/wildfly-common/1.3.0.Final/wi…\n",
            "\u001b[2K    0.0% [          ] 0B (0B / s)\n",
            "\u001b[2A\u001b[2A\u001b[10000D\u001b[2Khttps://repo1.maven.org/maven2/com/lihaoyi/ujson_2.12/0.7.1/ujson_2.12-0.7.1.pom\n",
            "\u001b[2K  100.0% [##########] 1.2 KiB (6.3 KiB / s)\n",
            "\u001b[2Khttps://repo1.maven.org/maven2/org/wildfly/common/wildfly-common/1.3.0.Final/wi…\n",
            "\u001b[2K    0.0% [          ] 0B (0B / s)\n",
            "\u001b[2A\u001b[10000D\u001b[2Khttps://repo1.maven.org/maven2/org/wildfly/common/wildfly-common/1.3.0.Final/wi…\n",
            "\u001b[2K  100.0% [##########] 7.2 KiB (53.7 KiB / s)\n",
            "\u001b[10000D\u001b[2Khttps://repo1.maven.org/maven2/org/jboss/jboss-parent/24/jboss-parent-24.pom\n",
            "\u001b[2K    0.0% [          ] 0B (0B / s)\n",
            "\u001b[2Khttps://repo1.maven.org/maven2/com/google/protobuf/protobuf-parent/3.6.1/protob…\n",
            "\u001b[2K    0.0% [          ] 0B (0B / s)\n",
            "\u001b[2A\u001b[2A\u001b[10000D\u001b[2Khttps://repo1.maven.org/maven2/org/jboss/jboss-parent/24/jboss-parent-24.pom\n",
            "\u001b[2K    0.0% [          ] 0B (0B / s)\n",
            "\u001b[2Khttps://repo1.maven.org/maven2/com/google/protobuf/protobuf-parent/3.6.1/protob…\n",
            "\u001b[2K    0.0% [          ] 0B (0B / s)\n",
            "\u001b[2A\u001b[2A\u001b[10000D\u001b[2Khttps://repo1.maven.org/maven2/com/google/protobuf/protobuf-parent/3.6.1/protob…\n",
            "\u001b[2K  100.0% [##########] 6.4 KiB (42.2 KiB / s)\n",
            "\u001b[2Khttps://repo1.maven.org/maven2/org/jboss/jboss-parent/24/jboss-parent-24.pom\n",
            "\u001b[2K   45.6% [####      ] 16.0 KiB (103.2 KiB / s)\n",
            "\u001b[2A\u001b[10000D\u001b[2Khttps://repo1.maven.org/maven2/org/jboss/jboss-parent/24/jboss-parent-24.pom\n",
            "\u001b[2K  100.0% [##########] 35.1 KiB (200.7 KiB / s)\n",
            "\u001b[2Khttps://repo1.maven.org/maven2/org/jboss/jboss-parent/23/jboss-parent-23.pom\n",
            "\u001b[2K    0.0% [          ] 0B (0B / s)\n",
            "\u001b[2A\u001b[10000D\u001b[2Khttps://repo1.maven.org/maven2/org/jboss/jboss-parent/23/jboss-parent-23.pom\n",
            "\u001b[2K   44.8% [####      ] 15.5 KiB (106.1 KiB / s)\n",
            "\u001b[2A\u001b[10000D\u001b[2Khttps://repo1.maven.org/maven2/org/jboss/jboss-parent/23/jboss-parent-23.pom\n",
            "\u001b[2K  100.0% [##########] 34.6 KiB (209.7 KiB / s)\n",
            "\u001b[10000D\u001b[2Khttps://repo1.maven.org/maven2/com/google/google/1/google-1.pom\n",
            "\u001b[2K    0.0% [          ] 0B (0B / s)\n",
            "\u001b[2A\u001b[10000D\u001b[2Khttps://repo1.maven.org/maven2/com/google/google/1/google-1.pom\n",
            "\u001b[2K  100.0% [##########] 1.5 KiB (10.8 KiB / s)\n",
            "\u001b[10000D\u001b[2Khttps://repo1.maven.org/maven2/org/scalameta/cli_2.12/4.1.4/cli_2.12-4.1.4.pom\n",
            "\u001b[2K    0.0% [          ] 0B (0B / s)\n",
            "\u001b[2Khttps://repo1.maven.org/maven2/org/scalameta/semanticdb_2.12/4.1.4/semanticdb_2…\n",
            "\u001b[2K    0.0% [          ] 0B (0B / s)\n",
            "\u001b[2Khttps://repo1.maven.org/maven2/org/json4s/json4s-core_2.12/3.6.2/json4s-core_2.…\n",
            "\u001b[2K    0.0% [          ] 0B (0B / s)\n",
            "\u001b[2A\u001b[2A\u001b[2A\u001b[10000D\u001b[2Khttps://repo1.maven.org/maven2/org/scalameta/cli_2.12/4.1.4/cli_2.12-4.1.4.pom\n",
            "\u001b[2K    0.0% [          ] 0B (0B / s)\n",
            "\u001b[2Khttps://repo1.maven.org/maven2/org/scalameta/semanticdb_2.12/4.1.4/semanticdb_2…\n",
            "\u001b[2K    0.0% [          ] 0B (0B / s)\n",
            "\u001b[2Khttps://repo1.maven.org/maven2/org/json4s/json4s-core_2.12/3.6.2/json4s-core_2.…\n",
            "\u001b[2K    0.0% [          ] 0B (0B / s)\n",
            "\u001b[2Khttps://repo1.maven.org/maven2/org/scala-lang/scalap/2.12.8/scalap-2.12.8.pom\n",
            "\u001b[2K    0.0% [          ] 0B (0B / s)\n",
            "\u001b[2Khttps://repo1.maven.org/maven2/com/thesamet/scalapb/lenses_2.12/0.8.4/lenses_2.…\n",
            "\u001b[2K    0.0% [          ] 0B (0B / s)\n",
            "\u001b[2A\u001b[2A\u001b[2A\u001b[2A\u001b[2A\u001b[10000D\u001b[2Khttps://repo1.maven.org/maven2/org/scalameta/cli_2.12/4.1.4/cli_2.12-4.1.4.pom\n",
            "\u001b[2K    0.0% [          ] 0B (0B / s)\n",
            "\u001b[2Khttps://repo1.maven.org/maven2/org/scalameta/semanticdb_2.12/4.1.4/semanticdb_2…\n",
            "\u001b[2K    0.0% [          ] 0B (0B / s)\n",
            "\u001b[2Khttps://repo1.maven.org/maven2/org/json4s/json4s-core_2.12/3.6.2/json4s-core_2.…\n",
            "\u001b[2K    0.0% [          ] 0B (0B / s)\n",
            "\u001b[2Khttps://repo1.maven.org/maven2/org/scala-lang/scalap/2.12.8/scalap-2.12.8.pom\n",
            "\u001b[2K    0.0% [          ] 0B (0B / s)\n",
            "\u001b[2Khttps://repo1.maven.org/maven2/com/thesamet/scalapb/lenses_2.12/0.8.4/lenses_2.…\n",
            "\u001b[2K    0.0% [          ] 0B (0B / s)\n",
            "\u001b[2Khttps://repo1.maven.org/maven2/com/lihaoyi/acyclic_2.12/0.1.5/acyclic_2.12-0.1.…\n",
            "\u001b[2K    0.0% [          ] 0B (0B / s)\n",
            "\u001b[2A\u001b[2A\u001b[2A\u001b[2A\u001b[2A\u001b[2A\u001b[10000D\u001b[2Khttps://repo1.maven.org/maven2/org/scalameta/cli_2.12/4.1.4/cli_2.12-4.1.4.pom\n",
            "\u001b[2K    0.0% [          ] 0B (0B / s)\n",
            "\u001b[2Khttps://repo1.maven.org/maven2/org/scalameta/semanticdb_2.12/4.1.4/semanticdb_2…\n",
            "\u001b[2K    0.0% [          ] 0B (0B / s)\n",
            "\u001b[2Khttps://repo1.maven.org/maven2/org/json4s/json4s-core_2.12/3.6.2/json4s-core_2.…\n",
            "\u001b[2K    0.0% [          ] 0B (0B / s)\n",
            "\u001b[2Khttps://repo1.maven.org/maven2/org/scala-lang/scalap/2.12.8/scalap-2.12.8.pom\n",
            "\u001b[2K    0.0% [          ] 0B (0B / s)\n",
            "\u001b[2Khttps://repo1.maven.org/maven2/com/thesamet/scalapb/lenses_2.12/0.8.4/lenses_2.…\n",
            "\u001b[2K    0.0% [          ] 0B (0B / s)\n",
            "\u001b[2Khttps://repo1.maven.org/maven2/com/lihaoyi/acyclic_2.12/0.1.5/acyclic_2.12-0.1.…\n",
            "\u001b[2K    0.0% [          ] 0B (0B / s)\n",
            "\u001b[2A\u001b[2A\u001b[2A\u001b[2A\u001b[2A\u001b[2A\u001b[10000D\u001b[2Khttps://repo1.maven.org/maven2/org/json4s/json4s-core_2.12/3.6.2/json4s-core_2.…\n",
            "\u001b[2K  100.0% [##########] 2.1 KiB (13.1 KiB / s)\n",
            "\u001b[2Khttps://repo1.maven.org/maven2/org/scala-lang/scalap/2.12.8/scalap-2.12.8.pom\n",
            "\u001b[2K  100.0% [##########] 1.6 KiB (10.3 KiB / s)\n",
            "\u001b[2Khttps://repo1.maven.org/maven2/org/scalameta/semanticdb_2.12/4.1.4/semanticdb_2…\n",
            "\u001b[2K  100.0% [##########] 2.7 KiB (16.6 KiB / s)\n",
            "\u001b[2Khttps://repo1.maven.org/maven2/org/scalameta/cli_2.12/4.1.4/cli_2.12-4.1.4.pom\n",
            "\u001b[2K  100.0% [##########] 2.5 KiB (15.3 KiB / s)\n",
            "\u001b[2Khttps://repo1.maven.org/maven2/com/thesamet/scalapb/lenses_2.12/0.8.4/lenses_2.…\n",
            "\u001b[2K    0.0% [          ] 0B (0B / s)\n",
            "\u001b[2Khttps://repo1.maven.org/maven2/com/lihaoyi/acyclic_2.12/0.1.5/acyclic_2.12-0.1.…\n",
            "\u001b[2K    0.0% [          ] 0B (0B / s)\n",
            "\u001b[2Khttps://repo1.maven.org/maven2/org/scalameta/tokens_2.12/4.1.4/tokens_2.12-4.1.…\n",
            "\u001b[2K    0.0% [          ] 0B (0B / s)\n",
            "\u001b[2Khttps://repo1.maven.org/maven2/org/scalameta/fastparse_2.12/1.0.0/fastparse_2.1…\n",
            "\u001b[2K    0.0% [          ] 0B (0B / s)\n",
            "\u001b[2Khttps://repo1.maven.org/maven2/com/fasterxml/jackson/core/jackson-databind/2.9.…\n",
            "\u001b[2K    0.0% [          ] 0B (0B / s)\n",
            "\u001b[2A\u001b[2A\u001b[2A\u001b[2A\u001b[2A\u001b[2A\u001b[10000D\u001b[2Khttps://repo1.maven.org/maven2/com/thesamet/scalapb/lenses_2.12/0.8.4/lenses_2.…\n",
            "\u001b[2K  100.0% [##########] 1.6 KiB (9.4 KiB / s)\n",
            "\u001b[2Khttps://repo1.maven.org/maven2/org/scalameta/cli_2.12/4.1.4/cli_2.12-4.1.4.pom\n",
            "\u001b[2K  100.0% [##########] 2.5 KiB (13.7 KiB / s)\n",
            "\u001b[2Khttps://repo1.maven.org/maven2/com/lihaoyi/acyclic_2.12/0.1.5/acyclic_2.12-0.1.…\n",
            "\u001b[2K    0.0% [          ] 0B (0B / s)\n",
            "\u001b[2Khttps://repo1.maven.org/maven2/org/scalameta/tokens_2.12/4.1.4/tokens_2.12-4.1.…\n",
            "\u001b[2K    0.0% [          ] 0B (0B / s)\n",
            "\u001b[2Khttps://repo1.maven.org/maven2/org/scalameta/fastparse_2.12/1.0.0/fastparse_2.1…\n",
            "\u001b[2K    0.0% [          ] 0B (0B / s)\n",
            "\u001b[2Khttps://repo1.maven.org/maven2/com/fasterxml/jackson/core/jackson-databind/2.9.…\n",
            "\u001b[2K    0.0% [          ] 0B (0B / s)\n",
            "\u001b[2Khttps://repo1.maven.org/maven2/com/lihaoyi/upickle-core_2.12/0.7.1/upickle-core…\n",
            "\u001b[2K    0.0% [          ] 0B (0B / s)\n",
            "\u001b[2Khttps://repo1.maven.org/maven2/com/lihaoyi/utest_2.12/0.6.4/utest_2.12-0.6.4.pom\n",
            "\u001b[2K    0.0% [          ] 0B (0B / s)\n",
            "\u001b[2A\u001b[2A\u001b[2A\u001b[2A\u001b[2A\u001b[2A\u001b[10000D\u001b[2Khttps://repo1.maven.org/maven2/com/lihaoyi/acyclic_2.12/0.1.5/acyclic_2.12-0.1.…\n",
            "\u001b[2K    0.0% [          ] 0B (0B / s)\n",
            "\u001b[2Khttps://repo1.maven.org/maven2/org/scalameta/tokens_2.12/4.1.4/tokens_2.12-4.1.…\n",
            "\u001b[2K    0.0% [          ] 0B (0B / s)\n",
            "\u001b[2Khttps://repo1.maven.org/maven2/org/scalameta/fastparse_2.12/1.0.0/fastparse_2.1…\n",
            "\u001b[2K    0.0% [          ] 0B (0B / s)\n",
            "\u001b[2Khttps://repo1.maven.org/maven2/com/fasterxml/jackson/core/jackson-databind/2.9.…\n",
            "\u001b[2K    0.0% [          ] 0B (0B / s)\n",
            "\u001b[2Khttps://repo1.maven.org/maven2/com/lihaoyi/upickle-core_2.12/0.7.1/upickle-core…\n",
            "\u001b[2K    0.0% [          ] 0B (0B / s)\n",
            "\u001b[2Khttps://repo1.maven.org/maven2/com/lihaoyi/utest_2.12/0.6.4/utest_2.12-0.6.4.pom\n",
            "\u001b[2K    0.0% [          ] 0B (0B / s)\n",
            "\u001b[2A\u001b[2A\u001b[2A\u001b[2A\u001b[2A\u001b[2A\u001b[10000D\u001b[2Khttps://repo1.maven.org/maven2/com/fasterxml/jackson/core/jackson-databind/2.9.…\n",
            "\u001b[2K  100.0% [##########] 6.2 KiB (42.5 KiB / s)\n",
            "\u001b[2Khttps://repo1.maven.org/maven2/com/lihaoyi/utest_2.12/0.6.4/utest_2.12-0.6.4.pom\n",
            "\u001b[2K  100.0% [##########] 2.3 KiB (16.8 KiB / s)\n",
            "\u001b[2Khttps://repo1.maven.org/maven2/org/scalameta/tokens_2.12/4.1.4/tokens_2.12-4.1.…\n",
            "\u001b[2K  100.0% [##########] 3.3 KiB (21.6 KiB / s)\n",
            "\u001b[2Khttps://repo1.maven.org/maven2/com/lihaoyi/acyclic_2.12/0.1.5/acyclic_2.12-0.1.…\n",
            "\u001b[2K    0.0% [          ] 0B (0B / s)\n",
            "\u001b[2Khttps://repo1.maven.org/maven2/org/scalameta/fastparse_2.12/1.0.0/fastparse_2.1…\n",
            "\u001b[2K    0.0% [          ] 0B (0B / s)\n",
            "\u001b[2Khttps://repo1.maven.org/maven2/com/lihaoyi/upickle-core_2.12/0.7.1/upickle-core…\n",
            "\u001b[2K    0.0% [          ] 0B (0B / s)\n",
            "\u001b[2Khttps://repo1.maven.org/maven2/com/lihaoyi/sourcecode_2.12/0.1.5/sourcecode_2.1…\n",
            "\u001b[2K    0.0% [          ] 0B (0B / s)\n",
            "\u001b[2A\u001b[2A\u001b[2A\u001b[2A\u001b[10000D\u001b[2Khttps://repo1.maven.org/maven2/com/lihaoyi/upickle-core_2.12/0.7.1/upickle-core…\n",
            "\u001b[2K  100.0% [##########] 1.1 KiB (6.8 KiB / s)\n",
            "\u001b[2Khttps://repo1.maven.org/maven2/org/scalameta/fastparse_2.12/1.0.0/fastparse_2.1…\n",
            "\u001b[2K  100.0% [##########] 2.5 KiB (14.9 KiB / s)\n",
            "\u001b[2Khttps://repo1.maven.org/maven2/com/lihaoyi/acyclic_2.12/0.1.5/acyclic_2.12-0.1.…\n",
            "\u001b[2K    0.0% [          ] 0B (0B / s)\n",
            "\u001b[2Khttps://repo1.maven.org/maven2/com/lihaoyi/sourcecode_2.12/0.1.5/sourcecode_2.1…\n",
            "\u001b[2K    0.0% [          ] 0B (0B / s)\n",
            "\u001b[2A\u001b[2A\u001b[10000D\u001b[2Khttps://repo1.maven.org/maven2/com/lihaoyi/acyclic_2.12/0.1.5/acyclic_2.12-0.1.…\n",
            "\u001b[2K  100.0% [##########] 2.0 KiB (4.8 KiB / s)\n",
            "\u001b[2Khttps://repo1.maven.org/maven2/com/lihaoyi/sourcecode_2.12/0.1.5/sourcecode_2.1…\n",
            "\u001b[2K  100.0% [##########] 2.0 KiB (13.9 KiB / s)\n",
            "\u001b[10000D\u001b[2Khttps://repo1.maven.org/maven2/com/fasterxml/jackson/jackson-base/2.9.6/jackson…\n",
            "\u001b[2K    0.0% [          ] 0B (0B / s)\n",
            "\u001b[2A\u001b[10000D\u001b[2Khttps://repo1.maven.org/maven2/com/fasterxml/jackson/jackson-base/2.9.6/jackson…\n",
            "\u001b[2K  100.0% [##########] 5.2 KiB (38.8 KiB / s)\n",
            "\u001b[10000D\u001b[2Khttps://repo1.maven.org/maven2/com/fasterxml/jackson/jackson-bom/2.9.6/jackson-…\n",
            "\u001b[2K    0.0% [          ] 0B (0B / s)\n",
            "\u001b[2A\u001b[10000D\u001b[2Khttps://repo1.maven.org/maven2/com/fasterxml/jackson/jackson-bom/2.9.6/jackson-…\n",
            "\u001b[2K    0.0% [          ] 0B (0B / s)\n",
            "\u001b[2A\u001b[10000D\u001b[2Khttps://repo1.maven.org/maven2/com/fasterxml/jackson/jackson-bom/2.9.6/jackson-…\n",
            "\u001b[2K  100.0% [##########] 12.0 KiB (78.5 KiB / s)\n",
            "\u001b[2Khttps://repo1.maven.org/maven2/com/fasterxml/jackson/jackson-parent/2.9.1.1/jac…\n",
            "\u001b[2K    0.0% [          ] 0B (0B / s)\n",
            "\u001b[2A\u001b[10000D\u001b[2Khttps://repo1.maven.org/maven2/com/fasterxml/jackson/jackson-parent/2.9.1.1/jac…\n",
            "\u001b[2K  100.0% [##########] 7.8 KiB (55.2 KiB / s)\n",
            "\u001b[2Khttps://repo1.maven.org/maven2/com/fasterxml/oss-parent/33/oss-parent-33.pom\n",
            "\u001b[2K    0.0% [          ] 0B\n",
            "\u001b[2A\u001b[10000D\u001b[2Khttps://repo1.maven.org/maven2/com/fasterxml/oss-parent/33/oss-parent-33.pom\n",
            "\u001b[2K    0.0% [          ] 0B (0B / s)\n",
            "\u001b[2A\u001b[10000D\u001b[2Khttps://repo1.maven.org/maven2/com/fasterxml/oss-parent/33/oss-parent-33.pom\n",
            "\u001b[2K  100.0% [##########] 21.3 KiB (133.2 KiB / s)\n",
            "\u001b[10000D\u001b[2Khttps://repo1.maven.org/maven2/org/scalameta/fastparse-utils_2.12/1.0.0/fastpar…\n",
            "\u001b[2K    0.0% [          ] 0B (0B / s)\n",
            "\u001b[2Khttps://repo1.maven.org/maven2/com/thoughtworks/paranamer/paranamer/2.8/paranam…\n",
            "\u001b[2K    0.0% [          ] 0B (0B / s)\n",
            "\u001b[2Khttps://repo1.maven.org/maven2/org/json4s/json4s-scalap_2.12/3.6.2/json4s-scala…\n",
            "\u001b[2K    0.0% [          ] 0B (0B / s)\n",
            "\u001b[2Khttps://repo1.maven.org/maven2/com/fasterxml/jackson/core/jackson-core/2.9.6/ja…\n",
            "\u001b[2K    0.0% [          ] 0B (0B / s)\n",
            "\u001b[2A\u001b[2A\u001b[2A\u001b[2A\u001b[10000D\u001b[2Khttps://repo1.maven.org/maven2/org/scalameta/fastparse-utils_2.12/1.0.0/fastpar…\n",
            "\u001b[2K    0.0% [          ] 0B (0B / s)\n",
            "\u001b[2Khttps://repo1.maven.org/maven2/com/thoughtworks/paranamer/paranamer/2.8/paranam…\n",
            "\u001b[2K    0.0% [          ] 0B (0B / s)\n",
            "\u001b[2Khttps://repo1.maven.org/maven2/org/json4s/json4s-scalap_2.12/3.6.2/json4s-scala…\n",
            "\u001b[2K    0.0% [          ] 0B (0B / s)\n",
            "\u001b[2Khttps://repo1.maven.org/maven2/com/fasterxml/jackson/core/jackson-core/2.9.6/ja…\n",
            "\u001b[2K    0.0% [          ] 0B (0B / s)\n",
            "\u001b[2Khttps://repo1.maven.org/maven2/org/scala-sbt/test-interface/1.0/test-interface-…\n",
            "\u001b[2K    0.0% [          ] 0B (0B / s)\n",
            "\u001b[2Khttps://repo1.maven.org/maven2/com/fasterxml/jackson/core/jackson-annotations/2…\n",
            "\u001b[2K    0.0% [          ] 0B (0B / s)\n",
            "\u001b[2A\u001b[2A\u001b[2A\u001b[2A\u001b[2A\u001b[2A\u001b[10000D\u001b[2Khttps://repo1.maven.org/maven2/com/fasterxml/jackson/core/jackson-core/2.9.6/ja…\n",
            "\u001b[2K  100.0% [##########] 4.0 KiB (27.9 KiB / s)\n",
            "\u001b[2Khttps://repo1.maven.org/maven2/org/scalameta/fastparse-utils_2.12/1.0.0/fastpar…\n",
            "\u001b[2K  100.0% [##########] 2.3 KiB (16.4 KiB / s)\n",
            "\u001b[2Khttps://repo1.maven.org/maven2/org/json4s/json4s-scalap_2.12/3.6.2/json4s-scala…\n",
            "\u001b[2K  100.0% [##########] 1.6 KiB (11.4 KiB / s)\n",
            "\u001b[2Khttps://repo1.maven.org/maven2/com/thoughtworks/paranamer/paranamer/2.8/paranam…\n",
            "\u001b[2K    0.0% [          ] 0B (0B / s)\n",
            "\u001b[2Khttps://repo1.maven.org/maven2/org/scala-sbt/test-interface/1.0/test-interface-…\n",
            "\u001b[2K    0.0% [          ] 0B (0B / s)\n",
            "\u001b[2Khttps://repo1.maven.org/maven2/com/fasterxml/jackson/core/jackson-annotations/2…\n",
            "\u001b[2K    0.0% [          ] 0B (0B / s)\n",
            "\u001b[2Khttps://repo1.maven.org/maven2/org/json4s/json4s-ast_2.12/3.6.2/json4s-ast_2.12…\n",
            "\u001b[2K    0.0% [          ] 0B (0B / s)\n",
            "\u001b[2A\u001b[2A\u001b[2A\u001b[2A\u001b[2A\u001b[2A\u001b[10000D\u001b[2Khttps://repo1.maven.org/maven2/com/thoughtworks/paranamer/paranamer/2.8/paranam…\n",
            "\u001b[2K  100.0% [##########] 5.2 KiB (31.8 KiB / s)\n",
            "\u001b[2Khttps://repo1.maven.org/maven2/org/json4s/json4s-scalap_2.12/3.6.2/json4s-scala…\n",
            "\u001b[2K  100.0% [##########] 1.6 KiB (10.0 KiB / s)\n",
            "\u001b[2Khttps://repo1.maven.org/maven2/org/scala-sbt/test-interface/1.0/test-interface-…\n",
            "\u001b[2K  100.0% [##########] 1.7 KiB (10.7 KiB / s)\n",
            "\u001b[2Khttps://repo1.maven.org/maven2/org/scalameta/fastparse-utils_2.12/1.0.0/fastpar…\n",
            "\u001b[2K  100.0% [##########] 2.3 KiB (14.4 KiB / s)\n",
            "\u001b[2Khttps://repo1.maven.org/maven2/com/fasterxml/jackson/core/jackson-annotations/2…\n",
            "\u001b[2K    0.0% [          ] 0B (0B / s)\n",
            "\u001b[2Khttps://repo1.maven.org/maven2/org/json4s/json4s-ast_2.12/3.6.2/json4s-ast_2.12…\n",
            "\u001b[2K    0.0% [          ] 0B (0B / s)\n",
            "\u001b[2A\u001b[2A\u001b[10000D\u001b[2Khttps://repo1.maven.org/maven2/org/json4s/json4s-ast_2.12/3.6.2/json4s-ast_2.12…\n",
            "\u001b[2K  100.0% [##########] 1.6 KiB (11.1 KiB / s)\n",
            "\u001b[2Khttps://repo1.maven.org/maven2/com/fasterxml/jackson/core/jackson-annotations/2…\n",
            "\u001b[2K    0.0% [          ] 0B (0B / s)\n",
            "\u001b[2A\u001b[10000D\u001b[2Khttps://repo1.maven.org/maven2/com/fasterxml/jackson/core/jackson-annotations/2…\n",
            "\u001b[2K    0.0% [          ] 0B (0B / s)\n",
            "\u001b[2A\u001b[10000D\u001b[2Khttps://repo1.maven.org/maven2/com/fasterxml/jackson/core/jackson-annotations/2…\n",
            "\u001b[2K  100.0% [##########] 1.9 KiB (4.5 KiB / s)\n",
            "\u001b[2Khttps://repo1.maven.org/maven2/com/fasterxml/jackson/jackson-parent/2.9.0/jacks…\n",
            "\u001b[2K    0.0% [          ] 0B (0B / s)\n",
            "\u001b[2Khttps://repo1.maven.org/maven2/com/thoughtworks/paranamer/paranamer-parent/2.8/…\n",
            "\u001b[2K    0.0% [          ] 0B (0B / s)\n",
            "\u001b[2A\u001b[2A\u001b[10000D\u001b[2Khttps://repo1.maven.org/maven2/com/fasterxml/jackson/jackson-parent/2.9.0/jacks…\n",
            "\u001b[2K    0.0% [          ] 0B (0B / s)\n",
            "\u001b[2Khttps://repo1.maven.org/maven2/com/thoughtworks/paranamer/paranamer-parent/2.8/…\n",
            "\u001b[2K    0.0% [          ] 0B (0B / s)\n",
            "\u001b[2A\u001b[2A\u001b[10000D\u001b[2Khttps://repo1.maven.org/maven2/com/fasterxml/jackson/jackson-parent/2.9.0/jacks…\n",
            "\u001b[2K  100.0% [##########] 7.6 KiB (50.3 KiB / s)\n",
            "\u001b[2Khttps://repo1.maven.org/maven2/com/thoughtworks/paranamer/paranamer-parent/2.8/…\n",
            "\u001b[2K  100.0% [##########] 11.3 KiB (75.6 KiB / s)\n",
            "\u001b[2Khttps://repo1.maven.org/maven2/com/fasterxml/oss-parent/28/oss-parent-28.pom\n",
            "\u001b[2K    0.0% [          ] 0B (0B / s)\n",
            "\u001b[2A\u001b[10000D\u001b[2Khttps://repo1.maven.org/maven2/com/fasterxml/oss-parent/28/oss-parent-28.pom\n",
            "\u001b[2K   79.2% [#######   ] 15.5 KiB (111.4 KiB / s)\n",
            "\u001b[2A\u001b[10000D\u001b[2Khttps://repo1.maven.org/maven2/com/fasterxml/oss-parent/28/oss-parent-28.pom\n",
            "\u001b[2K  100.0% [##########] 19.5 KiB (122.9 KiB / s)\n",
            "\u001b[10000D\u001b[2Khttps://repo1.maven.org/maven2/com/lihaoyi/ammonite-terminal_2.12/1.6.4/ammonit…\n",
            "\u001b[2K    0.0% [          ] 0B (0B / s)\n",
            "\u001b[2Khttps://repo1.maven.org/maven2/com/lihaoyi/requests_2.12/0.1.7/requests_2.12-0.…\n",
            "\u001b[2K    0.0% [          ] 0B (0B / s)\n",
            "\u001b[2Khttps://repo1.maven.org/maven2/org/json4s/json4s-core_2.12/3.6.2/json4s-core_2.…\n",
            "\u001b[2K    0.0% [          ] 0B (0B / s)\n",
            "\u001b[2Khttps://repo1.maven.org/maven2/org/jboss/xnio/xnio-nio/3.7.0.Final/xnio-nio-3.7…\n",
            "\u001b[2K    0.0% [          ] 0B (0B / s)\n",
            "\u001b[2Khttps://repo1.maven.org/maven2/org/scalameta/tokens_2.12/4.1.4/tokens_2.12-4.1.…\n",
            "\u001b[2K    0.0% [          ] 0B (0B / s)\n",
            "\u001b[2Khttps://repo1.maven.org/maven2/org/scalameta/dialects_2.12/4.1.4/dialects_2.12-…\n",
            "\u001b[2K    0.0% [          ] 0B (0B / s)\n",
            "\u001b[2A\u001b[2A\u001b[2A\u001b[2A\u001b[2A\u001b[2A\u001b[10000D\u001b[2Khttps://repo1.maven.org/maven2/com/lihaoyi/ammonite-terminal_2.12/1.6.4/ammonit…\n",
            "\u001b[2K    0.0% [          ] 0B (0B / s)\n",
            "\u001b[2Khttps://repo1.maven.org/maven2/com/lihaoyi/requests_2.12/0.1.7/requests_2.12-0.…\n",
            "\u001b[2K    0.0% [          ] 0B (0B / s)\n",
            "\u001b[2Khttps://repo1.maven.org/maven2/org/json4s/json4s-core_2.12/3.6.2/json4s-core_2.…\n",
            "\u001b[2K    0.0% [          ] 0B (0B / s)\n",
            "\u001b[2Khttps://repo1.maven.org/maven2/org/jboss/xnio/xnio-nio/3.7.0.Final/xnio-nio-3.7…\n",
            "\u001b[2K    0.0% [          ] 0B (0B / s)\n",
            "\u001b[2Khttps://repo1.maven.org/maven2/org/scalameta/tokens_2.12/4.1.4/tokens_2.12-4.1.…\n",
            "\u001b[2K    0.0% [          ] 0B (0B / s)\n",
            "\u001b[2Khttps://repo1.maven.org/maven2/org/scalameta/dialects_2.12/4.1.4/dialects_2.12-…\n",
            "\u001b[2K    0.0% [          ] 0B (0B / s)\n",
            "\u001b[2A\u001b[2A\u001b[2A\u001b[2A\u001b[2A\u001b[2A\u001b[10000D\u001b[2Khttps://repo1.maven.org/maven2/org/json4s/json4s-core_2.12/3.6.2/json4s-core_2.…\n",
            "\u001b[2K   37.9% [###       ] 15.5 KiB (101.8 KiB / s)\n",
            "\u001b[2Khttps://repo1.maven.org/maven2/com/lihaoyi/ammonite-terminal_2.12/1.6.4/ammonit…\n",
            "\u001b[2K    0.0% [          ] 0B (0B / s)\n",
            "\u001b[2Khttps://repo1.maven.org/maven2/com/lihaoyi/requests_2.12/0.1.7/requests_2.12-0.…\n",
            "\u001b[2K    0.0% [          ] 0B (0B / s)\n",
            "\u001b[2Khttps://repo1.maven.org/maven2/org/jboss/xnio/xnio-nio/3.7.0.Final/xnio-nio-3.7…\n",
            "\u001b[2K    0.0% [          ] 0B (0B / s)\n",
            "\u001b[2Khttps://repo1.maven.org/maven2/org/scalameta/tokens_2.12/4.1.4/tokens_2.12-4.1.…\n",
            "\u001b[2K    0.0% [          ] 0B (0B / s)\n",
            "\u001b[2Khttps://repo1.maven.org/maven2/org/scalameta/dialects_2.12/4.1.4/dialects_2.12-…\n",
            "\u001b[2K    0.0% [          ] 0B (0B / s)\n",
            "\u001b[2A\u001b[2A\u001b[2A\u001b[2A\u001b[2A\u001b[2A\u001b[10000D\u001b[2Khttps://repo1.maven.org/maven2/com/lihaoyi/requests_2.12/0.1.7/requests_2.12-0.…\n",
            "\u001b[2K  100.0% [##########] 9.6 KiB (56.7 KiB / s)\n",
            "\u001b[2Khttps://repo1.maven.org/maven2/org/scalameta/tokens_2.12/4.1.4/tokens_2.12-4.1.…\n",
            "\u001b[2K  100.0% [##########] 9.6 KiB (56.3 KiB / s)\n",
            "\u001b[2Khttps://repo1.maven.org/maven2/org/json4s/json4s-core_2.12/3.6.2/json4s-core_2.…\n",
            "\u001b[2K   37.9% [###       ] 15.5 KiB (91.0 KiB / s)\n",
            "\u001b[2Khttps://repo1.maven.org/maven2/org/jboss/xnio/xnio-nio/3.7.0.Final/xnio-nio-3.7…\n",
            "\u001b[2K   27.3% [##        ] 15.5 KiB (90.5 KiB / s)\n",
            "\u001b[2Khttps://repo1.maven.org/maven2/com/lihaoyi/ammonite-terminal_2.12/1.6.4/ammonit…\n",
            "\u001b[2K   18.3% [#         ] 31.5 KiB (184.0 KiB / s)\n",
            "\u001b[2Khttps://repo1.maven.org/maven2/org/scalameta/dialects_2.12/4.1.4/dialects_2.12-…\n",
            "\u001b[2K    0.0% [          ] 0B (0B / s)\n",
            "\u001b[2Khttps://repo1.maven.org/maven2/org/jboss/xnio/xnio-nio/3.7.0.Final/xnio-nio-3.7…\n",
            "\u001b[2K    0.0% [          ] 0B (0B / s)\n",
            "\u001b[2Khttps://repo1.maven.org/maven2/org/scalameta/common_2.12/4.1.4/common_2.12-4.1.…\n",
            "\u001b[2K    0.0% [          ] 0B (0B / s)\n",
            "\u001b[2A\u001b[2A\u001b[2A\u001b[2A\u001b[2A\u001b[2A\u001b[10000D\u001b[2Khttps://repo1.maven.org/maven2/org/json4s/json4s-core_2.12/3.6.2/json4s-core_2.…\n",
            "\u001b[2K   77.1% [#######   ] 31.5 KiB (163.1 KiB / s)\n",
            "\u001b[2Khttps://repo1.maven.org/maven2/org/jboss/xnio/xnio-nio/3.7.0.Final/xnio-nio-3.7…\n",
            "\u001b[2K   55.4% [#####     ] 31.5 KiB (161.4 KiB / s)\n",
            "\u001b[2Khttps://repo1.maven.org/maven2/com/lihaoyi/ammonite-terminal_2.12/1.6.4/ammonit…\n",
            "\u001b[2K   27.6% [##        ] 47.5 KiB (243.4 KiB / s)\n",
            "\u001b[2Khttps://repo1.maven.org/maven2/org/scalameta/dialects_2.12/4.1.4/dialects_2.12-…\n",
            "\u001b[2K    0.0% [          ] 0B (0B / s)\n",
            "\u001b[2Khttps://repo1.maven.org/maven2/org/jboss/xnio/xnio-nio/3.7.0.Final/xnio-nio-3.7…\n",
            "\u001b[2K    0.0% [          ] 0B (0B / s)\n",
            "\u001b[2Khttps://repo1.maven.org/maven2/org/scalameta/common_2.12/4.1.4/common_2.12-4.1.…\n",
            "\u001b[2K    0.0% [          ] 0B (0B / s)\n",
            "\u001b[2A\u001b[2A\u001b[2A\u001b[2A\u001b[2A\u001b[2A\u001b[10000D\u001b[2Khttps://repo1.maven.org/maven2/org/json4s/json4s-core_2.12/3.6.2/json4s-core_2.…\n",
            "\u001b[2K  100.0% [##########] 40.8 KiB (194.3 KiB / s)\n",
            "\u001b[2Khttps://repo1.maven.org/maven2/org/jboss/xnio/xnio-nio/3.7.0.Final/xnio-nio-3.7…\n",
            "\u001b[2K   55.4% [#####     ] 31.5 KiB (149.2 KiB / s)\n",
            "\u001b[2Khttps://repo1.maven.org/maven2/com/lihaoyi/ammonite-terminal_2.12/1.6.4/ammonit…\n",
            "\u001b[2K   36.9% [###       ] 63.5 KiB (300.8 KiB / s)\n",
            "\u001b[2Khttps://repo1.maven.org/maven2/org/scalameta/dialects_2.12/4.1.4/dialects_2.12-…\n",
            "\u001b[2K    0.0% [          ] 0B (0B / s)\n",
            "\u001b[2Khttps://repo1.maven.org/maven2/org/jboss/xnio/xnio-nio/3.7.0.Final/xnio-nio-3.7…\n",
            "\u001b[2K    0.0% [          ] 0B (0B / s)\n",
            "\u001b[2Khttps://repo1.maven.org/maven2/org/scalameta/common_2.12/4.1.4/common_2.12-4.1.…\n",
            "\u001b[2K    0.0% [          ] 0B (0B / s)\n",
            "\u001b[2Khttps://repo1.maven.org/maven2/org/javassist/javassist/3.21.0-GA/javassist-3.21…\n",
            "\u001b[2K    0.0% [          ] 0B (0B / s)\n",
            "\u001b[2A\u001b[2A\u001b[2A\u001b[2A\u001b[2A\u001b[2A\u001b[10000D\u001b[2Khttps://repo1.maven.org/maven2/org/jboss/xnio/xnio-nio/3.7.0.Final/xnio-nio-3.7…\n",
            "\u001b[2K  100.0% [##########] 56.8 KiB (209.5 KiB / s)\n",
            "\u001b[2Khttps://repo1.maven.org/maven2/com/lihaoyi/ammonite-terminal_2.12/1.6.4/ammonit…\n",
            "\u001b[2K   46.3% [####      ] 79.5 KiB (293.2 KiB / s)\n",
            "\u001b[2Khttps://repo1.maven.org/maven2/org/scalameta/dialects_2.12/4.1.4/dialects_2.12-…\n",
            "\u001b[2K    0.0% [          ] 0B (0B / s)\n",
            "\u001b[2Khttps://repo1.maven.org/maven2/org/jboss/xnio/xnio-nio/3.7.0.Final/xnio-nio-3.7…\n",
            "\u001b[2K    0.0% [          ] 0B (0B / s)\n",
            "\u001b[2Khttps://repo1.maven.org/maven2/org/scalameta/common_2.12/4.1.4/common_2.12-4.1.…\n",
            "\u001b[2K    0.0% [          ] 0B (0B / s)\n",
            "\u001b[2Khttps://repo1.maven.org/maven2/org/javassist/javassist/3.21.0-GA/javassist-3.21…\n",
            "\u001b[2K    0.0% [          ] 0B (0B / s)\n",
            "\u001b[2Khttps://repo1.maven.org/maven2/org/scalameta/metacp_2.12/4.1.4/metacp_2.12-4.1.…\n",
            "\u001b[2K    0.0% [          ] 0B (0B / s)\n",
            "\u001b[2A\u001b[2A\u001b[2A\u001b[2A\u001b[2A\u001b[2A\u001b[10000D\u001b[2Khttps://repo1.maven.org/maven2/com/lihaoyi/ammonite-terminal_2.12/1.6.4/ammonit…\n",
            "\u001b[2K   64.9% [######    ] 111.5 KiB (383.1 KiB / s)\n",
            "\u001b[2Khttps://repo1.maven.org/maven2/org/scalameta/dialects_2.12/4.1.4/dialects_2.12-…\n",
            "\u001b[2K    0.0% [          ] 0B (0B / s)\n",
            "\u001b[2Khttps://repo1.maven.org/maven2/org/jboss/xnio/xnio-nio/3.7.0.Final/xnio-nio-3.7…\n",
            "\u001b[2K    0.0% [          ] 0B (0B / s)\n",
            "\u001b[2Khttps://repo1.maven.org/maven2/org/scalameta/common_2.12/4.1.4/common_2.12-4.1.…\n",
            "\u001b[2K    0.0% [          ] 0B (0B / s)\n",
            "\u001b[2Khttps://repo1.maven.org/maven2/org/javassist/javassist/3.21.0-GA/javassist-3.21…\n",
            "\u001b[2K    0.0% [          ] 0B (0B / s)\n",
            "\u001b[2Khttps://repo1.maven.org/maven2/org/scalameta/metacp_2.12/4.1.4/metacp_2.12-4.1.…\n",
            "\u001b[2K    0.0% [          ] 0B (0B / s)\n",
            "\u001b[2A\u001b[2A\u001b[2A\u001b[2A\u001b[2A\u001b[2A\u001b[10000D\u001b[2Khttps://repo1.maven.org/maven2/com/lihaoyi/ammonite-terminal_2.12/1.6.4/ammonit…\n",
            "\u001b[2K   83.5% [########  ] 143.5 KiB (461.3 KiB / s)\n",
            "\u001b[2Khttps://repo1.maven.org/maven2/org/jboss/xnio/xnio-nio/3.7.0.Final/xnio-nio-3.7…\n",
            "\u001b[2K   13.5% [#         ] 16.0 KiB (102.6 KiB / s)\n",
            "\u001b[2Khttps://repo1.maven.org/maven2/org/scalameta/dialects_2.12/4.1.4/dialects_2.12-…\n",
            "\u001b[2K    0.0% [          ] 0B (0B / s)\n",
            "\u001b[2Khttps://repo1.maven.org/maven2/org/scalameta/common_2.12/4.1.4/common_2.12-4.1.…\n",
            "\u001b[2K    0.0% [          ] 0B (0B / s)\n",
            "\u001b[2Khttps://repo1.maven.org/maven2/org/javassist/javassist/3.21.0-GA/javassist-3.21…\n",
            "\u001b[2K    0.0% [          ] 0B (0B / s)\n",
            "\u001b[2Khttps://repo1.maven.org/maven2/org/scalameta/metacp_2.12/4.1.4/metacp_2.12-4.1.…\n",
            "\u001b[2K    0.0% [          ] 0B (0B / s)\n",
            "\u001b[2A\u001b[2A\u001b[2A\u001b[2A\u001b[2A\u001b[2A\u001b[10000D\u001b[2Khttps://repo1.maven.org/maven2/com/lihaoyi/ammonite-terminal_2.12/1.6.4/ammonit…\n",
            "\u001b[2K  100.0% [##########] 171.8 KiB (519.1 KiB / s)\n",
            "\u001b[2Khttps://repo1.maven.org/maven2/org/jboss/xnio/xnio-nio/3.7.0.Final/xnio-nio-3.7…\n",
            "\u001b[2K   27.0% [##        ] 32.0 KiB (181.8 KiB / s)\n",
            "\u001b[2Khttps://repo1.maven.org/maven2/org/scalameta/common_2.12/4.1.4/common_2.12-4.1.…\n",
            "\u001b[2K    2.0% [          ] 15.5 KiB (93.8 KiB / s)\n",
            "\u001b[2Khttps://repo1.maven.org/maven2/org/scalameta/dialects_2.12/4.1.4/dialects_2.12-…\n",
            "\u001b[2K    0.0% [          ] 0B (0B / s)\n",
            "\u001b[2Khttps://repo1.maven.org/maven2/org/javassist/javassist/3.21.0-GA/javassist-3.21…\n",
            "\u001b[2K    0.0% [          ] 0B (0B / s)\n",
            "\u001b[2Khttps://repo1.maven.org/maven2/org/scalameta/metacp_2.12/4.1.4/metacp_2.12-4.1.…\n",
            "\u001b[2K    0.0% [          ] 0B (0B / s)\n",
            "\u001b[2Khttps://repo1.maven.org/maven2/org/scala-lang/scala-compiler/2.12.8/scala-compi…\n",
            "\u001b[2K    0.0% [          ] 0B (0B / s)\n",
            "\u001b[2A\u001b[2A\u001b[2A\u001b[2A\u001b[2A\u001b[2A\u001b[10000D\u001b[2Khttps://repo1.maven.org/maven2/org/jboss/xnio/xnio-nio/3.7.0.Final/xnio-nio-3.7…\n",
            "\u001b[2K   54.0% [#####     ] 64.0 KiB (326.5 KiB / s)\n",
            "\u001b[2Khttps://repo1.maven.org/maven2/org/javassist/javassist/3.21.0-GA/javassist-3.21…\n",
            "\u001b[2K    6.2% [          ] 32.0 KiB (206.5 KiB / s)\n",
            "\u001b[2Khttps://repo1.maven.org/maven2/org/scalameta/common_2.12/4.1.4/common_2.12-4.1.…\n",
            "\u001b[2K    4.0% [          ] 31.5 KiB (170.1 KiB / s)\n",
            "\u001b[2Khttps://repo1.maven.org/maven2/org/scalameta/dialects_2.12/4.1.4/dialects_2.12-…\n",
            "\u001b[2K    0.0% [          ] 0B (0B / s)\n",
            "\u001b[2Khttps://repo1.maven.org/maven2/org/scalameta/metacp_2.12/4.1.4/metacp_2.12-4.1.…\n",
            "\u001b[2K    0.0% [          ] 0B (0B / s)\n",
            "\u001b[2Khttps://repo1.maven.org/maven2/org/scala-lang/scala-compiler/2.12.8/scala-compi…\n",
            "\u001b[2K    0.0% [          ] 0B (0B / s)\n",
            "\u001b[2A\u001b[2A\u001b[2A\u001b[2A\u001b[2A\u001b[2A\u001b[10000D\u001b[2Khttps://repo1.maven.org/maven2/org/jboss/xnio/xnio-nio/3.7.0.Final/xnio-nio-3.7…\n",
            "\u001b[2K   54.0% [#####     ] 64.0 KiB (296.3 KiB / s)\n",
            "\u001b[2Khttps://repo1.maven.org/maven2/org/javassist/javassist/3.21.0-GA/javassist-3.21…\n",
            "\u001b[2K   12.5% [#         ] 64.0 KiB (365.7 KiB / s)\n",
            "\u001b[2Khttps://repo1.maven.org/maven2/org/scalameta/common_2.12/4.1.4/common_2.12-4.1.…\n",
            "\u001b[2K    4.0% [          ] 31.5 KiB (153.5 KiB / s)\n",
            "\u001b[2Khttps://repo1.maven.org/maven2/org/scalameta/dialects_2.12/4.1.4/dialects_2.12-…\n",
            "\u001b[2K    0.0% [          ] 0B (0B / s)\n",
            "\u001b[2Khttps://repo1.maven.org/maven2/org/scalameta/metacp_2.12/4.1.4/metacp_2.12-4.1.…\n",
            "\u001b[2K    0.0% [          ] 0B (0B / s)\n",
            "\u001b[2Khttps://repo1.maven.org/maven2/org/scala-lang/scala-compiler/2.12.8/scala-compi…\n",
            "\u001b[2K    0.0% [          ] 0B (0B / s)\n",
            "\u001b[2A\u001b[2A\u001b[2A\u001b[2A\u001b[2A\u001b[2A\u001b[10000D\u001b[2Khttps://repo1.maven.org/maven2/org/jboss/xnio/xnio-nio/3.7.0.Final/xnio-nio-3.7…\n",
            "\u001b[2K   54.0% [#####     ] 64.0 KiB (271.2 KiB / s)\n",
            "\u001b[2Khttps://repo1.maven.org/maven2/org/javassist/javassist/3.21.0-GA/javassist-3.21…\n",
            "\u001b[2K   15.6% [#         ] 80.0 KiB (410.3 KiB / s)\n",
            "\u001b[2Khttps://repo1.maven.org/maven2/org/scalameta/common_2.12/4.1.4/common_2.12-4.1.…\n",
            "\u001b[2K    4.0% [          ] 31.5 KiB (139.9 KiB / s)\n",
            "\u001b[2Khttps://repo1.maven.org/maven2/org/scalameta/dialects_2.12/4.1.4/dialects_2.12-…\n",
            "\u001b[2K    0.0% [          ] 0B (0B / s)\n",
            "\u001b[2Khttps://repo1.maven.org/maven2/org/scalameta/metacp_2.12/4.1.4/metacp_2.12-4.1.…\n",
            "\u001b[2K    0.0% [          ] 0B (0B / s)\n",
            "\u001b[2Khttps://repo1.maven.org/maven2/org/scala-lang/scala-compiler/2.12.8/scala-compi…\n",
            "\u001b[2K    0.0% [          ] 0B (0B / s)\n",
            "\u001b[2A\u001b[2A\u001b[2A\u001b[2A\u001b[2A\u001b[2A\u001b[10000D\u001b[2Khttps://repo1.maven.org/maven2/org/scalameta/metacp_2.12/4.1.4/metacp_2.12-4.1.…\n",
            "\u001b[2K   79.1% [#######   ] 31.5 KiB (214.1 KiB / s)\n",
            "\u001b[2Khttps://repo1.maven.org/maven2/org/jboss/xnio/xnio-nio/3.7.0.Final/xnio-nio-3.7…\n",
            "\u001b[2K   54.0% [#####     ] 64.0 KiB (250.0 KiB / s)\n",
            "\u001b[2Khttps://repo1.maven.org/maven2/org/javassist/javassist/3.21.0-GA/javassist-3.21…\n",
            "\u001b[2K   15.6% [#         ] 80.0 KiB (372.1 KiB / s)\n",
            "\u001b[2Khttps://repo1.maven.org/maven2/org/scalameta/common_2.12/4.1.4/common_2.12-4.1.…\n",
            "\u001b[2K    4.0% [          ] 31.5 KiB (128.5 KiB / s)\n",
            "\u001b[2Khttps://repo1.maven.org/maven2/org/scalameta/dialects_2.12/4.1.4/dialects_2.12-…\n",
            "\u001b[2K    0.0% [          ] 0B (0B / s)\n",
            "\u001b[2Khttps://repo1.maven.org/maven2/org/scala-lang/scala-compiler/2.12.8/scala-compi…\n",
            "\u001b[2K    0.0% [          ] 0B (0B / s)\n",
            "\u001b[2A\u001b[2A\u001b[2A\u001b[2A\u001b[2A\u001b[2A\u001b[10000D\u001b[2Khttps://repo1.maven.org/maven2/org/scalameta/metacp_2.12/4.1.4/metacp_2.12-4.1.…\n",
            "\u001b[2K  100.0% [##########] 39.8 KiB (238.3 KiB / s)\n",
            "\u001b[2Khttps://repo1.maven.org/maven2/org/jboss/xnio/xnio-nio/3.7.0.Final/xnio-nio-3.7…\n",
            "\u001b[2K   80.9% [########  ] 96.0 KiB (347.8 KiB / s)\n",
            "\u001b[2Khttps://repo1.maven.org/maven2/org/scalameta/dialects_2.12/4.1.4/dialects_2.12-…\n",
            "\u001b[2K   49.1% [####      ] 12.0 KiB (28.3 KiB / s)\n",
            "\u001b[2Khttps://repo1.maven.org/maven2/org/javassist/javassist/3.21.0-GA/javassist-3.21…\n",
            "\u001b[2K   15.6% [#         ] 80.0 KiB (340.4 KiB / s)\n",
            "\u001b[2Khttps://repo1.maven.org/maven2/org/scalameta/common_2.12/4.1.4/common_2.12-4.1.…\n",
            "\u001b[2K    6.0% [          ] 47.5 KiB (179.1 KiB / s)\n",
            "\u001b[2Khttps://repo1.maven.org/maven2/org/scala-lang/scala-compiler/2.12.8/scala-compi…\n",
            "\u001b[2K    0.0% [          ] 0B (0B / s)\n",
            "\u001b[2Khttps://repo1.maven.org/maven2/org/scalameta/trees_2.12/4.1.4/trees_2.12-4.1.4.…\n",
            "\u001b[2K    0.0% [          ] 0B (0B / s)\n",
            "\u001b[2A\u001b[2A\u001b[2A\u001b[2A\u001b[2A\u001b[2A\u001b[10000D\u001b[2Khttps://repo1.maven.org/maven2/org/jboss/xnio/xnio-nio/3.7.0.Final/xnio-nio-3.7…\n",
            "\u001b[2K  100.0% [##########] 118.6 KiB (400.7 KiB / s)\n",
            "\u001b[2Khttps://repo1.maven.org/maven2/org/scalameta/dialects_2.12/4.1.4/dialects_2.12-…\n",
            "\u001b[2K   95.8% [######### ] 23.5 KiB (52.7 KiB / s)\n",
            "\u001b[2Khttps://repo1.maven.org/maven2/org/javassist/javassist/3.21.0-GA/javassist-3.21…\n",
            "\u001b[2K   15.6% [#         ] 80.0 KiB (313.7 KiB / s)\n",
            "\u001b[2Khttps://repo1.maven.org/maven2/org/scalameta/common_2.12/4.1.4/common_2.12-4.1.…\n",
            "\u001b[2K    8.0% [          ] 63.5 KiB (222.7 KiB / s)\n",
            "\u001b[2Khttps://repo1.maven.org/maven2/org/scala-lang/scala-compiler/2.12.8/scala-compi…\n",
            "\u001b[2K    0.0% [          ] 0B (0B / s)\n",
            "\u001b[2Khttps://repo1.maven.org/maven2/org/scalameta/trees_2.12/4.1.4/trees_2.12-4.1.4.…\n",
            "\u001b[2K    0.0% [          ] 0B (0B / s)\n",
            "\u001b[2Khttps://repo1.maven.org/maven2/org/scala-lang/scala-reflect/2.12.8/scala-reflec…\n",
            "\u001b[2K    0.0% [          ] 0B (0B / s)\n",
            "\u001b[2A\u001b[2A\u001b[2A\u001b[2A\u001b[2A\u001b[2A\u001b[10000D\u001b[2Khttps://repo1.maven.org/maven2/org/scalameta/dialects_2.12/4.1.4/dialects_2.12-…\n",
            "\u001b[2K  100.0% [##########] 24.5 KiB (52.6 KiB / s)\n",
            "\u001b[2Khttps://repo1.maven.org/maven2/org/javassist/javassist/3.21.0-GA/javassist-3.21…\n",
            "\u001b[2K   21.9% [##        ] 112.0 KiB (407.3 KiB / s)\n",
            "\u001b[2Khttps://repo1.maven.org/maven2/org/scalameta/common_2.12/4.1.4/common_2.12-4.1.…\n",
            "\u001b[2K   10.0% [#         ] 79.5 KiB (260.6 KiB / s)\n",
            "\u001b[2Khttps://repo1.maven.org/maven2/org/scala-lang/scala-compiler/2.12.8/scala-compi…\n",
            "\u001b[2K    4.3% [          ] 79.5 KiB (522.8 KiB / s)\n",
            "\u001b[2Khttps://repo1.maven.org/maven2/org/scalameta/trees_2.12/4.1.4/trees_2.12-4.1.4.…\n",
            "\u001b[2K    0.0% [          ] 0B (0B / s)\n",
            "\u001b[2Khttps://repo1.maven.org/maven2/org/scala-lang/scala-reflect/2.12.8/scala-reflec…\n",
            "\u001b[2K    0.0% [          ] 0B (0B / s)\n",
            "\u001b[2Khttps://repo1.maven.org/maven2/org/scodec/scodec-bits_2.12/1.1.9/scodec-bits_2.…\n",
            "\u001b[2K    0.0% [          ] 0B (0B / s)\n",
            "\u001b[2A\u001b[2A\u001b[2A\u001b[2A\u001b[2A\u001b[2A\u001b[10000D\u001b[2Khttps://repo1.maven.org/maven2/org/javassist/javassist/3.21.0-GA/javassist-3.21…\n",
            "\u001b[2K   31.2% [###       ] 160.0 KiB (542.4 KiB / s)\n",
            "\u001b[2Khttps://repo1.maven.org/maven2/org/scalameta/common_2.12/4.1.4/common_2.12-4.1.…\n",
            "\u001b[2K   14.1% [#         ] 111.5 KiB (343.0 KiB / s)\n",
            "\u001b[2Khttps://repo1.maven.org/maven2/org/scala-lang/scala-compiler/2.12.8/scala-compi…\n",
            "\u001b[2K    7.7% [          ] 143.5 KiB (834.1 KiB / s)\n",
            "\u001b[2Khttps://repo1.maven.org/maven2/org/scalameta/trees_2.12/4.1.4/trees_2.12-4.1.4.…\n",
            "\u001b[2K    0.0% [          ] 0B (0B / s)\n",
            "\u001b[2Khttps://repo1.maven.org/maven2/org/scala-lang/scala-reflect/2.12.8/scala-reflec…\n",
            "\u001b[2K    0.0% [          ] 0B (0B / s)\n",
            "\u001b[2Khttps://repo1.maven.org/maven2/org/scodec/scodec-bits_2.12/1.1.9/scodec-bits_2.…\n",
            "\u001b[2K    0.0% [          ] 0B (0B / s)\n",
            "\u001b[2A\u001b[2A\u001b[2A\u001b[2A\u001b[2A\u001b[2A\u001b[10000D\u001b[2Khttps://repo1.maven.org/maven2/org/javassist/javassist/3.21.0-GA/javassist-3.21…\n",
            "\u001b[2K   40.6% [####      ] 208.0 KiB (660.3 KiB / s)\n",
            "\u001b[2Khttps://repo1.maven.org/maven2/org/scalameta/common_2.12/4.1.4/common_2.12-4.1.…\n",
            "\u001b[2K   14.1% [#         ] 111.5 KiB (323.1 KiB / s)\n",
            "\u001b[2Khttps://repo1.maven.org/maven2/org/scala-lang/scala-compiler/2.12.8/scala-compi…\n",
            "\u001b[2K   11.2% [#         ] 207.5 KiB (1.1 MiB / s)\n",
            "\u001b[2Khttps://repo1.maven.org/maven2/org/scalameta/trees_2.12/4.1.4/trees_2.12-4.1.4.…\n",
            "\u001b[2K    0.0% [          ] 0B (0B / s)\n",
            "\u001b[2Khttps://repo1.maven.org/maven2/org/scala-lang/scala-reflect/2.12.8/scala-reflec…\n",
            "\u001b[2K    0.0% [          ] 0B (0B / s)\n",
            "\u001b[2Khttps://repo1.maven.org/maven2/org/scodec/scodec-bits_2.12/1.1.9/scodec-bits_2.…\n",
            "\u001b[2K    0.0% [          ] 0B (0B / s)\n",
            "\u001b[2A\u001b[2A\u001b[2A\u001b[2A\u001b[2A\u001b[2A\u001b[10000D\u001b[2Khttps://repo1.maven.org/maven2/org/javassist/javassist/3.21.0-GA/javassist-3.21…\n",
            "\u001b[2K   46.8% [####      ] 240.0 KiB (716.4 KiB / s)\n",
            "\u001b[2Khttps://repo1.maven.org/maven2/org/scalameta/common_2.12/4.1.4/common_2.12-4.1.…\n",
            "\u001b[2K   14.1% [#         ] 111.5 KiB (305.4 KiB / s)\n",
            "\u001b[2Khttps://repo1.maven.org/maven2/org/scala-lang/scala-compiler/2.12.8/scala-compi…\n",
            "\u001b[2K   11.2% [#         ] 207.5 KiB (978.6 KiB / s)\n",
            "\u001b[2Khttps://repo1.maven.org/maven2/org/scalameta/trees_2.12/4.1.4/trees_2.12-4.1.4.…\n",
            "\u001b[2K    0.0% [          ] 0B (0B / s)\n",
            "\u001b[2Khttps://repo1.maven.org/maven2/org/scala-lang/scala-reflect/2.12.8/scala-reflec…\n",
            "\u001b[2K    0.0% [          ] 0B (0B / s)\n",
            "\u001b[2Khttps://repo1.maven.org/maven2/org/scodec/scodec-bits_2.12/1.1.9/scodec-bits_2.…\n",
            "\u001b[2K    0.0% [          ] 0B (0B / s)\n",
            "\u001b[2A\u001b[2A\u001b[2A\u001b[2A\u001b[2A\u001b[2A\u001b[10000D\u001b[2Khttps://repo1.maven.org/maven2/org/javassist/javassist/3.21.0-GA/javassist-3.21…\n",
            "\u001b[2K   46.8% [####      ] 240.0 KiB (676.1 KiB / s)\n",
            "\u001b[2Khttps://repo1.maven.org/maven2/org/scalameta/common_2.12/4.1.4/common_2.12-4.1.…\n",
            "\u001b[2K   16.1% [#         ] 127.5 KiB (331.1 KiB / s)\n",
            "\u001b[2Khttps://repo1.maven.org/maven2/org/scala-lang/scala-compiler/2.12.8/scala-compi…\n",
            "\u001b[2K   11.2% [#         ] 207.5 KiB (894.3 KiB / s)\n",
            "\u001b[2Khttps://repo1.maven.org/maven2/org/scalameta/trees_2.12/4.1.4/trees_2.12-4.1.4.…\n",
            "\u001b[2K    0.0% [          ] 0B (0B / s)\n",
            "\u001b[2Khttps://repo1.maven.org/maven2/org/scala-lang/scala-reflect/2.12.8/scala-reflec…\n",
            "\u001b[2K    0.0% [          ] 0B (0B / s)\n",
            "\u001b[2Khttps://repo1.maven.org/maven2/org/scodec/scodec-bits_2.12/1.1.9/scodec-bits_2.…\n",
            "\u001b[2K    0.0% [          ] 0B (0B / s)\n",
            "\u001b[2A\u001b[2A\u001b[2A\u001b[2A\u001b[2A\u001b[2A\u001b[10000D\u001b[2Khttps://repo1.maven.org/maven2/org/javassist/javassist/3.21.0-GA/javassist-3.21…\n",
            "\u001b[2K   50.0% [####      ] 256.0 KiB (682.6 KiB / s)\n",
            "\u001b[2Khttps://repo1.maven.org/maven2/org/scalameta/common_2.12/4.1.4/common_2.12-4.1.…\n",
            "\u001b[2K   20.2% [##        ] 159.5 KiB (393.8 KiB / s)\n",
            "\u001b[2Khttps://repo1.maven.org/maven2/org/scala-lang/scala-compiler/2.12.8/scala-compi…\n",
            "\u001b[2K   11.2% [#         ] 207.5 KiB (823.3 KiB / s)\n",
            "\u001b[2Khttps://repo1.maven.org/maven2/org/scalameta/trees_2.12/4.1.4/trees_2.12-4.1.4.…\n",
            "\u001b[2K    0.0% [          ] 0B (0B / s)\n",
            "\u001b[2Khttps://repo1.maven.org/maven2/org/scala-lang/scala-reflect/2.12.8/scala-reflec…\n",
            "\u001b[2K    0.0% [          ] 0B (0B / s)\n",
            "\u001b[2Khttps://repo1.maven.org/maven2/org/scodec/scodec-bits_2.12/1.1.9/scodec-bits_2.…\n",
            "\u001b[2K    0.0% [          ] 0B (0B / s)\n",
            "\u001b[2A\u001b[2A\u001b[2A\u001b[2A\u001b[2A\u001b[2A\u001b[10000D\u001b[2Khttps://repo1.maven.org/maven2/org/javassist/javassist/3.21.0-GA/javassist-3.21…\n",
            "\u001b[2K   58.8% [#####     ] 301.4 KiB (763.0 KiB / s)\n",
            "\u001b[2Khttps://repo1.maven.org/maven2/org/scalameta/common_2.12/4.1.4/common_2.12-4.1.…\n",
            "\u001b[2K   24.2% [##        ] 191.5 KiB (450.5 KiB / s)\n",
            "\u001b[2Khttps://repo1.maven.org/maven2/org/scala-lang/scala-compiler/2.12.8/scala-compi…\n",
            "\u001b[2K   15.5% [#         ] 287.5 KiB (1.0 MiB / s)\n",
            "\u001b[2Khttps://repo1.maven.org/maven2/org/scala-lang/scala-reflect/2.12.8/scala-reflec…\n",
            "\u001b[2K    7.9% [          ] 47.5 KiB (325.1 KiB / s)\n",
            "\u001b[2Khttps://repo1.maven.org/maven2/org/scodec/scodec-bits_2.12/1.1.9/scodec-bits_2.…\n",
            "\u001b[2K    2.8% [          ] 6.7 KiB (48.9 KiB / s)\n",
            "\u001b[2Khttps://repo1.maven.org/maven2/org/scalameta/trees_2.12/4.1.4/trees_2.12-4.1.4.…\n",
            "\u001b[2K    0.6% [          ] 15.5 KiB (87.9 KiB / s)\n",
            "\u001b[2A\u001b[2A\u001b[2A\u001b[2A\u001b[2A\u001b[2A\u001b[10000D\u001b[2Khttps://repo1.maven.org/maven2/org/javassist/javassist/3.21.0-GA/javassist-3.21…\n",
            "\u001b[2K   74.4% [#######   ] 381.4 KiB (919.0 KiB / s)\n",
            "\u001b[2Khttps://repo1.maven.org/maven2/org/scalameta/common_2.12/4.1.4/common_2.12-4.1.…\n",
            "\u001b[2K   28.3% [##        ] 223.5 KiB (502.2 KiB / s)\n",
            "\u001b[2Khttps://repo1.maven.org/maven2/org/scala-lang/scala-compiler/2.12.8/scala-compi…\n",
            "\u001b[2K   20.7% [##        ] 383.5 KiB (1.3 MiB / s)\n",
            "\u001b[2Khttps://repo1.maven.org/maven2/org/scala-lang/scala-reflect/2.12.8/scala-reflec…\n",
            "\u001b[2K   15.9% [#         ] 95.5 KiB (578.6 KiB / s)\n",
            "\u001b[2Khttps://repo1.maven.org/maven2/org/scodec/scodec-bits_2.12/1.1.9/scodec-bits_2.…\n",
            "\u001b[2K    9.8% [          ] 23.5 KiB (150.7 KiB / s)\n",
            "\u001b[2Khttps://repo1.maven.org/maven2/org/scalameta/trees_2.12/4.1.4/trees_2.12-4.1.4.…\n",
            "\u001b[2K    2.6% [          ] 63.5 KiB (325.5 KiB / s)\n",
            "\u001b[2A\u001b[2A\u001b[2A\u001b[2A\u001b[2A\u001b[2A\u001b[10000D\u001b[2Khttps://repo1.maven.org/maven2/org/javassist/javassist/3.21.0-GA/javassist-3.21…\n",
            "\u001b[2K   90.1% [######### ] 461.4 KiB (1.0 MiB / s)\n",
            "\u001b[2Khttps://repo1.maven.org/maven2/org/scalameta/common_2.12/4.1.4/common_2.12-4.1.…\n",
            "\u001b[2K   36.3% [###       ] 287.4 KiB (618.1 KiB / s)\n",
            "\u001b[2Khttps://repo1.maven.org/maven2/org/scala-lang/scala-compiler/2.12.8/scala-compi…\n",
            "\u001b[2K   27.6% [##        ] 511.4 KiB (1.6 MiB / s)\n",
            "\u001b[2Khttps://repo1.maven.org/maven2/org/scala-lang/scala-reflect/2.12.8/scala-reflec…\n",
            "\u001b[2K   26.5% [##        ] 159.5 KiB (862.0 KiB / s)\n",
            "\u001b[2Khttps://repo1.maven.org/maven2/org/scodec/scodec-bits_2.12/1.1.9/scodec-bits_2.…\n",
            "\u001b[2K   13.1% [#         ] 31.5 KiB (178.8 KiB / s)\n",
            "\u001b[2Khttps://repo1.maven.org/maven2/org/scalameta/trees_2.12/4.1.4/trees_2.12-4.1.4.…\n",
            "\u001b[2K    3.8% [          ] 95.5 KiB (444.0 KiB / s)\n",
            "\u001b[2A\u001b[2A\u001b[2A\u001b[2A\u001b[2A\u001b[2A\u001b[10000D\u001b[2Khttps://repo1.maven.org/maven2/org/javassist/javassist/3.21.0-GA/javassist-3.21…\n",
            "\u001b[2K  100.0% [##########] 512.3 KiB (1.1 MiB / s)\n",
            "\u001b[2Khttps://repo1.maven.org/maven2/org/scalameta/common_2.12/4.1.4/common_2.12-4.1.…\n",
            "\u001b[2K   36.3% [###       ] 287.4 KiB (592.7 KiB / s)\n",
            "\u001b[2Khttps://repo1.maven.org/maven2/org/scala-lang/scala-compiler/2.12.8/scala-compi…\n",
            "\u001b[2K   34.5% [###       ] 639.4 KiB (1.9 MiB / s)\n",
            "\u001b[2Khttps://repo1.maven.org/maven2/org/scala-lang/scala-reflect/2.12.8/scala-reflec…\n",
            "\u001b[2K   26.5% [##        ] 159.5 KiB (777.9 KiB / s)\n",
            "\u001b[2Khttps://repo1.maven.org/maven2/org/scodec/scodec-bits_2.12/1.1.9/scodec-bits_2.…\n",
            "\u001b[2K   19.8% [#         ] 47.5 KiB (242.2 KiB / s)\n",
            "\u001b[2Khttps://repo1.maven.org/maven2/org/scalameta/trees_2.12/4.1.4/trees_2.12-4.1.4.…\n",
            "\u001b[2K    3.8% [          ] 95.5 KiB (406.3 KiB / s)\n",
            "\u001b[2Khttps://repo1.maven.org/maven2/org/scalameta/tokenizers_2.12/4.1.4/tokenizers_2…\n",
            "\u001b[2K    0.0% [          ] 0B (0B / s)\n",
            "\u001b[2A\u001b[2A\u001b[2A\u001b[2A\u001b[2A\u001b[2A\u001b[10000D\u001b[2Khttps://repo1.maven.org/maven2/org/scalameta/common_2.12/4.1.4/common_2.12-4.1.…\n",
            "\u001b[2K   42.4% [####      ] 335.4 KiB (638.9 KiB / s)\n",
            "\u001b[2Khttps://repo1.maven.org/maven2/org/scala-lang/scala-compiler/2.12.8/scala-compi…\n",
            "\u001b[2K   34.5% [###       ] 639.4 KiB (1.7 MiB / s)\n",
            "\u001b[2Khttps://repo1.maven.org/maven2/org/scala-lang/scala-reflect/2.12.8/scala-reflec…\n",
            "\u001b[2K   26.5% [##        ] 159.5 KiB (650.9 KiB / s)\n",
            "\u001b[2Khttps://repo1.maven.org/maven2/org/scodec/scodec-bits_2.12/1.1.9/scodec-bits_2.…\n",
            "\u001b[2K   19.8% [#         ] 47.5 KiB (201.1 KiB / s)\n",
            "\u001b[2Khttps://repo1.maven.org/maven2/org/scalameta/trees_2.12/4.1.4/trees_2.12-4.1.4.…\n",
            "\u001b[2K    3.8% [          ] 95.5 KiB (347.2 KiB / s)\n",
            "\u001b[2Khttps://repo1.maven.org/maven2/org/scalameta/tokenizers_2.12/4.1.4/tokenizers_2…\n",
            "\u001b[2K    0.0% [          ] 0B (0B / s)\n",
            "\u001b[2A\u001b[2A\u001b[2A\u001b[2A\u001b[2A\u001b[2A\u001b[10000D\u001b[2Khttps://repo1.maven.org/maven2/org/scalameta/common_2.12/4.1.4/common_2.12-4.1.…\n",
            "\u001b[2K   50.5% [#####     ] 399.4 KiB (732.9 KiB / s)\n",
            "\u001b[2Khttps://repo1.maven.org/maven2/org/scala-lang/scala-compiler/2.12.8/scala-compi…\n",
            "\u001b[2K   41.4% [####      ] 767.4 KiB (1.9 MiB / s)\n",
            "\u001b[2Khttps://repo1.maven.org/maven2/org/scala-lang/scala-reflect/2.12.8/scala-reflec…\n",
            "\u001b[2K   34.5% [###       ] 207.5 KiB (782.9 KiB / s)\n",
            "\u001b[2Khttps://repo1.maven.org/maven2/org/scodec/scodec-bits_2.12/1.1.9/scodec-bits_2.…\n",
            "\u001b[2K   19.8% [#         ] 47.5 KiB (185.4 KiB / s)\n",
            "\u001b[2Khttps://repo1.maven.org/maven2/org/scalameta/trees_2.12/4.1.4/trees_2.12-4.1.4.…\n",
            "\u001b[2K    5.1% [          ] 127.5 KiB (432.1 KiB / s)\n",
            "\u001b[2Khttps://repo1.maven.org/maven2/org/scalameta/tokenizers_2.12/4.1.4/tokenizers_2…\n",
            "\u001b[2K    0.0% [          ] 0B (0B / s)\n",
            "\u001b[2A\u001b[2A\u001b[2A\u001b[2A\u001b[2A\u001b[2A\u001b[10000D\u001b[2Khttps://repo1.maven.org/maven2/org/scalameta/common_2.12/4.1.4/common_2.12-4.1.…\n",
            "\u001b[2K   60.6% [######    ] 479.4 KiB (848.6 KiB / s)\n",
            "\u001b[2Khttps://repo1.maven.org/maven2/org/scala-lang/scala-compiler/2.12.8/scala-compi…\n",
            "\u001b[2K   50.9% [#####     ] 943.4 KiB (2.2 MiB / s)\n",
            "\u001b[2Khttps://repo1.maven.org/maven2/org/scala-lang/scala-reflect/2.12.8/scala-reflec…\n",
            "\u001b[2K   47.8% [####      ] 287.5 KiB (1008.7 KiB / s)\n",
            "\u001b[2Khttps://repo1.maven.org/maven2/org/scodec/scodec-bits_2.12/1.1.9/scodec-bits_2.…\n",
            "\u001b[2K   26.5% [##        ] 63.5 KiB (230.0 KiB / s)\n",
            "\u001b[2Khttps://repo1.maven.org/maven2/org/scalameta/trees_2.12/4.1.4/trees_2.12-4.1.4.…\n",
            "\u001b[2K    6.4% [          ] 159.5 KiB (506.3 KiB / s)\n",
            "\u001b[2Khttps://repo1.maven.org/maven2/org/scalameta/tokenizers_2.12/4.1.4/tokenizers_2…\n",
            "\u001b[2K    0.0% [          ] 0B (0B / s)\n",
            "\u001b[2A\u001b[2A\u001b[2A\u001b[2A\u001b[2A\u001b[2A\u001b[10000D\u001b[2Khttps://repo1.maven.org/maven2/org/scalameta/common_2.12/4.1.4/common_2.12-4.1.…\n",
            "\u001b[2K   70.7% [#######   ] 559.4 KiB (956.3 KiB / s)\n",
            "\u001b[2Khttps://repo1.maven.org/maven2/org/scala-lang/scala-compiler/2.12.8/scala-compi…\n",
            "\u001b[2K   61.3% [######    ] 1.1 MiB (2.6 MiB / s)\n",
            "\u001b[2Khttps://repo1.maven.org/maven2/org/scala-lang/scala-reflect/2.12.8/scala-reflec…\n",
            "\u001b[2K   61.1% [######    ] 367.5 KiB (1.2 MiB / s)\n",
            "\u001b[2Khttps://repo1.maven.org/maven2/org/scodec/scodec-bits_2.12/1.1.9/scodec-bits_2.…\n",
            "\u001b[2K   33.2% [###       ] 79.5 KiB (268.5 KiB / s)\n",
            "\u001b[2Khttps://repo1.maven.org/maven2/org/scalameta/trees_2.12/4.1.4/trees_2.12-4.1.4.…\n",
            "\u001b[2K    9.0% [          ] 223.5 KiB (667.1 KiB / s)\n",
            "\u001b[2Khttps://repo1.maven.org/maven2/org/scalameta/tokenizers_2.12/4.1.4/tokenizers_2…\n",
            "\u001b[2K    0.0% [          ] 0B (0B / s)\n",
            "\u001b[2A\u001b[2A\u001b[2A\u001b[2A\u001b[2A\u001b[2A\u001b[10000D\u001b[2Khttps://repo1.maven.org/maven2/org/scalameta/tokenizers_2.12/4.1.4/tokenizers_2…\n",
            "\u001b[2K  100.0% [##########] 25.2 KiB (193.7 KiB / s)\n",
            "\u001b[2Khttps://repo1.maven.org/maven2/org/scala-lang/scala-reflect/2.12.8/scala-reflec…\n",
            "\u001b[2K   79.8% [#######   ] 479.4 KiB (1.4 MiB / s)\n",
            "\u001b[2Khttps://repo1.maven.org/maven2/org/scalameta/common_2.12/4.1.4/common_2.12-4.1.…\n",
            "\u001b[2K   78.8% [#######   ] 623.4 KiB (1.0 MiB / s)\n",
            "\u001b[2Khttps://repo1.maven.org/maven2/org/scala-lang/scala-compiler/2.12.8/scala-compi…\n",
            "\u001b[2K   72.5% [#######   ] 1.3 MiB (2.9 MiB / s)\n",
            "\u001b[2Khttps://repo1.maven.org/maven2/org/scodec/scodec-bits_2.12/1.1.9/scodec-bits_2.…\n",
            "\u001b[2K   46.5% [####      ] 111.5 KiB (352.8 KiB / s)\n",
            "\u001b[2Khttps://repo1.maven.org/maven2/org/scalameta/trees_2.12/4.1.4/trees_2.12-4.1.4.…\n",
            "\u001b[2K   11.6% [#         ] 287.4 KiB (809.7 KiB / s)\n",
            "\u001b[2A\u001b[2A\u001b[2A\u001b[2A\u001b[2A\u001b[2A\u001b[10000D\u001b[2Khttps://repo1.maven.org/maven2/org/scalameta/tokenizers_2.12/4.1.4/tokenizers_2…\n",
            "\u001b[2K  100.0% [##########] 25.2 KiB (167.8 KiB / s)\n",
            "\u001b[2Khttps://repo1.maven.org/maven2/org/scala-lang/scala-reflect/2.12.8/scala-reflec…\n",
            "\u001b[2K   85.1% [########  ] 511.4 KiB (1.4 MiB / s)\n",
            "\u001b[2Khttps://repo1.maven.org/maven2/org/scala-lang/scala-compiler/2.12.8/scala-compi…\n",
            "\u001b[2K   81.1% [########  ] 1.5 MiB (3.1 MiB / s)\n",
            "\u001b[2Khttps://repo1.maven.org/maven2/org/scalameta/common_2.12/4.1.4/common_2.12-4.1.…\n",
            "\u001b[2K   78.8% [#######   ] 623.4 KiB (997.5 KiB / s)\n",
            "\u001b[2Khttps://repo1.maven.org/maven2/org/scodec/scodec-bits_2.12/1.1.9/scodec-bits_2.…\n",
            "\u001b[2K   53.2% [#####     ] 127.5 KiB (379.4 KiB / s)\n",
            "\u001b[2Khttps://repo1.maven.org/maven2/org/scalameta/trees_2.12/4.1.4/trees_2.12-4.1.4.…\n",
            "\u001b[2K   12.2% [#         ] 303.4 KiB (809.2 KiB / s)\n",
            "\u001b[2Khttps://repo1.maven.org/maven2/org/scalameta/metabrowse-cli_2.12/0.2.2/metabrow…\n",
            "\u001b[2K    0.0% [          ] 0B (0B / s)\n",
            "\u001b[2A\u001b[2A\u001b[2A\u001b[2A\u001b[2A\u001b[2A\u001b[10000D\u001b[2Khttps://repo1.maven.org/maven2/org/scalameta/common_2.12/4.1.4/common_2.12-4.1.…\n",
            "\u001b[2K   86.9% [########  ] 687.4 KiB (1.0 MiB / s)\n",
            "\u001b[2Khttps://repo1.maven.org/maven2/org/scala-lang/scala-reflect/2.12.8/scala-reflec…\n",
            "\u001b[2K   85.1% [########  ] 511.4 KiB (1.4 MiB / s)\n",
            "\u001b[2Khttps://repo1.maven.org/maven2/org/scala-lang/scala-compiler/2.12.8/scala-compi…\n",
            "\u001b[2K   81.1% [########  ] 1.5 MiB (3.0 MiB / s)\n",
            "\u001b[2Khttps://repo1.maven.org/maven2/org/scodec/scodec-bits_2.12/1.1.9/scodec-bits_2.…\n",
            "\u001b[2K   53.2% [#####     ] 127.5 KiB (358.1 KiB / s)\n",
            "\u001b[2Khttps://repo1.maven.org/maven2/org/scalameta/trees_2.12/4.1.4/trees_2.12-4.1.4.…\n",
            "\u001b[2K   12.2% [#         ] 303.4 KiB (768.2 KiB / s)\n",
            "\u001b[2Khttps://repo1.maven.org/maven2/org/scalameta/metabrowse-cli_2.12/0.2.2/metabrow…\n",
            "\u001b[2K    0.0% [          ] 0B (0B / s)\n",
            "\u001b[2A\u001b[2A\u001b[2A\u001b[2A\u001b[2A\u001b[2A\u001b[10000D\u001b[2Khttps://repo1.maven.org/maven2/org/scalameta/common_2.12/4.1.4/common_2.12-4.1.…\n",
            "\u001b[2K  100.0% [##########] 790.8 KiB (1.2 MiB / s)\n",
            "\u001b[2Khttps://repo1.maven.org/maven2/org/scala-lang/scala-reflect/2.12.8/scala-reflec…\n",
            "\u001b[2K   93.1% [######### ] 559.4 KiB (1.4 MiB / s)\n",
            "\u001b[2Khttps://repo1.maven.org/maven2/org/scala-lang/scala-compiler/2.12.8/scala-compi…\n",
            "\u001b[2K   91.5% [######### ] 1.7 MiB (3.2 MiB / s)\n",
            "\u001b[2Khttps://repo1.maven.org/maven2/org/scodec/scodec-bits_2.12/1.1.9/scodec-bits_2.…\n",
            "\u001b[2K   53.2% [#####     ] 127.5 KiB (339.0 KiB / s)\n",
            "\u001b[2Khttps://repo1.maven.org/maven2/org/scalameta/trees_2.12/4.1.4/trees_2.12-4.1.4.…\n",
            "\u001b[2K   13.5% [#         ] 335.4 KiB (808.3 KiB / s)\n",
            "\u001b[2Khttps://repo1.maven.org/maven2/org/scalameta/metabrowse-cli_2.12/0.2.2/metabrow…\n",
            "\u001b[2K    0.0% [          ] 0B (0B / s)\n",
            "\u001b[2Khttps://repo1.maven.org/maven2/org/scalameta/semanticdb-scalac-core_2.12.7/4.1.…\n",
            "\u001b[2K    0.0% [          ] 0B (0B / s)\n",
            "\u001b[2A\u001b[2A\u001b[2A\u001b[2A\u001b[2A\u001b[2A\u001b[10000D\u001b[2Khttps://repo1.maven.org/maven2/org/scala-lang/scala-compiler/2.12.8/scala-compi…\n",
            "\u001b[2K  100.0% [##########] 1.8 MiB (3.4 MiB / s)\n",
            "\u001b[2Khttps://repo1.maven.org/maven2/org/scala-lang/scala-reflect/2.12.8/scala-reflec…\n",
            "\u001b[2K  100.0% [##########] 601.0 KiB (1.4 MiB / s)\n",
            "\u001b[2Khttps://repo1.maven.org/maven2/org/scodec/scodec-bits_2.12/1.1.9/scodec-bits_2.…\n",
            "\u001b[2K   73.3% [#######   ] 175.5 KiB (443.1 KiB / s)\n",
            "\u001b[2Khttps://repo1.maven.org/maven2/org/scalameta/trees_2.12/4.1.4/trees_2.12-4.1.4.…\n",
            "\u001b[2K   16.7% [#         ] 415.4 KiB (955.0 KiB / s)\n",
            "\u001b[2Khttps://repo1.maven.org/maven2/org/scalameta/metabrowse-cli_2.12/0.2.2/metabrow…\n",
            "\u001b[2K    0.0% [          ] 0B (0B / s)\n",
            "\u001b[2Khttps://repo1.maven.org/maven2/org/scalameta/semanticdb-scalac-core_2.12.7/4.1.…\n",
            "\u001b[2K    0.0% [          ] 0B (0B / s)\n",
            "\u001b[2Khttps://repo1.maven.org/maven2/org/scalameta/quasiquotes_2.12/4.1.4/quasiquotes…\n",
            "\u001b[2K    0.0% [          ] 0B (0B / s)\n",
            "\u001b[2Khttps://repo1.maven.org/maven2/org/jline/jline-terminal/3.6.2/jline-terminal-3.…\n",
            "\u001b[2K    0.0% [          ] 0B (0B / s)\n",
            "\u001b[2A\u001b[2A\u001b[2A\u001b[2A\u001b[2A\u001b[2A\u001b[10000D\u001b[2Khttps://repo1.maven.org/maven2/org/scodec/scodec-bits_2.12/1.1.9/scodec-bits_2.…\n",
            "\u001b[2K   86.6% [########  ] 207.5 KiB (498.7 KiB / s)\n",
            "\u001b[2Khttps://repo1.maven.org/maven2/org/scalameta/trees_2.12/4.1.4/trees_2.12-4.1.4.…\n",
            "\u001b[2K   20.6% [##        ] 511.4 KiB (1.1 MiB / s)\n",
            "\u001b[2Khttps://repo1.maven.org/maven2/org/scalameta/metabrowse-cli_2.12/0.2.2/metabrow…\n",
            "\u001b[2K    0.0% [          ] 0B (0B / s)\n",
            "\u001b[2Khttps://repo1.maven.org/maven2/org/scalameta/semanticdb-scalac-core_2.12.7/4.1.…\n",
            "\u001b[2K    0.0% [          ] 0B (0B / s)\n",
            "\u001b[2Khttps://repo1.maven.org/maven2/org/scalameta/quasiquotes_2.12/4.1.4/quasiquotes…\n",
            "\u001b[2K    0.0% [          ] 0B (0B / s)\n",
            "\u001b[2Khttps://repo1.maven.org/maven2/org/jline/jline-terminal/3.6.2/jline-terminal-3.…\n",
            "\u001b[2K    0.0% [          ] 0B (0B / s)\n",
            "\u001b[2A\u001b[2A\u001b[2A\u001b[2A\u001b[2A\u001b[2A\u001b[10000D\u001b[2Khttps://repo1.maven.org/maven2/org/scodec/scodec-bits_2.12/1.1.9/scodec-bits_2.…\n",
            "\u001b[2K  100.0% [##########] 239.5 KiB (549.3 KiB / s)\n",
            "\u001b[2Khttps://repo1.maven.org/maven2/org/scalameta/trees_2.12/4.1.4/trees_2.12-4.1.4.…\n",
            "\u001b[2K   25.1% [##        ] 623.4 KiB (1.3 MiB / s)\n",
            "\u001b[2Khttps://repo1.maven.org/maven2/org/scalameta/metabrowse-cli_2.12/0.2.2/metabrow…\n",
            "\u001b[2K    0.0% [          ] 0B (0B / s)\n",
            "\u001b[2Khttps://repo1.maven.org/maven2/org/scalameta/semanticdb-scalac-core_2.12.7/4.1.…\n",
            "\u001b[2K    0.0% [          ] 0B (0B / s)\n",
            "\u001b[2Khttps://repo1.maven.org/maven2/org/scalameta/quasiquotes_2.12/4.1.4/quasiquotes…\n",
            "\u001b[2K    0.0% [          ] 0B (0B / s)\n",
            "\u001b[2Khttps://repo1.maven.org/maven2/org/jline/jline-terminal/3.6.2/jline-terminal-3.…\n",
            "\u001b[2K    0.0% [          ] 0B (0B / s)\n",
            "\u001b[2Khttps://repo1.maven.org/maven2/com/thoughtworks/paranamer/paranamer/2.8/paranam…\n",
            "\u001b[2K    0.0% [          ] 0B (0B / s)\n",
            "\u001b[2A\u001b[2A\u001b[2A\u001b[2A\u001b[2A\u001b[2A\u001b[10000D\u001b[2Khttps://repo1.maven.org/maven2/org/scalameta/trees_2.12/4.1.4/trees_2.12-4.1.4.…\n",
            "\u001b[2K   29.0% [##        ] 719.4 KiB (1.4 MiB / s)\n",
            "\u001b[2Khttps://repo1.maven.org/maven2/org/scalameta/metabrowse-cli_2.12/0.2.2/metabrow…\n",
            "\u001b[2K    5.3% [          ] 79.5 KiB (571.7 KiB / s)\n",
            "\u001b[2Khttps://repo1.maven.org/maven2/org/scalameta/semanticdb-scalac-core_2.12.7/4.1.…\n",
            "\u001b[2K    0.0% [          ] 0B (0B / s)\n",
            "\u001b[2Khttps://repo1.maven.org/maven2/org/scalameta/quasiquotes_2.12/4.1.4/quasiquotes…\n",
            "\u001b[2K    0.0% [          ] 0B (0B / s)\n",
            "\u001b[2Khttps://repo1.maven.org/maven2/org/jline/jline-terminal/3.6.2/jline-terminal-3.…\n",
            "\u001b[2K    0.0% [          ] 0B (0B / s)\n",
            "\u001b[2Khttps://repo1.maven.org/maven2/com/thoughtworks/paranamer/paranamer/2.8/paranam…\n",
            "\u001b[2K    0.0% [          ] 0B (0B / s)\n",
            "\u001b[2A\u001b[2A\u001b[2A\u001b[2A\u001b[2A\u001b[2A\u001b[10000D\u001b[2Khttps://repo1.maven.org/maven2/org/scalameta/trees_2.12/4.1.4/trees_2.12-4.1.4.…\n",
            "\u001b[2K   29.0% [##        ] 719.4 KiB (1.4 MiB / s)\n",
            "\u001b[2Khttps://repo1.maven.org/maven2/org/scalameta/metabrowse-cli_2.12/0.2.2/metabrow…\n",
            "\u001b[2K   18.0% [#         ] 271.5 KiB (1.7 MiB / s)\n",
            "\u001b[2Khttps://repo1.maven.org/maven2/org/scalameta/semanticdb-scalac-core_2.12.7/4.1.…\n",
            "\u001b[2K    0.0% [          ] 0B (0B / s)\n",
            "\u001b[2Khttps://repo1.maven.org/maven2/org/scalameta/quasiquotes_2.12/4.1.4/quasiquotes…\n",
            "\u001b[2K    0.0% [          ] 0B (0B / s)\n",
            "\u001b[2Khttps://repo1.maven.org/maven2/org/jline/jline-terminal/3.6.2/jline-terminal-3.…\n",
            "\u001b[2K    0.0% [          ] 0B (0B / s)\n",
            "\u001b[2Khttps://repo1.maven.org/maven2/com/thoughtworks/paranamer/paranamer/2.8/paranam…\n",
            "\u001b[2K    0.0% [          ] 0B (0B / s)\n",
            "\u001b[2A\u001b[2A\u001b[2A\u001b[2A\u001b[2A\u001b[2A\u001b[10000D\u001b[2Khttps://repo1.maven.org/maven2/org/scalameta/trees_2.12/4.1.4/trees_2.12-4.1.4.…\n",
            "\u001b[2K   29.0% [##        ] 719.4 KiB (1.3 MiB / s)\n",
            "\u001b[2Khttps://repo1.maven.org/maven2/org/scalameta/metabrowse-cli_2.12/0.2.2/metabrow…\n",
            "\u001b[2K   25.4% [##        ] 383.5 KiB (2.0 MiB / s)\n",
            "\u001b[2Khttps://repo1.maven.org/maven2/org/scalameta/semanticdb-scalac-core_2.12.7/4.1.…\n",
            "\u001b[2K    0.0% [          ] 0B (0B / s)\n",
            "\u001b[2Khttps://repo1.maven.org/maven2/org/scalameta/quasiquotes_2.12/4.1.4/quasiquotes…\n",
            "\u001b[2K    0.0% [          ] 0B (0B / s)\n",
            "\u001b[2Khttps://repo1.maven.org/maven2/org/jline/jline-terminal/3.6.2/jline-terminal-3.…\n",
            "\u001b[2K    0.0% [          ] 0B (0B / s)\n",
            "\u001b[2Khttps://repo1.maven.org/maven2/com/thoughtworks/paranamer/paranamer/2.8/paranam…\n",
            "\u001b[2K    0.0% [          ] 0B (0B / s)\n",
            "\u001b[2A\u001b[2A\u001b[2A\u001b[2A\u001b[2A\u001b[2A\u001b[10000D\u001b[2Khttps://repo1.maven.org/maven2/org/scalameta/metabrowse-cli_2.12/0.2.2/metabrow…\n",
            "\u001b[2K   38.1% [###       ] 575.5 KiB (2.8 MiB / s)\n",
            "\u001b[2Khttps://repo1.maven.org/maven2/org/scalameta/semanticdb-scalac-core_2.12.7/4.1.…\n",
            "\u001b[2K   37.9% [###       ] 95.5 KiB (663.0 KiB / s)\n",
            "\u001b[2Khttps://repo1.maven.org/maven2/org/scalameta/trees_2.12/4.1.4/trees_2.12-4.1.4.…\n",
            "\u001b[2K   35.4% [###       ] 879.4 KiB (1.5 MiB / s)\n",
            "\u001b[2Khttps://repo1.maven.org/maven2/org/scalameta/quasiquotes_2.12/4.1.4/quasiquotes…\n",
            "\u001b[2K   27.4% [##        ] 47.5 KiB (351.6 KiB / s)\n",
            "\u001b[2Khttps://repo1.maven.org/maven2/org/jline/jline-terminal/3.6.2/jline-terminal-3.…\n",
            "\u001b[2K    0.0% [          ] 0B (0B / s)\n",
            "\u001b[2Khttps://repo1.maven.org/maven2/com/thoughtworks/paranamer/paranamer/2.8/paranam…\n",
            "\u001b[2K    0.0% [          ] 0B (0B / s)\n",
            "\u001b[2A\u001b[2A\u001b[2A\u001b[2A\u001b[2A\u001b[2A\u001b[10000D\u001b[2Khttps://repo1.maven.org/maven2/org/jline/jline-terminal/3.6.2/jline-terminal-3.…\n",
            "\u001b[2K  100.0% [##########] 198.1 KiB (1.3 MiB / s)\n",
            "\u001b[2Khttps://repo1.maven.org/maven2/org/scalameta/quasiquotes_2.12/4.1.4/quasiquotes…\n",
            "\u001b[2K  100.0% [##########] 173.1 KiB (1.1 MiB / s)\n",
            "\u001b[2Khttps://repo1.maven.org/maven2/org/scalameta/semanticdb-scalac-core_2.12.7/4.1.…\n",
            "\u001b[2K  100.0% [##########] 251.7 KiB (1.5 MiB / s)\n",
            "\u001b[2Khttps://repo1.maven.org/maven2/org/scalameta/trees_2.12/4.1.4/trees_2.12-4.1.4.…\n",
            "\u001b[2K   43.8% [####      ] 1.1 MiB (1.8 MiB / s)\n",
            "\u001b[2Khttps://repo1.maven.org/maven2/org/scalameta/metabrowse-cli_2.12/0.2.2/metabrow…\n",
            "\u001b[2K   38.1% [###       ] 575.5 KiB (2.6 MiB / s)\n",
            "\u001b[2Khttps://repo1.maven.org/maven2/com/thoughtworks/paranamer/paranamer/2.8/paranam…\n",
            "\u001b[2K    0.0% [          ] 0B (0B / s)\n",
            "\u001b[2Khttps://repo1.maven.org/maven2/org/scala-lang/modules/scala-xml_2.12/1.1.0/scal…\n",
            "\u001b[2K    0.0% [          ] 0B (0B / s)\n",
            "\u001b[2Khttps://repo1.maven.org/maven2/io/get-coursier/coursier_2.12/1.1.0-M7/coursier_…\n",
            "\u001b[2K    0.0% [          ] 0B (0B / s)\n",
            "\u001b[2Khttps://repo1.maven.org/maven2/org/scala-lang/scalap/2.12.8/scalap-2.12.8.jar\n",
            "\u001b[2K    0.0% [          ] 0B (0B / s)\n",
            "\u001b[2A\u001b[2A\u001b[2A\u001b[2A\u001b[2A\u001b[2A\u001b[10000D\u001b[2Khttps://repo1.maven.org/maven2/org/scalameta/trees_2.12/4.1.4/trees_2.12-4.1.4.…\n",
            "\u001b[2K   50.9% [#####     ] 1.2 MiB (2.1 MiB / s)\n",
            "\u001b[2Khttps://repo1.maven.org/maven2/org/scalameta/metabrowse-cli_2.12/0.2.2/metabrow…\n",
            "\u001b[2K   38.1% [###       ] 575.5 KiB (2.4 MiB / s)\n",
            "\u001b[2Khttps://repo1.maven.org/maven2/com/thoughtworks/paranamer/paranamer/2.8/paranam…\n",
            "\u001b[2K    0.0% [          ] 0B (0B / s)\n",
            "\u001b[2Khttps://repo1.maven.org/maven2/org/scala-lang/modules/scala-xml_2.12/1.1.0/scal…\n",
            "\u001b[2K    0.0% [          ] 0B (0B / s)\n",
            "\u001b[2Khttps://repo1.maven.org/maven2/io/get-coursier/coursier_2.12/1.1.0-M7/coursier_…\n",
            "\u001b[2K    0.0% [          ] 0B (0B / s)\n",
            "\u001b[2Khttps://repo1.maven.org/maven2/org/scala-lang/scalap/2.12.8/scalap-2.12.8.jar\n",
            "\u001b[2K    0.0% [          ] 0B (0B / s)\n",
            "\u001b[2A\u001b[2A\u001b[2A\u001b[2A\u001b[2A\u001b[2A\u001b[10000D\u001b[2Khttps://repo1.maven.org/maven2/com/thoughtworks/paranamer/paranamer/2.8/paranam…\n",
            "\u001b[2K  100.0% [##########] 26.5 KiB (175.4 KiB / s)\n",
            "\u001b[2Khttps://repo1.maven.org/maven2/org/scalameta/trees_2.12/4.1.4/trees_2.12-4.1.4.…\n",
            "\u001b[2K   61.9% [######    ] 1.5 MiB (2.4 MiB / s)\n",
            "\u001b[2Khttps://repo1.maven.org/maven2/org/scalameta/metabrowse-cli_2.12/0.2.2/metabrow…\n",
            "\u001b[2K   41.3% [####      ] 623.5 KiB (2.4 MiB / s)\n",
            "\u001b[2Khttps://repo1.maven.org/maven2/org/scala-lang/modules/scala-xml_2.12/1.1.0/scal…\n",
            "\u001b[2K    0.0% [          ] 0B (0B / s)\n",
            "\u001b[2Khttps://repo1.maven.org/maven2/io/get-coursier/coursier_2.12/1.1.0-M7/coursier_…\n",
            "\u001b[2K    0.0% [          ] 0B (0B / s)\n",
            "\u001b[2Khttps://repo1.maven.org/maven2/org/scala-lang/scalap/2.12.8/scalap-2.12.8.jar\n",
            "\u001b[2K    0.0% [          ] 0B (0B / s)\n",
            "\u001b[2Khttps://repo1.maven.org/maven2/com/lihaoyi/geny_2.12/0.1.5/geny_2.12-0.1.5.jar\n",
            "\u001b[2K    0.0% [          ] 0B (0B / s)\n",
            "\u001b[2A\u001b[2A\u001b[2A\u001b[2A\u001b[2A\u001b[2A\u001b[10000D\u001b[2Khttps://repo1.maven.org/maven2/org/scalameta/trees_2.12/4.1.4/trees_2.12-4.1.4.…\n",
            "\u001b[2K   61.9% [######    ] 1.5 MiB (2.4 MiB / s)\n",
            "\u001b[2Khttps://repo1.maven.org/maven2/org/scalameta/metabrowse-cli_2.12/0.2.2/metabrow…\n",
            "\u001b[2K   56.5% [#####     ] 853.5 KiB (3.0 MiB / s)\n",
            "\u001b[2Khttps://repo1.maven.org/maven2/org/scala-lang/modules/scala-xml_2.12/1.1.0/scal…\n",
            "\u001b[2K    0.0% [          ] 0B (0B / s)\n",
            "\u001b[2Khttps://repo1.maven.org/maven2/io/get-coursier/coursier_2.12/1.1.0-M7/coursier_…\n",
            "\u001b[2K    0.0% [          ] 0B (0B / s)\n",
            "\u001b[2Khttps://repo1.maven.org/maven2/org/scala-lang/scalap/2.12.8/scalap-2.12.8.jar\n",
            "\u001b[2K    0.0% [          ] 0B (0B / s)\n",
            "\u001b[2Khttps://repo1.maven.org/maven2/com/lihaoyi/geny_2.12/0.1.5/geny_2.12-0.1.5.jar\n",
            "\u001b[2K    0.0% [          ] 0B (0B / s)\n",
            "\u001b[2A\u001b[2A\u001b[2A\u001b[2A\u001b[2A\u001b[2A\u001b[10000D\u001b[2Khttps://repo1.maven.org/maven2/org/scalameta/metabrowse-cli_2.12/0.2.2/metabrow…\n",
            "\u001b[2K   75.6% [#######   ] 1.1 MiB (3.7 MiB / s)\n",
            "\u001b[2Khttps://repo1.maven.org/maven2/org/scalameta/trees_2.12/4.1.4/trees_2.12-4.1.4.…\n",
            "\u001b[2K   63.2% [######    ] 1.5 MiB (2.3 MiB / s)\n",
            "\u001b[2Khttps://repo1.maven.org/maven2/org/scala-lang/modules/scala-xml_2.12/1.1.0/scal…\n",
            "\u001b[2K    0.0% [          ] 0B (0B / s)\n",
            "\u001b[2Khttps://repo1.maven.org/maven2/io/get-coursier/coursier_2.12/1.1.0-M7/coursier_…\n",
            "\u001b[2K    0.0% [          ] 0B (0B / s)\n",
            "\u001b[2Khttps://repo1.maven.org/maven2/org/scala-lang/scalap/2.12.8/scalap-2.12.8.jar\n",
            "\u001b[2K    0.0% [          ] 0B (0B / s)\n",
            "\u001b[2Khttps://repo1.maven.org/maven2/com/lihaoyi/geny_2.12/0.1.5/geny_2.12-0.1.5.jar\n",
            "\u001b[2K    0.0% [          ] 0B (0B / s)\n",
            "\u001b[2A\u001b[2A\u001b[2A\u001b[2A\u001b[2A\u001b[2A\u001b[10000D\u001b[2Khttps://repo1.maven.org/maven2/org/scalameta/metabrowse-cli_2.12/0.2.2/metabrow…\n",
            "\u001b[2K   97.9% [######### ] 1.4 MiB (4.5 MiB / s)\n",
            "\u001b[2Khttps://repo1.maven.org/maven2/org/scalameta/trees_2.12/4.1.4/trees_2.12-4.1.4.…\n",
            "\u001b[2K   74.8% [#######   ] 1.8 MiB (2.7 MiB / s)\n",
            "\u001b[2Khttps://repo1.maven.org/maven2/org/scala-lang/modules/scala-xml_2.12/1.1.0/scal…\n",
            "\u001b[2K    0.0% [          ] 0B (0B / s)\n",
            "\u001b[2Khttps://repo1.maven.org/maven2/io/get-coursier/coursier_2.12/1.1.0-M7/coursier_…\n",
            "\u001b[2K    0.0% [          ] 0B (0B / s)\n",
            "\u001b[2Khttps://repo1.maven.org/maven2/org/scala-lang/scalap/2.12.8/scalap-2.12.8.jar\n",
            "\u001b[2K    0.0% [          ] 0B (0B / s)\n",
            "\u001b[2Khttps://repo1.maven.org/maven2/com/lihaoyi/geny_2.12/0.1.5/geny_2.12-0.1.5.jar\n",
            "\u001b[2K    0.0% [          ] 0B (0B / s)\n",
            "\u001b[2A\u001b[2A\u001b[2A\u001b[2A\u001b[2A\u001b[2A\u001b[10000D\u001b[2Khttps://repo1.maven.org/maven2/org/scalameta/metabrowse-cli_2.12/0.2.2/metabrow…\n",
            "\u001b[2K  100.0% [##########] 1.5 MiB (4.3 MiB / s)\n",
            "\u001b[2Khttps://repo1.maven.org/maven2/org/scalameta/trees_2.12/4.1.4/trees_2.12-4.1.4.…\n",
            "\u001b[2K   88.3% [########  ] 2.1 MiB (3.1 MiB / s)\n",
            "\u001b[2Khttps://repo1.maven.org/maven2/org/scala-lang/modules/scala-xml_2.12/1.1.0/scal…\n",
            "\u001b[2K    0.0% [          ] 0B (0B / s)\n",
            "\u001b[2Khttps://repo1.maven.org/maven2/io/get-coursier/coursier_2.12/1.1.0-M7/coursier_…\n",
            "\u001b[2K    0.0% [          ] 0B (0B / s)\n",
            "\u001b[2Khttps://repo1.maven.org/maven2/org/scala-lang/scalap/2.12.8/scalap-2.12.8.jar\n",
            "\u001b[2K    0.0% [          ] 0B (0B / s)\n",
            "\u001b[2Khttps://repo1.maven.org/maven2/com/lihaoyi/geny_2.12/0.1.5/geny_2.12-0.1.5.jar\n",
            "\u001b[2K    0.0% [          ] 0B (0B / s)\n",
            "\u001b[2Khttps://repo1.maven.org/maven2/com/lihaoyi/ammonite-util_2.12/1.6.4/ammonite-ut…\n",
            "\u001b[2K    0.0% [          ] 0B (0B / s)\n",
            "\u001b[2A\u001b[2A\u001b[2A\u001b[2A\u001b[2A\u001b[2A\u001b[10000D\u001b[2Khttps://repo1.maven.org/maven2/org/scala-lang/modules/scala-xml_2.12/1.1.0/scal…\n",
            "\u001b[2K  100.0% [##########] 107.3 KiB (696.9 KiB / s)\n",
            "\u001b[2Khttps://repo1.maven.org/maven2/org/scalameta/trees_2.12/4.1.4/trees_2.12-4.1.4.…\n",
            "\u001b[2K  100.0% [##########] 2.4 MiB (3.4 MiB / s)\n",
            "\u001b[2Khttps://repo1.maven.org/maven2/org/scala-lang/scalap/2.12.8/scalap-2.12.8.jar\n",
            "\u001b[2K   38.3% [###       ] 191.5 KiB (1.3 MiB / s)\n",
            "\u001b[2Khttps://repo1.maven.org/maven2/io/get-coursier/coursier_2.12/1.1.0-M7/coursier_…\n",
            "\u001b[2K   12.1% [#         ] 175.5 KiB (1.2 MiB / s)\n",
            "\u001b[2Khttps://repo1.maven.org/maven2/com/lihaoyi/geny_2.12/0.1.5/geny_2.12-0.1.5.jar\n",
            "\u001b[2K    0.0% [          ] 0B (0B / s)\n",
            "\u001b[2Khttps://repo1.maven.org/maven2/com/lihaoyi/ammonite-util_2.12/1.6.4/ammonite-ut…\n",
            "\u001b[2K    0.0% [          ] 0B (0B / s)\n",
            "\u001b[2Khttps://repo1.maven.org/maven2/org/typelevel/cats-effect_2.12/1.2.0/cats-effect…\n",
            "\u001b[2K    0.0% [          ] 0B (0B / s)\n",
            "\u001b[2A\u001b[2A\u001b[2A\u001b[2A\u001b[2A\u001b[10000D\u001b[2Khttps://repo1.maven.org/maven2/org/scala-lang/scalap/2.12.8/scalap-2.12.8.jar\n",
            "\u001b[2K  100.0% [##########] 499.8 KiB (2.9 MiB / s)\n",
            "\u001b[2Khttps://repo1.maven.org/maven2/io/get-coursier/coursier_2.12/1.1.0-M7/coursier_…\n",
            "\u001b[2K   30.8% [###       ] 447.5 KiB (2.6 MiB / s)\n",
            "\u001b[2Khttps://repo1.maven.org/maven2/com/lihaoyi/geny_2.12/0.1.5/geny_2.12-0.1.5.jar\n",
            "\u001b[2K   28.3% [##        ] 15.5 KiB (115.5 KiB / s)\n",
            "\u001b[2Khttps://repo1.maven.org/maven2/com/lihaoyi/ammonite-util_2.12/1.6.4/ammonite-ut…\n",
            "\u001b[2K    0.0% [          ] 0B (0B / s)\n",
            "\u001b[2Khttps://repo1.maven.org/maven2/org/typelevel/cats-effect_2.12/1.2.0/cats-effect…\n",
            "\u001b[2K    0.0% [          ] 0B (0B / s)\n",
            "\u001b[2Khttps://repo1.maven.org/maven2/org/scalameta/io_2.12/4.1.4/io_2.12-4.1.4.jar\n",
            "\u001b[2K    0.0% [          ] 0B (0B / s)\n",
            "\u001b[2Khttps://repo1.maven.org/maven2/com/lihaoyi/upack_2.12/0.7.1/upack_2.12-0.7.1-so…\n",
            "\u001b[2K    0.0% [          ] 0B (0B / s)\n",
            "\u001b[2A\u001b[2A\u001b[2A\u001b[2A\u001b[2A\u001b[2A\u001b[10000D\u001b[2Khttps://repo1.maven.org/maven2/com/lihaoyi/geny_2.12/0.1.5/geny_2.12-0.1.5.jar\n",
            "\u001b[2K  100.0% [##########] 54.7 KiB (355.4 KiB / s)\n",
            "\u001b[2Khttps://repo1.maven.org/maven2/io/get-coursier/coursier_2.12/1.1.0-M7/coursier_…\n",
            "\u001b[2K   48.5% [####      ] 703.5 KiB (3.6 MiB / s)\n",
            "\u001b[2Khttps://repo1.maven.org/maven2/com/lihaoyi/ammonite-util_2.12/1.6.4/ammonite-ut…\n",
            "\u001b[2K    0.0% [          ] 0B (0B / s)\n",
            "\u001b[2Khttps://repo1.maven.org/maven2/org/typelevel/cats-effect_2.12/1.2.0/cats-effect…\n",
            "\u001b[2K    0.0% [          ] 0B (0B / s)\n",
            "\u001b[2Khttps://repo1.maven.org/maven2/org/scalameta/io_2.12/4.1.4/io_2.12-4.1.4.jar\n",
            "\u001b[2K    0.0% [          ] 0B (0B / s)\n",
            "\u001b[2Khttps://repo1.maven.org/maven2/com/lihaoyi/upack_2.12/0.7.1/upack_2.12-0.7.1-so…\n",
            "\u001b[2K    0.0% [          ] 0B (0B / s)\n",
            "\u001b[2Khttps://repo1.maven.org/maven2/org/scalameta/metabrowse-core_2.12/0.2.2/metabro…\n",
            "\u001b[2K    0.0% [          ] 0B (0B / s)\n",
            "\u001b[2A\u001b[2A\u001b[2A\u001b[2A\u001b[2A\u001b[2A\u001b[10000D\u001b[2Khttps://repo1.maven.org/maven2/io/get-coursier/coursier_2.12/1.1.0-M7/coursier_…\n",
            "\u001b[2K   52.9% [#####     ] 767.5 KiB (3.6 MiB / s)\n",
            "\u001b[2Khttps://repo1.maven.org/maven2/com/lihaoyi/ammonite-util_2.12/1.6.4/ammonite-ut…\n",
            "\u001b[2K    0.0% [          ] 0B (0B / s)\n",
            "\u001b[2Khttps://repo1.maven.org/maven2/org/typelevel/cats-effect_2.12/1.2.0/cats-effect…\n",
            "\u001b[2K    0.0% [          ] 0B (0B / s)\n",
            "\u001b[2Khttps://repo1.maven.org/maven2/org/scalameta/io_2.12/4.1.4/io_2.12-4.1.4.jar\n",
            "\u001b[2K    0.0% [          ] 0B (0B / s)\n",
            "\u001b[2Khttps://repo1.maven.org/maven2/com/lihaoyi/upack_2.12/0.7.1/upack_2.12-0.7.1-so…\n",
            "\u001b[2K    0.0% [          ] 0B (0B / s)\n",
            "\u001b[2Khttps://repo1.maven.org/maven2/org/scalameta/metabrowse-core_2.12/0.2.2/metabro…\n",
            "\u001b[2K    0.0% [          ] 0B (0B / s)\n",
            "\u001b[2A\u001b[2A\u001b[2A\u001b[2A\u001b[2A\u001b[2A\u001b[10000D\u001b[2Khttps://repo1.maven.org/maven2/com/lihaoyi/ammonite-util_2.12/1.6.4/ammonite-ut…\n",
            "\u001b[2K  100.0% [##########] 173.7 KiB (1.2 MiB / s)\n",
            "\u001b[2Khttps://repo1.maven.org/maven2/io/get-coursier/coursier_2.12/1.1.0-M7/coursier_…\n",
            "\u001b[2K   52.9% [#####     ] 767.5 KiB (3.0 MiB / s)\n",
            "\u001b[2Khttps://repo1.maven.org/maven2/org/typelevel/cats-effect_2.12/1.2.0/cats-effect…\n",
            "\u001b[2K    0.0% [          ] 0B (0B / s)\n",
            "\u001b[2Khttps://repo1.maven.org/maven2/org/scalameta/io_2.12/4.1.4/io_2.12-4.1.4.jar\n",
            "\u001b[2K    0.0% [          ] 0B (0B / s)\n",
            "\u001b[2Khttps://repo1.maven.org/maven2/com/lihaoyi/upack_2.12/0.7.1/upack_2.12-0.7.1-so…\n",
            "\u001b[2K    0.0% [          ] 0B (0B / s)\n",
            "\u001b[2Khttps://repo1.maven.org/maven2/org/scalameta/metabrowse-core_2.12/0.2.2/metabro…\n",
            "\u001b[2K    0.0% [          ] 0B (0B / s)\n",
            "\u001b[2Khttps://repo1.maven.org/maven2/co/fs2/fs2-core_2.12/1.0.4/fs2-core_2.12-1.0.4.j…\n",
            "\u001b[2K    0.0% [          ] 0B (0B / s)\n",
            "\u001b[2A\u001b[2A\u001b[2A\u001b[2A\u001b[2A\u001b[2A\u001b[10000D\u001b[2Khttps://repo1.maven.org/maven2/io/get-coursier/coursier_2.12/1.1.0-M7/coursier_…\n",
            "\u001b[2K   61.7% [######    ] 895.5 KiB (3.3 MiB / s)\n",
            "\u001b[2Khttps://repo1.maven.org/maven2/org/typelevel/cats-effect_2.12/1.2.0/cats-effect…\n",
            "\u001b[2K    0.0% [          ] 0B (0B / s)\n",
            "\u001b[2Khttps://repo1.maven.org/maven2/org/scalameta/io_2.12/4.1.4/io_2.12-4.1.4.jar\n",
            "\u001b[2K    0.0% [          ] 0B (0B / s)\n",
            "\u001b[2Khttps://repo1.maven.org/maven2/com/lihaoyi/upack_2.12/0.7.1/upack_2.12-0.7.1-so…\n",
            "\u001b[2K    0.0% [          ] 0B (0B / s)\n",
            "\u001b[2Khttps://repo1.maven.org/maven2/org/scalameta/metabrowse-core_2.12/0.2.2/metabro…\n",
            "\u001b[2K    0.0% [          ] 0B (0B / s)\n",
            "\u001b[2Khttps://repo1.maven.org/maven2/co/fs2/fs2-core_2.12/1.0.4/fs2-core_2.12-1.0.4.j…\n",
            "\u001b[2K    0.0% [          ] 0B (0B / s)\n",
            "\u001b[2A\u001b[2A\u001b[2A\u001b[2A\u001b[2A\u001b[2A\u001b[10000D\u001b[2Khttps://repo1.maven.org/maven2/com/lihaoyi/upack_2.12/0.7.1/upack_2.12-0.7.1-so…\n",
            "\u001b[2K  100.0% [##########] 6.5 KiB (48.7 KiB / s)\n",
            "\u001b[2Khttps://repo1.maven.org/maven2/org/typelevel/cats-effect_2.12/1.2.0/cats-effect…\n",
            "\u001b[2K  100.0% [##########] 125.6 KiB (799.9 KiB / s)\n",
            "\u001b[2Khttps://repo1.maven.org/maven2/org/scalameta/io_2.12/4.1.4/io_2.12-4.1.4.jar\n",
            "\u001b[2K  100.0% [##########] 63.7 KiB (439.1 KiB / s)\n",
            "\u001b[2Khttps://repo1.maven.org/maven2/io/get-coursier/coursier_2.12/1.1.0-M7/coursier_…\n",
            "\u001b[2K   62.8% [######    ] 911.5 KiB (3.0 MiB / s)\n",
            "\u001b[2Khttps://repo1.maven.org/maven2/org/scalameta/metabrowse-core_2.12/0.2.2/metabro…\n",
            "\u001b[2K    0.0% [          ] 0B (0B / s)\n",
            "\u001b[2Khttps://repo1.maven.org/maven2/co/fs2/fs2-core_2.12/1.0.4/fs2-core_2.12-1.0.4.j…\n",
            "\u001b[2K    0.0% [          ] 0B (0B / s)\n",
            "\u001b[2Khttps://repo1.maven.org/maven2/com/thoughtworks/qdox/qdox/2.0-M9/qdox-2.0-M9.jar\n",
            "\u001b[2K    0.0% [          ] 0B (0B / s)\n",
            "\u001b[2Khttps://repo1.maven.org/maven2/com/github/scopt/scopt_2.12/3.5.0/scopt_2.12-3.5…\n",
            "\u001b[2K    0.0% [          ] 0B (0B / s)\n",
            "\u001b[2A\u001b[2A\u001b[2A\u001b[2A\u001b[2A\u001b[2A\u001b[10000D\u001b[2Khttps://repo1.maven.org/maven2/io/get-coursier/coursier_2.12/1.1.0-M7/coursier_…\n",
            "\u001b[2K  100.0% [##########] 1.4 MiB (4.6 MiB / s)\n",
            "\u001b[2Khttps://repo1.maven.org/maven2/org/scalameta/io_2.12/4.1.4/io_2.12-4.1.4.jar\n",
            "\u001b[2K  100.0% [##########] 63.7 KiB (400.4 KiB / s)\n",
            "\u001b[2Khttps://repo1.maven.org/maven2/org/scalameta/metabrowse-core_2.12/0.2.2/metabro…\n",
            "\u001b[2K    0.0% [          ] 0B (0B / s)\n",
            "\u001b[2Khttps://repo1.maven.org/maven2/co/fs2/fs2-core_2.12/1.0.4/fs2-core_2.12-1.0.4.j…\n",
            "\u001b[2K    0.0% [          ] 0B (0B / s)\n",
            "\u001b[2Khttps://repo1.maven.org/maven2/com/thoughtworks/qdox/qdox/2.0-M9/qdox-2.0-M9.jar\n",
            "\u001b[2K    0.0% [          ] 0B (0B / s)\n",
            "\u001b[2Khttps://repo1.maven.org/maven2/com/github/scopt/scopt_2.12/3.5.0/scopt_2.12-3.5…\n",
            "\u001b[2K    0.0% [          ] 0B (0B / s)\n",
            "\u001b[2Khttps://repo1.maven.org/maven2/com/lihaoyi/acyclic_2.12/0.1.5/acyclic_2.12-0.1.…\n",
            "\u001b[2K    0.0% [          ] 0B (0B / s)\n",
            "\u001b[2Khttps://repo1.maven.org/maven2/com/fasterxml/jackson/core/jackson-core/2.9.6/ja…\n",
            "\u001b[2K    0.0% [          ] 0B (0B / s)\n",
            "\u001b[2A\u001b[2A\u001b[2A\u001b[2A\u001b[2A\u001b[2A\u001b[10000D\u001b[2Khttps://repo1.maven.org/maven2/org/scalameta/metabrowse-core_2.12/0.2.2/metabro…\n",
            "\u001b[2K  100.0% [##########] 2.1 KiB (13.2 KiB / s)\n",
            "\u001b[2Khttps://repo1.maven.org/maven2/co/fs2/fs2-core_2.12/1.0.4/fs2-core_2.12-1.0.4.j…\n",
            "\u001b[2K    0.0% [          ] 0B (0B / s)\n",
            "\u001b[2Khttps://repo1.maven.org/maven2/com/thoughtworks/qdox/qdox/2.0-M9/qdox-2.0-M9.jar\n",
            "\u001b[2K    0.0% [          ] 0B (0B / s)\n",
            "\u001b[2Khttps://repo1.maven.org/maven2/com/github/scopt/scopt_2.12/3.5.0/scopt_2.12-3.5…\n",
            "\u001b[2K    0.0% [          ] 0B (0B / s)\n",
            "\u001b[2Khttps://repo1.maven.org/maven2/com/lihaoyi/acyclic_2.12/0.1.5/acyclic_2.12-0.1.…\n",
            "\u001b[2K    0.0% [          ] 0B (0B / s)\n",
            "\u001b[2Khttps://repo1.maven.org/maven2/com/fasterxml/jackson/core/jackson-core/2.9.6/ja…\n",
            "\u001b[2K    0.0% [          ] 0B (0B / s)\n",
            "\u001b[2Khttps://repo1.maven.org/maven2/org/typelevel/macro-compat_2.12/1.1.1/macro-comp…\n",
            "\u001b[2K    0.0% [          ] 0B (0B / s)\n",
            "\u001b[2A\u001b[2A\u001b[2A\u001b[2A\u001b[2A\u001b[2A\u001b[10000D\u001b[2Khttps://repo1.maven.org/maven2/co/fs2/fs2-core_2.12/1.0.4/fs2-core_2.12-1.0.4.j…\n",
            "\u001b[2K   61.5% [######    ] 495.5 KiB (3.3 MiB / s)\n",
            "\u001b[2Khttps://repo1.maven.org/maven2/com/thoughtworks/qdox/qdox/2.0-M9/qdox-2.0-M9.jar\n",
            "\u001b[2K    0.0% [          ] 0B (0B / s)\n",
            "\u001b[2Khttps://repo1.maven.org/maven2/com/github/scopt/scopt_2.12/3.5.0/scopt_2.12-3.5…\n",
            "\u001b[2K    0.0% [          ] 0B (0B / s)\n",
            "\u001b[2Khttps://repo1.maven.org/maven2/com/lihaoyi/acyclic_2.12/0.1.5/acyclic_2.12-0.1.…\n",
            "\u001b[2K    0.0% [          ] 0B (0B / s)\n",
            "\u001b[2Khttps://repo1.maven.org/maven2/com/fasterxml/jackson/core/jackson-core/2.9.6/ja…\n",
            "\u001b[2K    0.0% [          ] 0B (0B / s)\n",
            "\u001b[2Khttps://repo1.maven.org/maven2/org/typelevel/macro-compat_2.12/1.1.1/macro-comp…\n",
            "\u001b[2K    0.0% [          ] 0B (0B / s)\n",
            "\u001b[2A\u001b[2A\u001b[2A\u001b[2A\u001b[2A\u001b[2A\u001b[10000D\u001b[2Khttps://repo1.maven.org/maven2/co/fs2/fs2-core_2.12/1.0.4/fs2-core_2.12-1.0.4.j…\n",
            "\u001b[2K  100.0% [##########] 805.2 KiB (4.7 MiB / s)\n",
            "\u001b[2Khttps://repo1.maven.org/maven2/com/thoughtworks/qdox/qdox/2.0-M9/qdox-2.0-M9.jar\n",
            "\u001b[2K    0.0% [          ] 0B (0B / s)\n",
            "\u001b[2Khttps://repo1.maven.org/maven2/com/github/scopt/scopt_2.12/3.5.0/scopt_2.12-3.5…\n",
            "\u001b[2K    0.0% [          ] 0B (0B / s)\n",
            "\u001b[2Khttps://repo1.maven.org/maven2/com/lihaoyi/acyclic_2.12/0.1.5/acyclic_2.12-0.1.…\n",
            "\u001b[2K    0.0% [          ] 0B (0B / s)\n",
            "\u001b[2Khttps://repo1.maven.org/maven2/com/fasterxml/jackson/core/jackson-core/2.9.6/ja…\n",
            "\u001b[2K    0.0% [          ] 0B (0B / s)\n",
            "\u001b[2Khttps://repo1.maven.org/maven2/org/typelevel/macro-compat_2.12/1.1.1/macro-comp…\n",
            "\u001b[2K    0.0% [          ] 0B (0B / s)\n",
            "\u001b[2Khttps://repo1.maven.org/maven2/org/typelevel/cats-macros_2.12/1.6.0/cats-macros…\n",
            "\u001b[2K    0.0% [          ] 0B (0B / s)\n",
            "\u001b[2A\u001b[2A\u001b[2A\u001b[2A\u001b[2A\u001b[2A\u001b[10000D\u001b[2Khttps://repo1.maven.org/maven2/com/github/scopt/scopt_2.12/3.5.0/scopt_2.12-3.5…\n",
            "\u001b[2K  100.0% [##########] 7.9 KiB (57.2 KiB / s)\n",
            "\u001b[2Khttps://repo1.maven.org/maven2/com/lihaoyi/acyclic_2.12/0.1.5/acyclic_2.12-0.1.…\n",
            "\u001b[2K  100.0% [##########] 56.9 KiB (431.0 KiB / s)\n",
            "\u001b[2Khttps://repo1.maven.org/maven2/com/thoughtworks/qdox/qdox/2.0-M9/qdox-2.0-M9.jar\n",
            "\u001b[2K   51.5% [#####     ] 159.5 KiB (1.1 MiB / s)\n",
            "\u001b[2Khttps://repo1.maven.org/maven2/com/fasterxml/jackson/core/jackson-core/2.9.6/ja…\n",
            "\u001b[2K    0.0% [          ] 0B (0B / s)\n",
            "\u001b[2Khttps://repo1.maven.org/maven2/org/typelevel/macro-compat_2.12/1.1.1/macro-comp…\n",
            "\u001b[2K    0.0% [          ] 0B (0B / s)\n",
            "\u001b[2Khttps://repo1.maven.org/maven2/org/typelevel/cats-macros_2.12/1.6.0/cats-macros…\n",
            "\u001b[2K    0.0% [          ] 0B (0B / s)\n",
            "\u001b[2A\u001b[2A\u001b[2A\u001b[2A\u001b[2A\u001b[2A\u001b[10000D\u001b[2Khttps://repo1.maven.org/maven2/com/fasterxml/jackson/core/jackson-core/2.9.6/ja…\n",
            "\u001b[2K  100.0% [##########] 316.3 KiB (2.2 MiB / s)\n",
            "\u001b[2Khttps://repo1.maven.org/maven2/com/github/scopt/scopt_2.12/3.5.0/scopt_2.12-3.5…\n",
            "\u001b[2K  100.0% [##########] 7.9 KiB (50.0 KiB / s)\n",
            "\u001b[2Khttps://repo1.maven.org/maven2/com/lihaoyi/acyclic_2.12/0.1.5/acyclic_2.12-0.1.…\n",
            "\u001b[2K  100.0% [##########] 56.9 KiB (374.3 KiB / s)\n",
            "\u001b[2Khttps://repo1.maven.org/maven2/com/thoughtworks/qdox/qdox/2.0-M9/qdox-2.0-M9.jar\n",
            "\u001b[2K  100.0% [##########] 309.8 KiB (1.8 MiB / s)\n",
            "\u001b[2Khttps://repo1.maven.org/maven2/org/typelevel/macro-compat_2.12/1.1.1/macro-comp…\n",
            "\u001b[2K  100.0% [##########] 1.0 KiB (7.4 KiB / s)\n",
            "\u001b[2Khttps://repo1.maven.org/maven2/org/typelevel/cats-macros_2.12/1.6.0/cats-macros…\n",
            "\u001b[2K    0.0% [          ] 0B (0B / s)\n",
            "\u001b[2Khttps://repo1.maven.org/maven2/com/lihaoyi/ujson_2.12/0.7.1/ujson_2.12-0.7.1-so…\n",
            "\u001b[2K    0.0% [          ] 0B (0B / s)\n",
            "\u001b[2Khttps://repo1.maven.org/maven2/org/scala-lang/modules/scala-collection-compat_2…\n",
            "\u001b[2K    0.0% [          ] 0B (0B / s)\n",
            "\u001b[2Khttps://repo1.maven.org/maven2/org/scalameta/inputs_2.12/4.1.4/inputs_2.12-4.1.…\n",
            "\u001b[2K    0.0% [          ] 0B (0B / s)\n",
            "\u001b[2Khttps://repo1.maven.org/maven2/io/argonaut/argonaut_2.12/6.2.2/argonaut_2.12-6.…\n",
            "\u001b[2K    0.0% [          ] 0B (0B / s)\n",
            "\u001b[2Khttps://repo1.maven.org/maven2/org/javassist/javassist/3.21.0-GA/javassist-3.21…\n",
            "\u001b[2K    0.0% [          ] 0B (0B / s)\n",
            "\u001b[2A\u001b[2A\u001b[2A\u001b[2A\u001b[2A\u001b[2A\u001b[10000D\u001b[2Khttps://repo1.maven.org/maven2/org/typelevel/cats-macros_2.12/1.6.0/cats-macros…\n",
            "\u001b[2K    0.0% [          ] 0B (0B / s)\n",
            "\u001b[2Khttps://repo1.maven.org/maven2/com/lihaoyi/ujson_2.12/0.7.1/ujson_2.12-0.7.1-so…\n",
            "\u001b[2K    0.0% [          ] 0B (0B / s)\n",
            "\u001b[2Khttps://repo1.maven.org/maven2/org/scala-lang/modules/scala-collection-compat_2…\n",
            "\u001b[2K    0.0% [          ] 0B (0B / s)\n",
            "\u001b[2Khttps://repo1.maven.org/maven2/org/scalameta/inputs_2.12/4.1.4/inputs_2.12-4.1.…\n",
            "\u001b[2K    0.0% [          ] 0B (0B / s)\n",
            "\u001b[2Khttps://repo1.maven.org/maven2/io/argonaut/argonaut_2.12/6.2.2/argonaut_2.12-6.…\n",
            "\u001b[2K    0.0% [          ] 0B (0B / s)\n",
            "\u001b[2Khttps://repo1.maven.org/maven2/org/javassist/javassist/3.21.0-GA/javassist-3.21…\n",
            "\u001b[2K    0.0% [          ] 0B (0B / s)\n",
            "\u001b[2A\u001b[2A\u001b[2A\u001b[2A\u001b[2A\u001b[2A\u001b[10000D\u001b[2Khttps://repo1.maven.org/maven2/org/typelevel/cats-macros_2.12/1.6.0/cats-macros…\n",
            "\u001b[2K  100.0% [##########] 800B (5.2 KiB / s)\n",
            "\u001b[2Khttps://repo1.maven.org/maven2/com/lihaoyi/ujson_2.12/0.7.1/ujson_2.12-0.7.1-so…\n",
            "\u001b[2K    0.0% [          ] 0B (0B / s)\n",
            "\u001b[2Khttps://repo1.maven.org/maven2/org/scala-lang/modules/scala-collection-compat_2…\n",
            "\u001b[2K    0.0% [          ] 0B (0B / s)\n",
            "\u001b[2Khttps://repo1.maven.org/maven2/org/scalameta/inputs_2.12/4.1.4/inputs_2.12-4.1.…\n",
            "\u001b[2K    0.0% [          ] 0B (0B / s)\n",
            "\u001b[2Khttps://repo1.maven.org/maven2/io/argonaut/argonaut_2.12/6.2.2/argonaut_2.12-6.…\n",
            "\u001b[2K    0.0% [          ] 0B (0B / s)\n",
            "\u001b[2Khttps://repo1.maven.org/maven2/org/javassist/javassist/3.21.0-GA/javassist-3.21…\n",
            "\u001b[2K    0.0% [          ] 0B (0B / s)\n",
            "\u001b[2Khttps://repo1.maven.org/maven2/eu/neilalexander/jnacl/1.0.0/jnacl-1.0.0.jar\n",
            "\u001b[2K    0.0% [          ] 0B (0B / s)\n",
            "\u001b[2A\u001b[2A\u001b[2A\u001b[2A\u001b[2A\u001b[2A\u001b[10000D\u001b[2Khttps://repo1.maven.org/maven2/com/lihaoyi/ujson_2.12/0.7.1/ujson_2.12-0.7.1-so…\n",
            "\u001b[2K  100.0% [##########] 25.2 KiB (178.4 KiB / s)\n",
            "\u001b[2Khttps://repo1.maven.org/maven2/org/scalameta/inputs_2.12/4.1.4/inputs_2.12-4.1.…\n",
            "\u001b[2K  100.0% [##########] 50.5 KiB (373.8 KiB / s)\n",
            "\u001b[2Khttps://repo1.maven.org/maven2/org/scala-lang/modules/scala-collection-compat_2…\n",
            "\u001b[2K    0.0% [          ] 0B (0B / s)\n",
            "\u001b[2Khttps://repo1.maven.org/maven2/io/argonaut/argonaut_2.12/6.2.2/argonaut_2.12-6.…\n",
            "\u001b[2K    0.0% [          ] 0B (0B / s)\n",
            "\u001b[2Khttps://repo1.maven.org/maven2/org/javassist/javassist/3.21.0-GA/javassist-3.21…\n",
            "\u001b[2K    0.0% [          ] 0B (0B / s)\n",
            "\u001b[2Khttps://repo1.maven.org/maven2/eu/neilalexander/jnacl/1.0.0/jnacl-1.0.0.jar\n",
            "\u001b[2K    0.0% [          ] 0B (0B / s)\n",
            "\u001b[2Khttps://repo1.maven.org/maven2/org/zeromq/jeromq/0.5.0/jeromq-0.5.0-sources.jar\n",
            "\u001b[2K    0.0% [          ] 0B (0B / s)\n",
            "\u001b[2Khttps://repo1.maven.org/maven2/org/scalameta/common_2.12/4.1.4/common_2.12-4.1.…\n",
            "\u001b[2K    0.0% [          ] 0B (0B / s)\n",
            "\u001b[2A\u001b[2A\u001b[2A\u001b[2A\u001b[2A\u001b[2A\u001b[10000D\u001b[2Khttps://repo1.maven.org/maven2/org/javassist/javassist/3.21.0-GA/javassist-3.21…\n",
            "\u001b[2K   60.1% [######    ] 431.5 KiB (2.9 MiB / s)\n",
            "\u001b[2Khttps://repo1.maven.org/maven2/org/scala-lang/modules/scala-collection-compat_2…\n",
            "\u001b[2K    0.0% [          ] 0B (0B / s)\n",
            "\u001b[2Khttps://repo1.maven.org/maven2/io/argonaut/argonaut_2.12/6.2.2/argonaut_2.12-6.…\n",
            "\u001b[2K    0.0% [          ] 0B (0B / s)\n",
            "\u001b[2Khttps://repo1.maven.org/maven2/eu/neilalexander/jnacl/1.0.0/jnacl-1.0.0.jar\n",
            "\u001b[2K    0.0% [          ] 0B (0B / s)\n",
            "\u001b[2Khttps://repo1.maven.org/maven2/org/zeromq/jeromq/0.5.0/jeromq-0.5.0-sources.jar\n",
            "\u001b[2K    0.0% [          ] 0B (0B / s)\n",
            "\u001b[2Khttps://repo1.maven.org/maven2/org/scalameta/common_2.12/4.1.4/common_2.12-4.1.…\n",
            "\u001b[2K    0.0% [          ] 0B (0B / s)\n",
            "\u001b[2A\u001b[2A\u001b[2A\u001b[2A\u001b[2A\u001b[2A\u001b[10000D\u001b[2Khttps://repo1.maven.org/maven2/io/argonaut/argonaut_2.12/6.2.2/argonaut_2.12-6.…\n",
            "\u001b[2K  100.0% [##########] 32.8 KiB (197.6 KiB / s)\n",
            "\u001b[2Khttps://repo1.maven.org/maven2/org/javassist/javassist/3.21.0-GA/javassist-3.21…\n",
            "\u001b[2K  100.0% [##########] 717.6 KiB (4.3 MiB / s)\n",
            "\u001b[2Khttps://repo1.maven.org/maven2/org/scala-lang/modules/scala-collection-compat_2…\n",
            "\u001b[2K    0.0% [          ] 0B (0B / s)\n",
            "\u001b[2Khttps://repo1.maven.org/maven2/eu/neilalexander/jnacl/1.0.0/jnacl-1.0.0.jar\n",
            "\u001b[2K    0.0% [          ] 0B (0B / s)\n",
            "\u001b[2Khttps://repo1.maven.org/maven2/org/zeromq/jeromq/0.5.0/jeromq-0.5.0-sources.jar\n",
            "\u001b[2K    0.0% [          ] 0B (0B / s)\n",
            "\u001b[2Khttps://repo1.maven.org/maven2/org/scalameta/common_2.12/4.1.4/common_2.12-4.1.…\n",
            "\u001b[2K    0.0% [          ] 0B (0B / s)\n",
            "\u001b[2Khttps://repo1.maven.org/maven2/org/slf4j/slf4j-api/1.8.0-beta2/slf4j-api-1.8.0-…\n",
            "\u001b[2K    0.0% [          ] 0B (0B / s)\n",
            "\u001b[2Khttps://repo1.maven.org/maven2/org/typelevel/cats-kernel_2.12/1.6.0/cats-kernel…\n",
            "\u001b[2K    0.0% [          ] 0B (0B / s)\n",
            "\u001b[2A\u001b[2A\u001b[2A\u001b[2A\u001b[2A\u001b[2A\u001b[10000D\u001b[2Khttps://repo1.maven.org/maven2/eu/neilalexander/jnacl/1.0.0/jnacl-1.0.0.jar\n",
            "\u001b[2K  100.0% [##########] 19.4 KiB (139.9 KiB / s)\n",
            "\u001b[2Khttps://repo1.maven.org/maven2/org/scala-lang/modules/scala-collection-compat_2…\n",
            "\u001b[2K  100.0% [##########] 7.3 KiB (30.6 KiB / s)\n",
            "\u001b[2Khttps://repo1.maven.org/maven2/org/zeromq/jeromq/0.5.0/jeromq-0.5.0-sources.jar\n",
            "\u001b[2K    0.0% [          ] 0B (0B / s)\n",
            "\u001b[2Khttps://repo1.maven.org/maven2/org/scalameta/common_2.12/4.1.4/common_2.12-4.1.…\n",
            "\u001b[2K    0.0% [          ] 0B (0B / s)\n",
            "\u001b[2Khttps://repo1.maven.org/maven2/org/slf4j/slf4j-api/1.8.0-beta2/slf4j-api-1.8.0-…\n",
            "\u001b[2K    0.0% [          ] 0B (0B / s)\n",
            "\u001b[2Khttps://repo1.maven.org/maven2/org/typelevel/cats-kernel_2.12/1.6.0/cats-kernel…\n",
            "\u001b[2K    0.0% [          ] 0B (0B / s)\n",
            "\u001b[2Khttps://repo1.maven.org/maven2/org/typelevel/cats-macros_2.12/1.6.0/cats-macros…\n",
            "\u001b[2K    0.0% [          ] 0B (0B / s)\n",
            "\u001b[2Khttps://repo1.maven.org/maven2/com/lihaoyi/utest_2.12/0.6.4/utest_2.12-0.6.4.jar\n",
            "\u001b[2K    0.0% [          ] 0B (0B / s)\n",
            "\u001b[2A\u001b[2A\u001b[2A\u001b[2A\u001b[2A\u001b[2A\u001b[10000D\u001b[2Khttps://repo1.maven.org/maven2/org/scalameta/common_2.12/4.1.4/common_2.12-4.1.…\n",
            "\u001b[2K  100.0% [##########] 60.0 KiB (428.7 KiB / s)\n",
            "\u001b[2Khttps://repo1.maven.org/maven2/org/zeromq/jeromq/0.5.0/jeromq-0.5.0-sources.jar\n",
            "\u001b[2K    0.0% [          ] 0B (0B / s)\n",
            "\u001b[2Khttps://repo1.maven.org/maven2/org/slf4j/slf4j-api/1.8.0-beta2/slf4j-api-1.8.0-…\n",
            "\u001b[2K    0.0% [          ] 0B (0B / s)\n",
            "\u001b[2Khttps://repo1.maven.org/maven2/org/typelevel/cats-kernel_2.12/1.6.0/cats-kernel…\n",
            "\u001b[2K    0.0% [          ] 0B (0B / s)\n",
            "\u001b[2Khttps://repo1.maven.org/maven2/org/typelevel/cats-macros_2.12/1.6.0/cats-macros…\n",
            "\u001b[2K    0.0% [          ] 0B (0B / s)\n",
            "\u001b[2Khttps://repo1.maven.org/maven2/com/lihaoyi/utest_2.12/0.6.4/utest_2.12-0.6.4.jar\n",
            "\u001b[2K    0.0% [          ] 0B (0B / s)\n",
            "\u001b[2Khttps://repo1.maven.org/maven2/com/lihaoyi/ammonite-terminal_2.12/1.6.4/ammonit…\n",
            "\u001b[2K    0.0% [          ] 0B (0B / s)\n",
            "\u001b[2A\u001b[2A\u001b[2A\u001b[2A\u001b[2A\u001b[2A\u001b[10000D\u001b[2Khttps://repo1.maven.org/maven2/org/zeromq/jeromq/0.5.0/jeromq-0.5.0-sources.jar\n",
            "\u001b[2K   79.1% [#######   ] 207.5 KiB (1.1 MiB / s)\n",
            "\u001b[2Khttps://repo1.maven.org/maven2/org/typelevel/cats-kernel_2.12/1.6.0/cats-kernel…\n",
            "\u001b[2K    2.0% [          ] 63.5 KiB (423.1 KiB / s)\n",
            "\u001b[2Khttps://repo1.maven.org/maven2/org/slf4j/slf4j-api/1.8.0-beta2/slf4j-api-1.8.0-…\n",
            "\u001b[2K    0.0% [          ] 0B (0B / s)\n",
            "\u001b[2Khttps://repo1.maven.org/maven2/org/typelevel/cats-macros_2.12/1.6.0/cats-macros…\n",
            "\u001b[2K    0.0% [          ] 0B (0B / s)\n",
            "\u001b[2Khttps://repo1.maven.org/maven2/com/lihaoyi/utest_2.12/0.6.4/utest_2.12-0.6.4.jar\n",
            "\u001b[2K    0.0% [          ] 0B (0B / s)\n",
            "\u001b[2Khttps://repo1.maven.org/maven2/com/lihaoyi/ammonite-terminal_2.12/1.6.4/ammonit…\n",
            "\u001b[2K    0.0% [          ] 0B (0B / s)\n",
            "\u001b[2A\u001b[2A\u001b[2A\u001b[2A\u001b[2A\u001b[2A\u001b[10000D\u001b[2Khttps://repo1.maven.org/maven2/org/zeromq/jeromq/0.5.0/jeromq-0.5.0-sources.jar\n",
            "\u001b[2K  100.0% [##########] 262.4 KiB (1.2 MiB / s)\n",
            "\u001b[2Khttps://repo1.maven.org/maven2/org/typelevel/cats-kernel_2.12/1.6.0/cats-kernel…\n",
            "\u001b[2K    5.1% [          ] 159.5 KiB (938.1 KiB / s)\n",
            "\u001b[2Khttps://repo1.maven.org/maven2/org/slf4j/slf4j-api/1.8.0-beta2/slf4j-api-1.8.0-…\n",
            "\u001b[2K    0.0% [          ] 0B (0B / s)\n",
            "\u001b[2Khttps://repo1.maven.org/maven2/org/typelevel/cats-macros_2.12/1.6.0/cats-macros…\n",
            "\u001b[2K    0.0% [          ] 0B (0B / s)\n",
            "\u001b[2Khttps://repo1.maven.org/maven2/com/lihaoyi/utest_2.12/0.6.4/utest_2.12-0.6.4.jar\n",
            "\u001b[2K    0.0% [          ] 0B (0B / s)\n",
            "\u001b[2Khttps://repo1.maven.org/maven2/com/lihaoyi/ammonite-terminal_2.12/1.6.4/ammonit…\n",
            "\u001b[2K    0.0% [          ] 0B (0B / s)\n",
            "\u001b[2Khttps://repo1.maven.org/maven2/org/wildfly/common/wildfly-common/1.3.0.Final/wi…\n",
            "\u001b[2K    0.0% [          ] 0B (0B / s)\n",
            "\u001b[2A\u001b[2A\u001b[2A\u001b[2A\u001b[2A\u001b[2A\u001b[10000D\u001b[2Khttps://repo1.maven.org/maven2/org/typelevel/cats-macros_2.12/1.6.0/cats-macros…\n",
            "\u001b[2K  100.0% [##########] 5.1 KiB (38.0 KiB / s)\n",
            "\u001b[2Khttps://repo1.maven.org/maven2/org/typelevel/cats-kernel_2.12/1.6.0/cats-kernel…\n",
            "\u001b[2K    7.6% [          ] 239.5 KiB (1.2 MiB / s)\n",
            "\u001b[2Khttps://repo1.maven.org/maven2/org/slf4j/slf4j-api/1.8.0-beta2/slf4j-api-1.8.0-…\n",
            "\u001b[2K    0.0% [          ] 0B (0B / s)\n",
            "\u001b[2Khttps://repo1.maven.org/maven2/com/lihaoyi/utest_2.12/0.6.4/utest_2.12-0.6.4.jar\n",
            "\u001b[2K    0.0% [          ] 0B (0B / s)\n",
            "\u001b[2Khttps://repo1.maven.org/maven2/com/lihaoyi/ammonite-terminal_2.12/1.6.4/ammonit…\n",
            "\u001b[2K    0.0% [          ] 0B (0B / s)\n",
            "\u001b[2Khttps://repo1.maven.org/maven2/org/wildfly/common/wildfly-common/1.3.0.Final/wi…\n",
            "\u001b[2K    0.0% [          ] 0B (0B / s)\n",
            "\u001b[2Khttps://repo1.maven.org/maven2/com/lihaoyi/upickle-implicits_2.12/0.7.1/upickle…\n",
            "\u001b[2K    0.0% [          ] 0B (0B / s)\n",
            "\u001b[2A\u001b[2A\u001b[2A\u001b[2A\u001b[2A\u001b[2A\u001b[10000D\u001b[2Khttps://repo1.maven.org/maven2/com/lihaoyi/utest_2.12/0.6.4/utest_2.12-0.6.4.jar\n",
            "\u001b[2K  100.0% [##########] 306.8 KiB (2.0 MiB / s)\n",
            "\u001b[2Khttps://repo1.maven.org/maven2/org/typelevel/cats-kernel_2.12/1.6.0/cats-kernel…\n",
            "\u001b[2K    9.1% [          ] 287.5 KiB (1.3 MiB / s)\n",
            "\u001b[2Khttps://repo1.maven.org/maven2/org/slf4j/slf4j-api/1.8.0-beta2/slf4j-api-1.8.0-…\n",
            "\u001b[2K    0.0% [          ] 0B (0B / s)\n",
            "\u001b[2Khttps://repo1.maven.org/maven2/com/lihaoyi/ammonite-terminal_2.12/1.6.4/ammonit…\n",
            "\u001b[2K    0.0% [          ] 0B (0B / s)\n",
            "\u001b[2Khttps://repo1.maven.org/maven2/org/wildfly/common/wildfly-common/1.3.0.Final/wi…\n",
            "\u001b[2K    0.0% [          ] 0B (0B / s)\n",
            "\u001b[2Khttps://repo1.maven.org/maven2/com/lihaoyi/upickle-implicits_2.12/0.7.1/upickle…\n",
            "\u001b[2K    0.0% [          ] 0B (0B / s)\n",
            "\u001b[2Khttps://repo1.maven.org/maven2/org/wildfly/common/wildfly-common/1.3.0.Final/wi…\n",
            "\u001b[2K    0.0% [          ] 0B (0B / s)\n",
            "\u001b[2A\u001b[2A\u001b[2A\u001b[2A\u001b[2A\u001b[2A\u001b[10000D\u001b[2Khttps://repo1.maven.org/maven2/com/lihaoyi/ammonite-terminal_2.12/1.6.4/ammonit…\n",
            "\u001b[2K  100.0% [##########] 23.6 KiB (161.6 KiB / s)\n",
            "\u001b[2Khttps://repo1.maven.org/maven2/org/typelevel/cats-kernel_2.12/1.6.0/cats-kernel…\n",
            "\u001b[2K    9.1% [          ] 287.5 KiB (1.1 MiB / s)\n",
            "\u001b[2Khttps://repo1.maven.org/maven2/org/slf4j/slf4j-api/1.8.0-beta2/slf4j-api-1.8.0-…\n",
            "\u001b[2K    0.0% [          ] 0B (0B / s)\n",
            "\u001b[2Khttps://repo1.maven.org/maven2/org/wildfly/common/wildfly-common/1.3.0.Final/wi…\n",
            "\u001b[2K    0.0% [          ] 0B (0B / s)\n",
            "\u001b[2Khttps://repo1.maven.org/maven2/com/lihaoyi/upickle-implicits_2.12/0.7.1/upickle…\n",
            "\u001b[2K    0.0% [          ] 0B (0B / s)\n",
            "\u001b[2Khttps://repo1.maven.org/maven2/org/wildfly/common/wildfly-common/1.3.0.Final/wi…\n",
            "\u001b[2K    0.0% [          ] 0B (0B / s)\n",
            "\u001b[2Khttps://repo1.maven.org/maven2/com/google/protobuf/protobuf-java/3.6.1/protobuf…\n",
            "\u001b[2K    0.0% [          ] 0B (0B / s)\n",
            "\u001b[2A\u001b[2A\u001b[2A\u001b[2A\u001b[2A\u001b[2A\u001b[10000D\u001b[2Khttps://repo1.maven.org/maven2/org/slf4j/slf4j-api/1.8.0-beta2/slf4j-api-1.8.0-…\n",
            "\u001b[2K  100.0% [##########] 42.9 KiB (157.6 KiB / s)\n",
            "\u001b[2Khttps://repo1.maven.org/maven2/org/typelevel/cats-kernel_2.12/1.6.0/cats-kernel…\n",
            "\u001b[2K    9.6% [          ] 303.5 KiB (1.1 MiB / s)\n",
            "\u001b[2Khttps://repo1.maven.org/maven2/org/wildfly/common/wildfly-common/1.3.0.Final/wi…\n",
            "\u001b[2K    0.0% [          ] 0B (0B / s)\n",
            "\u001b[2Khttps://repo1.maven.org/maven2/com/lihaoyi/upickle-implicits_2.12/0.7.1/upickle…\n",
            "\u001b[2K    0.0% [          ] 0B (0B / s)\n",
            "\u001b[2Khttps://repo1.maven.org/maven2/org/wildfly/common/wildfly-common/1.3.0.Final/wi…\n",
            "\u001b[2K    0.0% [          ] 0B (0B / s)\n",
            "\u001b[2Khttps://repo1.maven.org/maven2/com/google/protobuf/protobuf-java/3.6.1/protobuf…\n",
            "\u001b[2K    0.0% [          ] 0B (0B / s)\n",
            "\u001b[2Khttps://repo1.maven.org/maven2/org/scalameta/cli_2.12/4.1.4/cli_2.12-4.1.4-sour…\n",
            "\u001b[2K    0.0% [          ] 0B (0B / s)\n",
            "\u001b[2A\u001b[2A\u001b[2A\u001b[2A\u001b[2A\u001b[2A\u001b[10000D\u001b[2Khttps://repo1.maven.org/maven2/org/typelevel/cats-kernel_2.12/1.6.0/cats-kernel…\n",
            "\u001b[2K   14.7% [#         ] 463.5 KiB (1.5 MiB / s)\n",
            "\u001b[2Khttps://repo1.maven.org/maven2/org/wildfly/common/wildfly-common/1.3.0.Final/wi…\n",
            "\u001b[2K    0.0% [          ] 0B (0B / s)\n",
            "\u001b[2Khttps://repo1.maven.org/maven2/com/lihaoyi/upickle-implicits_2.12/0.7.1/upickle…\n",
            "\u001b[2K    0.0% [          ] 0B (0B / s)\n",
            "\u001b[2Khttps://repo1.maven.org/maven2/org/wildfly/common/wildfly-common/1.3.0.Final/wi…\n",
            "\u001b[2K    0.0% [          ] 0B (0B / s)\n",
            "\u001b[2Khttps://repo1.maven.org/maven2/com/google/protobuf/protobuf-java/3.6.1/protobuf…\n",
            "\u001b[2K    0.0% [          ] 0B (0B / s)\n",
            "\u001b[2Khttps://repo1.maven.org/maven2/org/scalameta/cli_2.12/4.1.4/cli_2.12-4.1.4-sour…\n",
            "\u001b[2K    0.0% [          ] 0B (0B / s)\n",
            "\u001b[2A\u001b[2A\u001b[2A\u001b[2A\u001b[2A\u001b[2A\u001b[10000D\u001b[2Khttps://repo1.maven.org/maven2/org/wildfly/common/wildfly-common/1.3.0.Final/wi…\n",
            "\u001b[2K  100.0% [##########] 216.5 KiB (1.3 MiB / s)\n",
            "\u001b[2Khttps://repo1.maven.org/maven2/org/typelevel/cats-kernel_2.12/1.6.0/cats-kernel…\n",
            "\u001b[2K   19.3% [#         ] 607.4 KiB (1.9 MiB / s)\n",
            "\u001b[2Khttps://repo1.maven.org/maven2/com/lihaoyi/upickle-implicits_2.12/0.7.1/upickle…\n",
            "\u001b[2K    0.0% [          ] 0B (0B / s)\n",
            "\u001b[2Khttps://repo1.maven.org/maven2/org/wildfly/common/wildfly-common/1.3.0.Final/wi…\n",
            "\u001b[2K    0.0% [          ] 0B (0B / s)\n",
            "\u001b[2Khttps://repo1.maven.org/maven2/com/google/protobuf/protobuf-java/3.6.1/protobuf…\n",
            "\u001b[2K    0.0% [          ] 0B (0B / s)\n",
            "\u001b[2Khttps://repo1.maven.org/maven2/org/scalameta/cli_2.12/4.1.4/cli_2.12-4.1.4-sour…\n",
            "\u001b[2K    0.0% [          ] 0B (0B / s)\n",
            "\u001b[2Khttps://repo1.maven.org/maven2/com/lihaoyi/upickle-core_2.12/0.7.1/upickle-core…\n",
            "\u001b[2K    0.0% [          ] 0B (0B / s)\n",
            "\u001b[2A\u001b[2A\u001b[2A\u001b[2A\u001b[2A\u001b[2A\u001b[10000D\u001b[2Khttps://repo1.maven.org/maven2/com/lihaoyi/upickle-implicits_2.12/0.7.1/upickle…\n",
            "\u001b[2K  100.0% [##########] 171.6 KiB (1.1 MiB / s)\n",
            "\u001b[2Khttps://repo1.maven.org/maven2/org/typelevel/cats-kernel_2.12/1.6.0/cats-kernel…\n",
            "\u001b[2K   22.8% [##        ] 719.4 KiB (2.1 MiB / s)\n",
            "\u001b[2Khttps://repo1.maven.org/maven2/org/wildfly/common/wildfly-common/1.3.0.Final/wi…\n",
            "\u001b[2K    0.0% [          ] 0B (0B / s)\n",
            "\u001b[2Khttps://repo1.maven.org/maven2/com/google/protobuf/protobuf-java/3.6.1/protobuf…\n",
            "\u001b[2K    0.0% [          ] 0B (0B / s)\n",
            "\u001b[2Khttps://repo1.maven.org/maven2/org/scalameta/cli_2.12/4.1.4/cli_2.12-4.1.4-sour…\n",
            "\u001b[2K    0.0% [          ] 0B (0B / s)\n",
            "\u001b[2Khttps://repo1.maven.org/maven2/com/lihaoyi/upickle-core_2.12/0.7.1/upickle-core…\n",
            "\u001b[2K    0.0% [          ] 0B (0B / s)\n",
            "\u001b[2Khttps://repo1.maven.org/maven2/org/scalameta/fastparse_2.12/1.0.0/fastparse_2.1…\n",
            "\u001b[2K    0.0% [          ] 0B (0B / s)\n",
            "\u001b[2A\u001b[2A\u001b[2A\u001b[2A\u001b[2A\u001b[2A\u001b[10000D\u001b[2Khttps://repo1.maven.org/maven2/org/wildfly/common/wildfly-common/1.3.0.Final/wi…\n",
            "\u001b[2K  100.0% [##########] 178.3 KiB (1.2 MiB / s)\n",
            "\u001b[2Khttps://repo1.maven.org/maven2/org/typelevel/cats-kernel_2.12/1.6.0/cats-kernel…\n",
            "\u001b[2K   27.7% [##        ] 872.0 KiB (2.4 MiB / s)\n",
            "\u001b[2Khttps://repo1.maven.org/maven2/com/google/protobuf/protobuf-java/3.6.1/protobuf…\n",
            "\u001b[2K    0.0% [          ] 0B (0B / s)\n",
            "\u001b[2Khttps://repo1.maven.org/maven2/org/scalameta/cli_2.12/4.1.4/cli_2.12-4.1.4-sour…\n",
            "\u001b[2K    0.0% [          ] 0B (0B / s)\n",
            "\u001b[2Khttps://repo1.maven.org/maven2/com/lihaoyi/upickle-core_2.12/0.7.1/upickle-core…\n",
            "\u001b[2K    0.0% [          ] 0B (0B / s)\n",
            "\u001b[2Khttps://repo1.maven.org/maven2/org/scalameta/fastparse_2.12/1.0.0/fastparse_2.1…\n",
            "\u001b[2K    0.0% [          ] 0B (0B / s)\n",
            "\u001b[2Khttps://repo1.maven.org/maven2/com/lihaoyi/ammonite-runtime_2.12/1.6.4/ammonite…\n",
            "\u001b[2K    0.0% [          ] 0B (0B / s)\n",
            "\u001b[2A\u001b[2A\u001b[2A\u001b[2A\u001b[2A\u001b[2A\u001b[10000D\u001b[2Khttps://repo1.maven.org/maven2/org/typelevel/cats-kernel_2.12/1.6.0/cats-kernel…\n",
            "\u001b[2K   28.2% [##        ] 888.0 KiB (2.2 MiB / s)\n",
            "\u001b[2Khttps://repo1.maven.org/maven2/com/google/protobuf/protobuf-java/3.6.1/protobuf…\n",
            "\u001b[2K   18.4% [#         ] 255.5 KiB (1.6 MiB / s)\n",
            "\u001b[2Khttps://repo1.maven.org/maven2/org/scalameta/cli_2.12/4.1.4/cli_2.12-4.1.4-sour…\n",
            "\u001b[2K    0.0% [          ] 0B (0B / s)\n",
            "\u001b[2Khttps://repo1.maven.org/maven2/com/lihaoyi/upickle-core_2.12/0.7.1/upickle-core…\n",
            "\u001b[2K    0.0% [          ] 0B (0B / s)\n",
            "\u001b[2Khttps://repo1.maven.org/maven2/org/scalameta/fastparse_2.12/1.0.0/fastparse_2.1…\n",
            "\u001b[2K    0.0% [          ] 0B (0B / s)\n",
            "\u001b[2Khttps://repo1.maven.org/maven2/com/lihaoyi/ammonite-runtime_2.12/1.6.4/ammonite…\n",
            "\u001b[2K    0.0% [          ] 0B (0B / s)\n",
            "\u001b[2A\u001b[2A\u001b[2A\u001b[2A\u001b[2A\u001b[2A\u001b[10000D\u001b[2Khttps://repo1.maven.org/maven2/org/scalameta/cli_2.12/4.1.4/cli_2.12-4.1.4-sour…\n",
            "\u001b[2K  100.0% [##########] 2.5 KiB (18.0 KiB / s)\n",
            "\u001b[2Khttps://repo1.maven.org/maven2/com/google/protobuf/protobuf-java/3.6.1/protobuf…\n",
            "\u001b[2K   37.7% [###       ] 523.7 KiB (2.9 MiB / s)\n",
            "\u001b[2Khttps://repo1.maven.org/maven2/org/typelevel/cats-kernel_2.12/1.6.0/cats-kernel…\n",
            "\u001b[2K   35.3% [###       ] 1.1 MiB (2.6 MiB / s)\n",
            "\u001b[2Khttps://repo1.maven.org/maven2/com/lihaoyi/upickle-core_2.12/0.7.1/upickle-core…\n",
            "\u001b[2K    0.0% [          ] 0B (0B / s)\n",
            "\u001b[2Khttps://repo1.maven.org/maven2/org/scalameta/fastparse_2.12/1.0.0/fastparse_2.1…\n",
            "\u001b[2K    0.0% [          ] 0B (0B / s)\n",
            "\u001b[2Khttps://repo1.maven.org/maven2/com/lihaoyi/ammonite-runtime_2.12/1.6.4/ammonite…\n",
            "\u001b[2K    0.0% [          ] 0B (0B / s)\n",
            "\u001b[2Khttps://repo1.maven.org/maven2/com/lihaoyi/ammonite-ops_2.12/1.6.4/ammonite-ops…\n",
            "\u001b[2K    0.0% [          ] 0B (0B / s)\n",
            "\u001b[2A\u001b[2A\u001b[2A\u001b[2A\u001b[2A\u001b[2A\u001b[10000D\u001b[2Khttps://repo1.maven.org/maven2/com/google/protobuf/protobuf-java/3.6.1/protobuf…\n",
            "\u001b[2K   56.2% [#####     ] 779.7 KiB (3.9 MiB / s)\n",
            "\u001b[2Khttps://repo1.maven.org/maven2/org/typelevel/cats-kernel_2.12/1.6.0/cats-kernel…\n",
            "\u001b[2K   42.9% [####      ] 1.3 MiB (3.1 MiB / s)\n",
            "\u001b[2Khttps://repo1.maven.org/maven2/com/lihaoyi/upickle-core_2.12/0.7.1/upickle-core…\n",
            "\u001b[2K    0.0% [          ] 0B (0B / s)\n",
            "\u001b[2Khttps://repo1.maven.org/maven2/org/scalameta/fastparse_2.12/1.0.0/fastparse_2.1…\n",
            "\u001b[2K    0.0% [          ] 0B (0B / s)\n",
            "\u001b[2Khttps://repo1.maven.org/maven2/com/lihaoyi/ammonite-runtime_2.12/1.6.4/ammonite…\n",
            "\u001b[2K    0.0% [          ] 0B (0B / s)\n",
            "\u001b[2Khttps://repo1.maven.org/maven2/com/lihaoyi/ammonite-ops_2.12/1.6.4/ammonite-ops…\n",
            "\u001b[2K    0.0% [          ] 0B (0B / s)\n",
            "\u001b[2A\u001b[2A\u001b[2A\u001b[2A\u001b[2A\u001b[2A\u001b[10000D\u001b[2Khttps://repo1.maven.org/maven2/com/lihaoyi/upickle-core_2.12/0.7.1/upickle-core…\n",
            "\u001b[2K  100.0% [##########] 106.4 KiB (714.2 KiB / s)\n",
            "\u001b[2Khttps://repo1.maven.org/maven2/com/google/protobuf/protobuf-java/3.6.1/protobuf…\n",
            "\u001b[2K   59.6% [#####     ] 827.7 KiB (3.8 MiB / s)\n",
            "\u001b[2Khttps://repo1.maven.org/maven2/org/scalameta/fastparse_2.12/1.0.0/fastparse_2.1…\n",
            "\u001b[2K   53.0% [#####     ] 175.5 KiB (1.3 MiB / s)\n",
            "\u001b[2Khttps://repo1.maven.org/maven2/org/typelevel/cats-kernel_2.12/1.6.0/cats-kernel…\n",
            "\u001b[2K   52.6% [#####     ] 1.6 MiB (3.6 MiB / s)\n",
            "\u001b[2Khttps://repo1.maven.org/maven2/com/lihaoyi/ammonite-runtime_2.12/1.6.4/ammonite…\n",
            "\u001b[2K    0.0% [          ] 0B (0B / s)\n",
            "\u001b[2Khttps://repo1.maven.org/maven2/com/lihaoyi/ammonite-ops_2.12/1.6.4/ammonite-ops…\n",
            "\u001b[2K    0.0% [          ] 0B (0B / s)\n",
            "\u001b[2Khttps://repo1.maven.org/maven2/org/scalameta/interactive_2.12.7/4.1.4/interacti…\n",
            "\u001b[2K    0.0% [          ] 0B (0B / s)\n",
            "\u001b[2A\u001b[2A\u001b[2A\u001b[2A\u001b[2A\u001b[2A\u001b[10000D\u001b[2Khttps://repo1.maven.org/maven2/org/scalameta/fastparse_2.12/1.0.0/fastparse_2.1…\n",
            "\u001b[2K  100.0% [##########] 330.9 KiB (2.1 MiB / s)\n",
            "\u001b[2Khttps://repo1.maven.org/maven2/org/typelevel/cats-kernel_2.12/1.6.0/cats-kernel…\n",
            "\u001b[2K   63.6% [######    ] 2.0 MiB (4.2 MiB / s)\n",
            "\u001b[2Khttps://repo1.maven.org/maven2/com/google/protobuf/protobuf-java/3.6.1/protobuf…\n",
            "\u001b[2K   59.6% [#####     ] 827.7 KiB (3.5 MiB / s)\n",
            "\u001b[2Khttps://repo1.maven.org/maven2/com/lihaoyi/ammonite-runtime_2.12/1.6.4/ammonite…\n",
            "\u001b[2K    0.0% [          ] 0B (0B / s)\n",
            "\u001b[2Khttps://repo1.maven.org/maven2/com/lihaoyi/ammonite-ops_2.12/1.6.4/ammonite-ops…\n",
            "\u001b[2K    0.0% [          ] 0B (0B / s)\n",
            "\u001b[2Khttps://repo1.maven.org/maven2/org/scalameta/interactive_2.12.7/4.1.4/interacti…\n",
            "\u001b[2K    0.0% [          ] 0B (0B / s)\n",
            "\u001b[2Khttps://repo1.maven.org/maven2/io/get-coursier/coursier_2.12/1.1.0-M7/coursier_…\n",
            "\u001b[2K    0.0% [          ] 0B (0B / s)\n",
            "\u001b[2A\u001b[2A\u001b[2A\u001b[2A\u001b[2A\u001b[2A\u001b[10000D\u001b[2Khttps://repo1.maven.org/maven2/com/lihaoyi/ammonite-runtime_2.12/1.6.4/ammonite…\n",
            "\u001b[2K  100.0% [##########] 22.6 KiB (153.0 KiB / s)\n",
            "\u001b[2Khttps://repo1.maven.org/maven2/org/typelevel/cats-kernel_2.12/1.6.0/cats-kernel…\n",
            "\u001b[2K   64.1% [######    ] 2.0 MiB (4.0 MiB / s)\n",
            "\u001b[2Khttps://repo1.maven.org/maven2/com/google/protobuf/protobuf-java/3.6.1/protobuf…\n",
            "\u001b[2K   59.6% [#####     ] 827.7 KiB (3.2 MiB / s)\n",
            "\u001b[2Khttps://repo1.maven.org/maven2/com/lihaoyi/ammonite-ops_2.12/1.6.4/ammonite-ops…\n",
            "\u001b[2K    0.0% [          ] 0B (0B / s)\n",
            "\u001b[2Khttps://repo1.maven.org/maven2/org/scalameta/interactive_2.12.7/4.1.4/interacti…\n",
            "\u001b[2K    0.0% [          ] 0B (0B / s)\n",
            "\u001b[2Khttps://repo1.maven.org/maven2/io/get-coursier/coursier_2.12/1.1.0-M7/coursier_…\n",
            "\u001b[2K    0.0% [          ] 0B (0B / s)\n",
            "\u001b[2Khttps://repo1.maven.org/maven2/org/zeromq/jeromq/0.5.0/jeromq-0.5.0.jar\n",
            "\u001b[2K    0.0% [          ] 0B (0B / s)\n",
            "\u001b[2A\u001b[2A\u001b[2A\u001b[2A\u001b[2A\u001b[2A\u001b[10000D\u001b[2Khttps://repo1.maven.org/maven2/com/google/protobuf/protobuf-java/3.6.1/protobuf…\n",
            "\u001b[2K   73.5% [#######   ] 1019.7 KiB (3.6 MiB / s)\n",
            "\u001b[2Khttps://repo1.maven.org/maven2/org/typelevel/cats-kernel_2.12/1.6.0/cats-kernel…\n",
            "\u001b[2K   64.1% [######    ] 2.0 MiB (3.9 MiB / s)\n",
            "\u001b[2Khttps://repo1.maven.org/maven2/com/lihaoyi/ammonite-ops_2.12/1.6.4/ammonite-ops…\n",
            "\u001b[2K    0.0% [          ] 0B (0B / s)\n",
            "\u001b[2Khttps://repo1.maven.org/maven2/org/scalameta/interactive_2.12.7/4.1.4/interacti…\n",
            "\u001b[2K    0.0% [          ] 0B (0B / s)\n",
            "\u001b[2Khttps://repo1.maven.org/maven2/io/get-coursier/coursier_2.12/1.1.0-M7/coursier_…\n",
            "\u001b[2K    0.0% [          ] 0B (0B / s)\n",
            "\u001b[2Khttps://repo1.maven.org/maven2/org/zeromq/jeromq/0.5.0/jeromq-0.5.0.jar\n",
            "\u001b[2K    0.0% [          ] 0B (0B / s)\n",
            "\u001b[2A\u001b[2A\u001b[2A\u001b[2A\u001b[2A\u001b[2A\u001b[10000D\u001b[2Khttps://repo1.maven.org/maven2/com/google/protobuf/protobuf-java/3.6.1/protobuf…\n",
            "\u001b[2K   98.8% [######### ] 1.3 MiB (4.6 MiB / s)\n",
            "\u001b[2Khttps://repo1.maven.org/maven2/org/typelevel/cats-kernel_2.12/1.6.0/cats-kernel…\n",
            "\u001b[2K   74.8% [#######   ] 2.3 MiB (4.3 MiB / s)\n",
            "\u001b[2Khttps://repo1.maven.org/maven2/com/lihaoyi/ammonite-ops_2.12/1.6.4/ammonite-ops…\n",
            "\u001b[2K    0.0% [          ] 0B (0B / s)\n",
            "\u001b[2Khttps://repo1.maven.org/maven2/org/scalameta/interactive_2.12.7/4.1.4/interacti…\n",
            "\u001b[2K    0.0% [          ] 0B (0B / s)\n",
            "\u001b[2Khttps://repo1.maven.org/maven2/io/get-coursier/coursier_2.12/1.1.0-M7/coursier_…\n",
            "\u001b[2K    0.0% [          ] 0B (0B / s)\n",
            "\u001b[2Khttps://repo1.maven.org/maven2/org/zeromq/jeromq/0.5.0/jeromq-0.5.0.jar\n",
            "\u001b[2K    0.0% [          ] 0B (0B / s)\n",
            "\u001b[2A\u001b[2A\u001b[2A\u001b[2A\u001b[2A\u001b[2A\u001b[10000D\u001b[2Khttps://repo1.maven.org/maven2/com/google/protobuf/protobuf-java/3.6.1/protobuf…\n",
            "\u001b[2K  100.0% [##########] 1.4 MiB (4.3 MiB / s)\n",
            "\u001b[2Khttps://repo1.maven.org/maven2/com/lihaoyi/ammonite-ops_2.12/1.6.4/ammonite-ops…\n",
            "\u001b[2K  100.0% [##########] 122.5 KiB (822.1 KiB / s)\n",
            "\u001b[2Khttps://repo1.maven.org/maven2/org/typelevel/cats-kernel_2.12/1.6.0/cats-kernel…\n",
            "\u001b[2K   90.5% [######### ] 2.8 MiB (5.1 MiB / s)\n",
            "\u001b[2Khttps://repo1.maven.org/maven2/org/scalameta/interactive_2.12.7/4.1.4/interacti…\n",
            "\u001b[2K    0.0% [          ] 0B (0B / s)\n",
            "\u001b[2Khttps://repo1.maven.org/maven2/io/get-coursier/coursier_2.12/1.1.0-M7/coursier_…\n",
            "\u001b[2K    0.0% [          ] 0B (0B / s)\n",
            "\u001b[2Khttps://repo1.maven.org/maven2/org/zeromq/jeromq/0.5.0/jeromq-0.5.0.jar\n",
            "\u001b[2K    0.0% [          ] 0B (0B / s)\n",
            "\u001b[2Khttps://repo1.maven.org/maven2/org/scalameta/mtags_2.12/0.4.4/mtags_2.12-0.4.4-…\n",
            "\u001b[2K    0.0% [          ] 0B (0B / s)\n",
            "\u001b[2Khttps://repo1.maven.org/maven2/com/lihaoyi/ammonite-ops_2.12/1.6.4/ammonite-ops…\n",
            "\u001b[2K    0.0% [          ] 0B (0B / s)\n",
            "\u001b[2A\u001b[2A\u001b[2A\u001b[2A\u001b[2A\u001b[2A\u001b[10000D\u001b[2Khttps://repo1.maven.org/maven2/org/scalameta/interactive_2.12.7/4.1.4/interacti…\n",
            "\u001b[2K  100.0% [##########] 14.1 KiB (102.1 KiB / s)\n",
            "\u001b[2Khttps://repo1.maven.org/maven2/org/typelevel/cats-kernel_2.12/1.6.0/cats-kernel…\n",
            "\u001b[2K  100.0% [##########] 3.1 MiB (5.4 MiB / s)\n",
            "\u001b[2Khttps://repo1.maven.org/maven2/io/get-coursier/coursier_2.12/1.1.0-M7/coursier_…\n",
            "\u001b[2K    0.0% [          ] 0B (0B / s)\n",
            "\u001b[2Khttps://repo1.maven.org/maven2/org/zeromq/jeromq/0.5.0/jeromq-0.5.0.jar\n",
            "\u001b[2K    0.0% [          ] 0B (0B / s)\n",
            "\u001b[2Khttps://repo1.maven.org/maven2/org/scalameta/mtags_2.12/0.4.4/mtags_2.12-0.4.4-…\n",
            "\u001b[2K    0.0% [          ] 0B (0B / s)\n",
            "\u001b[2Khttps://repo1.maven.org/maven2/com/lihaoyi/ammonite-ops_2.12/1.6.4/ammonite-ops…\n",
            "\u001b[2K    0.0% [          ] 0B (0B / s)\n",
            "\u001b[2Khttps://repo1.maven.org/maven2/io/argonaut/argonaut_2.12/6.2.2/argonaut_2.12-6.…\n",
            "\u001b[2K    0.0% [          ] 0B (0B / s)\n",
            "\u001b[2Khttps://repo1.maven.org/maven2/org/scalameta/inputs_2.12/4.1.4/inputs_2.12-4.1.…\n",
            "\u001b[2K    0.0% [          ] 0B (0B / s)\n",
            "\u001b[2A\u001b[2A\u001b[2A\u001b[2A\u001b[2A\u001b[2A\u001b[10000D\u001b[2Khttps://repo1.maven.org/maven2/io/get-coursier/coursier_2.12/1.1.0-M7/coursier_…\n",
            "\u001b[2K  100.0% [##########] 56.7 KiB (410.5 KiB / s)\n",
            "\u001b[2Khttps://repo1.maven.org/maven2/org/zeromq/jeromq/0.5.0/jeromq-0.5.0.jar\n",
            "\u001b[2K    0.0% [          ] 0B (0B / s)\n",
            "\u001b[2Khttps://repo1.maven.org/maven2/org/scalameta/mtags_2.12/0.4.4/mtags_2.12-0.4.4-…\n",
            "\u001b[2K    0.0% [          ] 0B (0B / s)\n",
            "\u001b[2Khttps://repo1.maven.org/maven2/com/lihaoyi/ammonite-ops_2.12/1.6.4/ammonite-ops…\n",
            "\u001b[2K    0.0% [          ] 0B (0B / s)\n",
            "\u001b[2Khttps://repo1.maven.org/maven2/io/argonaut/argonaut_2.12/6.2.2/argonaut_2.12-6.…\n",
            "\u001b[2K    0.0% [          ] 0B (0B / s)\n",
            "\u001b[2Khttps://repo1.maven.org/maven2/org/scalameta/inputs_2.12/4.1.4/inputs_2.12-4.1.…\n",
            "\u001b[2K    0.0% [          ] 0B (0B / s)\n",
            "\u001b[2Khttps://repo1.maven.org/maven2/org/slf4j/slf4j-api/1.8.0-beta2/slf4j-api-1.8.0-…\n",
            "\u001b[2K    0.0% [          ] 0B (0B / s)\n",
            "\u001b[2A\u001b[2A\u001b[2A\u001b[2A\u001b[2A\u001b[2A\u001b[10000D\u001b[2Khttps://repo1.maven.org/maven2/org/zeromq/jeromq/0.5.0/jeromq-0.5.0.jar\n",
            "\u001b[2K   74.2% [#######   ] 319.5 KiB (2.2 MiB / s)\n",
            "\u001b[2Khttps://repo1.maven.org/maven2/org/scalameta/mtags_2.12/0.4.4/mtags_2.12-0.4.4-…\n",
            "\u001b[2K    0.0% [          ] 0B (0B / s)\n",
            "\u001b[2Khttps://repo1.maven.org/maven2/com/lihaoyi/ammonite-ops_2.12/1.6.4/ammonite-ops…\n",
            "\u001b[2K    0.0% [          ] 0B (0B / s)\n",
            "\u001b[2Khttps://repo1.maven.org/maven2/io/argonaut/argonaut_2.12/6.2.2/argonaut_2.12-6.…\n",
            "\u001b[2K    0.0% [          ] 0B (0B / s)\n",
            "\u001b[2Khttps://repo1.maven.org/maven2/org/scalameta/inputs_2.12/4.1.4/inputs_2.12-4.1.…\n",
            "\u001b[2K    0.0% [          ] 0B (0B / s)\n",
            "\u001b[2Khttps://repo1.maven.org/maven2/org/slf4j/slf4j-api/1.8.0-beta2/slf4j-api-1.8.0-…\n",
            "\u001b[2K    0.0% [          ] 0B (0B / s)\n",
            "\u001b[2A\u001b[2A\u001b[2A\u001b[2A\u001b[2A\u001b[2A\u001b[10000D\u001b[2Khttps://repo1.maven.org/maven2/org/zeromq/jeromq/0.5.0/jeromq-0.5.0.jar\n",
            "\u001b[2K  100.0% [##########] 430.6 KiB (2.6 MiB / s)\n",
            "\u001b[2Khttps://repo1.maven.org/maven2/org/scalameta/mtags_2.12/0.4.4/mtags_2.12-0.4.4-…\n",
            "\u001b[2K    0.0% [          ] 0B (0B / s)\n",
            "\u001b[2Khttps://repo1.maven.org/maven2/com/lihaoyi/ammonite-ops_2.12/1.6.4/ammonite-ops…\n",
            "\u001b[2K    0.0% [          ] 0B (0B / s)\n",
            "\u001b[2Khttps://repo1.maven.org/maven2/io/argonaut/argonaut_2.12/6.2.2/argonaut_2.12-6.…\n",
            "\u001b[2K    0.0% [          ] 0B (0B / s)\n",
            "\u001b[2Khttps://repo1.maven.org/maven2/org/scalameta/inputs_2.12/4.1.4/inputs_2.12-4.1.…\n",
            "\u001b[2K    0.0% [          ] 0B (0B / s)\n",
            "\u001b[2Khttps://repo1.maven.org/maven2/org/slf4j/slf4j-api/1.8.0-beta2/slf4j-api-1.8.0-…\n",
            "\u001b[2K    0.0% [          ] 0B (0B / s)\n",
            "\u001b[2Khttps://repo1.maven.org/maven2/org/scala-lang/scala-compiler/2.12.8/scala-compi…\n",
            "\u001b[2K    0.0% [          ] 0B (0B / s)\n",
            "\u001b[2A\u001b[2A\u001b[2A\u001b[2A\u001b[2A\u001b[2A\u001b[10000D\u001b[2Khttps://repo1.maven.org/maven2/com/lihaoyi/ammonite-ops_2.12/1.6.4/ammonite-ops…\n",
            "\u001b[2K  100.0% [##########] 7.8 KiB (58.3 KiB / s)\n",
            "\u001b[2Khttps://repo1.maven.org/maven2/org/scalameta/mtags_2.12/0.4.4/mtags_2.12-0.4.4-…\n",
            "\u001b[2K    0.0% [          ] 0B (0B / s)\n",
            "\u001b[2Khttps://repo1.maven.org/maven2/io/argonaut/argonaut_2.12/6.2.2/argonaut_2.12-6.…\n",
            "\u001b[2K    0.0% [          ] 0B (0B / s)\n",
            "\u001b[2Khttps://repo1.maven.org/maven2/org/scalameta/inputs_2.12/4.1.4/inputs_2.12-4.1.…\n",
            "\u001b[2K    0.0% [          ] 0B (0B / s)\n",
            "\u001b[2Khttps://repo1.maven.org/maven2/org/slf4j/slf4j-api/1.8.0-beta2/slf4j-api-1.8.0-…\n",
            "\u001b[2K    0.0% [          ] 0B (0B / s)\n",
            "\u001b[2Khttps://repo1.maven.org/maven2/org/scala-lang/scala-compiler/2.12.8/scala-compi…\n",
            "\u001b[2K    0.0% [          ] 0B (0B / s)\n",
            "\u001b[2Khttps://repo1.maven.org/maven2/org/scala-lang/scala-library/2.12.8/scala-librar…\n",
            "\u001b[2K    0.0% [          ] 0B (0B / s)\n",
            "\u001b[2A\u001b[2A\u001b[2A\u001b[2A\u001b[2A\u001b[2A\u001b[10000D\u001b[2Khttps://repo1.maven.org/maven2/org/scalameta/inputs_2.12/4.1.4/inputs_2.12-4.1.…\n",
            "\u001b[2K  100.0% [##########] 5.4 KiB (36.7 KiB / s)\n",
            "\u001b[2Khttps://repo1.maven.org/maven2/io/argonaut/argonaut_2.12/6.2.2/argonaut_2.12-6.…\n",
            "\u001b[2K   86.3% [########  ] 671.5 KiB (4.5 MiB / s)\n",
            "\u001b[2Khttps://repo1.maven.org/maven2/org/scalameta/mtags_2.12/0.4.4/mtags_2.12-0.4.4-…\n",
            "\u001b[2K    0.0% [          ] 0B (0B / s)\n",
            "\u001b[2Khttps://repo1.maven.org/maven2/org/slf4j/slf4j-api/1.8.0-beta2/slf4j-api-1.8.0-…\n",
            "\u001b[2K    0.0% [          ] 0B (0B / s)\n",
            "\u001b[2Khttps://repo1.maven.org/maven2/org/scala-lang/scala-compiler/2.12.8/scala-compi…\n",
            "\u001b[2K    0.0% [          ] 0B (0B / s)\n",
            "\u001b[2Khttps://repo1.maven.org/maven2/org/scala-lang/scala-library/2.12.8/scala-librar…\n",
            "\u001b[2K    0.0% [          ] 0B (0B / s)\n",
            "\u001b[2Khttps://repo1.maven.org/maven2/org/scalameta/transversers_2.12/4.1.4/transverse…\n",
            "\u001b[2K    0.0% [          ] 0B (0B / s)\n",
            "\u001b[2A\u001b[2A\u001b[2A\u001b[2A\u001b[2A\u001b[2A\u001b[10000D\u001b[2Khttps://repo1.maven.org/maven2/io/argonaut/argonaut_2.12/6.2.2/argonaut_2.12-6.…\n",
            "\u001b[2K  100.0% [##########] 778.3 KiB (4.6 MiB / s)\n",
            "\u001b[2Khttps://repo1.maven.org/maven2/org/slf4j/slf4j-api/1.8.0-beta2/slf4j-api-1.8.0-…\n",
            "\u001b[2K  100.0% [##########] 51.6 KiB (355.9 KiB / s)\n",
            "\u001b[2Khttps://repo1.maven.org/maven2/org/scalameta/mtags_2.12/0.4.4/mtags_2.12-0.4.4-…\n",
            "\u001b[2K    0.0% [          ] 0B (0B / s)\n",
            "\u001b[2Khttps://repo1.maven.org/maven2/org/scala-lang/scala-compiler/2.12.8/scala-compi…\n",
            "\u001b[2K    0.0% [          ] 0B (0B / s)\n",
            "\u001b[2Khttps://repo1.maven.org/maven2/org/scala-lang/scala-library/2.12.8/scala-librar…\n",
            "\u001b[2K    0.0% [          ] 0B (0B / s)\n",
            "\u001b[2Khttps://repo1.maven.org/maven2/org/scalameta/transversers_2.12/4.1.4/transverse…\n",
            "\u001b[2K    0.0% [          ] 0B (0B / s)\n",
            "\u001b[2Khttps://repo1.maven.org/maven2/org/wildfly/client/wildfly-client-config/1.0.0.F…\n",
            "\u001b[2K    0.0% [          ] 0B (0B / s)\n",
            "\u001b[2Khttps://repo1.maven.org/maven2/org/scala-lang/scalap/2.12.8/scalap-2.12.8-sourc…\n",
            "\u001b[2K    0.0% [          ] 0B (0B / s)\n",
            "\u001b[2A\u001b[2A\u001b[2A\u001b[2A\u001b[2A\u001b[2A\u001b[10000D\u001b[2Khttps://repo1.maven.org/maven2/org/scala-lang/scala-compiler/2.12.8/scala-compi…\n",
            "\u001b[2K    5.9% [          ] 607.5 KiB (3.8 MiB / s)\n",
            "\u001b[2Khttps://repo1.maven.org/maven2/org/scalameta/mtags_2.12/0.4.4/mtags_2.12-0.4.4-…\n",
            "\u001b[2K    0.0% [          ] 0B (0B / s)\n",
            "\u001b[2Khttps://repo1.maven.org/maven2/org/scala-lang/scala-library/2.12.8/scala-librar…\n",
            "\u001b[2K    0.0% [          ] 0B (0B / s)\n",
            "\u001b[2Khttps://repo1.maven.org/maven2/org/scalameta/transversers_2.12/4.1.4/transverse…\n",
            "\u001b[2K    0.0% [          ] 0B (0B / s)\n",
            "\u001b[2Khttps://repo1.maven.org/maven2/org/wildfly/client/wildfly-client-config/1.0.0.F…\n",
            "\u001b[2K    0.0% [          ] 0B (0B / s)\n",
            "\u001b[2Khttps://repo1.maven.org/maven2/org/scala-lang/scalap/2.12.8/scalap-2.12.8-sourc…\n",
            "\u001b[2K    0.0% [          ] 0B (0B / s)\n",
            "\u001b[2A\u001b[2A\u001b[2A\u001b[2A\u001b[2A\u001b[2A\u001b[10000D\u001b[2Khttps://repo1.maven.org/maven2/org/scala-lang/scala-compiler/2.12.8/scala-compi…\n",
            "\u001b[2K   11.8% [#         ] 1.2 MiB (6.7 MiB / s)\n",
            "\u001b[2Khttps://repo1.maven.org/maven2/org/scalameta/mtags_2.12/0.4.4/mtags_2.12-0.4.4-…\n",
            "\u001b[2K    0.0% [          ] 0B (0B / s)\n",
            "\u001b[2Khttps://repo1.maven.org/maven2/org/scala-lang/scala-library/2.12.8/scala-librar…\n",
            "\u001b[2K    0.0% [          ] 0B (0B / s)\n",
            "\u001b[2Khttps://repo1.maven.org/maven2/org/scalameta/transversers_2.12/4.1.4/transverse…\n",
            "\u001b[2K    0.0% [          ] 0B (0B / s)\n",
            "\u001b[2Khttps://repo1.maven.org/maven2/org/wildfly/client/wildfly-client-config/1.0.0.F…\n",
            "\u001b[2K    0.0% [          ] 0B (0B / s)\n",
            "\u001b[2Khttps://repo1.maven.org/maven2/org/scala-lang/scalap/2.12.8/scalap-2.12.8-sourc…\n",
            "\u001b[2K    0.0% [          ] 0B (0B / s)\n",
            "\u001b[2A\u001b[2A\u001b[2A\u001b[2A\u001b[2A\u001b[2A\u001b[10000D\u001b[2Khttps://repo1.maven.org/maven2/org/scala-lang/scala-compiler/2.12.8/scala-compi…\n",
            "\u001b[2K   17.5% [#         ] 1.7 MiB (8.9 MiB / s)\n",
            "\u001b[2Khttps://repo1.maven.org/maven2/org/scala-lang/scala-library/2.12.8/scala-librar…\n",
            "\u001b[2K    9.3% [          ] 480.0 KiB (3.3 MiB / s)\n",
            "\u001b[2Khttps://repo1.maven.org/maven2/org/scalameta/mtags_2.12/0.4.4/mtags_2.12-0.4.4-…\n",
            "\u001b[2K    0.0% [          ] 0B (0B / s)\n",
            "\u001b[2Khttps://repo1.maven.org/maven2/org/scalameta/transversers_2.12/4.1.4/transverse…\n",
            "\u001b[2K    0.0% [          ] 0B (0B / s)\n",
            "\u001b[2Khttps://repo1.maven.org/maven2/org/wildfly/client/wildfly-client-config/1.0.0.F…\n",
            "\u001b[2K    0.0% [          ] 0B (0B / s)\n",
            "\u001b[2Khttps://repo1.maven.org/maven2/org/scala-lang/scalap/2.12.8/scalap-2.12.8-sourc…\n",
            "\u001b[2K    0.0% [          ] 0B (0B / s)\n",
            "\u001b[2A\u001b[2A\u001b[2A\u001b[2A\u001b[2A\u001b[2A\u001b[10000D\u001b[2Khttps://repo1.maven.org/maven2/org/scalameta/transversers_2.12/4.1.4/transverse…\n",
            "\u001b[2K  100.0% [##########] 94.3 KiB (698.4 KiB / s)\n",
            "\u001b[2Khttps://repo1.maven.org/maven2/org/scala-lang/scala-library/2.12.8/scala-librar…\n",
            "\u001b[2K   20.8% [##        ] 1.0 MiB (6.4 MiB / s)\n",
            "\u001b[2Khttps://repo1.maven.org/maven2/org/scala-lang/scala-compiler/2.12.8/scala-compi…\n",
            "\u001b[2K   18.2% [#         ] 1.8 MiB (8.5 MiB / s)\n",
            "\u001b[2Khttps://repo1.maven.org/maven2/org/scalameta/mtags_2.12/0.4.4/mtags_2.12-0.4.4-…\n",
            "\u001b[2K    0.0% [          ] 0B (0B / s)\n",
            "\u001b[2Khttps://repo1.maven.org/maven2/org/wildfly/client/wildfly-client-config/1.0.0.F…\n",
            "\u001b[2K    0.0% [          ] 0B (0B / s)\n",
            "\u001b[2Khttps://repo1.maven.org/maven2/org/scala-lang/scalap/2.12.8/scalap-2.12.8-sourc…\n",
            "\u001b[2K    0.0% [          ] 0B (0B / s)\n",
            "\u001b[2Khttps://repo1.maven.org/maven2/org/scalameta/mtags_2.12/0.4.4/mtags_2.12-0.4.4.…\n",
            "\u001b[2K    0.0% [          ] 0B (0B / s)\n",
            "\u001b[2A\u001b[2A\u001b[2A\u001b[2A\u001b[2A\u001b[2A\u001b[10000D\u001b[2Khttps://repo1.maven.org/maven2/org/wildfly/client/wildfly-client-config/1.0.0.F…\n",
            "\u001b[2K  100.0% [##########] 35.6 KiB (269.6 KiB / s)\n",
            "\u001b[2Khttps://repo1.maven.org/maven2/org/scala-lang/scalap/2.12.8/scalap-2.12.8-sourc…\n",
            "\u001b[2K  100.0% [##########] 38.1 KiB (292.9 KiB / s)\n",
            "\u001b[2Khttps://repo1.maven.org/maven2/org/scala-lang/scala-library/2.12.8/scala-librar…\n",
            "\u001b[2K   33.9% [###       ] 1.7 MiB (9.3 MiB / s)\n",
            "\u001b[2Khttps://repo1.maven.org/maven2/org/scala-lang/scala-compiler/2.12.8/scala-compi…\n",
            "\u001b[2K   18.2% [#         ] 1.8 MiB (7.7 MiB / s)\n",
            "\u001b[2Khttps://repo1.maven.org/maven2/org/scalameta/mtags_2.12/0.4.4/mtags_2.12-0.4.4-…\n",
            "\u001b[2K    0.0% [          ] 0B (0B / s)\n",
            "\u001b[2Khttps://repo1.maven.org/maven2/org/scalameta/mtags_2.12/0.4.4/mtags_2.12-0.4.4.…\n",
            "\u001b[2K    0.0% [          ] 0B (0B / s)\n",
            "\u001b[2Khttps://repo1.maven.org/maven2/net/java/dev/jna/jna/4.2.2/jna-4.2.2.jar\n",
            "\u001b[2K    0.0% [          ] 0B (0B / s)\n",
            "\u001b[2A\u001b[2A\u001b[2A\u001b[2A\u001b[2A\u001b[2A\u001b[10000D\u001b[2Khttps://repo1.maven.org/maven2/org/scala-lang/scalap/2.12.8/scalap-2.12.8-sourc…\n",
            "\u001b[2K  100.0% [##########] 38.1 KiB (255.5 KiB / s)\n",
            "\u001b[2Khttps://repo1.maven.org/maven2/org/scala-lang/scala-library/2.12.8/scala-librar…\n",
            "\u001b[2K   37.3% [###       ] 1.9 MiB (9.2 MiB / s)\n",
            "\u001b[2Khttps://repo1.maven.org/maven2/org/scala-lang/scala-compiler/2.12.8/scala-compi…\n",
            "\u001b[2K   18.2% [#         ] 1.8 MiB (7.1 MiB / s)\n",
            "\u001b[2Khttps://repo1.maven.org/maven2/org/scalameta/mtags_2.12/0.4.4/mtags_2.12-0.4.4-…\n",
            "\u001b[2K    0.0% [          ] 0B (0B / s)\n",
            "\u001b[2Khttps://repo1.maven.org/maven2/org/scalameta/mtags_2.12/0.4.4/mtags_2.12-0.4.4.…\n",
            "\u001b[2K    0.0% [          ] 0B (0B / s)\n",
            "\u001b[2Khttps://repo1.maven.org/maven2/net/java/dev/jna/jna/4.2.2/jna-4.2.2.jar\n",
            "\u001b[2K    0.0% [          ] 0B (0B / s)\n",
            "\u001b[2Khttps://repo1.maven.org/maven2/org/scala-lang/modules/scala-xml_2.12/1.1.0/scal…\n",
            "\u001b[2K    0.0% [          ] 0B (0B / s)\n",
            "\u001b[2A\u001b[2A\u001b[2A\u001b[2A\u001b[2A\u001b[2A\u001b[10000D\u001b[2Khttps://repo1.maven.org/maven2/org/scala-lang/scala-library/2.12.8/scala-librar…\n",
            "\u001b[2K   37.3% [###       ] 1.9 MiB (8.4 MiB / s)\n",
            "\u001b[2Khttps://repo1.maven.org/maven2/org/scala-lang/scala-compiler/2.12.8/scala-compi…\n",
            "\u001b[2K   23.4% [##        ] 2.3 MiB (8.5 MiB / s)\n",
            "\u001b[2Khttps://repo1.maven.org/maven2/org/scalameta/mtags_2.12/0.4.4/mtags_2.12-0.4.4-…\n",
            "\u001b[2K    0.0% [          ] 0B (0B / s)\n",
            "\u001b[2Khttps://repo1.maven.org/maven2/org/scalameta/mtags_2.12/0.4.4/mtags_2.12-0.4.4.…\n",
            "\u001b[2K    0.0% [          ] 0B (0B / s)\n",
            "\u001b[2Khttps://repo1.maven.org/maven2/net/java/dev/jna/jna/4.2.2/jna-4.2.2.jar\n",
            "\u001b[2K    0.0% [          ] 0B (0B / s)\n",
            "\u001b[2Khttps://repo1.maven.org/maven2/org/scala-lang/modules/scala-xml_2.12/1.1.0/scal…\n",
            "\u001b[2K    0.0% [          ] 0B (0B / s)\n",
            "\u001b[2A\u001b[2A\u001b[2A\u001b[2A\u001b[2A\u001b[2A\u001b[10000D\u001b[2Khttps://repo1.maven.org/maven2/org/scalameta/mtags_2.12/0.4.4/mtags_2.12-0.4.4-…\n",
            "\u001b[2K  100.0% [##########] 24.5 KiB (65.0 KiB / s)\n",
            "\u001b[2Khttps://repo1.maven.org/maven2/org/scala-lang/scala-library/2.12.8/scala-librar…\n",
            "\u001b[2K   37.3% [###       ] 1.9 MiB (7.7 MiB / s)\n",
            "\u001b[2Khttps://repo1.maven.org/maven2/org/scala-lang/scala-compiler/2.12.8/scala-compi…\n",
            "\u001b[2K   31.7% [###       ] 3.2 MiB (10.7 MiB / s)\n",
            "\u001b[2Khttps://repo1.maven.org/maven2/org/scalameta/mtags_2.12/0.4.4/mtags_2.12-0.4.4.…\n",
            "\u001b[2K    0.0% [          ] 0B (0B / s)\n",
            "\u001b[2Khttps://repo1.maven.org/maven2/net/java/dev/jna/jna/4.2.2/jna-4.2.2.jar\n",
            "\u001b[2K    0.0% [          ] 0B (0B / s)\n",
            "\u001b[2Khttps://repo1.maven.org/maven2/org/scala-lang/modules/scala-xml_2.12/1.1.0/scal…\n",
            "\u001b[2K    0.0% [          ] 0B (0B / s)\n",
            "\u001b[2A\u001b[2A\u001b[2A\u001b[2A\u001b[2A\u001b[2A\u001b[10000D\u001b[2Khttps://repo1.maven.org/maven2/org/scalameta/mtags_2.12/0.4.4/mtags_2.12-0.4.4-…\n",
            "\u001b[2K  100.0% [##########] 24.5 KiB (61.7 KiB / s)\n",
            "\u001b[2Khttps://repo1.maven.org/maven2/org/scala-lang/scala-library/2.12.8/scala-librar…\n",
            "\u001b[2K   41.9% [####      ] 2.1 MiB (8.0 MiB / s)\n",
            "\u001b[2Khttps://repo1.maven.org/maven2/org/scala-lang/scala-compiler/2.12.8/scala-compi…\n",
            "\u001b[2K   41.5% [####      ] 4.2 MiB (13.2 MiB / s)\n",
            "\u001b[2Khttps://repo1.maven.org/maven2/org/scalameta/mtags_2.12/0.4.4/mtags_2.12-0.4.4.…\n",
            "\u001b[2K    0.0% [          ] 0B (0B / s)\n",
            "\u001b[2Khttps://repo1.maven.org/maven2/net/java/dev/jna/jna/4.2.2/jna-4.2.2.jar\n",
            "\u001b[2K    0.0% [          ] 0B (0B / s)\n",
            "\u001b[2Khttps://repo1.maven.org/maven2/org/scala-lang/modules/scala-xml_2.12/1.1.0/scal…\n",
            "\u001b[2K    0.0% [          ] 0B (0B / s)\n",
            "\u001b[2Khttps://repo1.maven.org/maven2/com/lihaoyi/ammonite-runtime_2.12/1.6.4/ammonite…\n",
            "\u001b[2K    0.0% [          ] 0B (0B / s)\n",
            "\u001b[2A\u001b[2A\u001b[2A\u001b[2A\u001b[2A\u001b[2A\u001b[10000D\u001b[2Khttps://repo1.maven.org/maven2/org/scala-lang/scala-library/2.12.8/scala-librar…\n",
            "\u001b[2K   56.9% [#####     ] 2.9 MiB (10.1 MiB / s)\n",
            "\u001b[2Khttps://repo1.maven.org/maven2/org/scala-lang/scala-compiler/2.12.8/scala-compi…\n",
            "\u001b[2K   47.4% [####      ] 4.8 MiB (14.1 MiB / s)\n",
            "\u001b[2Khttps://repo1.maven.org/maven2/org/scalameta/mtags_2.12/0.4.4/mtags_2.12-0.4.4.…\n",
            "\u001b[2K    0.0% [          ] 0B (0B / s)\n",
            "\u001b[2Khttps://repo1.maven.org/maven2/net/java/dev/jna/jna/4.2.2/jna-4.2.2.jar\n",
            "\u001b[2K    0.0% [          ] 0B (0B / s)\n",
            "\u001b[2Khttps://repo1.maven.org/maven2/org/scala-lang/modules/scala-xml_2.12/1.1.0/scal…\n",
            "\u001b[2K    0.0% [          ] 0B (0B / s)\n",
            "\u001b[2Khttps://repo1.maven.org/maven2/com/lihaoyi/ammonite-runtime_2.12/1.6.4/ammonite…\n",
            "\u001b[2K    0.0% [          ] 0B (0B / s)\n",
            "\u001b[2A\u001b[2A\u001b[2A\u001b[2A\u001b[2A\u001b[2A\u001b[10000D\u001b[2Khttps://repo1.maven.org/maven2/org/scalameta/mtags_2.12/0.4.4/mtags_2.12-0.4.4.…\n",
            "\u001b[2K  100.0% [##########] 261.9 KiB (1.8 MiB / s)\n",
            "\u001b[2Khttps://repo1.maven.org/maven2/org/scala-lang/scala-library/2.12.8/scala-librar…\n",
            "\u001b[2K   75.8% [#######   ] 3.8 MiB (12.6 MiB / s)\n",
            "\u001b[2Khttps://repo1.maven.org/maven2/org/scala-lang/scala-compiler/2.12.8/scala-compi…\n",
            "\u001b[2K   47.4% [####      ] 4.8 MiB (13.3 MiB / s)\n",
            "\u001b[2Khttps://repo1.maven.org/maven2/net/java/dev/jna/jna/4.2.2/jna-4.2.2.jar\n",
            "\u001b[2K    0.0% [          ] 0B (0B / s)\n",
            "\u001b[2Khttps://repo1.maven.org/maven2/org/scala-lang/modules/scala-xml_2.12/1.1.0/scal…\n",
            "\u001b[2K    0.0% [          ] 0B (0B / s)\n",
            "\u001b[2Khttps://repo1.maven.org/maven2/com/lihaoyi/ammonite-runtime_2.12/1.6.4/ammonite…\n",
            "\u001b[2K    0.0% [          ] 0B (0B / s)\n",
            "\u001b[2Khttps://repo1.maven.org/maven2/org/jline/jline-reader/3.6.2/jline-reader-3.6.2.…\n",
            "\u001b[2K    0.0% [          ] 0B (0B / s)\n",
            "\u001b[2A\u001b[2A\u001b[2A\u001b[2A\u001b[2A\u001b[2A\u001b[10000D\u001b[2Khttps://repo1.maven.org/maven2/org/scala-lang/scala-library/2.12.8/scala-librar…\n",
            "\u001b[2K   83.3% [########  ] 4.2 MiB (12.8 MiB / s)\n",
            "\u001b[2Khttps://repo1.maven.org/maven2/org/scala-lang/scala-compiler/2.12.8/scala-compi…\n",
            "\u001b[2K   47.4% [####      ] 4.8 MiB (12.5 MiB / s)\n",
            "\u001b[2Khttps://repo1.maven.org/maven2/net/java/dev/jna/jna/4.2.2/jna-4.2.2.jar\n",
            "\u001b[2K   10.0% [#         ] 111.5 KiB (768.8 KiB / s)\n",
            "\u001b[2Khttps://repo1.maven.org/maven2/org/scala-lang/modules/scala-xml_2.12/1.1.0/scal…\n",
            "\u001b[2K    0.0% [          ] 0B (0B / s)\n",
            "\u001b[2Khttps://repo1.maven.org/maven2/com/lihaoyi/ammonite-runtime_2.12/1.6.4/ammonite…\n",
            "\u001b[2K    0.0% [          ] 0B (0B / s)\n",
            "\u001b[2Khttps://repo1.maven.org/maven2/org/jline/jline-reader/3.6.2/jline-reader-3.6.2.…\n",
            "\u001b[2K    0.0% [          ] 0B (0B / s)\n",
            "\u001b[2A\u001b[2A\u001b[2A\u001b[2A\u001b[2A\u001b[2A\u001b[10000D\u001b[2Khttps://repo1.maven.org/maven2/org/scala-lang/modules/scala-xml_2.12/1.1.0/scal…\n",
            "\u001b[2K  100.0% [##########] 535.7 KiB (3.3 MiB / s)\n",
            "\u001b[2Khttps://repo1.maven.org/maven2/net/java/dev/jna/jna/4.2.2/jna-4.2.2.jar\n",
            "\u001b[2K   97.9% [######### ] 1.1 MiB (6.6 MiB / s)\n",
            "\u001b[2Khttps://repo1.maven.org/maven2/org/scala-lang/scala-library/2.12.8/scala-librar…\n",
            "\u001b[2K   96.6% [######### ] 4.9 MiB (14.2 MiB / s)\n",
            "\u001b[2Khttps://repo1.maven.org/maven2/org/scala-lang/scala-compiler/2.12.8/scala-compi…\n",
            "\u001b[2K   51.8% [#####     ] 5.2 MiB (13.1 MiB / s)\n",
            "\u001b[2Khttps://repo1.maven.org/maven2/com/lihaoyi/ammonite-runtime_2.12/1.6.4/ammonite…\n",
            "\u001b[2K    0.0% [          ] 0B (0B / s)\n",
            "\u001b[2Khttps://repo1.maven.org/maven2/org/jline/jline-reader/3.6.2/jline-reader-3.6.2.…\n",
            "\u001b[2K    0.0% [          ] 0B (0B / s)\n",
            "\u001b[2A\u001b[2A\u001b[2A\u001b[2A\u001b[2A\u001b[2A\u001b[10000D\u001b[2Khttps://repo1.maven.org/maven2/net/java/dev/jna/jna/4.2.2/jna-4.2.2.jar\n",
            "\u001b[2K  100.0% [##########] 1.1 MiB (6.0 MiB / s)\n",
            "\u001b[2Khttps://repo1.maven.org/maven2/org/scala-lang/modules/scala-xml_2.12/1.1.0/scal…\n",
            "\u001b[2K  100.0% [##########] 535.7 KiB (2.9 MiB / s)\n",
            "\u001b[2Khttps://repo1.maven.org/maven2/org/scala-lang/scala-library/2.12.8/scala-librar…\n",
            "\u001b[2K   96.6% [######### ] 4.9 MiB (13.4 MiB / s)\n",
            "\u001b[2Khttps://repo1.maven.org/maven2/org/scala-lang/scala-compiler/2.12.8/scala-compi…\n",
            "\u001b[2K   59.1% [#####     ] 5.9 MiB (14.2 MiB / s)\n",
            "\u001b[2Khttps://repo1.maven.org/maven2/com/lihaoyi/ammonite-runtime_2.12/1.6.4/ammonite…\n",
            "\u001b[2K    0.0% [          ] 0B (0B / s)\n",
            "\u001b[2Khttps://repo1.maven.org/maven2/org/jline/jline-reader/3.6.2/jline-reader-3.6.2.…\n",
            "\u001b[2K    0.0% [          ] 0B (0B / s)\n",
            "\u001b[2Khttps://repo1.maven.org/maven2/com/lihaoyi/scalaparse_2.12/2.1.0/scalaparse_2.1…\n",
            "\u001b[2K    0.0% [          ] 0B (0B / s)\n",
            "\u001b[2Khttps://repo1.maven.org/maven2/org/json4s/json4s-ast_2.12/3.6.2/json4s-ast_2.12…\n",
            "\u001b[2K    0.0% [          ] 0B (0B / s)\n",
            "\u001b[2A\u001b[2A\u001b[2A\u001b[2A\u001b[2A\u001b[2A\u001b[10000D\u001b[2Khttps://repo1.maven.org/maven2/com/lihaoyi/ammonite-runtime_2.12/1.6.4/ammonite…\n",
            "\u001b[2K  100.0% [##########] 219.3 KiB (1.5 MiB / s)\n",
            "\u001b[2Khttps://repo1.maven.org/maven2/org/scala-lang/scala-library/2.12.8/scala-librar…\n",
            "\u001b[2K   97.9% [######### ] 4.9 MiB (12.9 MiB / s)\n",
            "\u001b[2Khttps://repo1.maven.org/maven2/org/scala-lang/scala-compiler/2.12.8/scala-compi…\n",
            "\u001b[2K   68.6% [######    ] 6.9 MiB (15.8 MiB / s)\n",
            "\u001b[2Khttps://repo1.maven.org/maven2/org/jline/jline-reader/3.6.2/jline-reader-3.6.2.…\n",
            "\u001b[2K    0.0% [          ] 0B (0B / s)\n",
            "\u001b[2Khttps://repo1.maven.org/maven2/com/lihaoyi/scalaparse_2.12/2.1.0/scalaparse_2.1…\n",
            "\u001b[2K    0.0% [          ] 0B (0B / s)\n",
            "\u001b[2Khttps://repo1.maven.org/maven2/org/json4s/json4s-ast_2.12/3.6.2/json4s-ast_2.12…\n",
            "\u001b[2K    0.0% [          ] 0B (0B / s)\n",
            "\u001b[2Khttps://repo1.maven.org/maven2/com/lihaoyi/os-lib_2.12/0.2.6/os-lib_2.12-0.2.6.…\n",
            "\u001b[2K    0.0% [          ] 0B (0B / s)\n",
            "\u001b[2A\u001b[2A\u001b[2A\u001b[2A\u001b[2A\u001b[2A\u001b[10000D\u001b[2Khttps://repo1.maven.org/maven2/org/scala-lang/scala-library/2.12.8/scala-librar…\n",
            "\u001b[2K  100.0% [##########] 5.0 MiB (12.5 MiB / s)\n",
            "\u001b[2Khttps://repo1.maven.org/maven2/org/scala-lang/scala-compiler/2.12.8/scala-compi…\n",
            "\u001b[2K   77.0% [#######   ] 7.7 MiB (16.9 MiB / s)\n",
            "\u001b[2Khttps://repo1.maven.org/maven2/org/jline/jline-reader/3.6.2/jline-reader-3.6.2.…\n",
            "\u001b[2K    0.0% [          ] 0B (0B / s)\n",
            "\u001b[2Khttps://repo1.maven.org/maven2/com/lihaoyi/scalaparse_2.12/2.1.0/scalaparse_2.1…\n",
            "\u001b[2K    0.0% [          ] 0B (0B / s)\n",
            "\u001b[2Khttps://repo1.maven.org/maven2/org/json4s/json4s-ast_2.12/3.6.2/json4s-ast_2.12…\n",
            "\u001b[2K    0.0% [          ] 0B (0B / s)\n",
            "\u001b[2Khttps://repo1.maven.org/maven2/com/lihaoyi/os-lib_2.12/0.2.6/os-lib_2.12-0.2.6.…\n",
            "\u001b[2K    0.0% [          ] 0B (0B / s)\n",
            "\u001b[2Khttps://repo1.maven.org/maven2/org/scala-lang/modules/scala-collection-compat_2…\n",
            "\u001b[2K    0.0% [          ] 0B (0B / s)\n",
            "\u001b[2A\u001b[2A\u001b[2A\u001b[2A\u001b[2A\u001b[2A\u001b[10000D\u001b[2Khttps://repo1.maven.org/maven2/org/scala-lang/scala-compiler/2.12.8/scala-compi…\n",
            "\u001b[2K   77.0% [#######   ] 7.7 MiB (16.2 MiB / s)\n",
            "\u001b[2Khttps://repo1.maven.org/maven2/org/jline/jline-reader/3.6.2/jline-reader-3.6.2.…\n",
            "\u001b[2K    0.0% [          ] 0B (0B / s)\n",
            "\u001b[2Khttps://repo1.maven.org/maven2/com/lihaoyi/scalaparse_2.12/2.1.0/scalaparse_2.1…\n",
            "\u001b[2K    0.0% [          ] 0B (0B / s)\n",
            "\u001b[2Khttps://repo1.maven.org/maven2/org/json4s/json4s-ast_2.12/3.6.2/json4s-ast_2.12…\n",
            "\u001b[2K    0.0% [          ] 0B (0B / s)\n",
            "\u001b[2Khttps://repo1.maven.org/maven2/com/lihaoyi/os-lib_2.12/0.2.6/os-lib_2.12-0.2.6.…\n",
            "\u001b[2K    0.0% [          ] 0B (0B / s)\n",
            "\u001b[2Khttps://repo1.maven.org/maven2/org/scala-lang/modules/scala-collection-compat_2…\n",
            "\u001b[2K    0.0% [          ] 0B (0B / s)\n",
            "\u001b[2A\u001b[2A\u001b[2A\u001b[2A\u001b[2A\u001b[2A\u001b[10000D\u001b[2Khttps://repo1.maven.org/maven2/org/jline/jline-reader/3.6.2/jline-reader-3.6.2.…\n",
            "\u001b[2K  100.0% [##########] 128.6 KiB (857.4 KiB / s)\n",
            "\u001b[2Khttps://repo1.maven.org/maven2/org/scala-lang/scala-compiler/2.12.8/scala-compi…\n",
            "\u001b[2K   77.0% [#######   ] 7.7 MiB (15.6 MiB / s)\n",
            "\u001b[2Khttps://repo1.maven.org/maven2/com/lihaoyi/scalaparse_2.12/2.1.0/scalaparse_2.1…\n",
            "\u001b[2K    0.0% [          ] 0B (0B / s)\n",
            "\u001b[2Khttps://repo1.maven.org/maven2/org/json4s/json4s-ast_2.12/3.6.2/json4s-ast_2.12…\n",
            "\u001b[2K    0.0% [          ] 0B (0B / s)\n",
            "\u001b[2Khttps://repo1.maven.org/maven2/com/lihaoyi/os-lib_2.12/0.2.6/os-lib_2.12-0.2.6.…\n",
            "\u001b[2K    0.0% [          ] 0B (0B / s)\n",
            "\u001b[2Khttps://repo1.maven.org/maven2/org/scala-lang/modules/scala-collection-compat_2…\n",
            "\u001b[2K    0.0% [          ] 0B (0B / s)\n",
            "\u001b[2Khttps://repo1.maven.org/maven2/org/scalameta/scalameta_2.12/4.1.4/scalameta_2.1…\n",
            "\u001b[2K    0.0% [          ] 0B (0B / s)\n",
            "\u001b[2A\u001b[2A\u001b[2A\u001b[2A\u001b[2A\u001b[2A\u001b[10000D\u001b[2Khttps://repo1.maven.org/maven2/org/scala-lang/scala-compiler/2.12.8/scala-compi…\n",
            "\u001b[2K   80.0% [#######   ] 8.0 MiB (15.5 MiB / s)\n",
            "\u001b[2Khttps://repo1.maven.org/maven2/com/lihaoyi/scalaparse_2.12/2.1.0/scalaparse_2.1…\n",
            "\u001b[2K    0.0% [          ] 0B (0B / s)\n",
            "\u001b[2Khttps://repo1.maven.org/maven2/org/json4s/json4s-ast_2.12/3.6.2/json4s-ast_2.12…\n",
            "\u001b[2K    0.0% [          ] 0B (0B / s)\n",
            "\u001b[2Khttps://repo1.maven.org/maven2/com/lihaoyi/os-lib_2.12/0.2.6/os-lib_2.12-0.2.6.…\n",
            "\u001b[2K    0.0% [          ] 0B (0B / s)\n",
            "\u001b[2Khttps://repo1.maven.org/maven2/org/scala-lang/modules/scala-collection-compat_2…\n",
            "\u001b[2K    0.0% [          ] 0B (0B / s)\n",
            "\u001b[2Khttps://repo1.maven.org/maven2/org/scalameta/scalameta_2.12/4.1.4/scalameta_2.1…\n",
            "\u001b[2K    0.0% [          ] 0B (0B / s)\n",
            "\u001b[2A\u001b[2A\u001b[2A\u001b[2A\u001b[2A\u001b[2A\u001b[10000D\u001b[2Khttps://repo1.maven.org/maven2/com/lihaoyi/scalaparse_2.12/2.1.0/scalaparse_2.1…\n",
            "\u001b[2K  100.0% [##########] 11.5 KiB (83.4 KiB / s)\n",
            "\u001b[2Khttps://repo1.maven.org/maven2/org/json4s/json4s-ast_2.12/3.6.2/json4s-ast_2.12…\n",
            "\u001b[2K  100.0% [##########] 6.8 KiB (49.7 KiB / s)\n",
            "\u001b[2Khttps://repo1.maven.org/maven2/org/scala-lang/scala-compiler/2.12.8/scala-compi…\n",
            "\u001b[2K   86.7% [########  ] 8.7 MiB (16.2 MiB / s)\n",
            "\u001b[2Khttps://repo1.maven.org/maven2/com/lihaoyi/os-lib_2.12/0.2.6/os-lib_2.12-0.2.6.…\n",
            "\u001b[2K    0.0% [          ] 0B (0B / s)\n",
            "\u001b[2Khttps://repo1.maven.org/maven2/org/scala-lang/modules/scala-collection-compat_2…\n",
            "\u001b[2K    0.0% [          ] 0B (0B / s)\n",
            "\u001b[2Khttps://repo1.maven.org/maven2/org/scalameta/scalameta_2.12/4.1.4/scalameta_2.1…\n",
            "\u001b[2K    0.0% [          ] 0B (0B / s)\n",
            "\u001b[2Khttps://repo1.maven.org/maven2/org/scalameta/scalameta_2.12/4.1.4/scalameta_2.1…\n",
            "\u001b[2K    0.0% [          ] 0B (0B / s)\n",
            "\u001b[2Khttps://repo1.maven.org/maven2/com/github/alexarchambault/argonaut-shapeless_6.…\n",
            "\u001b[2K    0.0% [          ] 0B (0B / s)\n",
            "\u001b[2A\u001b[2A\u001b[2A\u001b[2A\u001b[2A\u001b[2A\u001b[10000D\u001b[2Khttps://repo1.maven.org/maven2/org/scala-lang/scala-compiler/2.12.8/scala-compi…\n",
            "\u001b[2K   95.4% [######### ] 9.6 MiB (17.2 MiB / s)\n",
            "\u001b[2Khttps://repo1.maven.org/maven2/com/lihaoyi/os-lib_2.12/0.2.6/os-lib_2.12-0.2.6.…\n",
            "\u001b[2K    0.0% [          ] 0B (0B / s)\n",
            "\u001b[2Khttps://repo1.maven.org/maven2/org/scala-lang/modules/scala-collection-compat_2…\n",
            "\u001b[2K    0.0% [          ] 0B (0B / s)\n",
            "\u001b[2Khttps://repo1.maven.org/maven2/org/scalameta/scalameta_2.12/4.1.4/scalameta_2.1…\n",
            "\u001b[2K    0.0% [          ] 0B (0B / s)\n",
            "\u001b[2Khttps://repo1.maven.org/maven2/org/scalameta/scalameta_2.12/4.1.4/scalameta_2.1…\n",
            "\u001b[2K    0.0% [          ] 0B (0B / s)\n",
            "\u001b[2Khttps://repo1.maven.org/maven2/com/github/alexarchambault/argonaut-shapeless_6.…\n",
            "\u001b[2K    0.0% [          ] 0B (0B / s)\n",
            "\u001b[2A\u001b[2A\u001b[2A\u001b[2A\u001b[2A\u001b[2A\u001b[10000D\u001b[2Khttps://repo1.maven.org/maven2/com/lihaoyi/os-lib_2.12/0.2.6/os-lib_2.12-0.2.6.…\n",
            "\u001b[2K  100.0% [##########] 317.7 KiB (2.2 MiB / s)\n",
            "\u001b[2Khttps://repo1.maven.org/maven2/org/scala-lang/modules/scala-collection-compat_2…\n",
            "\u001b[2K  100.0% [##########] 98.4 KiB (734.1 KiB / s)\n",
            "\u001b[2Khttps://repo1.maven.org/maven2/org/scala-lang/scala-compiler/2.12.8/scala-compi…\n",
            "\u001b[2K  100.0% [##########] 10.0 MiB (17.4 MiB / s)\n",
            "\u001b[2Khttps://repo1.maven.org/maven2/org/scalameta/scalameta_2.12/4.1.4/scalameta_2.1…\n",
            "\u001b[2K    0.0% [          ] 0B (0B / s)\n",
            "\u001b[2Khttps://repo1.maven.org/maven2/org/scalameta/scalameta_2.12/4.1.4/scalameta_2.1…\n",
            "\u001b[2K    0.0% [          ] 0B (0B / s)\n",
            "\u001b[2Khttps://repo1.maven.org/maven2/com/github/alexarchambault/argonaut-shapeless_6.…\n",
            "\u001b[2K    0.0% [          ] 0B (0B / s)\n",
            "\u001b[2Khttps://repo1.maven.org/maven2/com/thesamet/scalapb/scalapb-json4s_2.12/0.7.2/s…\n",
            "\u001b[2K    0.0% [          ] 0B (0B / s)\n",
            "\u001b[2Khttps://repo1.maven.org/maven2/org/scalameta/fastparse-utils_2.12/1.0.0/fastpar…\n",
            "\u001b[2K    0.0% [          ] 0B (0B / s)\n",
            "\u001b[2Khttps://repo1.maven.org/maven2/org/json4s/json4s-jackson_2.12/3.6.2/json4s-jack…\n",
            "\u001b[2K    0.0% [          ] 0B (0B / s)\n",
            "\u001b[2A\u001b[2A\u001b[2A\u001b[2A\u001b[2A\u001b[2A\u001b[10000D\u001b[2Khttps://repo1.maven.org/maven2/org/scalameta/scalameta_2.12/4.1.4/scalameta_2.1…\n",
            "\u001b[2K  100.0% [##########] 1.1 KiB (7.9 KiB / s)\n",
            "\u001b[2Khttps://repo1.maven.org/maven2/org/scalameta/scalameta_2.12/4.1.4/scalameta_2.1…\n",
            "\u001b[2K    0.0% [          ] 0B (0B / s)\n",
            "\u001b[2Khttps://repo1.maven.org/maven2/com/github/alexarchambault/argonaut-shapeless_6.…\n",
            "\u001b[2K    0.0% [          ] 0B (0B / s)\n",
            "\u001b[2Khttps://repo1.maven.org/maven2/com/thesamet/scalapb/scalapb-json4s_2.12/0.7.2/s…\n",
            "\u001b[2K    0.0% [          ] 0B (0B / s)\n",
            "\u001b[2Khttps://repo1.maven.org/maven2/org/scalameta/fastparse-utils_2.12/1.0.0/fastpar…\n",
            "\u001b[2K    0.0% [          ] 0B (0B / s)\n",
            "\u001b[2Khttps://repo1.maven.org/maven2/org/json4s/json4s-jackson_2.12/3.6.2/json4s-jack…\n",
            "\u001b[2K    0.0% [          ] 0B (0B / s)\n",
            "\u001b[2Khttps://repo1.maven.org/maven2/net/java/dev/jna/jna/4.2.2/jna-4.2.2-sources.jar\n",
            "\u001b[2K    0.0% [          ] 0B (0B / s)\n",
            "\u001b[2A\u001b[2A\u001b[2A\u001b[2A\u001b[2A\u001b[2A\u001b[10000D\u001b[2Khttps://repo1.maven.org/maven2/com/github/alexarchambault/argonaut-shapeless_6.…\n",
            "\u001b[2K  100.0% [##########] 6.5 KiB (44.8 KiB / s)\n",
            "\u001b[2Khttps://repo1.maven.org/maven2/org/scalameta/scalameta_2.12/4.1.4/scalameta_2.1…\n",
            "\u001b[2K  100.0% [##########] 15.0 KiB (102.5 KiB / s)\n",
            "\u001b[2Khttps://repo1.maven.org/maven2/com/thesamet/scalapb/scalapb-json4s_2.12/0.7.2/s…\n",
            "\u001b[2K    0.0% [          ] 0B (0B / s)\n",
            "\u001b[2Khttps://repo1.maven.org/maven2/org/scalameta/fastparse-utils_2.12/1.0.0/fastpar…\n",
            "\u001b[2K    0.0% [          ] 0B (0B / s)\n",
            "\u001b[2Khttps://repo1.maven.org/maven2/org/json4s/json4s-jackson_2.12/3.6.2/json4s-jack…\n",
            "\u001b[2K    0.0% [          ] 0B (0B / s)\n",
            "\u001b[2Khttps://repo1.maven.org/maven2/net/java/dev/jna/jna/4.2.2/jna-4.2.2-sources.jar\n",
            "\u001b[2K    0.0% [          ] 0B (0B / s)\n",
            "\u001b[2Khttps://repo1.maven.org/maven2/com/google/protobuf/protobuf-java/3.6.1/protobuf…\n",
            "\u001b[2K    0.0% [          ] 0B (0B / s)\n",
            "\u001b[2Khttps://jitpack.io/com/github/jupyter/jvm-repr/0.4.0/jvm-repr-0.4.0.jar\n",
            "\u001b[2K    0.0% [          ] 0B (0B / s)\n",
            "\u001b[2A\u001b[2A\u001b[2A\u001b[2A\u001b[2A\u001b[2A\u001b[10000D\u001b[2Khttps://repo1.maven.org/maven2/com/thesamet/scalapb/scalapb-json4s_2.12/0.7.2/s…\n",
            "\u001b[2K  100.0% [##########] 97.7 KiB (745.5 KiB / s)\n",
            "\u001b[2Khttps://repo1.maven.org/maven2/org/scalameta/fastparse-utils_2.12/1.0.0/fastpar…\n",
            "\u001b[2K    0.0% [          ] 0B (0B / s)\n",
            "\u001b[2Khttps://repo1.maven.org/maven2/org/json4s/json4s-jackson_2.12/3.6.2/json4s-jack…\n",
            "\u001b[2K    0.0% [          ] 0B (0B / s)\n",
            "\u001b[2Khttps://repo1.maven.org/maven2/net/java/dev/jna/jna/4.2.2/jna-4.2.2-sources.jar\n",
            "\u001b[2K    0.0% [          ] 0B (0B / s)\n",
            "\u001b[2Khttps://repo1.maven.org/maven2/com/google/protobuf/protobuf-java/3.6.1/protobuf…\n",
            "\u001b[2K    0.0% [          ] 0B (0B / s)\n",
            "\u001b[2Khttps://jitpack.io/com/github/jupyter/jvm-repr/0.4.0/jvm-repr-0.4.0.jar\n",
            "\u001b[2K    0.0% [          ] 0B (0B / s)\n",
            "\u001b[2A\u001b[2A\u001b[2A\u001b[2A\u001b[2A\u001b[2A\u001b[10000D\u001b[2Khttps://repo1.maven.org/maven2/com/thesamet/scalapb/scalapb-json4s_2.12/0.7.2/s…\n",
            "\u001b[2K  100.0% [##########] 97.7 KiB (646.8 KiB / s)\n",
            "\u001b[2Khttps://repo1.maven.org/maven2/org/json4s/json4s-jackson_2.12/3.6.2/json4s-jack…\n",
            "\u001b[2K  100.0% [##########] 6.4 KiB (45.3 KiB / s)\n",
            "\u001b[2Khttps://repo1.maven.org/maven2/org/scalameta/fastparse-utils_2.12/1.0.0/fastpar…\n",
            "\u001b[2K  100.0% [##########] 70.6 KiB (493.8 KiB / s)\n",
            "\u001b[2Khttps://repo1.maven.org/maven2/net/java/dev/jna/jna/4.2.2/jna-4.2.2-sources.jar\n",
            "\u001b[2K    0.0% [          ] 0B (0B / s)\n",
            "\u001b[2Khttps://repo1.maven.org/maven2/com/google/protobuf/protobuf-java/3.6.1/protobuf…\n",
            "\u001b[2K    0.0% [          ] 0B (0B / s)\n",
            "\u001b[2Khttps://jitpack.io/com/github/jupyter/jvm-repr/0.4.0/jvm-repr-0.4.0.jar\n",
            "\u001b[2K    0.0% [          ] 0B (0B / s)\n",
            "\u001b[2Khttps://repo1.maven.org/maven2/com/lihaoyi/upickle_2.12/0.7.1/upickle_2.12-0.7.…\n",
            "\u001b[2K    0.0% [          ] 0B (0B / s)\n",
            "\u001b[2Khttps://repo1.maven.org/maven2/org/scalameta/fastparse_2.12/1.0.0/fastparse_2.1…\n",
            "\u001b[2K    0.0% [          ] 0B (0B / s)\n",
            "\u001b[2Khttps://repo1.maven.org/maven2/com/fasterxml/jackson/core/jackson-core/2.9.6/ja…\n",
            "\u001b[2K    0.0% [          ] 0B (0B / s)\n",
            "\u001b[2A\u001b[2A\u001b[2A\u001b[2A\u001b[2A\u001b[2A\u001b[10000D\u001b[2Khttps://jitpack.io/com/github/jupyter/jvm-repr/0.4.0/jvm-repr-0.4.0.jar\n",
            "\u001b[2K  100.0% [##########] 6.5 KiB (87.3 KiB / s)\n",
            "\u001b[2Khttps://repo1.maven.org/maven2/net/java/dev/jna/jna/4.2.2/jna-4.2.2-sources.jar\n",
            "\u001b[2K    0.0% [          ] 0B (0B / s)\n",
            "\u001b[2Khttps://repo1.maven.org/maven2/com/google/protobuf/protobuf-java/3.6.1/protobuf…\n",
            "\u001b[2K    0.0% [          ] 0B (0B / s)\n",
            "\u001b[2Khttps://repo1.maven.org/maven2/com/lihaoyi/upickle_2.12/0.7.1/upickle_2.12-0.7.…\n",
            "\u001b[2K    0.0% [          ] 0B (0B / s)\n",
            "\u001b[2Khttps://repo1.maven.org/maven2/org/scalameta/fastparse_2.12/1.0.0/fastparse_2.1…\n",
            "\u001b[2K    0.0% [          ] 0B (0B / s)\n",
            "\u001b[2Khttps://repo1.maven.org/maven2/com/fasterxml/jackson/core/jackson-core/2.9.6/ja…\n",
            "\u001b[2K    0.0% [          ] 0B (0B / s)\n",
            "\u001b[2Khttps://repo1.maven.org/maven2/org/jline/jline-terminal-jna/3.6.2/jline-termina…\n",
            "\u001b[2K    0.0% [          ] 0B (0B / s)\n",
            "\u001b[2A\u001b[2A\u001b[2A\u001b[2A\u001b[2A\u001b[2A\u001b[10000D\u001b[2Khttps://repo1.maven.org/maven2/net/java/dev/jna/jna/4.2.2/jna-4.2.2-sources.jar\n",
            "\u001b[2K  100.0% [##########] 138.1 KiB (926.8 KiB / s)\n",
            "\u001b[2Khttps://repo1.maven.org/maven2/com/google/protobuf/protobuf-java/3.6.1/protobuf…\n",
            "\u001b[2K    0.0% [          ] 0B (0B / s)\n",
            "\u001b[2Khttps://repo1.maven.org/maven2/com/lihaoyi/upickle_2.12/0.7.1/upickle_2.12-0.7.…\n",
            "\u001b[2K    0.0% [          ] 0B (0B / s)\n",
            "\u001b[2Khttps://repo1.maven.org/maven2/org/scalameta/fastparse_2.12/1.0.0/fastparse_2.1…\n",
            "\u001b[2K    0.0% [          ] 0B (0B / s)\n",
            "\u001b[2Khttps://repo1.maven.org/maven2/com/fasterxml/jackson/core/jackson-core/2.9.6/ja…\n",
            "\u001b[2K    0.0% [          ] 0B (0B / s)\n",
            "\u001b[2Khttps://repo1.maven.org/maven2/org/jline/jline-terminal-jna/3.6.2/jline-termina…\n",
            "\u001b[2K    0.0% [          ] 0B (0B / s)\n",
            "\u001b[2Khttps://repo1.maven.org/maven2/com/github/alexarchambault/case-app_2.12/2.0.0-M…\n",
            "\u001b[2K    0.0% [          ] 0B (0B / s)\n",
            "\u001b[2A\u001b[2A\u001b[2A\u001b[2A\u001b[2A\u001b[2A\u001b[10000D\u001b[2Khttps://repo1.maven.org/maven2/com/google/protobuf/protobuf-java/3.6.1/protobuf…\n",
            "\u001b[2K   44.0% [####      ] 303.5 KiB (2.2 MiB / s)\n",
            "\u001b[2Khttps://repo1.maven.org/maven2/com/lihaoyi/upickle_2.12/0.7.1/upickle_2.12-0.7.…\n",
            "\u001b[2K    0.0% [          ] 0B (0B / s)\n",
            "\u001b[2Khttps://repo1.maven.org/maven2/org/scalameta/fastparse_2.12/1.0.0/fastparse_2.1…\n",
            "\u001b[2K    0.0% [          ] 0B (0B / s)\n",
            "\u001b[2Khttps://repo1.maven.org/maven2/com/fasterxml/jackson/core/jackson-core/2.9.6/ja…\n",
            "\u001b[2K    0.0% [          ] 0B (0B / s)\n",
            "\u001b[2Khttps://repo1.maven.org/maven2/org/jline/jline-terminal-jna/3.6.2/jline-termina…\n",
            "\u001b[2K    0.0% [          ] 0B (0B / s)\n",
            "\u001b[2Khttps://repo1.maven.org/maven2/com/github/alexarchambault/case-app_2.12/2.0.0-M…\n",
            "\u001b[2K    0.0% [          ] 0B (0B / s)\n",
            "\u001b[2A\u001b[2A\u001b[2A\u001b[2A\u001b[2A\u001b[2A\u001b[10000D\u001b[2Khttps://repo1.maven.org/maven2/com/google/protobuf/protobuf-java/3.6.1/protobuf…\n",
            "\u001b[2K  100.0% [##########] 690.1 KiB (4.3 MiB / s)\n",
            "\u001b[2Khttps://repo1.maven.org/maven2/com/lihaoyi/upickle_2.12/0.7.1/upickle_2.12-0.7.…\n",
            "\u001b[2K    0.0% [          ] 0B (0B / s)\n",
            "\u001b[2Khttps://repo1.maven.org/maven2/org/scalameta/fastparse_2.12/1.0.0/fastparse_2.1…\n",
            "\u001b[2K    0.0% [          ] 0B (0B / s)\n",
            "\u001b[2Khttps://repo1.maven.org/maven2/com/fasterxml/jackson/core/jackson-core/2.9.6/ja…\n",
            "\u001b[2K    0.0% [          ] 0B (0B / s)\n",
            "\u001b[2Khttps://repo1.maven.org/maven2/org/jline/jline-terminal-jna/3.6.2/jline-termina…\n",
            "\u001b[2K    0.0% [          ] 0B (0B / s)\n",
            "\u001b[2Khttps://repo1.maven.org/maven2/com/github/alexarchambault/case-app_2.12/2.0.0-M…\n",
            "\u001b[2K    0.0% [          ] 0B (0B / s)\n",
            "\u001b[2Khttps://repo1.maven.org/maven2/org/scalameta/transversers_2.12/4.1.4/transverse…\n",
            "\u001b[2K    0.0% [          ] 0B (0B / s)\n",
            "\u001b[2A\u001b[2A\u001b[2A\u001b[2A\u001b[2A\u001b[2A\u001b[10000D\u001b[2Khttps://repo1.maven.org/maven2/com/lihaoyi/upickle_2.12/0.7.1/upickle_2.12-0.7.…\n",
            "\u001b[2K  100.0% [##########] 90.7 KiB (652.4 KiB / s)\n",
            "\u001b[2Khttps://repo1.maven.org/maven2/org/scalameta/fastparse_2.12/1.0.0/fastparse_2.1…\n",
            "\u001b[2K    0.0% [          ] 0B (0B / s)\n",
            "\u001b[2Khttps://repo1.maven.org/maven2/com/fasterxml/jackson/core/jackson-core/2.9.6/ja…\n",
            "\u001b[2K    0.0% [          ] 0B (0B / s)\n",
            "\u001b[2Khttps://repo1.maven.org/maven2/org/jline/jline-terminal-jna/3.6.2/jline-termina…\n",
            "\u001b[2K    0.0% [          ] 0B (0B / s)\n",
            "\u001b[2Khttps://repo1.maven.org/maven2/com/github/alexarchambault/case-app_2.12/2.0.0-M…\n",
            "\u001b[2K    0.0% [          ] 0B (0B / s)\n",
            "\u001b[2Khttps://repo1.maven.org/maven2/org/scalameta/transversers_2.12/4.1.4/transverse…\n",
            "\u001b[2K    0.0% [          ] 0B (0B / s)\n",
            "\u001b[2Khttps://repo1.maven.org/maven2/com/github/alexarchambault/argonaut-shapeless_6.…\n",
            "\u001b[2K    0.0% [          ] 0B (0B / s)\n",
            "\u001b[2A\u001b[2A\u001b[2A\u001b[2A\u001b[2A\u001b[2A\u001b[10000D\u001b[2Khttps://repo1.maven.org/maven2/org/scalameta/fastparse_2.12/1.0.0/fastparse_2.1…\n",
            "\u001b[2K  100.0% [##########] 23.8 KiB (162.2 KiB / s)\n",
            "\u001b[2Khttps://repo1.maven.org/maven2/com/fasterxml/jackson/core/jackson-core/2.9.6/ja…\n",
            "\u001b[2K   78.0% [#######   ] 255.5 KiB (1.7 MiB / s)\n",
            "\u001b[2Khttps://repo1.maven.org/maven2/org/jline/jline-terminal-jna/3.6.2/jline-termina…\n",
            "\u001b[2K    0.0% [          ] 0B (0B / s)\n",
            "\u001b[2Khttps://repo1.maven.org/maven2/com/github/alexarchambault/case-app_2.12/2.0.0-M…\n",
            "\u001b[2K    0.0% [          ] 0B (0B / s)\n",
            "\u001b[2Khttps://repo1.maven.org/maven2/org/scalameta/transversers_2.12/4.1.4/transverse…\n",
            "\u001b[2K    0.0% [          ] 0B (0B / s)\n",
            "\u001b[2Khttps://repo1.maven.org/maven2/com/github/alexarchambault/argonaut-shapeless_6.…\n",
            "\u001b[2K    0.0% [          ] 0B (0B / s)\n",
            "\u001b[2Khttps://repo1.maven.org/maven2/com/lihaoyi/ujson_2.12/0.7.1/ujson_2.12-0.7.1.jar\n",
            "\u001b[2K    0.0% [          ] 0B (0B / s)\n",
            "\u001b[2A\u001b[2A\u001b[2A\u001b[2A\u001b[2A\u001b[2A\u001b[10000D\u001b[2Khttps://repo1.maven.org/maven2/com/fasterxml/jackson/core/jackson-core/2.9.6/ja…\n",
            "\u001b[2K  100.0% [##########] 327.7 KiB (2.0 MiB / s)\n",
            "\u001b[2Khttps://repo1.maven.org/maven2/com/github/alexarchambault/case-app_2.12/2.0.0-M…\n",
            "\u001b[2K  100.0% [##########] 33.2 KiB (240.5 KiB / s)\n",
            "\u001b[2Khttps://repo1.maven.org/maven2/org/jline/jline-terminal-jna/3.6.2/jline-termina…\n",
            "\u001b[2K  100.0% [##########] 31.5 KiB (217.3 KiB / s)\n",
            "\u001b[2Khttps://repo1.maven.org/maven2/org/scalameta/transversers_2.12/4.1.4/transverse…\n",
            "\u001b[2K    0.0% [          ] 0B (0B / s)\n",
            "\u001b[2Khttps://repo1.maven.org/maven2/com/github/alexarchambault/argonaut-shapeless_6.…\n",
            "\u001b[2K    0.0% [          ] 0B (0B / s)\n",
            "\u001b[2Khttps://repo1.maven.org/maven2/com/lihaoyi/ujson_2.12/0.7.1/ujson_2.12-0.7.1.jar\n",
            "\u001b[2K    0.0% [          ] 0B (0B / s)\n",
            "\u001b[2Khttps://repo1.maven.org/maven2/org/scalameta/metacp_2.12/4.1.4/metacp_2.12-4.1.…\n",
            "\u001b[2K    0.0% [          ] 0B (0B / s)\n",
            "\u001b[2Khttps://repo1.maven.org/maven2/com/lihaoyi/ammonite-util_2.12/1.6.4/ammonite-ut…\n",
            "\u001b[2K    0.0% [          ] 0B (0B / s)\n",
            "\u001b[2Khttps://repo1.maven.org/maven2/com/thesamet/scalapb/lenses_2.12/0.8.4/lenses_2.…\n",
            "\u001b[2K    0.0% [          ] 0B (0B / s)\n",
            "\u001b[2A\u001b[2A\u001b[2A\u001b[2A\u001b[2A\u001b[2A\u001b[10000D\u001b[2Khttps://repo1.maven.org/maven2/org/scalameta/transversers_2.12/4.1.4/transverse…\n",
            "\u001b[2K  100.0% [##########] 2.1 KiB (16.3 KiB / s)\n",
            "\u001b[2Khttps://repo1.maven.org/maven2/com/github/alexarchambault/argonaut-shapeless_6.…\n",
            "\u001b[2K    0.0% [          ] 0B (0B / s)\n",
            "\u001b[2Khttps://repo1.maven.org/maven2/com/lihaoyi/ujson_2.12/0.7.1/ujson_2.12-0.7.1.jar\n",
            "\u001b[2K    0.0% [          ] 0B (0B / s)\n",
            "\u001b[2Khttps://repo1.maven.org/maven2/org/scalameta/metacp_2.12/4.1.4/metacp_2.12-4.1.…\n",
            "\u001b[2K    0.0% [          ] 0B (0B / s)\n",
            "\u001b[2Khttps://repo1.maven.org/maven2/com/lihaoyi/ammonite-util_2.12/1.6.4/ammonite-ut…\n",
            "\u001b[2K    0.0% [          ] 0B (0B / s)\n",
            "\u001b[2Khttps://repo1.maven.org/maven2/com/thesamet/scalapb/lenses_2.12/0.8.4/lenses_2.…\n",
            "\u001b[2K    0.0% [          ] 0B (0B / s)\n",
            "\u001b[2Khttps://repo1.maven.org/maven2/com/lihaoyi/pprint_2.12/0.5.2/pprint_2.12-0.5.2-…\n",
            "\u001b[2K    0.0% [          ] 0B\n",
            "\u001b[2A\u001b[2A\u001b[2A\u001b[2A\u001b[2A\u001b[2A\u001b[10000D\u001b[2Khttps://repo1.maven.org/maven2/com/github/alexarchambault/argonaut-shapeless_6.…\n",
            "\u001b[2K  100.0% [##########] 89.5 KiB (612.9 KiB / s)\n",
            "\u001b[2Khttps://repo1.maven.org/maven2/com/lihaoyi/ujson_2.12/0.7.1/ujson_2.12-0.7.1.jar\n",
            "\u001b[2K    0.0% [          ] 0B (0B / s)\n",
            "\u001b[2Khttps://repo1.maven.org/maven2/org/scalameta/metacp_2.12/4.1.4/metacp_2.12-4.1.…\n",
            "\u001b[2K    0.0% [          ] 0B (0B / s)\n",
            "\u001b[2Khttps://repo1.maven.org/maven2/com/lihaoyi/ammonite-util_2.12/1.6.4/ammonite-ut…\n",
            "\u001b[2K    0.0% [          ] 0B (0B / s)\n",
            "\u001b[2Khttps://repo1.maven.org/maven2/com/thesamet/scalapb/lenses_2.12/0.8.4/lenses_2.…\n",
            "\u001b[2K    0.0% [          ] 0B (0B / s)\n",
            "\u001b[2Khttps://repo1.maven.org/maven2/com/lihaoyi/pprint_2.12/0.5.2/pprint_2.12-0.5.2-…\n",
            "\u001b[2K    0.0% [          ] 0B (0B / s)\n",
            "\u001b[2Khttps://repo1.maven.org/maven2/com/lihaoyi/utest_2.12/0.6.4/utest_2.12-0.6.4-so…\n",
            "\u001b[2K    0.0% [          ] 0B (0B / s)\n",
            "\u001b[2A\u001b[2A\u001b[2A\u001b[2A\u001b[2A\u001b[2A\u001b[10000D\u001b[2Khttps://repo1.maven.org/maven2/com/lihaoyi/ujson_2.12/0.7.1/ujson_2.12-0.7.1.jar\n",
            "\u001b[2K    0.0% [          ] 0B (0B / s)\n",
            "\u001b[2Khttps://repo1.maven.org/maven2/org/scalameta/metacp_2.12/4.1.4/metacp_2.12-4.1.…\n",
            "\u001b[2K    0.0% [          ] 0B (0B / s)\n",
            "\u001b[2Khttps://repo1.maven.org/maven2/com/lihaoyi/ammonite-util_2.12/1.6.4/ammonite-ut…\n",
            "\u001b[2K    0.0% [          ] 0B (0B / s)\n",
            "\u001b[2Khttps://repo1.maven.org/maven2/com/thesamet/scalapb/lenses_2.12/0.8.4/lenses_2.…\n",
            "\u001b[2K    0.0% [          ] 0B (0B / s)\n",
            "\u001b[2Khttps://repo1.maven.org/maven2/com/lihaoyi/pprint_2.12/0.5.2/pprint_2.12-0.5.2-…\n",
            "\u001b[2K    0.0% [          ] 0B (0B / s)\n",
            "\u001b[2Khttps://repo1.maven.org/maven2/com/lihaoyi/utest_2.12/0.6.4/utest_2.12-0.6.4-so…\n",
            "\u001b[2K    0.0% [          ] 0B (0B / s)\n",
            "\u001b[2A\u001b[2A\u001b[2A\u001b[2A\u001b[2A\u001b[2A\u001b[10000D\u001b[2Khttps://repo1.maven.org/maven2/com/lihaoyi/ujson_2.12/0.7.1/ujson_2.12-0.7.1.jar\n",
            "\u001b[2K    0.0% [          ] 0B (0B / s)\n",
            "\u001b[2Khttps://repo1.maven.org/maven2/org/scalameta/metacp_2.12/4.1.4/metacp_2.12-4.1.…\n",
            "\u001b[2K    0.0% [          ] 0B (0B / s)\n",
            "\u001b[2Khttps://repo1.maven.org/maven2/com/lihaoyi/ammonite-util_2.12/1.6.4/ammonite-ut…\n",
            "\u001b[2K    0.0% [          ] 0B (0B / s)\n",
            "\u001b[2Khttps://repo1.maven.org/maven2/com/thesamet/scalapb/lenses_2.12/0.8.4/lenses_2.…\n",
            "\u001b[2K    0.0% [          ] 0B (0B / s)\n",
            "\u001b[2Khttps://repo1.maven.org/maven2/com/lihaoyi/pprint_2.12/0.5.2/pprint_2.12-0.5.2-…\n",
            "\u001b[2K    0.0% [          ] 0B (0B / s)\n",
            "\u001b[2Khttps://repo1.maven.org/maven2/com/lihaoyi/utest_2.12/0.6.4/utest_2.12-0.6.4-so…\n",
            "\u001b[2K    0.0% [          ] 0B (0B / s)\n",
            "\u001b[2A\u001b[2A\u001b[2A\u001b[2A\u001b[2A\u001b[2A\u001b[10000D\u001b[2Khttps://repo1.maven.org/maven2/com/lihaoyi/ammonite-util_2.12/1.6.4/ammonite-ut…\n",
            "\u001b[2K  100.0% [##########] 9.4 KiB (54.2 KiB / s)\n",
            "\u001b[2Khttps://repo1.maven.org/maven2/com/lihaoyi/ujson_2.12/0.7.1/ujson_2.12-0.7.1.jar\n",
            "\u001b[2K  100.0% [##########] 193.4 KiB (1.0 MiB / s)\n",
            "\u001b[2Khttps://repo1.maven.org/maven2/com/thesamet/scalapb/lenses_2.12/0.8.4/lenses_2.…\n",
            "\u001b[2K  100.0% [##########] 3.2 KiB (18.9 KiB / s)\n",
            "\u001b[2Khttps://repo1.maven.org/maven2/org/scalameta/metacp_2.12/4.1.4/metacp_2.12-4.1.…\n",
            "\u001b[2K  100.0% [##########] 343.9 KiB (1.9 MiB / s)\n",
            "\u001b[2Khttps://repo1.maven.org/maven2/com/lihaoyi/pprint_2.12/0.5.2/pprint_2.12-0.5.2-…\n",
            "\u001b[2K    0.0% [          ] 0B (0B / s)\n",
            "\u001b[2Khttps://repo1.maven.org/maven2/com/lihaoyi/utest_2.12/0.6.4/utest_2.12-0.6.4-so…\n",
            "\u001b[2K    0.0% [          ] 0B (0B / s)\n",
            "\u001b[2Khttps://repo1.maven.org/maven2/org/jboss/logging/jboss-logging/3.3.2.Final/jbos…\n",
            "\u001b[2K    0.0% [          ] 0B (0B / s)\n",
            "\u001b[2Khttps://repo1.maven.org/maven2/com/lihaoyi/acyclic_2.12/0.1.5/acyclic_2.12-0.1.…\n",
            "\u001b[2K    0.0% [          ] 0B (0B / s)\n",
            "\u001b[2Khttps://repo1.maven.org/maven2/io/undertow/undertow-core/2.0.17.Final/undertow-…\n",
            "\u001b[2K    0.0% [          ] 0B (0B / s)\n",
            "\u001b[2Khttps://repo1.maven.org/maven2/org/scodec/scodec-bits_2.12/1.1.9/scodec-bits_2.…\n",
            "\u001b[2K    0.0% [          ] 0B (0B / s)\n",
            "\u001b[2A\u001b[2A\u001b[2A\u001b[2A\u001b[2A\u001b[2A\u001b[10000D\u001b[2Khttps://repo1.maven.org/maven2/com/lihaoyi/pprint_2.12/0.5.2/pprint_2.12-0.5.2-…\n",
            "\u001b[2K  100.0% [##########] 11.7 KiB (84.3 KiB / s)\n",
            "\u001b[2Khttps://repo1.maven.org/maven2/com/lihaoyi/utest_2.12/0.6.4/utest_2.12-0.6.4-so…\n",
            "\u001b[2K    0.0% [          ] 0B (0B / s)\n",
            "\u001b[2Khttps://repo1.maven.org/maven2/org/jboss/logging/jboss-logging/3.3.2.Final/jbos…\n",
            "\u001b[2K    0.0% [          ] 0B (0B / s)\n",
            "\u001b[2Khttps://repo1.maven.org/maven2/com/lihaoyi/acyclic_2.12/0.1.5/acyclic_2.12-0.1.…\n",
            "\u001b[2K    0.0% [          ] 0B (0B / s)\n",
            "\u001b[2Khttps://repo1.maven.org/maven2/io/undertow/undertow-core/2.0.17.Final/undertow-…\n",
            "\u001b[2K    0.0% [          ] 0B (0B / s)\n",
            "\u001b[2Khttps://repo1.maven.org/maven2/org/scodec/scodec-bits_2.12/1.1.9/scodec-bits_2.…\n",
            "\u001b[2K    0.0% [          ] 0B (0B / s)\n",
            "\u001b[2Khttps://repo1.maven.org/maven2/org/jline/jline-terminal/3.6.2/jline-terminal-3.…\n",
            "\u001b[2K    0.0% [          ] 0B (0B / s)\n",
            "\u001b[2A\u001b[2A\u001b[2A\u001b[2A\u001b[2A\u001b[2A\u001b[10000D\u001b[2Khttps://repo1.maven.org/maven2/com/lihaoyi/utest_2.12/0.6.4/utest_2.12-0.6.4-so…\n",
            "\u001b[2K  100.0% [##########] 37.1 KiB (287.4 KiB / s)\n",
            "\u001b[2Khttps://repo1.maven.org/maven2/org/jboss/logging/jboss-logging/3.3.2.Final/jbos…\n",
            "\u001b[2K    0.0% [          ] 0B (0B / s)\n",
            "\u001b[2Khttps://repo1.maven.org/maven2/com/lihaoyi/acyclic_2.12/0.1.5/acyclic_2.12-0.1.…\n",
            "\u001b[2K    0.0% [          ] 0B (0B / s)\n",
            "\u001b[2Khttps://repo1.maven.org/maven2/io/undertow/undertow-core/2.0.17.Final/undertow-…\n",
            "\u001b[2K    0.0% [          ] 0B (0B / s)\n",
            "\u001b[2Khttps://repo1.maven.org/maven2/org/scodec/scodec-bits_2.12/1.1.9/scodec-bits_2.…\n",
            "\u001b[2K    0.0% [          ] 0B (0B / s)\n",
            "\u001b[2Khttps://repo1.maven.org/maven2/org/jline/jline-terminal/3.6.2/jline-terminal-3.…\n",
            "\u001b[2K    0.0% [          ] 0B (0B / s)\n",
            "\u001b[2A\u001b[2A\u001b[2A\u001b[2A\u001b[2A\u001b[2A\u001b[10000D\u001b[2Khttps://repo1.maven.org/maven2/com/lihaoyi/utest_2.12/0.6.4/utest_2.12-0.6.4-so…\n",
            "\u001b[2K  100.0% [##########] 37.1 KiB (248.8 KiB / s)\n",
            "\u001b[2Khttps://repo1.maven.org/maven2/org/jboss/logging/jboss-logging/3.3.2.Final/jbos…\n",
            "\u001b[2K    0.0% [          ] 0B (0B / s)\n",
            "\u001b[2Khttps://repo1.maven.org/maven2/com/lihaoyi/acyclic_2.12/0.1.5/acyclic_2.12-0.1.…\n",
            "\u001b[2K    0.0% [          ] 0B (0B / s)\n",
            "\u001b[2Khttps://repo1.maven.org/maven2/io/undertow/undertow-core/2.0.17.Final/undertow-…\n",
            "\u001b[2K    0.0% [          ] 0B (0B / s)\n",
            "\u001b[2Khttps://repo1.maven.org/maven2/org/scodec/scodec-bits_2.12/1.1.9/scodec-bits_2.…\n",
            "\u001b[2K    0.0% [          ] 0B (0B / s)\n",
            "\u001b[2Khttps://repo1.maven.org/maven2/org/jline/jline-terminal/3.6.2/jline-terminal-3.…\n",
            "\u001b[2K    0.0% [          ] 0B (0B / s)\n",
            "\u001b[2Khttps://repo1.maven.org/maven2/org/scalameta/tokens_2.12/4.1.4/tokens_2.12-4.1.…\n",
            "\u001b[2K    0.0% [          ] 0B (0B / s)\n",
            "\u001b[2A\u001b[2A\u001b[2A\u001b[2A\u001b[2A\u001b[2A\u001b[10000D\u001b[2Khttps://repo1.maven.org/maven2/org/jboss/logging/jboss-logging/3.3.2.Final/jbos…\n",
            "\u001b[2K  100.0% [##########] 64.9 KiB (499.3 KiB / s)\n",
            "\u001b[2Khttps://repo1.maven.org/maven2/com/lihaoyi/acyclic_2.12/0.1.5/acyclic_2.12-0.1.…\n",
            "\u001b[2K    0.0% [          ] 0B (0B / s)\n",
            "\u001b[2Khttps://repo1.maven.org/maven2/io/undertow/undertow-core/2.0.17.Final/undertow-…\n",
            "\u001b[2K    0.0% [          ] 0B (0B / s)\n",
            "\u001b[2Khttps://repo1.maven.org/maven2/org/scodec/scodec-bits_2.12/1.1.9/scodec-bits_2.…\n",
            "\u001b[2K    0.0% [          ] 0B (0B / s)\n",
            "\u001b[2Khttps://repo1.maven.org/maven2/org/jline/jline-terminal/3.6.2/jline-terminal-3.…\n",
            "\u001b[2K    0.0% [          ] 0B (0B / s)\n",
            "\u001b[2Khttps://repo1.maven.org/maven2/org/scalameta/tokens_2.12/4.1.4/tokens_2.12-4.1.…\n",
            "\u001b[2K    0.0% [          ] 0B (0B / s)\n",
            "\u001b[2Khttps://repo1.maven.org/maven2/org/scalameta/semanticdb_2.12/4.1.4/semanticdb_2…\n",
            "\u001b[2K    0.0% [          ] 0B (0B / s)\n",
            "\u001b[2A\u001b[2A\u001b[2A\u001b[2A\u001b[2A\u001b[2A\u001b[10000D\u001b[2Khttps://repo1.maven.org/maven2/com/lihaoyi/acyclic_2.12/0.1.5/acyclic_2.12-0.1.…\n",
            "\u001b[2K  100.0% [##########] 6.3 KiB (42.4 KiB / s)\n",
            "\u001b[2Khttps://repo1.maven.org/maven2/io/undertow/undertow-core/2.0.17.Final/undertow-…\n",
            "\u001b[2K  100.0% [##########] 1.2 MiB (8.2 MiB / s)\n",
            "\u001b[2Khttps://repo1.maven.org/maven2/org/scodec/scodec-bits_2.12/1.1.9/scodec-bits_2.…\n",
            "\u001b[2K  100.0% [##########] 37.6 KiB (257.3 KiB / s)\n",
            "\u001b[2Khttps://repo1.maven.org/maven2/org/jline/jline-terminal/3.6.2/jline-terminal-3.…\n",
            "\u001b[2K    0.0% [          ] 0B (0B / s)\n",
            "\u001b[2Khttps://repo1.maven.org/maven2/org/scalameta/tokens_2.12/4.1.4/tokens_2.12-4.1.…\n",
            "\u001b[2K    0.0% [          ] 0B (0B / s)\n",
            "\u001b[2Khttps://repo1.maven.org/maven2/org/scalameta/semanticdb_2.12/4.1.4/semanticdb_2…\n",
            "\u001b[2K    0.0% [          ] 0B (0B / s)\n",
            "\u001b[2Khttps://repo1.maven.org/maven2/org/typelevel/cats-core_2.12/1.6.0/cats-core_2.1…\n",
            "\u001b[2K    0.0% [          ] 0B (0B / s)\n",
            "\u001b[2Khttps://repo1.maven.org/maven2/org/wildfly/client/wildfly-client-config/1.0.0.F…\n",
            "\u001b[2K    0.0% [          ] 0B (0B / s)\n",
            "\u001b[2Khttps://repo1.maven.org/maven2/org/json4s/json4s-ast_2.12/3.6.2/json4s-ast_2.12…\n",
            "\u001b[2K    0.0% [          ] 0B (0B / s)\n",
            "\u001b[2A\u001b[2A\u001b[2A\u001b[2A\u001b[2A\u001b[2A\u001b[10000D\u001b[2Khttps://repo1.maven.org/maven2/org/jline/jline-terminal/3.6.2/jline-terminal-3.…\n",
            "\u001b[2K    0.0% [          ] 0B (0B / s)\n",
            "\u001b[2Khttps://repo1.maven.org/maven2/org/scalameta/tokens_2.12/4.1.4/tokens_2.12-4.1.…\n",
            "\u001b[2K    0.0% [          ] 0B (0B / s)\n",
            "\u001b[2Khttps://repo1.maven.org/maven2/org/scalameta/semanticdb_2.12/4.1.4/semanticdb_2…\n",
            "\u001b[2K    0.0% [          ] 0B (0B / s)\n",
            "\u001b[2Khttps://repo1.maven.org/maven2/org/typelevel/cats-core_2.12/1.6.0/cats-core_2.1…\n",
            "\u001b[2K    0.0% [          ] 0B (0B / s)\n",
            "\u001b[2Khttps://repo1.maven.org/maven2/org/wildfly/client/wildfly-client-config/1.0.0.F…\n",
            "\u001b[2K    0.0% [          ] 0B (0B / s)\n",
            "\u001b[2Khttps://repo1.maven.org/maven2/org/json4s/json4s-ast_2.12/3.6.2/json4s-ast_2.12…\n",
            "\u001b[2K    0.0% [          ] 0B (0B / s)\n",
            "\u001b[2A\u001b[2A\u001b[2A\u001b[2A\u001b[2A\u001b[2A\u001b[10000D\u001b[2Khttps://repo1.maven.org/maven2/org/jline/jline-terminal/3.6.2/jline-terminal-3.…\n",
            "\u001b[2K  100.0% [##########] 119.3 KiB (806.0 KiB / s)\n",
            "\u001b[2Khttps://repo1.maven.org/maven2/org/scalameta/tokens_2.12/4.1.4/tokens_2.12-4.1.…\n",
            "\u001b[2K    0.0% [          ] 0B (0B / s)\n",
            "\u001b[2Khttps://repo1.maven.org/maven2/org/scalameta/semanticdb_2.12/4.1.4/semanticdb_2…\n",
            "\u001b[2K    0.0% [          ] 0B (0B / s)\n",
            "\u001b[2Khttps://repo1.maven.org/maven2/org/typelevel/cats-core_2.12/1.6.0/cats-core_2.1…\n",
            "\u001b[2K    0.0% [          ] 0B (0B / s)\n",
            "\u001b[2Khttps://repo1.maven.org/maven2/org/wildfly/client/wildfly-client-config/1.0.0.F…\n",
            "\u001b[2K    0.0% [          ] 0B (0B / s)\n",
            "\u001b[2Khttps://repo1.maven.org/maven2/org/json4s/json4s-ast_2.12/3.6.2/json4s-ast_2.12…\n",
            "\u001b[2K    0.0% [          ] 0B (0B / s)\n",
            "\u001b[2Khttps://repo1.maven.org/maven2/com/thoughtworks/paranamer/paranamer/2.8/paranam…\n",
            "\u001b[2K    0.0% [          ] 0B (0B / s)\n",
            "\u001b[2A\u001b[2A\u001b[2A\u001b[2A\u001b[2A\u001b[2A\u001b[10000D\u001b[2Khttps://repo1.maven.org/maven2/org/scalameta/tokens_2.12/4.1.4/tokens_2.12-4.1.…\n",
            "\u001b[2K  100.0% [##########] 498.4 KiB (3.5 MiB / s)\n",
            "\u001b[2Khttps://repo1.maven.org/maven2/org/scalameta/semanticdb_2.12/4.1.4/semanticdb_2…\n",
            "\u001b[2K    0.0% [          ] 0B (0B / s)\n",
            "\u001b[2Khttps://repo1.maven.org/maven2/org/typelevel/cats-core_2.12/1.6.0/cats-core_2.1…\n",
            "\u001b[2K    0.0% [          ] 0B (0B / s)\n",
            "\u001b[2Khttps://repo1.maven.org/maven2/org/wildfly/client/wildfly-client-config/1.0.0.F…\n",
            "\u001b[2K    0.0% [          ] 0B (0B / s)\n",
            "\u001b[2Khttps://repo1.maven.org/maven2/org/json4s/json4s-ast_2.12/3.6.2/json4s-ast_2.12…\n",
            "\u001b[2K    0.0% [          ] 0B (0B / s)\n",
            "\u001b[2Khttps://repo1.maven.org/maven2/com/thoughtworks/paranamer/paranamer/2.8/paranam…\n",
            "\u001b[2K    0.0% [          ] 0B (0B / s)\n",
            "\u001b[2Khttps://repo1.maven.org/maven2/com/github/alexarchambault/case-app-util_2.12/2.…\n",
            "\u001b[2K    0.0% [          ] 0B (0B / s)\n",
            "\u001b[2A\u001b[2A\u001b[2A\u001b[2A\u001b[2A\u001b[2A\u001b[10000D\u001b[2Khttps://repo1.maven.org/maven2/org/scalameta/semanticdb_2.12/4.1.4/semanticdb_2…\n",
            "\u001b[2K  100.0% [##########] 5.8 KiB (40.1 KiB / s)\n",
            "\u001b[2Khttps://repo1.maven.org/maven2/org/typelevel/cats-core_2.12/1.6.0/cats-core_2.1…\n",
            "\u001b[2K    0.0% [          ] 0B (0B / s)\n",
            "\u001b[2Khttps://repo1.maven.org/maven2/org/wildfly/client/wildfly-client-config/1.0.0.F…\n",
            "\u001b[2K    0.0% [          ] 0B (0B / s)\n",
            "\u001b[2Khttps://repo1.maven.org/maven2/org/json4s/json4s-ast_2.12/3.6.2/json4s-ast_2.12…\n",
            "\u001b[2K    0.0% [          ] 0B (0B / s)\n",
            "\u001b[2Khttps://repo1.maven.org/maven2/com/thoughtworks/paranamer/paranamer/2.8/paranam…\n",
            "\u001b[2K    0.0% [          ] 0B (0B / s)\n",
            "\u001b[2Khttps://repo1.maven.org/maven2/com/github/alexarchambault/case-app-util_2.12/2.…\n",
            "\u001b[2K    0.0% [          ] 0B (0B / s)\n",
            "\u001b[2Khttps://repo1.maven.org/maven2/com/lihaoyi/ammonite-interp_2.12.8/1.6.4/ammonit…\n",
            "\u001b[2K    0.0% [          ] 0B (0B / s)\n",
            "\u001b[2A\u001b[2A\u001b[2A\u001b[2A\u001b[2A\u001b[2A\u001b[10000D\u001b[2Khttps://repo1.maven.org/maven2/org/wildfly/client/wildfly-client-config/1.0.0.F…\n",
            "\u001b[2K  100.0% [##########] 46.1 KiB (305.2 KiB / s)\n",
            "\u001b[2Khttps://repo1.maven.org/maven2/org/typelevel/cats-core_2.12/1.6.0/cats-core_2.1…\n",
            "\u001b[2K   10.0% [#         ] 447.5 KiB (2.8 MiB / s)\n",
            "\u001b[2Khttps://repo1.maven.org/maven2/org/json4s/json4s-ast_2.12/3.6.2/json4s-ast_2.12…\n",
            "\u001b[2K    0.0% [          ] 0B (0B / s)\n",
            "\u001b[2Khttps://repo1.maven.org/maven2/com/thoughtworks/paranamer/paranamer/2.8/paranam…\n",
            "\u001b[2K    0.0% [          ] 0B (0B / s)\n",
            "\u001b[2Khttps://repo1.maven.org/maven2/com/github/alexarchambault/case-app-util_2.12/2.…\n",
            "\u001b[2K    0.0% [          ] 0B (0B / s)\n",
            "\u001b[2Khttps://repo1.maven.org/maven2/com/lihaoyi/ammonite-interp_2.12.8/1.6.4/ammonit…\n",
            "\u001b[2K    0.0% [          ] 0B (0B / s)\n",
            "\u001b[2Khttps://repo1.maven.org/maven2/com/lihaoyi/sourcecode_2.12/0.1.5/sourcecode_2.1…\n",
            "\u001b[2K    0.0% [          ] 0B (0B / s)\n",
            "\u001b[2A\u001b[2A\u001b[2A\u001b[2A\u001b[2A\u001b[2A\u001b[10000D\u001b[2Khttps://repo1.maven.org/maven2/com/thoughtworks/paranamer/paranamer/2.8/paranam…\n",
            "\u001b[2K  100.0% [##########] 33.8 KiB (245.2 KiB / s)\n",
            "\u001b[2Khttps://repo1.maven.org/maven2/org/json4s/json4s-ast_2.12/3.6.2/json4s-ast_2.12…\n",
            "\u001b[2K  100.0% [##########] 81.6 KiB (507.0 KiB / s)\n",
            "\u001b[2Khttps://repo1.maven.org/maven2/org/typelevel/cats-core_2.12/1.6.0/cats-core_2.1…\n",
            "\u001b[2K   22.3% [##        ] 991.5 KiB (5.6 MiB / s)\n",
            "\u001b[2Khttps://repo1.maven.org/maven2/com/github/alexarchambault/case-app-util_2.12/2.…\n",
            "\u001b[2K    0.0% [          ] 0B (0B / s)\n",
            "\u001b[2Khttps://repo1.maven.org/maven2/com/lihaoyi/ammonite-interp_2.12.8/1.6.4/ammonit…\n",
            "\u001b[2K    0.0% [          ] 0B (0B / s)\n",
            "\u001b[2Khttps://repo1.maven.org/maven2/com/lihaoyi/sourcecode_2.12/0.1.5/sourcecode_2.1…\n",
            "\u001b[2K    0.0% [          ] 0B (0B / s)\n",
            "\u001b[2Khttps://repo1.maven.org/maven2/org/json4s/json4s-scalap_2.12/3.6.2/json4s-scala…\n",
            "\u001b[2K    0.0% [          ] 0B (0B / s)\n",
            "\u001b[2Khttps://repo1.maven.org/maven2/org/typelevel/cats-effect_2.12/1.2.0/cats-effect…\n",
            "\u001b[2K    0.0% [          ] 0B (0B / s)\n",
            "\u001b[2A\u001b[2A\u001b[2A\u001b[2A\u001b[2A\u001b[2A\u001b[10000D\u001b[2Khttps://repo1.maven.org/maven2/org/typelevel/cats-core_2.12/1.6.0/cats-core_2.1…\n",
            "\u001b[2K   35.9% [###       ] 1.6 MiB (8.1 MiB / s)\n",
            "\u001b[2Khttps://repo1.maven.org/maven2/com/github/alexarchambault/case-app-util_2.12/2.…\n",
            "\u001b[2K    0.0% [          ] 0B (0B / s)\n",
            "\u001b[2Khttps://repo1.maven.org/maven2/com/lihaoyi/ammonite-interp_2.12.8/1.6.4/ammonit…\n",
            "\u001b[2K    0.0% [          ] 0B (0B / s)\n",
            "\u001b[2Khttps://repo1.maven.org/maven2/com/lihaoyi/sourcecode_2.12/0.1.5/sourcecode_2.1…\n",
            "\u001b[2K    0.0% [          ] 0B (0B / s)\n",
            "\u001b[2Khttps://repo1.maven.org/maven2/org/json4s/json4s-scalap_2.12/3.6.2/json4s-scala…\n",
            "\u001b[2K    0.0% [          ] 0B (0B / s)\n",
            "\u001b[2Khttps://repo1.maven.org/maven2/org/typelevel/cats-effect_2.12/1.2.0/cats-effect…\n",
            "\u001b[2K    0.0% [          ] 0B (0B / s)\n",
            "\u001b[2A\u001b[2A\u001b[2A\u001b[2A\u001b[2A\u001b[2A\u001b[10000D\u001b[2Khttps://repo1.maven.org/maven2/com/github/alexarchambault/case-app-util_2.12/2.…\n",
            "\u001b[2K  100.0% [##########] 3.5 KiB (24.6 KiB / s)\n",
            "\u001b[2Khttps://repo1.maven.org/maven2/org/typelevel/cats-core_2.12/1.6.0/cats-core_2.1…\n",
            "\u001b[2K   42.0% [####      ] 1.8 MiB (8.5 MiB / s)\n",
            "\u001b[2Khttps://repo1.maven.org/maven2/com/lihaoyi/ammonite-interp_2.12.8/1.6.4/ammonit…\n",
            "\u001b[2K    0.0% [          ] 0B (0B / s)\n",
            "\u001b[2Khttps://repo1.maven.org/maven2/com/lihaoyi/sourcecode_2.12/0.1.5/sourcecode_2.1…\n",
            "\u001b[2K    0.0% [          ] 0B (0B / s)\n",
            "\u001b[2Khttps://repo1.maven.org/maven2/org/json4s/json4s-scalap_2.12/3.6.2/json4s-scala…\n",
            "\u001b[2K    0.0% [          ] 0B (0B / s)\n",
            "\u001b[2Khttps://repo1.maven.org/maven2/org/typelevel/cats-effect_2.12/1.2.0/cats-effect…\n",
            "\u001b[2K    0.0% [          ] 0B (0B / s)\n",
            "\u001b[2Khttps://jitpack.io/com/github/jupyter/jvm-repr/0.4.0/jvm-repr-0.4.0-sources.jar\n",
            "\u001b[2K    0.0% [          ] 0B (0B / s)\n",
            "\u001b[2A\u001b[2A\u001b[2A\u001b[2A\u001b[2A\u001b[2A\u001b[10000D\u001b[2Khttps://repo1.maven.org/maven2/org/typelevel/cats-core_2.12/1.6.0/cats-core_2.1…\n",
            "\u001b[2K   42.0% [####      ] 1.8 MiB (7.8 MiB / s)\n",
            "\u001b[2Khttps://repo1.maven.org/maven2/com/lihaoyi/ammonite-interp_2.12.8/1.6.4/ammonit…\n",
            "\u001b[2K    0.0% [          ] 0B (0B / s)\n",
            "\u001b[2Khttps://repo1.maven.org/maven2/com/lihaoyi/sourcecode_2.12/0.1.5/sourcecode_2.1…\n",
            "\u001b[2K    0.0% [          ] 0B (0B / s)\n",
            "\u001b[2Khttps://repo1.maven.org/maven2/org/json4s/json4s-scalap_2.12/3.6.2/json4s-scala…\n",
            "\u001b[2K    0.0% [          ] 0B (0B / s)\n",
            "\u001b[2Khttps://repo1.maven.org/maven2/org/typelevel/cats-effect_2.12/1.2.0/cats-effect…\n",
            "\u001b[2K    0.0% [          ] 0B (0B / s)\n",
            "\u001b[2Khttps://jitpack.io/com/github/jupyter/jvm-repr/0.4.0/jvm-repr-0.4.0-sources.jar\n",
            "\u001b[2K    0.0% [          ] 0B (0B / s)\n",
            "\u001b[2A\u001b[2A\u001b[2A\u001b[2A\u001b[2A\u001b[2A\u001b[10000D\u001b[2Khttps://jitpack.io/com/github/jupyter/jvm-repr/0.4.0/jvm-repr-0.4.0-sources.jar\n",
            "\u001b[2K  100.0% [##########] 6.1 KiB (112.8 KiB / s)\n",
            "\u001b[2Khttps://repo1.maven.org/maven2/org/typelevel/cats-core_2.12/1.6.0/cats-core_2.1…\n",
            "\u001b[2K   42.0% [####      ] 1.8 MiB (7.2 MiB / s)\n",
            "\u001b[2Khttps://repo1.maven.org/maven2/com/lihaoyi/ammonite-interp_2.12.8/1.6.4/ammonit…\n",
            "\u001b[2K    0.0% [          ] 0B (0B / s)\n",
            "\u001b[2Khttps://repo1.maven.org/maven2/com/lihaoyi/sourcecode_2.12/0.1.5/sourcecode_2.1…\n",
            "\u001b[2K    0.0% [          ] 0B (0B / s)\n",
            "\u001b[2Khttps://repo1.maven.org/maven2/org/json4s/json4s-scalap_2.12/3.6.2/json4s-scala…\n",
            "\u001b[2K    0.0% [          ] 0B (0B / s)\n",
            "\u001b[2Khttps://repo1.maven.org/maven2/org/typelevel/cats-effect_2.12/1.2.0/cats-effect…\n",
            "\u001b[2K    0.0% [          ] 0B (0B / s)\n",
            "\u001b[2Khttps://repo1.maven.org/maven2/org/jboss/logging/jboss-logging/3.3.2.Final/jbos…\n",
            "\u001b[2K    0.0% [          ] 0B (0B / s)\n",
            "\u001b[2A\u001b[2A\u001b[2A\u001b[2A\u001b[2A\u001b[2A\u001b[10000D\u001b[2Khttps://repo1.maven.org/maven2/com/lihaoyi/ammonite-interp_2.12.8/1.6.4/ammonit…\n",
            "\u001b[2K  100.0% [##########] 37.8 KiB (250.0 KiB / s)\n",
            "\u001b[2Khttps://repo1.maven.org/maven2/com/lihaoyi/sourcecode_2.12/0.1.5/sourcecode_2.1…\n",
            "\u001b[2K  100.0% [##########] 108.9 KiB (806.7 KiB / s)\n",
            "\u001b[2Khttps://repo1.maven.org/maven2/org/typelevel/cats-core_2.12/1.6.0/cats-core_2.1…\n",
            "\u001b[2K   47.4% [####      ] 2.1 MiB (7.5 MiB / s)\n",
            "\u001b[2Khttps://repo1.maven.org/maven2/org/json4s/json4s-scalap_2.12/3.6.2/json4s-scala…\n",
            "\u001b[2K    0.0% [          ] 0B (0B / s)\n",
            "\u001b[2Khttps://repo1.maven.org/maven2/org/typelevel/cats-effect_2.12/1.2.0/cats-effect…\n",
            "\u001b[2K    0.0% [          ] 0B (0B / s)\n",
            "\u001b[2Khttps://repo1.maven.org/maven2/org/jboss/logging/jboss-logging/3.3.2.Final/jbos…\n",
            "\u001b[2K    0.0% [          ] 0B (0B / s)\n",
            "\u001b[2Khttps://repo1.maven.org/maven2/com/github/alexarchambault/case-app-annotations_…\n",
            "\u001b[2K    0.0% [          ] 0B (0B / s)\n",
            "\u001b[2Khttps://repo1.maven.org/maven2/org/jboss/threads/jboss-threads/2.3.0.Beta2/jbos…\n",
            "\u001b[2K    0.0% [          ] 0B (0B / s)\n",
            "\u001b[2A\u001b[2A\u001b[2A\u001b[2A\u001b[2A\u001b[2A\u001b[10000D\u001b[2Khttps://repo1.maven.org/maven2/org/json4s/json4s-scalap_2.12/3.6.2/json4s-scala…\n",
            "\u001b[2K  100.0% [##########] 18.2 KiB (133.8 KiB / s)\n",
            "\u001b[2Khttps://repo1.maven.org/maven2/org/typelevel/cats-core_2.12/1.6.0/cats-core_2.1…\n",
            "\u001b[2K   64.6% [######    ] 2.8 MiB (9.6 MiB / s)\n",
            "\u001b[2Khttps://repo1.maven.org/maven2/org/typelevel/cats-effect_2.12/1.2.0/cats-effect…\n",
            "\u001b[2K    0.0% [          ] 0B (0B / s)\n",
            "\u001b[2Khttps://repo1.maven.org/maven2/org/jboss/logging/jboss-logging/3.3.2.Final/jbos…\n",
            "\u001b[2K    0.0% [          ] 0B (0B / s)\n",
            "\u001b[2Khttps://repo1.maven.org/maven2/com/github/alexarchambault/case-app-annotations_…\n",
            "\u001b[2K    0.0% [          ] 0B (0B / s)\n",
            "\u001b[2Khttps://repo1.maven.org/maven2/org/jboss/threads/jboss-threads/2.3.0.Beta2/jbos…\n",
            "\u001b[2K    0.0% [          ] 0B (0B / s)\n",
            "\u001b[2Khttps://repo1.maven.org/maven2/org/typelevel/machinist_2.12/0.6.6/machinist_2.1…\n",
            "\u001b[2K    0.0% [          ] 0B (0B / s)\n",
            "\u001b[2A\u001b[2A\u001b[2A\u001b[2A\u001b[2A\u001b[2A\u001b[10000D\u001b[2Khttps://repo1.maven.org/maven2/org/typelevel/cats-core_2.12/1.6.0/cats-core_2.1…\n",
            "\u001b[2K   86.2% [########  ] 3.7 MiB (11.9 MiB / s)\n",
            "\u001b[2Khttps://repo1.maven.org/maven2/org/typelevel/cats-effect_2.12/1.2.0/cats-effect…\n",
            "\u001b[2K   63.7% [######    ] 559.5 KiB (3.7 MiB / s)\n",
            "\u001b[2Khttps://repo1.maven.org/maven2/org/jboss/logging/jboss-logging/3.3.2.Final/jbos…\n",
            "\u001b[2K    0.0% [          ] 0B (0B / s)\n",
            "\u001b[2Khttps://repo1.maven.org/maven2/com/github/alexarchambault/case-app-annotations_…\n",
            "\u001b[2K    0.0% [          ] 0B (0B / s)\n",
            "\u001b[2Khttps://repo1.maven.org/maven2/org/jboss/threads/jboss-threads/2.3.0.Beta2/jbos…\n",
            "\u001b[2K    0.0% [          ] 0B (0B / s)\n",
            "\u001b[2Khttps://repo1.maven.org/maven2/org/typelevel/machinist_2.12/0.6.6/machinist_2.1…\n",
            "\u001b[2K    0.0% [          ] 0B (0B / s)\n",
            "\u001b[2A\u001b[2A\u001b[2A\u001b[2A\u001b[2A\u001b[2A\u001b[10000D\u001b[2Khttps://repo1.maven.org/maven2/org/typelevel/cats-core_2.12/1.6.0/cats-core_2.1…\n",
            "\u001b[2K  100.0% [##########] 4.4 MiB (13.0 MiB / s)\n",
            "\u001b[2Khttps://repo1.maven.org/maven2/org/typelevel/cats-effect_2.12/1.2.0/cats-effect…\n",
            "\u001b[2K  100.0% [##########] 878.6 KiB (5.1 MiB / s)\n",
            "\u001b[2Khttps://repo1.maven.org/maven2/org/jboss/logging/jboss-logging/3.3.2.Final/jbos…\n",
            "\u001b[2K    0.0% [          ] 0B (0B / s)\n",
            "\u001b[2Khttps://repo1.maven.org/maven2/com/github/alexarchambault/case-app-annotations_…\n",
            "\u001b[2K    0.0% [          ] 0B (0B / s)\n",
            "\u001b[2Khttps://repo1.maven.org/maven2/org/jboss/threads/jboss-threads/2.3.0.Beta2/jbos…\n",
            "\u001b[2K    0.0% [          ] 0B (0B / s)\n",
            "\u001b[2Khttps://repo1.maven.org/maven2/org/typelevel/machinist_2.12/0.6.6/machinist_2.1…\n",
            "\u001b[2K    0.0% [          ] 0B (0B / s)\n",
            "\u001b[2Khttps://repo1.maven.org/maven2/com/github/pathikrit/better-files_2.12/3.7.0/bet…\n",
            "\u001b[2K    0.0% [          ] 0B (0B / s)\n",
            "\u001b[2Khttps://repo1.maven.org/maven2/com/fasterxml/jackson/core/jackson-annotations/2…\n",
            "\u001b[2K    0.0% [          ] 0B (0B / s)\n",
            "\u001b[2A\u001b[2A\u001b[2A\u001b[2A\u001b[2A\u001b[2A\u001b[10000D\u001b[2Khttps://repo1.maven.org/maven2/org/jboss/logging/jboss-logging/3.3.2.Final/jbos…\n",
            "\u001b[2K  100.0% [##########] 54.0 KiB (403.2 KiB / s)\n",
            "\u001b[2Khttps://repo1.maven.org/maven2/com/github/alexarchambault/case-app-annotations_…\n",
            "\u001b[2K    0.0% [          ] 0B (0B / s)\n",
            "\u001b[2Khttps://repo1.maven.org/maven2/org/jboss/threads/jboss-threads/2.3.0.Beta2/jbos…\n",
            "\u001b[2K    0.0% [          ] 0B (0B / s)\n",
            "\u001b[2Khttps://repo1.maven.org/maven2/org/typelevel/machinist_2.12/0.6.6/machinist_2.1…\n",
            "\u001b[2K    0.0% [          ] 0B (0B / s)\n",
            "\u001b[2Khttps://repo1.maven.org/maven2/com/github/pathikrit/better-files_2.12/3.7.0/bet…\n",
            "\u001b[2K    0.0% [          ] 0B (0B / s)\n",
            "\u001b[2Khttps://repo1.maven.org/maven2/com/fasterxml/jackson/core/jackson-annotations/2…\n",
            "\u001b[2K    0.0% [          ] 0B (0B / s)\n",
            "\u001b[2Khttps://repo1.maven.org/maven2/com/lihaoyi/sourcecode_2.12/0.1.5/sourcecode_2.1…\n",
            "\u001b[2K    0.0% [          ] 0B (0B / s)\n",
            "\u001b[2A\u001b[2A\u001b[2A\u001b[2A\u001b[2A\u001b[2A\u001b[10000D\u001b[2Khttps://repo1.maven.org/maven2/com/github/alexarchambault/case-app-annotations_…\n",
            "\u001b[2K  100.0% [##########] 948B (6.3 KiB / s)\n",
            "\u001b[2Khttps://repo1.maven.org/maven2/org/jboss/threads/jboss-threads/2.3.0.Beta2/jbos…\n",
            "\u001b[2K    0.0% [          ] 0B (0B / s)\n",
            "\u001b[2Khttps://repo1.maven.org/maven2/org/typelevel/machinist_2.12/0.6.6/machinist_2.1…\n",
            "\u001b[2K    0.0% [          ] 0B (0B / s)\n",
            "\u001b[2Khttps://repo1.maven.org/maven2/com/github/pathikrit/better-files_2.12/3.7.0/bet…\n",
            "\u001b[2K    0.0% [          ] 0B (0B / s)\n",
            "\u001b[2Khttps://repo1.maven.org/maven2/com/fasterxml/jackson/core/jackson-annotations/2…\n",
            "\u001b[2K    0.0% [          ] 0B (0B / s)\n",
            "\u001b[2Khttps://repo1.maven.org/maven2/com/lihaoyi/sourcecode_2.12/0.1.5/sourcecode_2.1…\n",
            "\u001b[2K    0.0% [          ] 0B (0B / s)\n",
            "\u001b[2A\u001b[2A\u001b[2A\u001b[2A\u001b[2A\u001b[2A\u001b[10000D\u001b[2Khttps://repo1.maven.org/maven2/com/github/alexarchambault/case-app-annotations_…\n",
            "\u001b[2K  100.0% [##########] 948B (5.6 KiB / s)\n",
            "\u001b[2Khttps://repo1.maven.org/maven2/org/jboss/threads/jboss-threads/2.3.0.Beta2/jbos…\n",
            "\u001b[2K  100.0% [##########] 163.4 KiB (1002.2 KiB / s)\n",
            "\u001b[2Khttps://repo1.maven.org/maven2/org/typelevel/machinist_2.12/0.6.6/machinist_2.1…\n",
            "\u001b[2K  100.0% [##########] 3.5 KiB (24.0 KiB / s)\n",
            "\u001b[2Khttps://repo1.maven.org/maven2/com/github/pathikrit/better-files_2.12/3.7.0/bet…\n",
            "\u001b[2K    0.0% [          ] 0B (0B / s)\n",
            "\u001b[2Khttps://repo1.maven.org/maven2/com/fasterxml/jackson/core/jackson-annotations/2…\n",
            "\u001b[2K    0.0% [          ] 0B (0B / s)\n",
            "\u001b[2Khttps://repo1.maven.org/maven2/com/lihaoyi/sourcecode_2.12/0.1.5/sourcecode_2.1…\n",
            "\u001b[2K    0.0% [          ] 0B (0B / s)\n",
            "\u001b[2Khttps://repo1.maven.org/maven2/org/scalameta/metabrowse-server_2.12/0.2.2/metab…\n",
            "\u001b[2K    0.0% [          ] 0B (0B / s)\n",
            "\u001b[2Khttps://repo1.maven.org/maven2/org/scala-lang/scala-library/2.12.8/scala-librar…\n",
            "\u001b[2K    0.0% [          ] 0B (0B / s)\n",
            "\u001b[2Khttps://repo1.maven.org/maven2/org/json4s/json4s-scalap_2.12/3.6.2/json4s-scala…\n",
            "\u001b[2K    0.0% [          ] 0B (0B / s)\n",
            "\u001b[2A\u001b[2A\u001b[2A\u001b[2A\u001b[2A\u001b[2A\u001b[10000D\u001b[2Khttps://repo1.maven.org/maven2/com/fasterxml/jackson/core/jackson-annotations/2…\n",
            "\u001b[2K  100.0% [##########] 65.0 KiB (438.9 KiB / s)\n",
            "\u001b[2Khttps://repo1.maven.org/maven2/com/github/pathikrit/better-files_2.12/3.7.0/bet…\n",
            "\u001b[2K  100.0% [##########] 30.0 KiB (203.0 KiB / s)\n",
            "\u001b[2Khttps://repo1.maven.org/maven2/com/lihaoyi/sourcecode_2.12/0.1.5/sourcecode_2.1…\n",
            "\u001b[2K    0.0% [          ] 0B (0B / s)\n",
            "\u001b[2Khttps://repo1.maven.org/maven2/org/scalameta/metabrowse-server_2.12/0.2.2/metab…\n",
            "\u001b[2K    0.0% [          ] 0B (0B / s)\n",
            "\u001b[2Khttps://repo1.maven.org/maven2/org/scala-lang/scala-library/2.12.8/scala-librar…\n",
            "\u001b[2K    0.0% [          ] 0B (0B / s)\n",
            "\u001b[2Khttps://repo1.maven.org/maven2/org/json4s/json4s-scalap_2.12/3.6.2/json4s-scala…\n",
            "\u001b[2K    0.0% [          ] 0B (0B / s)\n",
            "\u001b[2Khttps://repo1.maven.org/maven2/org/typelevel/cats-kernel_2.12/1.6.0/cats-kernel…\n",
            "\u001b[2K    0.0% [          ] 0B (0B / s)\n",
            "\u001b[2Khttps://repo1.maven.org/maven2/org/typelevel/machinist_2.12/0.6.6/machinist_2.1…\n",
            "\u001b[2K    0.0% [          ] 0B (0B / s)\n",
            "\u001b[2A\u001b[2A\u001b[2A\u001b[2A\u001b[2A\u001b[2A\u001b[10000D\u001b[2Khttps://repo1.maven.org/maven2/org/scalameta/metabrowse-server_2.12/0.2.2/metab…\n",
            "\u001b[2K  100.0% [##########] 36.2 KiB (267.8 KiB / s)\n",
            "\u001b[2Khttps://repo1.maven.org/maven2/com/lihaoyi/sourcecode_2.12/0.1.5/sourcecode_2.1…\n",
            "\u001b[2K    0.0% [          ] 0B (0B / s)\n",
            "\u001b[2Khttps://repo1.maven.org/maven2/org/scala-lang/scala-library/2.12.8/scala-librar…\n",
            "\u001b[2K    0.0% [          ] 0B (0B / s)\n",
            "\u001b[2Khttps://repo1.maven.org/maven2/org/json4s/json4s-scalap_2.12/3.6.2/json4s-scala…\n",
            "\u001b[2K    0.0% [          ] 0B (0B / s)\n",
            "\u001b[2Khttps://repo1.maven.org/maven2/org/typelevel/cats-kernel_2.12/1.6.0/cats-kernel…\n",
            "\u001b[2K    0.0% [          ] 0B (0B / s)\n",
            "\u001b[2Khttps://repo1.maven.org/maven2/org/typelevel/machinist_2.12/0.6.6/machinist_2.1…\n",
            "\u001b[2K    0.0% [          ] 0B (0B / s)\n",
            "\u001b[2Khttps://repo1.maven.org/maven2/com/github/alexarchambault/case-app-annotations_…\n",
            "\u001b[2K    0.0% [          ] 0B (0B / s)\n",
            "\u001b[2A\u001b[2A\u001b[2A\u001b[2A\u001b[2A\u001b[2A\u001b[10000D\u001b[2Khttps://repo1.maven.org/maven2/com/lihaoyi/sourcecode_2.12/0.1.5/sourcecode_2.1…\n",
            "\u001b[2K  100.0% [##########] 2.5 KiB (12.5 KiB / s)\n",
            "\u001b[2Khttps://repo1.maven.org/maven2/org/scala-lang/scala-library/2.12.8/scala-librar…\n",
            "\u001b[2K   73.8% [#######   ] 735.5 KiB (4.7 MiB / s)\n",
            "\u001b[2Khttps://repo1.maven.org/maven2/org/json4s/json4s-scalap_2.12/3.6.2/json4s-scala…\n",
            "\u001b[2K    0.0% [          ] 0B (0B / s)\n",
            "\u001b[2Khttps://repo1.maven.org/maven2/org/typelevel/cats-kernel_2.12/1.6.0/cats-kernel…\n",
            "\u001b[2K    0.0% [          ] 0B (0B / s)\n",
            "\u001b[2Khttps://repo1.maven.org/maven2/org/typelevel/machinist_2.12/0.6.6/machinist_2.1…\n",
            "\u001b[2K    0.0% [          ] 0B (0B / s)\n",
            "\u001b[2Khttps://repo1.maven.org/maven2/com/github/alexarchambault/case-app-annotations_…\n",
            "\u001b[2K    0.0% [          ] 0B (0B / s)\n",
            "\u001b[2Khttps://repo1.maven.org/maven2/org/scalameta/trees_2.12/4.1.4/trees_2.12-4.1.4-…\n",
            "\u001b[2K    0.0% [          ] 0B (0B / s)\n",
            "\u001b[2A\u001b[2A\u001b[2A\u001b[2A\u001b[2A\u001b[2A\u001b[10000D\u001b[2Khttps://repo1.maven.org/maven2/org/scala-lang/scala-library/2.12.8/scala-librar…\n",
            "\u001b[2K  100.0% [##########] 997.0 KiB (5.6 MiB / s)\n",
            "\u001b[2Khttps://repo1.maven.org/maven2/org/typelevel/cats-kernel_2.12/1.6.0/cats-kernel…\n",
            "\u001b[2K  100.0% [##########] 44.9 KiB (332.8 KiB / s)\n",
            "\u001b[2Khttps://repo1.maven.org/maven2/org/typelevel/machinist_2.12/0.6.6/machinist_2.1…\n",
            "\u001b[2K  100.0% [##########] 33.0 KiB (246.2 KiB / s)\n",
            "\u001b[2Khttps://repo1.maven.org/maven2/org/json4s/json4s-scalap_2.12/3.6.2/json4s-scala…\n",
            "\u001b[2K    0.0% [          ] 0B (0B / s)\n",
            "\u001b[2Khttps://repo1.maven.org/maven2/com/github/alexarchambault/case-app-annotations_…\n",
            "\u001b[2K    0.0% [          ] 0B (0B / s)\n",
            "\u001b[2Khttps://repo1.maven.org/maven2/org/scalameta/trees_2.12/4.1.4/trees_2.12-4.1.4-…\n",
            "\u001b[2K    0.0% [          ] 0B (0B / s)\n",
            "\u001b[2Khttps://repo1.maven.org/maven2/org/json4s/json4s-jackson_2.12/3.6.2/json4s-jack…\n",
            "\u001b[2K    0.0% [          ] 0B (0B / s)\n",
            "\u001b[2Khttps://repo1.maven.org/maven2/com/github/javaparser/javaparser-core/3.2.5/java…\n",
            "\u001b[2K    0.0% [          ] 0B (0B / s)\n",
            "\u001b[2Khttps://repo1.maven.org/maven2/com/github/alexarchambault/case-app_2.12/2.0.0-M…\n",
            "\u001b[2K    0.0% [          ] 0B (0B / s)\n",
            "\u001b[2A\u001b[2A\u001b[2A\u001b[2A\u001b[2A\u001b[2A\u001b[10000D\u001b[2Khttps://repo1.maven.org/maven2/com/github/alexarchambault/case-app-annotations_…\n",
            "\u001b[2K  100.0% [##########] 11.3 KiB (78.1 KiB / s)\n",
            "\u001b[2Khttps://repo1.maven.org/maven2/org/scalameta/trees_2.12/4.1.4/trees_2.12-4.1.4-…\n",
            "\u001b[2K  100.0% [##########] 23.5 KiB (178.3 KiB / s)\n",
            "\u001b[2Khttps://repo1.maven.org/maven2/org/json4s/json4s-scalap_2.12/3.6.2/json4s-scala…\n",
            "\u001b[2K   37.2% [###       ] 127.5 KiB (479.2 KiB / s)\n",
            "\u001b[2Khttps://repo1.maven.org/maven2/org/json4s/json4s-jackson_2.12/3.6.2/json4s-jack…\n",
            "\u001b[2K    0.0% [          ] 0B (0B / s)\n",
            "\u001b[2Khttps://repo1.maven.org/maven2/com/github/javaparser/javaparser-core/3.2.5/java…\n",
            "\u001b[2K    0.0% [          ] 0B (0B / s)\n",
            "\u001b[2Khttps://repo1.maven.org/maven2/com/github/alexarchambault/case-app_2.12/2.0.0-M…\n",
            "\u001b[2K    0.0% [          ] 0B (0B / s)\n",
            "\u001b[2Khttps://repo1.maven.org/maven2/org/jline/jline-reader/3.6.2/jline-reader-3.6.2-…\n",
            "\u001b[2K    0.0% [          ] 0B (0B / s)\n",
            "\u001b[2A\u001b[2A\u001b[2A\u001b[2A\u001b[2A\u001b[2A\u001b[10000D\u001b[2Khttps://repo1.maven.org/maven2/org/json4s/json4s-scalap_2.12/3.6.2/json4s-scala…\n",
            "\u001b[2K  100.0% [##########] 342.3 KiB (1.2 MiB / s)\n",
            "\u001b[2Khttps://repo1.maven.org/maven2/org/scalameta/trees_2.12/4.1.4/trees_2.12-4.1.4-…\n",
            "\u001b[2K  100.0% [##########] 23.5 KiB (154.8 KiB / s)\n",
            "\u001b[2Khttps://repo1.maven.org/maven2/org/json4s/json4s-jackson_2.12/3.6.2/json4s-jack…\n",
            "\u001b[2K    0.0% [          ] 0B (0B / s)\n",
            "\u001b[2Khttps://repo1.maven.org/maven2/com/github/javaparser/javaparser-core/3.2.5/java…\n",
            "\u001b[2K    0.0% [          ] 0B (0B / s)\n",
            "\u001b[2Khttps://repo1.maven.org/maven2/com/github/alexarchambault/case-app_2.12/2.0.0-M…\n",
            "\u001b[2K    0.0% [          ] 0B (0B / s)\n",
            "\u001b[2Khttps://repo1.maven.org/maven2/org/jline/jline-reader/3.6.2/jline-reader-3.6.2-…\n",
            "\u001b[2K    0.0% [          ] 0B (0B / s)\n",
            "\u001b[2Khttps://repo1.maven.org/maven2/org/scalameta/quasiquotes_2.12/4.1.4/quasiquotes…\n",
            "\u001b[2K    0.0% [          ] 0B (0B / s)\n",
            "\u001b[2Khttps://repo1.maven.org/maven2/com/lihaoyi/upack_2.12/0.7.1/upack_2.12-0.7.1.jar\n",
            "\u001b[2K    0.0% [          ] 0B (0B / s)\n",
            "\u001b[2A\u001b[2A\u001b[2A\u001b[2A\u001b[2A\u001b[2A\u001b[10000D\u001b[2Khttps://repo1.maven.org/maven2/com/github/alexarchambault/case-app_2.12/2.0.0-M…\n",
            "\u001b[2K  100.0% [##########] 321.3 KiB (2.2 MiB / s)\n",
            "\u001b[2Khttps://repo1.maven.org/maven2/org/json4s/json4s-jackson_2.12/3.6.2/json4s-jack…\n",
            "\u001b[2K  100.0% [##########] 35.4 KiB (229.6 KiB / s)\n",
            "\u001b[2Khttps://repo1.maven.org/maven2/com/github/javaparser/javaparser-core/3.2.5/java…\n",
            "\u001b[2K  100.0% [##########] 498.2 KiB (3.4 MiB / s)\n",
            "\u001b[2Khttps://repo1.maven.org/maven2/org/jline/jline-reader/3.6.2/jline-reader-3.6.2-…\n",
            "\u001b[2K    0.0% [          ] 0B (0B / s)\n",
            "\u001b[2Khttps://repo1.maven.org/maven2/org/scalameta/quasiquotes_2.12/4.1.4/quasiquotes…\n",
            "\u001b[2K    0.0% [          ] 0B (0B / s)\n",
            "\u001b[2Khttps://repo1.maven.org/maven2/com/lihaoyi/upack_2.12/0.7.1/upack_2.12-0.7.1.jar\n",
            "\u001b[2K    0.0% [          ] 0B (0B / s)\n",
            "\u001b[2Khttps://repo1.maven.org/maven2/com/lihaoyi/fansi_2.12/0.2.4/fansi_2.12-0.2.4.jar\n",
            "\u001b[2K    0.0% [          ] 0B (0B / s)\n",
            "\u001b[2Khttps://repo1.maven.org/maven2/org/scalameta/tokenizers_2.12/4.1.4/tokenizers_2…\n",
            "\u001b[2K    0.0% [          ] 0B (0B / s)\n",
            "\u001b[2A\u001b[2A\u001b[2A\u001b[2A\u001b[2A\u001b[2A\u001b[10000D\u001b[2Khttps://repo1.maven.org/maven2/com/github/javaparser/javaparser-core/3.2.5/java…\n",
            "\u001b[2K  100.0% [##########] 498.2 KiB (3.0 MiB / s)\n",
            "\u001b[2Khttps://repo1.maven.org/maven2/org/jline/jline-reader/3.6.2/jline-reader-3.6.2-…\n",
            "\u001b[2K    0.0% [          ] 0B (0B / s)\n",
            "\u001b[2Khttps://repo1.maven.org/maven2/org/scalameta/quasiquotes_2.12/4.1.4/quasiquotes…\n",
            "\u001b[2K    0.0% [          ] 0B (0B / s)\n",
            "\u001b[2Khttps://repo1.maven.org/maven2/com/lihaoyi/upack_2.12/0.7.1/upack_2.12-0.7.1.jar\n",
            "\u001b[2K    0.0% [          ] 0B (0B / s)\n",
            "\u001b[2Khttps://repo1.maven.org/maven2/com/lihaoyi/fansi_2.12/0.2.4/fansi_2.12-0.2.4.jar\n",
            "\u001b[2K    0.0% [          ] 0B (0B / s)\n",
            "\u001b[2Khttps://repo1.maven.org/maven2/org/scalameta/tokenizers_2.12/4.1.4/tokenizers_2…\n",
            "\u001b[2K    0.0% [          ] 0B (0B / s)\n",
            "\u001b[2Khttps://repo1.maven.org/maven2/com/lihaoyi/scalaparse_2.12/2.1.0/scalaparse_2.1…\n",
            "\u001b[2K    0.0% [          ] 0B (0B / s)\n",
            "\u001b[2A\u001b[2A\u001b[2A\u001b[2A\u001b[2A\u001b[2A\u001b[10000D\u001b[2Khttps://repo1.maven.org/maven2/org/jline/jline-reader/3.6.2/jline-reader-3.6.2-…\n",
            "\u001b[2K  100.0% [##########] 82.6 KiB (621.3 KiB / s)\n",
            "\u001b[2Khttps://repo1.maven.org/maven2/org/scalameta/quasiquotes_2.12/4.1.4/quasiquotes…\n",
            "\u001b[2K    0.0% [          ] 0B (0B / s)\n",
            "\u001b[2Khttps://repo1.maven.org/maven2/com/lihaoyi/upack_2.12/0.7.1/upack_2.12-0.7.1.jar\n",
            "\u001b[2K    0.0% [          ] 0B (0B / s)\n",
            "\u001b[2Khttps://repo1.maven.org/maven2/com/lihaoyi/fansi_2.12/0.2.4/fansi_2.12-0.2.4.jar\n",
            "\u001b[2K    0.0% [          ] 0B (0B / s)\n",
            "\u001b[2Khttps://repo1.maven.org/maven2/org/scalameta/tokenizers_2.12/4.1.4/tokenizers_2…\n",
            "\u001b[2K    0.0% [          ] 0B (0B / s)\n",
            "\u001b[2Khttps://repo1.maven.org/maven2/com/lihaoyi/scalaparse_2.12/2.1.0/scalaparse_2.1…\n",
            "\u001b[2K    0.0% [          ] 0B (0B / s)\n",
            "\u001b[2Khttps://repo1.maven.org/maven2/com/thesamet/scalapb/scalapb-runtime_2.12/0.8.4/…\n",
            "\u001b[2K    0.0% [          ] 0B (0B / s)\n",
            "\u001b[2A\u001b[2A\u001b[2A\u001b[2A\u001b[2A\u001b[2A\u001b[10000D\u001b[2Khttps://repo1.maven.org/maven2/com/lihaoyi/upack_2.12/0.7.1/upack_2.12-0.7.1.jar\n",
            "\u001b[2K  100.0% [##########] 90.5 KiB (651.1 KiB / s)\n",
            "\u001b[2Khttps://repo1.maven.org/maven2/org/scalameta/quasiquotes_2.12/4.1.4/quasiquotes…\n",
            "\u001b[2K  100.0% [##########] 10.0 KiB (71.4 KiB / s)\n",
            "\u001b[2Khttps://repo1.maven.org/maven2/com/lihaoyi/fansi_2.12/0.2.4/fansi_2.12-0.2.4.jar\n",
            "\u001b[2K    0.0% [          ] 0B (0B / s)\n",
            "\u001b[2Khttps://repo1.maven.org/maven2/org/scalameta/tokenizers_2.12/4.1.4/tokenizers_2…\n",
            "\u001b[2K    0.0% [          ] 0B (0B / s)\n",
            "\u001b[2Khttps://repo1.maven.org/maven2/com/lihaoyi/scalaparse_2.12/2.1.0/scalaparse_2.1…\n",
            "\u001b[2K    0.0% [          ] 0B (0B / s)\n",
            "\u001b[2Khttps://repo1.maven.org/maven2/com/thesamet/scalapb/scalapb-runtime_2.12/0.8.4/…\n",
            "\u001b[2K    0.0% [          ] 0B (0B / s)\n",
            "\u001b[2Khttps://repo1.maven.org/maven2/org/scalameta/dialects_2.12/4.1.4/dialects_2.12-…\n",
            "\u001b[2K    0.0% [          ] 0B (0B / s)\n",
            "\u001b[2Khttps://repo1.maven.org/maven2/com/chuusai/shapeless_2.12/2.3.3/shapeless_2.12-…\n",
            "\u001b[2K    0.0% [          ] 0B (0B / s)\n",
            "\u001b[2A\u001b[2A\u001b[2A\u001b[2A\u001b[2A\u001b[2A\u001b[10000D\u001b[2Khttps://repo1.maven.org/maven2/com/lihaoyi/fansi_2.12/0.2.4/fansi_2.12-0.2.4.jar\n",
            "\u001b[2K  100.0% [##########] 62.8 KiB (407.7 KiB / s)\n",
            "\u001b[2Khttps://repo1.maven.org/maven2/org/scalameta/tokenizers_2.12/4.1.4/tokenizers_2…\n",
            "\u001b[2K  100.0% [##########] 121.1 KiB (846.9 KiB / s)\n",
            "\u001b[2Khttps://repo1.maven.org/maven2/com/lihaoyi/scalaparse_2.12/2.1.0/scalaparse_2.1…\n",
            "\u001b[2K   74.1% [#######   ] 319.5 KiB (2.3 MiB / s)\n",
            "\u001b[2Khttps://repo1.maven.org/maven2/com/thesamet/scalapb/scalapb-runtime_2.12/0.8.4/…\n",
            "\u001b[2K    0.0% [          ] 0B (0B / s)\n",
            "\u001b[2Khttps://repo1.maven.org/maven2/org/scalameta/dialects_2.12/4.1.4/dialects_2.12-…\n",
            "\u001b[2K    0.0% [          ] 0B (0B / s)\n",
            "\u001b[2Khttps://repo1.maven.org/maven2/com/chuusai/shapeless_2.12/2.3.3/shapeless_2.12-…\n",
            "\u001b[2K    0.0% [          ] 0B (0B / s)\n",
            "\u001b[2Khttps://repo1.maven.org/maven2/org/jboss/xnio/xnio-api/3.7.0.Final/xnio-api-3.7…\n",
            "\u001b[2K    0.0% [          ] 0B (0B / s)\n",
            "\u001b[2Khttps://repo1.maven.org/maven2/org/scalameta/metabrowse-cli_2.12/0.2.2/metabrow…\n",
            "\u001b[2K    0.0% [          ] 0B (0B / s)\n",
            "\u001b[2A\u001b[2A\u001b[2A\u001b[2A\u001b[2A\u001b[2A\u001b[10000D\u001b[2Khttps://repo1.maven.org/maven2/com/lihaoyi/scalaparse_2.12/2.1.0/scalaparse_2.1…\n",
            "\u001b[2K  100.0% [##########] 431.4 KiB (2.7 MiB / s)\n",
            "\u001b[2Khttps://repo1.maven.org/maven2/com/thesamet/scalapb/scalapb-runtime_2.12/0.8.4/…\n",
            "\u001b[2K    0.0% [          ] 0B (0B / s)\n",
            "\u001b[2Khttps://repo1.maven.org/maven2/org/scalameta/dialects_2.12/4.1.4/dialects_2.12-…\n",
            "\u001b[2K    0.0% [          ] 0B (0B / s)\n",
            "\u001b[2Khttps://repo1.maven.org/maven2/com/chuusai/shapeless_2.12/2.3.3/shapeless_2.12-…\n",
            "\u001b[2K    0.0% [          ] 0B (0B / s)\n",
            "\u001b[2Khttps://repo1.maven.org/maven2/org/jboss/xnio/xnio-api/3.7.0.Final/xnio-api-3.7…\n",
            "\u001b[2K    0.0% [          ] 0B (0B / s)\n",
            "\u001b[2Khttps://repo1.maven.org/maven2/org/scalameta/metabrowse-cli_2.12/0.2.2/metabrow…\n",
            "\u001b[2K    0.0% [          ] 0B (0B / s)\n",
            "\u001b[2Khttps://repo1.maven.org/maven2/io/undertow/undertow-core/2.0.17.Final/undertow-…\n",
            "\u001b[2K    0.0% [          ] 0B (0B / s)\n",
            "\u001b[2A\u001b[2A\u001b[2A\u001b[2A\u001b[2A\u001b[2A\u001b[10000D\u001b[2Khttps://repo1.maven.org/maven2/com/thesamet/scalapb/scalapb-runtime_2.12/0.8.4/…\n",
            "\u001b[2K   29.6% [##        ] 575.4 KiB (3.9 MiB / s)\n",
            "\u001b[2Khttps://repo1.maven.org/maven2/org/scalameta/dialects_2.12/4.1.4/dialects_2.12-…\n",
            "\u001b[2K    0.0% [          ] 0B (0B / s)\n",
            "\u001b[2Khttps://repo1.maven.org/maven2/com/chuusai/shapeless_2.12/2.3.3/shapeless_2.12-…\n",
            "\u001b[2K    0.0% [          ] 0B (0B / s)\n",
            "\u001b[2Khttps://repo1.maven.org/maven2/org/jboss/xnio/xnio-api/3.7.0.Final/xnio-api-3.7…\n",
            "\u001b[2K    0.0% [          ] 0B (0B / s)\n",
            "\u001b[2Khttps://repo1.maven.org/maven2/org/scalameta/metabrowse-cli_2.12/0.2.2/metabrow…\n",
            "\u001b[2K    0.0% [          ] 0B (0B / s)\n",
            "\u001b[2Khttps://repo1.maven.org/maven2/io/undertow/undertow-core/2.0.17.Final/undertow-…\n",
            "\u001b[2K    0.0% [          ] 0B (0B / s)\n",
            "\u001b[2A\u001b[2A\u001b[2A\u001b[2A\u001b[2A\u001b[2A\u001b[10000D\u001b[2Khttps://repo1.maven.org/maven2/com/chuusai/shapeless_2.12/2.3.3/shapeless_2.12-…\n",
            "\u001b[2K  100.0% [##########] 168.4 KiB (1.1 MiB / s)\n",
            "\u001b[2Khttps://repo1.maven.org/maven2/org/scalameta/dialects_2.12/4.1.4/dialects_2.12-…\n",
            "\u001b[2K  100.0% [##########] 4.2 KiB (28.6 KiB / s)\n",
            "\u001b[2Khttps://repo1.maven.org/maven2/com/thesamet/scalapb/scalapb-runtime_2.12/0.8.4/…\n",
            "\u001b[2K   87.4% [########  ] 1.7 MiB (10.2 MiB / s)\n",
            "\u001b[2Khttps://repo1.maven.org/maven2/org/jboss/xnio/xnio-api/3.7.0.Final/xnio-api-3.7…\n",
            "\u001b[2K    0.0% [          ] 0B (0B / s)\n",
            "\u001b[2Khttps://repo1.maven.org/maven2/org/scalameta/metabrowse-cli_2.12/0.2.2/metabrow…\n",
            "\u001b[2K    0.0% [          ] 0B (0B / s)\n",
            "\u001b[2Khttps://repo1.maven.org/maven2/io/undertow/undertow-core/2.0.17.Final/undertow-…\n",
            "\u001b[2K    0.0% [          ] 0B (0B / s)\n",
            "\u001b[2Khttps://repo1.maven.org/maven2/com/lihaoyi/fansi_2.12/0.2.4/fansi_2.12-0.2.4-so…\n",
            "\u001b[2K    0.0% [          ] 0B (0B / s)\n",
            "\u001b[2Khttps://repo1.maven.org/maven2/org/scalameta/semanticdb-scalac-core_2.12.7/4.1.…\n",
            "\u001b[2K    0.0% [          ] 0B (0B / s)\n",
            "\u001b[2A\u001b[2A\u001b[2A\u001b[2A\u001b[2A\u001b[2A\u001b[10000D\u001b[2Khttps://repo1.maven.org/maven2/com/thesamet/scalapb/scalapb-runtime_2.12/0.8.4/…\n",
            "\u001b[2K  100.0% [##########] 1.9 MiB (10.2 MiB / s)\n",
            "\u001b[2Khttps://repo1.maven.org/maven2/org/jboss/xnio/xnio-api/3.7.0.Final/xnio-api-3.7…\n",
            "\u001b[2K    0.0% [          ] 0B (0B / s)\n",
            "\u001b[2Khttps://repo1.maven.org/maven2/org/scalameta/metabrowse-cli_2.12/0.2.2/metabrow…\n",
            "\u001b[2K    0.0% [          ] 0B (0B / s)\n",
            "\u001b[2Khttps://repo1.maven.org/maven2/io/undertow/undertow-core/2.0.17.Final/undertow-…\n",
            "\u001b[2K    0.0% [          ] 0B (0B / s)\n",
            "\u001b[2Khttps://repo1.maven.org/maven2/com/lihaoyi/fansi_2.12/0.2.4/fansi_2.12-0.2.4-so…\n",
            "\u001b[2K    0.0% [          ] 0B (0B / s)\n",
            "\u001b[2Khttps://repo1.maven.org/maven2/org/scalameta/semanticdb-scalac-core_2.12.7/4.1.…\n",
            "\u001b[2K    0.0% [          ] 0B (0B / s)\n",
            "\u001b[2Khttps://repo1.maven.org/maven2/com/lihaoyi/geny_2.12/0.1.5/geny_2.12-0.1.5-sour…\n",
            "\u001b[2K    0.0% [          ] 0B (0B / s)\n",
            "\u001b[2A\u001b[2A\u001b[2A\u001b[2A\u001b[2A\u001b[2A\u001b[10000D\u001b[2Khttps://repo1.maven.org/maven2/org/jboss/xnio/xnio-api/3.7.0.Final/xnio-api-3.7…\n",
            "\u001b[2K  100.0% [##########] 571.6 KiB (3.6 MiB / s)\n",
            "\u001b[2Khttps://repo1.maven.org/maven2/org/scalameta/metabrowse-cli_2.12/0.2.2/metabrow…\n",
            "\u001b[2K  100.0% [##########] 10.1 KiB (68.0 KiB / s)\n",
            "\u001b[2Khttps://repo1.maven.org/maven2/io/undertow/undertow-core/2.0.17.Final/undertow-…\n",
            "\u001b[2K    0.0% [          ] 0B (0B / s)\n",
            "\u001b[2Khttps://repo1.maven.org/maven2/com/lihaoyi/fansi_2.12/0.2.4/fansi_2.12-0.2.4-so…\n",
            "\u001b[2K    0.0% [          ] 0B (0B / s)\n",
            "\u001b[2Khttps://repo1.maven.org/maven2/org/scalameta/semanticdb-scalac-core_2.12.7/4.1.…\n",
            "\u001b[2K    0.0% [          ] 0B (0B / s)\n",
            "\u001b[2Khttps://repo1.maven.org/maven2/com/lihaoyi/geny_2.12/0.1.5/geny_2.12-0.1.5-sour…\n",
            "\u001b[2K    0.0% [          ] 0B (0B / s)\n",
            "\u001b[2Khttps://repo1.maven.org/maven2/com/fasterxml/jackson/core/jackson-databind/2.9.…\n",
            "\u001b[2K    0.0% [          ] 0B (0B / s)\n",
            "\u001b[2Khttps://repo1.maven.org/maven2/org/scalameta/interactive_2.12.7/4.1.4/interacti…\n",
            "\u001b[2K    0.0% [          ] 0B (0B / s)\n",
            "\u001b[2A\u001b[2A\u001b[2A\u001b[2A\u001b[2A\u001b[2A\u001b[10000D\u001b[2Khttps://repo1.maven.org/maven2/io/undertow/undertow-core/2.0.17.Final/undertow-…\n",
            "\u001b[2K   19.6% [#         ] 431.5 KiB (2.6 MiB / s)\n",
            "\u001b[2Khttps://repo1.maven.org/maven2/com/lihaoyi/fansi_2.12/0.2.4/fansi_2.12-0.2.4-so…\n",
            "\u001b[2K    0.0% [          ] 0B (0B / s)\n",
            "\u001b[2Khttps://repo1.maven.org/maven2/org/scalameta/semanticdb-scalac-core_2.12.7/4.1.…\n",
            "\u001b[2K    0.0% [          ] 0B (0B / s)\n",
            "\u001b[2Khttps://repo1.maven.org/maven2/com/lihaoyi/geny_2.12/0.1.5/geny_2.12-0.1.5-sour…\n",
            "\u001b[2K    0.0% [          ] 0B (0B / s)\n",
            "\u001b[2Khttps://repo1.maven.org/maven2/com/fasterxml/jackson/core/jackson-databind/2.9.…\n",
            "\u001b[2K    0.0% [          ] 0B (0B / s)\n",
            "\u001b[2Khttps://repo1.maven.org/maven2/org/scalameta/interactive_2.12.7/4.1.4/interacti…\n",
            "\u001b[2K    0.0% [          ] 0B (0B / s)\n",
            "\u001b[2A\u001b[2A\u001b[2A\u001b[2A\u001b[2A\u001b[2A\u001b[10000D\u001b[2Khttps://repo1.maven.org/maven2/io/undertow/undertow-core/2.0.17.Final/undertow-…\n",
            "\u001b[2K   61.6% [######    ] 1.3 MiB (7.5 MiB / s)\n",
            "\u001b[2Khttps://repo1.maven.org/maven2/com/lihaoyi/fansi_2.12/0.2.4/fansi_2.12-0.2.4-so…\n",
            "\u001b[2K    0.0% [          ] 0B (0B / s)\n",
            "\u001b[2Khttps://repo1.maven.org/maven2/org/scalameta/semanticdb-scalac-core_2.12.7/4.1.…\n",
            "\u001b[2K    0.0% [          ] 0B (0B / s)\n",
            "\u001b[2Khttps://repo1.maven.org/maven2/com/lihaoyi/geny_2.12/0.1.5/geny_2.12-0.1.5-sour…\n",
            "\u001b[2K    0.0% [          ] 0B (0B / s)\n",
            "\u001b[2Khttps://repo1.maven.org/maven2/com/fasterxml/jackson/core/jackson-databind/2.9.…\n",
            "\u001b[2K    0.0% [          ] 0B (0B / s)\n",
            "\u001b[2Khttps://repo1.maven.org/maven2/org/scalameta/interactive_2.12.7/4.1.4/interacti…\n",
            "\u001b[2K    0.0% [          ] 0B (0B / s)\n",
            "\u001b[2A\u001b[2A\u001b[2A\u001b[2A\u001b[2A\u001b[2A\u001b[10000D\u001b[2Khttps://repo1.maven.org/maven2/io/undertow/undertow-core/2.0.17.Final/undertow-…\n",
            "\u001b[2K  100.0% [##########] 2.2 MiB (11.0 MiB / s)\n",
            "\u001b[2Khttps://repo1.maven.org/maven2/com/lihaoyi/fansi_2.12/0.2.4/fansi_2.12-0.2.4-so…\n",
            "\u001b[2K    0.0% [          ] 0B (0B / s)\n",
            "\u001b[2Khttps://repo1.maven.org/maven2/org/scalameta/semanticdb-scalac-core_2.12.7/4.1.…\n",
            "\u001b[2K    0.0% [          ] 0B (0B / s)\n",
            "\u001b[2Khttps://repo1.maven.org/maven2/com/lihaoyi/geny_2.12/0.1.5/geny_2.12-0.1.5-sour…\n",
            "\u001b[2K    0.0% [          ] 0B (0B / s)\n",
            "\u001b[2Khttps://repo1.maven.org/maven2/com/fasterxml/jackson/core/jackson-databind/2.9.…\n",
            "\u001b[2K    0.0% [          ] 0B (0B / s)\n",
            "\u001b[2Khttps://repo1.maven.org/maven2/org/scalameta/interactive_2.12.7/4.1.4/interacti…\n",
            "\u001b[2K    0.0% [          ] 0B (0B / s)\n",
            "\u001b[2Khttps://repo1.maven.org/maven2/com/fasterxml/jackson/core/jackson-databind/2.9.…\n",
            "\u001b[2K    0.0% [          ] 0B (0B / s)\n",
            "\u001b[2A\u001b[2A\u001b[2A\u001b[2A\u001b[2A\u001b[2A\u001b[10000D\u001b[2Khttps://repo1.maven.org/maven2/com/lihaoyi/fansi_2.12/0.2.4/fansi_2.12-0.2.4-so…\n",
            "\u001b[2K  100.0% [##########] 9.2 KiB (68.9 KiB / s)\n",
            "\u001b[2Khttps://repo1.maven.org/maven2/org/scalameta/semanticdb-scalac-core_2.12.7/4.1.…\n",
            "\u001b[2K    0.0% [          ] 0B (0B / s)\n",
            "\u001b[2Khttps://repo1.maven.org/maven2/com/lihaoyi/geny_2.12/0.1.5/geny_2.12-0.1.5-sour…\n",
            "\u001b[2K    0.0% [          ] 0B (0B / s)\n",
            "\u001b[2Khttps://repo1.maven.org/maven2/com/fasterxml/jackson/core/jackson-databind/2.9.…\n",
            "\u001b[2K    0.0% [          ] 0B (0B / s)\n",
            "\u001b[2Khttps://repo1.maven.org/maven2/org/scalameta/interactive_2.12.7/4.1.4/interacti…\n",
            "\u001b[2K    0.0% [          ] 0B (0B / s)\n",
            "\u001b[2Khttps://repo1.maven.org/maven2/com/fasterxml/jackson/core/jackson-databind/2.9.…\n",
            "\u001b[2K    0.0% [          ] 0B (0B / s)\n",
            "\u001b[2Khttps://repo1.maven.org/maven2/io/get-coursier/coursier-cache_2.12/1.1.0-M7/cou…\n",
            "\u001b[2K    0.0% [          ] 0B (0B / s)\n",
            "\u001b[2A\u001b[2A\u001b[2A\u001b[2A\u001b[2A\u001b[2A\u001b[10000D\u001b[2Khttps://repo1.maven.org/maven2/com/lihaoyi/geny_2.12/0.1.5/geny_2.12-0.1.5-sour…\n",
            "\u001b[2K  100.0% [##########] 3.5 KiB (25.9 KiB / s)\n",
            "\u001b[2Khttps://repo1.maven.org/maven2/org/scalameta/semanticdb-scalac-core_2.12.7/4.1.…\n",
            "\u001b[2K  100.0% [##########] 31.7 KiB (213.9 KiB / s)\n",
            "\u001b[2Khttps://repo1.maven.org/maven2/com/fasterxml/jackson/core/jackson-databind/2.9.…\n",
            "\u001b[2K    0.0% [          ] 0B (0B / s)\n",
            "\u001b[2Khttps://repo1.maven.org/maven2/org/scalameta/interactive_2.12.7/4.1.4/interacti…\n",
            "\u001b[2K    0.0% [          ] 0B (0B / s)\n",
            "\u001b[2Khttps://repo1.maven.org/maven2/com/fasterxml/jackson/core/jackson-databind/2.9.…\n",
            "\u001b[2K    0.0% [          ] 0B (0B / s)\n",
            "\u001b[2Khttps://repo1.maven.org/maven2/io/get-coursier/coursier-cache_2.12/1.1.0-M7/cou…\n",
            "\u001b[2K    0.0% [          ] 0B (0B / s)\n",
            "\u001b[2Khttps://repo1.maven.org/maven2/io/get-coursier/coursier-cache_2.12/1.1.0-M7/cou…\n",
            "\u001b[2K    0.0% [          ] 0B (0B / s)\n",
            "\u001b[2Khttps://repo1.maven.org/maven2/com/lihaoyi/upickle-implicits_2.12/0.7.1/upickle…\n",
            "\u001b[2K    0.0% [          ] 0B (0B / s)\n",
            "\u001b[2A\u001b[2A\u001b[2A\u001b[2A\u001b[2A\u001b[2A\u001b[10000D\u001b[2Khttps://repo1.maven.org/maven2/com/fasterxml/jackson/core/jackson-databind/2.9.…\n",
            "\u001b[2K    0.0% [          ] 0B (0B / s)\n",
            "\u001b[2Khttps://repo1.maven.org/maven2/org/scalameta/interactive_2.12.7/4.1.4/interacti…\n",
            "\u001b[2K    0.0% [          ] 0B (0B / s)\n",
            "\u001b[2Khttps://repo1.maven.org/maven2/com/fasterxml/jackson/core/jackson-databind/2.9.…\n",
            "\u001b[2K    0.0% [          ] 0B (0B / s)\n",
            "\u001b[2Khttps://repo1.maven.org/maven2/io/get-coursier/coursier-cache_2.12/1.1.0-M7/cou…\n",
            "\u001b[2K    0.0% [          ] 0B (0B / s)\n",
            "\u001b[2Khttps://repo1.maven.org/maven2/io/get-coursier/coursier-cache_2.12/1.1.0-M7/cou…\n",
            "\u001b[2K    0.0% [          ] 0B (0B / s)\n",
            "\u001b[2Khttps://repo1.maven.org/maven2/com/lihaoyi/upickle-implicits_2.12/0.7.1/upickle…\n",
            "\u001b[2K    0.0% [          ] 0B (0B / s)\n",
            "\u001b[2A\u001b[2A\u001b[2A\u001b[2A\u001b[2A\u001b[2A\u001b[10000D\u001b[2Khttps://repo1.maven.org/maven2/com/fasterxml/jackson/core/jackson-databind/2.9.…\n",
            "\u001b[2K   64.3% [######    ] 847.5 KiB (5.5 MiB / s)\n",
            "\u001b[2Khttps://repo1.maven.org/maven2/org/scalameta/interactive_2.12.7/4.1.4/interacti…\n",
            "\u001b[2K    0.0% [          ] 0B (0B / s)\n",
            "\u001b[2Khttps://repo1.maven.org/maven2/com/fasterxml/jackson/core/jackson-databind/2.9.…\n",
            "\u001b[2K    0.0% [          ] 0B (0B / s)\n",
            "\u001b[2Khttps://repo1.maven.org/maven2/io/get-coursier/coursier-cache_2.12/1.1.0-M7/cou…\n",
            "\u001b[2K    0.0% [          ] 0B (0B / s)\n",
            "\u001b[2Khttps://repo1.maven.org/maven2/io/get-coursier/coursier-cache_2.12/1.1.0-M7/cou…\n",
            "\u001b[2K    0.0% [          ] 0B (0B / s)\n",
            "\u001b[2Khttps://repo1.maven.org/maven2/com/lihaoyi/upickle-implicits_2.12/0.7.1/upickle…\n",
            "\u001b[2K    0.0% [          ] 0B (0B / s)\n",
            "\u001b[2A\u001b[2A\u001b[2A\u001b[2A\u001b[2A\u001b[2A\u001b[10000D\u001b[2Khttps://repo1.maven.org/maven2/com/fasterxml/jackson/core/jackson-databind/2.9.…\n",
            "\u001b[2K  100.0% [##########] 1.3 MiB (7.5 MiB / s)\n",
            "\u001b[2Khttps://repo1.maven.org/maven2/org/scalameta/interactive_2.12.7/4.1.4/interacti…\n",
            "\u001b[2K    0.0% [          ] 0B (0B / s)\n",
            "\u001b[2Khttps://repo1.maven.org/maven2/com/fasterxml/jackson/core/jackson-databind/2.9.…\n",
            "\u001b[2K    0.0% [          ] 0B (0B / s)\n",
            "\u001b[2Khttps://repo1.maven.org/maven2/io/get-coursier/coursier-cache_2.12/1.1.0-M7/cou…\n",
            "\u001b[2K    0.0% [          ] 0B (0B / s)\n",
            "\u001b[2Khttps://repo1.maven.org/maven2/io/get-coursier/coursier-cache_2.12/1.1.0-M7/cou…\n",
            "\u001b[2K    0.0% [          ] 0B (0B / s)\n",
            "\u001b[2Khttps://repo1.maven.org/maven2/com/lihaoyi/upickle-implicits_2.12/0.7.1/upickle…\n",
            "\u001b[2K    0.0% [          ] 0B (0B / s)\n",
            "\u001b[2Khttps://repo1.maven.org/maven2/com/lihaoyi/os-lib_2.12/0.2.6/os-lib_2.12-0.2.6-…\n",
            "\u001b[2K    0.0% [          ] 0B (0B / s)\n",
            "\u001b[2A\u001b[2A\u001b[2A\u001b[2A\u001b[2A\u001b[2A\u001b[10000D\u001b[2Khttps://repo1.maven.org/maven2/com/fasterxml/jackson/core/jackson-databind/2.9.…\n",
            "\u001b[2K   84.0% [########  ] 815.5 KiB (5.6 MiB / s)\n",
            "\u001b[2Khttps://repo1.maven.org/maven2/org/scalameta/interactive_2.12.7/4.1.4/interacti…\n",
            "\u001b[2K    0.0% [          ] 0B (0B / s)\n",
            "\u001b[2Khttps://repo1.maven.org/maven2/io/get-coursier/coursier-cache_2.12/1.1.0-M7/cou…\n",
            "\u001b[2K    0.0% [          ] 0B (0B / s)\n",
            "\u001b[2Khttps://repo1.maven.org/maven2/io/get-coursier/coursier-cache_2.12/1.1.0-M7/cou…\n",
            "\u001b[2K    0.0% [          ] 0B (0B / s)\n",
            "\u001b[2Khttps://repo1.maven.org/maven2/com/lihaoyi/upickle-implicits_2.12/0.7.1/upickle…\n",
            "\u001b[2K    0.0% [          ] 0B (0B / s)\n",
            "\u001b[2Khttps://repo1.maven.org/maven2/com/lihaoyi/os-lib_2.12/0.2.6/os-lib_2.12-0.2.6-…\n",
            "\u001b[2K    0.0% [          ] 0B (0B / s)\n",
            "\u001b[2A\u001b[2A\u001b[2A\u001b[2A\u001b[2A\u001b[2A\u001b[10000D\u001b[2Khttps://repo1.maven.org/maven2/com/fasterxml/jackson/core/jackson-databind/2.9.…\n",
            "\u001b[2K  100.0% [##########] 971.0 KiB (5.9 MiB / s)\n",
            "\u001b[2Khttps://repo1.maven.org/maven2/io/get-coursier/coursier-cache_2.12/1.1.0-M7/cou…\n",
            "\u001b[2K  100.0% [##########] 33.8 KiB (256.3 KiB / s)\n",
            "\u001b[2Khttps://repo1.maven.org/maven2/org/scalameta/interactive_2.12.7/4.1.4/interacti…\n",
            "\u001b[2K    0.0% [          ] 0B (0B / s)\n",
            "\u001b[2Khttps://repo1.maven.org/maven2/io/get-coursier/coursier-cache_2.12/1.1.0-M7/cou…\n",
            "\u001b[2K    0.0% [          ] 0B (0B / s)\n",
            "\u001b[2Khttps://repo1.maven.org/maven2/com/lihaoyi/upickle-implicits_2.12/0.7.1/upickle…\n",
            "\u001b[2K    0.0% [          ] 0B (0B / s)\n",
            "\u001b[2Khttps://repo1.maven.org/maven2/com/lihaoyi/os-lib_2.12/0.2.6/os-lib_2.12-0.2.6-…\n",
            "\u001b[2K    0.0% [          ] 0B (0B / s)\n",
            "\u001b[2Khttps://repo1.maven.org/maven2/org/scalameta/fastparse-utils_2.12/1.0.0/fastpar…\n",
            "\u001b[2K    0.0% [          ] 0B (0B / s)\n",
            "\u001b[2Khttps://repo1.maven.org/maven2/com/lihaoyi/pprint_2.12/0.5.2/pprint_2.12-0.5.2.…\n",
            "\u001b[2K    0.0% [          ] 0B (0B / s)\n",
            "\u001b[2A\u001b[2A\u001b[2A\u001b[2A\u001b[2A\u001b[2A\u001b[10000D\u001b[2Khttps://repo1.maven.org/maven2/com/lihaoyi/upickle-implicits_2.12/0.7.1/upickle…\n",
            "\u001b[2K  100.0% [##########] 11.1 KiB (77.1 KiB / s)\n",
            "\u001b[2Khttps://repo1.maven.org/maven2/io/get-coursier/coursier-cache_2.12/1.1.0-M7/cou…\n",
            "\u001b[2K  100.0% [##########] 178.3 KiB (1.1 MiB / s)\n",
            "\u001b[2Khttps://repo1.maven.org/maven2/org/scalameta/interactive_2.12.7/4.1.4/interacti…\n",
            "\u001b[2K    0.0% [          ] 0B (0B / s)\n",
            "\u001b[2Khttps://repo1.maven.org/maven2/com/lihaoyi/os-lib_2.12/0.2.6/os-lib_2.12-0.2.6-…\n",
            "\u001b[2K    0.0% [          ] 0B (0B / s)\n",
            "\u001b[2Khttps://repo1.maven.org/maven2/org/scalameta/fastparse-utils_2.12/1.0.0/fastpar…\n",
            "\u001b[2K    0.0% [          ] 0B (0B / s)\n",
            "\u001b[2Khttps://repo1.maven.org/maven2/com/lihaoyi/pprint_2.12/0.5.2/pprint_2.12-0.5.2.…\n",
            "\u001b[2K    0.0% [          ] 0B (0B / s)\n",
            "\u001b[2Khttps://repo1.maven.org/maven2/eu/neilalexander/jnacl/1.0.0/jnacl-1.0.0-sources…\n",
            "\u001b[2K    0.0% [          ] 0B (0B / s)\n",
            "\u001b[2Khttps://repo1.maven.org/maven2/org/jboss/threads/jboss-threads/2.3.0.Beta2/jbos…\n",
            "\u001b[2K    0.0% [          ] 0B (0B / s)\n",
            "\u001b[2A\u001b[2A\u001b[2A\u001b[2A\u001b[2A\u001b[2A\u001b[10000D\u001b[2Khttps://repo1.maven.org/maven2/org/scalameta/interactive_2.12.7/4.1.4/interacti…\n",
            "\u001b[2K  100.0% [##########] 2.4 KiB (8.2 KiB / s)\n",
            "\u001b[2Khttps://repo1.maven.org/maven2/com/lihaoyi/os-lib_2.12/0.2.6/os-lib_2.12-0.2.6-…\n",
            "\u001b[2K    0.0% [          ] 0B (0B / s)\n",
            "\u001b[2Khttps://repo1.maven.org/maven2/org/scalameta/fastparse-utils_2.12/1.0.0/fastpar…\n",
            "\u001b[2K    0.0% [          ] 0B (0B / s)\n",
            "\u001b[2Khttps://repo1.maven.org/maven2/com/lihaoyi/pprint_2.12/0.5.2/pprint_2.12-0.5.2.…\n",
            "\u001b[2K    0.0% [          ] 0B (0B / s)\n",
            "\u001b[2Khttps://repo1.maven.org/maven2/eu/neilalexander/jnacl/1.0.0/jnacl-1.0.0-sources…\n",
            "\u001b[2K    0.0% [          ] 0B (0B / s)\n",
            "\u001b[2Khttps://repo1.maven.org/maven2/org/jboss/threads/jboss-threads/2.3.0.Beta2/jbos…\n",
            "\u001b[2K    0.0% [          ] 0B (0B / s)\n",
            "\u001b[2Khttps://repo1.maven.org/maven2/org/scalameta/metabrowse-core_2.12/0.2.2/metabro…\n",
            "\u001b[2K    0.0% [          ] 0B (0B / s)\n",
            "\u001b[2A\u001b[2A\u001b[2A\u001b[2A\u001b[2A\u001b[2A\u001b[10000D\u001b[2Khttps://repo1.maven.org/maven2/com/lihaoyi/os-lib_2.12/0.2.6/os-lib_2.12-0.2.6-…\n",
            "\u001b[2K  100.0% [##########] 28.5 KiB (193.7 KiB / s)\n",
            "\u001b[2Khttps://repo1.maven.org/maven2/org/scalameta/fastparse-utils_2.12/1.0.0/fastpar…\n",
            "\u001b[2K    0.0% [          ] 0B (0B / s)\n",
            "\u001b[2Khttps://repo1.maven.org/maven2/com/lihaoyi/pprint_2.12/0.5.2/pprint_2.12-0.5.2.…\n",
            "\u001b[2K    0.0% [          ] 0B (0B / s)\n",
            "\u001b[2Khttps://repo1.maven.org/maven2/eu/neilalexander/jnacl/1.0.0/jnacl-1.0.0-sources…\n",
            "\u001b[2K    0.0% [          ] 0B (0B / s)\n",
            "\u001b[2Khttps://repo1.maven.org/maven2/org/jboss/threads/jboss-threads/2.3.0.Beta2/jbos…\n",
            "\u001b[2K    0.0% [          ] 0B (0B / s)\n",
            "\u001b[2Khttps://repo1.maven.org/maven2/org/scalameta/metabrowse-core_2.12/0.2.2/metabro…\n",
            "\u001b[2K    0.0% [          ] 0B (0B / s)\n",
            "\u001b[2Khttps://repo1.maven.org/maven2/org/scalameta/metabrowse-server_2.12/0.2.2/metab…\n",
            "\u001b[2K    0.0% [          ] 0B (0B / s)\n",
            "\u001b[2A\u001b[2A\u001b[2A\u001b[2A\u001b[2A\u001b[2A\u001b[10000D\u001b[2Khttps://repo1.maven.org/maven2/org/scalameta/fastparse-utils_2.12/1.0.0/fastpar…\n",
            "\u001b[2K  100.0% [##########] 9.2 KiB (67.5 KiB / s)\n",
            "\u001b[2Khttps://repo1.maven.org/maven2/com/lihaoyi/pprint_2.12/0.5.2/pprint_2.12-0.5.2.…\n",
            "\u001b[2K    0.0% [          ] 0B (0B / s)\n",
            "\u001b[2Khttps://repo1.maven.org/maven2/eu/neilalexander/jnacl/1.0.0/jnacl-1.0.0-sources…\n",
            "\u001b[2K    0.0% [          ] 0B (0B / s)\n",
            "\u001b[2Khttps://repo1.maven.org/maven2/org/jboss/threads/jboss-threads/2.3.0.Beta2/jbos…\n",
            "\u001b[2K    0.0% [          ] 0B (0B / s)\n",
            "\u001b[2Khttps://repo1.maven.org/maven2/org/scalameta/metabrowse-core_2.12/0.2.2/metabro…\n",
            "\u001b[2K    0.0% [          ] 0B (0B / s)\n",
            "\u001b[2Khttps://repo1.maven.org/maven2/org/scalameta/metabrowse-server_2.12/0.2.2/metab…\n",
            "\u001b[2K    0.0% [          ] 0B (0B / s)\n",
            "\u001b[2Khttps://repo1.maven.org/maven2/com/lihaoyi/fastparse_2.12/2.1.0/fastparse_2.12-…\n",
            "\u001b[2K    0.0% [          ] 0B (0B / s)\n",
            "\u001b[2A\u001b[2A\u001b[2A\u001b[2A\u001b[2A\u001b[2A\u001b[10000D\u001b[2Khttps://repo1.maven.org/maven2/com/lihaoyi/pprint_2.12/0.5.2/pprint_2.12-0.5.2.…\n",
            "\u001b[2K  100.0% [##########] 147.0 KiB (1.0 MiB / s)\n",
            "\u001b[2Khttps://repo1.maven.org/maven2/eu/neilalexander/jnacl/1.0.0/jnacl-1.0.0-sources…\n",
            "\u001b[2K  100.0% [##########] 18.0 KiB (132.5 KiB / s)\n",
            "\u001b[2Khttps://repo1.maven.org/maven2/org/jboss/threads/jboss-threads/2.3.0.Beta2/jbos…\n",
            "\u001b[2K  100.0% [##########] 121.7 KiB (908.3 KiB / s)\n",
            "\u001b[2Khttps://repo1.maven.org/maven2/org/scalameta/metabrowse-core_2.12/0.2.2/metabro…\n",
            "\u001b[2K    0.0% [          ] 0B (0B / s)\n",
            "\u001b[2Khttps://repo1.maven.org/maven2/org/scalameta/metabrowse-server_2.12/0.2.2/metab…\n",
            "\u001b[2K    0.0% [          ] 0B (0B / s)\n",
            "\u001b[2Khttps://repo1.maven.org/maven2/com/lihaoyi/fastparse_2.12/2.1.0/fastparse_2.12-…\n",
            "\u001b[2K    0.0% [          ] 0B (0B / s)\n",
            "\u001b[2Khttps://repo1.maven.org/maven2/com/github/scopt/scopt_2.12/3.5.0/scopt_2.12-3.5…\n",
            "\u001b[2K    0.0% [          ] 0B (0B / s)\n",
            "\u001b[2Khttps://repo1.maven.org/maven2/com/lihaoyi/fastparse_2.12/2.1.0/fastparse_2.12-…\n",
            "\u001b[2K    0.0% [          ] 0B (0B / s)\n",
            "\u001b[2Khttps://repo1.maven.org/maven2/com/github/pathikrit/better-files_2.12/3.7.0/bet…\n",
            "\u001b[2K    0.0% [          ] 0B (0B / s)\n",
            "\u001b[2A\u001b[2A\u001b[2A\u001b[2A\u001b[2A\u001b[2A\u001b[10000D\u001b[2Khttps://repo1.maven.org/maven2/org/scalameta/metabrowse-core_2.12/0.2.2/metabro…\n",
            "\u001b[2K    0.0% [          ] 0B (0B / s)\n",
            "\u001b[2Khttps://repo1.maven.org/maven2/org/scalameta/metabrowse-server_2.12/0.2.2/metab…\n",
            "\u001b[2K    0.0% [          ] 0B (0B / s)\n",
            "\u001b[2Khttps://repo1.maven.org/maven2/com/lihaoyi/fastparse_2.12/2.1.0/fastparse_2.12-…\n",
            "\u001b[2K    0.0% [          ] 0B (0B / s)\n",
            "\u001b[2Khttps://repo1.maven.org/maven2/com/github/scopt/scopt_2.12/3.5.0/scopt_2.12-3.5…\n",
            "\u001b[2K    0.0% [          ] 0B (0B / s)\n",
            "\u001b[2Khttps://repo1.maven.org/maven2/com/lihaoyi/fastparse_2.12/2.1.0/fastparse_2.12-…\n",
            "\u001b[2K    0.0% [          ] 0B (0B / s)\n",
            "\u001b[2Khttps://repo1.maven.org/maven2/com/github/pathikrit/better-files_2.12/3.7.0/bet…\n",
            "\u001b[2K    0.0% [          ] 0B (0B / s)\n",
            "\u001b[2A\u001b[2A\u001b[2A\u001b[2A\u001b[2A\u001b[2A\u001b[10000D\u001b[2Khttps://repo1.maven.org/maven2/org/scalameta/metabrowse-core_2.12/0.2.2/metabro…\n",
            "\u001b[2K  100.0% [##########] 142.7 KiB (914.7 KiB / s)\n",
            "\u001b[2Khttps://repo1.maven.org/maven2/org/scalameta/metabrowse-server_2.12/0.2.2/metab…\n",
            "\u001b[2K  100.0% [##########] 5.2 KiB (38.1 KiB / s)\n",
            "\u001b[2Khttps://repo1.maven.org/maven2/com/lihaoyi/fastparse_2.12/2.1.0/fastparse_2.12-…\n",
            "\u001b[2K    0.0% [          ] 0B (0B / s)\n",
            "\u001b[2Khttps://repo1.maven.org/maven2/com/github/scopt/scopt_2.12/3.5.0/scopt_2.12-3.5…\n",
            "\u001b[2K    0.0% [          ] 0B (0B / s)\n",
            "\u001b[2Khttps://repo1.maven.org/maven2/com/lihaoyi/fastparse_2.12/2.1.0/fastparse_2.12-…\n",
            "\u001b[2K    0.0% [          ] 0B (0B / s)\n",
            "\u001b[2Khttps://repo1.maven.org/maven2/com/github/pathikrit/better-files_2.12/3.7.0/bet…\n",
            "\u001b[2K    0.0% [          ] 0B (0B / s)\n",
            "\u001b[2Khttps://repo1.maven.org/maven2/org/slf4j/slf4j-nop/1.7.26/slf4j-nop-1.7.26.jar\n",
            "\u001b[2K    0.0% [          ] 0B (0B / s)\n",
            "\u001b[2Khttps://repo1.maven.org/maven2/org/json4s/json4s-core_2.12/3.6.2/json4s-core_2.…\n",
            "\u001b[2K    0.0% [          ] 0B (0B / s)\n",
            "\u001b[2A\u001b[2A\u001b[2A\u001b[2A\u001b[2A\u001b[2A\u001b[10000D\u001b[2Khttps://repo1.maven.org/maven2/com/github/scopt/scopt_2.12/3.5.0/scopt_2.12-3.5…\n",
            "\u001b[2K  100.0% [##########] 71.8 KiB (548.0 KiB / s)\n",
            "\u001b[2Khttps://repo1.maven.org/maven2/com/lihaoyi/fastparse_2.12/2.1.0/fastparse_2.12-…\n",
            "\u001b[2K  100.0% [##########] 297.6 KiB (2.0 MiB / s)\n",
            "\u001b[2Khttps://repo1.maven.org/maven2/com/lihaoyi/fastparse_2.12/2.1.0/fastparse_2.12-…\n",
            "\u001b[2K    0.0% [          ] 0B (0B / s)\n",
            "\u001b[2Khttps://repo1.maven.org/maven2/com/github/pathikrit/better-files_2.12/3.7.0/bet…\n",
            "\u001b[2K    0.0% [          ] 0B (0B / s)\n",
            "\u001b[2Khttps://repo1.maven.org/maven2/org/slf4j/slf4j-nop/1.7.26/slf4j-nop-1.7.26.jar\n",
            "\u001b[2K    0.0% [          ] 0B (0B / s)\n",
            "\u001b[2Khttps://repo1.maven.org/maven2/org/json4s/json4s-core_2.12/3.6.2/json4s-core_2.…\n",
            "\u001b[2K    0.0% [          ] 0B (0B / s)\n",
            "\u001b[2Khttps://repo1.maven.org/maven2/com/lihaoyi/upickle-core_2.12/0.7.1/upickle-core…\n",
            "\u001b[2K    0.0% [          ] 0B (0B / s)\n",
            "\u001b[2Khttps://repo1.maven.org/maven2/com/thesamet/scalapb/scalapb-runtime_2.12/0.8.4/…\n",
            "\u001b[2K    0.0% [          ] 0B (0B / s)\n",
            "\u001b[2A\u001b[2A\u001b[2A\u001b[2A\u001b[2A\u001b[2A\u001b[10000D\u001b[2Khttps://repo1.maven.org/maven2/com/github/pathikrit/better-files_2.12/3.7.0/bet…\n",
            "\u001b[2K  100.0% [##########] 252.3 KiB (1.7 MiB / s)\n",
            "\u001b[2Khttps://repo1.maven.org/maven2/com/lihaoyi/fastparse_2.12/2.1.0/fastparse_2.12-…\n",
            "\u001b[2K    0.0% [          ] 0B (0B / s)\n",
            "\u001b[2Khttps://repo1.maven.org/maven2/org/slf4j/slf4j-nop/1.7.26/slf4j-nop-1.7.26.jar\n",
            "\u001b[2K    0.0% [          ] 0B (0B / s)\n",
            "\u001b[2Khttps://repo1.maven.org/maven2/org/json4s/json4s-core_2.12/3.6.2/json4s-core_2.…\n",
            "\u001b[2K    0.0% [          ] 0B (0B / s)\n",
            "\u001b[2Khttps://repo1.maven.org/maven2/com/lihaoyi/upickle-core_2.12/0.7.1/upickle-core…\n",
            "\u001b[2K    0.0% [          ] 0B (0B / s)\n",
            "\u001b[2Khttps://repo1.maven.org/maven2/com/thesamet/scalapb/scalapb-runtime_2.12/0.8.4/…\n",
            "\u001b[2K    0.0% [          ] 0B (0B / s)\n",
            "\u001b[2Khttps://repo1.maven.org/maven2/com/github/javaparser/javaparser-core/3.2.5/java…\n",
            "\u001b[2K    0.0% [          ] 0B (0B / s)\n",
            "\u001b[2A\u001b[2A\u001b[2A\u001b[2A\u001b[2A\u001b[2A\u001b[10000D\u001b[2Khttps://repo1.maven.org/maven2/com/lihaoyi/fastparse_2.12/2.1.0/fastparse_2.12-…\n",
            "\u001b[2K  100.0% [##########] 30.0 KiB (162.1 KiB / s)\n",
            "\u001b[2Khttps://repo1.maven.org/maven2/org/slf4j/slf4j-nop/1.7.26/slf4j-nop-1.7.26.jar\n",
            "\u001b[2K  100.0% [##########] 3.9 KiB (28.6 KiB / s)\n",
            "\u001b[2Khttps://repo1.maven.org/maven2/org/json4s/json4s-core_2.12/3.6.2/json4s-core_2.…\n",
            "\u001b[2K    0.0% [          ] 0B (0B / s)\n",
            "\u001b[2Khttps://repo1.maven.org/maven2/com/lihaoyi/upickle-core_2.12/0.7.1/upickle-core…\n",
            "\u001b[2K    0.0% [          ] 0B (0B / s)\n",
            "\u001b[2Khttps://repo1.maven.org/maven2/com/thesamet/scalapb/scalapb-runtime_2.12/0.8.4/…\n",
            "\u001b[2K    0.0% [          ] 0B (0B / s)\n",
            "\u001b[2Khttps://repo1.maven.org/maven2/com/github/javaparser/javaparser-core/3.2.5/java…\n",
            "\u001b[2K    0.0% [          ] 0B (0B / s)\n",
            "\u001b[2Khttps://repo1.maven.org/maven2/org/scalameta/parsers_2.12/4.1.4/parsers_2.12-4.…\n",
            "\u001b[2K    0.0% [          ] 0B (0B / s)\n",
            "\u001b[2Khttps://repo1.maven.org/maven2/com/fasterxml/jackson/core/jackson-annotations/2…\n",
            "\u001b[2K    0.0% [          ] 0B (0B / s)\n",
            "\u001b[2A\u001b[2A\u001b[2A\u001b[2A\u001b[2A\u001b[2A\u001b[10000D\u001b[2Khttps://repo1.maven.org/maven2/com/lihaoyi/upickle-core_2.12/0.7.1/upickle-core…\n",
            "\u001b[2K  100.0% [##########] 9.0 KiB (68.5 KiB / s)\n",
            "\u001b[2Khttps://repo1.maven.org/maven2/org/json4s/json4s-core_2.12/3.6.2/json4s-core_2.…\n",
            "\u001b[2K    0.0% [          ] 0B (0B / s)\n",
            "\u001b[2Khttps://repo1.maven.org/maven2/com/thesamet/scalapb/scalapb-runtime_2.12/0.8.4/…\n",
            "\u001b[2K    0.0% [          ] 0B (0B / s)\n",
            "\u001b[2Khttps://repo1.maven.org/maven2/com/github/javaparser/javaparser-core/3.2.5/java…\n",
            "\u001b[2K    0.0% [          ] 0B (0B / s)\n",
            "\u001b[2Khttps://repo1.maven.org/maven2/org/scalameta/parsers_2.12/4.1.4/parsers_2.12-4.…\n",
            "\u001b[2K    0.0% [          ] 0B (0B / s)\n",
            "\u001b[2Khttps://repo1.maven.org/maven2/com/fasterxml/jackson/core/jackson-annotations/2…\n",
            "\u001b[2K    0.0% [          ] 0B (0B / s)\n",
            "\u001b[2Khttps://repo1.maven.org/maven2/com/github/alexarchambault/case-app-util_2.12/2.…\n",
            "\u001b[2K    0.0% [          ] 0B (0B / s)\n",
            "\u001b[2A\u001b[2A\u001b[2A\u001b[2A\u001b[2A\u001b[2A\u001b[10000D\u001b[2Khttps://repo1.maven.org/maven2/org/json4s/json4s-core_2.12/3.6.2/json4s-core_2.…\n",
            "\u001b[2K    0.0% [          ] 0B (0B / s)\n",
            "\u001b[2Khttps://repo1.maven.org/maven2/com/thesamet/scalapb/scalapb-runtime_2.12/0.8.4/…\n",
            "\u001b[2K    0.0% [          ] 0B (0B / s)\n",
            "\u001b[2Khttps://repo1.maven.org/maven2/com/github/javaparser/javaparser-core/3.2.5/java…\n",
            "\u001b[2K    0.0% [          ] 0B (0B / s)\n",
            "\u001b[2Khttps://repo1.maven.org/maven2/org/scalameta/parsers_2.12/4.1.4/parsers_2.12-4.…\n",
            "\u001b[2K    0.0% [          ] 0B (0B / s)\n",
            "\u001b[2Khttps://repo1.maven.org/maven2/com/fasterxml/jackson/core/jackson-annotations/2…\n",
            "\u001b[2K    0.0% [          ] 0B (0B / s)\n",
            "\u001b[2Khttps://repo1.maven.org/maven2/com/github/alexarchambault/case-app-util_2.12/2.…\n",
            "\u001b[2K    0.0% [          ] 0B (0B / s)\n",
            "\u001b[2A\u001b[2A\u001b[2A\u001b[2A\u001b[2A\u001b[2A\u001b[10000D\u001b[2Khttps://repo1.maven.org/maven2/com/thesamet/scalapb/scalapb-runtime_2.12/0.8.4/…\n",
            "\u001b[2K  100.0% [##########] 248.1 KiB (1.5 MiB / s)\n",
            "\u001b[2Khttps://repo1.maven.org/maven2/com/github/javaparser/javaparser-core/3.2.5/java…\n",
            "\u001b[2K   87.4% [########  ] 735.5 KiB (4.9 MiB / s)\n",
            "\u001b[2Khttps://repo1.maven.org/maven2/org/json4s/json4s-core_2.12/3.6.2/json4s-core_2.…\n",
            "\u001b[2K    0.0% [          ] 0B (0B / s)\n",
            "\u001b[2Khttps://repo1.maven.org/maven2/org/scalameta/parsers_2.12/4.1.4/parsers_2.12-4.…\n",
            "\u001b[2K    0.0% [          ] 0B (0B / s)\n",
            "\u001b[2Khttps://repo1.maven.org/maven2/com/fasterxml/jackson/core/jackson-annotations/2…\n",
            "\u001b[2K    0.0% [          ] 0B (0B / s)\n",
            "\u001b[2Khttps://repo1.maven.org/maven2/com/github/alexarchambault/case-app-util_2.12/2.…\n",
            "\u001b[2K    0.0% [          ] 0B (0B / s)\n",
            "\u001b[2Khttps://repo1.maven.org/maven2/com/thesamet/scalapb/lenses_2.12/0.8.4/lenses_2.…\n",
            "\u001b[2K    0.0% [          ] 0B (0B / s)\n",
            "\u001b[2A\u001b[2A\u001b[2A\u001b[2A\u001b[2A\u001b[2A\u001b[10000D\u001b[2Khttps://repo1.maven.org/maven2/com/github/javaparser/javaparser-core/3.2.5/java…\n",
            "\u001b[2K  100.0% [##########] 841.8 KiB (5.0 MiB / s)\n",
            "\u001b[2Khttps://repo1.maven.org/maven2/org/scalameta/parsers_2.12/4.1.4/parsers_2.12-4.…\n",
            "\u001b[2K  100.0% [##########] 34.4 KiB (258.6 KiB / s)\n",
            "\u001b[2Khttps://repo1.maven.org/maven2/org/json4s/json4s-core_2.12/3.6.2/json4s-core_2.…\n",
            "\u001b[2K    0.0% [          ] 0B (0B / s)\n",
            "\u001b[2Khttps://repo1.maven.org/maven2/com/fasterxml/jackson/core/jackson-annotations/2…\n",
            "\u001b[2K    0.0% [          ] 0B (0B / s)\n",
            "\u001b[2Khttps://repo1.maven.org/maven2/com/github/alexarchambault/case-app-util_2.12/2.…\n",
            "\u001b[2K    0.0% [          ] 0B (0B / s)\n",
            "\u001b[2Khttps://repo1.maven.org/maven2/com/thesamet/scalapb/lenses_2.12/0.8.4/lenses_2.…\n",
            "\u001b[2K    0.0% [          ] 0B (0B / s)\n",
            "\u001b[2Khttps://repo1.maven.org/maven2/org/scalameta/io_2.12/4.1.4/io_2.12-4.1.4-source…\n",
            "\u001b[2K    0.0% [          ] 0B (0B / s)\n",
            "\u001b[2A\u001b[2A\u001b[2A\u001b[2A\u001b[2A\u001b[2A\u001b[10000D\u001b[2Khttps://repo1.maven.org/maven2/org/scalameta/parsers_2.12/4.1.4/parsers_2.12-4.…\n",
            "\u001b[2K  100.0% [##########] 34.4 KiB (224.8 KiB / s)\n",
            "\u001b[2Khttps://repo1.maven.org/maven2/com/fasterxml/jackson/core/jackson-annotations/2…\n",
            "\u001b[2K  100.0% [##########] 66.6 KiB (468.9 KiB / s)\n",
            "\u001b[2Khttps://repo1.maven.org/maven2/org/json4s/json4s-core_2.12/3.6.2/json4s-core_2.…\n",
            "\u001b[2K    0.0% [          ] 0B (0B / s)\n",
            "\u001b[2Khttps://repo1.maven.org/maven2/com/github/alexarchambault/case-app-util_2.12/2.…\n",
            "\u001b[2K    0.0% [          ] 0B (0B / s)\n",
            "\u001b[2Khttps://repo1.maven.org/maven2/com/thesamet/scalapb/lenses_2.12/0.8.4/lenses_2.…\n",
            "\u001b[2K    0.0% [          ] 0B (0B / s)\n",
            "\u001b[2Khttps://repo1.maven.org/maven2/org/scalameta/io_2.12/4.1.4/io_2.12-4.1.4-source…\n",
            "\u001b[2K    0.0% [          ] 0B (0B / s)\n",
            "\u001b[2Khttps://repo1.maven.org/maven2/org/slf4j/slf4j-nop/1.7.26/slf4j-nop-1.7.26-sour…\n",
            "\u001b[2K    0.0% [          ] 0B (0B / s)\n",
            "\u001b[2A\u001b[2A\u001b[2A\u001b[2A\u001b[2A\u001b[2A\u001b[10000D\u001b[2Khttps://repo1.maven.org/maven2/com/fasterxml/jackson/core/jackson-annotations/2…\n",
            "\u001b[2K  100.0% [##########] 66.6 KiB (411.0 KiB / s)\n",
            "\u001b[2Khttps://repo1.maven.org/maven2/org/json4s/json4s-core_2.12/3.6.2/json4s-core_2.…\n",
            "\u001b[2K    0.0% [          ] 0B (0B / s)\n",
            "\u001b[2Khttps://repo1.maven.org/maven2/com/github/alexarchambault/case-app-util_2.12/2.…\n",
            "\u001b[2K    0.0% [          ] 0B (0B / s)\n",
            "\u001b[2Khttps://repo1.maven.org/maven2/com/thesamet/scalapb/lenses_2.12/0.8.4/lenses_2.…\n",
            "\u001b[2K    0.0% [          ] 0B (0B / s)\n",
            "\u001b[2Khttps://repo1.maven.org/maven2/org/scalameta/io_2.12/4.1.4/io_2.12-4.1.4-source…\n",
            "\u001b[2K    0.0% [          ] 0B (0B / s)\n",
            "\u001b[2Khttps://repo1.maven.org/maven2/org/slf4j/slf4j-nop/1.7.26/slf4j-nop-1.7.26-sour…\n",
            "\u001b[2K    0.0% [          ] 0B (0B / s)\n",
            "\u001b[2Khttps://repo1.maven.org/maven2/org/scalameta/parsers_2.12/4.1.4/parsers_2.12-4.…\n",
            "\u001b[2K    0.0% [          ] 0B (0B / s)\n",
            "\u001b[2A\u001b[2A\u001b[2A\u001b[2A\u001b[2A\u001b[2A\u001b[10000D\u001b[2Khttps://repo1.maven.org/maven2/com/github/alexarchambault/case-app-util_2.12/2.…\n",
            "\u001b[2K  100.0% [##########] 34.9 KiB (244.3 KiB / s)\n",
            "\u001b[2Khttps://repo1.maven.org/maven2/org/json4s/json4s-core_2.12/3.6.2/json4s-core_2.…\n",
            "\u001b[2K  100.0% [##########] 464.2 KiB (1.4 MiB / s)\n",
            "\u001b[2Khttps://repo1.maven.org/maven2/com/thesamet/scalapb/lenses_2.12/0.8.4/lenses_2.…\n",
            "\u001b[2K    0.0% [          ] 0B (0B / s)\n",
            "\u001b[2Khttps://repo1.maven.org/maven2/org/scalameta/io_2.12/4.1.4/io_2.12-4.1.4-source…\n",
            "\u001b[2K    0.0% [          ] 0B (0B / s)\n",
            "\u001b[2Khttps://repo1.maven.org/maven2/org/slf4j/slf4j-nop/1.7.26/slf4j-nop-1.7.26-sour…\n",
            "\u001b[2K    0.0% [          ] 0B (0B / s)\n",
            "\u001b[2Khttps://repo1.maven.org/maven2/org/scalameta/parsers_2.12/4.1.4/parsers_2.12-4.…\n",
            "\u001b[2K    0.0% [          ] 0B (0B / s)\n",
            "\u001b[2Khttps://repo1.maven.org/maven2/com/lihaoyi/ammonite-repl_2.12.8/1.6.4/ammonite-…\n",
            "\u001b[2K    0.0% [          ] 0B (0B / s)\n",
            "\u001b[2Khttps://repo1.maven.org/maven2/org/scala-sbt/test-interface/1.0/test-interface-…\n",
            "\u001b[2K    0.0% [          ] 0B (0B / s)\n",
            "\u001b[2A\u001b[2A\u001b[2A\u001b[2A\u001b[2A\u001b[2A\u001b[10000D\u001b[2Khttps://repo1.maven.org/maven2/com/thesamet/scalapb/lenses_2.12/0.8.4/lenses_2.…\n",
            "\u001b[2K  100.0% [##########] 34.5 KiB (253.4 KiB / s)\n",
            "\u001b[2Khttps://repo1.maven.org/maven2/org/scalameta/io_2.12/4.1.4/io_2.12-4.1.4-source…\n",
            "\u001b[2K    0.0% [          ] 0B (0B / s)\n",
            "\u001b[2Khttps://repo1.maven.org/maven2/org/slf4j/slf4j-nop/1.7.26/slf4j-nop-1.7.26-sour…\n",
            "\u001b[2K    0.0% [          ] 0B (0B / s)\n",
            "\u001b[2Khttps://repo1.maven.org/maven2/org/scalameta/parsers_2.12/4.1.4/parsers_2.12-4.…\n",
            "\u001b[2K    0.0% [          ] 0B (0B / s)\n",
            "\u001b[2Khttps://repo1.maven.org/maven2/com/lihaoyi/ammonite-repl_2.12.8/1.6.4/ammonite-…\n",
            "\u001b[2K    0.0% [          ] 0B (0B / s)\n",
            "\u001b[2Khttps://repo1.maven.org/maven2/org/scala-sbt/test-interface/1.0/test-interface-…\n",
            "\u001b[2K    0.0% [          ] 0B (0B / s)\n",
            "\u001b[2Khttps://repo1.maven.org/maven2/com/lihaoyi/ammonite-repl_2.12.8/1.6.4/ammonite-…\n",
            "\u001b[2K    0.0% [          ] 0B (0B / s)\n",
            "\u001b[2A\u001b[2A\u001b[2A\u001b[2A\u001b[2A\u001b[2A\u001b[10000D\u001b[2Khttps://repo1.maven.org/maven2/org/scalameta/io_2.12/4.1.4/io_2.12-4.1.4-source…\n",
            "\u001b[2K  100.0% [##########] 8.6 KiB (65.3 KiB / s)\n",
            "\u001b[2Khttps://repo1.maven.org/maven2/org/slf4j/slf4j-nop/1.7.26/slf4j-nop-1.7.26-sour…\n",
            "\u001b[2K    0.0% [          ] 0B (0B / s)\n",
            "\u001b[2Khttps://repo1.maven.org/maven2/org/scalameta/parsers_2.12/4.1.4/parsers_2.12-4.…\n",
            "\u001b[2K    0.0% [          ] 0B (0B / s)\n",
            "\u001b[2Khttps://repo1.maven.org/maven2/com/lihaoyi/ammonite-repl_2.12.8/1.6.4/ammonite-…\n",
            "\u001b[2K    0.0% [          ] 0B (0B / s)\n",
            "\u001b[2Khttps://repo1.maven.org/maven2/org/scala-sbt/test-interface/1.0/test-interface-…\n",
            "\u001b[2K    0.0% [          ] 0B (0B / s)\n",
            "\u001b[2Khttps://repo1.maven.org/maven2/com/lihaoyi/ammonite-repl_2.12.8/1.6.4/ammonite-…\n",
            "\u001b[2K    0.0% [          ] 0B (0B / s)\n",
            "\u001b[2Khttps://repo1.maven.org/maven2/com/thoughtworks/qdox/qdox/2.0-M9/qdox-2.0-M9-so…\n",
            "\u001b[2K    0.0% [          ] 0B\n",
            "\u001b[2A\u001b[2A\u001b[2A\u001b[2A\u001b[2A\u001b[2A\u001b[10000D\u001b[2Khttps://repo1.maven.org/maven2/org/slf4j/slf4j-nop/1.7.26/slf4j-nop-1.7.26-sour…\n",
            "\u001b[2K  100.0% [##########] 5.6 KiB (40.4 KiB / s)\n",
            "\u001b[2Khttps://repo1.maven.org/maven2/org/scalameta/parsers_2.12/4.1.4/parsers_2.12-4.…\n",
            "\u001b[2K    0.0% [          ] 0B (0B / s)\n",
            "\u001b[2Khttps://repo1.maven.org/maven2/com/lihaoyi/ammonite-repl_2.12.8/1.6.4/ammonite-…\n",
            "\u001b[2K    0.0% [          ] 0B (0B / s)\n",
            "\u001b[2Khttps://repo1.maven.org/maven2/org/scala-sbt/test-interface/1.0/test-interface-…\n",
            "\u001b[2K    0.0% [          ] 0B (0B / s)\n",
            "\u001b[2Khttps://repo1.maven.org/maven2/com/lihaoyi/ammonite-repl_2.12.8/1.6.4/ammonite-…\n",
            "\u001b[2K    0.0% [          ] 0B (0B / s)\n",
            "\u001b[2Khttps://repo1.maven.org/maven2/com/thoughtworks/qdox/qdox/2.0-M9/qdox-2.0-M9-so…\n",
            "\u001b[2K    0.0% [          ] 0B (0B / s)\n",
            "\u001b[2Khttps://repo1.maven.org/maven2/co/fs2/fs2-core_2.12/1.0.4/fs2-core_2.12-1.0.4-s…\n",
            "\u001b[2K    0.0% [          ] 0B (0B / s)\n",
            "\u001b[2A\u001b[2A\u001b[2A\u001b[2A\u001b[2A\u001b[2A\u001b[10000D\u001b[2Khttps://repo1.maven.org/maven2/org/scalameta/parsers_2.12/4.1.4/parsers_2.12-4.…\n",
            "\u001b[2K   61.4% [######    ] 415.5 KiB (2.8 MiB / s)\n",
            "\u001b[2Khttps://repo1.maven.org/maven2/com/lihaoyi/ammonite-repl_2.12.8/1.6.4/ammonite-…\n",
            "\u001b[2K    0.0% [          ] 0B (0B / s)\n",
            "\u001b[2Khttps://repo1.maven.org/maven2/org/scala-sbt/test-interface/1.0/test-interface-…\n",
            "\u001b[2K    0.0% [          ] 0B (0B / s)\n",
            "\u001b[2Khttps://repo1.maven.org/maven2/com/lihaoyi/ammonite-repl_2.12.8/1.6.4/ammonite-…\n",
            "\u001b[2K    0.0% [          ] 0B (0B / s)\n",
            "\u001b[2Khttps://repo1.maven.org/maven2/com/thoughtworks/qdox/qdox/2.0-M9/qdox-2.0-M9-so…\n",
            "\u001b[2K    0.0% [          ] 0B (0B / s)\n",
            "\u001b[2Khttps://repo1.maven.org/maven2/co/fs2/fs2-core_2.12/1.0.4/fs2-core_2.12-1.0.4-s…\n",
            "\u001b[2K    0.0% [          ] 0B (0B / s)\n",
            "\u001b[2A\u001b[2A\u001b[2A\u001b[2A\u001b[2A\u001b[2A\u001b[10000D\u001b[2Khttps://repo1.maven.org/maven2/org/scalameta/parsers_2.12/4.1.4/parsers_2.12-4.…\n",
            "\u001b[2K  100.0% [##########] 676.7 KiB (4.2 MiB / s)\n",
            "\u001b[2Khttps://repo1.maven.org/maven2/com/lihaoyi/ammonite-repl_2.12.8/1.6.4/ammonite-…\n",
            "\u001b[2K    0.0% [          ] 0B (0B / s)\n",
            "\u001b[2Khttps://repo1.maven.org/maven2/org/scala-sbt/test-interface/1.0/test-interface-…\n",
            "\u001b[2K    0.0% [          ] 0B (0B / s)\n",
            "\u001b[2Khttps://repo1.maven.org/maven2/com/lihaoyi/ammonite-repl_2.12.8/1.6.4/ammonite-…\n",
            "\u001b[2K    0.0% [          ] 0B (0B / s)\n",
            "\u001b[2Khttps://repo1.maven.org/maven2/com/thoughtworks/qdox/qdox/2.0-M9/qdox-2.0-M9-so…\n",
            "\u001b[2K    0.0% [          ] 0B (0B / s)\n",
            "\u001b[2Khttps://repo1.maven.org/maven2/co/fs2/fs2-core_2.12/1.0.4/fs2-core_2.12-1.0.4-s…\n",
            "\u001b[2K    0.0% [          ] 0B (0B / s)\n",
            "\u001b[2Khttps://repo1.maven.org/maven2/org/jboss/xnio/xnio-api/3.7.0.Final/xnio-api-3.7…\n",
            "\u001b[2K    0.0% [          ] 0B (0B / s)\n",
            "\u001b[2A\u001b[2A\u001b[2A\u001b[2A\u001b[2A\u001b[2A\u001b[10000D\u001b[2Khttps://repo1.maven.org/maven2/com/lihaoyi/ammonite-repl_2.12.8/1.6.4/ammonite-…\n",
            "\u001b[2K  100.0% [##########] 173.0 KiB (1.3 MiB / s)\n",
            "\u001b[2Khttps://repo1.maven.org/maven2/org/scala-sbt/test-interface/1.0/test-interface-…\n",
            "\u001b[2K    0.0% [          ] 0B (0B / s)\n",
            "\u001b[2Khttps://repo1.maven.org/maven2/com/lihaoyi/ammonite-repl_2.12.8/1.6.4/ammonite-…\n",
            "\u001b[2K    0.0% [          ] 0B (0B / s)\n",
            "\u001b[2Khttps://repo1.maven.org/maven2/com/thoughtworks/qdox/qdox/2.0-M9/qdox-2.0-M9-so…\n",
            "\u001b[2K    0.0% [          ] 0B (0B / s)\n",
            "\u001b[2Khttps://repo1.maven.org/maven2/co/fs2/fs2-core_2.12/1.0.4/fs2-core_2.12-1.0.4-s…\n",
            "\u001b[2K    0.0% [          ] 0B (0B / s)\n",
            "\u001b[2Khttps://repo1.maven.org/maven2/org/jboss/xnio/xnio-api/3.7.0.Final/xnio-api-3.7…\n",
            "\u001b[2K    0.0% [          ] 0B (0B / s)\n",
            "\u001b[2Khttps://oss.sonatype.org/content/repositories/snapshots/sh/almond/channels_2.12…\n",
            "\u001b[2K    0.0% [          ] 0B (0B / s)\n",
            "\u001b[2A\u001b[2A\u001b[2A\u001b[2A\u001b[2A\u001b[2A\u001b[10000D\u001b[2Khttps://repo1.maven.org/maven2/org/scala-sbt/test-interface/1.0/test-interface-…\n",
            "\u001b[2K  100.0% [##########] 18.4 KiB (129.2 KiB / s)\n",
            "\u001b[2Khttps://repo1.maven.org/maven2/com/lihaoyi/ammonite-repl_2.12.8/1.6.4/ammonite-…\n",
            "\u001b[2K    0.0% [          ] 0B (0B / s)\n",
            "\u001b[2Khttps://repo1.maven.org/maven2/com/thoughtworks/qdox/qdox/2.0-M9/qdox-2.0-M9-so…\n",
            "\u001b[2K    0.0% [          ] 0B (0B / s)\n",
            "\u001b[2Khttps://repo1.maven.org/maven2/co/fs2/fs2-core_2.12/1.0.4/fs2-core_2.12-1.0.4-s…\n",
            "\u001b[2K    0.0% [          ] 0B (0B / s)\n",
            "\u001b[2Khttps://repo1.maven.org/maven2/org/jboss/xnio/xnio-api/3.7.0.Final/xnio-api-3.7…\n",
            "\u001b[2K    0.0% [          ] 0B (0B / s)\n",
            "\u001b[2Khttps://oss.sonatype.org/content/repositories/snapshots/sh/almond/channels_2.12…\n",
            "\u001b[2K    0.0% [          ] 0B (0B / s)\n",
            "\u001b[2Khttps://oss.sonatype.org/content/repositories/snapshots/sh/almond/channels_2.12…\n",
            "\u001b[2K    0.0% [          ] 0B (0B / s)\n",
            "\u001b[2A\u001b[2A\u001b[2A\u001b[2A\u001b[2A\u001b[2A\u001b[10000D\u001b[2Khttps://repo1.maven.org/maven2/com/lihaoyi/ammonite-repl_2.12.8/1.6.4/ammonite-…\n",
            "\u001b[2K  100.0% [##########] 26.6 KiB (181.2 KiB / s)\n",
            "\u001b[2Khttps://repo1.maven.org/maven2/com/thoughtworks/qdox/qdox/2.0-M9/qdox-2.0-M9-so…\n",
            "\u001b[2K    0.0% [          ] 0B (0B / s)\n",
            "\u001b[2Khttps://repo1.maven.org/maven2/co/fs2/fs2-core_2.12/1.0.4/fs2-core_2.12-1.0.4-s…\n",
            "\u001b[2K    0.0% [          ] 0B (0B / s)\n",
            "\u001b[2Khttps://repo1.maven.org/maven2/org/jboss/xnio/xnio-api/3.7.0.Final/xnio-api-3.7…\n",
            "\u001b[2K    0.0% [          ] 0B (0B / s)\n",
            "\u001b[2Khttps://oss.sonatype.org/content/repositories/snapshots/sh/almond/channels_2.12…\n",
            "\u001b[2K    0.0% [          ] 0B (0B / s)\n",
            "\u001b[2Khttps://oss.sonatype.org/content/repositories/snapshots/sh/almond/channels_2.12…\n",
            "\u001b[2K    0.0% [          ] 0B (0B / s)\n",
            "\u001b[2Khttps://oss.sonatype.org/content/repositories/snapshots/sh/almond/logger_2.12/0…\n",
            "\u001b[2K    0.0% [          ] 0B (0B / s)\n",
            "\u001b[2A\u001b[2A\u001b[2A\u001b[2A\u001b[2A\u001b[2A\u001b[10000D\u001b[2Khttps://repo1.maven.org/maven2/com/thoughtworks/qdox/qdox/2.0-M9/qdox-2.0-M9-so…\n",
            "\u001b[2K  100.0% [##########] 296.5 KiB (2.1 MiB / s)\n",
            "\u001b[2Khttps://repo1.maven.org/maven2/co/fs2/fs2-core_2.12/1.0.4/fs2-core_2.12-1.0.4-s…\n",
            "\u001b[2K    0.0% [          ] 0B (0B / s)\n",
            "\u001b[2Khttps://repo1.maven.org/maven2/org/jboss/xnio/xnio-api/3.7.0.Final/xnio-api-3.7…\n",
            "\u001b[2K    0.0% [          ] 0B (0B / s)\n",
            "\u001b[2Khttps://oss.sonatype.org/content/repositories/snapshots/sh/almond/channels_2.12…\n",
            "\u001b[2K    0.0% [          ] 0B (0B / s)\n",
            "\u001b[2Khttps://oss.sonatype.org/content/repositories/snapshots/sh/almond/channels_2.12…\n",
            "\u001b[2K    0.0% [          ] 0B (0B / s)\n",
            "\u001b[2Khttps://oss.sonatype.org/content/repositories/snapshots/sh/almond/logger_2.12/0…\n",
            "\u001b[2K    0.0% [          ] 0B (0B / s)\n",
            "\u001b[2Khttps://oss.sonatype.org/content/repositories/snapshots/sh/almond/scala-kernel_…\n",
            "\u001b[2K    0.0% [          ] 0B (0B / s)\n",
            "\u001b[2A\u001b[2A\u001b[2A\u001b[2A\u001b[2A\u001b[2A\u001b[10000D\u001b[2Khttps://repo1.maven.org/maven2/co/fs2/fs2-core_2.12/1.0.4/fs2-core_2.12-1.0.4-s…\n",
            "\u001b[2K  100.0% [##########] 102.3 KiB (700.9 KiB / s)\n",
            "\u001b[2Khttps://repo1.maven.org/maven2/org/jboss/xnio/xnio-api/3.7.0.Final/xnio-api-3.7…\n",
            "\u001b[2K    0.0% [          ] 0B (0B / s)\n",
            "\u001b[2Khttps://oss.sonatype.org/content/repositories/snapshots/sh/almond/channels_2.12…\n",
            "\u001b[2K    0.0% [          ] 0B (0B / s)\n",
            "\u001b[2Khttps://oss.sonatype.org/content/repositories/snapshots/sh/almond/channels_2.12…\n",
            "\u001b[2K    0.0% [          ] 0B (0B / s)\n",
            "\u001b[2Khttps://oss.sonatype.org/content/repositories/snapshots/sh/almond/logger_2.12/0…\n",
            "\u001b[2K    0.0% [          ] 0B (0B / s)\n",
            "\u001b[2Khttps://oss.sonatype.org/content/repositories/snapshots/sh/almond/scala-kernel_…\n",
            "\u001b[2K    0.0% [          ] 0B (0B / s)\n",
            "\u001b[2Khttps://oss.sonatype.org/content/repositories/snapshots/sh/almond/scala-interpr…\n",
            "\u001b[2K    0.0% [          ] 0B (0B / s)\n",
            "\u001b[2A\u001b[2A\u001b[2A\u001b[2A\u001b[2A\u001b[2A\u001b[10000D\u001b[2Khttps://repo1.maven.org/maven2/org/jboss/xnio/xnio-api/3.7.0.Final/xnio-api-3.7…\n",
            "\u001b[2K    0.0% [          ] 0B (0B / s)\n",
            "\u001b[2Khttps://oss.sonatype.org/content/repositories/snapshots/sh/almond/channels_2.12…\n",
            "\u001b[2K    0.0% [          ] 0B (0B / s)\n",
            "\u001b[2Khttps://oss.sonatype.org/content/repositories/snapshots/sh/almond/channels_2.12…\n",
            "\u001b[2K    0.0% [          ] 0B (0B / s)\n",
            "\u001b[2Khttps://oss.sonatype.org/content/repositories/snapshots/sh/almond/logger_2.12/0…\n",
            "\u001b[2K    0.0% [          ] 0B (0B / s)\n",
            "\u001b[2Khttps://oss.sonatype.org/content/repositories/snapshots/sh/almond/scala-kernel_…\n",
            "\u001b[2K    0.0% [          ] 0B (0B / s)\n",
            "\u001b[2Khttps://oss.sonatype.org/content/repositories/snapshots/sh/almond/scala-interpr…\n",
            "\u001b[2K    0.0% [          ] 0B (0B / s)\n",
            "\u001b[2A\u001b[2A\u001b[2A\u001b[2A\u001b[2A\u001b[2A\u001b[10000D\u001b[2Khttps://repo1.maven.org/maven2/org/jboss/xnio/xnio-api/3.7.0.Final/xnio-api-3.7…\n",
            "\u001b[2K  100.0% [##########] 366.6 KiB (2.4 MiB / s)\n",
            "\u001b[2Khttps://oss.sonatype.org/content/repositories/snapshots/sh/almond/channels_2.12…\n",
            "\u001b[2K    0.0% [          ] 0B (0B / s)\n",
            "\u001b[2Khttps://oss.sonatype.org/content/repositories/snapshots/sh/almond/channels_2.12…\n",
            "\u001b[2K    0.0% [          ] 0B (0B / s)\n",
            "\u001b[2Khttps://oss.sonatype.org/content/repositories/snapshots/sh/almond/logger_2.12/0…\n",
            "\u001b[2K    0.0% [          ] 0B (0B / s)\n",
            "\u001b[2Khttps://oss.sonatype.org/content/repositories/snapshots/sh/almond/scala-kernel_…\n",
            "\u001b[2K    0.0% [          ] 0B (0B / s)\n",
            "\u001b[2Khttps://oss.sonatype.org/content/repositories/snapshots/sh/almond/scala-interpr…\n",
            "\u001b[2K    0.0% [          ] 0B (0B / s)\n",
            "\u001b[2Khttps://oss.sonatype.org/content/repositories/snapshots/sh/almond/scala-kernel-…\n",
            "\u001b[2K    0.0% [          ] 0B (0B / s)\n",
            "\u001b[2A\u001b[2A\u001b[2A\u001b[2A\u001b[2A\u001b[2A\u001b[10000D\u001b[2Khttps://oss.sonatype.org/content/repositories/snapshots/sh/almond/logger_2.12/0…\n",
            "\u001b[2K  100.0% [##########] 5.0 KiB (8.7 KiB / s)\n",
            "\u001b[2Khttps://oss.sonatype.org/content/repositories/snapshots/sh/almond/channels_2.12…\n",
            "\u001b[2K  100.0% [##########] 9.4 KiB (15.9 KiB / s)\n",
            "\u001b[2Khttps://oss.sonatype.org/content/repositories/snapshots/sh/almond/channels_2.12…\n",
            "\u001b[2K    0.0% [          ] 0B (0B / s)\n",
            "\u001b[2Khttps://oss.sonatype.org/content/repositories/snapshots/sh/almond/scala-kernel_…\n",
            "\u001b[2K    0.0% [          ] 0B (0B / s)\n",
            "\u001b[2Khttps://oss.sonatype.org/content/repositories/snapshots/sh/almond/scala-interpr…\n",
            "\u001b[2K    0.0% [          ] 0B (0B / s)\n",
            "\u001b[2Khttps://oss.sonatype.org/content/repositories/snapshots/sh/almond/scala-kernel-…\n",
            "\u001b[2K    0.0% [          ] 0B (0B / s)\n",
            "\u001b[2Khttps://oss.sonatype.org/content/repositories/snapshots/sh/almond/kernel_2.12/0…\n",
            "\u001b[2K    0.0% [          ] 0B (0B / s)\n",
            "\u001b[2A\u001b[2A\u001b[2A\u001b[2A\u001b[2A\u001b[2A\u001b[10000D\u001b[2Khttps://oss.sonatype.org/content/repositories/snapshots/sh/almond/channels_2.12…\n",
            "\u001b[2K  100.0% [##########] 9.4 KiB (15.4 KiB / s)\n",
            "\u001b[2Khttps://oss.sonatype.org/content/repositories/snapshots/sh/almond/channels_2.12…\n",
            "\u001b[2K    0.0% [          ] 0B (0B / s)\n",
            "\u001b[2Khttps://oss.sonatype.org/content/repositories/snapshots/sh/almond/scala-kernel_…\n",
            "\u001b[2K    0.0% [          ] 0B (0B / s)\n",
            "\u001b[2Khttps://oss.sonatype.org/content/repositories/snapshots/sh/almond/scala-interpr…\n",
            "\u001b[2K    0.0% [          ] 0B (0B / s)\n",
            "\u001b[2Khttps://oss.sonatype.org/content/repositories/snapshots/sh/almond/scala-kernel-…\n",
            "\u001b[2K    0.0% [          ] 0B (0B / s)\n",
            "\u001b[2Khttps://oss.sonatype.org/content/repositories/snapshots/sh/almond/kernel_2.12/0…\n",
            "\u001b[2K    0.0% [          ] 0B (0B / s)\n",
            "\u001b[2Khttps://repo1.maven.org/maven2/org/jline/jline-terminal-jna/3.6.2/jline-termina…\n",
            "\u001b[2K    0.0% [          ] 0B (0B / s)\n",
            "\u001b[2A\u001b[2A\u001b[2A\u001b[2A\u001b[2A\u001b[2A\u001b[10000D\u001b[2Khttps://oss.sonatype.org/content/repositories/snapshots/sh/almond/scala-interpr…\n",
            "\u001b[2K   53.2% [#####     ] 8.0 KiB (14.0 KiB / s)\n",
            "\u001b[2Khttps://oss.sonatype.org/content/repositories/snapshots/sh/almond/channels_2.12…\n",
            "\u001b[2K    0.0% [          ] 0B (0B / s)\n",
            "\u001b[2Khttps://oss.sonatype.org/content/repositories/snapshots/sh/almond/scala-kernel_…\n",
            "\u001b[2K    0.0% [          ] 0B (0B / s)\n",
            "\u001b[2Khttps://oss.sonatype.org/content/repositories/snapshots/sh/almond/scala-kernel-…\n",
            "\u001b[2K    0.0% [          ] 0B (0B / s)\n",
            "\u001b[2Khttps://oss.sonatype.org/content/repositories/snapshots/sh/almond/kernel_2.12/0…\n",
            "\u001b[2K    0.0% [          ] 0B (0B / s)\n",
            "\u001b[2Khttps://repo1.maven.org/maven2/org/jline/jline-terminal-jna/3.6.2/jline-termina…\n",
            "\u001b[2K    0.0% [          ] 0B (0B / s)\n",
            "\u001b[2A\u001b[2A\u001b[2A\u001b[2A\u001b[2A\u001b[2A\u001b[10000D\u001b[2Khttps://repo1.maven.org/maven2/org/jline/jline-terminal-jna/3.6.2/jline-termina…\n",
            "\u001b[2K  100.0% [##########] 61.1 KiB (439.6 KiB / s)\n",
            "\u001b[2Khttps://oss.sonatype.org/content/repositories/snapshots/sh/almond/scala-interpr…\n",
            "\u001b[2K   53.2% [#####     ] 8.0 KiB (11.9 KiB / s)\n",
            "\u001b[2Khttps://oss.sonatype.org/content/repositories/snapshots/sh/almond/channels_2.12…\n",
            "\u001b[2K    0.0% [          ] 0B (0B / s)\n",
            "\u001b[2Khttps://oss.sonatype.org/content/repositories/snapshots/sh/almond/scala-kernel_…\n",
            "\u001b[2K    0.0% [          ] 0B (0B / s)\n",
            "\u001b[2Khttps://oss.sonatype.org/content/repositories/snapshots/sh/almond/scala-kernel-…\n",
            "\u001b[2K    0.0% [          ] 0B (0B / s)\n",
            "\u001b[2Khttps://oss.sonatype.org/content/repositories/snapshots/sh/almond/kernel_2.12/0…\n",
            "\u001b[2K    0.0% [          ] 0B (0B / s)\n",
            "\u001b[2Khttps://repo1.maven.org/maven2/com/thesamet/scalapb/scalapb-json4s_2.12/0.7.2/s…\n",
            "\u001b[2K    0.0% [          ] 0B (0B / s)\n",
            "\u001b[2A\u001b[2A\u001b[2A\u001b[2A\u001b[2A\u001b[2A\u001b[10000D\u001b[2Khttps://oss.sonatype.org/content/repositories/snapshots/sh/almond/scala-interpr…\n",
            "\u001b[2K   53.2% [#####     ] 8.0 KiB (11.2 KiB / s)\n",
            "\u001b[2Khttps://oss.sonatype.org/content/repositories/snapshots/sh/almond/channels_2.12…\n",
            "\u001b[2K   46.4% [####      ] 32.0 KiB (40.9 KiB / s)\n",
            "\u001b[2Khttps://oss.sonatype.org/content/repositories/snapshots/sh/almond/scala-kernel_…\n",
            "\u001b[2K    0.0% [          ] 0B (0B / s)\n",
            "\u001b[2Khttps://oss.sonatype.org/content/repositories/snapshots/sh/almond/scala-kernel-…\n",
            "\u001b[2K    0.0% [          ] 0B (0B / s)\n",
            "\u001b[2Khttps://oss.sonatype.org/content/repositories/snapshots/sh/almond/kernel_2.12/0…\n",
            "\u001b[2K    0.0% [          ] 0B (0B / s)\n",
            "\u001b[2Khttps://repo1.maven.org/maven2/com/thesamet/scalapb/scalapb-json4s_2.12/0.7.2/s…\n",
            "\u001b[2K    0.0% [          ] 0B (0B / s)\n",
            "\u001b[2A\u001b[2A\u001b[2A\u001b[2A\u001b[2A\u001b[2A\u001b[10000D\u001b[2Khttps://oss.sonatype.org/content/repositories/snapshots/sh/almond/kernel_2.12/0…\n",
            "\u001b[2K  100.0% [##########] 9.1 KiB (44.4 KiB / s)\n",
            "\u001b[2Khttps://oss.sonatype.org/content/repositories/snapshots/sh/almond/scala-interpr…\n",
            "\u001b[2K  100.0% [##########] 15.0 KiB (20.5 KiB / s)\n",
            "\u001b[2Khttps://oss.sonatype.org/content/repositories/snapshots/sh/almond/channels_2.12…\n",
            "\u001b[2K   46.4% [####      ] 32.0 KiB (39.9 KiB / s)\n",
            "\u001b[2Khttps://oss.sonatype.org/content/repositories/snapshots/sh/almond/scala-kernel_…\n",
            "\u001b[2K   30.4% [###       ] 32.0 KiB (43.2 KiB / s)\n",
            "\u001b[2Khttps://oss.sonatype.org/content/repositories/snapshots/sh/almond/scala-kernel-…\n",
            "\u001b[2K    0.0% [          ] 0B (0B / s)\n",
            "\u001b[2Khttps://repo1.maven.org/maven2/com/thesamet/scalapb/scalapb-json4s_2.12/0.7.2/s…\n",
            "\u001b[2K    0.0% [          ] 0B (0B / s)\n",
            "\u001b[2Khttps://oss.sonatype.org/content/repositories/snapshots/sh/almond/interpreter-a…\n",
            "\u001b[2K    0.0% [          ] 0B (0B / s)\n",
            "\u001b[2A\u001b[2A\u001b[2A\u001b[2A\u001b[2A\u001b[2A\u001b[10000D\u001b[2Khttps://oss.sonatype.org/content/repositories/snapshots/sh/almond/scala-interpr…\n",
            "\u001b[2K  100.0% [##########] 15.0 KiB (20.0 KiB / s)\n",
            "\u001b[2Khttps://oss.sonatype.org/content/repositories/snapshots/sh/almond/channels_2.12…\n",
            "\u001b[2K   46.4% [####      ] 32.0 KiB (38.9 KiB / s)\n",
            "\u001b[2Khttps://oss.sonatype.org/content/repositories/snapshots/sh/almond/scala-kernel_…\n",
            "\u001b[2K   30.4% [###       ] 32.0 KiB (42.0 KiB / s)\n",
            "\u001b[2Khttps://oss.sonatype.org/content/repositories/snapshots/sh/almond/scala-kernel-…\n",
            "\u001b[2K    0.0% [          ] 0B (0B / s)\n",
            "\u001b[2Khttps://repo1.maven.org/maven2/com/thesamet/scalapb/scalapb-json4s_2.12/0.7.2/s…\n",
            "\u001b[2K    0.0% [          ] 0B (0B / s)\n",
            "\u001b[2Khttps://oss.sonatype.org/content/repositories/snapshots/sh/almond/interpreter-a…\n",
            "\u001b[2K    0.0% [          ] 0B (0B / s)\n",
            "\u001b[2Khttps://oss.sonatype.org/content/repositories/snapshots/sh/almond/interpreter-a…\n",
            "\u001b[2K    0.0% [          ] 0B (0B / s)\n",
            "\u001b[2A\u001b[2A\u001b[2A\u001b[2A\u001b[2A\u001b[2A\u001b[10000D\u001b[2Khttps://oss.sonatype.org/content/repositories/snapshots/sh/almond/channels_2.12…\n",
            "\u001b[2K   46.4% [####      ] 32.0 KiB (38.0 KiB / s)\n",
            "\u001b[2Khttps://oss.sonatype.org/content/repositories/snapshots/sh/almond/scala-kernel_…\n",
            "\u001b[2K   30.4% [###       ] 32.0 KiB (41.0 KiB / s)\n",
            "\u001b[2Khttps://oss.sonatype.org/content/repositories/snapshots/sh/almond/scala-kernel-…\n",
            "\u001b[2K    0.0% [          ] 0B (0B / s)\n",
            "\u001b[2Khttps://repo1.maven.org/maven2/com/thesamet/scalapb/scalapb-json4s_2.12/0.7.2/s…\n",
            "\u001b[2K    0.0% [          ] 0B (0B / s)\n",
            "\u001b[2Khttps://oss.sonatype.org/content/repositories/snapshots/sh/almond/interpreter-a…\n",
            "\u001b[2K    0.0% [          ] 0B (0B / s)\n",
            "\u001b[2Khttps://oss.sonatype.org/content/repositories/snapshots/sh/almond/interpreter-a…\n",
            "\u001b[2K    0.0% [          ] 0B (0B / s)\n",
            "\u001b[2A\u001b[2A\u001b[2A\u001b[2A\u001b[2A\u001b[2A\u001b[10000D\u001b[2Khttps://oss.sonatype.org/content/repositories/snapshots/sh/almond/scala-kernel-…\n",
            "\u001b[2K  100.0% [##########] 26.8 KiB (35.5 KiB / s)\n",
            "\u001b[2Khttps://oss.sonatype.org/content/repositories/snapshots/sh/almond/channels_2.12…\n",
            "\u001b[2K   46.4% [####      ] 32.0 KiB (37.1 KiB / s)\n",
            "\u001b[2Khttps://oss.sonatype.org/content/repositories/snapshots/sh/almond/scala-kernel_…\n",
            "\u001b[2K   30.4% [###       ] 32.0 KiB (39.9 KiB / s)\n",
            "\u001b[2Khttps://repo1.maven.org/maven2/com/thesamet/scalapb/scalapb-json4s_2.12/0.7.2/s…\n",
            "\u001b[2K    0.0% [          ] 0B (0B / s)\n",
            "\u001b[2Khttps://oss.sonatype.org/content/repositories/snapshots/sh/almond/interpreter-a…\n",
            "\u001b[2K    0.0% [          ] 0B (0B / s)\n",
            "\u001b[2Khttps://oss.sonatype.org/content/repositories/snapshots/sh/almond/interpreter-a…\n",
            "\u001b[2K    0.0% [          ] 0B (0B / s)\n",
            "\u001b[2Khttps://oss.sonatype.org/content/repositories/snapshots/sh/almond/protocol_2.12…\n",
            "\u001b[2K    0.0% [          ] 0B (0B / s)\n",
            "\u001b[2A\u001b[2A\u001b[2A\u001b[2A\u001b[2A\u001b[2A\u001b[10000D\u001b[2Khttps://repo1.maven.org/maven2/com/thesamet/scalapb/scalapb-json4s_2.12/0.7.2/s…\n",
            "\u001b[2K  100.0% [##########] 12.1 KiB (82.9 KiB / s)\n",
            "\u001b[2Khttps://oss.sonatype.org/content/repositories/snapshots/sh/almond/channels_2.12…\n",
            "\u001b[2K   46.4% [####      ] 32.0 KiB (36.3 KiB / s)\n",
            "\u001b[2Khttps://oss.sonatype.org/content/repositories/snapshots/sh/almond/scala-kernel_…\n",
            "\u001b[2K   30.4% [###       ] 32.0 KiB (39.0 KiB / s)\n",
            "\u001b[2Khttps://oss.sonatype.org/content/repositories/snapshots/sh/almond/interpreter-a…\n",
            "\u001b[2K    0.0% [          ] 0B (0B / s)\n",
            "\u001b[2Khttps://oss.sonatype.org/content/repositories/snapshots/sh/almond/interpreter-a…\n",
            "\u001b[2K    0.0% [          ] 0B (0B / s)\n",
            "\u001b[2Khttps://oss.sonatype.org/content/repositories/snapshots/sh/almond/protocol_2.12…\n",
            "\u001b[2K    0.0% [          ] 0B (0B / s)\n",
            "\u001b[2Khttps://oss.sonatype.org/content/repositories/snapshots/sh/almond/kernel_2.12/0…\n",
            "\u001b[2K    0.0% [          ] 0B (0B / s)\n",
            "\u001b[2A\u001b[2A\u001b[2A\u001b[2A\u001b[2A\u001b[2A\u001b[10000D\u001b[2Khttps://oss.sonatype.org/content/repositories/snapshots/sh/almond/channels_2.12…\n",
            "\u001b[2K  100.0% [##########] 68.9 KiB (71.7 KiB / s)\n",
            "\u001b[2Khttps://oss.sonatype.org/content/repositories/snapshots/sh/almond/scala-kernel_…\n",
            "\u001b[2K   30.4% [###       ] 32.0 KiB (35.5 KiB / s)\n",
            "\u001b[2Khttps://oss.sonatype.org/content/repositories/snapshots/sh/almond/interpreter-a…\n",
            "\u001b[2K    0.0% [          ] 0B (0B / s)\n",
            "\u001b[2Khttps://oss.sonatype.org/content/repositories/snapshots/sh/almond/interpreter-a…\n",
            "\u001b[2K    0.0% [          ] 0B (0B / s)\n",
            "\u001b[2Khttps://oss.sonatype.org/content/repositories/snapshots/sh/almond/protocol_2.12…\n",
            "\u001b[2K    0.0% [          ] 0B (0B / s)\n",
            "\u001b[2Khttps://oss.sonatype.org/content/repositories/snapshots/sh/almond/kernel_2.12/0…\n",
            "\u001b[2K    0.0% [          ] 0B (0B / s)\n",
            "\u001b[2Khttps://oss.sonatype.org/content/repositories/snapshots/sh/almond/scala-kernel-…\n",
            "\u001b[2K    0.0% [          ] 0B (0B / s)\n",
            "\u001b[2A\u001b[2A\u001b[2A\u001b[2A\u001b[2A\u001b[2A\u001b[10000D\u001b[2Khttps://oss.sonatype.org/content/repositories/snapshots/sh/almond/scala-kernel_…\n",
            "\u001b[2K   30.4% [###       ] 32.0 KiB (34.6 KiB / s)\n",
            "\u001b[2Khttps://oss.sonatype.org/content/repositories/snapshots/sh/almond/interpreter-a…\n",
            "\u001b[2K    0.0% [          ] 0B (0B / s)\n",
            "\u001b[2Khttps://oss.sonatype.org/content/repositories/snapshots/sh/almond/interpreter-a…\n",
            "\u001b[2K    0.0% [          ] 0B (0B / s)\n",
            "\u001b[2Khttps://oss.sonatype.org/content/repositories/snapshots/sh/almond/protocol_2.12…\n",
            "\u001b[2K    0.0% [          ] 0B (0B / s)\n",
            "\u001b[2Khttps://oss.sonatype.org/content/repositories/snapshots/sh/almond/kernel_2.12/0…\n",
            "\u001b[2K    0.0% [          ] 0B (0B / s)\n",
            "\u001b[2Khttps://oss.sonatype.org/content/repositories/snapshots/sh/almond/scala-kernel-…\n",
            "\u001b[2K    0.0% [          ] 0B (0B / s)\n",
            "\u001b[2A\u001b[2A\u001b[2A\u001b[2A\u001b[2A\u001b[2A\u001b[10000D\u001b[2Khttps://oss.sonatype.org/content/repositories/snapshots/sh/almond/interpreter-a…\n",
            "\u001b[2K  100.0% [##########] 3.9 KiB (18.2 KiB / s)\n",
            "\u001b[2Khttps://oss.sonatype.org/content/repositories/snapshots/sh/almond/interpreter-a…\n",
            "\u001b[2K  100.0% [##########] 26.4 KiB (131.9 KiB / s)\n",
            "\u001b[2Khttps://oss.sonatype.org/content/repositories/snapshots/sh/almond/scala-kernel_…\n",
            "\u001b[2K   76.1% [#######   ] 80.0 KiB (85.0 KiB / s)\n",
            "\u001b[2Khttps://oss.sonatype.org/content/repositories/snapshots/sh/almond/protocol_2.12…\n",
            "\u001b[2K    0.0% [          ] 0B (0B / s)\n",
            "\u001b[2Khttps://oss.sonatype.org/content/repositories/snapshots/sh/almond/kernel_2.12/0…\n",
            "\u001b[2K    0.0% [          ] 0B (0B / s)\n",
            "\u001b[2Khttps://oss.sonatype.org/content/repositories/snapshots/sh/almond/scala-kernel-…\n",
            "\u001b[2K    0.0% [          ] 0B (0B / s)\n",
            "\u001b[2Khttps://oss.sonatype.org/content/repositories/snapshots/sh/almond/interpreter_2…\n",
            "\u001b[2K    0.0% [          ] 0B (0B / s)\n",
            "\u001b[2Khttps://oss.sonatype.org/content/repositories/snapshots/sh/almond/interpreter_2…\n",
            "\u001b[2K    0.0% [          ] 0B (0B / s)\n",
            "\u001b[2A\u001b[2A\u001b[2A\u001b[2A\u001b[2A\u001b[2A\u001b[10000D\u001b[2Khttps://oss.sonatype.org/content/repositories/snapshots/sh/almond/protocol_2.12…\n",
            "\u001b[2K  100.0% [##########] 10.5 KiB (53.0 KiB / s)\n",
            "\u001b[2Khttps://oss.sonatype.org/content/repositories/snapshots/sh/almond/scala-kernel_…\n",
            "\u001b[2K   76.1% [#######   ] 80.0 KiB (81.5 KiB / s)\n",
            "\u001b[2Khttps://oss.sonatype.org/content/repositories/snapshots/sh/almond/kernel_2.12/0…\n",
            "\u001b[2K    0.0% [          ] 0B (0B / s)\n",
            "\u001b[2Khttps://oss.sonatype.org/content/repositories/snapshots/sh/almond/scala-kernel-…\n",
            "\u001b[2K    0.0% [          ] 0B (0B / s)\n",
            "\u001b[2Khttps://oss.sonatype.org/content/repositories/snapshots/sh/almond/interpreter_2…\n",
            "\u001b[2K    0.0% [          ] 0B (0B / s)\n",
            "\u001b[2Khttps://oss.sonatype.org/content/repositories/snapshots/sh/almond/interpreter_2…\n",
            "\u001b[2K    0.0% [          ] 0B (0B / s)\n",
            "\u001b[2Khttps://oss.sonatype.org/content/repositories/snapshots/sh/almond/scala-kernel_…\n",
            "\u001b[2K    0.0% [          ] 0B (0B / s)\n",
            "\u001b[2A\u001b[2A\u001b[2A\u001b[2A\u001b[2A\u001b[2A\u001b[10000D\u001b[2Khttps://oss.sonatype.org/content/repositories/snapshots/sh/almond/scala-kernel_…\n",
            "\u001b[2K   76.1% [#######   ] 80.0 KiB (79.9 KiB / s)\n",
            "\u001b[2Khttps://oss.sonatype.org/content/repositories/snapshots/sh/almond/kernel_2.12/0…\n",
            "\u001b[2K   24.8% [##        ] 15.7 KiB (81.5 KiB / s)\n",
            "\u001b[2Khttps://oss.sonatype.org/content/repositories/snapshots/sh/almond/scala-kernel-…\n",
            "\u001b[2K    0.0% [          ] 0B (0B / s)\n",
            "\u001b[2Khttps://oss.sonatype.org/content/repositories/snapshots/sh/almond/interpreter_2…\n",
            "\u001b[2K    0.0% [          ] 0B (0B / s)\n",
            "\u001b[2Khttps://oss.sonatype.org/content/repositories/snapshots/sh/almond/interpreter_2…\n",
            "\u001b[2K    0.0% [          ] 0B (0B / s)\n",
            "\u001b[2Khttps://oss.sonatype.org/content/repositories/snapshots/sh/almond/scala-kernel_…\n",
            "\u001b[2K    0.0% [          ] 0B (0B / s)\n",
            "\u001b[2A\u001b[2A\u001b[2A\u001b[2A\u001b[2A\u001b[2A\u001b[10000D\u001b[2Khttps://oss.sonatype.org/content/repositories/snapshots/sh/almond/scala-kernel-…\n",
            "\u001b[2K  100.0% [##########] 3.5 KiB (17.3 KiB / s)\n",
            "\u001b[2Khttps://oss.sonatype.org/content/repositories/snapshots/sh/almond/scala-kernel_…\n",
            "\u001b[2K  100.0% [##########] 105.2 KiB (95.5 KiB / s)\n",
            "\u001b[2Khttps://oss.sonatype.org/content/repositories/snapshots/sh/almond/kernel_2.12/0…\n",
            "\u001b[2K   24.8% [##        ] 15.7 KiB (53.6 KiB / s)\n",
            "\u001b[2Khttps://oss.sonatype.org/content/repositories/snapshots/sh/almond/interpreter_2…\n",
            "\u001b[2K    0.0% [          ] 0B (0B / s)\n",
            "\u001b[2Khttps://oss.sonatype.org/content/repositories/snapshots/sh/almond/interpreter_2…\n",
            "\u001b[2K    0.0% [          ] 0B (0B / s)\n",
            "\u001b[2Khttps://oss.sonatype.org/content/repositories/snapshots/sh/almond/scala-kernel_…\n",
            "\u001b[2K    0.0% [          ] 0B (0B / s)\n",
            "\u001b[2Khttps://oss.sonatype.org/content/repositories/snapshots/sh/almond/protocol_2.12…\n",
            "\u001b[2K    0.0% [          ] 0B (0B / s)\n",
            "\u001b[2Khttps://repo1.maven.org/maven2/org/scalameta/cli_2.12/4.1.4/cli_2.12-4.1.4.jar\n",
            "\u001b[2K    0.0% [          ] 0B (0B / s)\n",
            "\u001b[2A\u001b[2A\u001b[2A\u001b[2A\u001b[2A\u001b[2A\u001b[10000D\u001b[2Khttps://oss.sonatype.org/content/repositories/snapshots/sh/almond/interpreter_2…\n",
            "\u001b[2K  100.0% [##########] 21.9 KiB (112.3 KiB / s)\n",
            "\u001b[2Khttps://oss.sonatype.org/content/repositories/snapshots/sh/almond/interpreter_2…\n",
            "\u001b[2K   30.7% [###       ] 48.0 KiB (254.0 KiB / s)\n",
            "\u001b[2Khttps://oss.sonatype.org/content/repositories/snapshots/sh/almond/kernel_2.12/0…\n",
            "\u001b[2K   24.8% [##        ] 15.7 KiB (50.2 KiB / s)\n",
            "\u001b[2Khttps://oss.sonatype.org/content/repositories/snapshots/sh/almond/scala-kernel_…\n",
            "\u001b[2K    0.0% [          ] 0B (0B / s)\n",
            "\u001b[2Khttps://oss.sonatype.org/content/repositories/snapshots/sh/almond/protocol_2.12…\n",
            "\u001b[2K    0.0% [          ] 0B (0B / s)\n",
            "\u001b[2Khttps://repo1.maven.org/maven2/org/scalameta/cli_2.12/4.1.4/cli_2.12-4.1.4.jar\n",
            "\u001b[2K    0.0% [          ] 0B (0B / s)\n",
            "\u001b[2Khttps://oss.sonatype.org/content/repositories/snapshots/sh/almond/logger_2.12/0…\n",
            "\u001b[2K    0.0% [          ] 0B (0B / s)\n",
            "\u001b[2A\u001b[2A\u001b[2A\u001b[2A\u001b[2A\u001b[2A\u001b[10000D\u001b[2Khttps://oss.sonatype.org/content/repositories/snapshots/sh/almond/scala-kernel_…\n",
            "\u001b[2K  100.0% [##########] 5.5 KiB (28.9 KiB / s)\n",
            "\u001b[2Khttps://oss.sonatype.org/content/repositories/snapshots/sh/almond/interpreter_2…\n",
            "\u001b[2K   30.7% [###       ] 48.0 KiB (209.6 KiB / s)\n",
            "\u001b[2Khttps://oss.sonatype.org/content/repositories/snapshots/sh/almond/kernel_2.12/0…\n",
            "\u001b[2K   24.8% [##        ] 15.7 KiB (44.5 KiB / s)\n",
            "\u001b[2Khttps://oss.sonatype.org/content/repositories/snapshots/sh/almond/protocol_2.12…\n",
            "\u001b[2K    0.0% [          ] 0B (0B / s)\n",
            "\u001b[2Khttps://repo1.maven.org/maven2/org/scalameta/cli_2.12/4.1.4/cli_2.12-4.1.4.jar\n",
            "\u001b[2K    0.0% [          ] 0B (0B / s)\n",
            "\u001b[2Khttps://oss.sonatype.org/content/repositories/snapshots/sh/almond/logger_2.12/0…\n",
            "\u001b[2K    0.0% [          ] 0B (0B / s)\n",
            "\u001b[2Khttps://repo1.maven.org/maven2/org/scalameta/semanticdb_2.12/4.1.4/semanticdb_2…\n",
            "\u001b[2K    0.0% [          ] 0B (0B / s)\n",
            "\u001b[2A\u001b[2A\u001b[2A\u001b[2A\u001b[2A\u001b[2A\u001b[10000D\u001b[2Khttps://oss.sonatype.org/content/repositories/snapshots/sh/almond/kernel_2.12/0…\n",
            "\u001b[2K  100.0% [##########] 63.1 KiB (169.5 KiB / s)\n",
            "\u001b[2Khttps://oss.sonatype.org/content/repositories/snapshots/sh/almond/interpreter_2…\n",
            "\u001b[2K   30.7% [###       ] 48.0 KiB (192.8 KiB / s)\n",
            "\u001b[2Khttps://oss.sonatype.org/content/repositories/snapshots/sh/almond/protocol_2.12…\n",
            "\u001b[2K    0.0% [          ] 0B (0B / s)\n",
            "\u001b[2Khttps://repo1.maven.org/maven2/org/scalameta/cli_2.12/4.1.4/cli_2.12-4.1.4.jar\n",
            "\u001b[2K    0.0% [          ] 0B (0B / s)\n",
            "\u001b[2Khttps://oss.sonatype.org/content/repositories/snapshots/sh/almond/logger_2.12/0…\n",
            "\u001b[2K    0.0% [          ] 0B (0B / s)\n",
            "\u001b[2Khttps://repo1.maven.org/maven2/org/scalameta/semanticdb_2.12/4.1.4/semanticdb_2…\n",
            "\u001b[2K    0.0% [          ] 0B (0B / s)\n",
            "\u001b[2A\u001b[2A\u001b[2A\u001b[2A\u001b[2A\u001b[10000D\u001b[2Khttps://oss.sonatype.org/content/repositories/snapshots/sh/almond/interpreter_2…\n",
            "\u001b[2K   30.7% [###       ] 48.0 KiB (178.4 KiB / s)\n",
            "\u001b[2Khttps://oss.sonatype.org/content/repositories/snapshots/sh/almond/protocol_2.12…\n",
            "\u001b[2K    0.0% [          ] 0B (0B / s)\n",
            "\u001b[2Khttps://repo1.maven.org/maven2/org/scalameta/cli_2.12/4.1.4/cli_2.12-4.1.4.jar\n",
            "\u001b[2K    0.0% [          ] 0B (0B / s)\n",
            "\u001b[2Khttps://oss.sonatype.org/content/repositories/snapshots/sh/almond/logger_2.12/0…\n",
            "\u001b[2K    0.0% [          ] 0B (0B / s)\n",
            "\u001b[2Khttps://repo1.maven.org/maven2/org/scalameta/semanticdb_2.12/4.1.4/semanticdb_2…\n",
            "\u001b[2K    0.0% [          ] 0B (0B / s)\n",
            "\u001b[2Khttps://repo1.maven.org/maven2/com/lihaoyi/requests_2.12/0.1.7/requests_2.12-0.…\n",
            "\u001b[2K    0.0% [          ] 0B (0B / s)\n",
            "\u001b[2A\u001b[2A\u001b[2A\u001b[2A\u001b[2A\u001b[2A\u001b[10000D\u001b[2Khttps://repo1.maven.org/maven2/org/scalameta/cli_2.12/4.1.4/cli_2.12-4.1.4.jar\n",
            "\u001b[2K  100.0% [##########] 13.0 KiB (89.9 KiB / s)\n",
            "\u001b[2Khttps://oss.sonatype.org/content/repositories/snapshots/sh/almond/interpreter_2…\n",
            "\u001b[2K   30.7% [###       ] 48.0 KiB (154.8 KiB / s)\n",
            "\u001b[2Khttps://oss.sonatype.org/content/repositories/snapshots/sh/almond/protocol_2.12…\n",
            "\u001b[2K    0.0% [          ] 0B (0B / s)\n",
            "\u001b[2Khttps://oss.sonatype.org/content/repositories/snapshots/sh/almond/logger_2.12/0…\n",
            "\u001b[2K    0.0% [          ] 0B (0B / s)\n",
            "\u001b[2Khttps://repo1.maven.org/maven2/org/scalameta/semanticdb_2.12/4.1.4/semanticdb_2…\n",
            "\u001b[2K    0.0% [          ] 0B (0B / s)\n",
            "\u001b[2Khttps://repo1.maven.org/maven2/com/lihaoyi/requests_2.12/0.1.7/requests_2.12-0.…\n",
            "\u001b[2K    0.0% [          ] 0B (0B / s)\n",
            "\u001b[2Khttps://repo1.maven.org/maven2/com/lihaoyi/scalatags_2.12/0.6.7/scalatags_2.12-…\n",
            "\u001b[2K    0.0% [          ] 0B (0B / s)\n",
            "\u001b[2A\u001b[2A\u001b[2A\u001b[2A\u001b[2A\u001b[2A\u001b[10000D\u001b[2Khttps://oss.sonatype.org/content/repositories/snapshots/sh/almond/interpreter_2…\n",
            "\u001b[2K   30.7% [###       ] 48.0 KiB (137.5 KiB / s)\n",
            "\u001b[2Khttps://oss.sonatype.org/content/repositories/snapshots/sh/almond/protocol_2.12…\n",
            "\u001b[2K    7.7% [          ] 48.0 KiB (243.7 KiB / s)\n",
            "\u001b[2Khttps://oss.sonatype.org/content/repositories/snapshots/sh/almond/logger_2.12/0…\n",
            "\u001b[2K    0.0% [          ] 0B (0B / s)\n",
            "\u001b[2Khttps://repo1.maven.org/maven2/org/scalameta/semanticdb_2.12/4.1.4/semanticdb_2…\n",
            "\u001b[2K    0.0% [          ] 0B (0B / s)\n",
            "\u001b[2Khttps://repo1.maven.org/maven2/com/lihaoyi/requests_2.12/0.1.7/requests_2.12-0.…\n",
            "\u001b[2K    0.0% [          ] 0B (0B / s)\n",
            "\u001b[2Khttps://repo1.maven.org/maven2/com/lihaoyi/scalatags_2.12/0.6.7/scalatags_2.12-…\n",
            "\u001b[2K    0.0% [          ] 0B (0B / s)\n",
            "\u001b[2A\u001b[2A\u001b[2A\u001b[2A\u001b[2A\u001b[2A\u001b[10000D\u001b[2Khttps://oss.sonatype.org/content/repositories/snapshots/sh/almond/interpreter_2…\n",
            "\u001b[2K  100.0% [##########] 156.1 KiB (421.9 KiB / s)\n",
            "\u001b[2Khttps://repo1.maven.org/maven2/org/scalameta/semanticdb_2.12/4.1.4/semanticdb_2…\n",
            "\u001b[2K   33.9% [###       ] 511.5 KiB (3.5 MiB / s)\n",
            "\u001b[2Khttps://oss.sonatype.org/content/repositories/snapshots/sh/almond/protocol_2.12…\n",
            "\u001b[2K    7.7% [          ] 48.0 KiB (220.2 KiB / s)\n",
            "\u001b[2Khttps://oss.sonatype.org/content/repositories/snapshots/sh/almond/logger_2.12/0…\n",
            "\u001b[2K    0.0% [          ] 0B (0B / s)\n",
            "\u001b[2Khttps://repo1.maven.org/maven2/com/lihaoyi/requests_2.12/0.1.7/requests_2.12-0.…\n",
            "\u001b[2K    0.0% [          ] 0B (0B / s)\n",
            "\u001b[2Khttps://repo1.maven.org/maven2/com/lihaoyi/scalatags_2.12/0.6.7/scalatags_2.12-…\n",
            "\u001b[2K    0.0% [          ] 0B (0B / s)\n",
            "\u001b[2Khttps://repo1.maven.org/maven2/com/lihaoyi/scalatags_2.12/0.6.7/scalatags_2.12-…\n",
            "\u001b[2K    0.0% [          ] 0B (0B / s)\n",
            "\u001b[2A\u001b[2A\u001b[2A\u001b[2A\u001b[2A\u001b[2A\u001b[10000D\u001b[2Khttps://oss.sonatype.org/content/repositories/snapshots/sh/almond/logger_2.12/0…\n",
            "\u001b[2K  100.0% [##########] 38.5 KiB (185.1 KiB / s)\n",
            "\u001b[2Khttps://repo1.maven.org/maven2/org/scalameta/semanticdb_2.12/4.1.4/semanticdb_2…\n",
            "\u001b[2K  100.0% [##########] 1.5 MiB (9.0 MiB / s)\n",
            "\u001b[2Khttps://repo1.maven.org/maven2/com/lihaoyi/requests_2.12/0.1.7/requests_2.12-0.…\n",
            "\u001b[2K  100.0% [##########] 102.0 KiB (750.0 KiB / s)\n",
            "\u001b[2Khttps://oss.sonatype.org/content/repositories/snapshots/sh/almond/protocol_2.12…\n",
            "\u001b[2K    7.7% [          ] 48.0 KiB (200.0 KiB / s)\n",
            "\u001b[2Khttps://repo1.maven.org/maven2/com/lihaoyi/scalatags_2.12/0.6.7/scalatags_2.12-…\n",
            "\u001b[2K    0.0% [          ] 0B (0B / s)\n",
            "\u001b[2Khttps://repo1.maven.org/maven2/com/lihaoyi/scalatags_2.12/0.6.7/scalatags_2.12-…\n",
            "\u001b[2K    0.0% [          ] 0B (0B / s)\n",
            "\u001b[2Khttps://repo1.maven.org/maven2/org/scala-lang/scala-reflect/2.12.8/scala-reflec…\n",
            "\u001b[2K    0.0% [          ] 0B (0B / s)\n",
            "\u001b[2Khttps://oss.sonatype.org/content/repositories/snapshots/sh/almond/scala-interpr…\n",
            "\u001b[2K    0.0% [          ] 0B (0B / s)\n",
            "\u001b[2A\u001b[2A\u001b[2A\u001b[2A\u001b[2A\u001b[2A\u001b[10000D\u001b[2Khttps://repo1.maven.org/maven2/com/lihaoyi/requests_2.12/0.1.7/requests_2.12-0.…\n",
            "\u001b[2K  100.0% [##########] 102.0 KiB (666.7 KiB / s)\n",
            "\u001b[2Khttps://oss.sonatype.org/content/repositories/snapshots/sh/almond/protocol_2.12…\n",
            "\u001b[2K    7.7% [          ] 48.0 KiB (186.8 KiB / s)\n",
            "\u001b[2Khttps://repo1.maven.org/maven2/com/lihaoyi/scalatags_2.12/0.6.7/scalatags_2.12-…\n",
            "\u001b[2K    0.0% [          ] 0B (0B / s)\n",
            "\u001b[2Khttps://repo1.maven.org/maven2/com/lihaoyi/scalatags_2.12/0.6.7/scalatags_2.12-…\n",
            "\u001b[2K    0.0% [          ] 0B (0B / s)\n",
            "\u001b[2Khttps://repo1.maven.org/maven2/org/scala-lang/scala-reflect/2.12.8/scala-reflec…\n",
            "\u001b[2K    0.0% [          ] 0B (0B / s)\n",
            "\u001b[2Khttps://oss.sonatype.org/content/repositories/snapshots/sh/almond/scala-interpr…\n",
            "\u001b[2K    0.0% [          ] 0B (0B / s)\n",
            "\u001b[2A\u001b[2A\u001b[2A\u001b[2A\u001b[2A\u001b[10000D\u001b[2Khttps://oss.sonatype.org/content/repositories/snapshots/sh/almond/protocol_2.12…\n",
            "\u001b[2K    7.7% [          ] 48.0 KiB (173.3 KiB / s)\n",
            "\u001b[2Khttps://repo1.maven.org/maven2/com/lihaoyi/scalatags_2.12/0.6.7/scalatags_2.12-…\n",
            "\u001b[2K    0.0% [          ] 0B (0B / s)\n",
            "\u001b[2Khttps://repo1.maven.org/maven2/com/lihaoyi/scalatags_2.12/0.6.7/scalatags_2.12-…\n",
            "\u001b[2K    0.0% [          ] 0B (0B / s)\n",
            "\u001b[2Khttps://repo1.maven.org/maven2/org/scala-lang/scala-reflect/2.12.8/scala-reflec…\n",
            "\u001b[2K    0.0% [          ] 0B (0B / s)\n",
            "\u001b[2Khttps://oss.sonatype.org/content/repositories/snapshots/sh/almond/scala-interpr…\n",
            "\u001b[2K    0.0% [          ] 0B (0B / s)\n",
            "\u001b[2A\u001b[2A\u001b[2A\u001b[2A\u001b[2A\u001b[10000D\u001b[2Khttps://repo1.maven.org/maven2/com/lihaoyi/scalatags_2.12/0.6.7/scalatags_2.12-…\n",
            "\u001b[2K  100.0% [##########] 474.2 KiB (3.0 MiB / s)\n",
            "\u001b[2Khttps://oss.sonatype.org/content/repositories/snapshots/sh/almond/protocol_2.12…\n",
            "\u001b[2K    7.7% [          ] 48.0 KiB (161.6 KiB / s)\n",
            "\u001b[2Khttps://repo1.maven.org/maven2/com/lihaoyi/scalatags_2.12/0.6.7/scalatags_2.12-…\n",
            "\u001b[2K    0.0% [          ] 0B (0B / s)\n",
            "\u001b[2Khttps://repo1.maven.org/maven2/org/scala-lang/scala-reflect/2.12.8/scala-reflec…\n",
            "\u001b[2K    0.0% [          ] 0B (0B / s)\n",
            "\u001b[2Khttps://oss.sonatype.org/content/repositories/snapshots/sh/almond/scala-interpr…\n",
            "\u001b[2K    0.0% [          ] 0B (0B / s)\n",
            "\u001b[2A\u001b[2A\u001b[2A\u001b[2A\u001b[10000D\u001b[2Khttps://repo1.maven.org/maven2/com/lihaoyi/scalatags_2.12/0.6.7/scalatags_2.12-…\n",
            "\u001b[2K  100.0% [##########] 70.3 KiB (502.4 KiB / s)\n",
            "\u001b[2Khttps://oss.sonatype.org/content/repositories/snapshots/sh/almond/protocol_2.12…\n",
            "\u001b[2K    7.7% [          ] 48.0 KiB (134.5 KiB / s)\n",
            "\u001b[2Khttps://repo1.maven.org/maven2/org/scala-lang/scala-reflect/2.12.8/scala-reflec…\n",
            "\u001b[2K    0.0% [          ] 0B (0B / s)\n",
            "\u001b[2Khttps://oss.sonatype.org/content/repositories/snapshots/sh/almond/scala-interpr…\n",
            "\u001b[2K    0.0% [          ] 0B (0B / s)\n",
            "\u001b[2A\u001b[2A\u001b[2A\u001b[10000D\u001b[2Khttps://repo1.maven.org/maven2/org/scala-lang/scala-reflect/2.12.8/scala-reflec…\n",
            "\u001b[2K   32.3% [###       ] 1.1 MiB (7.4 MiB / s)\n",
            "\u001b[2Khttps://oss.sonatype.org/content/repositories/snapshots/sh/almond/protocol_2.12…\n",
            "\u001b[2K   26.6% [##        ] 165.9 KiB (440.1 KiB / s)\n",
            "\u001b[2Khttps://oss.sonatype.org/content/repositories/snapshots/sh/almond/scala-interpr…\n",
            "\u001b[2K    0.0% [          ] 0B (0B / s)\n",
            "\u001b[2A\u001b[2A\u001b[2A\u001b[10000D\u001b[2Khttps://repo1.maven.org/maven2/org/scala-lang/scala-reflect/2.12.8/scala-reflec…\n",
            "\u001b[2K   78.2% [#######   ] 2.7 MiB (15.9 MiB / s)\n",
            "\u001b[2Khttps://oss.sonatype.org/content/repositories/snapshots/sh/almond/protocol_2.12…\n",
            "\u001b[2K   26.6% [##        ] 165.9 KiB (417.9 KiB / s)\n",
            "\u001b[2Khttps://oss.sonatype.org/content/repositories/snapshots/sh/almond/scala-interpr…\n",
            "\u001b[2K    0.0% [          ] 0B (0B / s)\n",
            "\u001b[2A\u001b[2A\u001b[2A\u001b[10000D\u001b[2Khttps://repo1.maven.org/maven2/org/scala-lang/scala-reflect/2.12.8/scala-reflec…\n",
            "\u001b[2K   85.8% [########  ] 3.0 MiB (15.6 MiB / s)\n",
            "\u001b[2Khttps://oss.sonatype.org/content/repositories/snapshots/sh/almond/protocol_2.12…\n",
            "\u001b[2K   26.6% [##        ] 165.9 KiB (397.9 KiB / s)\n",
            "\u001b[2Khttps://oss.sonatype.org/content/repositories/snapshots/sh/almond/scala-interpr…\n",
            "\u001b[2K    0.0% [          ] 0B (0B / s)\n",
            "\u001b[2A\u001b[2A\u001b[2A\u001b[10000D\u001b[2Khttps://repo1.maven.org/maven2/org/scala-lang/scala-reflect/2.12.8/scala-reflec…\n",
            "\u001b[2K   85.8% [########  ] 3.0 MiB (14.1 MiB / s)\n",
            "\u001b[2Khttps://oss.sonatype.org/content/repositories/snapshots/sh/almond/scala-interpr…\n",
            "\u001b[2K   48.6% [####      ] 48.0 KiB (236.5 KiB / s)\n",
            "\u001b[2Khttps://oss.sonatype.org/content/repositories/snapshots/sh/almond/protocol_2.12…\n",
            "\u001b[2K   26.6% [##        ] 165.9 KiB (379.7 KiB / s)\n",
            "\u001b[2A\u001b[2A\u001b[2A\u001b[10000D\u001b[2Khttps://repo1.maven.org/maven2/org/scala-lang/scala-reflect/2.12.8/scala-reflec…\n",
            "\u001b[2K  100.0% [##########] 3.5 MiB (12.8 MiB / s)\n",
            "\u001b[2Khttps://oss.sonatype.org/content/repositories/snapshots/sh/almond/scala-interpr…\n",
            "\u001b[2K   48.6% [####      ] 48.0 KiB (182.5 KiB / s)\n",
            "\u001b[2Khttps://oss.sonatype.org/content/repositories/snapshots/sh/almond/protocol_2.12…\n",
            "\u001b[2K   26.6% [##        ] 165.9 KiB (333.8 KiB / s)\n",
            "\u001b[2Khttps://repo1.maven.org/maven2/com/lihaoyi/upickle_2.12/0.7.1/upickle_2.12-0.7.…\n",
            "\u001b[2K    0.0% [          ] 0B (0B / s)\n",
            "\u001b[2A\u001b[2A\u001b[2A\u001b[10000D\u001b[2Khttps://oss.sonatype.org/content/repositories/snapshots/sh/almond/protocol_2.12…\n",
            "\u001b[2K   62.6% [######    ] 389.9 KiB (700.0 KiB / s)\n",
            "\u001b[2Khttps://oss.sonatype.org/content/repositories/snapshots/sh/almond/scala-interpr…\n",
            "\u001b[2K   48.6% [####      ] 48.0 KiB (148.6 KiB / s)\n",
            "\u001b[2Khttps://repo1.maven.org/maven2/com/lihaoyi/upickle_2.12/0.7.1/upickle_2.12-0.7.…\n",
            "\u001b[2K    0.0% [          ] 0B (0B / s)\n",
            "\u001b[2A\u001b[2A\u001b[2A\u001b[10000D\u001b[2Khttps://oss.sonatype.org/content/repositories/snapshots/sh/almond/scala-interpr…\n",
            "\u001b[2K  100.0% [##########] 98.8 KiB (258.0 KiB / s)\n",
            "\u001b[2Khttps://repo1.maven.org/maven2/com/lihaoyi/upickle_2.12/0.7.1/upickle_2.12-0.7.…\n",
            "\u001b[2K  100.0% [##########] 3.7 KiB (27.3 KiB / s)\n",
            "\u001b[2Khttps://oss.sonatype.org/content/repositories/snapshots/sh/almond/protocol_2.12…\n",
            "\u001b[2K   62.6% [######    ] 389.9 KiB (632.0 KiB / s)\n",
            "\u001b[2A\u001b[10000D\u001b[2Khttps://oss.sonatype.org/content/repositories/snapshots/sh/almond/protocol_2.12…\n",
            "\u001b[2K   62.6% [######    ] 389.9 KiB (575.9 KiB / s)\n",
            "\u001b[2Khttps://jitpack.io/com/github/jupyter/jvm-repr/0.4.0/jvm-repr-0.4.0.jar.sha1\n",
            "\u001b[2K    0.0% [          ] 0B (0B / s)\n",
            "\u001b[2Khttps://jitpack.io/com/github/jupyter/jvm-repr/0.4.0/jvm-repr-0.4.0-sources.jar…\n",
            "\u001b[2K    0.0% [          ] 0B (0B / s)\n",
            "\u001b[2Khttps://repo1.maven.org/maven2/org/typelevel/cats-core_2.12/1.6.0/cats-core_2.1…\n",
            "\u001b[2K    0.0% [          ] 0B (0B / s)\n",
            "\u001b[2Khttps://oss.sonatype.org/content/repositories/snapshots/sh/almond/logger_2.12/0…\n",
            "\u001b[2K    0.0% [          ] 0B (0B / s)\n",
            "\u001b[2Khttps://oss.sonatype.org/content/repositories/snapshots/sh/almond/channels_2.12…\n",
            "\u001b[2K    0.0% [          ] 0B (0B / s)\n",
            "\u001b[2A\u001b[2A\u001b[2A\u001b[2A\u001b[2A\u001b[2A\u001b[10000D\u001b[2Khttps://oss.sonatype.org/content/repositories/snapshots/sh/almond/protocol_2.12…\n",
            "\u001b[2K   62.6% [######    ] 389.9 KiB (543.8 KiB / s)\n",
            "\u001b[2Khttps://jitpack.io/com/github/jupyter/jvm-repr/0.4.0/jvm-repr-0.4.0-sources.jar…\n",
            "\u001b[2K    0.0% [          ] 0B (0B / s)\n",
            "\u001b[2Khttps://repo1.maven.org/maven2/org/typelevel/cats-core_2.12/1.6.0/cats-core_2.1…\n",
            "\u001b[2K    0.0% [          ] 0B (0B / s)\n",
            "\u001b[2Khttps://oss.sonatype.org/content/repositories/snapshots/sh/almond/logger_2.12/0…\n",
            "\u001b[2K    0.0% [          ] 0B (0B / s)\n",
            "\u001b[2Khttps://oss.sonatype.org/content/repositories/snapshots/sh/almond/channels_2.12…\n",
            "\u001b[2K    0.0% [          ] 0B (0B / s)\n",
            "\u001b[2Khttps://oss.sonatype.org/content/repositories/snapshots/sh/almond/kernel_2.12/0…\n",
            "\u001b[2K    0.0% [          ] 0B (0B / s)\n",
            "\u001b[2A\u001b[2A\u001b[2A\u001b[2A\u001b[2A\u001b[2A\u001b[10000D\u001b[2Khttps://oss.sonatype.org/content/repositories/snapshots/sh/almond/protocol_2.12…\n",
            "\u001b[2K  100.0% [##########] 623.2 KiB (845.6 KiB / s)\n",
            "\u001b[2Khttps://jitpack.io/com/github/jupyter/jvm-repr/0.4.0/jvm-repr-0.4.0-sources.jar…\n",
            "\u001b[2K    0.0% [          ] 0B (0B / s)\n",
            "\u001b[2Khttps://repo1.maven.org/maven2/org/typelevel/cats-core_2.12/1.6.0/cats-core_2.1…\n",
            "\u001b[2K    0.0% [          ] 0B (0B / s)\n",
            "\u001b[2Khttps://oss.sonatype.org/content/repositories/snapshots/sh/almond/logger_2.12/0…\n",
            "\u001b[2K    0.0% [          ] 0B (0B / s)\n",
            "\u001b[2Khttps://oss.sonatype.org/content/repositories/snapshots/sh/almond/channels_2.12…\n",
            "\u001b[2K    0.0% [          ] 0B (0B / s)\n",
            "\u001b[2Khttps://oss.sonatype.org/content/repositories/snapshots/sh/almond/kernel_2.12/0…\n",
            "\u001b[2K    0.0% [          ] 0B (0B / s)\n",
            "\u001b[2Khttps://oss.sonatype.org/content/repositories/snapshots/sh/almond/scala-interpr…\n",
            "\u001b[2K    0.0% [          ] 0B (0B / s)\n",
            "\u001b[2A\u001b[2A\u001b[2A\u001b[2A\u001b[2A\u001b[2A\u001b[10000D\u001b[2Khttps://repo1.maven.org/maven2/org/typelevel/cats-core_2.12/1.6.0/cats-core_2.1…\n",
            "\u001b[2K    0.0% [          ] 0B (0B / s)\n",
            "\u001b[2Khttps://oss.sonatype.org/content/repositories/snapshots/sh/almond/logger_2.12/0…\n",
            "\u001b[2K    0.0% [          ] 0B (0B / s)\n",
            "\u001b[2Khttps://oss.sonatype.org/content/repositories/snapshots/sh/almond/channels_2.12…\n",
            "\u001b[2K    0.0% [          ] 0B (0B / s)\n",
            "\u001b[2Khttps://oss.sonatype.org/content/repositories/snapshots/sh/almond/kernel_2.12/0…\n",
            "\u001b[2K    0.0% [          ] 0B (0B / s)\n",
            "\u001b[2Khttps://oss.sonatype.org/content/repositories/snapshots/sh/almond/scala-interpr…\n",
            "\u001b[2K    0.0% [          ] 0B (0B / s)\n",
            "\u001b[2Khttps://oss.sonatype.org/content/repositories/snapshots/sh/almond/scala-kernel-…\n",
            "\u001b[2K    0.0% [          ] 0B (0B / s)\n",
            "\u001b[2A\u001b[2A\u001b[2A\u001b[2A\u001b[2A\u001b[2A\u001b[10000D\u001b[2Khttps://repo1.maven.org/maven2/org/typelevel/cats-core_2.12/1.6.0/cats-core_2.1…\n",
            "\u001b[2K    0.0% [          ] 0B (0B / s)\n",
            "\u001b[2Khttps://oss.sonatype.org/content/repositories/snapshots/sh/almond/logger_2.12/0…\n",
            "\u001b[2K    0.0% [          ] 0B (0B / s)\n",
            "\u001b[2Khttps://oss.sonatype.org/content/repositories/snapshots/sh/almond/channels_2.12…\n",
            "\u001b[2K    0.0% [          ] 0B (0B / s)\n",
            "\u001b[2Khttps://oss.sonatype.org/content/repositories/snapshots/sh/almond/kernel_2.12/0…\n",
            "\u001b[2K    0.0% [          ] 0B (0B / s)\n",
            "\u001b[2Khttps://oss.sonatype.org/content/repositories/snapshots/sh/almond/scala-interpr…\n",
            "\u001b[2K    0.0% [          ] 0B (0B / s)\n",
            "\u001b[2Khttps://oss.sonatype.org/content/repositories/snapshots/sh/almond/scala-kernel-…\n",
            "\u001b[2K    0.0% [          ] 0B (0B / s)\n",
            "\u001b[2A\u001b[2A\u001b[2A\u001b[2A\u001b[2A\u001b[2A\u001b[10000D\u001b[2Khttps://repo1.maven.org/maven2/org/typelevel/cats-core_2.12/1.6.0/cats-core_2.1…\n",
            "\u001b[2K  100.0% [##########] 241.5 KiB (1.6 MiB / s)\n",
            "\u001b[2Khttps://oss.sonatype.org/content/repositories/snapshots/sh/almond/logger_2.12/0…\n",
            "\u001b[2K    0.0% [          ] 0B (0B / s)\n",
            "\u001b[2Khttps://oss.sonatype.org/content/repositories/snapshots/sh/almond/channels_2.12…\n",
            "\u001b[2K    0.0% [          ] 0B (0B / s)\n",
            "\u001b[2Khttps://oss.sonatype.org/content/repositories/snapshots/sh/almond/kernel_2.12/0…\n",
            "\u001b[2K    0.0% [          ] 0B (0B / s)\n",
            "\u001b[2Khttps://oss.sonatype.org/content/repositories/snapshots/sh/almond/scala-interpr…\n",
            "\u001b[2K    0.0% [          ] 0B (0B / s)\n",
            "\u001b[2Khttps://oss.sonatype.org/content/repositories/snapshots/sh/almond/scala-kernel-…\n",
            "\u001b[2K    0.0% [          ] 0B (0B / s)\n",
            "\u001b[2Khttps://oss.sonatype.org/content/repositories/snapshots/sh/almond/channels_2.12…\n",
            "\u001b[2K    0.0% [          ] 0B (0B / s)\n",
            "\u001b[2A\u001b[2A\u001b[2A\u001b[2A\u001b[2A\u001b[2A\u001b[10000D\u001b[2Khttps://oss.sonatype.org/content/repositories/snapshots/sh/almond/logger_2.12/0…\n",
            "\u001b[2K  100.0% [##########] 40B (209B / s)\n",
            "\u001b[2Khttps://oss.sonatype.org/content/repositories/snapshots/sh/almond/channels_2.12…\n",
            "\u001b[2K  100.0% [##########] 40B (210B / s)\n",
            "\u001b[2Khttps://oss.sonatype.org/content/repositories/snapshots/sh/almond/kernel_2.12/0…\n",
            "\u001b[2K    0.0% [          ] 0B (0B / s)\n",
            "\u001b[2Khttps://oss.sonatype.org/content/repositories/snapshots/sh/almond/scala-interpr…\n",
            "\u001b[2K    0.0% [          ] 0B (0B / s)\n",
            "\u001b[2Khttps://oss.sonatype.org/content/repositories/snapshots/sh/almond/scala-kernel-…\n",
            "\u001b[2K    0.0% [          ] 0B (0B / s)\n",
            "\u001b[2Khttps://oss.sonatype.org/content/repositories/snapshots/sh/almond/channels_2.12…\n",
            "\u001b[2K    0.0% [          ] 0B (0B / s)\n",
            "\u001b[2A\u001b[2A\u001b[2A\u001b[2A\u001b[2A\u001b[2A\u001b[10000D\u001b[2Khttps://oss.sonatype.org/content/repositories/snapshots/sh/almond/kernel_2.12/0…\n",
            "\u001b[2K    0.0% [          ] 0B (0B / s)\n",
            "\u001b[2Khttps://oss.sonatype.org/content/repositories/snapshots/sh/almond/scala-interpr…\n",
            "\u001b[2K    0.0% [          ] 0B (0B / s)\n",
            "\u001b[2Khttps://oss.sonatype.org/content/repositories/snapshots/sh/almond/scala-kernel-…\n",
            "\u001b[2K    0.0% [          ] 0B (0B / s)\n",
            "\u001b[2Khttps://oss.sonatype.org/content/repositories/snapshots/sh/almond/channels_2.12…\n",
            "\u001b[2K    0.0% [          ] 0B (0B / s)\n",
            "\u001b[2Khttps://oss.sonatype.org/content/repositories/snapshots/sh/almond/interpreter-a…\n",
            "\u001b[2K    0.0% [          ] 0B (0B / s)\n",
            "\u001b[2Khttps://oss.sonatype.org/content/repositories/snapshots/sh/almond/interpreter-a…\n",
            "\u001b[2K    0.0% [          ] 0B (0B / s)\n",
            "\u001b[2A\u001b[2A\u001b[2A\u001b[2A\u001b[2A\u001b[2A\u001b[10000D\u001b[2Khttps://oss.sonatype.org/content/repositories/snapshots/sh/almond/scala-interpr…\n",
            "\u001b[2K    0.0% [          ] 0B (0B / s)\n",
            "\u001b[2Khttps://oss.sonatype.org/content/repositories/snapshots/sh/almond/scala-kernel-…\n",
            "\u001b[2K    0.0% [          ] 0B (0B / s)\n",
            "\u001b[2Khttps://oss.sonatype.org/content/repositories/snapshots/sh/almond/channels_2.12…\n",
            "\u001b[2K    0.0% [          ] 0B (0B / s)\n",
            "\u001b[2Khttps://oss.sonatype.org/content/repositories/snapshots/sh/almond/interpreter-a…\n",
            "\u001b[2K    0.0% [          ] 0B (0B / s)\n",
            "\u001b[2Khttps://oss.sonatype.org/content/repositories/snapshots/sh/almond/interpreter-a…\n",
            "\u001b[2K    0.0% [          ] 0B (0B / s)\n",
            "\u001b[2Khttps://oss.sonatype.org/content/repositories/snapshots/sh/almond/protocol_2.12…\n",
            "\u001b[2K    0.0% [          ] 0B (0B / s)\n",
            "\u001b[2A\u001b[2A\u001b[2A\u001b[2A\u001b[2A\u001b[2A\u001b[10000D\u001b[2Khttps://oss.sonatype.org/content/repositories/snapshots/sh/almond/scala-interpr…\n",
            "\u001b[2K    0.0% [          ] 0B (0B / s)\n",
            "\u001b[2Khttps://oss.sonatype.org/content/repositories/snapshots/sh/almond/scala-kernel-…\n",
            "\u001b[2K    0.0% [          ] 0B (0B / s)\n",
            "\u001b[2Khttps://oss.sonatype.org/content/repositories/snapshots/sh/almond/channels_2.12…\n",
            "\u001b[2K    0.0% [          ] 0B (0B / s)\n",
            "\u001b[2Khttps://oss.sonatype.org/content/repositories/snapshots/sh/almond/interpreter-a…\n",
            "\u001b[2K    0.0% [          ] 0B (0B / s)\n",
            "\u001b[2Khttps://oss.sonatype.org/content/repositories/snapshots/sh/almond/interpreter-a…\n",
            "\u001b[2K    0.0% [          ] 0B (0B / s)\n",
            "\u001b[2Khttps://oss.sonatype.org/content/repositories/snapshots/sh/almond/protocol_2.12…\n",
            "\u001b[2K    0.0% [          ] 0B (0B / s)\n",
            "\u001b[2A\u001b[2A\u001b[2A\u001b[2A\u001b[2A\u001b[2A\u001b[10000D\u001b[2Khttps://oss.sonatype.org/content/repositories/snapshots/sh/almond/scala-interpr…\n",
            "\u001b[2K    0.0% [          ] 0B (0B / s)\n",
            "\u001b[2Khttps://oss.sonatype.org/content/repositories/snapshots/sh/almond/scala-kernel-…\n",
            "\u001b[2K    0.0% [          ] 0B (0B / s)\n",
            "\u001b[2Khttps://oss.sonatype.org/content/repositories/snapshots/sh/almond/channels_2.12…\n",
            "\u001b[2K    0.0% [          ] 0B (0B / s)\n",
            "\u001b[2Khttps://oss.sonatype.org/content/repositories/snapshots/sh/almond/interpreter-a…\n",
            "\u001b[2K    0.0% [          ] 0B (0B / s)\n",
            "\u001b[2Khttps://oss.sonatype.org/content/repositories/snapshots/sh/almond/interpreter-a…\n",
            "\u001b[2K    0.0% [          ] 0B (0B / s)\n",
            "\u001b[2Khttps://oss.sonatype.org/content/repositories/snapshots/sh/almond/protocol_2.12…\n",
            "\u001b[2K    0.0% [          ] 0B (0B / s)\n",
            "\u001b[2A\u001b[2A\u001b[2A\u001b[2A\u001b[2A\u001b[2A\u001b[10000D\u001b[2Khttps://oss.sonatype.org/content/repositories/snapshots/sh/almond/channels_2.12…\n",
            "\u001b[2K    0.0% [          ] 0B (0B / s)\n",
            "\u001b[2Khttps://oss.sonatype.org/content/repositories/snapshots/sh/almond/interpreter-a…\n",
            "\u001b[2K    0.0% [          ] 0B (0B / s)\n",
            "\u001b[2Khttps://oss.sonatype.org/content/repositories/snapshots/sh/almond/interpreter-a…\n",
            "\u001b[2K    0.0% [          ] 0B (0B / s)\n",
            "\u001b[2Khttps://oss.sonatype.org/content/repositories/snapshots/sh/almond/protocol_2.12…\n",
            "\u001b[2K    0.0% [          ] 0B (0B / s)\n",
            "\u001b[2Khttps://oss.sonatype.org/content/repositories/snapshots/sh/almond/scala-kernel-…\n",
            "\u001b[2K    0.0% [          ] 0B (0B / s)\n",
            "\u001b[2Khttps://oss.sonatype.org/content/repositories/snapshots/sh/almond/scala-kernel_…\n",
            "\u001b[2K    0.0% [          ] 0B (0B / s)\n",
            "\u001b[2A\u001b[2A\u001b[2A\u001b[2A\u001b[2A\u001b[2A\u001b[10000D\u001b[2Khttps://oss.sonatype.org/content/repositories/snapshots/sh/almond/interpreter-a…\n",
            "\u001b[2K    0.0% [          ] 0B (0B / s)\n",
            "\u001b[2Khttps://oss.sonatype.org/content/repositories/snapshots/sh/almond/interpreter-a…\n",
            "\u001b[2K    0.0% [          ] 0B (0B / s)\n",
            "\u001b[2Khttps://oss.sonatype.org/content/repositories/snapshots/sh/almond/protocol_2.12…\n",
            "\u001b[2K    0.0% [          ] 0B (0B / s)\n",
            "\u001b[2Khttps://oss.sonatype.org/content/repositories/snapshots/sh/almond/scala-kernel-…\n",
            "\u001b[2K    0.0% [          ] 0B (0B / s)\n",
            "\u001b[2Khttps://oss.sonatype.org/content/repositories/snapshots/sh/almond/scala-kernel_…\n",
            "\u001b[2K    0.0% [          ] 0B (0B / s)\n",
            "\u001b[2Khttps://oss.sonatype.org/content/repositories/snapshots/sh/almond/interpreter_2…\n",
            "\u001b[2K    0.0% [          ] 0B (0B / s)\n",
            "\u001b[2A\u001b[2A\u001b[2A\u001b[2A\u001b[2A\u001b[2A\u001b[10000D\u001b[2Khttps://oss.sonatype.org/content/repositories/snapshots/sh/almond/interpreter-a…\n",
            "\u001b[2K    0.0% [          ] 0B (0B / s)\n",
            "\u001b[2Khttps://oss.sonatype.org/content/repositories/snapshots/sh/almond/protocol_2.12…\n",
            "\u001b[2K    0.0% [          ] 0B (0B / s)\n",
            "\u001b[2Khttps://oss.sonatype.org/content/repositories/snapshots/sh/almond/scala-kernel-…\n",
            "\u001b[2K    0.0% [          ] 0B (0B / s)\n",
            "\u001b[2Khttps://oss.sonatype.org/content/repositories/snapshots/sh/almond/scala-kernel_…\n",
            "\u001b[2K    0.0% [          ] 0B (0B / s)\n",
            "\u001b[2Khttps://oss.sonatype.org/content/repositories/snapshots/sh/almond/interpreter_2…\n",
            "\u001b[2K    0.0% [          ] 0B (0B / s)\n",
            "\u001b[2Khttps://oss.sonatype.org/content/repositories/snapshots/sh/almond/scala-kernel_…\n",
            "\u001b[2K    0.0% [          ] 0B (0B / s)\n",
            "\u001b[2A\u001b[2A\u001b[2A\u001b[2A\u001b[2A\u001b[2A\u001b[10000D\u001b[2Khttps://oss.sonatype.org/content/repositories/snapshots/sh/almond/protocol_2.12…\n",
            "\u001b[2K    0.0% [          ] 0B (0B / s)\n",
            "\u001b[2Khttps://oss.sonatype.org/content/repositories/snapshots/sh/almond/scala-kernel-…\n",
            "\u001b[2K    0.0% [          ] 0B (0B / s)\n",
            "\u001b[2Khttps://oss.sonatype.org/content/repositories/snapshots/sh/almond/scala-kernel_…\n",
            "\u001b[2K    0.0% [          ] 0B (0B / s)\n",
            "\u001b[2Khttps://oss.sonatype.org/content/repositories/snapshots/sh/almond/interpreter_2…\n",
            "\u001b[2K    0.0% [          ] 0B (0B / s)\n",
            "\u001b[2Khttps://oss.sonatype.org/content/repositories/snapshots/sh/almond/scala-kernel_…\n",
            "\u001b[2K    0.0% [          ] 0B (0B / s)\n",
            "\u001b[2Khttps://oss.sonatype.org/content/repositories/snapshots/sh/almond/kernel_2.12/0…\n",
            "\u001b[2K    0.0% [          ] 0B (0B / s)\n",
            "\u001b[2A\u001b[2A\u001b[2A\u001b[2A\u001b[2A\u001b[2A\u001b[10000D\u001b[2Khttps://oss.sonatype.org/content/repositories/snapshots/sh/almond/scala-kernel-…\n",
            "\u001b[2K    0.0% [          ] 0B (0B / s)\n",
            "\u001b[2Khttps://oss.sonatype.org/content/repositories/snapshots/sh/almond/scala-kernel_…\n",
            "\u001b[2K    0.0% [          ] 0B (0B / s)\n",
            "\u001b[2Khttps://oss.sonatype.org/content/repositories/snapshots/sh/almond/interpreter_2…\n",
            "\u001b[2K    0.0% [          ] 0B (0B / s)\n",
            "\u001b[2Khttps://oss.sonatype.org/content/repositories/snapshots/sh/almond/scala-kernel_…\n",
            "\u001b[2K    0.0% [          ] 0B (0B / s)\n",
            "\u001b[2Khttps://oss.sonatype.org/content/repositories/snapshots/sh/almond/kernel_2.12/0…\n",
            "\u001b[2K    0.0% [          ] 0B (0B / s)\n",
            "\u001b[2Khttps://oss.sonatype.org/content/repositories/snapshots/sh/almond/interpreter_2…\n",
            "\u001b[2K    0.0% [          ] 0B (0B / s)\n",
            "\u001b[2A\u001b[2A\u001b[2A\u001b[2A\u001b[2A\u001b[2A\u001b[10000D\u001b[2Khttps://oss.sonatype.org/content/repositories/snapshots/sh/almond/interpreter_2…\n",
            "\u001b[2K    0.0% [          ] 0B (0B / s)\n",
            "\u001b[2Khttps://oss.sonatype.org/content/repositories/snapshots/sh/almond/scala-kernel_…\n",
            "\u001b[2K    0.0% [          ] 0B (0B / s)\n",
            "\u001b[2Khttps://oss.sonatype.org/content/repositories/snapshots/sh/almond/kernel_2.12/0…\n",
            "\u001b[2K    0.0% [          ] 0B (0B / s)\n",
            "\u001b[2Khttps://oss.sonatype.org/content/repositories/snapshots/sh/almond/interpreter_2…\n",
            "\u001b[2K    0.0% [          ] 0B (0B / s)\n",
            "\u001b[2Khttps://oss.sonatype.org/content/repositories/snapshots/sh/almond/logger_2.12/0…\n",
            "\u001b[2K    0.0% [          ] 0B (0B / s)\n",
            "\u001b[2K\u001b[1B\u001b[2K\u001b[1B\u001b[2A\u001b[2A\u001b[2A\u001b[2A\u001b[2A\u001b[2A\u001b[10000D\u001b[2Khttps://oss.sonatype.org/content/repositories/snapshots/sh/almond/interpreter_2…\n",
            "\u001b[2K    0.0% [          ] 0B (0B / s)\n",
            "\u001b[2Khttps://oss.sonatype.org/content/repositories/snapshots/sh/almond/scala-kernel_…\n",
            "\u001b[2K    0.0% [          ] 0B (0B / s)\n",
            "\u001b[2Khttps://oss.sonatype.org/content/repositories/snapshots/sh/almond/kernel_2.12/0…\n",
            "\u001b[2K    0.0% [          ] 0B (0B / s)\n",
            "\u001b[2Khttps://oss.sonatype.org/content/repositories/snapshots/sh/almond/interpreter_2…\n",
            "\u001b[2K    0.0% [          ] 0B (0B / s)\n",
            "\u001b[2Khttps://oss.sonatype.org/content/repositories/snapshots/sh/almond/logger_2.12/0…\n",
            "\u001b[2K    0.0% [          ] 0B (0B / s)\n",
            "\u001b[2Khttps://repo1.maven.org/maven2/com/lihaoyi/ammonite-interp_2.12.8/1.6.4/ammonit…\n",
            "\u001b[2K    0.0% [          ] 0B (0B / s)\n",
            "\u001b[2A\u001b[2A\u001b[2A\u001b[2A\u001b[2A\u001b[2A\u001b[10000D\u001b[2Khttps://oss.sonatype.org/content/repositories/snapshots/sh/almond/scala-kernel_…\n",
            "\u001b[2K    0.0% [          ] 0B (0B / s)\n",
            "\u001b[2Khttps://oss.sonatype.org/content/repositories/snapshots/sh/almond/kernel_2.12/0…\n",
            "\u001b[2K    0.0% [          ] 0B (0B / s)\n",
            "\u001b[2Khttps://oss.sonatype.org/content/repositories/snapshots/sh/almond/interpreter_2…\n",
            "\u001b[2K    0.0% [          ] 0B (0B / s)\n",
            "\u001b[2Khttps://oss.sonatype.org/content/repositories/snapshots/sh/almond/logger_2.12/0…\n",
            "\u001b[2K    0.0% [          ] 0B (0B / s)\n",
            "\u001b[2Khttps://repo1.maven.org/maven2/com/lihaoyi/ammonite-interp_2.12.8/1.6.4/ammonit…\n",
            "\u001b[2K    0.0% [          ] 0B (0B / s)\n",
            "\u001b[2K\u001b[1B\u001b[2K\u001b[1B\u001b[2A\u001b[2A\u001b[2A\u001b[2A\u001b[2A\u001b[2A\u001b[10000D\u001b[2Khttps://oss.sonatype.org/content/repositories/snapshots/sh/almond/interpreter_2…\n",
            "\u001b[2K    0.0% [          ] 0B (0B / s)\n",
            "\u001b[2Khttps://oss.sonatype.org/content/repositories/snapshots/sh/almond/logger_2.12/0…\n",
            "\u001b[2K    0.0% [          ] 0B (0B / s)\n",
            "\u001b[2Khttps://repo1.maven.org/maven2/com/lihaoyi/ammonite-interp_2.12.8/1.6.4/ammonit…\n",
            "\u001b[2K    0.0% [          ] 0B (0B / s)\n",
            "\u001b[2Khttps://oss.sonatype.org/content/repositories/snapshots/sh/almond/scala-interpr…\n",
            "\u001b[2K    0.0% [          ] 0B\n",
            "\u001b[2K\u001b[1B\u001b[2K\u001b[1B\u001b[2A\u001b[2A\u001b[2A\u001b[2A\u001b[2A\u001b[10000D\u001b[2Khttps://oss.sonatype.org/content/repositories/snapshots/sh/almond/logger_2.12/0…\n",
            "\u001b[2K    0.0% [          ] 0B (0B / s)\n",
            "\u001b[2Khttps://repo1.maven.org/maven2/com/lihaoyi/ammonite-interp_2.12.8/1.6.4/ammonit…\n",
            "\u001b[2K    0.0% [          ] 0B (0B / s)\n",
            "\u001b[2Khttps://oss.sonatype.org/content/repositories/snapshots/sh/almond/scala-interpr…\n",
            "\u001b[2K    0.0% [          ] 0B (0B / s)\n",
            "\u001b[2Khttps://oss.sonatype.org/content/repositories/snapshots/sh/almond/protocol_2.12…\n",
            "\u001b[2K    0.0% [          ] 0B (0B / s)\n",
            "\u001b[2A\u001b[2A\u001b[2A\u001b[2A\u001b[10000D\u001b[2Khttps://repo1.maven.org/maven2/com/lihaoyi/ammonite-interp_2.12.8/1.6.4/ammonit…\n",
            "\u001b[2K  100.0% [##########] 314.1 KiB (2.2 MiB / s)\n",
            "\u001b[2Khttps://oss.sonatype.org/content/repositories/snapshots/sh/almond/logger_2.12/0…\n",
            "\u001b[2K    0.0% [          ] 0B (0B / s)\n",
            "\u001b[2Khttps://oss.sonatype.org/content/repositories/snapshots/sh/almond/scala-interpr…\n",
            "\u001b[2K    0.0% [          ] 0B (0B / s)\n",
            "\u001b[2Khttps://oss.sonatype.org/content/repositories/snapshots/sh/almond/protocol_2.12…\n",
            "\u001b[2K    0.0% [          ] 0B (0B / s)\n",
            "\u001b[2A\u001b[2A\u001b[2A\u001b[10000D\u001b[2Khttps://oss.sonatype.org/content/repositories/snapshots/sh/almond/scala-interpr…\n",
            "\u001b[2K    0.0% [          ] 0B (0B / s)\n",
            "\u001b[2Khttps://oss.sonatype.org/content/repositories/snapshots/sh/almond/protocol_2.12…\n",
            "\u001b[2K    0.0% [          ] 0B (0B / s)\n",
            "\u001b[2K\u001b[1B\u001b[2K\u001b[1B\u001b[2A\u001b[2A\u001b[2A\u001b[10000D\u001b[2K\u001b[1B\u001b[2K\u001b[1B\u001b[2K\u001b[1B\u001b[2K\u001b[1B\u001b[2A\u001b[2A\u001b[10000DWrote /content/almond-snapshot\n",
            "Installed scala kernel under /usr/local/share/jupyter/kernels/scala\n"
          ]
        },
        {
          "output_type": "execute_result",
          "data": {
            "text/plain": [
              ""
            ]
          },
          "metadata": {},
          "execution_count": 1
        }
      ],
      "source": [
        "%%shell\n",
        "SCALA_VERSION=2.12.8 ALMOND_VERSION=0.3.0+16-548dc10f-SNAPSHOT\n",
        "curl -Lo coursier https://git.io/coursier-cli\n",
        "chmod +x coursier\n",
        "./coursier bootstrap \\\n",
        "    -r jitpack -r sonatype:snapshots \\\n",
        "    -i user -I user:sh.almond:scala-kernel-api_$SCALA_VERSION:$ALMOND_VERSION \\\n",
        "    sh.almond:scala-kernel_$SCALA_VERSION:$ALMOND_VERSION \\\n",
        "    --sources --default=true \\\n",
        "    -o almond-snapshot --embed-files=false\n",
        "rm coursier\n",
        "./almond-snapshot --install --global --force\n",
        "rm almond-snapshot"
      ]
    },
    {
      "cell_type": "code",
      "execution_count": null,
      "metadata": {
        "id": "BZchIo9sArF4"
      },
      "outputs": [],
      "source": [
        "%%shell\n",
        "echo \"{\n",
        "  \\\"language\\\" : \\\"scala\\\",\n",
        "  \\\"display_name\\\" : \\\"Scala\\\",\n",
        "  \\\"argv\\\" : [\n",
        "    \\\"bash\\\",\n",
        "    \\\"-c\\\",\n",
        "    \\\"env LD_PRELOAD=/usr/lib/x86_64-linux-gnu/libpython3.6m.so:\\$LD_PRELOAD java -jar /usr/local/share/jupyter/kernels/scala/launcher.jar --connection-file {connection_file}\\\"\n",
        "  ]\n",
        "}\" > /usr/local/share/jupyter/kernels/scala/kernel.json"
      ]
    },
    {
      "cell_type": "markdown",
      "source": [
        "## Nota\n",
        "Luego de ejecutar los dos bloques de código, recargué la página o los comandos en Scala no se ejecutarán."
      ],
      "metadata": {
        "id": "LQvY0RG5fymj"
      }
    },
    {
      "cell_type": "markdown",
      "metadata": {
        "id": "MQSgpzU-h4il"
      },
      "source": [
        "# Tour por Scala"
      ]
    },
    {
      "cell_type": "markdown",
      "metadata": {
        "id": "FF167TIOiA2m"
      },
      "source": [
        "## Tipos de datos"
      ]
    },
    {
      "cell_type": "markdown",
      "metadata": {
        "id": "uJR0U5Rck90j"
      },
      "source": [
        "![unified-types-diagram.svg](data:image/svg+xml;base64,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)"
      ]
    },
    {
      "cell_type": "markdown",
      "metadata": {
        "id": "LJoqf7-IunpZ"
      },
      "source": [
        "## Expresiones"
      ]
    },
    {
      "cell_type": "markdown",
      "source": [
        "Las expresiones son sentencias computables"
      ],
      "metadata": {
        "id": "Z59wcGWN6bqK"
      }
    },
    {
      "cell_type": "markdown",
      "metadata": {
        "id": "L0h3Uj9UuqCA"
      },
      "source": [
        "### Valores\n"
      ]
    },
    {
      "cell_type": "code",
      "execution_count": null,
      "metadata": {
        "id": "kGnrBxIPh_eC",
        "colab": {
          "base_uri": "https://localhost:8080/"
        },
        "outputId": "b8edf806-19d0-430b-f0b3-7fb9f2ca74c4"
      },
      "outputs": [
        {
          "output_type": "stream",
          "name": "stdout",
          "text": [
            "2\n"
          ]
        },
        {
          "output_type": "execute_result",
          "data": {
            "text/plain": [
              "\u001b[36mx\u001b[39m: \u001b[32mInt\u001b[39m = \u001b[32m2\u001b[39m"
            ]
          },
          "metadata": {},
          "execution_count": 1
        }
      ],
      "source": [
        "val x = 1 + 1\n",
        "println(x) // 2"
      ]
    },
    {
      "cell_type": "markdown",
      "source": [
        "Los valores NO pueden ser reasignados."
      ],
      "metadata": {
        "id": "szHpRHWLxYLH"
      }
    },
    {
      "cell_type": "code",
      "source": [
        "x = 3 // This does not compile."
      ],
      "metadata": {
        "id": "_8fbxSpexVeP",
        "colab": {
          "base_uri": "https://localhost:8080/",
          "height": 130
        },
        "outputId": "d1ec47d4-d3e5-4f1e-faec-3b0c7af2b8cc"
      },
      "execution_count": null,
      "outputs": [
        {
          "output_type": "stream",
          "name": "stderr",
          "text": [
            "cmd2.sc:1: reassignment to val\n",
            "val res2 = x = 3 // This does not compile.\n",
            "             ^Compilation Failed"
          ]
        },
        {
          "output_type": "error",
          "ename": "",
          "evalue": "ignored",
          "traceback": [
            "Compilation Failed"
          ]
        }
      ]
    },
    {
      "cell_type": "markdown",
      "source": [
        "Se puede definir explícitamente el tipo de dato"
      ],
      "metadata": {
        "id": "Ns6yRHIo4kSU"
      }
    },
    {
      "cell_type": "code",
      "source": [
        "val x: Int = 1 + 1"
      ],
      "metadata": {
        "id": "jDo8gKCw4tW9",
        "colab": {
          "base_uri": "https://localhost:8080/"
        },
        "outputId": "6a6c1a65-9aa0-4ef9-8568-4cce5c729e13"
      },
      "execution_count": null,
      "outputs": [
        {
          "output_type": "execute_result",
          "data": {
            "text/plain": [
              "\u001b[36mx\u001b[39m: \u001b[32mInt\u001b[39m = \u001b[32m2\u001b[39m"
            ]
          },
          "metadata": {},
          "execution_count": 3
        }
      ]
    },
    {
      "cell_type": "markdown",
      "source": [
        "### Variables"
      ],
      "metadata": {
        "id": "mnUGah4Rww2N"
      }
    },
    {
      "cell_type": "markdown",
      "source": [
        "Los variables pueden ser reasignadas."
      ],
      "metadata": {
        "id": "AWTKRy14zJB7"
      }
    },
    {
      "cell_type": "code",
      "source": [
        "var x = 1 + 1\n",
        "x = 3 // This compiles because \"x\" is declared with the \"var\" keyword.\n",
        "println(x * x) // 9"
      ],
      "metadata": {
        "id": "sMvajDgrw1B4",
        "colab": {
          "base_uri": "https://localhost:8080/"
        },
        "outputId": "93b316cc-b33e-4faf-c7ab-d04a36ec9f96"
      },
      "execution_count": null,
      "outputs": [
        {
          "output_type": "stream",
          "name": "stdout",
          "text": [
            "9\n"
          ]
        },
        {
          "output_type": "execute_result",
          "data": {
            "text/plain": [
              "\u001b[36mx\u001b[39m: \u001b[32mInt\u001b[39m = \u001b[32m3\u001b[39m"
            ]
          },
          "metadata": {},
          "execution_count": 4
        }
      ]
    },
    {
      "cell_type": "markdown",
      "source": [
        "Se puede definir explícitamente el tipo de dato"
      ],
      "metadata": {
        "id": "XDPpLxdT5Hxa"
      }
    },
    {
      "cell_type": "code",
      "source": [
        "var x: Int = 1 + 1"
      ],
      "metadata": {
        "id": "bO2nwHjS5Ml1",
        "colab": {
          "base_uri": "https://localhost:8080/"
        },
        "outputId": "1dc29aa1-332e-46da-aecd-443bcb0451a4"
      },
      "execution_count": null,
      "outputs": [
        {
          "output_type": "execute_result",
          "data": {
            "text/plain": [
              "\u001b[36mx\u001b[39m: \u001b[32mInt\u001b[39m = \u001b[32m2\u001b[39m"
            ]
          },
          "metadata": {},
          "execution_count": 5
        }
      ]
    },
    {
      "cell_type": "markdown",
      "source": [
        "## Funciones"
      ],
      "metadata": {
        "id": "8LL4Ym4d0TT_"
      }
    },
    {
      "cell_type": "markdown",
      "source": [
        "Las funciones son expresiones que tienen parámetros y toman argumentos."
      ],
      "metadata": {
        "id": "g927mOhx4WT1"
      }
    },
    {
      "cell_type": "code",
      "source": [
        "val addOne = (x: Int) => x + 1\n",
        "println(addOne(1)) // 2"
      ],
      "metadata": {
        "id": "bGzHvQIAPJ50",
        "colab": {
          "base_uri": "https://localhost:8080/"
        },
        "outputId": "6a67455f-a831-4e1b-9f63-88156f750a9b"
      },
      "execution_count": null,
      "outputs": [
        {
          "output_type": "stream",
          "name": "stdout",
          "text": [
            "2\n"
          ]
        },
        {
          "output_type": "execute_result",
          "data": {
            "text/plain": [
              "\u001b[36maddOne\u001b[39m: \u001b[32mInt\u001b[39m => \u001b[32mInt\u001b[39m = ammonite.$sess.cmd5$Helper$$Lambda$3120/0x0000000840e1a040@74caa3be"
            ]
          },
          "metadata": {},
          "execution_count": 6
        }
      ]
    },
    {
      "cell_type": "markdown",
      "source": [
        "Una función puede tener multiples parámetros."
      ],
      "metadata": {
        "id": "W7GgvvrCQHka"
      }
    },
    {
      "cell_type": "code",
      "source": [
        "val add = (x: Int, y: Int) => x + y\n",
        "println(add(1, 2)) // 3"
      ],
      "metadata": {
        "id": "j0_-2UKT2UOq",
        "colab": {
          "base_uri": "https://localhost:8080/"
        },
        "outputId": "702c46c1-d05e-4151-853d-08373e65f8c7"
      },
      "execution_count": null,
      "outputs": [
        {
          "output_type": "stream",
          "name": "stdout",
          "text": [
            "3\n"
          ]
        },
        {
          "output_type": "execute_result",
          "data": {
            "text/plain": [
              "\u001b[36madd\u001b[39m: (\u001b[32mInt\u001b[39m, \u001b[32mInt\u001b[39m) => \u001b[32mInt\u001b[39m = ammonite.$sess.cmd6$Helper$$Lambda$3131/0x0000000840e20040@4cb9225c"
            ]
          },
          "metadata": {},
          "execution_count": 7
        }
      ]
    },
    {
      "cell_type": "markdown",
      "source": [
        "O no tener parámetros."
      ],
      "metadata": {
        "id": "Ut55UYHp2XWn"
      }
    },
    {
      "cell_type": "code",
      "source": [
        "val getTheAnswer = () => 42\n",
        "println(getTheAnswer()) // 42"
      ],
      "metadata": {
        "id": "jVYfvIn452wr",
        "colab": {
          "base_uri": "https://localhost:8080/"
        },
        "outputId": "312dcd7a-a4d9-4e5a-b59f-6faa947dbe5a"
      },
      "execution_count": null,
      "outputs": [
        {
          "output_type": "stream",
          "name": "stdout",
          "text": [
            "42\n"
          ]
        },
        {
          "output_type": "execute_result",
          "data": {
            "text/plain": [
              "\u001b[36mgetTheAnswer\u001b[39m: () => \u001b[32mInt\u001b[39m = ammonite.$sess.cmd7$Helper$$Lambda$3139/0x0000000840e25040@634256b6"
            ]
          },
          "metadata": {},
          "execution_count": 8
        }
      ]
    },
    {
      "cell_type": "markdown",
      "source": [
        "## Métodos"
      ],
      "metadata": {
        "id": "9bESKHRbAzOJ"
      }
    },
    {
      "cell_type": "markdown",
      "source": [
        "Los métodos se ven y se comportan de manera muy similar a las funciones, pero existen algunas diferencias clave entre ellos."
      ],
      "metadata": {
        "id": "Xlk8PpFfB5m6"
      }
    },
    {
      "cell_type": "markdown",
      "source": [
        "Se definen con la palabra clave def. def va seguido de un nombre, lista(s) de parámetros, un tipo de retorno y un cuerpo:"
      ],
      "metadata": {
        "id": "Pa84B7ITB-BB"
      }
    },
    {
      "cell_type": "code",
      "source": [
        "def add(x: Int, y: Int): Int = x + y\n",
        "println(add(1, 2)) // 3"
      ],
      "metadata": {
        "id": "QLL4DjNnB7XZ",
        "colab": {
          "base_uri": "https://localhost:8080/"
        },
        "outputId": "53ebf9c4-26f5-48f9-83cc-5daac5e14e31"
      },
      "execution_count": null,
      "outputs": [
        {
          "output_type": "stream",
          "name": "stdout",
          "text": [
            "3\n"
          ]
        },
        {
          "output_type": "execute_result",
          "data": {
            "text/plain": [
              "defined \u001b[32mfunction\u001b[39m \u001b[36madd\u001b[39m"
            ]
          },
          "metadata": {},
          "execution_count": 9
        }
      ]
    },
    {
      "cell_type": "markdown",
      "source": [
        "Un método puede tomar varias listas de parámetros"
      ],
      "metadata": {
        "id": "cZKAaAqfCfJM"
      }
    },
    {
      "cell_type": "code",
      "source": [
        "def addThenMultiply(x: Int, y: Int)(multiplier: Int): Int = (x + y) * multiplier\n",
        "println(addThenMultiply(1, 2)(3)) // 9"
      ],
      "metadata": {
        "id": "q1T_tE4jCebq",
        "colab": {
          "base_uri": "https://localhost:8080/"
        },
        "outputId": "55414e28-f783-4b99-f0fd-b28a21639e1b"
      },
      "execution_count": null,
      "outputs": [
        {
          "output_type": "stream",
          "name": "stdout",
          "text": [
            "9\n"
          ]
        },
        {
          "output_type": "execute_result",
          "data": {
            "text/plain": [
              "defined \u001b[32mfunction\u001b[39m \u001b[36maddThenMultiply\u001b[39m"
            ]
          },
          "metadata": {},
          "execution_count": 10
        }
      ]
    },
    {
      "cell_type": "markdown",
      "source": [
        "También se puede definir un método sin parámetros"
      ],
      "metadata": {
        "id": "6EmRfGmGDN-6"
      }
    },
    {
      "cell_type": "code",
      "source": [
        "def name: String = System.getProperty(\"user.name\")\n",
        "println(\"Hello, \" + name + \"!\")"
      ],
      "metadata": {
        "colab": {
          "base_uri": "https://localhost:8080/"
        },
        "id": "8w9acysqDVd8",
        "outputId": "edfa48cd-3281-4807-c529-fec4d21d967b"
      },
      "execution_count": null,
      "outputs": [
        {
          "output_type": "stream",
          "name": "stdout",
          "text": [
            "Hello, root!\n"
          ]
        },
        {
          "output_type": "execute_result",
          "data": {
            "text/plain": [
              "defined \u001b[32mfunction\u001b[39m \u001b[36mname\u001b[39m"
            ]
          },
          "metadata": {},
          "execution_count": 11
        }
      ]
    },
    {
      "cell_type": "markdown",
      "source": [
        "Los métodos pueden usar multilíneas"
      ],
      "metadata": {
        "id": "hHGWzu1TDs0n"
      }
    },
    {
      "cell_type": "code",
      "source": [
        "def getSquareString(input: Double): String = {\n",
        "  val square = input * input\n",
        "  square.toString\n",
        "}\n",
        "println(getSquareString(2.5)) // 6.25"
      ],
      "metadata": {
        "colab": {
          "base_uri": "https://localhost:8080/"
        },
        "id": "L3BS0Ay1DsQV",
        "outputId": "99e38405-bb04-451a-e479-307c6c25f351"
      },
      "execution_count": null,
      "outputs": [
        {
          "output_type": "stream",
          "name": "stdout",
          "text": [
            "6.25\n"
          ]
        },
        {
          "output_type": "execute_result",
          "data": {
            "text/plain": [
              "defined \u001b[32mfunction\u001b[39m \u001b[36mgetSquareString\u001b[39m"
            ]
          },
          "metadata": {},
          "execution_count": 13
        }
      ]
    },
    {
      "cell_type": "markdown",
      "source": [
        "## Clases"
      ],
      "metadata": {
        "id": "HZ9LI8cKA09F"
      }
    },
    {
      "cell_type": "markdown",
      "source": [
        "Podemos definir una clase de las siguiente manera:"
      ],
      "metadata": {
        "id": "LDEHppyZEmYb"
      }
    },
    {
      "cell_type": "code",
      "source": [
        "class Greeter(prefix: String, suffix: String) {\n",
        "  def greet(name: String): Unit =\n",
        "    println(prefix + name + suffix)\n",
        "}"
      ],
      "metadata": {
        "colab": {
          "base_uri": "https://localhost:8080/"
        },
        "id": "tMLoGES8Eqxx",
        "outputId": "e73aa2b3-0e61-4670-f29f-6a1b34b536a6"
      },
      "execution_count": null,
      "outputs": [
        {
          "output_type": "execute_result",
          "data": {
            "text/plain": [
              "defined \u001b[32mclass\u001b[39m \u001b[36mGreeter\u001b[39m"
            ]
          },
          "metadata": {},
          "execution_count": 14
        }
      ]
    },
    {
      "cell_type": "markdown",
      "source": [
        "Podemos crear una instancia de una clase con la palabra clave `new`"
      ],
      "metadata": {
        "id": "uCODZh3XFDZK"
      }
    },
    {
      "cell_type": "code",
      "source": [
        "val greeter = new Greeter(\"Hello, \", \"!\")\n",
        "greeter.greet(\"Scala developer\") // Hello, Scala developer!"
      ],
      "metadata": {
        "colab": {
          "base_uri": "https://localhost:8080/"
        },
        "id": "uluScffOFEhK",
        "outputId": "9c89eb56-429e-4a1b-faa1-229fa509a329"
      },
      "execution_count": null,
      "outputs": [
        {
          "output_type": "stream",
          "name": "stdout",
          "text": [
            "Hello, Scala developer!\n"
          ]
        },
        {
          "output_type": "execute_result",
          "data": {
            "text/plain": [
              "\u001b[36mgreeter\u001b[39m: \u001b[32mGreeter\u001b[39m = ammonite.$sess.cmd13$Helper$Greeter@58c42fe0"
            ]
          },
          "metadata": {},
          "execution_count": 15
        }
      ]
    },
    {
      "cell_type": "markdown",
      "source": [
        "## Objetos"
      ],
      "metadata": {
        "id": "VPRKwTjHA6dJ"
      }
    },
    {
      "cell_type": "markdown",
      "source": [
        "Son instancias únicas de sus propias definiciones. Puede pensar en ellos como singletons de sus propias clases."
      ],
      "metadata": {
        "id": "5lbwE30lJ2ob"
      }
    },
    {
      "cell_type": "code",
      "source": [
        "object IdFactory {\n",
        "  private var counter = 0\n",
        "  def create(): Int = {\n",
        "    counter += 1\n",
        "    counter\n",
        "  }\n",
        "}"
      ],
      "metadata": {
        "id": "SRykrXPOJ-j6",
        "colab": {
          "base_uri": "https://localhost:8080/"
        },
        "outputId": "0df5d47d-b55e-47c1-a9e5-ceb399bb001e"
      },
      "execution_count": null,
      "outputs": [
        {
          "output_type": "execute_result",
          "data": {
            "text/plain": [
              "defined \u001b[32mobject\u001b[39m \u001b[36mIdFactory\u001b[39m"
            ]
          },
          "metadata": {},
          "execution_count": 16
        }
      ]
    },
    {
      "cell_type": "markdown",
      "source": [
        "Podemos acceder a un objeto haciendo referencia a su nombre"
      ],
      "metadata": {
        "id": "Nr7Raem3CzqD"
      }
    },
    {
      "cell_type": "code",
      "source": [
        "val newId: Int = IdFactory.create()\n",
        "println(newId) // 1\n",
        "val newerId: Int = IdFactory.create()\n",
        "println(newerId) // 2"
      ],
      "metadata": {
        "colab": {
          "base_uri": "https://localhost:8080/"
        },
        "id": "2i2_0tsmC0Xj",
        "outputId": "7f94e5f9-4137-446b-ed47-235cf582c9d9"
      },
      "execution_count": null,
      "outputs": [
        {
          "output_type": "stream",
          "name": "stdout",
          "text": [
            "1\n",
            "2\n"
          ]
        },
        {
          "output_type": "execute_result",
          "data": {
            "text/plain": [
              "\u001b[36mnewId\u001b[39m: \u001b[32mInt\u001b[39m = \u001b[32m1\u001b[39m\n",
              "\u001b[36mnewerId\u001b[39m: \u001b[32mInt\u001b[39m = \u001b[32m2\u001b[39m"
            ]
          },
          "metadata": {},
          "execution_count": 17
        }
      ]
    },
    {
      "cell_type": "markdown",
      "source": [
        "## Rasgos"
      ],
      "metadata": {
        "id": "K_WHfMSOA73b"
      }
    },
    {
      "cell_type": "markdown",
      "source": [
        "Son tipos de datos abstractos que contienen ciertos campos y métodos. En la herencia de Scala, una clase solo puede extender otra clase, pero puede extender múltiples rasgos."
      ],
      "metadata": {
        "id": "A7ZIGgqTKA8C"
      }
    },
    {
      "cell_type": "code",
      "source": [
        "trait Greeter {\n",
        "  def greet(name: String): Unit\n",
        "}"
      ],
      "metadata": {
        "colab": {
          "base_uri": "https://localhost:8080/"
        },
        "id": "qO8Tbp21KVID",
        "outputId": "790973ca-9d92-47e3-e538-286e36ccf6e5"
      },
      "execution_count": null,
      "outputs": [
        {
          "output_type": "execute_result",
          "data": {
            "text/plain": [
              "defined \u001b[32mtrait\u001b[39m \u001b[36mGreeter\u001b[39m"
            ]
          },
          "metadata": {},
          "execution_count": 18
        }
      ]
    },
    {
      "cell_type": "markdown",
      "source": [
        "Los rasgos también pueden tener implementaciones predeterminadas"
      ],
      "metadata": {
        "id": "-PAv3H9FLHUe"
      }
    },
    {
      "cell_type": "code",
      "source": [
        "trait Greeter {\n",
        "  def greet(name: String): Unit =\n",
        "    println(\"Hello, \" + name + \"!\")\n",
        "}"
      ],
      "metadata": {
        "colab": {
          "base_uri": "https://localhost:8080/"
        },
        "id": "nQNHmF0oLgQC",
        "outputId": "897fcd95-d9b4-4e22-e5c9-ec86adb112f2"
      },
      "execution_count": null,
      "outputs": [
        {
          "output_type": "execute_result",
          "data": {
            "text/plain": [
              "defined \u001b[32mtrait\u001b[39m \u001b[36mGreeter\u001b[39m"
            ]
          },
          "metadata": {},
          "execution_count": 19
        }
      ]
    },
    {
      "cell_type": "markdown",
      "source": [
        "Podemos extender rasgos con la palabra clave `extends` y sobreescribir una implementación con la palabra clave `override`:"
      ],
      "metadata": {
        "id": "En51rSolNJtN"
      }
    },
    {
      "cell_type": "code",
      "source": [
        "class DefaultGreeter extends Greeter\n",
        "\n",
        "class CustomizableGreeter(prefix: String, postfix: String) extends Greeter {\n",
        "  override def greet(name: String): Unit = {\n",
        "    println(prefix + name + postfix)\n",
        "  }\n",
        "}\n",
        "\n",
        "val greeter = new DefaultGreeter()\n",
        "greeter.greet(\"Scala developer\") // Hello, Scala developer!\n",
        "\n",
        "val customGreeter = new CustomizableGreeter(\"How are you, \", \"?\")\n",
        "customGreeter.greet(\"Scala developer\") // How are you, Scala developer?"
      ],
      "metadata": {
        "colab": {
          "base_uri": "https://localhost:8080/"
        },
        "id": "4XolZxhOM5vV",
        "outputId": "1a8fc418-7c2a-4527-e508-dd6da23ef3e8"
      },
      "execution_count": null,
      "outputs": [
        {
          "output_type": "stream",
          "name": "stdout",
          "text": [
            "Hello, Scala developer!\n",
            "How are you, Scala developer?\n"
          ]
        },
        {
          "output_type": "execute_result",
          "data": {
            "text/plain": [
              "defined \u001b[32mclass\u001b[39m \u001b[36mDefaultGreeter\u001b[39m\n",
              "defined \u001b[32mclass\u001b[39m \u001b[36mCustomizableGreeter\u001b[39m\n",
              "\u001b[36mgreeter\u001b[39m: \u001b[32mDefaultGreeter\u001b[39m = ammonite.$sess.cmd20$Helper$DefaultGreeter@3a3a56af\n",
              "\u001b[36mcustomGreeter\u001b[39m: \u001b[32mCustomizableGreeter\u001b[39m = ammonite.$sess.cmd20$Helper$CustomizableGreeter@70d4a6f2"
            ]
          },
          "metadata": {},
          "execution_count": 21
        }
      ]
    },
    {
      "cell_type": "markdown",
      "metadata": {
        "id": "tK92q8xZ3AEH"
      },
      "source": [
        "\n",
        "#Particularidades del Lenguaje"
      ]
    },
    {
      "cell_type": "markdown",
      "metadata": {
        "id": "9rbRb4Tl6Ngh"
      },
      "source": [
        "##Sintática Flexible"
      ]
    },
    {
      "cell_type": "markdown",
      "metadata": {
        "id": "Nc07RWE26e4v"
      },
      "source": [
        "Punto y comas no son necesarios. Las líneas se unen si hay paréntesis o corchetes sin cerrar o si hay un token en la siguiente linea que puede continuar con la sentencia."
      ]
    },
    {
      "cell_type": "code",
      "execution_count": null,
      "metadata": {
        "id": "aJbfn_GC6j9Z",
        "colab": {
          "base_uri": "https://localhost:8080/"
        },
        "outputId": "fc45cb8d-33b1-4912-9ed0-04603c72804d"
      },
      "outputs": [
        {
          "output_type": "stream",
          "name": "stdout",
          "text": [
            "false\n"
          ]
        },
        {
          "output_type": "execute_result",
          "data": {
            "text/plain": [
              "defined \u001b[32mfunction\u001b[39m \u001b[36misMinor\u001b[39m"
            ]
          },
          "metadata": {},
          "execution_count": 9
        }
      ],
      "source": [
        "def   isMinor(\n",
        "     p:\n",
        "      Int\n",
        "      )  = p < 18\n",
        "      \n",
        "println(isMinor(18))\n"
      ]
    },
    {
      "cell_type": "code",
      "execution_count": null,
      "metadata": {
        "id": "W2XWzjlpW03I",
        "colab": {
          "base_uri": "https://localhost:8080/"
        },
        "outputId": "5858b2d8-4e10-4186-aed0-5ade3057427d"
      },
      "outputs": [
        {
          "output_type": "stream",
          "name": "stdout",
          "text": [
            "7\n",
            "7\n"
          ]
        },
        {
          "output_type": "execute_result",
          "data": {
            "text/plain": [
              "\u001b[36mx\u001b[39m: \u001b[32mInt\u001b[39m = \u001b[32m7\u001b[39m\n",
              "\u001b[36my\u001b[39m: \u001b[32mString\u001b[39m = \u001b[32m\"7\"\u001b[39m\n",
              "defined \u001b[32mfunction\u001b[39m \u001b[36msucc\u001b[39m"
            ]
          },
          "metadata": {},
          "execution_count": 10
        }
      ],
      "source": [
        "  val x = 1 + 2 * 3         // el tipo de  x es Int\n",
        "  println(x)\n",
        "  val y = x.toString()      // el tipo de y es String\n",
        "  println(y)\n",
        "  def succ(x: Int) = x + 1  // el método succ retorna valores Int\n"
      ]
    },
    {
      "cell_type": "markdown",
      "metadata": {
        "id": "EemA2yTm6kNs"
      },
      "source": [
        "Los operadores en Scala pueden ser también métodos."
      ]
    },
    {
      "cell_type": "code",
      "execution_count": null,
      "metadata": {
        "id": "cjRfA2iK6fkP",
        "colab": {
          "base_uri": "https://localhost:8080/"
        },
        "outputId": "bd42bbda-a6b9-4924-da38-80e12a6a8106"
      },
      "outputs": [
        {
          "output_type": "stream",
          "name": "stdout",
          "text": [
            "220\n"
          ]
        }
      ],
      "source": [
        "println(5.+(6).*(20))\n"
      ]
    },
    {
      "cell_type": "markdown",
      "source": [
        "Los nombres de métodos que terminan en dos puntos esperan que el argumento esté en el lado izquierdo.\n"
      ],
      "metadata": {
        "id": "pqNO6EXua7Zg"
      }
    },
    {
      "cell_type": "markdown",
      "source": [
        "**Nota**: Para este caso se recomienda usar el siguiente enlace para visualizar su ejecución.\n",
        "\n",
        "https://www.jdoodle.com/compile-scala-online/"
      ],
      "metadata": {
        "id": "NubGsgOQbCBd"
      }
    },
    {
      "cell_type": "markdown",
      "source": [
        "\n",
        "```\n",
        "object Demo {\n",
        "   def main(args: Array[String]) {\n",
        "      val fruit = \"apples\" :: (\"oranges\" :: (\"pears\" :: Nil))\n",
        "      val nums = Nil\n",
        "\n",
        "      println( \"Head of fruit : \" + fruit.head )\n",
        "      println( \"Tail of fruit : \" + fruit.tail )\n",
        "      println( \"Check if fruit is empty : \" + fruit.isEmpty )\n",
        "      println( \"Check if nums is empty : \" + nums.isEmpty )\n",
        "   }\n",
        "}\n",
        "\n",
        "```\n",
        "\n",
        "\n"
      ],
      "metadata": {
        "id": "X9ioeVkfbXcD"
      }
    },
    {
      "cell_type": "markdown",
      "metadata": {
        "id": "S6nEKte2_RK0"
      },
      "source": [
        "##Todo es una Expresión\n",
        "No hace distinción entre declaraciones y expresiones.\n",
        "\n",
        "Todas las declaraciones son de hecho expresiones que se evalúan a algún valor.\n"
      ]
    },
    {
      "cell_type": "code",
      "execution_count": null,
      "metadata": {
        "id": "Lni5mJVb_TyA",
        "colab": {
          "base_uri": "https://localhost:8080/"
        },
        "outputId": "38cc9932-1df7-4e0f-b366-f1d1a19efbd2"
      },
      "outputs": [
        {
          "output_type": "execute_result",
          "data": {
            "text/plain": [
              "defined \u001b[32mfunction\u001b[39m \u001b[36mprintValue\u001b[39m\n",
              "defined \u001b[32mfunction\u001b[39m \u001b[36mprintValue2\u001b[39m"
            ]
          },
          "metadata": {},
          "execution_count": 12
        }
      ],
      "source": [
        "def printValue(x: String): Unit = {\n",
        "  println(\"I ate a %s\".format(x))\n",
        "}\n",
        "def printValue2(x: String) = println(\"I ate a %s\" format x)\n"
      ]
    },
    {
      "cell_type": "code",
      "execution_count": null,
      "metadata": {
        "id": "XNfeOPAP_hna",
        "colab": {
          "base_uri": "https://localhost:8080/"
        },
        "outputId": "a280aedf-ee2e-4a4c-887e-82458f31c9aa"
      },
      "outputs": [
        {
          "output_type": "stream",
          "name": "stdout",
          "text": [
            "I ate a Manzana\n",
            "I ate a Pera\n"
          ]
        }
      ],
      "source": [
        "printValue(\"Manzana\")\n",
        "printValue2(\"Pera\")"
      ]
    },
    {
      "cell_type": "markdown",
      "metadata": {
        "id": "kQe78pN0OSuq"
      },
      "source": [
        "## Match\n",
        "Datos que se descomponen por coincidencia de patrones.\n",
        "\n"
      ]
    },
    {
      "cell_type": "code",
      "execution_count": null,
      "metadata": {
        "id": "rC9qXUF5pm_I",
        "colab": {
          "base_uri": "https://localhost:8080/"
        },
        "outputId": "e852d7e7-5e18-4afc-eb69-2ea70ef55ac8"
      },
      "outputs": [
        {
          "output_type": "execute_result",
          "data": {
            "text/plain": [
              "defined \u001b[32mtrait\u001b[39m \u001b[36mExpr\u001b[39m\n",
              "defined \u001b[32mclass\u001b[39m \u001b[36mNumer\u001b[39m\n",
              "defined \u001b[32mclass\u001b[39m \u001b[36mPlus\u001b[39m\n",
              "defined \u001b[32mfunction\u001b[39m \u001b[36meval\u001b[39m\n",
              "defined \u001b[32mfunction\u001b[39m \u001b[36mmatchTest\u001b[39m"
            ]
          },
          "metadata": {},
          "execution_count": 14
        }
      ],
      "source": [
        "trait Expr\n",
        "case class Numer( n: Int) extends Expr\n",
        "case class Plus (l: Expr, r: Expr) extends Expr\n",
        "\n",
        "def eval( e: Expr): Int = e match{\n",
        "    case Numer(n) => n\n",
        "    case Plus(l, r ) => eval(l) + eval(r)\n",
        "}\n",
        "def matchTest(x: Int): String = x match {\n",
        "  case 1 => \"one\"\n",
        "  case 2 => \"two\"\n",
        "  case _ => \"other\"\n",
        "}"
      ]
    },
    {
      "cell_type": "code",
      "execution_count": null,
      "metadata": {
        "id": "rYIH90Hwx799",
        "colab": {
          "base_uri": "https://localhost:8080/"
        },
        "outputId": "4bd0abce-98e8-4c8f-f5f7-6afe1e57fedc"
      },
      "outputs": [
        {
          "output_type": "stream",
          "name": "stdout",
          "text": [
            "27\n"
          ]
        },
        {
          "output_type": "execute_result",
          "data": {
            "text/plain": [
              "\u001b[36mres14_1\u001b[39m: \u001b[32mString\u001b[39m = \u001b[32m\"other\"\u001b[39m\n",
              "\u001b[36mres14_2\u001b[39m: \u001b[32mString\u001b[39m = \u001b[32m\"one\"\u001b[39m"
            ]
          },
          "metadata": {},
          "execution_count": 15
        }
      ],
      "source": [
        "println(eval(Plus (Numer( 12: Int): Expr, Numer( 15: Int): Expr)))\n",
        "matchTest(3)\n",
        "matchTest(1)"
      ]
    },
    {
      "cell_type": "markdown",
      "metadata": {
        "id": "KAVvBfOZ2REX"
      },
      "source": [
        "##Agrupar\n",
        "En Scala todo puede ser agrupado y anidado\n",
        "Se debe tener una disciplina de alcance para los tipos static\n"
      ]
    },
    {
      "cell_type": "code",
      "execution_count": null,
      "metadata": {
        "id": "vQuwWu6nxt4V",
        "colab": {
          "base_uri": "https://localhost:8080/"
        },
        "outputId": "af0e26ab-2566-4c9b-b8ef-861008eb487f"
      },
      "outputs": [
        {
          "output_type": "execute_result",
          "data": {
            "text/plain": [
              "defined \u001b[32mfunction\u001b[39m \u001b[36mmaxAndMin\u001b[39m"
            ]
          },
          "metadata": {},
          "execution_count": 16
        }
      ],
      "source": [
        "def maxAndMin(a: Int, b: Int) = {\n",
        "       def maxValue() = {\n",
        "          if(a > b)\n",
        "          {\n",
        "              println(\"Max is: \" + a)\n",
        "          }\n",
        "          else\n",
        "          {\n",
        "              println(\"Max is: \" + b)\n",
        "          }\n",
        "       }\n",
        "       def minValue() = {\n",
        "          if (a < b)\n",
        "          {\n",
        "              println(\"Min is: \" + a)\n",
        "          }\n",
        "          else\n",
        "          {\n",
        "              println(\"Min is: \" + b)\n",
        "          }\n",
        "       }\n",
        "       maxValue();\n",
        "       minValue();\n",
        "    }"
      ]
    },
    {
      "cell_type": "code",
      "execution_count": null,
      "metadata": {
        "id": "O4IUGb1bsizG",
        "colab": {
          "base_uri": "https://localhost:8080/"
        },
        "outputId": "4f85d1c9-332e-4b08-e17e-0a9b40ddff5f"
      },
      "outputs": [
        {
          "output_type": "stream",
          "name": "stdout",
          "text": [
            "Min and Max from 5, 7\n",
            "Max is: 7\n",
            "Min is: 5\n"
          ]
        }
      ],
      "source": [
        "println(\"Min and Max from 5, 7\")\n",
        "    maxAndMin(5, 7);\n",
        "    \n",
        "\n"
      ]
    },
    {
      "cell_type": "markdown",
      "metadata": {
        "id": "Tas_rjbk28CF"
      },
      "source": [
        "##Recursividad\n",
        "Es más rápido que un bucle. y el manejo de la cola de recursividad es eficiente.\n",
        "\n"
      ]
    },
    {
      "cell_type": "code",
      "execution_count": null,
      "metadata": {
        "id": "aQQW409b2klm",
        "colab": {
          "base_uri": "https://localhost:8080/"
        },
        "outputId": "f992fb59-bc2c-43b5-bfb4-38d4aac7ce12"
      },
      "outputs": [
        {
          "output_type": "execute_result",
          "data": {
            "text/plain": [
              "defined \u001b[32mfunction\u001b[39m \u001b[36mfactorial\u001b[39m"
            ]
          },
          "metadata": {},
          "execution_count": 18
        }
      ],
      "source": [
        "   def factorial(n: BigInt): BigInt = {  \n",
        "      if (n <= 1)\n",
        "         1  \n",
        "      else    \n",
        "      n * factorial(n - 1)\n",
        "   }\n"
      ]
    },
    {
      "cell_type": "code",
      "execution_count": null,
      "metadata": {
        "id": "5KPtBTy_2r8x",
        "colab": {
          "base_uri": "https://localhost:8080/"
        },
        "outputId": "6d915070-a8d9-4c72-f0ef-24b169451587"
      },
      "outputs": [
        {
          "output_type": "stream",
          "name": "stdout",
          "text": [
            "Factorial de 1 es : 1\n",
            "Factorial de 2 es : 2\n",
            "Factorial de 3 es : 6\n",
            "Factorial de 4 es : 24\n",
            "Factorial de 5 es : 120\n",
            "Factorial de 6 es : 720\n",
            "Factorial de 7 es : 5040\n",
            "Factorial de 8 es : 40320\n",
            "Factorial de 9 es : 362880\n",
            "Factorial de 10 es : 3628800\n"
          ]
        }
      ],
      "source": [
        "      for (i <- 1 to 10)\n",
        "         println(\"Factorial de \"+i + \" es : \" + factorial(i) )\n"
      ]
    },
    {
      "cell_type": "code",
      "execution_count": null,
      "metadata": {
        "id": "YAf4s_W9GqZ1",
        "colab": {
          "base_uri": "https://localhost:8080/"
        },
        "outputId": "79df95bf-3abc-4881-8684-721170471360"
      },
      "outputs": [
        {
          "output_type": "stream",
          "name": "stdout",
          "text": [
            "6\n"
          ]
        },
        {
          "output_type": "execute_result",
          "data": {
            "text/plain": [
              "defined \u001b[32mfunction\u001b[39m \u001b[36mgcd\u001b[39m"
            ]
          },
          "metadata": {},
          "execution_count": 20
        }
      ],
      "source": [
        "def gcd(x:Int, y:Int): Int=\n",
        "    {\n",
        "        if (y == 0) x\n",
        "        else gcd(y, x % y)\n",
        "    }\n",
        " println(gcd(12, 18))"
      ]
    },
    {
      "cell_type": "code",
      "source": [
        "def sum(n: Int): Long =\n",
        "    if (n <= 0)\n",
        "        0\n",
        "    else\n",
        "        n + sum(n - 1)"
      ],
      "metadata": {
        "colab": {
          "base_uri": "https://localhost:8080/"
        },
        "id": "xnqsLk5H9roN",
        "outputId": "7fb0840f-42e4-492a-9303-7d2916f96f5b"
      },
      "execution_count": null,
      "outputs": [
        {
          "output_type": "execute_result",
          "data": {
            "text/plain": [
              "defined \u001b[32mfunction\u001b[39m \u001b[36msum\u001b[39m"
            ]
          },
          "metadata": {},
          "execution_count": 50
        }
      ]
    },
    {
      "cell_type": "code",
      "source": [
        "println(sum(1000000))"
      ],
      "metadata": {
        "colab": {
          "base_uri": "https://localhost:8080/",
          "height": 1000
        },
        "id": "f-qTA3fQ9vz_",
        "outputId": "040bc3cc-bb5f-49b3-f1d9-a62fe9298752"
      },
      "execution_count": null,
      "outputs": [
        {
          "output_type": "error",
          "ename": "",
          "evalue": "ignored",
          "traceback": [
            "\u001b[31mjava.lang.StackOverflowError\u001b[39m\n  ammonite.$sess.cmd49$Helper.sum(\u001b[32mcmd49.sc\u001b[39m:\u001b[32m5\u001b[39m)\n  ammonite.$sess.cmd49$Helper.sum(\u001b[32mcmd49.sc\u001b[39m:\u001b[32m5\u001b[39m)\n  ammonite.$sess.cmd49$Helper.sum(\u001b[32mcmd49.sc\u001b[39m:\u001b[32m5\u001b[39m)\n  ammonite.$sess.cmd49$Helper.sum(\u001b[32mcmd49.sc\u001b[39m:\u001b[32m5\u001b[39m)\n  ammonite.$sess.cmd49$Helper.sum(\u001b[32mcmd49.sc\u001b[39m:\u001b[32m5\u001b[39m)\n  ammonite.$sess.cmd49$Helper.sum(\u001b[32mcmd49.sc\u001b[39m:\u001b[32m5\u001b[39m)\n  ammonite.$sess.cmd49$Helper.sum(\u001b[32mcmd49.sc\u001b[39m:\u001b[32m5\u001b[39m)\n  ammonite.$sess.cmd49$Helper.sum(\u001b[32mcmd49.sc\u001b[39m:\u001b[32m5\u001b[39m)\n  ammonite.$sess.cmd49$Helper.sum(\u001b[32mcmd49.sc\u001b[39m:\u001b[32m5\u001b[39m)\n  ammonite.$sess.cmd49$Helper.sum(\u001b[32mcmd49.sc\u001b[39m:\u001b[32m5\u001b[39m)\n  ammonite.$sess.cmd49$Helper.sum(\u001b[32mcmd49.sc\u001b[39m:\u001b[32m5\u001b[39m)\n  ammonite.$sess.cmd49$Helper.sum(\u001b[32mcmd49.sc\u001b[39m:\u001b[32m5\u001b[39m)\n  ammonite.$sess.cmd49$Helper.sum(\u001b[32mcmd49.sc\u001b[39m:\u001b[32m5\u001b[39m)\n  ammonite.$sess.cmd49$Helper.sum(\u001b[32mcmd49.sc\u001b[39m:\u001b[32m5\u001b[39m)\n  ammonite.$sess.cmd49$Helper.sum(\u001b[32mcmd49.sc\u001b[39m:\u001b[32m5\u001b[39m)\n  ammonite.$sess.cmd49$Helper.sum(\u001b[32mcmd49.sc\u001b[39m:\u001b[32m5\u001b[39m)\n  ammonite.$sess.cmd49$Helper.sum(\u001b[32mcmd49.sc\u001b[39m:\u001b[32m5\u001b[39m)\n  ammonite.$sess.cmd49$Helper.sum(\u001b[32mcmd49.sc\u001b[39m:\u001b[32m5\u001b[39m)\n  ammonite.$sess.cmd49$Helper.sum(\u001b[32mcmd49.sc\u001b[39m:\u001b[32m5\u001b[39m)\n  ammonite.$sess.cmd49$Helper.sum(\u001b[32mcmd49.sc\u001b[39m:\u001b[32m5\u001b[39m)\n  ammonite.$sess.cmd49$Helper.sum(\u001b[32mcmd49.sc\u001b[39m:\u001b[32m5\u001b[39m)\n  ammonite.$sess.cmd49$Helper.sum(\u001b[32mcmd49.sc\u001b[39m:\u001b[32m5\u001b[39m)\n  ammonite.$sess.cmd49$Helper.sum(\u001b[32mcmd49.sc\u001b[39m:\u001b[32m5\u001b[39m)\n  ammonite.$sess.cmd49$Helper.sum(\u001b[32mcmd49.sc\u001b[39m:\u001b[32m5\u001b[39m)\n  ammonite.$sess.cmd49$Helper.sum(\u001b[32mcmd49.sc\u001b[39m:\u001b[32m5\u001b[39m)\n  ammonite.$sess.cmd49$Helper.sum(\u001b[32mcmd49.sc\u001b[39m:\u001b[32m5\u001b[39m)\n  ammonite.$sess.cmd49$Helper.sum(\u001b[32mcmd49.sc\u001b[39m:\u001b[32m5\u001b[39m)\n  ammonite.$sess.cmd49$Helper.sum(\u001b[32mcmd49.sc\u001b[39m:\u001b[32m5\u001b[39m)\n  ammonite.$sess.cmd49$Helper.sum(\u001b[32mcmd49.sc\u001b[39m:\u001b[32m5\u001b[39m)\n  ammonite.$sess.cmd49$Helper.sum(\u001b[32mcmd49.sc\u001b[39m:\u001b[32m5\u001b[39m)\n  ammonite.$sess.cmd49$Helper.sum(\u001b[32mcmd49.sc\u001b[39m:\u001b[32m5\u001b[39m)\n  ammonite.$sess.cmd49$Helper.sum(\u001b[32mcmd49.sc\u001b[39m:\u001b[32m5\u001b[39m)\n  ammonite.$sess.cmd49$Helper.sum(\u001b[32mcmd49.sc\u001b[39m:\u001b[32m5\u001b[39m)\n  ammonite.$sess.cmd49$Helper.sum(\u001b[32mcmd49.sc\u001b[39m:\u001b[32m5\u001b[39m)\n  ammonite.$sess.cmd49$Helper.sum(\u001b[32mcmd49.sc\u001b[39m:\u001b[32m5\u001b[39m)\n  ammonite.$sess.cmd49$Helper.sum(\u001b[32mcmd49.sc\u001b[39m:\u001b[32m5\u001b[39m)\n  ammonite.$sess.cmd49$Helper.sum(\u001b[32mcmd49.sc\u001b[39m:\u001b[32m5\u001b[39m)\n  ammonite.$sess.cmd49$Helper.sum(\u001b[32mcmd49.sc\u001b[39m:\u001b[32m5\u001b[39m)\n  ammonite.$sess.cmd49$Helper.sum(\u001b[32mcmd49.sc\u001b[39m:\u001b[32m5\u001b[39m)\n  ammonite.$sess.cmd49$Helper.sum(\u001b[32mcmd49.sc\u001b[39m:\u001b[32m5\u001b[39m)\n  ammonite.$sess.cmd49$Helper.sum(\u001b[32mcmd49.sc\u001b[39m:\u001b[32m5\u001b[39m)\n  ammonite.$sess.cmd49$Helper.sum(\u001b[32mcmd49.sc\u001b[39m:\u001b[32m5\u001b[39m)\n  ammonite.$sess.cmd49$Helper.sum(\u001b[32mcmd49.sc\u001b[39m:\u001b[32m5\u001b[39m)\n  ammonite.$sess.cmd49$Helper.sum(\u001b[32mcmd49.sc\u001b[39m:\u001b[32m5\u001b[39m)\n  ammonite.$sess.cmd49$Helper.sum(\u001b[32mcmd49.sc\u001b[39m:\u001b[32m5\u001b[39m)\n  ammonite.$sess.cmd49$Helper.sum(\u001b[32mcmd49.sc\u001b[39m:\u001b[32m5\u001b[39m)\n  ammonite.$sess.cmd49$Helper.sum(\u001b[32mcmd49.sc\u001b[39m:\u001b[32m5\u001b[39m)\n  ammonite.$sess.cmd49$Helper.sum(\u001b[32mcmd49.sc\u001b[39m:\u001b[32m5\u001b[39m)\n  ammonite.$sess.cmd49$Helper.sum(\u001b[32mcmd49.sc\u001b[39m:\u001b[32m5\u001b[39m)\n  ammonite.$sess.cmd49$Helper.sum(\u001b[32mcmd49.sc\u001b[39m:\u001b[32m5\u001b[39m)\n  ammonite.$sess.cmd49$Helper.sum(\u001b[32mcmd49.sc\u001b[39m:\u001b[32m5\u001b[39m)\n  ammonite.$sess.cmd49$Helper.sum(\u001b[32mcmd49.sc\u001b[39m:\u001b[32m5\u001b[39m)\n  ammonite.$sess.cmd49$Helper.sum(\u001b[32mcmd49.sc\u001b[39m:\u001b[32m5\u001b[39m)\n  ammonite.$sess.cmd49$Helper.sum(\u001b[32mcmd49.sc\u001b[39m:\u001b[32m5\u001b[39m)\n  ammonite.$sess.cmd49$Helper.sum(\u001b[32mcmd49.sc\u001b[39m:\u001b[32m5\u001b[39m)\n  ammonite.$sess.cmd49$Helper.sum(\u001b[32mcmd49.sc\u001b[39m:\u001b[32m5\u001b[39m)\n  ammonite.$sess.cmd49$Helper.sum(\u001b[32mcmd49.sc\u001b[39m:\u001b[32m5\u001b[39m)\n  ammonite.$sess.cmd49$Helper.sum(\u001b[32mcmd49.sc\u001b[39m:\u001b[32m5\u001b[39m)\n  ammonite.$sess.cmd49$Helper.sum(\u001b[32mcmd49.sc\u001b[39m:\u001b[32m5\u001b[39m)\n  ammonite.$sess.cmd49$Helper.sum(\u001b[32mcmd49.sc\u001b[39m:\u001b[32m5\u001b[39m)\n  ammonite.$sess.cmd49$Helper.sum(\u001b[32mcmd49.sc\u001b[39m:\u001b[32m5\u001b[39m)\n  ammonite.$sess.cmd49$Helper.sum(\u001b[32mcmd49.sc\u001b[39m:\u001b[32m5\u001b[39m)\n  ammonite.$sess.cmd49$Helper.sum(\u001b[32mcmd49.sc\u001b[39m:\u001b[32m5\u001b[39m)\n  ammonite.$sess.cmd49$Helper.sum(\u001b[32mcmd49.sc\u001b[39m:\u001b[32m5\u001b[39m)\n  ammonite.$sess.cmd49$Helper.sum(\u001b[32mcmd49.sc\u001b[39m:\u001b[32m5\u001b[39m)\n  ammonite.$sess.cmd49$Helper.sum(\u001b[32mcmd49.sc\u001b[39m:\u001b[32m5\u001b[39m)\n  ammonite.$sess.cmd49$Helper.sum(\u001b[32mcmd49.sc\u001b[39m:\u001b[32m5\u001b[39m)\n  ammonite.$sess.cmd49$Helper.sum(\u001b[32mcmd49.sc\u001b[39m:\u001b[32m5\u001b[39m)\n  ammonite.$sess.cmd49$Helper.sum(\u001b[32mcmd49.sc\u001b[39m:\u001b[32m5\u001b[39m)\n  ammonite.$sess.cmd49$Helper.sum(\u001b[32mcmd49.sc\u001b[39m:\u001b[32m5\u001b[39m)\n  ammonite.$sess.cmd49$Helper.sum(\u001b[32mcmd49.sc\u001b[39m:\u001b[32m5\u001b[39m)\n  ammonite.$sess.cmd49$Helper.sum(\u001b[32mcmd49.sc\u001b[39m:\u001b[32m5\u001b[39m)\n  ammonite.$sess.cmd49$Helper.sum(\u001b[32mcmd49.sc\u001b[39m:\u001b[32m5\u001b[39m)\n  ammonite.$sess.cmd49$Helper.sum(\u001b[32mcmd49.sc\u001b[39m:\u001b[32m5\u001b[39m)\n  ammonite.$sess.cmd49$Helper.sum(\u001b[32mcmd49.sc\u001b[39m:\u001b[32m5\u001b[39m)\n  ammonite.$sess.cmd49$Helper.sum(\u001b[32mcmd49.sc\u001b[39m:\u001b[32m5\u001b[39m)\n  ammonite.$sess.cmd49$Helper.sum(\u001b[32mcmd49.sc\u001b[39m:\u001b[32m5\u001b[39m)\n  ammonite.$sess.cmd49$Helper.sum(\u001b[32mcmd49.sc\u001b[39m:\u001b[32m5\u001b[39m)\n  ammonite.$sess.cmd49$Helper.sum(\u001b[32mcmd49.sc\u001b[39m:\u001b[32m5\u001b[39m)\n  ammonite.$sess.cmd49$Helper.sum(\u001b[32mcmd49.sc\u001b[39m:\u001b[32m5\u001b[39m)\n  ammonite.$sess.cmd49$Helper.sum(\u001b[32mcmd49.sc\u001b[39m:\u001b[32m5\u001b[39m)\n  ammonite.$sess.cmd49$Helper.sum(\u001b[32mcmd49.sc\u001b[39m:\u001b[32m5\u001b[39m)\n  ammonite.$sess.cmd49$Helper.sum(\u001b[32mcmd49.sc\u001b[39m:\u001b[32m5\u001b[39m)\n  ammonite.$sess.cmd49$Helper.sum(\u001b[32mcmd49.sc\u001b[39m:\u001b[32m5\u001b[39m)\n  ammonite.$sess.cmd49$Helper.sum(\u001b[32mcmd49.sc\u001b[39m:\u001b[32m5\u001b[39m)\n  ammonite.$sess.cmd49$Helper.sum(\u001b[32mcmd49.sc\u001b[39m:\u001b[32m5\u001b[39m)\n  ammonite.$sess.cmd49$Helper.sum(\u001b[32mcmd49.sc\u001b[39m:\u001b[32m5\u001b[39m)\n  ammonite.$sess.cmd49$Helper.sum(\u001b[32mcmd49.sc\u001b[39m:\u001b[32m5\u001b[39m)\n  ammonite.$sess.cmd49$Helper.sum(\u001b[32mcmd49.sc\u001b[39m:\u001b[32m5\u001b[39m)\n  ammonite.$sess.cmd49$Helper.sum(\u001b[32mcmd49.sc\u001b[39m:\u001b[32m5\u001b[39m)\n  ammonite.$sess.cmd49$Helper.sum(\u001b[32mcmd49.sc\u001b[39m:\u001b[32m5\u001b[39m)\n  ammonite.$sess.cmd49$Helper.sum(\u001b[32mcmd49.sc\u001b[39m:\u001b[32m5\u001b[39m)\n  ammonite.$sess.cmd49$Helper.sum(\u001b[32mcmd49.sc\u001b[39m:\u001b[32m5\u001b[39m)\n  ammonite.$sess.cmd49$Helper.sum(\u001b[32mcmd49.sc\u001b[39m:\u001b[32m5\u001b[39m)\n  ammonite.$sess.cmd49$Helper.sum(\u001b[32mcmd49.sc\u001b[39m:\u001b[32m5\u001b[39m)\n  ammonite.$sess.cmd49$Helper.sum(\u001b[32mcmd49.sc\u001b[39m:\u001b[32m5\u001b[39m)\n  ammonite.$sess.cmd49$Helper.sum(\u001b[32mcmd49.sc\u001b[39m:\u001b[32m5\u001b[39m)\n  ammonite.$sess.cmd49$Helper.sum(\u001b[32mcmd49.sc\u001b[39m:\u001b[32m5\u001b[39m)\n  ammonite.$sess.cmd49$Helper.sum(\u001b[32mcmd49.sc\u001b[39m:\u001b[32m5\u001b[39m)\n  ammonite.$sess.cmd49$Helper.sum(\u001b[32mcmd49.sc\u001b[39m:\u001b[32m5\u001b[39m)\n  ammonite.$sess.cmd49$Helper.sum(\u001b[32mcmd49.sc\u001b[39m:\u001b[32m5\u001b[39m)\n  ammonite.$sess.cmd49$Helper.sum(\u001b[32mcmd49.sc\u001b[39m:\u001b[32m5\u001b[39m)\n  ammonite.$sess.cmd49$Helper.sum(\u001b[32mcmd49.sc\u001b[39m:\u001b[32m5\u001b[39m)\n  ammonite.$sess.cmd49$Helper.sum(\u001b[32mcmd49.sc\u001b[39m:\u001b[32m5\u001b[39m)\n  ammonite.$sess.cmd49$Helper.sum(\u001b[32mcmd49.sc\u001b[39m:\u001b[32m5\u001b[39m)\n  ammonite.$sess.cmd49$Helper.sum(\u001b[32mcmd49.sc\u001b[39m:\u001b[32m5\u001b[39m)\n  ammonite.$sess.cmd49$Helper.sum(\u001b[32mcmd49.sc\u001b[39m:\u001b[32m5\u001b[39m)\n  ammonite.$sess.cmd49$Helper.sum(\u001b[32mcmd49.sc\u001b[39m:\u001b[32m5\u001b[39m)\n  ammonite.$sess.cmd49$Helper.sum(\u001b[32mcmd49.sc\u001b[39m:\u001b[32m5\u001b[39m)\n  ammonite.$sess.cmd49$Helper.sum(\u001b[32mcmd49.sc\u001b[39m:\u001b[32m5\u001b[39m)\n  ammonite.$sess.cmd49$Helper.sum(\u001b[32mcmd49.sc\u001b[39m:\u001b[32m5\u001b[39m)\n  ammonite.$sess.cmd49$Helper.sum(\u001b[32mcmd49.sc\u001b[39m:\u001b[32m5\u001b[39m)\n  ammonite.$sess.cmd49$Helper.sum(\u001b[32mcmd49.sc\u001b[39m:\u001b[32m5\u001b[39m)\n  ammonite.$sess.cmd49$Helper.sum(\u001b[32mcmd49.sc\u001b[39m:\u001b[32m5\u001b[39m)\n  ammonite.$sess.cmd49$Helper.sum(\u001b[32mcmd49.sc\u001b[39m:\u001b[32m5\u001b[39m)\n  ammonite.$sess.cmd49$Helper.sum(\u001b[32mcmd49.sc\u001b[39m:\u001b[32m5\u001b[39m)\n  ammonite.$sess.cmd49$Helper.sum(\u001b[32mcmd49.sc\u001b[39m:\u001b[32m5\u001b[39m)\n  ammonite.$sess.cmd49$Helper.sum(\u001b[32mcmd49.sc\u001b[39m:\u001b[32m5\u001b[39m)\n  ammonite.$sess.cmd49$Helper.sum(\u001b[32mcmd49.sc\u001b[39m:\u001b[32m5\u001b[39m)\n  ammonite.$sess.cmd49$Helper.sum(\u001b[32mcmd49.sc\u001b[39m:\u001b[32m5\u001b[39m)\n  ammonite.$sess.cmd49$Helper.sum(\u001b[32mcmd49.sc\u001b[39m:\u001b[32m5\u001b[39m)\n  ammonite.$sess.cmd49$Helper.sum(\u001b[32mcmd49.sc\u001b[39m:\u001b[32m5\u001b[39m)\n  ammonite.$sess.cmd49$Helper.sum(\u001b[32mcmd49.sc\u001b[39m:\u001b[32m5\u001b[39m)\n  ammonite.$sess.cmd49$Helper.sum(\u001b[32mcmd49.sc\u001b[39m:\u001b[32m5\u001b[39m)\n  ammonite.$sess.cmd49$Helper.sum(\u001b[32mcmd49.sc\u001b[39m:\u001b[32m5\u001b[39m)\n  ammonite.$sess.cmd49$Helper.sum(\u001b[32mcmd49.sc\u001b[39m:\u001b[32m5\u001b[39m)\n  ammonite.$sess.cmd49$Helper.sum(\u001b[32mcmd49.sc\u001b[39m:\u001b[32m5\u001b[39m)\n  ammonite.$sess.cmd49$Helper.sum(\u001b[32mcmd49.sc\u001b[39m:\u001b[32m5\u001b[39m)\n  ammonite.$sess.cmd49$Helper.sum(\u001b[32mcmd49.sc\u001b[39m:\u001b[32m5\u001b[39m)\n  ammonite.$sess.cmd49$Helper.sum(\u001b[32mcmd49.sc\u001b[39m:\u001b[32m5\u001b[39m)\n  ammonite.$sess.cmd49$Helper.sum(\u001b[32mcmd49.sc\u001b[39m:\u001b[32m5\u001b[39m)\n  ammonite.$sess.cmd49$Helper.sum(\u001b[32mcmd49.sc\u001b[39m:\u001b[32m5\u001b[39m)\n  ammonite.$sess.cmd49$Helper.sum(\u001b[32mcmd49.sc\u001b[39m:\u001b[32m5\u001b[39m)\n  ammonite.$sess.cmd49$Helper.sum(\u001b[32mcmd49.sc\u001b[39m:\u001b[32m5\u001b[39m)\n  ammonite.$sess.cmd49$Helper.sum(\u001b[32mcmd49.sc\u001b[39m:\u001b[32m5\u001b[39m)\n  ammonite.$sess.cmd49$Helper.sum(\u001b[32mcmd49.sc\u001b[39m:\u001b[32m5\u001b[39m)\n  ammonite.$sess.cmd49$Helper.sum(\u001b[32mcmd49.sc\u001b[39m:\u001b[32m5\u001b[39m)\n  ammonite.$sess.cmd49$Helper.sum(\u001b[32mcmd49.sc\u001b[39m:\u001b[32m5\u001b[39m)\n  ammonite.$sess.cmd49$Helper.sum(\u001b[32mcmd49.sc\u001b[39m:\u001b[32m5\u001b[39m)\n  ammonite.$sess.cmd49$Helper.sum(\u001b[32mcmd49.sc\u001b[39m:\u001b[32m5\u001b[39m)\n  ammonite.$sess.cmd49$Helper.sum(\u001b[32mcmd49.sc\u001b[39m:\u001b[32m5\u001b[39m)\n  ammonite.$sess.cmd49$Helper.sum(\u001b[32mcmd49.sc\u001b[39m:\u001b[32m5\u001b[39m)\n  ammonite.$sess.cmd49$Helper.sum(\u001b[32mcmd49.sc\u001b[39m:\u001b[32m5\u001b[39m)\n  ammonite.$sess.cmd49$Helper.sum(\u001b[32mcmd49.sc\u001b[39m:\u001b[32m5\u001b[39m)\n  ammonite.$sess.cmd49$Helper.sum(\u001b[32mcmd49.sc\u001b[39m:\u001b[32m5\u001b[39m)\n  ammonite.$sess.cmd49$Helper.sum(\u001b[32mcmd49.sc\u001b[39m:\u001b[32m5\u001b[39m)\n  ammonite.$sess.cmd49$Helper.sum(\u001b[32mcmd49.sc\u001b[39m:\u001b[32m5\u001b[39m)\n  ammonite.$sess.cmd49$Helper.sum(\u001b[32mcmd49.sc\u001b[39m:\u001b[32m5\u001b[39m)\n  ammonite.$sess.cmd49$Helper.sum(\u001b[32mcmd49.sc\u001b[39m:\u001b[32m5\u001b[39m)\n  ammonite.$sess.cmd49$Helper.sum(\u001b[32mcmd49.sc\u001b[39m:\u001b[32m5\u001b[39m)\n  ammonite.$sess.cmd49$Helper.sum(\u001b[32mcmd49.sc\u001b[39m:\u001b[32m5\u001b[39m)\n  ammonite.$sess.cmd49$Helper.sum(\u001b[32mcmd49.sc\u001b[39m:\u001b[32m5\u001b[39m)\n  ammonite.$sess.cmd49$Helper.sum(\u001b[32mcmd49.sc\u001b[39m:\u001b[32m5\u001b[39m)\n  ammonite.$sess.cmd49$Helper.sum(\u001b[32mcmd49.sc\u001b[39m:\u001b[32m5\u001b[39m)\n  ammonite.$sess.cmd49$Helper.sum(\u001b[32mcmd49.sc\u001b[39m:\u001b[32m5\u001b[39m)\n  ammonite.$sess.cmd49$Helper.sum(\u001b[32mcmd49.sc\u001b[39m:\u001b[32m5\u001b[39m)\n  ammonite.$sess.cmd49$Helper.sum(\u001b[32mcmd49.sc\u001b[39m:\u001b[32m5\u001b[39m)\n  ammonite.$sess.cmd49$Helper.sum(\u001b[32mcmd49.sc\u001b[39m:\u001b[32m5\u001b[39m)\n  ammonite.$sess.cmd49$Helper.sum(\u001b[32mcmd49.sc\u001b[39m:\u001b[32m5\u001b[39m)\n  ammonite.$sess.cmd49$Helper.sum(\u001b[32mcmd49.sc\u001b[39m:\u001b[32m5\u001b[39m)\n  ammonite.$sess.cmd49$Helper.sum(\u001b[32mcmd49.sc\u001b[39m:\u001b[32m5\u001b[39m)\n  ammonite.$sess.cmd49$Helper.sum(\u001b[32mcmd49.sc\u001b[39m:\u001b[32m5\u001b[39m)\n  ammonite.$sess.cmd49$Helper.sum(\u001b[32mcmd49.sc\u001b[39m:\u001b[32m5\u001b[39m)\n  ammonite.$sess.cmd49$Helper.sum(\u001b[32mcmd49.sc\u001b[39m:\u001b[32m5\u001b[39m)\n  ammonite.$sess.cmd49$Helper.sum(\u001b[32mcmd49.sc\u001b[39m:\u001b[32m5\u001b[39m)\n  ammonite.$sess.cmd49$Helper.sum(\u001b[32mcmd49.sc\u001b[39m:\u001b[32m5\u001b[39m)\n  ammonite.$sess.cmd49$Helper.sum(\u001b[32mcmd49.sc\u001b[39m:\u001b[32m5\u001b[39m)\n  ammonite.$sess.cmd49$Helper.sum(\u001b[32mcmd49.sc\u001b[39m:\u001b[32m5\u001b[39m)\n  ammonite.$sess.cmd49$Helper.sum(\u001b[32mcmd49.sc\u001b[39m:\u001b[32m5\u001b[39m)\n  ammonite.$sess.cmd49$Helper.sum(\u001b[32mcmd49.sc\u001b[39m:\u001b[32m5\u001b[39m)\n  ammonite.$sess.cmd49$Helper.sum(\u001b[32mcmd49.sc\u001b[39m:\u001b[32m5\u001b[39m)\n  ammonite.$sess.cmd49$Helper.sum(\u001b[32mcmd49.sc\u001b[39m:\u001b[32m5\u001b[39m)\n  ammonite.$sess.cmd49$Helper.sum(\u001b[32mcmd49.sc\u001b[39m:\u001b[32m5\u001b[39m)\n  ammonite.$sess.cmd49$Helper.sum(\u001b[32mcmd49.sc\u001b[39m:\u001b[32m5\u001b[39m)\n  ammonite.$sess.cmd49$Helper.sum(\u001b[32mcmd49.sc\u001b[39m:\u001b[32m5\u001b[39m)\n  ammonite.$sess.cmd49$Helper.sum(\u001b[32mcmd49.sc\u001b[39m:\u001b[32m5\u001b[39m)\n  ammonite.$sess.cmd49$Helper.sum(\u001b[32mcmd49.sc\u001b[39m:\u001b[32m5\u001b[39m)\n  ammonite.$sess.cmd49$Helper.sum(\u001b[32mcmd49.sc\u001b[39m:\u001b[32m5\u001b[39m)\n  ammonite.$sess.cmd49$Helper.sum(\u001b[32mcmd49.sc\u001b[39m:\u001b[32m5\u001b[39m)\n  ammonite.$sess.cmd49$Helper.sum(\u001b[32mcmd49.sc\u001b[39m:\u001b[32m5\u001b[39m)\n  ammonite.$sess.cmd49$Helper.sum(\u001b[32mcmd49.sc\u001b[39m:\u001b[32m5\u001b[39m)\n  ammonite.$sess.cmd49$Helper.sum(\u001b[32mcmd49.sc\u001b[39m:\u001b[32m5\u001b[39m)\n  ammonite.$sess.cmd49$Helper.sum(\u001b[32mcmd49.sc\u001b[39m:\u001b[32m5\u001b[39m)\n  ammonite.$sess.cmd49$Helper.sum(\u001b[32mcmd49.sc\u001b[39m:\u001b[32m5\u001b[39m)\n  ammonite.$sess.cmd49$Helper.sum(\u001b[32mcmd49.sc\u001b[39m:\u001b[32m5\u001b[39m)\n  ammonite.$sess.cmd49$Helper.sum(\u001b[32mcmd49.sc\u001b[39m:\u001b[32m5\u001b[39m)\n  ammonite.$sess.cmd49$Helper.sum(\u001b[32mcmd49.sc\u001b[39m:\u001b[32m5\u001b[39m)\n  ammonite.$sess.cmd49$Helper.sum(\u001b[32mcmd49.sc\u001b[39m:\u001b[32m5\u001b[39m)\n  ammonite.$sess.cmd49$Helper.sum(\u001b[32mcmd49.sc\u001b[39m:\u001b[32m5\u001b[39m)\n  ammonite.$sess.cmd49$Helper.sum(\u001b[32mcmd49.sc\u001b[39m:\u001b[32m5\u001b[39m)\n  ammonite.$sess.cmd49$Helper.sum(\u001b[32mcmd49.sc\u001b[39m:\u001b[32m5\u001b[39m)\n  ammonite.$sess.cmd49$Helper.sum(\u001b[32mcmd49.sc\u001b[39m:\u001b[32m5\u001b[39m)\n  ammonite.$sess.cmd49$Helper.sum(\u001b[32mcmd49.sc\u001b[39m:\u001b[32m5\u001b[39m)\n  ammonite.$sess.cmd49$Helper.sum(\u001b[32mcmd49.sc\u001b[39m:\u001b[32m5\u001b[39m)\n  ammonite.$sess.cmd49$Helper.sum(\u001b[32mcmd49.sc\u001b[39m:\u001b[32m5\u001b[39m)\n  ammonite.$sess.cmd49$Helper.sum(\u001b[32mcmd49.sc\u001b[39m:\u001b[32m5\u001b[39m)\n  ammonite.$sess.cmd49$Helper.sum(\u001b[32mcmd49.sc\u001b[39m:\u001b[32m5\u001b[39m)\n  ammonite.$sess.cmd49$Helper.sum(\u001b[32mcmd49.sc\u001b[39m:\u001b[32m5\u001b[39m)\n  ammonite.$sess.cmd49$Helper.sum(\u001b[32mcmd49.sc\u001b[39m:\u001b[32m5\u001b[39m)\n  ammonite.$sess.cmd49$Helper.sum(\u001b[32mcmd49.sc\u001b[39m:\u001b[32m5\u001b[39m)\n  ammonite.$sess.cmd49$Helper.sum(\u001b[32mcmd49.sc\u001b[39m:\u001b[32m5\u001b[39m)\n  ammonite.$sess.cmd49$Helper.sum(\u001b[32mcmd49.sc\u001b[39m:\u001b[32m5\u001b[39m)\n  ammonite.$sess.cmd49$Helper.sum(\u001b[32mcmd49.sc\u001b[39m:\u001b[32m5\u001b[39m)\n  ammonite.$sess.cmd49$Helper.sum(\u001b[32mcmd49.sc\u001b[39m:\u001b[32m5\u001b[39m)\n  ammonite.$sess.cmd49$Helper.sum(\u001b[32mcmd49.sc\u001b[39m:\u001b[32m5\u001b[39m)\n  ammonite.$sess.cmd49$Helper.sum(\u001b[32mcmd49.sc\u001b[39m:\u001b[32m5\u001b[39m)\n  ammonite.$sess.cmd49$Helper.sum(\u001b[32mcmd49.sc\u001b[39m:\u001b[32m5\u001b[39m)\n  ammonite.$sess.cmd49$Helper.sum(\u001b[32mcmd49.sc\u001b[39m:\u001b[32m5\u001b[39m)\n  ammonite.$sess.cmd49$Helper.sum(\u001b[32mcmd49.sc\u001b[39m:\u001b[32m5\u001b[39m)\n  ammonite.$sess.cmd49$Helper.sum(\u001b[32mcmd49.sc\u001b[39m:\u001b[32m5\u001b[39m)\n  ammonite.$sess.cmd49$Helper.sum(\u001b[32mcmd49.sc\u001b[39m:\u001b[32m5\u001b[39m)\n  ammonite.$sess.cmd49$Helper.sum(\u001b[32mcmd49.sc\u001b[39m:\u001b[32m5\u001b[39m)\n  ammonite.$sess.cmd49$Helper.sum(\u001b[32mcmd49.sc\u001b[39m:\u001b[32m5\u001b[39m)\n  ammonite.$sess.cmd49$Helper.sum(\u001b[32mcmd49.sc\u001b[39m:\u001b[32m5\u001b[39m)\n  ammonite.$sess.cmd49$Helper.sum(\u001b[32mcmd49.sc\u001b[39m:\u001b[32m5\u001b[39m)\n  ammonite.$sess.cmd49$Helper.sum(\u001b[32mcmd49.sc\u001b[39m:\u001b[32m5\u001b[39m)\n  ammonite.$sess.cmd49$Helper.sum(\u001b[32mcmd49.sc\u001b[39m:\u001b[32m5\u001b[39m)\n  ammonite.$sess.cmd49$Helper.sum(\u001b[32mcmd49.sc\u001b[39m:\u001b[32m5\u001b[39m)\n  ammonite.$sess.cmd49$Helper.sum(\u001b[32mcmd49.sc\u001b[39m:\u001b[32m5\u001b[39m)\n  ammonite.$sess.cmd49$Helper.sum(\u001b[32mcmd49.sc\u001b[39m:\u001b[32m5\u001b[39m)\n  ammonite.$sess.cmd49$Helper.sum(\u001b[32mcmd49.sc\u001b[39m:\u001b[32m5\u001b[39m)\n  ammonite.$sess.cmd49$Helper.sum(\u001b[32mcmd49.sc\u001b[39m:\u001b[32m5\u001b[39m)\n  ammonite.$sess.cmd49$Helper.sum(\u001b[32mcmd49.sc\u001b[39m:\u001b[32m5\u001b[39m)\n  ammonite.$sess.cmd49$Helper.sum(\u001b[32mcmd49.sc\u001b[39m:\u001b[32m5\u001b[39m)\n  ammonite.$sess.cmd49$Helper.sum(\u001b[32mcmd49.sc\u001b[39m:\u001b[32m5\u001b[39m)\n  ammonite.$sess.cmd49$Helper.sum(\u001b[32mcmd49.sc\u001b[39m:\u001b[32m5\u001b[39m)\n  ammonite.$sess.cmd49$Helper.sum(\u001b[32mcmd49.sc\u001b[39m:\u001b[32m5\u001b[39m)\n  ammonite.$sess.cmd49$Helper.sum(\u001b[32mcmd49.sc\u001b[39m:\u001b[32m5\u001b[39m)\n  ammonite.$sess.cmd49$Helper.sum(\u001b[32mcmd49.sc\u001b[39m:\u001b[32m5\u001b[39m)\n  ammonite.$sess.cmd49$Helper.sum(\u001b[32mcmd49.sc\u001b[39m:\u001b[32m5\u001b[39m)\n  ammonite.$sess.cmd49$Helper.sum(\u001b[32mcmd49.sc\u001b[39m:\u001b[32m5\u001b[39m)\n  ammonite.$sess.cmd49$Helper.sum(\u001b[32mcmd49.sc\u001b[39m:\u001b[32m5\u001b[39m)\n  ammonite.$sess.cmd49$Helper.sum(\u001b[32mcmd49.sc\u001b[39m:\u001b[32m5\u001b[39m)\n  ammonite.$sess.cmd49$Helper.sum(\u001b[32mcmd49.sc\u001b[39m:\u001b[32m5\u001b[39m)\n  ammonite.$sess.cmd49$Helper.sum(\u001b[32mcmd49.sc\u001b[39m:\u001b[32m5\u001b[39m)\n  ammonite.$sess.cmd49$Helper.sum(\u001b[32mcmd49.sc\u001b[39m:\u001b[32m5\u001b[39m)\n  ammonite.$sess.cmd49$Helper.sum(\u001b[32mcmd49.sc\u001b[39m:\u001b[32m5\u001b[39m)\n  ammonite.$sess.cmd49$Helper.sum(\u001b[32mcmd49.sc\u001b[39m:\u001b[32m5\u001b[39m)\n  ammonite.$sess.cmd49$Helper.sum(\u001b[32mcmd49.sc\u001b[39m:\u001b[32m5\u001b[39m)\n  ammonite.$sess.cmd49$Helper.sum(\u001b[32mcmd49.sc\u001b[39m:\u001b[32m5\u001b[39m)\n  ammonite.$sess.cmd49$Helper.sum(\u001b[32mcmd49.sc\u001b[39m:\u001b[32m5\u001b[39m)\n  ammonite.$sess.cmd49$Helper.sum(\u001b[32mcmd49.sc\u001b[39m:\u001b[32m5\u001b[39m)\n  ammonite.$sess.cmd49$Helper.sum(\u001b[32mcmd49.sc\u001b[39m:\u001b[32m5\u001b[39m)\n  ammonite.$sess.cmd49$Helper.sum(\u001b[32mcmd49.sc\u001b[39m:\u001b[32m5\u001b[39m)\n  ammonite.$sess.cmd49$Helper.sum(\u001b[32mcmd49.sc\u001b[39m:\u001b[32m5\u001b[39m)\n  ammonite.$sess.cmd49$Helper.sum(\u001b[32mcmd49.sc\u001b[39m:\u001b[32m5\u001b[39m)\n  ammonite.$sess.cmd49$Helper.sum(\u001b[32mcmd49.sc\u001b[39m:\u001b[32m5\u001b[39m)\n  ammonite.$sess.cmd49$Helper.sum(\u001b[32mcmd49.sc\u001b[39m:\u001b[32m5\u001b[39m)\n  ammonite.$sess.cmd49$Helper.sum(\u001b[32mcmd49.sc\u001b[39m:\u001b[32m5\u001b[39m)\n  ammonite.$sess.cmd49$Helper.sum(\u001b[32mcmd49.sc\u001b[39m:\u001b[32m5\u001b[39m)\n  ammonite.$sess.cmd49$Helper.sum(\u001b[32mcmd49.sc\u001b[39m:\u001b[32m5\u001b[39m)\n  ammonite.$sess.cmd49$Helper.sum(\u001b[32mcmd49.sc\u001b[39m:\u001b[32m5\u001b[39m)\n  ammonite.$sess.cmd49$Helper.sum(\u001b[32mcmd49.sc\u001b[39m:\u001b[32m5\u001b[39m)\n  ammonite.$sess.cmd49$Helper.sum(\u001b[32mcmd49.sc\u001b[39m:\u001b[32m5\u001b[39m)\n  ammonite.$sess.cmd49$Helper.sum(\u001b[32mcmd49.sc\u001b[39m:\u001b[32m5\u001b[39m)\n  ammonite.$sess.cmd49$Helper.sum(\u001b[32mcmd49.sc\u001b[39m:\u001b[32m5\u001b[39m)\n  ammonite.$sess.cmd49$Helper.sum(\u001b[32mcmd49.sc\u001b[39m:\u001b[32m5\u001b[39m)\n  ammonite.$sess.cmd49$Helper.sum(\u001b[32mcmd49.sc\u001b[39m:\u001b[32m5\u001b[39m)\n  ammonite.$sess.cmd49$Helper.sum(\u001b[32mcmd49.sc\u001b[39m:\u001b[32m5\u001b[39m)\n  ammonite.$sess.cmd49$Helper.sum(\u001b[32mcmd49.sc\u001b[39m:\u001b[32m5\u001b[39m)\n  ammonite.$sess.cmd49$Helper.sum(\u001b[32mcmd49.sc\u001b[39m:\u001b[32m5\u001b[39m)\n  ammonite.$sess.cmd49$Helper.sum(\u001b[32mcmd49.sc\u001b[39m:\u001b[32m5\u001b[39m)\n  ammonite.$sess.cmd49$Helper.sum(\u001b[32mcmd49.sc\u001b[39m:\u001b[32m5\u001b[39m)\n  ammonite.$sess.cmd49$Helper.sum(\u001b[32mcmd49.sc\u001b[39m:\u001b[32m5\u001b[39m)\n  ammonite.$sess.cmd49$Helper.sum(\u001b[32mcmd49.sc\u001b[39m:\u001b[32m5\u001b[39m)\n  ammonite.$sess.cmd49$Helper.sum(\u001b[32mcmd49.sc\u001b[39m:\u001b[32m5\u001b[39m)\n  ammonite.$sess.cmd49$Helper.sum(\u001b[32mcmd49.sc\u001b[39m:\u001b[32m5\u001b[39m)\n  ammonite.$sess.cmd49$Helper.sum(\u001b[32mcmd49.sc\u001b[39m:\u001b[32m5\u001b[39m)\n  ammonite.$sess.cmd49$Helper.sum(\u001b[32mcmd49.sc\u001b[39m:\u001b[32m5\u001b[39m)\n  ammonite.$sess.cmd49$Helper.sum(\u001b[32mcmd49.sc\u001b[39m:\u001b[32m5\u001b[39m)\n  ammonite.$sess.cmd49$Helper.sum(\u001b[32mcmd49.sc\u001b[39m:\u001b[32m5\u001b[39m)\n  ammonite.$sess.cmd49$Helper.sum(\u001b[32mcmd49.sc\u001b[39m:\u001b[32m5\u001b[39m)\n  ammonite.$sess.cmd49$Helper.sum(\u001b[32mcmd49.sc\u001b[39m:\u001b[32m5\u001b[39m)\n  ammonite.$sess.cmd49$Helper.sum(\u001b[32mcmd49.sc\u001b[39m:\u001b[32m5\u001b[39m)\n  ammonite.$sess.cmd49$Helper.sum(\u001b[32mcmd49.sc\u001b[39m:\u001b[32m5\u001b[39m)\n  ammonite.$sess.cmd49$Helper.sum(\u001b[32mcmd49.sc\u001b[39m:\u001b[32m5\u001b[39m)\n  ammonite.$sess.cmd49$Helper.sum(\u001b[32mcmd49.sc\u001b[39m:\u001b[32m5\u001b[39m)\n  ammonite.$sess.cmd49$Helper.sum(\u001b[32mcmd49.sc\u001b[39m:\u001b[32m5\u001b[39m)\n  ammonite.$sess.cmd49$Helper.sum(\u001b[32mcmd49.sc\u001b[39m:\u001b[32m5\u001b[39m)\n  ammonite.$sess.cmd49$Helper.sum(\u001b[32mcmd49.sc\u001b[39m:\u001b[32m5\u001b[39m)\n  ammonite.$sess.cmd49$Helper.sum(\u001b[32mcmd49.sc\u001b[39m:\u001b[32m5\u001b[39m)\n  ammonite.$sess.cmd49$Helper.sum(\u001b[32mcmd49.sc\u001b[39m:\u001b[32m5\u001b[39m)\n  ammonite.$sess.cmd49$Helper.sum(\u001b[32mcmd49.sc\u001b[39m:\u001b[32m5\u001b[39m)\n  ammonite.$sess.cmd49$Helper.sum(\u001b[32mcmd49.sc\u001b[39m:\u001b[32m5\u001b[39m)\n  ammonite.$sess.cmd49$Helper.sum(\u001b[32mcmd49.sc\u001b[39m:\u001b[32m5\u001b[39m)\n  ammonite.$sess.cmd49$Helper.sum(\u001b[32mcmd49.sc\u001b[39m:\u001b[32m5\u001b[39m)\n  ammonite.$sess.cmd49$Helper.sum(\u001b[32mcmd49.sc\u001b[39m:\u001b[32m5\u001b[39m)\n  ammonite.$sess.cmd49$Helper.sum(\u001b[32mcmd49.sc\u001b[39m:\u001b[32m5\u001b[39m)\n  ammonite.$sess.cmd49$Helper.sum(\u001b[32mcmd49.sc\u001b[39m:\u001b[32m5\u001b[39m)\n  ammonite.$sess.cmd49$Helper.sum(\u001b[32mcmd49.sc\u001b[39m:\u001b[32m5\u001b[39m)\n  ammonite.$sess.cmd49$Helper.sum(\u001b[32mcmd49.sc\u001b[39m:\u001b[32m5\u001b[39m)\n  ammonite.$sess.cmd49$Helper.sum(\u001b[32mcmd49.sc\u001b[39m:\u001b[32m5\u001b[39m)\n  ammonite.$sess.cmd49$Helper.sum(\u001b[32mcmd49.sc\u001b[39m:\u001b[32m5\u001b[39m)\n  ammonite.$sess.cmd49$Helper.sum(\u001b[32mcmd49.sc\u001b[39m:\u001b[32m5\u001b[39m)\n  ammonite.$sess.cmd49$Helper.sum(\u001b[32mcmd49.sc\u001b[39m:\u001b[32m5\u001b[39m)\n  ammonite.$sess.cmd49$Helper.sum(\u001b[32mcmd49.sc\u001b[39m:\u001b[32m5\u001b[39m)\n  ammonite.$sess.cmd49$Helper.sum(\u001b[32mcmd49.sc\u001b[39m:\u001b[32m5\u001b[39m)\n  ammonite.$sess.cmd49$Helper.sum(\u001b[32mcmd49.sc\u001b[39m:\u001b[32m5\u001b[39m)\n  ammonite.$sess.cmd49$Helper.sum(\u001b[32mcmd49.sc\u001b[39m:\u001b[32m5\u001b[39m)\n  ammonite.$sess.cmd49$Helper.sum(\u001b[32mcmd49.sc\u001b[39m:\u001b[32m5\u001b[39m)\n  ammonite.$sess.cmd49$Helper.sum(\u001b[32mcmd49.sc\u001b[39m:\u001b[32m5\u001b[39m)\n  ammonite.$sess.cmd49$Helper.sum(\u001b[32mcmd49.sc\u001b[39m:\u001b[32m5\u001b[39m)\n  ammonite.$sess.cmd49$Helper.sum(\u001b[32mcmd49.sc\u001b[39m:\u001b[32m5\u001b[39m)\n  ammonite.$sess.cmd49$Helper.sum(\u001b[32mcmd49.sc\u001b[39m:\u001b[32m5\u001b[39m)\n  ammonite.$sess.cmd49$Helper.sum(\u001b[32mcmd49.sc\u001b[39m:\u001b[32m5\u001b[39m)\n  ammonite.$sess.cmd49$Helper.sum(\u001b[32mcmd49.sc\u001b[39m:\u001b[32m5\u001b[39m)\n  ammonite.$sess.cmd49$Helper.sum(\u001b[32mcmd49.sc\u001b[39m:\u001b[32m5\u001b[39m)\n  ammonite.$sess.cmd49$Helper.sum(\u001b[32mcmd49.sc\u001b[39m:\u001b[32m5\u001b[39m)\n  ammonite.$sess.cmd49$Helper.sum(\u001b[32mcmd49.sc\u001b[39m:\u001b[32m5\u001b[39m)\n  ammonite.$sess.cmd49$Helper.sum(\u001b[32mcmd49.sc\u001b[39m:\u001b[32m5\u001b[39m)\n  ammonite.$sess.cmd49$Helper.sum(\u001b[32mcmd49.sc\u001b[39m:\u001b[32m5\u001b[39m)\n  ammonite.$sess.cmd49$Helper.sum(\u001b[32mcmd49.sc\u001b[39m:\u001b[32m5\u001b[39m)\n  ammonite.$sess.cmd49$Helper.sum(\u001b[32mcmd49.sc\u001b[39m:\u001b[32m5\u001b[39m)\n  ammonite.$sess.cmd49$Helper.sum(\u001b[32mcmd49.sc\u001b[39m:\u001b[32m5\u001b[39m)\n  ammonite.$sess.cmd49$Helper.sum(\u001b[32mcmd49.sc\u001b[39m:\u001b[32m5\u001b[39m)\n  ammonite.$sess.cmd49$Helper.sum(\u001b[32mcmd49.sc\u001b[39m:\u001b[32m5\u001b[39m)\n  ammonite.$sess.cmd49$Helper.sum(\u001b[32mcmd49.sc\u001b[39m:\u001b[32m5\u001b[39m)\n  ammonite.$sess.cmd49$Helper.sum(\u001b[32mcmd49.sc\u001b[39m:\u001b[32m5\u001b[39m)\n  ammonite.$sess.cmd49$Helper.sum(\u001b[32mcmd49.sc\u001b[39m:\u001b[32m5\u001b[39m)\n  ammonite.$sess.cmd49$Helper.sum(\u001b[32mcmd49.sc\u001b[39m:\u001b[32m5\u001b[39m)\n  ammonite.$sess.cmd49$Helper.sum(\u001b[32mcmd49.sc\u001b[39m:\u001b[32m5\u001b[39m)\n  ammonite.$sess.cmd49$Helper.sum(\u001b[32mcmd49.sc\u001b[39m:\u001b[32m5\u001b[39m)\n  ammonite.$sess.cmd49$Helper.sum(\u001b[32mcmd49.sc\u001b[39m:\u001b[32m5\u001b[39m)\n  ammonite.$sess.cmd49$Helper.sum(\u001b[32mcmd49.sc\u001b[39m:\u001b[32m5\u001b[39m)\n  ammonite.$sess.cmd49$Helper.sum(\u001b[32mcmd49.sc\u001b[39m:\u001b[32m5\u001b[39m)\n  ammonite.$sess.cmd49$Helper.sum(\u001b[32mcmd49.sc\u001b[39m:\u001b[32m5\u001b[39m)\n  ammonite.$sess.cmd49$Helper.sum(\u001b[32mcmd49.sc\u001b[39m:\u001b[32m5\u001b[39m)\n  ammonite.$sess.cmd49$Helper.sum(\u001b[32mcmd49.sc\u001b[39m:\u001b[32m5\u001b[39m)\n  ammonite.$sess.cmd49$Helper.sum(\u001b[32mcmd49.sc\u001b[39m:\u001b[32m5\u001b[39m)\n  ammonite.$sess.cmd49$Helper.sum(\u001b[32mcmd49.sc\u001b[39m:\u001b[32m5\u001b[39m)\n  ammonite.$sess.cmd49$Helper.sum(\u001b[32mcmd49.sc\u001b[39m:\u001b[32m5\u001b[39m)\n  ammonite.$sess.cmd49$Helper.sum(\u001b[32mcmd49.sc\u001b[39m:\u001b[32m5\u001b[39m)\n  ammonite.$sess.cmd49$Helper.sum(\u001b[32mcmd49.sc\u001b[39m:\u001b[32m5\u001b[39m)\n  ammonite.$sess.cmd49$Helper.sum(\u001b[32mcmd49.sc\u001b[39m:\u001b[32m5\u001b[39m)\n  ammonite.$sess.cmd49$Helper.sum(\u001b[32mcmd49.sc\u001b[39m:\u001b[32m5\u001b[39m)\n  ammonite.$sess.cmd49$Helper.sum(\u001b[32mcmd49.sc\u001b[39m:\u001b[32m5\u001b[39m)\n  ammonite.$sess.cmd49$Helper.sum(\u001b[32mcmd49.sc\u001b[39m:\u001b[32m5\u001b[39m)\n  ammonite.$sess.cmd49$Helper.sum(\u001b[32mcmd49.sc\u001b[39m:\u001b[32m5\u001b[39m)\n  ammonite.$sess.cmd49$Helper.sum(\u001b[32mcmd49.sc\u001b[39m:\u001b[32m5\u001b[39m)\n  ammonite.$sess.cmd49$Helper.sum(\u001b[32mcmd49.sc\u001b[39m:\u001b[32m5\u001b[39m)\n  ammonite.$sess.cmd49$Helper.sum(\u001b[32mcmd49.sc\u001b[39m:\u001b[32m5\u001b[39m)\n  ammonite.$sess.cmd49$Helper.sum(\u001b[32mcmd49.sc\u001b[39m:\u001b[32m5\u001b[39m)\n  ammonite.$sess.cmd49$Helper.sum(\u001b[32mcmd49.sc\u001b[39m:\u001b[32m5\u001b[39m)\n  ammonite.$sess.cmd49$Helper.sum(\u001b[32mcmd49.sc\u001b[39m:\u001b[32m5\u001b[39m)\n  ammonite.$sess.cmd49$Helper.sum(\u001b[32mcmd49.sc\u001b[39m:\u001b[32m5\u001b[39m)\n  ammonite.$sess.cmd49$Helper.sum(\u001b[32mcmd49.sc\u001b[39m:\u001b[32m5\u001b[39m)\n  ammonite.$sess.cmd49$Helper.sum(\u001b[32mcmd49.sc\u001b[39m:\u001b[32m5\u001b[39m)\n  ammonite.$sess.cmd49$Helper.sum(\u001b[32mcmd49.sc\u001b[39m:\u001b[32m5\u001b[39m)\n  ammonite.$sess.cmd49$Helper.sum(\u001b[32mcmd49.sc\u001b[39m:\u001b[32m5\u001b[39m)\n  ammonite.$sess.cmd49$Helper.sum(\u001b[32mcmd49.sc\u001b[39m:\u001b[32m5\u001b[39m)\n  ammonite.$sess.cmd49$Helper.sum(\u001b[32mcmd49.sc\u001b[39m:\u001b[32m5\u001b[39m)\n  ammonite.$sess.cmd49$Helper.sum(\u001b[32mcmd49.sc\u001b[39m:\u001b[32m5\u001b[39m)\n  ammonite.$sess.cmd49$Helper.sum(\u001b[32mcmd49.sc\u001b[39m:\u001b[32m5\u001b[39m)\n  ammonite.$sess.cmd49$Helper.sum(\u001b[32mcmd49.sc\u001b[39m:\u001b[32m5\u001b[39m)\n  ammonite.$sess.cmd49$Helper.sum(\u001b[32mcmd49.sc\u001b[39m:\u001b[32m5\u001b[39m)\n  ammonite.$sess.cmd49$Helper.sum(\u001b[32mcmd49.sc\u001b[39m:\u001b[32m5\u001b[39m)\n  ammonite.$sess.cmd49$Helper.sum(\u001b[32mcmd49.sc\u001b[39m:\u001b[32m5\u001b[39m)\n  ammonite.$sess.cmd49$Helper.sum(\u001b[32mcmd49.sc\u001b[39m:\u001b[32m5\u001b[39m)\n  ammonite.$sess.cmd49$Helper.sum(\u001b[32mcmd49.sc\u001b[39m:\u001b[32m5\u001b[39m)\n  ammonite.$sess.cmd49$Helper.sum(\u001b[32mcmd49.sc\u001b[39m:\u001b[32m5\u001b[39m)\n  ammonite.$sess.cmd49$Helper.sum(\u001b[32mcmd49.sc\u001b[39m:\u001b[32m5\u001b[39m)\n  ammonite.$sess.cmd49$Helper.sum(\u001b[32mcmd49.sc\u001b[39m:\u001b[32m5\u001b[39m)\n  ammonite.$sess.cmd49$Helper.sum(\u001b[32mcmd49.sc\u001b[39m:\u001b[32m5\u001b[39m)\n  ammonite.$sess.cmd49$Helper.sum(\u001b[32mcmd49.sc\u001b[39m:\u001b[32m5\u001b[39m)\n  ammonite.$sess.cmd49$Helper.sum(\u001b[32mcmd49.sc\u001b[39m:\u001b[32m5\u001b[39m)\n  ammonite.$sess.cmd49$Helper.sum(\u001b[32mcmd49.sc\u001b[39m:\u001b[32m5\u001b[39m)\n  ammonite.$sess.cmd49$Helper.sum(\u001b[32mcmd49.sc\u001b[39m:\u001b[32m5\u001b[39m)\n  ammonite.$sess.cmd49$Helper.sum(\u001b[32mcmd49.sc\u001b[39m:\u001b[32m5\u001b[39m)\n  ammonite.$sess.cmd49$Helper.sum(\u001b[32mcmd49.sc\u001b[39m:\u001b[32m5\u001b[39m)\n  ammonite.$sess.cmd49$Helper.sum(\u001b[32mcmd49.sc\u001b[39m:\u001b[32m5\u001b[39m)\n  ammonite.$sess.cmd49$Helper.sum(\u001b[32mcmd49.sc\u001b[39m:\u001b[32m5\u001b[39m)\n  ammonite.$sess.cmd49$Helper.sum(\u001b[32mcmd49.sc\u001b[39m:\u001b[32m5\u001b[39m)\n  ammonite.$sess.cmd49$Helper.sum(\u001b[32mcmd49.sc\u001b[39m:\u001b[32m5\u001b[39m)\n  ammonite.$sess.cmd49$Helper.sum(\u001b[32mcmd49.sc\u001b[39m:\u001b[32m5\u001b[39m)\n  ammonite.$sess.cmd49$Helper.sum(\u001b[32mcmd49.sc\u001b[39m:\u001b[32m5\u001b[39m)\n  ammonite.$sess.cmd49$Helper.sum(\u001b[32mcmd49.sc\u001b[39m:\u001b[32m5\u001b[39m)\n  ammonite.$sess.cmd49$Helper.sum(\u001b[32mcmd49.sc\u001b[39m:\u001b[32m5\u001b[39m)\n  ammonite.$sess.cmd49$Helper.sum(\u001b[32mcmd49.sc\u001b[39m:\u001b[32m5\u001b[39m)\n  ammonite.$sess.cmd49$Helper.sum(\u001b[32mcmd49.sc\u001b[39m:\u001b[32m5\u001b[39m)\n  ammonite.$sess.cmd49$Helper.sum(\u001b[32mcmd49.sc\u001b[39m:\u001b[32m5\u001b[39m)\n  ammonite.$sess.cmd49$Helper.sum(\u001b[32mcmd49.sc\u001b[39m:\u001b[32m5\u001b[39m)\n  ammonite.$sess.cmd49$Helper.sum(\u001b[32mcmd49.sc\u001b[39m:\u001b[32m5\u001b[39m)\n  ammonite.$sess.cmd49$Helper.sum(\u001b[32mcmd49.sc\u001b[39m:\u001b[32m5\u001b[39m)\n  ammonite.$sess.cmd49$Helper.sum(\u001b[32mcmd49.sc\u001b[39m:\u001b[32m5\u001b[39m)\n  ammonite.$sess.cmd49$Helper.sum(\u001b[32mcmd49.sc\u001b[39m:\u001b[32m5\u001b[39m)\n  ammonite.$sess.cmd49$Helper.sum(\u001b[32mcmd49.sc\u001b[39m:\u001b[32m5\u001b[39m)\n  ammonite.$sess.cmd49$Helper.sum(\u001b[32mcmd49.sc\u001b[39m:\u001b[32m5\u001b[39m)\n  ammonite.$sess.cmd49$Helper.sum(\u001b[32mcmd49.sc\u001b[39m:\u001b[32m5\u001b[39m)\n  ammonite.$sess.cmd49$Helper.sum(\u001b[32mcmd49.sc\u001b[39m:\u001b[32m5\u001b[39m)\n  ammonite.$sess.cmd49$Helper.sum(\u001b[32mcmd49.sc\u001b[39m:\u001b[32m5\u001b[39m)\n  ammonite.$sess.cmd49$Helper.sum(\u001b[32mcmd49.sc\u001b[39m:\u001b[32m5\u001b[39m)\n  ammonite.$sess.cmd49$Helper.sum(\u001b[32mcmd49.sc\u001b[39m:\u001b[32m5\u001b[39m)\n  ammonite.$sess.cmd49$Helper.sum(\u001b[32mcmd49.sc\u001b[39m:\u001b[32m5\u001b[39m)\n  ammonite.$sess.cmd49$Helper.sum(\u001b[32mcmd49.sc\u001b[39m:\u001b[32m5\u001b[39m)\n  ammonite.$sess.cmd49$Helper.sum(\u001b[32mcmd49.sc\u001b[39m:\u001b[32m5\u001b[39m)\n  ammonite.$sess.cmd49$Helper.sum(\u001b[32mcmd49.sc\u001b[39m:\u001b[32m5\u001b[39m)\n  ammonite.$sess.cmd49$Helper.sum(\u001b[32mcmd49.sc\u001b[39m:\u001b[32m5\u001b[39m)\n  ammonite.$sess.cmd49$Helper.sum(\u001b[32mcmd49.sc\u001b[39m:\u001b[32m5\u001b[39m)\n  ammonite.$sess.cmd49$Helper.sum(\u001b[32mcmd49.sc\u001b[39m:\u001b[32m5\u001b[39m)\n  ammonite.$sess.cmd49$Helper.sum(\u001b[32mcmd49.sc\u001b[39m:\u001b[32m5\u001b[39m)\n  ammonite.$sess.cmd49$Helper.sum(\u001b[32mcmd49.sc\u001b[39m:\u001b[32m5\u001b[39m)\n  ammonite.$sess.cmd49$Helper.sum(\u001b[32mcmd49.sc\u001b[39m:\u001b[32m5\u001b[39m)\n  ammonite.$sess.cmd49$Helper.sum(\u001b[32mcmd49.sc\u001b[39m:\u001b[32m5\u001b[39m)\n  ammonite.$sess.cmd49$Helper.sum(\u001b[32mcmd49.sc\u001b[39m:\u001b[32m5\u001b[39m)\n  ammonite.$sess.cmd49$Helper.sum(\u001b[32mcmd49.sc\u001b[39m:\u001b[32m5\u001b[39m)\n  ammonite.$sess.cmd49$Helper.sum(\u001b[32mcmd49.sc\u001b[39m:\u001b[32m5\u001b[39m)\n  ammonite.$sess.cmd49$Helper.sum(\u001b[32mcmd49.sc\u001b[39m:\u001b[32m5\u001b[39m)\n  ammonite.$sess.cmd49$Helper.sum(\u001b[32mcmd49.sc\u001b[39m:\u001b[32m5\u001b[39m)\n  ammonite.$sess.cmd49$Helper.sum(\u001b[32mcmd49.sc\u001b[39m:\u001b[32m5\u001b[39m)\n  ammonite.$sess.cmd49$Helper.sum(\u001b[32mcmd49.sc\u001b[39m:\u001b[32m5\u001b[39m)\n  ammonite.$sess.cmd49$Helper.sum(\u001b[32mcmd49.sc\u001b[39m:\u001b[32m5\u001b[39m)\n  ammonite.$sess.cmd49$Helper.sum(\u001b[32mcmd49.sc\u001b[39m:\u001b[32m5\u001b[39m)\n  ammonite.$sess.cmd49$Helper.sum(\u001b[32mcmd49.sc\u001b[39m:\u001b[32m5\u001b[39m)\n  ammonite.$sess.cmd49$Helper.sum(\u001b[32mcmd49.sc\u001b[39m:\u001b[32m5\u001b[39m)\n  ammonite.$sess.cmd49$Helper.sum(\u001b[32mcmd49.sc\u001b[39m:\u001b[32m5\u001b[39m)\n  ammonite.$sess.cmd49$Helper.sum(\u001b[32mcmd49.sc\u001b[39m:\u001b[32m5\u001b[39m)\n  ammonite.$sess.cmd49$Helper.sum(\u001b[32mcmd49.sc\u001b[39m:\u001b[32m5\u001b[39m)\n  ammonite.$sess.cmd49$Helper.sum(\u001b[32mcmd49.sc\u001b[39m:\u001b[32m5\u001b[39m)\n  ammonite.$sess.cmd49$Helper.sum(\u001b[32mcmd49.sc\u001b[39m:\u001b[32m5\u001b[39m)\n  ammonite.$sess.cmd49$Helper.sum(\u001b[32mcmd49.sc\u001b[39m:\u001b[32m5\u001b[39m)\n  ammonite.$sess.cmd49$Helper.sum(\u001b[32mcmd49.sc\u001b[39m:\u001b[32m5\u001b[39m)\n  ammonite.$sess.cmd49$Helper.sum(\u001b[32mcmd49.sc\u001b[39m:\u001b[32m5\u001b[39m)\n  ammonite.$sess.cmd49$Helper.sum(\u001b[32mcmd49.sc\u001b[39m:\u001b[32m5\u001b[39m)\n  ammonite.$sess.cmd49$Helper.sum(\u001b[32mcmd49.sc\u001b[39m:\u001b[32m5\u001b[39m)\n  ammonite.$sess.cmd49$Helper.sum(\u001b[32mcmd49.sc\u001b[39m:\u001b[32m5\u001b[39m)\n  ammonite.$sess.cmd49$Helper.sum(\u001b[32mcmd49.sc\u001b[39m:\u001b[32m5\u001b[39m)\n  ammonite.$sess.cmd49$Helper.sum(\u001b[32mcmd49.sc\u001b[39m:\u001b[32m5\u001b[39m)\n  ammonite.$sess.cmd49$Helper.sum(\u001b[32mcmd49.sc\u001b[39m:\u001b[32m5\u001b[39m)\n  ammonite.$sess.cmd49$Helper.sum(\u001b[32mcmd49.sc\u001b[39m:\u001b[32m5\u001b[39m)\n  ammonite.$sess.cmd49$Helper.sum(\u001b[32mcmd49.sc\u001b[39m:\u001b[32m5\u001b[39m)\n  ammonite.$sess.cmd49$Helper.sum(\u001b[32mcmd49.sc\u001b[39m:\u001b[32m5\u001b[39m)\n  ammonite.$sess.cmd49$Helper.sum(\u001b[32mcmd49.sc\u001b[39m:\u001b[32m5\u001b[39m)\n  ammonite.$sess.cmd49$Helper.sum(\u001b[32mcmd49.sc\u001b[39m:\u001b[32m5\u001b[39m)\n  ammonite.$sess.cmd49$Helper.sum(\u001b[32mcmd49.sc\u001b[39m:\u001b[32m5\u001b[39m)\n  ammonite.$sess.cmd49$Helper.sum(\u001b[32mcmd49.sc\u001b[39m:\u001b[32m5\u001b[39m)\n  ammonite.$sess.cmd49$Helper.sum(\u001b[32mcmd49.sc\u001b[39m:\u001b[32m5\u001b[39m)\n  ammonite.$sess.cmd49$Helper.sum(\u001b[32mcmd49.sc\u001b[39m:\u001b[32m5\u001b[39m)\n  ammonite.$sess.cmd49$Helper.sum(\u001b[32mcmd49.sc\u001b[39m:\u001b[32m5\u001b[39m)\n  ammonite.$sess.cmd49$Helper.sum(\u001b[32mcmd49.sc\u001b[39m:\u001b[32m5\u001b[39m)\n  ammonite.$sess.cmd49$Helper.sum(\u001b[32mcmd49.sc\u001b[39m:\u001b[32m5\u001b[39m)\n  ammonite.$sess.cmd49$Helper.sum(\u001b[32mcmd49.sc\u001b[39m:\u001b[32m5\u001b[39m)\n  ammonite.$sess.cmd49$Helper.sum(\u001b[32mcmd49.sc\u001b[39m:\u001b[32m5\u001b[39m)\n  ammonite.$sess.cmd49$Helper.sum(\u001b[32mcmd49.sc\u001b[39m:\u001b[32m5\u001b[39m)\n  ammonite.$sess.cmd49$Helper.sum(\u001b[32mcmd49.sc\u001b[39m:\u001b[32m5\u001b[39m)\n  ammonite.$sess.cmd49$Helper.sum(\u001b[32mcmd49.sc\u001b[39m:\u001b[32m5\u001b[39m)\n  ammonite.$sess.cmd49$Helper.sum(\u001b[32mcmd49.sc\u001b[39m:\u001b[32m5\u001b[39m)\n  ammonite.$sess.cmd49$Helper.sum(\u001b[32mcmd49.sc\u001b[39m:\u001b[32m5\u001b[39m)\n  ammonite.$sess.cmd49$Helper.sum(\u001b[32mcmd49.sc\u001b[39m:\u001b[32m5\u001b[39m)\n  ammonite.$sess.cmd49$Helper.sum(\u001b[32mcmd49.sc\u001b[39m:\u001b[32m5\u001b[39m)\n  ammonite.$sess.cmd49$Helper.sum(\u001b[32mcmd49.sc\u001b[39m:\u001b[32m5\u001b[39m)\n  ammonite.$sess.cmd49$Helper.sum(\u001b[32mcmd49.sc\u001b[39m:\u001b[32m5\u001b[39m)\n  ammonite.$sess.cmd49$Helper.sum(\u001b[32mcmd49.sc\u001b[39m:\u001b[32m5\u001b[39m)\n  ammonite.$sess.cmd49$Helper.sum(\u001b[32mcmd49.sc\u001b[39m:\u001b[32m5\u001b[39m)\n  ammonite.$sess.cmd49$Helper.sum(\u001b[32mcmd49.sc\u001b[39m:\u001b[32m5\u001b[39m)\n  ammonite.$sess.cmd49$Helper.sum(\u001b[32mcmd49.sc\u001b[39m:\u001b[32m5\u001b[39m)\n  ammonite.$sess.cmd49$Helper.sum(\u001b[32mcmd49.sc\u001b[39m:\u001b[32m5\u001b[39m)\n  ammonite.$sess.cmd49$Helper.sum(\u001b[32mcmd49.sc\u001b[39m:\u001b[32m5\u001b[39m)\n  ammonite.$sess.cmd49$Helper.sum(\u001b[32mcmd49.sc\u001b[39m:\u001b[32m5\u001b[39m)\n  ammonite.$sess.cmd49$Helper.sum(\u001b[32mcmd49.sc\u001b[39m:\u001b[32m5\u001b[39m)\n  ammonite.$sess.cmd49$Helper.sum(\u001b[32mcmd49.sc\u001b[39m:\u001b[32m5\u001b[39m)\n  ammonite.$sess.cmd49$Helper.sum(\u001b[32mcmd49.sc\u001b[39m:\u001b[32m5\u001b[39m)\n  ammonite.$sess.cmd49$Helper.sum(\u001b[32mcmd49.sc\u001b[39m:\u001b[32m5\u001b[39m)\n  ammonite.$sess.cmd49$Helper.sum(\u001b[32mcmd49.sc\u001b[39m:\u001b[32m5\u001b[39m)\n  ammonite.$sess.cmd49$Helper.sum(\u001b[32mcmd49.sc\u001b[39m:\u001b[32m5\u001b[39m)\n  ammonite.$sess.cmd49$Helper.sum(\u001b[32mcmd49.sc\u001b[39m:\u001b[32m5\u001b[39m)\n  ammonite.$sess.cmd49$Helper.sum(\u001b[32mcmd49.sc\u001b[39m:\u001b[32m5\u001b[39m)\n  ammonite.$sess.cmd49$Helper.sum(\u001b[32mcmd49.sc\u001b[39m:\u001b[32m5\u001b[39m)\n  ammonite.$sess.cmd49$Helper.sum(\u001b[32mcmd49.sc\u001b[39m:\u001b[32m5\u001b[39m)\n  ammonite.$sess.cmd49$Helper.sum(\u001b[32mcmd49.sc\u001b[39m:\u001b[32m5\u001b[39m)\n  ammonite.$sess.cmd49$Helper.sum(\u001b[32mcmd49.sc\u001b[39m:\u001b[32m5\u001b[39m)\n  ammonite.$sess.cmd49$Helper.sum(\u001b[32mcmd49.sc\u001b[39m:\u001b[32m5\u001b[39m)\n  ammonite.$sess.cmd49$Helper.sum(\u001b[32mcmd49.sc\u001b[39m:\u001b[32m5\u001b[39m)\n  ammonite.$sess.cmd49$Helper.sum(\u001b[32mcmd49.sc\u001b[39m:\u001b[32m5\u001b[39m)\n  ammonite.$sess.cmd49$Helper.sum(\u001b[32mcmd49.sc\u001b[39m:\u001b[32m5\u001b[39m)\n  ammonite.$sess.cmd49$Helper.sum(\u001b[32mcmd49.sc\u001b[39m:\u001b[32m5\u001b[39m)\n  ammonite.$sess.cmd49$Helper.sum(\u001b[32mcmd49.sc\u001b[39m:\u001b[32m5\u001b[39m)\n  ammonite.$sess.cmd49$Helper.sum(\u001b[32mcmd49.sc\u001b[39m:\u001b[32m5\u001b[39m)\n  ammonite.$sess.cmd49$Helper.sum(\u001b[32mcmd49.sc\u001b[39m:\u001b[32m5\u001b[39m)\n  ammonite.$sess.cmd49$Helper.sum(\u001b[32mcmd49.sc\u001b[39m:\u001b[32m5\u001b[39m)\n  ammonite.$sess.cmd49$Helper.sum(\u001b[32mcmd49.sc\u001b[39m:\u001b[32m5\u001b[39m)\n  ammonite.$sess.cmd49$Helper.sum(\u001b[32mcmd49.sc\u001b[39m:\u001b[32m5\u001b[39m)\n  ammonite.$sess.cmd49$Helper.sum(\u001b[32mcmd49.sc\u001b[39m:\u001b[32m5\u001b[39m)\n  ammonite.$sess.cmd49$Helper.sum(\u001b[32mcmd49.sc\u001b[39m:\u001b[32m5\u001b[39m)\n  ammonite.$sess.cmd49$Helper.sum(\u001b[32mcmd49.sc\u001b[39m:\u001b[32m5\u001b[39m)\n  ammonite.$sess.cmd49$Helper.sum(\u001b[32mcmd49.sc\u001b[39m:\u001b[32m5\u001b[39m)\n  ammonite.$sess.cmd49$Helper.sum(\u001b[32mcmd49.sc\u001b[39m:\u001b[32m5\u001b[39m)\n  ammonite.$sess.cmd49$Helper.sum(\u001b[32mcmd49.sc\u001b[39m:\u001b[32m5\u001b[39m)\n  ammonite.$sess.cmd49$Helper.sum(\u001b[32mcmd49.sc\u001b[39m:\u001b[32m5\u001b[39m)\n  ammonite.$sess.cmd49$Helper.sum(\u001b[32mcmd49.sc\u001b[39m:\u001b[32m5\u001b[39m)\n  ammonite.$sess.cmd49$Helper.sum(\u001b[32mcmd49.sc\u001b[39m:\u001b[32m5\u001b[39m)\n  ammonite.$sess.cmd49$Helper.sum(\u001b[32mcmd49.sc\u001b[39m:\u001b[32m5\u001b[39m)\n  ammonite.$sess.cmd49$Helper.sum(\u001b[32mcmd49.sc\u001b[39m:\u001b[32m5\u001b[39m)\n  ammonite.$sess.cmd49$Helper.sum(\u001b[32mcmd49.sc\u001b[39m:\u001b[32m5\u001b[39m)\n  ammonite.$sess.cmd49$Helper.sum(\u001b[32mcmd49.sc\u001b[39m:\u001b[32m5\u001b[39m)\n  ammonite.$sess.cmd49$Helper.sum(\u001b[32mcmd49.sc\u001b[39m:\u001b[32m5\u001b[39m)\n  ammonite.$sess.cmd49$Helper.sum(\u001b[32mcmd49.sc\u001b[39m:\u001b[32m5\u001b[39m)\n  ammonite.$sess.cmd49$Helper.sum(\u001b[32mcmd49.sc\u001b[39m:\u001b[32m5\u001b[39m)\n  ammonite.$sess.cmd49$Helper.sum(\u001b[32mcmd49.sc\u001b[39m:\u001b[32m5\u001b[39m)\n  ammonite.$sess.cmd49$Helper.sum(\u001b[32mcmd49.sc\u001b[39m:\u001b[32m5\u001b[39m)\n  ammonite.$sess.cmd49$Helper.sum(\u001b[32mcmd49.sc\u001b[39m:\u001b[32m5\u001b[39m)\n  ammonite.$sess.cmd49$Helper.sum(\u001b[32mcmd49.sc\u001b[39m:\u001b[32m5\u001b[39m)\n  ammonite.$sess.cmd49$Helper.sum(\u001b[32mcmd49.sc\u001b[39m:\u001b[32m5\u001b[39m)\n  ammonite.$sess.cmd49$Helper.sum(\u001b[32mcmd49.sc\u001b[39m:\u001b[32m5\u001b[39m)\n  ammonite.$sess.cmd49$Helper.sum(\u001b[32mcmd49.sc\u001b[39m:\u001b[32m5\u001b[39m)\n  ammonite.$sess.cmd49$Helper.sum(\u001b[32mcmd49.sc\u001b[39m:\u001b[32m5\u001b[39m)\n  ammonite.$sess.cmd49$Helper.sum(\u001b[32mcmd49.sc\u001b[39m:\u001b[32m5\u001b[39m)\n  ammonite.$sess.cmd49$Helper.sum(\u001b[32mcmd49.sc\u001b[39m:\u001b[32m5\u001b[39m)\n  ammonite.$sess.cmd49$Helper.sum(\u001b[32mcmd49.sc\u001b[39m:\u001b[32m5\u001b[39m)\n  ammonite.$sess.cmd49$Helper.sum(\u001b[32mcmd49.sc\u001b[39m:\u001b[32m5\u001b[39m)\n  ammonite.$sess.cmd49$Helper.sum(\u001b[32mcmd49.sc\u001b[39m:\u001b[32m5\u001b[39m)\n  ammonite.$sess.cmd49$Helper.sum(\u001b[32mcmd49.sc\u001b[39m:\u001b[32m5\u001b[39m)\n  ammonite.$sess.cmd49$Helper.sum(\u001b[32mcmd49.sc\u001b[39m:\u001b[32m5\u001b[39m)\n  ammonite.$sess.cmd49$Helper.sum(\u001b[32mcmd49.sc\u001b[39m:\u001b[32m5\u001b[39m)\n  ammonite.$sess.cmd49$Helper.sum(\u001b[32mcmd49.sc\u001b[39m:\u001b[32m5\u001b[39m)\n  ammonite.$sess.cmd49$Helper.sum(\u001b[32mcmd49.sc\u001b[39m:\u001b[32m5\u001b[39m)\n  ammonite.$sess.cmd49$Helper.sum(\u001b[32mcmd49.sc\u001b[39m:\u001b[32m5\u001b[39m)\n  ammonite.$sess.cmd49$Helper.sum(\u001b[32mcmd49.sc\u001b[39m:\u001b[32m5\u001b[39m)\n  ammonite.$sess.cmd49$Helper.sum(\u001b[32mcmd49.sc\u001b[39m:\u001b[32m5\u001b[39m)\n  ammonite.$sess.cmd49$Helper.sum(\u001b[32mcmd49.sc\u001b[39m:\u001b[32m5\u001b[39m)\n  ammonite.$sess.cmd49$Helper.sum(\u001b[32mcmd49.sc\u001b[39m:\u001b[32m5\u001b[39m)\n  ammonite.$sess.cmd49$Helper.sum(\u001b[32mcmd49.sc\u001b[39m:\u001b[32m5\u001b[39m)\n  ammonite.$sess.cmd49$Helper.sum(\u001b[32mcmd49.sc\u001b[39m:\u001b[32m5\u001b[39m)\n  ammonite.$sess.cmd49$Helper.sum(\u001b[32mcmd49.sc\u001b[39m:\u001b[32m5\u001b[39m)\n  ammonite.$sess.cmd49$Helper.sum(\u001b[32mcmd49.sc\u001b[39m:\u001b[32m5\u001b[39m)\n  ammonite.$sess.cmd49$Helper.sum(\u001b[32mcmd49.sc\u001b[39m:\u001b[32m5\u001b[39m)\n  ammonite.$sess.cmd49$Helper.sum(\u001b[32mcmd49.sc\u001b[39m:\u001b[32m5\u001b[39m)\n  ammonite.$sess.cmd49$Helper.sum(\u001b[32mcmd49.sc\u001b[39m:\u001b[32m5\u001b[39m)\n  ammonite.$sess.cmd49$Helper.sum(\u001b[32mcmd49.sc\u001b[39m:\u001b[32m5\u001b[39m)\n  ammonite.$sess.cmd49$Helper.sum(\u001b[32mcmd49.sc\u001b[39m:\u001b[32m5\u001b[39m)\n  ammonite.$sess.cmd49$Helper.sum(\u001b[32mcmd49.sc\u001b[39m:\u001b[32m5\u001b[39m)\n  ammonite.$sess.cmd49$Helper.sum(\u001b[32mcmd49.sc\u001b[39m:\u001b[32m5\u001b[39m)\n  ammonite.$sess.cmd49$Helper.sum(\u001b[32mcmd49.sc\u001b[39m:\u001b[32m5\u001b[39m)\n  ammonite.$sess.cmd49$Helper.sum(\u001b[32mcmd49.sc\u001b[39m:\u001b[32m5\u001b[39m)\n  ammonite.$sess.cmd49$Helper.sum(\u001b[32mcmd49.sc\u001b[39m:\u001b[32m5\u001b[39m)\n  ammonite.$sess.cmd49$Helper.sum(\u001b[32mcmd49.sc\u001b[39m:\u001b[32m5\u001b[39m)\n  ammonite.$sess.cmd49$Helper.sum(\u001b[32mcmd49.sc\u001b[39m:\u001b[32m5\u001b[39m)\n  ammonite.$sess.cmd49$Helper.sum(\u001b[32mcmd49.sc\u001b[39m:\u001b[32m5\u001b[39m)\n  ammonite.$sess.cmd49$Helper.sum(\u001b[32mcmd49.sc\u001b[39m:\u001b[32m5\u001b[39m)\n  ammonite.$sess.cmd49$Helper.sum(\u001b[32mcmd49.sc\u001b[39m:\u001b[32m5\u001b[39m)\n  ammonite.$sess.cmd49$Helper.sum(\u001b[32mcmd49.sc\u001b[39m:\u001b[32m5\u001b[39m)\n  ammonite.$sess.cmd49$Helper.sum(\u001b[32mcmd49.sc\u001b[39m:\u001b[32m5\u001b[39m)\n  ammonite.$sess.cmd49$Helper.sum(\u001b[32mcmd49.sc\u001b[39m:\u001b[32m5\u001b[39m)\n  ammonite.$sess.cmd49$Helper.sum(\u001b[32mcmd49.sc\u001b[39m:\u001b[32m5\u001b[39m)\n  ammonite.$sess.cmd49$Helper.sum(\u001b[32mcmd49.sc\u001b[39m:\u001b[32m5\u001b[39m)\n  ammonite.$sess.cmd49$Helper.sum(\u001b[32mcmd49.sc\u001b[39m:\u001b[32m5\u001b[39m)\n  ammonite.$sess.cmd49$Helper.sum(\u001b[32mcmd49.sc\u001b[39m:\u001b[32m5\u001b[39m)\n  ammonite.$sess.cmd49$Helper.sum(\u001b[32mcmd49.sc\u001b[39m:\u001b[32m5\u001b[39m)\n  ammonite.$sess.cmd49$Helper.sum(\u001b[32mcmd49.sc\u001b[39m:\u001b[32m5\u001b[39m)\n  ammonite.$sess.cmd49$Helper.sum(\u001b[32mcmd49.sc\u001b[39m:\u001b[32m5\u001b[39m)\n  ammonite.$sess.cmd49$Helper.sum(\u001b[32mcmd49.sc\u001b[39m:\u001b[32m5\u001b[39m)\n  ammonite.$sess.cmd49$Helper.sum(\u001b[32mcmd49.sc\u001b[39m:\u001b[32m5\u001b[39m)\n  ammonite.$sess.cmd49$Helper.sum(\u001b[32mcmd49.sc\u001b[39m:\u001b[32m5\u001b[39m)\n  ammonite.$sess.cmd49$Helper.sum(\u001b[32mcmd49.sc\u001b[39m:\u001b[32m5\u001b[39m)\n  ammonite.$sess.cmd49$Helper.sum(\u001b[32mcmd49.sc\u001b[39m:\u001b[32m5\u001b[39m)\n  ammonite.$sess.cmd49$Helper.sum(\u001b[32mcmd49.sc\u001b[39m:\u001b[32m5\u001b[39m)\n  ammonite.$sess.cmd49$Helper.sum(\u001b[32mcmd49.sc\u001b[39m:\u001b[32m5\u001b[39m)\n  ammonite.$sess.cmd49$Helper.sum(\u001b[32mcmd49.sc\u001b[39m:\u001b[32m5\u001b[39m)\n  ammonite.$sess.cmd49$Helper.sum(\u001b[32mcmd49.sc\u001b[39m:\u001b[32m5\u001b[39m)\n  ammonite.$sess.cmd49$Helper.sum(\u001b[32mcmd49.sc\u001b[39m:\u001b[32m5\u001b[39m)\n  ammonite.$sess.cmd49$Helper.sum(\u001b[32mcmd49.sc\u001b[39m:\u001b[32m5\u001b[39m)\n  ammonite.$sess.cmd49$Helper.sum(\u001b[32mcmd49.sc\u001b[39m:\u001b[32m5\u001b[39m)\n  ammonite.$sess.cmd49$Helper.sum(\u001b[32mcmd49.sc\u001b[39m:\u001b[32m5\u001b[39m)\n  ammonite.$sess.cmd49$Helper.sum(\u001b[32mcmd49.sc\u001b[39m:\u001b[32m5\u001b[39m)\n  ammonite.$sess.cmd49$Helper.sum(\u001b[32mcmd49.sc\u001b[39m:\u001b[32m5\u001b[39m)\n  ammonite.$sess.cmd49$Helper.sum(\u001b[32mcmd49.sc\u001b[39m:\u001b[32m5\u001b[39m)\n  ammonite.$sess.cmd49$Helper.sum(\u001b[32mcmd49.sc\u001b[39m:\u001b[32m5\u001b[39m)\n  ammonite.$sess.cmd49$Helper.sum(\u001b[32mcmd49.sc\u001b[39m:\u001b[32m5\u001b[39m)\n  ammonite.$sess.cmd49$Helper.sum(\u001b[32mcmd49.sc\u001b[39m:\u001b[32m5\u001b[39m)\n  ammonite.$sess.cmd49$Helper.sum(\u001b[32mcmd49.sc\u001b[39m:\u001b[32m5\u001b[39m)\n  ammonite.$sess.cmd49$Helper.sum(\u001b[32mcmd49.sc\u001b[39m:\u001b[32m5\u001b[39m)\n  ammonite.$sess.cmd49$Helper.sum(\u001b[32mcmd49.sc\u001b[39m:\u001b[32m5\u001b[39m)\n  ammonite.$sess.cmd49$Helper.sum(\u001b[32mcmd49.sc\u001b[39m:\u001b[32m5\u001b[39m)\n  ammonite.$sess.cmd49$Helper.sum(\u001b[32mcmd49.sc\u001b[39m:\u001b[32m5\u001b[39m)\n  ammonite.$sess.cmd49$Helper.sum(\u001b[32mcmd49.sc\u001b[39m:\u001b[32m5\u001b[39m)\n  ammonite.$sess.cmd49$Helper.sum(\u001b[32mcmd49.sc\u001b[39m:\u001b[32m5\u001b[39m)\n  ammonite.$sess.cmd49$Helper.sum(\u001b[32mcmd49.sc\u001b[39m:\u001b[32m5\u001b[39m)\n  ammonite.$sess.cmd49$Helper.sum(\u001b[32mcmd49.sc\u001b[39m:\u001b[32m5\u001b[39m)\n  ammonite.$sess.cmd49$Helper.sum(\u001b[32mcmd49.sc\u001b[39m:\u001b[32m5\u001b[39m)\n  ammonite.$sess.cmd49$Helper.sum(\u001b[32mcmd49.sc\u001b[39m:\u001b[32m5\u001b[39m)\n  ammonite.$sess.cmd49$Helper.sum(\u001b[32mcmd49.sc\u001b[39m:\u001b[32m5\u001b[39m)\n  ammonite.$sess.cmd49$Helper.sum(\u001b[32mcmd49.sc\u001b[39m:\u001b[32m5\u001b[39m)\n  ammonite.$sess.cmd49$Helper.sum(\u001b[32mcmd49.sc\u001b[39m:\u001b[32m5\u001b[39m)\n  ammonite.$sess.cmd49$Helper.sum(\u001b[32mcmd49.sc\u001b[39m:\u001b[32m5\u001b[39m)\n  ammonite.$sess.cmd49$Helper.sum(\u001b[32mcmd49.sc\u001b[39m:\u001b[32m5\u001b[39m)\n  ammonite.$sess.cmd49$Helper.sum(\u001b[32mcmd49.sc\u001b[39m:\u001b[32m5\u001b[39m)\n  ammonite.$sess.cmd49$Helper.sum(\u001b[32mcmd49.sc\u001b[39m:\u001b[32m5\u001b[39m)\n  ammonite.$sess.cmd49$Helper.sum(\u001b[32mcmd49.sc\u001b[39m:\u001b[32m5\u001b[39m)\n  ammonite.$sess.cmd49$Helper.sum(\u001b[32mcmd49.sc\u001b[39m:\u001b[32m5\u001b[39m)\n  ammonite.$sess.cmd49$Helper.sum(\u001b[32mcmd49.sc\u001b[39m:\u001b[32m5\u001b[39m)\n  ammonite.$sess.cmd49$Helper.sum(\u001b[32mcmd49.sc\u001b[39m:\u001b[32m5\u001b[39m)\n  ammonite.$sess.cmd49$Helper.sum(\u001b[32mcmd49.sc\u001b[39m:\u001b[32m5\u001b[39m)\n  ammonite.$sess.cmd49$Helper.sum(\u001b[32mcmd49.sc\u001b[39m:\u001b[32m5\u001b[39m)\n  ammonite.$sess.cmd49$Helper.sum(\u001b[32mcmd49.sc\u001b[39m:\u001b[32m5\u001b[39m)\n  ammonite.$sess.cmd49$Helper.sum(\u001b[32mcmd49.sc\u001b[39m:\u001b[32m5\u001b[39m)\n  ammonite.$sess.cmd49$Helper.sum(\u001b[32mcmd49.sc\u001b[39m:\u001b[32m5\u001b[39m)\n  ammonite.$sess.cmd49$Helper.sum(\u001b[32mcmd49.sc\u001b[39m:\u001b[32m5\u001b[39m)\n  ammonite.$sess.cmd49$Helper.sum(\u001b[32mcmd49.sc\u001b[39m:\u001b[32m5\u001b[39m)\n  ammonite.$sess.cmd49$Helper.sum(\u001b[32mcmd49.sc\u001b[39m:\u001b[32m5\u001b[39m)\n  ammonite.$sess.cmd49$Helper.sum(\u001b[32mcmd49.sc\u001b[39m:\u001b[32m5\u001b[39m)\n  ammonite.$sess.cmd49$Helper.sum(\u001b[32mcmd49.sc\u001b[39m:\u001b[32m5\u001b[39m)\n  ammonite.$sess.cmd49$Helper.sum(\u001b[32mcmd49.sc\u001b[39m:\u001b[32m5\u001b[39m)\n  ammonite.$sess.cmd49$Helper.sum(\u001b[32mcmd49.sc\u001b[39m:\u001b[32m5\u001b[39m)\n  ammonite.$sess.cmd49$Helper.sum(\u001b[32mcmd49.sc\u001b[39m:\u001b[32m5\u001b[39m)\n  ammonite.$sess.cmd49$Helper.sum(\u001b[32mcmd49.sc\u001b[39m:\u001b[32m5\u001b[39m)\n  ammonite.$sess.cmd49$Helper.sum(\u001b[32mcmd49.sc\u001b[39m:\u001b[32m5\u001b[39m)\n  ammonite.$sess.cmd49$Helper.sum(\u001b[32mcmd49.sc\u001b[39m:\u001b[32m5\u001b[39m)\n  ammonite.$sess.cmd49$Helper.sum(\u001b[32mcmd49.sc\u001b[39m:\u001b[32m5\u001b[39m)\n  ammonite.$sess.cmd49$Helper.sum(\u001b[32mcmd49.sc\u001b[39m:\u001b[32m5\u001b[39m)\n  ammonite.$sess.cmd49$Helper.sum(\u001b[32mcmd49.sc\u001b[39m:\u001b[32m5\u001b[39m)\n  ammonite.$sess.cmd49$Helper.sum(\u001b[32mcmd49.sc\u001b[39m:\u001b[32m5\u001b[39m)\n  ammonite.$sess.cmd49$Helper.sum(\u001b[32mcmd49.sc\u001b[39m:\u001b[32m5\u001b[39m)\n  ammonite.$sess.cmd49$Helper.sum(\u001b[32mcmd49.sc\u001b[39m:\u001b[32m5\u001b[39m)\n  ammonite.$sess.cmd49$Helper.sum(\u001b[32mcmd49.sc\u001b[39m:\u001b[32m5\u001b[39m)\n  ammonite.$sess.cmd49$Helper.sum(\u001b[32mcmd49.sc\u001b[39m:\u001b[32m5\u001b[39m)\n  ammonite.$sess.cmd49$Helper.sum(\u001b[32mcmd49.sc\u001b[39m:\u001b[32m5\u001b[39m)\n  ammonite.$sess.cmd49$Helper.sum(\u001b[32mcmd49.sc\u001b[39m:\u001b[32m5\u001b[39m)\n  ammonite.$sess.cmd49$Helper.sum(\u001b[32mcmd49.sc\u001b[39m:\u001b[32m5\u001b[39m)\n  ammonite.$sess.cmd49$Helper.sum(\u001b[32mcmd49.sc\u001b[39m:\u001b[32m5\u001b[39m)\n  ammonite.$sess.cmd49$Helper.sum(\u001b[32mcmd49.sc\u001b[39m:\u001b[32m5\u001b[39m)\n  ammonite.$sess.cmd49$Helper.sum(\u001b[32mcmd49.sc\u001b[39m:\u001b[32m5\u001b[39m)\n  ammonite.$sess.cmd49$Helper.sum(\u001b[32mcmd49.sc\u001b[39m:\u001b[32m5\u001b[39m)\n  ammonite.$sess.cmd49$Helper.sum(\u001b[32mcmd49.sc\u001b[39m:\u001b[32m5\u001b[39m)\n  ammonite.$sess.cmd49$Helper.sum(\u001b[32mcmd49.sc\u001b[39m:\u001b[32m5\u001b[39m)\n  ammonite.$sess.cmd49$Helper.sum(\u001b[32mcmd49.sc\u001b[39m:\u001b[32m5\u001b[39m)\n  ammonite.$sess.cmd49$Helper.sum(\u001b[32mcmd49.sc\u001b[39m:\u001b[32m5\u001b[39m)\n  ammonite.$sess.cmd49$Helper.sum(\u001b[32mcmd49.sc\u001b[39m:\u001b[32m5\u001b[39m)\n  ammonite.$sess.cmd49$Helper.sum(\u001b[32mcmd49.sc\u001b[39m:\u001b[32m5\u001b[39m)\n  ammonite.$sess.cmd49$Helper.sum(\u001b[32mcmd49.sc\u001b[39m:\u001b[32m5\u001b[39m)\n  ammonite.$sess.cmd49$Helper.sum(\u001b[32mcmd49.sc\u001b[39m:\u001b[32m5\u001b[39m)\n  ammonite.$sess.cmd49$Helper.sum(\u001b[32mcmd49.sc\u001b[39m:\u001b[32m5\u001b[39m)\n  ammonite.$sess.cmd49$Helper.sum(\u001b[32mcmd49.sc\u001b[39m:\u001b[32m5\u001b[39m)\n  ammonite.$sess.cmd49$Helper.sum(\u001b[32mcmd49.sc\u001b[39m:\u001b[32m5\u001b[39m)\n  ammonite.$sess.cmd49$Helper.sum(\u001b[32mcmd49.sc\u001b[39m:\u001b[32m5\u001b[39m)\n  ammonite.$sess.cmd49$Helper.sum(\u001b[32mcmd49.sc\u001b[39m:\u001b[32m5\u001b[39m)\n  ammonite.$sess.cmd49$Helper.sum(\u001b[32mcmd49.sc\u001b[39m:\u001b[32m5\u001b[39m)\n  ammonite.$sess.cmd49$Helper.sum(\u001b[32mcmd49.sc\u001b[39m:\u001b[32m5\u001b[39m)\n  ammonite.$sess.cmd49$Helper.sum(\u001b[32mcmd49.sc\u001b[39m:\u001b[32m5\u001b[39m)\n  ammonite.$sess.cmd49$Helper.sum(\u001b[32mcmd49.sc\u001b[39m:\u001b[32m5\u001b[39m)\n  ammonite.$sess.cmd49$Helper.sum(\u001b[32mcmd49.sc\u001b[39m:\u001b[32m5\u001b[39m)\n  ammonite.$sess.cmd49$Helper.sum(\u001b[32mcmd49.sc\u001b[39m:\u001b[32m5\u001b[39m)\n  ammonite.$sess.cmd49$Helper.sum(\u001b[32mcmd49.sc\u001b[39m:\u001b[32m5\u001b[39m)\n  ammonite.$sess.cmd49$Helper.sum(\u001b[32mcmd49.sc\u001b[39m:\u001b[32m5\u001b[39m)\n  ammonite.$sess.cmd49$Helper.sum(\u001b[32mcmd49.sc\u001b[39m:\u001b[32m5\u001b[39m)\n  ammonite.$sess.cmd49$Helper.sum(\u001b[32mcmd49.sc\u001b[39m:\u001b[32m5\u001b[39m)\n  ammonite.$sess.cmd49$Helper.sum(\u001b[32mcmd49.sc\u001b[39m:\u001b[32m5\u001b[39m)\n  ammonite.$sess.cmd49$Helper.sum(\u001b[32mcmd49.sc\u001b[39m:\u001b[32m5\u001b[39m)\n  ammonite.$sess.cmd49$Helper.sum(\u001b[32mcmd49.sc\u001b[39m:\u001b[32m5\u001b[39m)\n  ammonite.$sess.cmd49$Helper.sum(\u001b[32mcmd49.sc\u001b[39m:\u001b[32m5\u001b[39m)\n  ammonite.$sess.cmd49$Helper.sum(\u001b[32mcmd49.sc\u001b[39m:\u001b[32m5\u001b[39m)\n  ammonite.$sess.cmd49$Helper.sum(\u001b[32mcmd49.sc\u001b[39m:\u001b[32m5\u001b[39m)\n  ammonite.$sess.cmd49$Helper.sum(\u001b[32mcmd49.sc\u001b[39m:\u001b[32m5\u001b[39m)\n  ammonite.$sess.cmd49$Helper.sum(\u001b[32mcmd49.sc\u001b[39m:\u001b[32m5\u001b[39m)\n  ammonite.$sess.cmd49$Helper.sum(\u001b[32mcmd49.sc\u001b[39m:\u001b[32m5\u001b[39m)\n  ammonite.$sess.cmd49$Helper.sum(\u001b[32mcmd49.sc\u001b[39m:\u001b[32m5\u001b[39m)\n  ammonite.$sess.cmd49$Helper.sum(\u001b[32mcmd49.sc\u001b[39m:\u001b[32m5\u001b[39m)\n  ammonite.$sess.cmd49$Helper.sum(\u001b[32mcmd49.sc\u001b[39m:\u001b[32m5\u001b[39m)\n  ammonite.$sess.cmd49$Helper.sum(\u001b[32mcmd49.sc\u001b[39m:\u001b[32m5\u001b[39m)\n  ammonite.$sess.cmd49$Helper.sum(\u001b[32mcmd49.sc\u001b[39m:\u001b[32m5\u001b[39m)\n  ammonite.$sess.cmd49$Helper.sum(\u001b[32mcmd49.sc\u001b[39m:\u001b[32m5\u001b[39m)\n  ammonite.$sess.cmd49$Helper.sum(\u001b[32mcmd49.sc\u001b[39m:\u001b[32m5\u001b[39m)\n  ammonite.$sess.cmd49$Helper.sum(\u001b[32mcmd49.sc\u001b[39m:\u001b[32m5\u001b[39m)\n  ammonite.$sess.cmd49$Helper.sum(\u001b[32mcmd49.sc\u001b[39m:\u001b[32m5\u001b[39m)\n  ammonite.$sess.cmd49$Helper.sum(\u001b[32mcmd49.sc\u001b[39m:\u001b[32m5\u001b[39m)\n  ammonite.$sess.cmd49$Helper.sum(\u001b[32mcmd49.sc\u001b[39m:\u001b[32m5\u001b[39m)\n  ammonite.$sess.cmd49$Helper.sum(\u001b[32mcmd49.sc\u001b[39m:\u001b[32m5\u001b[39m)\n  ammonite.$sess.cmd49$Helper.sum(\u001b[32mcmd49.sc\u001b[39m:\u001b[32m5\u001b[39m)\n  ammonite.$sess.cmd49$Helper.sum(\u001b[32mcmd49.sc\u001b[39m:\u001b[32m5\u001b[39m)\n  ammonite.$sess.cmd49$Helper.sum(\u001b[32mcmd49.sc\u001b[39m:\u001b[32m5\u001b[39m)\n  ammonite.$sess.cmd49$Helper.sum(\u001b[32mcmd49.sc\u001b[39m:\u001b[32m5\u001b[39m)\n  ammonite.$sess.cmd49$Helper.sum(\u001b[32mcmd49.sc\u001b[39m:\u001b[32m5\u001b[39m)\n  ammonite.$sess.cmd49$Helper.sum(\u001b[32mcmd49.sc\u001b[39m:\u001b[32m5\u001b[39m)\n  ammonite.$sess.cmd49$Helper.sum(\u001b[32mcmd49.sc\u001b[39m:\u001b[32m5\u001b[39m)\n  ammonite.$sess.cmd49$Helper.sum(\u001b[32mcmd49.sc\u001b[39m:\u001b[32m5\u001b[39m)\n  ammonite.$sess.cmd49$Helper.sum(\u001b[32mcmd49.sc\u001b[39m:\u001b[32m5\u001b[39m)\n  ammonite.$sess.cmd49$Helper.sum(\u001b[32mcmd49.sc\u001b[39m:\u001b[32m5\u001b[39m)\n  ammonite.$sess.cmd49$Helper.sum(\u001b[32mcmd49.sc\u001b[39m:\u001b[32m5\u001b[39m)\n  ammonite.$sess.cmd49$Helper.sum(\u001b[32mcmd49.sc\u001b[39m:\u001b[32m5\u001b[39m)\n  ammonite.$sess.cmd49$Helper.sum(\u001b[32mcmd49.sc\u001b[39m:\u001b[32m5\u001b[39m)\n  ammonite.$sess.cmd49$Helper.sum(\u001b[32mcmd49.sc\u001b[39m:\u001b[32m5\u001b[39m)\n  ammonite.$sess.cmd49$Helper.sum(\u001b[32mcmd49.sc\u001b[39m:\u001b[32m5\u001b[39m)\n  ammonite.$sess.cmd49$Helper.sum(\u001b[32mcmd49.sc\u001b[39m:\u001b[32m5\u001b[39m)\n  ammonite.$sess.cmd49$Helper.sum(\u001b[32mcmd49.sc\u001b[39m:\u001b[32m5\u001b[39m)\n  ammonite.$sess.cmd49$Helper.sum(\u001b[32mcmd49.sc\u001b[39m:\u001b[32m5\u001b[39m)\n  ammonite.$sess.cmd49$Helper.sum(\u001b[32mcmd49.sc\u001b[39m:\u001b[32m5\u001b[39m)\n  ammonite.$sess.cmd49$Helper.sum(\u001b[32mcmd49.sc\u001b[39m:\u001b[32m5\u001b[39m)\n  ammonite.$sess.cmd49$Helper.sum(\u001b[32mcmd49.sc\u001b[39m:\u001b[32m5\u001b[39m)\n  ammonite.$sess.cmd49$Helper.sum(\u001b[32mcmd49.sc\u001b[39m:\u001b[32m5\u001b[39m)\n  ammonite.$sess.cmd49$Helper.sum(\u001b[32mcmd49.sc\u001b[39m:\u001b[32m5\u001b[39m)\n  ammonite.$sess.cmd49$Helper.sum(\u001b[32mcmd49.sc\u001b[39m:\u001b[32m5\u001b[39m)\n  ammonite.$sess.cmd49$Helper.sum(\u001b[32mcmd49.sc\u001b[39m:\u001b[32m5\u001b[39m)\n  ammonite.$sess.cmd49$Helper.sum(\u001b[32mcmd49.sc\u001b[39m:\u001b[32m5\u001b[39m)\n  ammonite.$sess.cmd49$Helper.sum(\u001b[32mcmd49.sc\u001b[39m:\u001b[32m5\u001b[39m)\n  ammonite.$sess.cmd49$Helper.sum(\u001b[32mcmd49.sc\u001b[39m:\u001b[32m5\u001b[39m)\n  ammonite.$sess.cmd49$Helper.sum(\u001b[32mcmd49.sc\u001b[39m:\u001b[32m5\u001b[39m)\n  ammonite.$sess.cmd49$Helper.sum(\u001b[32mcmd49.sc\u001b[39m:\u001b[32m5\u001b[39m)\n  ammonite.$sess.cmd49$Helper.sum(\u001b[32mcmd49.sc\u001b[39m:\u001b[32m5\u001b[39m)\n  ammonite.$sess.cmd49$Helper.sum(\u001b[32mcmd49.sc\u001b[39m:\u001b[32m5\u001b[39m)\n  ammonite.$sess.cmd49$Helper.sum(\u001b[32mcmd49.sc\u001b[39m:\u001b[32m5\u001b[39m)\n  ammonite.$sess.cmd49$Helper.sum(\u001b[32mcmd49.sc\u001b[39m:\u001b[32m5\u001b[39m)\n  ammonite.$sess.cmd49$Helper.sum(\u001b[32mcmd49.sc\u001b[39m:\u001b[32m5\u001b[39m)\n  ammonite.$sess.cmd49$Helper.sum(\u001b[32mcmd49.sc\u001b[39m:\u001b[32m5\u001b[39m)\n  ammonite.$sess.cmd49$Helper.sum(\u001b[32mcmd49.sc\u001b[39m:\u001b[32m5\u001b[39m)\n  ammonite.$sess.cmd49$Helper.sum(\u001b[32mcmd49.sc\u001b[39m:\u001b[32m5\u001b[39m)\n  ammonite.$sess.cmd49$Helper.sum(\u001b[32mcmd49.sc\u001b[39m:\u001b[32m5\u001b[39m)\n  ammonite.$sess.cmd49$Helper.sum(\u001b[32mcmd49.sc\u001b[39m:\u001b[32m5\u001b[39m)\n  ammonite.$sess.cmd49$Helper.sum(\u001b[32mcmd49.sc\u001b[39m:\u001b[32m5\u001b[39m)\n  ammonite.$sess.cmd49$Helper.sum(\u001b[32mcmd49.sc\u001b[39m:\u001b[32m5\u001b[39m)\n  ammonite.$sess.cmd49$Helper.sum(\u001b[32mcmd49.sc\u001b[39m:\u001b[32m5\u001b[39m)\n  ammonite.$sess.cmd49$Helper.sum(\u001b[32mcmd49.sc\u001b[39m:\u001b[32m5\u001b[39m)\n  ammonite.$sess.cmd49$Helper.sum(\u001b[32mcmd49.sc\u001b[39m:\u001b[32m5\u001b[39m)\n  ammonite.$sess.cmd49$Helper.sum(\u001b[32mcmd49.sc\u001b[39m:\u001b[32m5\u001b[39m)\n  ammonite.$sess.cmd49$Helper.sum(\u001b[32mcmd49.sc\u001b[39m:\u001b[32m5\u001b[39m)\n  ammonite.$sess.cmd49$Helper.sum(\u001b[32mcmd49.sc\u001b[39m:\u001b[32m5\u001b[39m)\n  ammonite.$sess.cmd49$Helper.sum(\u001b[32mcmd49.sc\u001b[39m:\u001b[32m5\u001b[39m)\n  ammonite.$sess.cmd49$Helper.sum(\u001b[32mcmd49.sc\u001b[39m:\u001b[32m5\u001b[39m)\n  ammonite.$sess.cmd49$Helper.sum(\u001b[32mcmd49.sc\u001b[39m:\u001b[32m5\u001b[39m)\n  ammonite.$sess.cmd49$Helper.sum(\u001b[32mcmd49.sc\u001b[39m:\u001b[32m5\u001b[39m)\n  ammonite.$sess.cmd49$Helper.sum(\u001b[32mcmd49.sc\u001b[39m:\u001b[32m5\u001b[39m)\n  ammonite.$sess.cmd49$Helper.sum(\u001b[32mcmd49.sc\u001b[39m:\u001b[32m5\u001b[39m)\n  ammonite.$sess.cmd49$Helper.sum(\u001b[32mcmd49.sc\u001b[39m:\u001b[32m5\u001b[39m)\n  ammonite.$sess.cmd49$Helper.sum(\u001b[32mcmd49.sc\u001b[39m:\u001b[32m5\u001b[39m)\n  ammonite.$sess.cmd49$Helper.sum(\u001b[32mcmd49.sc\u001b[39m:\u001b[32m5\u001b[39m)\n  ammonite.$sess.cmd49$Helper.sum(\u001b[32mcmd49.sc\u001b[39m:\u001b[32m5\u001b[39m)\n  ammonite.$sess.cmd49$Helper.sum(\u001b[32mcmd49.sc\u001b[39m:\u001b[32m5\u001b[39m)\n  ammonite.$sess.cmd49$Helper.sum(\u001b[32mcmd49.sc\u001b[39m:\u001b[32m5\u001b[39m)\n  ammonite.$sess.cmd49$Helper.sum(\u001b[32mcmd49.sc\u001b[39m:\u001b[32m5\u001b[39m)\n  ammonite.$sess.cmd49$Helper.sum(\u001b[32mcmd49.sc\u001b[39m:\u001b[32m5\u001b[39m)\n  ammonite.$sess.cmd49$Helper.sum(\u001b[32mcmd49.sc\u001b[39m:\u001b[32m5\u001b[39m)\n  ammonite.$sess.cmd49$Helper.sum(\u001b[32mcmd49.sc\u001b[39m:\u001b[32m5\u001b[39m)\n  ammonite.$sess.cmd49$Helper.sum(\u001b[32mcmd49.sc\u001b[39m:\u001b[32m5\u001b[39m)\n  ammonite.$sess.cmd49$Helper.sum(\u001b[32mcmd49.sc\u001b[39m:\u001b[32m5\u001b[39m)\n  ammonite.$sess.cmd49$Helper.sum(\u001b[32mcmd49.sc\u001b[39m:\u001b[32m5\u001b[39m)\n  ammonite.$sess.cmd49$Helper.sum(\u001b[32mcmd49.sc\u001b[39m:\u001b[32m5\u001b[39m)\n  ammonite.$sess.cmd49$Helper.sum(\u001b[32mcmd49.sc\u001b[39m:\u001b[32m5\u001b[39m)\n  ammonite.$sess.cmd49$Helper.sum(\u001b[32mcmd49.sc\u001b[39m:\u001b[32m5\u001b[39m)\n  ammonite.$sess.cmd49$Helper.sum(\u001b[32mcmd49.sc\u001b[39m:\u001b[32m5\u001b[39m)\n  ammonite.$sess.cmd49$Helper.sum(\u001b[32mcmd49.sc\u001b[39m:\u001b[32m5\u001b[39m)\n  ammonite.$sess.cmd49$Helper.sum(\u001b[32mcmd49.sc\u001b[39m:\u001b[32m5\u001b[39m)\n  ammonite.$sess.cmd49$Helper.sum(\u001b[32mcmd49.sc\u001b[39m:\u001b[32m5\u001b[39m)\n  ammonite.$sess.cmd49$Helper.sum(\u001b[32mcmd49.sc\u001b[39m:\u001b[32m5\u001b[39m)\n  ammonite.$sess.cmd49$Helper.sum(\u001b[32mcmd49.sc\u001b[39m:\u001b[32m5\u001b[39m)\n  ammonite.$sess.cmd49$Helper.sum(\u001b[32mcmd49.sc\u001b[39m:\u001b[32m5\u001b[39m)\n  ammonite.$sess.cmd49$Helper.sum(\u001b[32mcmd49.sc\u001b[39m:\u001b[32m5\u001b[39m)\n  ammonite.$sess.cmd49$Helper.sum(\u001b[32mcmd49.sc\u001b[39m:\u001b[32m5\u001b[39m)\n  ammonite.$sess.cmd49$Helper.sum(\u001b[32mcmd49.sc\u001b[39m:\u001b[32m5\u001b[39m)\n  ammonite.$sess.cmd49$Helper.sum(\u001b[32mcmd49.sc\u001b[39m:\u001b[32m5\u001b[39m)\n  ammonite.$sess.cmd49$Helper.sum(\u001b[32mcmd49.sc\u001b[39m:\u001b[32m5\u001b[39m)\n  ammonite.$sess.cmd49$Helper.sum(\u001b[32mcmd49.sc\u001b[39m:\u001b[32m5\u001b[39m)\n  ammonite.$sess.cmd49$Helper.sum(\u001b[32mcmd49.sc\u001b[39m:\u001b[32m5\u001b[39m)\n  ammonite.$sess.cmd49$Helper.sum(\u001b[32mcmd49.sc\u001b[39m:\u001b[32m5\u001b[39m)\n  ammonite.$sess.cmd49$Helper.sum(\u001b[32mcmd49.sc\u001b[39m:\u001b[32m5\u001b[39m)\n  ammonite.$sess.cmd49$Helper.sum(\u001b[32mcmd49.sc\u001b[39m:\u001b[32m5\u001b[39m)\n  ammonite.$sess.cmd49$Helper.sum(\u001b[32mcmd49.sc\u001b[39m:\u001b[32m5\u001b[39m)\n  ammonite.$sess.cmd49$Helper.sum(\u001b[32mcmd49.sc\u001b[39m:\u001b[32m5\u001b[39m)\n  ammonite.$sess.cmd49$Helper.sum(\u001b[32mcmd49.sc\u001b[39m:\u001b[32m5\u001b[39m)\n  ammonite.$sess.cmd49$Helper.sum(\u001b[32mcmd49.sc\u001b[39m:\u001b[32m5\u001b[39m)\n  ammonite.$sess.cmd49$Helper.sum(\u001b[32mcmd49.sc\u001b[39m:\u001b[32m5\u001b[39m)\n  ammonite.$sess.cmd49$Helper.sum(\u001b[32mcmd49.sc\u001b[39m:\u001b[32m5\u001b[39m)\n  ammonite.$sess.cmd49$Helper.sum(\u001b[32mcmd49.sc\u001b[39m:\u001b[32m5\u001b[39m)\n  ammonite.$sess.cmd49$Helper.sum(\u001b[32mcmd49.sc\u001b[39m:\u001b[32m5\u001b[39m)\n  ammonite.$sess.cmd49$Helper.sum(\u001b[32mcmd49.sc\u001b[39m:\u001b[32m5\u001b[39m)\n  ammonite.$sess.cmd49$Helper.sum(\u001b[32mcmd49.sc\u001b[39m:\u001b[32m5\u001b[39m)\n  ammonite.$sess.cmd49$Helper.sum(\u001b[32mcmd49.sc\u001b[39m:\u001b[32m5\u001b[39m)\n  ammonite.$sess.cmd49$Helper.sum(\u001b[32mcmd49.sc\u001b[39m:\u001b[32m5\u001b[39m)\n  ammonite.$sess.cmd49$Helper.sum(\u001b[32mcmd49.sc\u001b[39m:\u001b[32m5\u001b[39m)\n  ammonite.$sess.cmd49$Helper.sum(\u001b[32mcmd49.sc\u001b[39m:\u001b[32m5\u001b[39m)\n  ammonite.$sess.cmd49$Helper.sum(\u001b[32mcmd49.sc\u001b[39m:\u001b[32m5\u001b[39m)\n  ammonite.$sess.cmd49$Helper.sum(\u001b[32mcmd49.sc\u001b[39m:\u001b[32m5\u001b[39m)\n  ammonite.$sess.cmd49$Helper.sum(\u001b[32mcmd49.sc\u001b[39m:\u001b[32m5\u001b[39m)\n  ammonite.$sess.cmd49$Helper.sum(\u001b[32mcmd49.sc\u001b[39m:\u001b[32m5\u001b[39m)\n  ammonite.$sess.cmd49$Helper.sum(\u001b[32mcmd49.sc\u001b[39m:\u001b[32m5\u001b[39m)\n  ammonite.$sess.cmd49$Helper.sum(\u001b[32mcmd49.sc\u001b[39m:\u001b[32m5\u001b[39m)\n  ammonite.$sess.cmd49$Helper.sum(\u001b[32mcmd49.sc\u001b[39m:\u001b[32m5\u001b[39m)\n  ammonite.$sess.cmd49$Helper.sum(\u001b[32mcmd49.sc\u001b[39m:\u001b[32m5\u001b[39m)\n  ammonite.$sess.cmd49$Helper.sum(\u001b[32mcmd49.sc\u001b[39m:\u001b[32m5\u001b[39m)\n  ammonite.$sess.cmd49$Helper.sum(\u001b[32mcmd49.sc\u001b[39m:\u001b[32m5\u001b[39m)\n  ammonite.$sess.cmd49$Helper.sum(\u001b[32mcmd49.sc\u001b[39m:\u001b[32m5\u001b[39m)\n  ammonite.$sess.cmd49$Helper.sum(\u001b[32mcmd49.sc\u001b[39m:\u001b[32m5\u001b[39m)\n  ammonite.$sess.cmd49$Helper.sum(\u001b[32mcmd49.sc\u001b[39m:\u001b[32m5\u001b[39m)\n  ammonite.$sess.cmd49$Helper.sum(\u001b[32mcmd49.sc\u001b[39m:\u001b[32m5\u001b[39m)\n  ammonite.$sess.cmd49$Helper.sum(\u001b[32mcmd49.sc\u001b[39m:\u001b[32m5\u001b[39m)\n  ammonite.$sess.cmd49$Helper.sum(\u001b[32mcmd49.sc\u001b[39m:\u001b[32m5\u001b[39m)\n  ammonite.$sess.cmd49$Helper.sum(\u001b[32mcmd49.sc\u001b[39m:\u001b[32m5\u001b[39m)\n  ammonite.$sess.cmd49$Helper.sum(\u001b[32mcmd49.sc\u001b[39m:\u001b[32m5\u001b[39m)\n  ammonite.$sess.cmd49$Helper.sum(\u001b[32mcmd49.sc\u001b[39m:\u001b[32m5\u001b[39m)\n  ammonite.$sess.cmd49$Helper.sum(\u001b[32mcmd49.sc\u001b[39m:\u001b[32m5\u001b[39m)\n  ammonite.$sess.cmd49$Helper.sum(\u001b[32mcmd49.sc\u001b[39m:\u001b[32m5\u001b[39m)\n  ammonite.$sess.cmd49$Helper.sum(\u001b[32mcmd49.sc\u001b[39m:\u001b[32m5\u001b[39m)\n  ammonite.$sess.cmd49$Helper.sum(\u001b[32mcmd49.sc\u001b[39m:\u001b[32m5\u001b[39m)\n  ammonite.$sess.cmd49$Helper.sum(\u001b[32mcmd49.sc\u001b[39m:\u001b[32m5\u001b[39m)\n  ammonite.$sess.cmd49$Helper.sum(\u001b[32mcmd49.sc\u001b[39m:\u001b[32m5\u001b[39m)\n  ammonite.$sess.cmd49$Helper.sum(\u001b[32mcmd49.sc\u001b[39m:\u001b[32m5\u001b[39m)\n  ammonite.$sess.cmd49$Helper.sum(\u001b[32mcmd49.sc\u001b[39m:\u001b[32m5\u001b[39m)\n  ammonite.$sess.cmd49$Helper.sum(\u001b[32mcmd49.sc\u001b[39m:\u001b[32m5\u001b[39m)\n  ammonite.$sess.cmd49$Helper.sum(\u001b[32mcmd49.sc\u001b[39m:\u001b[32m5\u001b[39m)\n  ammonite.$sess.cmd49$Helper.sum(\u001b[32mcmd49.sc\u001b[39m:\u001b[32m5\u001b[39m)\n  ammonite.$sess.cmd49$Helper.sum(\u001b[32mcmd49.sc\u001b[39m:\u001b[32m5\u001b[39m)\n  ammonite.$sess.cmd49$Helper.sum(\u001b[32mcmd49.sc\u001b[39m:\u001b[32m5\u001b[39m)\n  ammonite.$sess.cmd49$Helper.sum(\u001b[32mcmd49.sc\u001b[39m:\u001b[32m5\u001b[39m)\n  ammonite.$sess.cmd49$Helper.sum(\u001b[32mcmd49.sc\u001b[39m:\u001b[32m5\u001b[39m)\n  ammonite.$sess.cmd49$Helper.sum(\u001b[32mcmd49.sc\u001b[39m:\u001b[32m5\u001b[39m)\n  ammonite.$sess.cmd49$Helper.sum(\u001b[32mcmd49.sc\u001b[39m:\u001b[32m5\u001b[39m)\n  ammonite.$sess.cmd49$Helper.sum(\u001b[32mcmd49.sc\u001b[39m:\u001b[32m5\u001b[39m)\n  ammonite.$sess.cmd49$Helper.sum(\u001b[32mcmd49.sc\u001b[39m:\u001b[32m5\u001b[39m)\n  ammonite.$sess.cmd49$Helper.sum(\u001b[32mcmd49.sc\u001b[39m:\u001b[32m5\u001b[39m)\n  ammonite.$sess.cmd49$Helper.sum(\u001b[32mcmd49.sc\u001b[39m:\u001b[32m5\u001b[39m)\n  ammonite.$sess.cmd49$Helper.sum(\u001b[32mcmd49.sc\u001b[39m:\u001b[32m5\u001b[39m)\n  ammonite.$sess.cmd49$Helper.sum(\u001b[32mcmd49.sc\u001b[39m:\u001b[32m5\u001b[39m)\n  ammonite.$sess.cmd49$Helper.sum(\u001b[32mcmd49.sc\u001b[39m:\u001b[32m5\u001b[39m)\n  ammonite.$sess.cmd49$Helper.sum(\u001b[32mcmd49.sc\u001b[39m:\u001b[32m5\u001b[39m)\n  ammonite.$sess.cmd49$Helper.sum(\u001b[32mcmd49.sc\u001b[39m:\u001b[32m5\u001b[39m)\n  ammonite.$sess.cmd49$Helper.sum(\u001b[32mcmd49.sc\u001b[39m:\u001b[32m5\u001b[39m)\n  ammonite.$sess.cmd49$Helper.sum(\u001b[32mcmd49.sc\u001b[39m:\u001b[32m5\u001b[39m)\n  ammonite.$sess.cmd49$Helper.sum(\u001b[32mcmd49.sc\u001b[39m:\u001b[32m5\u001b[39m)\n  ammonite.$sess.cmd49$Helper.sum(\u001b[32mcmd49.sc\u001b[39m:\u001b[32m5\u001b[39m)\n  ammonite.$sess.cmd49$Helper.sum(\u001b[32mcmd49.sc\u001b[39m:\u001b[32m5\u001b[39m)\n  ammonite.$sess.cmd49$Helper.sum(\u001b[32mcmd49.sc\u001b[39m:\u001b[32m5\u001b[39m)\n  ammonite.$sess.cmd49$Helper.sum(\u001b[32mcmd49.sc\u001b[39m:\u001b[32m5\u001b[39m)\n  ammonite.$sess.cmd49$Helper.sum(\u001b[32mcmd49.sc\u001b[39m:\u001b[32m5\u001b[39m)\n  ammonite.$sess.cmd49$Helper.sum(\u001b[32mcmd49.sc\u001b[39m:\u001b[32m5\u001b[39m)\n  ammonite.$sess.cmd49$Helper.sum(\u001b[32mcmd49.sc\u001b[39m:\u001b[32m5\u001b[39m)\n  ammonite.$sess.cmd49$Helper.sum(\u001b[32mcmd49.sc\u001b[39m:\u001b[32m5\u001b[39m)\n  ammonite.$sess.cmd49$Helper.sum(\u001b[32mcmd49.sc\u001b[39m:\u001b[32m5\u001b[39m)\n  ammonite.$sess.cmd49$Helper.sum(\u001b[32mcmd49.sc\u001b[39m:\u001b[32m5\u001b[39m)\n  ammonite.$sess.cmd49$Helper.sum(\u001b[32mcmd49.sc\u001b[39m:\u001b[32m5\u001b[39m)\n  ammonite.$sess.cmd49$Helper.sum(\u001b[32mcmd49.sc\u001b[39m:\u001b[32m5\u001b[39m)\n  ammonite.$sess.cmd49$Helper.sum(\u001b[32mcmd49.sc\u001b[39m:\u001b[32m5\u001b[39m)\n  ammonite.$sess.cmd49$Helper.sum(\u001b[32mcmd49.sc\u001b[39m:\u001b[32m5\u001b[39m)\n  ammonite.$sess.cmd49$Helper.sum(\u001b[32mcmd49.sc\u001b[39m:\u001b[32m5\u001b[39m)\n  ammonite.$sess.cmd49$Helper.sum(\u001b[32mcmd49.sc\u001b[39m:\u001b[32m5\u001b[39m)\n  ammonite.$sess.cmd49$Helper.sum(\u001b[32mcmd49.sc\u001b[39m:\u001b[32m5\u001b[39m)\n  ammonite.$sess.cmd49$Helper.sum(\u001b[32mcmd49.sc\u001b[39m:\u001b[32m5\u001b[39m)\n  ammonite.$sess.cmd49$Helper.sum(\u001b[32mcmd49.sc\u001b[39m:\u001b[32m5\u001b[39m)\n  ammonite.$sess.cmd49$Helper.sum(\u001b[32mcmd49.sc\u001b[39m:\u001b[32m5\u001b[39m)\n  ammonite.$sess.cmd49$Helper.sum(\u001b[32mcmd49.sc\u001b[39m:\u001b[32m5\u001b[39m)\n  ammonite.$sess.cmd49$Helper.sum(\u001b[32mcmd49.sc\u001b[39m:\u001b[32m5\u001b[39m)\n  ammonite.$sess.cmd49$Helper.sum(\u001b[32mcmd49.sc\u001b[39m:\u001b[32m5\u001b[39m)\n  ammonite.$sess.cmd49$Helper.sum(\u001b[32mcmd49.sc\u001b[39m:\u001b[32m5\u001b[39m)\n  ammonite.$sess.cmd49$Helper.sum(\u001b[32mcmd49.sc\u001b[39m:\u001b[32m5\u001b[39m)\n  ammonite.$sess.cmd49$Helper.sum(\u001b[32mcmd49.sc\u001b[39m:\u001b[32m5\u001b[39m)\n  ammonite.$sess.cmd49$Helper.sum(\u001b[32mcmd49.sc\u001b[39m:\u001b[32m5\u001b[39m)\n  ammonite.$sess.cmd49$Helper.sum(\u001b[32mcmd49.sc\u001b[39m:\u001b[32m5\u001b[39m)\n  ammonite.$sess.cmd49$Helper.sum(\u001b[32mcmd49.sc\u001b[39m:\u001b[32m5\u001b[39m)\n  ammonite.$sess.cmd49$Helper.sum(\u001b[32mcmd49.sc\u001b[39m:\u001b[32m5\u001b[39m)\n  ammonite.$sess.cmd49$Helper.sum(\u001b[32mcmd49.sc\u001b[39m:\u001b[32m5\u001b[39m)\n  ammonite.$sess.cmd49$Helper.sum(\u001b[32mcmd49.sc\u001b[39m:\u001b[32m5\u001b[39m)\n  ammonite.$sess.cmd49$Helper.sum(\u001b[32mcmd49.sc\u001b[39m:\u001b[32m5\u001b[39m)\n  ammonite.$sess.cmd49$Helper.sum(\u001b[32mcmd49.sc\u001b[39m:\u001b[32m5\u001b[39m)\n  ammonite.$sess.cmd49$Helper.sum(\u001b[32mcmd49.sc\u001b[39m:\u001b[32m5\u001b[39m)\n  ammonite.$sess.cmd49$Helper.sum(\u001b[32mcmd49.sc\u001b[39m:\u001b[32m5\u001b[39m)\n  ammonite.$sess.cmd49$Helper.sum(\u001b[32mcmd49.sc\u001b[39m:\u001b[32m5\u001b[39m)\n  ammonite.$sess.cmd49$Helper.sum(\u001b[32mcmd49.sc\u001b[39m:\u001b[32m5\u001b[39m)\n  ammonite.$sess.cmd49$Helper.sum(\u001b[32mcmd49.sc\u001b[39m:\u001b[32m5\u001b[39m)\n  ammonite.$sess.cmd49$Helper.sum(\u001b[32mcmd49.sc\u001b[39m:\u001b[32m5\u001b[39m)\n  ammonite.$sess.cmd49$Helper.sum(\u001b[32mcmd49.sc\u001b[39m:\u001b[32m5\u001b[39m)\n  ammonite.$sess.cmd49$Helper.sum(\u001b[32mcmd49.sc\u001b[39m:\u001b[32m5\u001b[39m)\n  ammonite.$sess.cmd49$Helper.sum(\u001b[32mcmd49.sc\u001b[39m:\u001b[32m5\u001b[39m)\n  ammonite.$sess.cmd49$Helper.sum(\u001b[32mcmd49.sc\u001b[39m:\u001b[32m5\u001b[39m)\n  ammonite.$sess.cmd49$Helper.sum(\u001b[32mcmd49.sc\u001b[39m:\u001b[32m5\u001b[39m)\n  ammonite.$sess.cmd49$Helper.sum(\u001b[32mcmd49.sc\u001b[39m:\u001b[32m5\u001b[39m)\n  ammonite.$sess.cmd49$Helper.sum(\u001b[32mcmd49.sc\u001b[39m:\u001b[32m5\u001b[39m)\n  ammonite.$sess.cmd49$Helper.sum(\u001b[32mcmd49.sc\u001b[39m:\u001b[32m5\u001b[39m)\n  ammonite.$sess.cmd49$Helper.sum(\u001b[32mcmd49.sc\u001b[39m:\u001b[32m5\u001b[39m)\n  ammonite.$sess.cmd49$Helper.sum(\u001b[32mcmd49.sc\u001b[39m:\u001b[32m5\u001b[39m)\n  ammonite.$sess.cmd49$Helper.sum(\u001b[32mcmd49.sc\u001b[39m:\u001b[32m5\u001b[39m)\n  ammonite.$sess.cmd49$Helper.sum(\u001b[32mcmd49.sc\u001b[39m:\u001b[32m5\u001b[39m)\n  ammonite.$sess.cmd49$Helper.sum(\u001b[32mcmd49.sc\u001b[39m:\u001b[32m5\u001b[39m)\n  ammonite.$sess.cmd49$Helper.sum(\u001b[32mcmd49.sc\u001b[39m:\u001b[32m5\u001b[39m)\n  ammonite.$sess.cmd49$Helper.sum(\u001b[32mcmd49.sc\u001b[39m:\u001b[32m5\u001b[39m)\n  ammonite.$sess.cmd49$Helper.sum(\u001b[32mcmd49.sc\u001b[39m:\u001b[32m5\u001b[39m)\n  ammonite.$sess.cmd49$Helper.sum(\u001b[32mcmd49.sc\u001b[39m:\u001b[32m5\u001b[39m)\n  ammonite.$sess.cmd49$Helper.sum(\u001b[32mcmd49.sc\u001b[39m:\u001b[32m5\u001b[39m)\n  ammonite.$sess.cmd49$Helper.sum(\u001b[32mcmd49.sc\u001b[39m:\u001b[32m5\u001b[39m)\n  ammonite.$sess.cmd49$Helper.sum(\u001b[32mcmd49.sc\u001b[39m:\u001b[32m5\u001b[39m)\n  ammonite.$sess.cmd49$Helper.sum(\u001b[32mcmd49.sc\u001b[39m:\u001b[32m5\u001b[39m)\n  ammonite.$sess.cmd49$Helper.sum(\u001b[32mcmd49.sc\u001b[39m:\u001b[32m5\u001b[39m)\n  ammonite.$sess.cmd49$Helper.sum(\u001b[32mcmd49.sc\u001b[39m:\u001b[32m5\u001b[39m)\n  ammonite.$sess.cmd49$Helper.sum(\u001b[32mcmd49.sc\u001b[39m:\u001b[32m5\u001b[39m)\n  ammonite.$sess.cmd49$Helper.sum(\u001b[32mcmd49.sc\u001b[39m:\u001b[32m5\u001b[39m)\n  ammonite.$sess.cmd49$Helper.sum(\u001b[32mcmd49.sc\u001b[39m:\u001b[32m5\u001b[39m)\n  ammonite.$sess.cmd49$Helper.sum(\u001b[32mcmd49.sc\u001b[39m:\u001b[32m5\u001b[39m)\n  ammonite.$sess.cmd49$Helper.sum(\u001b[32mcmd49.sc\u001b[39m:\u001b[32m5\u001b[39m)\n  ammonite.$sess.cmd49$Helper.sum(\u001b[32mcmd49.sc\u001b[39m:\u001b[32m5\u001b[39m)\n  ammonite.$sess.cmd49$Helper.sum(\u001b[32mcmd49.sc\u001b[39m:\u001b[32m5\u001b[39m)\n  ammonite.$sess.cmd49$Helper.sum(\u001b[32mcmd49.sc\u001b[39m:\u001b[32m5\u001b[39m)\n  ammonite.$sess.cmd49$Helper.sum(\u001b[32mcmd49.sc\u001b[39m:\u001b[32m5\u001b[39m)\n  ammonite.$sess.cmd49$Helper.sum(\u001b[32mcmd49.sc\u001b[39m:\u001b[32m5\u001b[39m)\n  ammonite.$sess.cmd49$Helper.sum(\u001b[32mcmd49.sc\u001b[39m:\u001b[32m5\u001b[39m)\n  ammonite.$sess.cmd49$Helper.sum(\u001b[32mcmd49.sc\u001b[39m:\u001b[32m5\u001b[39m)\n  ammonite.$sess.cmd49$Helper.sum(\u001b[32mcmd49.sc\u001b[39m:\u001b[32m5\u001b[39m)\n  ammonite.$sess.cmd49$Helper.sum(\u001b[32mcmd49.sc\u001b[39m:\u001b[32m5\u001b[39m)\n  ammonite.$sess.cmd49$Helper.sum(\u001b[32mcmd49.sc\u001b[39m:\u001b[32m5\u001b[39m)\n  ammonite.$sess.cmd49$Helper.sum(\u001b[32mcmd49.sc\u001b[39m:\u001b[32m5\u001b[39m)\n  ammonite.$sess.cmd49$Helper.sum(\u001b[32mcmd49.sc\u001b[39m:\u001b[32m5\u001b[39m)\n  ammonite.$sess.cmd49$Helper.sum(\u001b[32mcmd49.sc\u001b[39m:\u001b[32m5\u001b[39m)\n  ammonite.$sess.cmd49$Helper.sum(\u001b[32mcmd49.sc\u001b[39m:\u001b[32m5\u001b[39m)\n  ammonite.$sess.cmd49$Helper.sum(\u001b[32mcmd49.sc\u001b[39m:\u001b[32m5\u001b[39m)\n  ammonite.$sess.cmd49$Helper.sum(\u001b[32mcmd49.sc\u001b[39m:\u001b[32m5\u001b[39m)\n  ammonite.$sess.cmd49$Helper.sum(\u001b[32mcmd49.sc\u001b[39m:\u001b[32m5\u001b[39m)\n  ammonite.$sess.cmd49$Helper.sum(\u001b[32mcmd49.sc\u001b[39m:\u001b[32m5\u001b[39m)\n  ammonite.$sess.cmd49$Helper.sum(\u001b[32mcmd49.sc\u001b[39m:\u001b[32m5\u001b[39m)\n  ammonite.$sess.cmd49$Helper.sum(\u001b[32mcmd49.sc\u001b[39m:\u001b[32m5\u001b[39m)\n  ammonite.$sess.cmd49$Helper.sum(\u001b[32mcmd49.sc\u001b[39m:\u001b[32m5\u001b[39m)\n  ammonite.$sess.cmd49$Helper.sum(\u001b[32mcmd49.sc\u001b[39m:\u001b[32m5\u001b[39m)\n  ammonite.$sess.cmd49$Helper.sum(\u001b[32mcmd49.sc\u001b[39m:\u001b[32m5\u001b[39m)\n  ammonite.$sess.cmd49$Helper.sum(\u001b[32mcmd49.sc\u001b[39m:\u001b[32m5\u001b[39m)\n  ammonite.$sess.cmd49$Helper.sum(\u001b[32mcmd49.sc\u001b[39m:\u001b[32m5\u001b[39m)\n  ammonite.$sess.cmd49$Helper.sum(\u001b[32mcmd49.sc\u001b[39m:\u001b[32m5\u001b[39m)\n  ammonite.$sess.cmd49$Helper.sum(\u001b[32mcmd49.sc\u001b[39m:\u001b[32m5\u001b[39m)\n  ammonite.$sess.cmd49$Helper.sum(\u001b[32mcmd49.sc\u001b[39m:\u001b[32m5\u001b[39m)\n  ammonite.$sess.cmd49$Helper.sum(\u001b[32mcmd49.sc\u001b[39m:\u001b[32m5\u001b[39m)\n  ammonite.$sess.cmd49$Helper.sum(\u001b[32mcmd49.sc\u001b[39m:\u001b[32m5\u001b[39m)\n  ammonite.$sess.cmd49$Helper.sum(\u001b[32mcmd49.sc\u001b[39m:\u001b[32m5\u001b[39m)\n  ammonite.$sess.cmd49$Helper.sum(\u001b[32mcmd49.sc\u001b[39m:\u001b[32m5\u001b[39m)\n  ammonite.$sess.cmd49$Helper.sum(\u001b[32mcmd49.sc\u001b[39m:\u001b[32m5\u001b[39m)\n  ammonite.$sess.cmd49$Helper.sum(\u001b[32mcmd49.sc\u001b[39m:\u001b[32m5\u001b[39m)\n  ammonite.$sess.cmd49$Helper.sum(\u001b[32mcmd49.sc\u001b[39m:\u001b[32m5\u001b[39m)\n  ammonite.$sess.cmd49$Helper.sum(\u001b[32mcmd49.sc\u001b[39m:\u001b[32m5\u001b[39m)\n  ammonite.$sess.cmd49$Helper.sum(\u001b[32mcmd49.sc\u001b[39m:\u001b[32m5\u001b[39m)\n  ammonite.$sess.cmd49$Helper.sum(\u001b[32mcmd49.sc\u001b[39m:\u001b[32m5\u001b[39m)\n  ammonite.$sess.cmd49$Helper.sum(\u001b[32mcmd49.sc\u001b[39m:\u001b[32m5\u001b[39m)\n  ammonite.$sess.cmd49$Helper.sum(\u001b[32mcmd49.sc\u001b[39m:\u001b[32m5\u001b[39m)\n  ammonite.$sess.cmd49$Helper.sum(\u001b[32mcmd49.sc\u001b[39m:\u001b[32m5\u001b[39m)\n  ammonite.$sess.cmd49$Helper.sum(\u001b[32mcmd49.sc\u001b[39m:\u001b[32m5\u001b[39m)\n  ammonite.$sess.cmd49$Helper.sum(\u001b[32mcmd49.sc\u001b[39m:\u001b[32m5\u001b[39m)\n  ammonite.$sess.cmd49$Helper.sum(\u001b[32mcmd49.sc\u001b[39m:\u001b[32m5\u001b[39m)\n  ammonite.$sess.cmd49$Helper.sum(\u001b[32mcmd49.sc\u001b[39m:\u001b[32m5\u001b[39m)\n  ammonite.$sess.cmd49$Helper.sum(\u001b[32mcmd49.sc\u001b[39m:\u001b[32m5\u001b[39m)\n  ammonite.$sess.cmd49$Helper.sum(\u001b[32mcmd49.sc\u001b[39m:\u001b[32m5\u001b[39m)\n  ammonite.$sess.cmd49$Helper.sum(\u001b[32mcmd49.sc\u001b[39m:\u001b[32m5\u001b[39m)\n  ammonite.$sess.cmd49$Helper.sum(\u001b[32mcmd49.sc\u001b[39m:\u001b[32m5\u001b[39m)\n  ammonite.$sess.cmd49$Helper.sum(\u001b[32mcmd49.sc\u001b[39m:\u001b[32m5\u001b[39m)\n  ammonite.$sess.cmd49$Helper.sum(\u001b[32mcmd49.sc\u001b[39m:\u001b[32m5\u001b[39m)\n  ammonite.$sess.cmd49$Helper.sum(\u001b[32mcmd49.sc\u001b[39m:\u001b[32m5\u001b[39m)\n  ammonite.$sess.cmd49$Helper.sum(\u001b[32mcmd49.sc\u001b[39m:\u001b[32m5\u001b[39m)\n  ammonite.$sess.cmd49$Helper.sum(\u001b[32mcmd49.sc\u001b[39m:\u001b[32m5\u001b[39m)\n  ammonite.$sess.cmd49$Helper.sum(\u001b[32mcmd49.sc\u001b[39m:\u001b[32m5\u001b[39m)\n  ammonite.$sess.cmd49$Helper.sum(\u001b[32mcmd49.sc\u001b[39m:\u001b[32m5\u001b[39m)\n  ammonite.$sess.cmd49$Helper.sum(\u001b[32mcmd49.sc\u001b[39m:\u001b[32m5\u001b[39m)\n  ammonite.$sess.cmd49$Helper.sum(\u001b[32mcmd49.sc\u001b[39m:\u001b[32m5\u001b[39m)\n  ammonite.$sess.cmd49$Helper.sum(\u001b[32mcmd49.sc\u001b[39m:\u001b[32m5\u001b[39m)\n  ammonite.$sess.cmd49$Helper.sum(\u001b[32mcmd49.sc\u001b[39m:\u001b[32m5\u001b[39m)\n  ammonite.$sess.cmd49$Helper.sum(\u001b[32mcmd49.sc\u001b[39m:\u001b[32m5\u001b[39m)\n  ammonite.$sess.cmd49$Helper.sum(\u001b[32mcmd49.sc\u001b[39m:\u001b[32m5\u001b[39m)\n  ammonite.$sess.cmd49$Helper.sum(\u001b[32mcmd49.sc\u001b[39m:\u001b[32m5\u001b[39m)\n  ammonite.$sess.cmd49$Helper.sum(\u001b[32mcmd49.sc\u001b[39m:\u001b[32m5\u001b[39m)\n  ammonite.$sess.cmd49$Helper.sum(\u001b[32mcmd49.sc\u001b[39m:\u001b[32m5\u001b[39m)\n  ammonite.$sess.cmd49$Helper.sum(\u001b[32mcmd49.sc\u001b[39m:\u001b[32m5\u001b[39m)\n  ammonite.$sess.cmd49$Helper.sum(\u001b[32mcmd49.sc\u001b[39m:\u001b[32m5\u001b[39m)\n  ammonite.$sess.cmd49$Helper.sum(\u001b[32mcmd49.sc\u001b[39m:\u001b[32m5\u001b[39m)\n  ammonite.$sess.cmd49$Helper.sum(\u001b[32mcmd49.sc\u001b[39m:\u001b[32m5\u001b[39m)\n  ammonite.$sess.cmd49$Helper.sum(\u001b[32mcmd49.sc\u001b[39m:\u001b[32m5\u001b[39m)\n  ammonite.$sess.cmd49$Helper.sum(\u001b[32mcmd49.sc\u001b[39m:\u001b[32m5\u001b[39m)\n  ammonite.$sess.cmd49$Helper.sum(\u001b[32mcmd49.sc\u001b[39m:\u001b[32m5\u001b[39m)\n  ammonite.$sess.cmd49$Helper.sum(\u001b[32mcmd49.sc\u001b[39m:\u001b[32m5\u001b[39m)\n  ammonite.$sess.cmd49$Helper.sum(\u001b[32mcmd49.sc\u001b[39m:\u001b[32m5\u001b[39m)\n  ammonite.$sess.cmd49$Helper.sum(\u001b[32mcmd49.sc\u001b[39m:\u001b[32m5\u001b[39m)\n  ammonite.$sess.cmd49$Helper.sum(\u001b[32mcmd49.sc\u001b[39m:\u001b[32m5\u001b[39m)\n  ammonite.$sess.cmd49$Helper.sum(\u001b[32mcmd49.sc\u001b[39m:\u001b[32m5\u001b[39m)\n  ammonite.$sess.cmd49$Helper.sum(\u001b[32mcmd49.sc\u001b[39m:\u001b[32m5\u001b[39m)\n  ammonite.$sess.cmd49$Helper.sum(\u001b[32mcmd49.sc\u001b[39m:\u001b[32m5\u001b[39m)\n  ammonite.$sess.cmd49$Helper.sum(\u001b[32mcmd49.sc\u001b[39m:\u001b[32m5\u001b[39m)\n  ammonite.$sess.cmd49$Helper.sum(\u001b[32mcmd49.sc\u001b[39m:\u001b[32m5\u001b[39m)\n  ammonite.$sess.cmd49$Helper.sum(\u001b[32mcmd49.sc\u001b[39m:\u001b[32m5\u001b[39m)\n  ammonite.$sess.cmd49$Helper.sum(\u001b[32mcmd49.sc\u001b[39m:\u001b[32m5\u001b[39m)\n  ammonite.$sess.cmd49$Helper.sum(\u001b[32mcmd49.sc\u001b[39m:\u001b[32m5\u001b[39m)\n  ammonite.$sess.cmd49$Helper.sum(\u001b[32mcmd49.sc\u001b[39m:\u001b[32m5\u001b[39m)\n  ammonite.$sess.cmd49$Helper.sum(\u001b[32mcmd49.sc\u001b[39m:\u001b[32m5\u001b[39m)\n  ammonite.$sess.cmd49$Helper.sum(\u001b[32mcmd49.sc\u001b[39m:\u001b[32m5\u001b[39m)\n  ammonite.$sess.cmd49$Helper.sum(\u001b[32mcmd49.sc\u001b[39m:\u001b[32m5\u001b[39m)\n  ammonite.$sess.cmd49$Helper.sum(\u001b[32mcmd49.sc\u001b[39m:\u001b[32m5\u001b[39m)\n  ammonite.$sess.cmd49$Helper.sum(\u001b[32mcmd49.sc\u001b[39m:\u001b[32m5\u001b[39m)\n  ammonite.$sess.cmd49$Helper.sum(\u001b[32mcmd49.sc\u001b[39m:\u001b[32m5\u001b[39m)\n  ammonite.$sess.cmd49$Helper.sum(\u001b[32mcmd49.sc\u001b[39m:\u001b[32m5\u001b[39m)\n  ammonite.$sess.cmd49$Helper.sum(\u001b[32mcmd49.sc\u001b[39m:\u001b[32m5\u001b[39m)\n  ammonite.$sess.cmd49$Helper.sum(\u001b[32mcmd49.sc\u001b[39m:\u001b[32m5\u001b[39m)\n  ammonite.$sess.cmd49$Helper.sum(\u001b[32mcmd49.sc\u001b[39m:\u001b[32m5\u001b[39m)\n  ammonite.$sess.cmd49$Helper.sum(\u001b[32mcmd49.sc\u001b[39m:\u001b[32m5\u001b[39m)\n  ammonite.$sess.cmd49$Helper.sum(\u001b[32mcmd49.sc\u001b[39m:\u001b[32m5\u001b[39m)\n  ammonite.$sess.cmd49$Helper.sum(\u001b[32mcmd49.sc\u001b[39m:\u001b[32m5\u001b[39m)\n  ammonite.$sess.cmd49$Helper.sum(\u001b[32mcmd49.sc\u001b[39m:\u001b[32m5\u001b[39m)\n  ammonite.$sess.cmd49$Helper.sum(\u001b[32mcmd49.sc\u001b[39m:\u001b[32m5\u001b[39m)\n  ammonite.$sess.cmd49$Helper.sum(\u001b[32mcmd49.sc\u001b[39m:\u001b[32m5\u001b[39m)\n  ammonite.$sess.cmd49$Helper.sum(\u001b[32mcmd49.sc\u001b[39m:\u001b[32m5\u001b[39m)\n  ammonite.$sess.cmd49$Helper.sum(\u001b[32mcmd49.sc\u001b[39m:\u001b[32m5\u001b[39m)\n  ammonite.$sess.cmd49$Helper.sum(\u001b[32mcmd49.sc\u001b[39m:\u001b[32m5\u001b[39m)\n  ammonite.$sess.cmd49$Helper.sum(\u001b[32mcmd49.sc\u001b[39m:\u001b[32m5\u001b[39m)\n  ammonite.$sess.cmd49$Helper.sum(\u001b[32mcmd49.sc\u001b[39m:\u001b[32m5\u001b[39m)\n  ammonite.$sess.cmd49$Helper.sum(\u001b[32mcmd49.sc\u001b[39m:\u001b[32m5\u001b[39m)\n  ammonite.$sess.cmd49$Helper.sum(\u001b[32mcmd49.sc\u001b[39m:\u001b[32m5\u001b[39m)\n  ammonite.$sess.cmd49$Helper.sum(\u001b[32mcmd49.sc\u001b[39m:\u001b[32m5\u001b[39m)\n  ammonite.$sess.cmd49$Helper.sum(\u001b[32mcmd49.sc\u001b[39m:\u001b[32m5\u001b[39m)\n  ammonite.$sess.cmd49$Helper.sum(\u001b[32mcmd49.sc\u001b[39m:\u001b[32m5\u001b[39m)\n  ammonite.$sess.cmd49$Helper.sum(\u001b[32mcmd49.sc\u001b[39m:\u001b[32m5\u001b[39m)\n  ammonite.$sess.cmd49$Helper.sum(\u001b[32mcmd49.sc\u001b[39m:\u001b[32m5\u001b[39m)\n  ammonite.$sess.cmd49$Helper.sum(\u001b[32mcmd49.sc\u001b[39m:\u001b[32m5\u001b[39m)\n  ammonite.$sess.cmd49$Helper.sum(\u001b[32mcmd49.sc\u001b[39m:\u001b[32m5\u001b[39m)\n  ammonite.$sess.cmd49$Helper.sum(\u001b[32mcmd49.sc\u001b[39m:\u001b[32m5\u001b[39m)\n  ammonite.$sess.cmd49$Helper.sum(\u001b[32mcmd49.sc\u001b[39m:\u001b[32m5\u001b[39m)\n  ammonite.$sess.cmd49$Helper.sum(\u001b[32mcmd49.sc\u001b[39m:\u001b[32m5\u001b[39m)\n  ammonite.$sess.cmd49$Helper.sum(\u001b[32mcmd49.sc\u001b[39m:\u001b[32m5\u001b[39m)\n  ammonite.$sess.cmd49$Helper.sum(\u001b[32mcmd49.sc\u001b[39m:\u001b[32m5\u001b[39m)\n  ammonite.$sess.cmd49$Helper.sum(\u001b[32mcmd49.sc\u001b[39m:\u001b[32m5\u001b[39m)\n  ammonite.$sess.cmd49$Helper.sum(\u001b[32mcmd49.sc\u001b[39m:\u001b[32m5\u001b[39m)\n  ammonite.$sess.cmd49$Helper.sum(\u001b[32mcmd49.sc\u001b[39m:\u001b[32m5\u001b[39m)\n  ammonite.$sess.cmd49$Helper.sum(\u001b[32mcmd49.sc\u001b[39m:\u001b[32m5\u001b[39m)\n  ammonite.$sess.cmd49$Helper.sum(\u001b[32mcmd49.sc\u001b[39m:\u001b[32m5\u001b[39m)\n  ammonite.$sess.cmd49$Helper.sum(\u001b[32mcmd49.sc\u001b[39m:\u001b[32m5\u001b[39m)\n  ammonite.$sess.cmd49$Helper.sum(\u001b[32mcmd49.sc\u001b[39m:\u001b[32m5\u001b[39m)\n  ammonite.$sess.cmd49$Helper.sum(\u001b[32mcmd49.sc\u001b[39m:\u001b[32m5\u001b[39m)\n  ammonite.$sess.cmd49$Helper.sum(\u001b[32mcmd49.sc\u001b[39m:\u001b[32m5\u001b[39m)\n  ammonite.$sess.cmd49$Helper.sum(\u001b[32mcmd49.sc\u001b[39m:\u001b[32m5\u001b[39m)\n  ammonite.$sess.cmd49$Helper.sum(\u001b[32mcmd49.sc\u001b[39m:\u001b[32m5\u001b[39m)\n  ammonite.$sess.cmd49$Helper.sum(\u001b[32mcmd49.sc\u001b[39m:\u001b[32m5\u001b[39m)\n  ammonite.$sess.cmd49$Helper.sum(\u001b[32mcmd49.sc\u001b[39m:\u001b[32m5\u001b[39m)\n  ammonite.$sess.cmd49$Helper.sum(\u001b[32mcmd49.sc\u001b[39m:\u001b[32m5\u001b[39m)\n  ammonite.$sess.cmd49$Helper.sum(\u001b[32mcmd49.sc\u001b[39m:\u001b[32m5\u001b[39m)\n  ammonite.$sess.cmd49$Helper.sum(\u001b[32mcmd49.sc\u001b[39m:\u001b[32m5\u001b[39m)\n  ammonite.$sess.cmd49$Helper.sum(\u001b[32mcmd49.sc\u001b[39m:\u001b[32m5\u001b[39m)\n  ammonite.$sess.cmd49$Helper.sum(\u001b[32mcmd49.sc\u001b[39m:\u001b[32m5\u001b[39m)\n  ammonite.$sess.cmd49$Helper.sum(\u001b[32mcmd49.sc\u001b[39m:\u001b[32m5\u001b[39m)\n  ammonite.$sess.cmd49$Helper.sum(\u001b[32mcmd49.sc\u001b[39m:\u001b[32m5\u001b[39m)\n  ammonite.$sess.cmd49$Helper.sum(\u001b[32mcmd49.sc\u001b[39m:\u001b[32m5\u001b[39m)\n  ammonite.$sess.cmd49$Helper.sum(\u001b[32mcmd49.sc\u001b[39m:\u001b[32m5\u001b[39m)"
          ]
        }
      ]
    },
    {
      "cell_type": "code",
      "source": [
        "def sumTR(n: Int, total: Long = 0): Long =\n",
        "    if (n <= 0)\n",
        "        total\n",
        "    else\n",
        "        sumTR(n - 1, total + n)"
      ],
      "metadata": {
        "colab": {
          "base_uri": "https://localhost:8080/"
        },
        "id": "bY0LdKof9gCF",
        "outputId": "2812e899-65b9-497d-9953-51bc8901ffa0"
      },
      "execution_count": null,
      "outputs": [
        {
          "output_type": "execute_result",
          "data": {
            "text/plain": [
              "defined \u001b[32mfunction\u001b[39m \u001b[36msumTR\u001b[39m"
            ]
          },
          "metadata": {},
          "execution_count": 52
        }
      ]
    },
    {
      "cell_type": "code",
      "source": [
        "println(sumTR(1000000))\n"
      ],
      "metadata": {
        "colab": {
          "base_uri": "https://localhost:8080/"
        },
        "id": "D6RKPvUR9kDO",
        "outputId": "abc89b76-27d8-449a-c061-b047bc686744"
      },
      "execution_count": null,
      "outputs": [
        {
          "output_type": "stream",
          "name": "stdout",
          "text": [
            "500000500000\n"
          ]
        }
      ]
    },
    {
      "cell_type": "code",
      "source": [
        ""
      ],
      "metadata": {
        "id": "_2m29xhY9kM0"
      },
      "execution_count": null,
      "outputs": []
    },
    {
      "cell_type": "markdown",
      "metadata": {
        "id": "bcOQMt9ScBOD"
      },
      "source": [
        "#Getting Started With Functional Programming"
      ]
    },
    {
      "cell_type": "markdown",
      "metadata": {
        "id": "I7kJoS3_cM1s"
      },
      "source": [
        "En Scala, las funciones son objetos también. Pueden ser pasadas como cualquier otro valor, asignarse a variables o almacenarse en estructuras de datos."
      ]
    },
    {
      "cell_type": "code",
      "execution_count": null,
      "metadata": {
        "id": "Ige0sVY5cMY8",
        "colab": {
          "base_uri": "https://localhost:8080/"
        },
        "outputId": "450c1b78-ba38-40ae-dbd1-4b4bda6f58da"
      },
      "outputs": [
        {
          "output_type": "execute_result",
          "data": {
            "text/plain": [
              "defined \u001b[32mfunction\u001b[39m \u001b[36mfactorial\u001b[39m\n",
              "defined \u001b[32mfunction\u001b[39m \u001b[36mabs\u001b[39m"
            ]
          },
          "metadata": {},
          "execution_count": 21
        }
      ],
      "source": [
        "def factorial(n: Int): Int = {\n",
        " def go(n: Int, acc: Int): Int =\n",
        " if (n <= 0) acc\n",
        " else go(n-1, n*acc)\n",
        " go(n, 1)\n",
        "}\n",
        "def abs(n: Int): Int =\n",
        " if (n < 0) -n\n",
        " else n"
      ]
    },
    {
      "cell_type": "code",
      "execution_count": null,
      "metadata": {
        "id": "3ljwHzhzdu6K",
        "colab": {
          "base_uri": "https://localhost:8080/"
        },
        "outputId": "b3ffd5df-08db-462e-dcd5-e36c7b610108"
      },
      "outputs": [
        {
          "output_type": "execute_result",
          "data": {
            "text/plain": [
              "\u001b[36mres21\u001b[39m: \u001b[32mInt\u001b[39m = \u001b[32m3628800\u001b[39m"
            ]
          },
          "metadata": {},
          "execution_count": 22
        }
      ],
      "source": [
        "factorial(10)"
      ]
    },
    {
      "cell_type": "markdown",
      "metadata": {
        "id": "8L5QHjyzeCrr"
      },
      "source": [
        "En programación funcional, es tan frecuente hablar de funciones que se debe tener una manera ligera de declarar una función, sin tener que darle nombre."
      ]
    },
    {
      "cell_type": "code",
      "execution_count": null,
      "metadata": {
        "id": "u9RQpbMFev4Y",
        "colab": {
          "base_uri": "https://localhost:8080/"
        },
        "outputId": "356de153-e35f-4d06-b2ae-c133d97a4c27"
      },
      "outputs": [
        {
          "output_type": "execute_result",
          "data": {
            "text/plain": [
              "defined \u001b[32mfunction\u001b[39m \u001b[36mformatResult\u001b[39m"
            ]
          },
          "metadata": {},
          "execution_count": 23
        }
      ],
      "source": [
        "def formatResult(name: String, n: Int, f: Int => Int) = {\n",
        " val msg = \"The %s of %d is %d.\"\n",
        " msg.format(name,n, f(n))\n",
        "}\n"
      ]
    },
    {
      "cell_type": "code",
      "execution_count": null,
      "metadata": {
        "id": "7R-6oea_ebBY",
        "colab": {
          "base_uri": "https://localhost:8080/"
        },
        "outputId": "c6697c99-1a42-4c76-adf1-54a63ff33fed"
      },
      "outputs": [
        {
          "output_type": "stream",
          "name": "stdout",
          "text": [
            "The absolute value of -42 is 42.\n",
            "The factorial of 7 is 5040.\n"
          ]
        }
      ],
      "source": [
        " println(formatResult(\"absolute value\", -42, abs))\n",
        " println(formatResult(\"factorial\", 7, factorial))"
      ]
    },
    {
      "cell_type": "code",
      "execution_count": null,
      "metadata": {
        "id": "NEMjzIs6h7TV",
        "colab": {
          "base_uri": "https://localhost:8080/"
        },
        "outputId": "78785c38-50f3-4630-c406-1d15467736e7"
      },
      "outputs": [
        {
          "output_type": "stream",
          "name": "stdout",
          "text": [
            "The increment of 7 is 8.\n",
            "The increment2 of 7 is 8.\n",
            "The increment3 of 7 is 8.\n",
            "The increment4 of 7 is 8.\n",
            "The increment5 of 7 is 8.\n"
          ]
        }
      ],
      "source": [
        " println(formatResult(\"increment\", 7, (x: Int) => x + 1))\n",
        " println(formatResult(\"increment2\", 7, (x) => x + 1))\n",
        " println(formatResult(\"increment3\", 7, x => x + 1))\n",
        " println(formatResult(\"increment4\", 7, _ + 1))\n",
        " println(formatResult(\"increment5\", 7, x => { val r = x + 1; r }))"
      ]
    },
    {
      "cell_type": "markdown",
      "metadata": {
        "id": "NCGDnL2tqSU9"
      },
      "source": [
        "#Functional data structures"
      ]
    },
    {
      "cell_type": "markdown",
      "metadata": {
        "id": "GHCGqesPqW_u"
      },
      "source": [
        "Una estructura de datos funcional se maneja sólo con funciones puras. Por lo tanto, las estructuras de datos funcionales son inmutables."
      ]
    },
    {
      "cell_type": "code",
      "execution_count": null,
      "metadata": {
        "id": "pgHJkwWxqnr1",
        "colab": {
          "base_uri": "https://localhost:8080/"
        },
        "outputId": "e47473e6-2231-4e32-870c-49e6622cbf2f"
      },
      "outputs": [
        {
          "output_type": "execute_result",
          "data": {
            "text/plain": [
              "defined \u001b[32mtrait\u001b[39m \u001b[36mList\u001b[39m\n",
              "defined \u001b[32mobject\u001b[39m \u001b[36mNil\u001b[39m\n",
              "defined \u001b[32mclass\u001b[39m \u001b[36mCons\u001b[39m\n",
              "defined \u001b[32mobject\u001b[39m \u001b[36mList\u001b[39m"
            ]
          },
          "metadata": {},
          "execution_count": 26
        }
      ],
      "source": [
        "\n",
        "sealed trait List[+A]\n",
        "case object Nil extends List[Nothing]\n",
        "case class Cons[+A](head: A, tail: List[A]) extends List[A]\n",
        "\n",
        "object List {\n",
        "    def sum(ints: List[Int]): Int = ints match {\n",
        "      case Nil => 0\n",
        "      case Cons(x,xs) => x + sum(xs)\n",
        "    }\n",
        "    def product(ds: List[Double]): Double = ds match {\n",
        "      case Nil => 1.0\n",
        "      case Cons(0.0, _) => 0.0\n",
        "      case Cons(x,xs) => x * product(xs)\n",
        "    }\n",
        "    def apply[A](as: A*): List[A] =\n",
        "    if (as.isEmpty) Nil\n",
        "    else Cons(as.head, apply(as.tail: _*))\n",
        "    val example = Cons(1, Cons(2, Cons(3, Nil)))\n",
        "    val example2 = List(1,2,3)\n",
        "    val total = sum(example)\n",
        "}\n"
      ]
    },
    {
      "cell_type": "markdown",
      "metadata": {
        "id": "UbKhpO54q-JC"
      },
      "source": [
        "Un *trait* es una interface abstracta que puede implementar algunos métodos."
      ]
    },
    {
      "cell_type": "markdown",
      "metadata": {
        "id": "nbgTntKiNs7d"
      },
      "source": [
        "# Handling errors without exceptions\n",
        "\n",
        "Consideremos el siguiente ejemplo:"
      ]
    },
    {
      "cell_type": "code",
      "execution_count": null,
      "metadata": {
        "id": "0Cl_aJmsNs7d",
        "colab": {
          "base_uri": "https://localhost:8080/"
        },
        "outputId": "4ba48bba-57ab-44f4-cc3e-d0759c062cda"
      },
      "outputs": [
        {
          "output_type": "execute_result",
          "data": {
            "text/plain": [
              "defined \u001b[32mfunction\u001b[39m \u001b[36mmean\u001b[39m"
            ]
          },
          "metadata": {},
          "execution_count": 27
        }
      ],
      "source": [
        "def mean(xs: Seq[Double]): Double =\n",
        "  if (xs.isEmpty)\n",
        "    throw new ArithmeticException(\"mean of empty list!\")\n",
        "  else xs.sum / xs.length"
      ]
    },
    {
      "cell_type": "markdown",
      "metadata": {
        "id": "BHOnh9XhNs7d"
      },
      "source": [
        "Es una *función parcial* ya que no está definida para cualquier input, ¿como podríamos manejar este caso sin excepciones?"
      ]
    },
    {
      "cell_type": "markdown",
      "metadata": {
        "id": "UQczqzp_Ns7e"
      },
      "source": [
        "\n",
        "Tenemos varias opciones:\n",
        "\n",
        "1.   Retornemos siempre \n",
        "```\n",
        "xs.sum / xs.length\n",
        "```\n",
        "\n",
        "\n",
        "2.   Que la función reciba un argumento que indique qué hacer\n",
        "```\n",
        "def mean_1(xs: IndexedSeq[Double], onEmpty: Double):\n",
        "```\n",
        "\n"
      ]
    },
    {
      "cell_type": "markdown",
      "metadata": {
        "id": "QdNhDlaBNs7e"
      },
      "source": [
        "Usar el tipo de dato *Option*, con el cual podemos indicar que el resultado de la función puede o no estar definido:"
      ]
    },
    {
      "cell_type": "code",
      "execution_count": null,
      "metadata": {
        "id": "9Bn0hZuTNs7e",
        "colab": {
          "base_uri": "https://localhost:8080/"
        },
        "outputId": "2f7b2f6a-0bae-4152-cf68-d527dd732ff9"
      },
      "outputs": [
        {
          "output_type": "execute_result",
          "data": {
            "text/plain": [
              "defined \u001b[32mfunction\u001b[39m \u001b[36mmean_1\u001b[39m"
            ]
          },
          "metadata": {},
          "execution_count": 28
        }
      ],
      "source": [
        "def mean_1(xs: Seq[Double]): Option[Double] =\n",
        "  if (xs.isEmpty) None\n",
        "  else Some(xs.sum / xs.length)"
      ]
    },
    {
      "cell_type": "markdown",
      "metadata": {
        "id": "1zP6AcI8Ns7e"
      },
      "source": [
        "La función definida ahora es *total*, ¿que más podemos hacer con esto?\n",
        "Veamos las funciones que están disponibles para este tipo:\n",
        "\n",
        "\n",
        "\n",
        "```\n",
        "trait Option[+A] {\n",
        "  def map[B](f: A => B): Option[B]\n",
        "  def flatMap[B](f: A => Option[B]): Option[B]\n",
        "  def getOrElse[B >: A](default: => B): B\n",
        "  def orElse[B >: A](ob: => Option[B]): Option[B]\n",
        "  def filter(f: A => Boolean): Option[A]\n",
        "}\n",
        "```\n",
        "\n"
      ]
    },
    {
      "cell_type": "code",
      "execution_count": null,
      "metadata": {
        "id": "S0_LsRGcNs7e",
        "colab": {
          "base_uri": "https://localhost:8080/"
        },
        "outputId": "0f9f8b08-3993-4a58-b9e7-a4577ae7d78c"
      },
      "outputs": [
        {
          "output_type": "execute_result",
          "data": {
            "text/plain": [
              "defined \u001b[32mclass\u001b[39m \u001b[36mEmployee\u001b[39m"
            ]
          },
          "metadata": {},
          "execution_count": 29
        }
      ],
      "source": [
        " case class Employee(name: String, department: String, manager: Option[String])"
      ]
    },
    {
      "cell_type": "code",
      "execution_count": null,
      "metadata": {
        "id": "bgShFj2jNs7e",
        "colab": {
          "base_uri": "https://localhost:8080/"
        },
        "outputId": "07d48312-7980-4a16-e4f9-a8c44bea849b"
      },
      "outputs": [
        {
          "output_type": "execute_result",
          "data": {
            "text/plain": [
              "defined \u001b[32mfunction\u001b[39m \u001b[36mlookupByName\u001b[39m"
            ]
          },
          "metadata": {},
          "execution_count": 30
        }
      ],
      "source": [
        "def lookupByName(name: String): Option[Employee] =\n",
        "  name match {\n",
        "    case \"Joe\" => Some(Employee(\"Joe\", \"Finances\", Some(\"Julie\")))\n",
        "    case \"Mary\" => Some(Employee(\"Mary\", \"IT\", None))\n",
        "    case \"Izumi\" => Some(Employee(\"Izumi\", \"IT\", Some(\"Mary\")))\n",
        "    case _ => None\n",
        "  }"
      ]
    },
    {
      "cell_type": "markdown",
      "metadata": {
        "id": "2EvxjVlDNs7e"
      },
      "source": [
        "Ahora ¿como definimos una funcione que use la función `lookupByName` que acabamos de definir para buscar el departamento de un empleado?"
      ]
    },
    {
      "cell_type": "code",
      "execution_count": null,
      "metadata": {
        "id": "M25nBV7ZNs7e",
        "colab": {
          "base_uri": "https://localhost:8080/",
          "height": 165
        },
        "outputId": "5d0fd48b-b3a7-416c-a5fe-a8663ebd0b45"
      },
      "outputs": [
        {
          "output_type": "stream",
          "name": "stderr",
          "text": [
            "(console):1:81 expected (If | While | Try | DoWhile | For | Throw | Return | ImplicitLambda | SmallerExprOrLambda)\n",
            "def getDepartment: (Option[Employee]) => Option[String] = // YOUR CODE GOES HERE\n",
            "                                                                                ^"
          ]
        },
        {
          "output_type": "error",
          "ename": "",
          "evalue": "ignored",
          "traceback": [
            "(console):1:81 expected (If | While | Try | DoWhile | For | Throw | Return | ImplicitLambda | SmallerExprOrLambda)\ndef getDepartment: (Option[Employee]) => Option[String] = // YOUR CODE GOES HERE\n                                                                                ^"
          ]
        }
      ],
      "source": [
        "def getDepartment: (Option[Employee]) => Option[String] = // YOUR CODE GOES HERE"
      ]
    },
    {
      "cell_type": "code",
      "execution_count": null,
      "metadata": {
        "id": "0A2BZpc6Ns7f",
        "colab": {
          "base_uri": "https://localhost:8080/",
          "height": 200
        },
        "outputId": "47b76c49-dbb2-496c-df11-abb29d2548ae"
      },
      "outputs": [
        {
          "output_type": "stream",
          "name": "stderr",
          "text": [
            "cmd30.sc:1: not found: value getDepartment\n",
            "val res30_0 = getDepartment(lookupByName(\"Joe\")) == Some(\"Finances\")\n",
            "              ^cmd30.sc:2: not found: value getDepartment\n",
            "val res30_1 = getDepartment(lookupByName(\"Mary\")) == Some(\"IT\")\n",
            "              ^cmd30.sc:3: not found: value getDepartment\n",
            "val res30_2 = getDepartment(lookupByName(\"Foo\")) == None\n",
            "              ^Compilation Failed"
          ]
        },
        {
          "output_type": "error",
          "ename": "",
          "evalue": "ignored",
          "traceback": [
            "Compilation Failed"
          ]
        }
      ],
      "source": [
        "getDepartment(lookupByName(\"Joe\")) == Some(\"Finances\")\n",
        "getDepartment(lookupByName(\"Mary\")) == Some(\"IT\")\n",
        "getDepartment(lookupByName(\"Foo\")) == None"
      ]
    },
    {
      "cell_type": "markdown",
      "metadata": {
        "id": "BzKa1UQANs7f"
      },
      "source": [
        "Un ejemplo de como funciona la función `orElse`"
      ]
    },
    {
      "cell_type": "code",
      "execution_count": null,
      "metadata": {
        "id": "68nGIpmuNs7f",
        "colab": {
          "base_uri": "https://localhost:8080/"
        },
        "outputId": "0d85555a-0d5b-4da6-e0a7-e07bed3ca295"
      },
      "outputs": [
        {
          "output_type": "execute_result",
          "data": {
            "text/plain": [
              "defined \u001b[32mfunction\u001b[39m \u001b[36mgetManager\u001b[39m\n",
              "\u001b[36mres30_1\u001b[39m: \u001b[32mOption\u001b[39m[\u001b[32mString\u001b[39m] = \u001b[33mSome\u001b[39m(\u001b[32m\"Julie\"\u001b[39m)\n",
              "\u001b[36mres30_2\u001b[39m: \u001b[32mOption\u001b[39m[\u001b[32mString\u001b[39m] = \u001b[33mSome\u001b[39m(\u001b[32m\"Mr. CEO\"\u001b[39m)\n",
              "\u001b[36mres30_3\u001b[39m: \u001b[32mOption\u001b[39m[\u001b[32mString\u001b[39m] = \u001b[33mSome\u001b[39m(\u001b[32m\"Mr. CEO\"\u001b[39m)"
            ]
          },
          "metadata": {},
          "execution_count": 31
        }
      ],
      "source": [
        "def getManager(employee: Option[Employee]): Option[String] = employee.flatMap(_.manager)\n",
        "\n",
        "getManager(lookupByName(\"Joe\")).orElse(Some(\"Mr. CEO\"))\n",
        "getManager(lookupByName(\"Mary\")).orElse(Some(\"Mr. CEO\"))\n",
        "getManager(lookupByName(\"Foo\")).orElse(Some(\"Mr. CEO\"))"
      ]
    },
    {
      "cell_type": "markdown",
      "metadata": {
        "id": "97tYQCZtdzlR"
      },
      "source": [
        "# Strictness and Laziness"
      ]
    },
    {
      "cell_type": "markdown",
      "metadata": {
        "id": "Nbp1KnhNeGkM"
      },
      "source": [
        "Cuando usamos varias funciones por ejemplo sobre una lista `map, filter, foldLeft, ...` Scala crea listas intermedias para cada una de ellas: "
      ]
    },
    {
      "cell_type": "code",
      "execution_count": null,
      "metadata": {
        "id": "TouH7D1xeTbF",
        "colab": {
          "base_uri": "https://localhost:8080/",
          "height": 130
        },
        "outputId": "eb3c0165-51da-4bfa-8d1d-d45695457e11"
      },
      "outputs": [
        {
          "output_type": "stream",
          "name": "stderr",
          "text": [
            "cmd31.sc:1: value map is not a member of cmd31.this.cmd25.List[Int]\n",
            "val res31 = List(1,2,3,4) map (_ + 10) filter (_ % 2 == 0) \n",
            "                          ^Compilation Failed"
          ]
        },
        {
          "output_type": "error",
          "ename": "",
          "evalue": "ignored",
          "traceback": [
            "Compilation Failed"
          ]
        }
      ],
      "source": [
        "List(1,2,3,4) map (_ + 10) filter (_ % 2 == 0) "
      ]
    },
    {
      "cell_type": "code",
      "execution_count": null,
      "metadata": {
        "id": "i6JL5I9OeamW",
        "colab": {
          "base_uri": "https://localhost:8080/",
          "height": 165
        },
        "outputId": "36f170bd-f1e6-47f9-8382-f69f5e3250a4"
      },
      "outputs": [
        {
          "output_type": "stream",
          "name": "stderr",
          "text": [
            "cmd31.sc:1: value map is not a member of cmd31.this.cmd25.List[Int]\n",
            "val res31_0 = List(1,2,3,4) map (_ + 10) filter (_ % 2 == 0) \n",
            "                            ^cmd31.sc:2: value filter is not a member of cmd31.this.cmd25.List[Int]\n",
            "val res31_1 = List(11,12,13,14) filter (_ % 2 == 0) \n",
            "                                ^Compilation Failed"
          ]
        },
        {
          "output_type": "error",
          "ename": "",
          "evalue": "ignored",
          "traceback": [
            "Compilation Failed"
          ]
        }
      ],
      "source": [
        "List(1,2,3,4) map (_ + 10) filter (_ % 2 == 0) \n",
        "List(11,12,13,14) filter (_ % 2 == 0) \n",
        "List(12,14) "
      ]
    },
    {
      "cell_type": "markdown",
      "metadata": {
        "id": "FMcKLKziexwa"
      },
      "source": [
        "Esto no parece ser muy eficiente ¿como podemos mejorarlo? Primero vamos a definir los conceptos de Strictness y Laziness.\n",
        "\n",
        "Strictness: Si la evaluación de una expresión lanza un error o es infinita, decimos que esta *no termina* Una función f(x) va a ser estricta si evalúa cualquier x cuya evaluación *no termine*.\n",
        "\n",
        "Laziness: Hace referencia a una función que *no* es estricta, es decir que puede no evaluar alguno de sus argumentos."
      ]
    },
    {
      "cell_type": "code",
      "execution_count": null,
      "metadata": {
        "id": "-UBI8rZdgedG",
        "colab": {
          "base_uri": "https://localhost:8080/"
        },
        "outputId": "414d3454-0bb2-444b-a439-315e940bd32a"
      },
      "outputs": [
        {
          "output_type": "execute_result",
          "data": {
            "text/plain": [
              "defined \u001b[32mfunction\u001b[39m \u001b[36msquare\u001b[39m"
            ]
          },
          "metadata": {},
          "execution_count": 32
        }
      ],
      "source": [
        "def square(x: Double): Double = {\n",
        "  println(\"Inside\")\n",
        "  x * x\n",
        "}"
      ]
    },
    {
      "cell_type": "code",
      "execution_count": null,
      "metadata": {
        "id": "S7IXemGVgfxM",
        "colab": {
          "base_uri": "https://localhost:8080/"
        },
        "outputId": "4c894a22-1709-46cc-893f-437b49e350a9"
      },
      "outputs": [
        {
          "output_type": "stream",
          "name": "stdout",
          "text": [
            "Inside\n"
          ]
        },
        {
          "output_type": "execute_result",
          "data": {
            "text/plain": [
              "\u001b[36mres32\u001b[39m: \u001b[32mDouble\u001b[39m = \u001b[32m1764.0\u001b[39m"
            ]
          },
          "metadata": {},
          "execution_count": 33
        }
      ],
      "source": [
        "square(41.0 + 1.0)"
      ]
    },
    {
      "cell_type": "code",
      "execution_count": null,
      "metadata": {
        "id": "LJcDU0COgpBQ",
        "colab": {
          "base_uri": "https://localhost:8080/",
          "height": 148
        },
        "outputId": "cceea9eb-0c9a-412d-ac97-ee8ecb3480d9"
      },
      "outputs": [
        {
          "output_type": "error",
          "ename": "",
          "evalue": "ignored",
          "traceback": [
            "\u001b[31mjava.lang.RuntimeException: failure\u001b[39m\n  scala.sys.package$.error(\u001b[32mpackage.scala\u001b[39m:\u001b[32m30\u001b[39m)\n  ammonite.$sess.cmd33$Helper.<init>(\u001b[32mcmd33.sc\u001b[39m:\u001b[32m1\u001b[39m)\n  ammonite.$sess.cmd33$.<init>(\u001b[32mcmd33.sc\u001b[39m:\u001b[32m7\u001b[39m)\n  ammonite.$sess.cmd33$.<clinit>(\u001b[32mcmd33.sc\u001b[39m:\u001b[32m-1\u001b[39m)"
          ]
        }
      ],
      "source": [
        "square(sys.error(\"failure\"))"
      ]
    },
    {
      "cell_type": "markdown",
      "metadata": {
        "id": "kg-4kOhyG0ZD"
      },
      "source": [
        "Un ejemplo muy conocido de funciones que no son estrictas son los operadores booleanos "
      ]
    },
    {
      "cell_type": "code",
      "execution_count": null,
      "metadata": {
        "id": "ho6SQ-hrHldL",
        "colab": {
          "base_uri": "https://localhost:8080/"
        },
        "outputId": "0864ee91-06f6-42f7-e384-b3ca0863fbd3"
      },
      "outputs": [
        {
          "output_type": "execute_result",
          "data": {
            "text/plain": [
              "defined \u001b[32mfunction\u001b[39m \u001b[36mreturnTrue\u001b[39m"
            ]
          },
          "metadata": {},
          "execution_count": 35
        }
      ],
      "source": [
        "def returnTrue() = {\n",
        "  println(\"Returning True\")\n",
        "  true\n",
        "}"
      ]
    },
    {
      "cell_type": "code",
      "execution_count": null,
      "metadata": {
        "id": "7qYAyEJPHFXM"
      },
      "outputs": [],
      "source": [
        "if(false && returnTrue()) println(\"Inside\")"
      ]
    },
    {
      "cell_type": "code",
      "execution_count": null,
      "metadata": {
        "id": "5YB2V1GyHM2x",
        "colab": {
          "base_uri": "https://localhost:8080/"
        },
        "outputId": "103d25ed-8443-4983-8399-2ab0113867b4"
      },
      "outputs": [
        {
          "output_type": "stream",
          "name": "stdout",
          "text": [
            "Inside\n"
          ]
        }
      ],
      "source": [
        "if(true || returnTrue()) println(\"Inside\")"
      ]
    },
    {
      "cell_type": "markdown",
      "metadata": {
        "id": "wulS6pdvIpzX"
      },
      "source": [
        "¿Como definir una función que no sea estricta?"
      ]
    },
    {
      "cell_type": "code",
      "execution_count": null,
      "metadata": {
        "id": "vzwU3D7mJER8",
        "colab": {
          "base_uri": "https://localhost:8080/"
        },
        "outputId": "219c4787-c7ff-47c1-af7f-ee3ad61875c6"
      },
      "outputs": [
        {
          "output_type": "execute_result",
          "data": {
            "text/plain": [
              "defined \u001b[32mfunction\u001b[39m \u001b[36mpair\u001b[39m"
            ]
          },
          "metadata": {},
          "execution_count": 38
        }
      ],
      "source": [
        "def pair(i: => Int) = (i, i)"
      ]
    },
    {
      "cell_type": "code",
      "execution_count": null,
      "metadata": {
        "id": "XlinOXl2JYXB",
        "colab": {
          "base_uri": "https://localhost:8080/"
        },
        "outputId": "d8948d44-44b1-449e-def6-68913b2e756d"
      },
      "outputs": [
        {
          "output_type": "stream",
          "name": "stdout",
          "text": [
            "Hola\n",
            "Hola\n"
          ]
        },
        {
          "output_type": "execute_result",
          "data": {
            "text/plain": [
              "\u001b[36mres38\u001b[39m: (\u001b[32mInt\u001b[39m, \u001b[32mInt\u001b[39m) = (\u001b[32m41\u001b[39m, \u001b[32m41\u001b[39m)"
            ]
          },
          "metadata": {},
          "execution_count": 39
        }
      ],
      "source": [
        "pair{println(\"Hola\"); 40 + 1}"
      ]
    },
    {
      "cell_type": "code",
      "execution_count": null,
      "metadata": {
        "id": "2GojUepPIpHe",
        "colab": {
          "base_uri": "https://localhost:8080/"
        },
        "outputId": "eb678a18-659f-49f2-e442-faedb0f3954a"
      },
      "outputs": [
        {
          "output_type": "execute_result",
          "data": {
            "text/plain": [
              "defined \u001b[32mfunction\u001b[39m \u001b[36mpair2\u001b[39m"
            ]
          },
          "metadata": {},
          "execution_count": 40
        }
      ],
      "source": [
        "def pair2(i: => Int) = { lazy val j = i; (j, j) }"
      ]
    },
    {
      "cell_type": "code",
      "execution_count": null,
      "metadata": {
        "id": "CUDkmccxI0pP",
        "colab": {
          "base_uri": "https://localhost:8080/"
        },
        "outputId": "6e0f40ff-eb24-4bda-f51f-1b144215a9cf"
      },
      "outputs": [
        {
          "output_type": "stream",
          "name": "stdout",
          "text": [
            "Hola\n"
          ]
        },
        {
          "output_type": "execute_result",
          "data": {
            "text/plain": [
              "\u001b[36mres40\u001b[39m: (\u001b[32mInt\u001b[39m, \u001b[32mInt\u001b[39m) = (\u001b[32m41\u001b[39m, \u001b[32m41\u001b[39m)"
            ]
          },
          "metadata": {},
          "execution_count": 41
        }
      ],
      "source": [
        "pair2{println(\"Hola\"); 40 + 1}"
      ]
    },
    {
      "cell_type": "markdown",
      "metadata": {
        "id": "W1-DV3anMQCN"
      },
      "source": [
        "Volvamos al ejemplo inicial, ¿como evitamos que se creen listas intermedias?"
      ]
    },
    {
      "cell_type": "code",
      "execution_count": null,
      "metadata": {
        "id": "7dYo_zOULoyN",
        "colab": {
          "base_uri": "https://localhost:8080/"
        },
        "outputId": "1d8022fb-631a-4539-8cbc-6ccccb8cbce7"
      },
      "outputs": [
        {
          "output_type": "execute_result",
          "data": {
            "text/plain": [
              "\u001b[36mres41\u001b[39m: \u001b[32mStream\u001b[39m[\u001b[32mInt\u001b[39m] = \u001b[33mStream\u001b[39m(\u001b[32m12\u001b[39m, \u001b[32m14\u001b[39m)"
            ]
          },
          "metadata": {},
          "execution_count": 42
        }
      ],
      "source": [
        "Stream(1,2,3,4).map(_ + 10).filter(_ % 2 == 0)"
      ]
    },
    {
      "cell_type": "markdown",
      "metadata": {
        "id": "3fuPKSo2MmDt"
      },
      "source": [
        "¿Que pasa por debajo?\n",
        "\n",
        "```\n",
        "Stream(1,2,3,4).map(_ + 10).filter(_ % 2 == 0)\n",
        "11 #:: Stream(2,3,4).map(_ + 10)).filter(_ % 2 == 0)\n",
        "Stream(2,3,4).map(_ + 10).filter(_ % 2 == 0)\n",
        "(12 #:: Stream(3,4).map(_ + 10)).filter(_ % 2 == 0)\n",
        "12 #:: Stream(3,4).map(_ + 10).filter(_ % 2 == 0)\n",
        "12 #:: (13 #:: Stream(4).map(_ + 10)).filter(_ % 2 == 0)\n",
        "12 #:: Stream(4).map(_ + 10).filter(_ % 2 == 0)\n",
        "12 #:: (14 #:: Stream().map(_ + 10)).filter(_ % 2 == 0)\n",
        "12 #:: 14 #:: Stream().map(_ + 10).filter(_ % 2 == 0)\n",
        "12 #:: 14 #:: Stream()\n",
        "```\n",
        "\n",
        "Esto tiene otros beneficios, el recolector de basura puede liberar el espacio de un número apenas determina que no estará en el resultado final, para este ejemplo puede no ser mucho pero para otros más complejo si puede representar una gran mejora."
      ]
    },
    {
      "cell_type": "markdown",
      "metadata": {
        "id": "IqQnRpLCWOiL"
      },
      "source": [
        "# Purely functional state"
      ]
    },
    {
      "cell_type": "markdown",
      "metadata": {
        "id": "b6SqNCstWV2J"
      },
      "source": [
        "Vamos a aprender los conceptos básicos de como manejar el estado de una manera *funcional*\n",
        "Para esto vamos a usar el dominio de *generación de números aleatorios*\n",
        "\n",
        "En Java, usando la utilidad Random podemos generar números aleatorios, asumamos que instanciamos la utilidad en una variable llamada rng, los llamados serían así:\n",
        "\n",
        "```\n",
        "rng.nextDouble -> 0.9867076608154569\n",
        "rng.nextDouble -> 0.8455696498024141\n",
        "\n",
        "rng.nextInt -> -623297295\n",
        "rng.nextInt -> 1989531047\n",
        "```\n",
        "\n",
        "Aunque no sepamos como funciona el método, podemos intuir que internamente hay un cambio de estado, de lo contrario recibiriamos el mismo resultado.\n",
        "\n",
        "La idea en Scala, es que la función *retorne* el nuevo estado en vez de solamente el resultado obtenido."
      ]
    },
    {
      "cell_type": "code",
      "execution_count": null,
      "metadata": {
        "id": "dtMPYNQWaPzR",
        "colab": {
          "base_uri": "https://localhost:8080/"
        },
        "outputId": "6bfabf08-672f-4f38-b5fa-22c3126910ff"
      },
      "outputs": [
        {
          "output_type": "execute_result",
          "data": {
            "text/plain": [
              "defined \u001b[32mtrait\u001b[39m \u001b[36mRNG\u001b[39m\n",
              "defined \u001b[32mobject\u001b[39m \u001b[36mRNG\u001b[39m"
            ]
          },
          "metadata": {},
          "execution_count": 43
        }
      ],
      "source": [
        "trait RNG {\n",
        "  def nextInt: (Int, RNG)\n",
        "}\n",
        "\n",
        "object RNG {\n",
        "  def simple(seed: Long): RNG = new RNG {\n",
        "    def nextInt = {\n",
        "      val seed2 = (seed*0x5DEECE66DL + 0xBL) &\n",
        "                  ((1L << 48) - 1)\n",
        "      ((seed2 >>> 16).asInstanceOf[Int],\n",
        "      simple(seed2))\n",
        "    }\n",
        "  }\n",
        "}"
      ]
    },
    {
      "cell_type": "code",
      "execution_count": null,
      "metadata": {
        "id": "buoK8HtlY18t",
        "colab": {
          "base_uri": "https://localhost:8080/"
        },
        "outputId": "a8c58541-0c58-4027-fe70-f38c30c54732"
      },
      "outputs": [
        {
          "output_type": "execute_result",
          "data": {
            "text/plain": [
              "defined \u001b[32mfunction\u001b[39m \u001b[36mnonNegativeInt\u001b[39m"
            ]
          },
          "metadata": {},
          "execution_count": 44
        }
      ],
      "source": [
        "def nonNegativeInt(rng: RNG): (Int, RNG) = {\n",
        "  val (i, r) = rng.nextInt\n",
        "    (if (i < 0) -(i + 1) else i, r)\n",
        "}"
      ]
    },
    {
      "cell_type": "code",
      "execution_count": null,
      "metadata": {
        "id": "jpHhrhtHalhN",
        "colab": {
          "base_uri": "https://localhost:8080/"
        },
        "outputId": "fb4ccfdb-dd82-4d25-c504-d7b7247000dd"
      },
      "outputs": [
        {
          "output_type": "stream",
          "name": "stdout",
          "text": [
            "(18083198,ammonite.$sess.cmd42$Helper$RNG$$anon$1@1d5504d1)\n",
            "(18083198,ammonite.$sess.cmd42$Helper$RNG$$anon$1@3cd361db)\n"
          ]
        },
        {
          "output_type": "execute_result",
          "data": {
            "text/plain": [
              "\u001b[36mrng\u001b[39m: \u001b[32mRNG\u001b[39m = ammonite.$sess.cmd42$Helper$RNG$$anon$1@2b66e031\n",
              "\u001b[36mresult\u001b[39m: (\u001b[32mInt\u001b[39m, \u001b[32mRNG\u001b[39m) = (\n",
              "  \u001b[32m18083198\u001b[39m,\n",
              "  ammonite.$sess.cmd42$Helper$RNG$$anon$1@1d5504d1\n",
              ")\n",
              "\u001b[36mresult2\u001b[39m: (\u001b[32mInt\u001b[39m, \u001b[32mRNG\u001b[39m) = (\n",
              "  \u001b[32m18083198\u001b[39m,\n",
              "  ammonite.$sess.cmd42$Helper$RNG$$anon$1@3cd361db\n",
              ")"
            ]
          },
          "metadata": {},
          "execution_count": 45
        }
      ],
      "source": [
        "val rng = RNG.simple(47)\n",
        "val result = nonNegativeInt(rng)\n",
        "println(result)\n",
        "\n",
        "val result2 = nonNegativeInt(rng)\n",
        "println(result2)"
      ]
    },
    {
      "cell_type": "markdown",
      "metadata": {
        "id": "rNlToCRPar-H"
      },
      "source": [
        "El resultado es el mismo, esto es porque si nos fijamos, la función *nonNegativeInt* nos retorna una pareja (Int, RNG), es decir, nos devuelve el nuevo estado que debemos usar. Si nos fijamos, el segundo valor de la pareja **si** es diferente."
      ]
    },
    {
      "cell_type": "code",
      "execution_count": null,
      "metadata": {
        "id": "laEuOkK1bFDc",
        "colab": {
          "base_uri": "https://localhost:8080/"
        },
        "outputId": "1116be6e-9f5e-4459-a4fd-b2e5692b8a98"
      },
      "outputs": [
        {
          "output_type": "execute_result",
          "data": {
            "text/plain": [
              "\u001b[36mrng\u001b[39m: \u001b[32mRNG\u001b[39m = ammonite.$sess.cmd42$Helper$RNG$$anon$1@122a314a\n",
              "\u001b[36mresult1\u001b[39m: \u001b[32mInt\u001b[39m = \u001b[32m18083198\u001b[39m\n",
              "\u001b[36mrng1\u001b[39m: \u001b[32mRNG\u001b[39m = ammonite.$sess.cmd42$Helper$RNG$$anon$1@68ea916c\n",
              "\u001b[36mresult2\u001b[39m: \u001b[32mInt\u001b[39m = \u001b[32m1531032015\u001b[39m"
            ]
          },
          "metadata": {},
          "execution_count": 46
        }
      ],
      "source": [
        "val rng = RNG.simple(47)\n",
        "val (result1, rng1) = nonNegativeInt(rng)\n",
        "val result2 = nonNegativeInt(rng1)._1"
      ]
    },
    {
      "cell_type": "markdown",
      "metadata": {
        "id": "og9oU6LArvxi"
      },
      "source": [
        "# Purely functional parallelism\n",
        "\n",
        "Par.map2 es una función de orden superior que combina los resultados de 2 computaciones paralelas, su firma es la siguiente:\n",
        "\n",
        "```\n",
        "def map2[A, B, C](a: Par[A], b: Par[B])(f: (A, B) => C): Par[C]\n",
        "```\n",
        "\n",
        "¿Como definir nuestras propias funciones en paralelo?\n",
        "\n",
        "Vamos a empezar definiendo una función que nos permita convertir cualquier otra función a una asincrona, y usaremos **Executors** para definir los hilos con los que va a correr la función."
      ]
    },
    {
      "cell_type": "markdown",
      "metadata": {
        "id": "MMDIxKA60862"
      },
      "source": [
        "```\n",
        "def asyncF[A, B](f: A => B): A => Par[B] =\n",
        "  a => lazyUnit(f(a))\n",
        "\n",
        "def asyncIntToString = asyncF((x: Int) => x.toString())\n",
        "val executorService = Executors.newFixedThreadPool(2)\n",
        "\n",
        "Par.run(executorService)(asyncIntToString(10)).get() shouldBe ???\n",
        "```"
      ]
    },
    {
      "cell_type": "markdown",
      "metadata": {
        "id": "iIpVRAjy4tp_"
      },
      "source": [
        "Podríamos tener también una función que haga filter sobre una lista de manera paralela:\n",
        "```\n",
        "def parFilter[A](l: List[A])(f: A => Boolean): Par[List[A]] = {\n",
        "  val pars: List[Par[List[A]]] =\n",
        "    l map (asyncF((a: A) => if (f(a)) List(a) else List()))\n",
        "  map(sequence(pars))(_.flatten)\n",
        "}\n",
        "\n",
        "val filterOp = parFilter(List(1, 2, 3, 4, 5))(_ < 4)\n",
        "val executorService = Executors.newCachedThreadPool()\n",
        "val result = Par.run(executorService)(filterOp).get()\n",
        "result shouldBe ???\n",
        "```"
      ]
    },
    {
      "cell_type": "markdown",
      "metadata": {
        "id": "0-O0usJg6jkL"
      },
      "source": [
        "# Property based testing\n",
        "\n",
        "Si tenemos una colección de tipos de datos, funciones sobre ellos y relaciones entre estas funciones, deberíamos poder testear estas relaciones de manera automática."
      ]
    },
    {
      "cell_type": "markdown",
      "metadata": {
        "id": "LZB5wik29oO3"
      },
      "source": [
        "Consideremos que queremos testear las propiedades de una función que retorna la suma de los elementos de una lista:\n",
        "\n",
        "* La suma de una lista vacía es 0.\n",
        "* Para cualquier lista `l`, `sum(l) == sum(l.reverse)`, ya que la adición es conmutativa.\n",
        "* Dada una lista, `List(x,y,z,p,q)`, `sum(List(x,y,z,p,q)) == sum(List(x,y)) + sum(List(z,p,q))`, ya que la adición es asociativa."
      ]
    },
    {
      "cell_type": "code",
      "execution_count": null,
      "metadata": {
        "id": "ouPhmKx_8TlV",
        "colab": {
          "base_uri": "https://localhost:8080/"
        },
        "outputId": "9da0a6d5-673e-4855-9470-40e6ab79509e"
      },
      "outputs": [
        {
          "output_type": "stream",
          "name": "stdout",
          "text": [
            "true\n",
            "true\n"
          ]
        },
        {
          "output_type": "execute_result",
          "data": {
            "text/plain": [
              "\u001b[36ma\u001b[39m: \u001b[32mString\u001b[39m = \u001b[32m\"String\"\u001b[39m"
            ]
          },
          "metadata": {},
          "execution_count": 47
        }
      ],
      "source": [
        "val a = \"String\"\n",
        "println(a.substring(a.length()-1) == a.charAt(a.length()-1).toString)\n",
        "println(a.startsWith(a) == true)"
      ]
    },
    {
      "cell_type": "markdown",
      "metadata": {
        "id": "ggQkGCCU_Pjb"
      },
      "source": [
        "Para este caso funciona, pero ¿como podemos generar casos aleatorios, de tal manera que nos concentremos en las *propiedades* que se están testeando y no los datos sobre los cuales se testean?"
      ]
    },
    {
      "cell_type": "markdown",
      "metadata": {
        "id": "vO99WZL1AMYc"
      },
      "source": [
        "Empecemos usando **unit** que siempre nos va a generar el mismo valor:\n",
        "\n",
        "```\n",
        "def unit[A](a: => A): Gen[A] = Gen(State.unit(a))\n",
        "\n",
        "val rng = RNG.Simple(47)\n",
        "unit(42).sample.run(rng)._1 shouldBe 42\n",
        "\n",
        "unit(\"foo\").sample.run(rng)._1 shouldBe \"foo\"\n",
        "\n",
        "```"
      ]
    },
    {
      "cell_type": "markdown",
      "metadata": {
        "id": "tMIqbyvhA5vx"
      },
      "source": [
        "Ahora vamos a usar **Gen** que nos permite generar datos aleatorios a partir de una muestra:\n",
        "\n",
        "```\n",
        "def listOfN[A](n: Int, g: Gen[A]): Gen[List[A]] =\n",
        "  Gen(State.sequence(List.fill(n)(g.sample)))\n",
        "\n",
        "val rng = RNG.Simple(47)\n",
        "val listOfBooleans = listOfN(10, Gen.boolean).sample.run(rng)._1\n",
        "\n",
        "listOfBooleans.size shouldBe ???\n",
        "\n",
        "\n",
        "listOfN(3, Gen.unit(42)).sample.run(rng)._1 shouldBe ???\n",
        "```"
      ]
    },
    {
      "cell_type": "markdown",
      "metadata": {
        "id": "0rzooEIbSk-x"
      },
      "source": [
        "Y podemos incluso tomar varios generadores, asignar un peso a cada uno (que representa la probabilidad de tomar de ese generador):\n",
        "\n",
        "```\n",
        "def weighted[A](g1: (Gen[A], Double), g2: (Gen[A], Double)): Gen[A] = {\n",
        "  // The probability we should pull from `g1`.\n",
        "  val g1Threshold = g1._2.abs / (g1._2.abs + g2._2.abs)\n",
        "  Gen(State(RNG.double).flatMap(d => if (d < g1Threshold) g1._1.sample else g2._1.sample))\n",
        "}\n",
        "```"
      ]
    }
  ],
  "metadata": {
    "colab": {
      "collapsed_sections": [
        "kQe78pN0OSuq",
        "KAVvBfOZ2REX",
        "Tas_rjbk28CF",
        "IqQnRpLCWOiL",
        "og9oU6LArvxi",
        "0-O0usJg6jkL"
      ],
      "name": "Apoyo presentación - Tutorial Scala.ipynb",
      "provenance": []
    },
    "kernelspec": {
      "display_name": "Scala",
      "language": "scala",
      "name": "scala"
    }
  },
  "nbformat": 4,
  "nbformat_minor": 0
}