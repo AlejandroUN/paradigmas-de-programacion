{
  "nbformat": 4,
  "nbformat_minor": 0,
  "metadata": {
    "colab": {
      "name": "lisp.ipynb",
      "version": "0.3.2",
      "views": {},
      "default_view": {},
      "provenance": []
    }
  },
  "cells": [
    {
      "metadata": {
        "id": "ANmRZMFRscuz",
        "colab_type": "text"
      },
      "source": [
        "# Tutorial LISP\n",
        "---\n",
        "## Daniel Rodriguez Meza\n",
        "## Oscar Fabian Mendez\n",
        "#### Universidad Nacional de Colombia\n",
        "#### Lenguajes de Programación - 2017-I\n",
        "\n",
        "\n"
      ],
      "cell_type": "markdown"
    },
    {
      "metadata": {
        "id": "nU17iAQIPpRz",
        "colab_type": "text"
      },
      "source": [
        "## Contenido"
      ],
      "cell_type": "markdown"
    },
    {
      "metadata": {
        "id": "-lzow8dgPtEl",
        "colab_type": "toc"
      },
      "source": [
        ">[Tutorial LISP](#scrollTo=ANmRZMFRscuz)\n",
        "\n",
        ">>[Instalación](#scrollTo=hS_cCjU7scu2)\n",
        "\n",
        ">>>[En Linux:](#scrollTo=tLOJlVLRscu3)\n",
        "\n",
        ">>>[En Windows:](#scrollTo=t4Ax6xGaNPNQ)\n",
        "\n",
        ">>>[En Mac:](#scrollTo=Dws7BQA-QmX8)\n",
        "\n",
        ">>[Introducción](#scrollTo=DOuV10QoROuj)\n",
        "\n",
        ">>>[Una lista:](#scrollTo=X7f6gXy-RWk1)\n",
        "\n",
        ">>>[Un FORM:](#scrollTo=u_kacWLNa1NE)\n",
        "\n",
        ">>>[Valores lógicos](#scrollTo=GBTHKEa9a_lZ)\n",
        "\n",
        ">>>>[False](#scrollTo=7qrUF2LCbGKT)\n",
        "\n",
        ">>>>[True](#scrollTo=7qrUF2LCbGKT)\n",
        "\n",
        ">>[Expresiones](#scrollTo=YcFYYs9Jscu4)\n",
        "\n",
        ">>[Listas](#scrollTo=XvgYGiC7scu9)\n",
        "\n",
        ">>>[Celdas-Cons](#scrollTo=uW-Vlpi8lW4p)\n",
        "\n",
        ">>>[Listas](#scrollTo=Wxc4njWutQyF)\n",
        "\n",
        ">>[Condicionales](#scrollTo=-YFMASr30Bgg)\n",
        "\n",
        ">>>[If](#scrollTo=Wu8ntdlq29Bf)\n",
        "\n",
        ">>>[When](#scrollTo=nMgyVlMi4o8p)\n",
        "\n",
        ">>>[Case](#scrollTo=uv4xHydw6M_y)\n",
        "\n",
        ">>[Ciclos](#scrollTo=wUURUtcN0CCg)\n",
        "\n",
        ">>>[Loop](#scrollTo=kuuS9kMT8_d8)\n",
        "\n",
        ">>>[Loop for](#scrollTo=XVXzGyuQ9i8t)\n",
        "\n",
        ">>>[dotimes](#scrollTo=0q5o9VGIA3t6)\n",
        "\n",
        ">>>[dolist](#scrollTo=QiBwTqM-DX-p)\n",
        "\n",
        ">>[Funciones](#scrollTo=LQgx8STMscxI)\n",
        "\n",
        ">>>[Funciones lambda](#scrollTo=xgbPlm5mIApS)\n",
        "\n",
        ">>>[Recursión](#scrollTo=24BTbrerscxg)\n",
        "\n",
        ">>[Escribir y leer archivos](#scrollTo=_YYTG0inLo8q)\n",
        "\n",
        ">>[Referencias](#scrollTo=WdSNlgrGscyK)\n",
        "\n"
      ],
      "cell_type": "markdown"
    },
    {
      "metadata": {
        "id": "hS_cCjU7scu2",
        "colab_type": "text"
      },
      "source": [
        "## Instalación"
      ],
      "cell_type": "markdown"
    },
    {
      "metadata": {
        "id": "tLOJlVLRscu3",
        "colab_type": "text"
      },
      "source": [
        "### En Linux:\n"
      ],
      "cell_type": "markdown"
    },
    {
      "metadata": {
        "id": "DeKDZBiGtR-Y",
        "colab_type": "code",
        "colab": {
          "autoexec": {
            "startup": false,
            "wait_interval": 0
          }
        }
      },
      "source": [
        "sudo apt-get install clisp"
      ],
      "cell_type": "code",
      "execution_count": 0,
      "outputs": []
    },
    {
      "metadata": {
        "id": "t4Ax6xGaNPNQ",
        "colab_type": "text"
      },
      "source": [
        "### En Windows:\n",
        "\n",
        "Puedes encontrar el instalador de CLisp en el siguiente enlace:\n",
        "\n",
        "[http://sourceforge.net/projects/clisp/files/latest/download](http://sourceforge.net/projects/clisp/files/latest/download)\n",
        "\n",
        "\n",
        "\n"
      ],
      "cell_type": "markdown"
    },
    {
      "metadata": {
        "id": "Dws7BQA-QmX8",
        "colab_type": "text"
      },
      "source": [
        "### En Mac: \n",
        "\n",
        "La instalación recomendada requiere primero tener instalado Homebrew, en caso de no tenerlo, seguir las instrucciones encontradas en:\n",
        "\n",
        " [https://brew.sh/](https://brew.sh/)\n",
        "\n",
        "También puedes instalar Homebrew ejecutando el siguiente comando en un terminal:\n",
        "\n"
      ],
      "cell_type": "markdown"
    },
    {
      "metadata": {
        "id": "zVlNxE0aP7Z9",
        "colab_type": "code",
        "colab": {
          "autoexec": {
            "startup": false,
            "wait_interval": 0
          }
        }
      },
      "source": [
        "ruby -e \"$(curl -fsSL https://raw.githubusercontent.com/Homebrew/install/master/install)\""
      ],
      "cell_type": "code",
      "execution_count": 0,
      "outputs": []
    },
    {
      "metadata": {
        "id": "VkMTiwENP9BO",
        "colab_type": "text"
      },
      "source": [
        "Una vez instalado Homebrew, instalar CLisp es tan sencillo como ejecutar el siguiente comando y seguir cualquier recomendacion dada por brew:\n"
      ],
      "cell_type": "markdown"
    },
    {
      "metadata": {
        "id": "PGzFPV2jQNJP",
        "colab_type": "code",
        "colab": {
          "autoexec": {
            "startup": false,
            "wait_interval": 0
          }
        }
      },
      "source": [
        "brew -v install clisp"
      ],
      "cell_type": "code",
      "execution_count": 0,
      "outputs": []
    },
    {
      "metadata": {
        "id": "DOuV10QoROuj",
        "colab_type": "text"
      },
      "source": [
        "## Introducción\n"
      ],
      "cell_type": "markdown"
    },
    {
      "metadata": {
        "id": "X7f6gXy-RWk1",
        "colab_type": "text"
      },
      "source": [
        "Básicamente,  Lisp dicta que cualquier texto Lisp tiene que organizarse en listas, que pueden anidarse en listas de listas. Los paréntesis marcan el comienzo y el final de cada una de ellas:\n",
        "\n",
        "### Una lista:\n",
        "\n",
        " "
      ],
      "cell_type": "markdown"
    },
    {
      "metadata": {
        "id": "Q_mv_V4qZPzT",
        "colab_type": "text"
      },
      "source": [
        "\n",
        "**lista:**  \n",
        " \n",
        "\n",
        " **( bla bla bla bla )**\n",
        " \n",
        " Además,  Lisp usa dos modos cuando interpreta tu código: Modo código y Modo Datos. \n",
        "  \n",
        "  Cuando estás en modo de datos, puedes poner lo que quieras en tus listas.\n",
        "  \n",
        "  Sin embargo, el compilador por defecto lee el código en Modo Código: en éste modo las listas deben ser de un tipo especial llamada FORM."
      ],
      "cell_type": "markdown"
    },
    {
      "metadata": {
        "id": "u_kacWLNa1NE",
        "colab_type": "text"
      },
      "source": [
        "### Un FORM:"
      ],
      "cell_type": "markdown"
    },
    {
      "metadata": {
        "id": "sK4nxtOOSIqR",
        "colab_type": "text"
      },
      "source": [
        "   \n",
        "   **FORM:**\n",
        " \n",
        "\n",
        "  (**comando**  bla  bla  bla bla)\n",
        "\n",
        "Un FORM es una lista en la que el primer símbolo debe ser una palabra especial (**comando**) que el compilador pueda comprender: \n",
        "\n",
        "generalmente, el nombre de una función. En este caso, el compilador enviará los demás elementos de la lista a dicha función como parámetros.\n"
      ],
      "cell_type": "markdown"
    },
    {
      "metadata": {
        "id": "GBTHKEa9a_lZ",
        "colab_type": "text"
      },
      "source": [
        "### Valores lógicos\n"
      ],
      "cell_type": "markdown"
    },
    {
      "metadata": {
        "id": "7qrUF2LCbGKT",
        "colab_type": "text"
      },
      "source": [
        "#### False\n",
        "\n",
        "Solo **nil** y su representación alternativa, *la lista vacía*: **( )** \n",
        "\n",
        "representan la falsedad lógica. \n",
        "\n",
        "#### True\n",
        "\n",
        "Cada objeto en Lisp desciende de: **t**\n",
        "\n",
        "Todo objeto  diferente de nil, por descender de **t**  representa un valor verdadero.\n",
        "\n",
        "No tiene que devolver **t** para decir que una función devuelve verdadero, porque **cualquier valor** que no sea **nil** es lógicamente verdadero, pero es útil cuando necesita devolver \"true\" y no se tiene ningún valor específico para devolver."
      ],
      "cell_type": "markdown"
    },
    {
      "metadata": {
        "id": "YcFYYs9Jscu4",
        "colab_type": "text"
      },
      "source": [
        "## Expresiones\n",
        "\n",
        "\n",
        "\n",
        "\n"
      ],
      "cell_type": "markdown"
    },
    {
      "metadata": {
        "id": "UqqW0aQ008Kp",
        "colab_type": "text"
      },
      "source": [
        "Una expresión se presenta también en forma de lista.\n",
        "\n",
        "\n",
        "Recordando, las listas se interpretan por defecto en \"Modo Código\", es decir una estructura de **FORM**\n",
        "\n",
        "Que quiere decir que el primer item de la lista  debe ser un operador válido;\n",
        "\n",
        "lo siguiente de la lista es en sí mismo una lista de parámetros para **el operador**.\n",
        "\n",
        "En otras palabras, **el operador siempre está primero**, y no está infijo entre argumentos, como sería el caso en la notación algebraica.\n",
        "\n",
        "Llamado **\"Notación polaca\"**  o  **\"Notación prefija\"**."
      ],
      "cell_type": "markdown"
    },
    {
      "metadata": {
        "id": "hkeGweg7hqJy",
        "colab_type": "text"
      },
      "source": [
        "Una expresión algebráica en otro lenguaje que se escribe:"
      ],
      "cell_type": "markdown"
    },
    {
      "metadata": {
        "id": "gZrfHyYwukPH",
        "colab_type": "code",
        "colab": {
          "autoexec": {
            "startup": false,
            "wait_interval": 0
          }
        }
      },
      "source": [
        "a  * ( b + c ) / d"
      ],
      "cell_type": "code",
      "execution_count": 0,
      "outputs": []
    },
    {
      "metadata": {
        "id": "atC51x0dutFd",
        "colab_type": "text"
      },
      "source": [
        "Se convierte en Lisp:"
      ],
      "cell_type": "markdown"
    },
    {
      "metadata": {
        "id": "x4epyv8VuvDe",
        "colab_type": "code",
        "colab": {
          "autoexec": {
            "startup": false,
            "wait_interval": 0
          }
        }
      },
      "source": [
        "( / (* a (+ b c) ) d)"
      ],
      "cell_type": "code",
      "execution_count": 0,
      "outputs": []
    },
    {
      "metadata": {
        "id": "QyaLtNZYvEfE",
        "colab_type": "text"
      },
      "source": [
        "Al evaluar el siguiente comando:\n"
      ],
      "cell_type": "markdown"
    },
    {
      "metadata": {
        "id": "wHHtXZAnvKWg",
        "colab_type": "code",
        "colab": {
          "autoexec": {
            "startup": false,
            "wait_interval": 0
          }
        }
      },
      "source": [
        "(+ 1 2 3 4 5 6)\n",
        "=> 21"
      ],
      "cell_type": "code",
      "execution_count": 0,
      "outputs": []
    },
    {
      "metadata": {
        "id": "slqqH7L_vNJp",
        "colab_type": "text"
      },
      "source": [
        "Vemos que se suman todos los argumentos bajo el operador **+** al inicio, que en lenguajes de notación infija se escribe \n",
        "\n",
        "**1 + 2 + 3 + 4 + 5 + 6**\n",
        "\n",
        "Al cambiar a una multiplicación se reemplazaría cada simbolo a:  \n",
        "\n",
        "**1 \\* 2 \\* 3 \\* 4 \\* 5 \\* 6**\n",
        "\n",
        "lo cual el lisp sólamente se haría cambiando un operador:\n"
      ],
      "cell_type": "markdown"
    },
    {
      "metadata": {
        "id": "j6lb1nRgvSt1",
        "colab_type": "code",
        "colab": {
          "autoexec": {
            "startup": false,
            "wait_interval": 0
          }
        }
      },
      "source": [
        "(* 1 2 3 4 5 6)\n",
        "\n",
        "=> 720"
      ],
      "cell_type": "code",
      "execution_count": 0,
      "outputs": []
    },
    {
      "metadata": {
        "id": "XvgYGiC7scu9",
        "colab_type": "text"
      },
      "source": [
        "## Listas"
      ],
      "cell_type": "markdown"
    },
    {
      "metadata": {
        "id": "uW-Vlpi8lW4p",
        "colab_type": "text"
      },
      "source": [
        "###  Celdas-Cons "
      ],
      "cell_type": "markdown"
    },
    {
      "metadata": {
        "id": "Yhs2s8NclgK1",
        "colab_type": "text"
      },
      "source": [
        "Una Celda-Cons es una pareja de punteros, **( car . cdr )**\n",
        "\n",
        "Siglas para “Contents of Address Register” y “Contents of Decrement Register”, respectivamente. \n",
        "\n",
        "El **car** suele ser un puntero a un **valor**, \n",
        "\n",
        "mientras que el **cdr** puede ser un puntero al **car**  de otra Celda-cons, a **nil** o, en el caso de una pareja de valores separadas por punto, apuntar también a un valor.\n",
        "\n",
        ">**car**  ---> **valor**\n",
        "\n",
        ">**cdr**  ---> **car**/**valor**/**nil**\n",
        "\n",
        "Mediante la función **cons** la cual toma dos argumentos, crea una Celda-cons que contiene los dos valores.\n"
      ],
      "cell_type": "markdown"
    },
    {
      "metadata": {
        "id": "tIVEXMxhw601",
        "colab_type": "code",
        "colab": {
          "autoexec": {
            "startup": false,
            "wait_interval": 0
          }
        }
      },
      "source": [
        "(write (cons 1 2))\n",
        "=> (1 . 2)\n",
        "\n",
        "(write (cons 'a 'b))\n",
        "=> (A . B)\n",
        "\n",
        "(write (cons 1 nil))\n",
        "=> (1)\n",
        "\n",
        "(write (cons 1 (cons 2 nil)))\n",
        "=> (1 2)\n",
        "\n",
        "(write (cons 1 (cons 'b (cons 3 nil))))\n",
        "=> (1 B 3)\n",
        "\n"
      ],
      "cell_type": "code",
      "execution_count": 0,
      "outputs": []
    },
    {
      "metadata": {
        "id": "Wxc4njWutQyF",
        "colab_type": "text"
      },
      "source": [
        "### Listas\n",
        "\n",
        "Con los siguientes ejemplos se podrá entender la construcción interna de las estructuras de lista que usa Lisp, basada en Celdas-cons\n"
      ],
      "cell_type": "markdown"
    },
    {
      "metadata": {
        "id": "5V_a9WuaVi6v",
        "colab_type": "code",
        "colab": {
          "autoexec": {
            "startup": false,
            "wait_interval": 0
          }
        }
      },
      "source": [
        ";; Esto:\n",
        "  \n",
        "(list 'a 'b 'c)\n",
        " \n",
        ";; Es lo mismo que:\n",
        " \n",
        "(cons 'a (cons 'b (cons 'c nil)))\n",
        "                   \n",
        ";; Mientras esto:\n",
        "                   \n",
        "(list 'a 'nil)\n",
        "                   \n",
        ";; Es lo mismo que:\n",
        "                   \n",
        "(cons 'a (cons nil nil))"
      ],
      "cell_type": "code",
      "execution_count": 0,
      "outputs": []
    },
    {
      "metadata": {
        "id": "-YFMASr30Bgg",
        "colab_type": "text"
      },
      "source": [
        "##Condicionales\n"
      ],
      "cell_type": "markdown"
    },
    {
      "metadata": {
        "id": "Wu8ntdlq29Bf",
        "colab_type": "text"
      },
      "source": [
        "### If\n"
      ],
      "cell_type": "markdown"
    },
    {
      "metadata": {
        "id": "2O8am3bn1fJ6",
        "colab_type": "text"
      },
      "source": [
        "La macro **if** es seguida por una expresión que al ser evalúada puede:\n",
        "\n",
        "Retornar **t** (cualquier objeto diferente de **nil**).\n",
        "\n",
        "O retornar **nil** (recordar que una lista vacía **( )** es la única representación alternativa y equivalente que existe para **nil**).\n",
        "\n",
        "Si la expresión se evalúa como **t**, se ejecuta la acción que sigue a esta expresión. \n",
        "\n",
        "Si es **nil**, entonces se evalúa la cláusula posterior."
      ],
      "cell_type": "markdown"
    },
    {
      "metadata": {
        "id": "L0A0wWXU33PO",
        "colab_type": "code",
        "colab": {
          "autoexec": {
            "startup": false,
            "wait_interval": 0
          }
        }
      },
      "source": [
        "(setq a 100)\n",
        "\n",
        "(if (> a 20)\n",
        "   (format t \"~% a is greater than 20\") \n",
        "   (format t \"~% a is less than 20\"))"
      ],
      "cell_type": "code",
      "execution_count": 0,
      "outputs": []
    },
    {
      "metadata": {
        "id": "DM61Lkqa4Eo2",
        "colab_type": "text"
      },
      "source": [
        "Lo cual al ejecutarse obtendremos como respuesta:\n"
      ],
      "cell_type": "markdown"
    },
    {
      "metadata": {
        "id": "JjaXjzBm4Irx",
        "colab_type": "code",
        "colab": {
          "autoexec": {
            "startup": false,
            "wait_interval": 0
          }
        }
      },
      "source": [
        "=> a is greater than 20"
      ],
      "cell_type": "code",
      "execution_count": 0,
      "outputs": []
    },
    {
      "metadata": {
        "id": "nMgyVlMi4o8p",
        "colab_type": "text"
      },
      "source": [
        "### When"
      ],
      "cell_type": "markdown"
    },
    {
      "metadata": {
        "id": "rDgztHXk47xE",
        "colab_type": "text"
      },
      "source": [
        "La macro **when** es seguida por una expresión que al ser evalúada puede:\n",
        "\n",
        "Retornar **t** (cualquier objeto diferente de **nil**).\n",
        "\n",
        "Si la expresión se evalúa como **t**, se ejecuta la acción que sigue a esta expresión. \n",
        "\n",
        "Sin embargo, si la expresión se evalúa como **nil**, no se evalúa ningún FORM y se devuelve **nil**; \n",
        " \n"
      ],
      "cell_type": "markdown"
    },
    {
      "metadata": {
        "id": "LBo8-2xo4vel",
        "colab_type": "code",
        "colab": {
          "autoexec": {
            "startup": false,
            "wait_interval": 0
          }
        }
      },
      "source": [
        "(setq a 100)\n",
        "(when (> a 20)\n",
        "   (format t \"~% a is greater than 20\"))\n",
        "(format t \"~% value of a is ~d \" a)"
      ],
      "cell_type": "code",
      "execution_count": 0,
      "outputs": []
    },
    {
      "metadata": {
        "id": "-KjbxPpf418c",
        "colab_type": "text"
      },
      "source": [
        "Lo cual al ejecutarse obtendremos como respuesta:\n"
      ],
      "cell_type": "markdown"
    },
    {
      "metadata": {
        "id": "3NqLzt2Y4wpX",
        "colab_type": "code",
        "colab": {
          "autoexec": {
            "startup": false,
            "wait_interval": 0
          }
        }
      },
      "source": [
        "=> a is greater than 20\n",
        "=> value of a is 100 "
      ],
      "cell_type": "code",
      "execution_count": 0,
      "outputs": []
    },
    {
      "metadata": {
        "id": "uv4xHydw6M_y",
        "colab_type": "text"
      },
      "source": [
        "### Case"
      ],
      "cell_type": "markdown"
    },
    {
      "metadata": {
        "id": "9ddCJe_P6PBD",
        "colab_type": "text"
      },
      "source": [
        "La macro **case** implementa múltiples acciónes dependiendo de una expresión. \n",
        "\n",
        "Tal como un \"switch\" en otros lenguajes, resultando un diferente valor de una expresión, permite seleccionar una de múltiples acciones basadas en el resultado de dicha expresión."
      ],
      "cell_type": "markdown"
    },
    {
      "metadata": {
        "id": "TzU0kDPm73K6",
        "colab_type": "code",
        "colab": {
          "autoexec": {
            "startup": false,
            "wait_interval": 0
          }
        }
      },
      "source": [
        "(setq day 4)\n",
        "\n",
        "  (case day\n",
        "    (1 (format t \"~% Monday\"))\n",
        "    (2 (format t \"~% Tuesday\"))\n",
        "    (3 (format t \"~% Wednesday\"))\n",
        "    (4 (format t \"~% Thursday\"))\n",
        "    (5 (format t \"~% Friday\"))\n",
        "    (6 (format t \"~% Saturday\"))\n",
        "    (7 (format t \"~% Sunday\"))\n",
        "  )"
      ],
      "cell_type": "code",
      "execution_count": 0,
      "outputs": []
    },
    {
      "metadata": {
        "id": "nnRhNkaB8FvV",
        "colab_type": "text"
      },
      "source": [
        "Tendrá como resultado:\n",
        "\n"
      ],
      "cell_type": "markdown"
    },
    {
      "metadata": {
        "id": "83AzPjx08I89",
        "colab_type": "code",
        "colab": {
          "autoexec": {
            "startup": false,
            "wait_interval": 0
          }
        }
      },
      "source": [
        "=> Thursday"
      ],
      "cell_type": "code",
      "execution_count": 0,
      "outputs": []
    },
    {
      "metadata": {
        "id": "wUURUtcN0CCg",
        "colab_type": "text"
      },
      "source": [
        "## Ciclos"
      ],
      "cell_type": "markdown"
    },
    {
      "metadata": {
        "id": "kuuS9kMT8_d8",
        "colab_type": "text"
      },
      "source": [
        "### Loop"
      ],
      "cell_type": "markdown"
    },
    {
      "metadata": {
        "id": "0nlZNYP982ct",
        "colab_type": "text"
      },
      "source": [
        "La construcción de un bucle o **loop** es la forma más simple de iteración proporcionada por LISP.\n",
        "\n",
        "En su forma más simple, permite ejecutar algunas instrucciones varias veces hasta que encuentre una instrucción de **return**."
      ],
      "cell_type": "markdown"
    },
    {
      "metadata": {
        "id": "Q2uVIoOK8jFb",
        "colab_type": "code",
        "colab": {
          "autoexec": {
            "startup": false,
            "wait_interval": 0
          }
        }
      },
      "source": [
        "(setq a 10)\n",
        "(loop \n",
        "   (setq a (+ a 1))\n",
        "   (write a)\n",
        "   (terpri)\n",
        "   (when (> a 17) (return a))\n",
        ")"
      ],
      "cell_type": "code",
      "execution_count": 0,
      "outputs": []
    },
    {
      "metadata": {
        "id": "ayWO5lB28tJH",
        "colab_type": "text"
      },
      "source": [
        "Tendrá como resultado:\n",
        "\n"
      ],
      "cell_type": "markdown"
    },
    {
      "metadata": {
        "id": "8nxUUw-M8rsp",
        "colab_type": "code",
        "colab": {
          "autoexec": {
            "startup": false,
            "wait_interval": 0
          }
        }
      },
      "source": [
        "=> 11\n",
        "=> 12\n",
        "=> 13\n",
        "=> 14\n",
        "=> 15\n",
        "=> 16\n",
        "=> 17\n",
        "=> 18"
      ],
      "cell_type": "code",
      "execution_count": 0,
      "outputs": []
    },
    {
      "metadata": {
        "id": "XVXzGyuQ9i8t",
        "colab_type": "text"
      },
      "source": [
        "### Loop for"
      ],
      "cell_type": "markdown"
    },
    {
      "metadata": {
        "id": "4iBuKjqu9qzZ",
        "colab_type": "text"
      },
      "source": [
        "El **loop-for**  permite implementar un bucle al estilo \"for\" similar a este tipo de ciclo que existe en otros lenguajes."
      ],
      "cell_type": "markdown"
    },
    {
      "metadata": {
        "id": "lrj8gMYf-xNY",
        "colab_type": "code",
        "colab": {
          "autoexec": {
            "startup": false,
            "wait_interval": 0
          }
        }
      },
      "source": [
        "(loop for x in '(tom dick harry)\n",
        "   do (format t \" ~s\" x)\n",
        ")"
      ],
      "cell_type": "code",
      "execution_count": 0,
      "outputs": []
    },
    {
      "metadata": {
        "id": "JiJVxWKtAaVg",
        "colab_type": "text"
      },
      "source": [
        "Tendrá como resultado:"
      ],
      "cell_type": "markdown"
    },
    {
      "metadata": {
        "id": "2UG7rKlA_Js0",
        "colab_type": "code",
        "colab": {
          "autoexec": {
            "startup": false,
            "wait_interval": 0
          }
        }
      },
      "source": [
        "=> TOM DICK HARRY"
      ],
      "cell_type": "code",
      "execution_count": 0,
      "outputs": []
    },
    {
      "metadata": {
        "id": "UHRvS1gAAb8x",
        "colab_type": "text"
      },
      "source": [
        "Tendrá como resultado:"
      ],
      "cell_type": "markdown"
    },
    {
      "metadata": {
        "id": "0ZMVlJi-_Lgs",
        "colab_type": "code",
        "colab": {
          "autoexec": {
            "startup": false,
            "wait_interval": 0
          }
        }
      },
      "source": [
        "(loop for a from 10 to 20\n",
        "   do (print a)\n",
        ")"
      ],
      "cell_type": "code",
      "execution_count": 0,
      "outputs": []
    },
    {
      "metadata": {
        "id": "4y9RYckaAeGS",
        "colab_type": "text"
      },
      "source": [
        "Tendrá como resultado:"
      ],
      "cell_type": "markdown"
    },
    {
      "metadata": {
        "id": "DbpcaPcp_TWS",
        "colab_type": "code",
        "colab": {
          "autoexec": {
            "startup": false,
            "wait_interval": 0
          }
        }
      },
      "source": [
        "=> 10 \n",
        "=> 11 \n",
        "=> 12 \n",
        "=> 13 \n",
        "=> 14 \n",
        "=> 15 \n",
        "=> 16 \n",
        "=> 17 \n",
        "=> 18 \n",
        "=> 19 \n",
        "=> 20"
      ],
      "cell_type": "code",
      "execution_count": 0,
      "outputs": []
    },
    {
      "metadata": {
        "id": "0q5o9VGIA3t6",
        "colab_type": "text"
      },
      "source": [
        "### dotimes"
      ],
      "cell_type": "markdown"
    },
    {
      "metadata": {
        "id": "x5PSl-8rB2-H",
        "colab_type": "text"
      },
      "source": [
        "La macro **dotimes** permite ciclos para un número fijo de iteraciones.\n",
        "\n",
        "Por ejemplo:"
      ],
      "cell_type": "markdown"
    },
    {
      "metadata": {
        "id": "vqdxQ_DLB4WP",
        "colab_type": "code",
        "colab": {
          "autoexec": {
            "startup": false,
            "wait_interval": 0
          }
        }
      },
      "source": [
        "(dotimes (n 11)\n",
        "   (print n) (prin1 (* n n))\n",
        ")"
      ],
      "cell_type": "code",
      "execution_count": 0,
      "outputs": []
    },
    {
      "metadata": {
        "id": "Ktudbx0zCH0_",
        "colab_type": "text"
      },
      "source": [
        "Tendrá como resultado:"
      ],
      "cell_type": "markdown"
    },
    {
      "metadata": {
        "id": "0-dXVmSVCD3l",
        "colab_type": "code",
        "colab": {
          "autoexec": {
            "startup": false,
            "wait_interval": 0
          }
        }
      },
      "source": [
        "=> 0 0\n",
        "=> 1 1\n",
        "=> 2 4\n",
        "=> 3 9\n",
        "=> 4 16\n",
        "=> 5 25\n",
        "=> 6 36\n",
        "=> 7 49\n",
        "=> 8 64\n",
        "=> 9 81\n",
        "=> 10 100"
      ],
      "cell_type": "code",
      "execution_count": 0,
      "outputs": []
    },
    {
      "metadata": {
        "id": "QiBwTqM-DX-p",
        "colab_type": "text"
      },
      "source": [
        "### dolist"
      ],
      "cell_type": "markdown"
    },
    {
      "metadata": {
        "id": "WGfDvoXnDZil",
        "colab_type": "text"
      },
      "source": [
        "La macro **dolist** permite la iteración a través de cada elemento de una lista.\n",
        "\n",
        "Ejemplo:"
      ],
      "cell_type": "markdown"
    },
    {
      "metadata": {
        "id": "y1R8_QbZDgaV",
        "colab_type": "code",
        "colab": {
          "autoexec": {
            "startup": false,
            "wait_interval": 0
          }
        }
      },
      "source": [
        "(dolist (n '(1 2 3 4 5 6 7 8 9))\n",
        "   (format t \"~% Number: ~d Square: ~d\" n (* n n))\n",
        ")"
      ],
      "cell_type": "code",
      "execution_count": 0,
      "outputs": []
    },
    {
      "metadata": {
        "id": "18dOvY0dDiE-",
        "colab_type": "text"
      },
      "source": [
        "\n",
        "Tendrá como resultado:"
      ],
      "cell_type": "markdown"
    },
    {
      "metadata": {
        "id": "J9t3UKpIDjFX",
        "colab_type": "code",
        "colab": {
          "autoexec": {
            "startup": false,
            "wait_interval": 0
          }
        }
      },
      "source": [
        "=> Number: 1 Square: 1\n",
        "=> Number: 2 Square: 4\n",
        "=> Number: 3 Square: 9\n",
        "=> Number: 4 Square: 16\n",
        "=> Number: 5 Square: 25\n",
        "=> Number: 6 Square: 36\n",
        "=> Number: 7 Square: 49\n",
        "=> Number: 8 Square: 64\n",
        "=> Number: 9 Square: 81"
      ],
      "cell_type": "code",
      "execution_count": 0,
      "outputs": []
    },
    {
      "metadata": {
        "id": "LQgx8STMscxI",
        "colab_type": "text"
      },
      "source": [
        "## Funciones\n"
      ],
      "cell_type": "markdown"
    },
    {
      "metadata": {
        "id": "tuhji8JNFRNS",
        "colab_type": "text"
      },
      "source": [
        "Una función es un grupo de declaraciones que juntas realizan una tarea.\n",
        "\n",
        "Puedes dividir tu código en diferentes funciones. La forma de dividir el código entre diferentes funciones depende de usted, pero esta división generalmente se recomienda  así para que cada función realice una sola tarea específica y bien.\n",
        "\n",
        "---\n",
        "\n",
        "La macro  **defun** se usa para definir las funciones en Lisp. Esta macro necesita tres argumentos:\n",
        "\n",
        "* Nombre de la función\n",
        "* Parámetros de la función\n",
        "* Cuerpo de la función\n",
        "\n",
        "Una función que calcule el promedio de 4 números se vería así:\n"
      ],
      "cell_type": "markdown"
    },
    {
      "metadata": {
        "id": "InOgryxsGtbd",
        "colab_type": "code",
        "colab": {
          "autoexec": {
            "startup": false,
            "wait_interval": 0
          }
        }
      },
      "source": [
        "(defun averagenum (n1 n2 n3 n4)\n",
        "   (/ ( + n1 n2 n3 n4) 4)\n",
        ")\n",
        "\n",
        "\n",
        "(write(averagenum 10 20 30 40))"
      ],
      "cell_type": "code",
      "execution_count": 0,
      "outputs": []
    },
    {
      "metadata": {
        "id": "ViaZGR-UG2dL",
        "colab_type": "text"
      },
      "source": [
        "  \n",
        "Tendrá como resultado:"
      ],
      "cell_type": "markdown"
    },
    {
      "metadata": {
        "id": "I0UVF4VwG3KS",
        "colab_type": "code",
        "colab": {
          "autoexec": {
            "startup": false,
            "wait_interval": 0
          }
        }
      },
      "source": [
        "=> 25"
      ],
      "cell_type": "code",
      "execution_count": 0,
      "outputs": []
    },
    {
      "metadata": {
        "id": "_15lQZOwLG8G",
        "colab_type": "text"
      },
      "source": [
        "Otro ejemplo en el que ahora pretendemos calcular el área de un circulo sería:\n"
      ],
      "cell_type": "markdown"
    },
    {
      "metadata": {
        "id": "PTH37o7bLSqG",
        "colab_type": "code",
        "colab": {
          "autoexec": {
            "startup": false,
            "wait_interval": 0
          }
        }
      },
      "source": [
        "(defun area-circle(rad)\n",
        "   \"Calculates area of a circle with given radius\"\n",
        "   (terpri)\n",
        "   (format t \"Radius: ~5f\" rad)\n",
        "   (format t \"~%Area: ~10f\" (* 3.141592 rad rad))\n",
        ")\n",
        "\n",
        "\n",
        "(area-circle 10)"
      ],
      "cell_type": "code",
      "execution_count": 0,
      "outputs": []
    },
    {
      "metadata": {
        "id": "UmgvXIWWLO1j",
        "colab_type": "text"
      },
      "source": [
        "Tendrá como resultado:"
      ],
      "cell_type": "markdown"
    },
    {
      "metadata": {
        "id": "va88qUDlLZJY",
        "colab_type": "code",
        "colab": {
          "autoexec": {
            "startup": false,
            "wait_interval": 0
          }
        }
      },
      "source": [
        "=> Radius:  10.0\n",
        "=> Area:   314.1592"
      ],
      "cell_type": "code",
      "execution_count": 0,
      "outputs": []
    },
    {
      "metadata": {
        "id": "xgbPlm5mIApS",
        "colab_type": "text"
      },
      "source": [
        "### Funciones lambda"
      ],
      "cell_type": "markdown"
    },
    {
      "metadata": {
        "id": "l3eqaokhItmb",
        "colab_type": "text"
      },
      "source": [
        "A veces puede ser necesario crear una función en un solo punto del programa, una función tan trivial que ni siquiera necesite un nombre, o que no se quiera almacenarla en la tabla de símbolos, y se prefiera escribir una función sin nombre o anónima.\n",
        "\n",
        "LISP permite escribir funciones anónimas que se evalúan solamente cuando la línea de ejecución las encuentra.\n",
        "\n",
        "Estas funciones se llaman **funciones Lambda**.\n"
      ],
      "cell_type": "markdown"
    },
    {
      "metadata": {
        "id": "dCOPHTQ0Ido5",
        "colab_type": "code",
        "colab": {
          "autoexec": {
            "startup": false,
            "wait_interval": 0
          }
        }
      },
      "source": [
        "(write ((lambda (a b c x)       ;Firma de la función \n",
        "   (+ (* a (* x x)) (* b x) c)) ;procesamiento a estos números de algúna manera\n",
        "   4 2 9 3)   ; Valores pasados a la función\n",
        ")"
      ],
      "cell_type": "code",
      "execution_count": 0,
      "outputs": []
    },
    {
      "metadata": {
        "id": "XGRL5w76J7hP",
        "colab_type": "text"
      },
      "source": [
        "En este caso tendrá como resultado:"
      ],
      "cell_type": "markdown"
    },
    {
      "metadata": {
        "id": "ke18papdJ_FI",
        "colab_type": "code",
        "colab": {
          "autoexec": {
            "startup": false,
            "wait_interval": 0
          }
        }
      },
      "source": [
        "=> 51"
      ],
      "cell_type": "code",
      "execution_count": 0,
      "outputs": []
    },
    {
      "metadata": {
        "id": "24BTbrerscxg",
        "colab_type": "text"
      },
      "source": [
        "### Recursión\n",
        "\n"
      ],
      "cell_type": "markdown"
    },
    {
      "metadata": {
        "id": "C7ymYWXaKabP",
        "colab_type": "text"
      },
      "source": [
        "Teniendo la bien conocida función Factorial(n) a continuación tenemos una implementación usando ciclos"
      ],
      "cell_type": "markdown"
    },
    {
      "metadata": {
        "id": "xfYqOxi9Qf7q",
        "colab_type": "code",
        "colab": {
          "autoexec": {
            "startup": false,
            "wait_interval": 0
          }
        }
      },
      "source": [
        "\n",
        " (defun factorial (n)\n",
        "   (loop for i from 1 to n\n",
        "         for fac = 1 then (* fac i)\n",
        "         finally (return fac)))"
      ],
      "cell_type": "code",
      "execution_count": 0,
      "outputs": []
    },
    {
      "metadata": {
        "id": "hTc1umXnKnVM",
        "colab_type": "text"
      },
      "source": [
        "Pero Lisp nos ofrece también la capacidad de poder escribir este código en forma de una función recursiva:"
      ],
      "cell_type": "markdown"
    },
    {
      "metadata": {
        "id": "NcVboh71OdsV",
        "colab_type": "code",
        "colab": {
          "autoexec": {
            "startup": false,
            "wait_interval": 0
          }
        }
      },
      "source": [
        " (defun factorial (n)\n",
        "   (if (= n 0) 1\n",
        "       (* n (factorial (- n 1)))))"
      ],
      "cell_type": "code",
      "execution_count": 0,
      "outputs": []
    },
    {
      "metadata": {
        "id": "_YYTG0inLo8q",
        "colab_type": "text"
      },
      "source": [
        "## Escribir y leer archivos"
      ],
      "cell_type": "markdown"
    },
    {
      "metadata": {
        "id": "ycTGfQYaLsUX",
        "colab_type": "text"
      },
      "source": [
        "La macro  **with-open-file** permite leer o escribir en un archivo, utilizando la variable **stream** asociada a las transacciónes de lectura/escritura. \n",
        "\n",
        "Una vez que el trabajo está hecho, cierra automáticamente el archivo. Es muy cómoda de usar."
      ],
      "cell_type": "markdown"
    },
    {
      "metadata": {
        "id": "SAAR5jH_Meam",
        "colab_type": "code",
        "colab": {
          "autoexec": {
            "startup": false,
            "wait_interval": 0
          }
        }
      },
      "source": [
        "(with-open-file (stream \"./myfile.txt\" :direction :output)\n",
        "   (format stream \"Bienvenido al tutorial de Lisp!\")\n",
        "   (terpri stream)\n",
        "   (format stream \"Este es un archivo del tutorial\")\n",
        "   (terpri stream)\n",
        "   (format stream \"Última línea del archivo.\")\n",
        ")"
      ],
      "cell_type": "code",
      "execution_count": 0,
      "outputs": []
    },
    {
      "metadata": {
        "id": "vhchEqQaNCei",
        "colab_type": "text"
      },
      "source": [
        "Cuando se ejecuta este código no se devuelve nada.\n",
        "\n",
        "Sin embargo, nuestros datos están escritos en el archivo especificado. Las palabras clave :direction :output nos permiten hacer esto.\n"
      ],
      "cell_type": "markdown"
    },
    {
      "metadata": {
        "id": "gQTJrtErNnLe",
        "colab_type": "text"
      },
      "source": [
        "**Si posterior al anterior código, se ejecuta lo siguiente:**"
      ],
      "cell_type": "markdown"
    },
    {
      "metadata": {
        "id": "edzTWtiONst4",
        "colab_type": "code",
        "colab": {
          "autoexec": {
            "startup": false,
            "wait_interval": 0
          }
        }
      },
      "source": [
        "(let ((in (open \"./myfile.txt\" :if-does-not-exist nil)))\n",
        "   (when in\n",
        "      (loop for line = (read-line in nil)\n",
        "      \n",
        "      while line do (format t \"~a~%\" line))\n",
        "      (close in)\n",
        "   )\n",
        ")"
      ],
      "cell_type": "code",
      "execution_count": 0,
      "outputs": []
    },
    {
      "metadata": {
        "id": "57877_7XOZWx",
        "colab_type": "text"
      },
      "source": [
        "Tendrá como resultado:"
      ],
      "cell_type": "markdown"
    },
    {
      "metadata": {
        "id": "-I0pSGGAOaSL",
        "colab_type": "code",
        "colab": {
          "autoexec": {
            "startup": false,
            "wait_interval": 0
          }
        }
      },
      "source": [
        "=> Bienvenido al tutorial de Lisp!\n",
        "=> Este es un archivo del tutorial\n",
        "=> Última línea del archivo."
      ],
      "cell_type": "code",
      "execution_count": 0,
      "outputs": []
    },
    {
      "metadata": {
        "id": "WdSNlgrGscyK",
        "colab_type": "text"
      },
      "source": [
        "## Referencias\n"
      ],
      "cell_type": "markdown"
    },
    {
      "metadata": {
        "id": "iu_PE-aOO3JA",
        "colab_type": "text"
      },
      "source": [
        "* [http://learnlispthehardway.org/book/](http://learnlispthehardway.org/book/)\n",
        "\n",
        "* [https://www.tutorialspoint.com/lisp/](https://www.tutorialspoint.com/lisp/)\n",
        "\n",
        "* [http://landoflisp.com/](http://landoflisp.com/)  \n",
        "\n"
      ],
      "cell_type": "markdown"
    }
  ]
}