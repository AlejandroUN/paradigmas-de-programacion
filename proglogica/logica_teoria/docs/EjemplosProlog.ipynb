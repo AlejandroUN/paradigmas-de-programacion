{
  "cells": [
    {
      "cell_type": "markdown",
      "source": [
        "Instalar kernel calysto_prolog"
      ],
      "metadata": {
        "id": "iPm2_H0Hugqc"
      },
      "id": "iPm2_H0Hugqc"
    },
    {
      "cell_type": "code",
      "source": [
        "!pip install --upgrade calysto_prolog\n",
        "!python -m calysto_prolog install"
      ],
      "metadata": {
        "colab": {
          "base_uri": "https://localhost:8080/"
        },
        "id": "TCNr5qEvm5Wx",
        "outputId": "285d0740-07ab-4629-fa7c-dd4d0e27b915"
      },
      "id": "TCNr5qEvm5Wx",
      "execution_count": 1,
      "outputs": [
        {
          "output_type": "stream",
          "name": "stdout",
          "text": [
            "Looking in indexes: https://pypi.org/simple, https://us-python.pkg.dev/colab-wheels/public/simple/\n",
            "\n",
            "\n",
            "Requirement already satisfied: calysto_prolog in /usr/local/lib/python3.7/dist-packages (0.8.4)\n",
            "\n",
            "\n",
            "Requirement already satisfied: metakernel in /usr/local/lib/python3.7/dist-packages (from calysto_prolog) (0.29.0)\n",
            "\n",
            "\n",
            "Requirement already satisfied: jedi>=0.18 in /usr/local/lib/python3.7/dist-packages (from metakernel->calysto_prolog) (0.18.1)\n",
            "\n",
            "\n",
            "Requirement already satisfied: ipykernel>=5.5.6 in /usr/local/lib/python3.7/dist-packages (from metakernel->calysto_prolog) (6.13.1)\n",
            "\n",
            "\n",
            "Requirement already satisfied: pexpect>=4.8 in /usr/local/lib/python3.7/dist-packages (from metakernel->calysto_prolog) (4.8.0)\n",
            "\n",
            "\n",
            "Requirement already satisfied: jupyter-core>=4.9.2 in /usr/local/lib/python3.7/dist-packages (from metakernel->calysto_prolog) (4.10.0)\n",
            "\n",
            "\n",
            "Requirement already satisfied: debugpy>=1.0 in /usr/local/lib/python3.7/dist-packages (from ipykernel>=5.5.6->metakernel->calysto_prolog) (1.0.0)\n",
            "\n",
            "\n",
            "Requirement already satisfied: matplotlib-inline>=0.1 in /usr/local/lib/python3.7/dist-packages (from ipykernel>=5.5.6->metakernel->calysto_prolog) (0.1.3)\n",
            "\n",
            "\n",
            "Requirement already satisfied: nest-asyncio in /usr/local/lib/python3.7/dist-packages (from ipykernel>=5.5.6->metakernel->calysto_prolog) (1.5.5)\n",
            "\n",
            "\n",
            "Requirement already satisfied: tornado>=6.1 in /usr/local/lib/python3.7/dist-packages (from ipykernel>=5.5.6->metakernel->calysto_prolog) (6.1)\n",
            "\n",
            "\n",
            "Requirement already satisfied: jupyter-client>=6.1.12 in /usr/local/lib/python3.7/dist-packages (from ipykernel>=5.5.6->metakernel->calysto_prolog) (7.3.4)\n",
            "\n",
            "\n",
            "Requirement already satisfied: packaging in /usr/local/lib/python3.7/dist-packages (from ipykernel>=5.5.6->metakernel->calysto_prolog) (21.3)\n",
            "\n",
            "\n",
            "Requirement already satisfied: psutil in /usr/local/lib/python3.7/dist-packages (from ipykernel>=5.5.6->metakernel->calysto_prolog) (5.4.8)\n",
            "\n",
            "\n",
            "Requirement already satisfied: traitlets>=5.1.0 in /usr/local/lib/python3.7/dist-packages (from ipykernel>=5.5.6->metakernel->calysto_prolog) (5.1.1)\n",
            "\n",
            "\n",
            "Requirement already satisfied: ipython>=7.23.1 in /usr/local/lib/python3.7/dist-packages (from ipykernel>=5.5.6->metakernel->calysto_prolog) (7.34.0)\n",
            "\n",
            "\n",
            "Requirement already satisfied: setuptools>=18.5 in /usr/local/lib/python3.7/dist-packages (from ipython>=7.23.1->ipykernel>=5.5.6->metakernel->calysto_prolog) (57.4.0)\n",
            "\n",
            "\n",
            "Requirement already satisfied: backcall in /usr/local/lib/python3.7/dist-packages (from ipython>=7.23.1->ipykernel>=5.5.6->metakernel->calysto_prolog) (0.2.0)\n",
            "\n",
            "\n",
            "Requirement already satisfied: decorator in /usr/local/lib/python3.7/dist-packages (from ipython>=7.23.1->ipykernel>=5.5.6->metakernel->calysto_prolog) (4.4.2)\n",
            "\n",
            "\n",
            "Requirement already satisfied: pickleshare in /usr/local/lib/python3.7/dist-packages (from ipython>=7.23.1->ipykernel>=5.5.6->metakernel->calysto_prolog) (0.7.5)\n",
            "\n",
            "\n",
            "Requirement already satisfied: pygments in /usr/local/lib/python3.7/dist-packages (from ipython>=7.23.1->ipykernel>=5.5.6->metakernel->calysto_prolog) (2.6.1)\n",
            "\n",
            "\n",
            "Requirement already satisfied: prompt-toolkit!=3.0.0,!=3.0.1,<3.1.0,>=2.0.0 in /usr/local/lib/python3.7/dist-packages (from ipython>=7.23.1->ipykernel>=5.5.6->metakernel->calysto_prolog) (3.0.29)\n",
            "\n",
            "\n",
            "Requirement already satisfied: parso<0.9.0,>=0.8.0 in /usr/local/lib/python3.7/dist-packages (from jedi>=0.18->metakernel->calysto_prolog) (0.8.3)\n",
            "\n",
            "\n",
            "Requirement already satisfied: entrypoints in /usr/local/lib/python3.7/dist-packages (from jupyter-client>=6.1.12->ipykernel>=5.5.6->metakernel->calysto_prolog) (0.4)\n",
            "\n",
            "\n",
            "Requirement already satisfied: python-dateutil>=2.8.2 in /usr/local/lib/python3.7/dist-packages (from jupyter-client>=6.1.12->ipykernel>=5.5.6->metakernel->calysto_prolog) (2.8.2)\n",
            "\n",
            "\n",
            "Requirement already satisfied: pyzmq>=23.0 in /usr/local/lib/python3.7/dist-packages (from jupyter-client>=6.1.12->ipykernel>=5.5.6->metakernel->calysto_prolog) (23.0.0)\n",
            "\n",
            "\n",
            "Requirement already satisfied: ptyprocess>=0.5 in /usr/local/lib/python3.7/dist-packages (from pexpect>=4.8->metakernel->calysto_prolog) (0.7.0)\n",
            "\n",
            "\n",
            "Requirement already satisfied: wcwidth in /usr/local/lib/python3.7/dist-packages (from prompt-toolkit!=3.0.0,!=3.0.1,<3.1.0,>=2.0.0->ipython>=7.23.1->ipykernel>=5.5.6->metakernel->calysto_prolog) (0.2.5)\n",
            "\n",
            "\n",
            "Requirement already satisfied: six>=1.5 in /usr/local/lib/python3.7/dist-packages (from python-dateutil>=2.8.2->jupyter-client>=6.1.12->ipykernel>=5.5.6->metakernel->calysto_prolog) (1.15.0)\n",
            "\n",
            "\n",
            "Requirement already satisfied: pyparsing!=3.0.5,>=2.0.2 in /usr/local/lib/python3.7/dist-packages (from packaging->ipykernel>=5.5.6->metakernel->calysto_prolog) (3.0.9)\n",
            "\n",
            "\n",
            "[InstallKernelSpec] Removing existing kernelspec in /usr/local/share/jupyter/kernels/calysto_prolog\n",
            "\n",
            "\n",
            "[InstallKernelSpec] Installed kernelspec calysto_prolog in /usr/local/share/jupyter/kernels/calysto_prolog\n",
            "\n",
            "\n"
          ]
        }
      ]
    },
    {
      "cell_type": "markdown",
      "source": [
        "Definición hechos y reglas."
      ],
      "metadata": {
        "id": "9c6eUpJ4ulsy"
      },
      "id": "9c6eUpJ4ulsy"
    },
    {
      "cell_type": "code",
      "execution_count": 2,
      "id": "foster-italic",
      "metadata": {
        "colab": {
          "base_uri": "https://localhost:8080/"
        },
        "id": "foster-italic",
        "outputId": "2737d5a3-1f1e-4c5f-9cdc-fd5590ce2e39"
      },
      "outputs": [
        {
          "output_type": "stream",
          "name": "stdout",
          "text": [
            "Rule added to database.\n",
            "Rule added to database.\n",
            "Rule added to database.\n",
            "Rule added to database.\n",
            "Rule added to database.\n",
            "Rule added to database.\n",
            "Rule added to database.\n",
            "Rule added to database.\n",
            "Rule added to database.\n"
          ]
        }
      ],
      "source": [
        "    child(stephanie).\n",
        "    child(thad).\n",
        "    mother_child(trude, sally).\n",
        " \n",
        "    father_child(tom, sally).\n",
        "    father_child(tom, erica).\n",
        "    father_child(mike, tom).\n",
        " \n",
        "    sibling(X, Y)      :- parent_child(Z, X), parent_child(Z, Y).\n",
        " \n",
        "    parent_child(X, Y) :- father_child(X, Y).\n",
        "    parent_child(X, Y) :- mother_child(X, Y)."
      ]
    },
    {
      "cell_type": "markdown",
      "source": [
        "Consultas"
      ],
      "metadata": {
        "id": "VpVycYkeuuMX"
      },
      "id": "VpVycYkeuuMX"
    },
    {
      "cell_type": "code",
      "execution_count": 3,
      "id": "endless-savannah",
      "metadata": {
        "colab": {
          "base_uri": "https://localhost:8080/"
        },
        "id": "endless-savannah",
        "outputId": "b766dabc-4552-4e2d-e5ff-7292acd0108e"
      },
      "outputs": [
        {
          "output_type": "stream",
          "name": "stdout",
          "text": [
            "Use '%continue' for more results.\n"
          ]
        },
        {
          "output_type": "execute_result",
          "data": {
            "text/plain": [
              "{'NAME': stephanie}"
            ]
          },
          "metadata": {},
          "execution_count": 3
        }
      ],
      "source": [
        "child(NAME)?"
      ]
    },
    {
      "cell_type": "code",
      "execution_count": 4,
      "id": "inner-polyester",
      "metadata": {
        "colab": {
          "base_uri": "https://localhost:8080/"
        },
        "id": "inner-polyester",
        "outputId": "72c6e2dc-543f-4edc-c5f4-776628d9a1f5"
      },
      "outputs": [
        {
          "output_type": "stream",
          "name": "stdout",
          "text": [
            "Use '%continue' for more results.\n"
          ]
        },
        {
          "output_type": "execute_result",
          "data": {
            "text/plain": [
              "{'Father': tom, 'Child': sally}"
            ]
          },
          "metadata": {},
          "execution_count": 4
        }
      ],
      "source": [
        "father_child(Father, Child)?"
      ]
    },
    {
      "cell_type": "markdown",
      "source": [
        "Cada ejecución de %continue devuelve un nuevo resultado."
      ],
      "metadata": {
        "id": "fFVV2Vo7uv6-"
      },
      "id": "fFVV2Vo7uv6-"
    },
    {
      "cell_type": "code",
      "execution_count": 5,
      "id": "agreed-patio",
      "metadata": {
        "colab": {
          "base_uri": "https://localhost:8080/"
        },
        "id": "agreed-patio",
        "outputId": "cbd9c6ea-0479-4abe-f34c-d3d35f031996"
      },
      "outputs": [
        {
          "output_type": "stream",
          "name": "stdout",
          "text": [
            "Use '%continue' for more results.\n"
          ]
        },
        {
          "output_type": "execute_result",
          "data": {
            "text/plain": [
              "{'Father': tom, 'Child': erica}"
            ]
          },
          "metadata": {},
          "execution_count": 5
        }
      ],
      "source": [
        "%continue"
      ]
    }
  ],
  "metadata": {
    "kernelspec": {
      "display_name": "Calysto Prolog",
      "language": "prolog",
      "name": "calysto_prolog"
    },
    "language_info": {
      "codemirror_mode": {
        "name": "prolog"
      },
      "mimetype": "text/x-prolog",
      "name": "prolog",
      "pygments_lexer": "prolog"
    },
    "colab": {
      "name": "EjemplosProlog.ipynb",
      "provenance": [],
      "collapsed_sections": []
    }
  },
  "nbformat": 4,
  "nbformat_minor": 5
}